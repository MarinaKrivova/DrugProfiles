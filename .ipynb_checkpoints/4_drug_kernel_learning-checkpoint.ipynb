{
 "cells": [
  {
   "cell_type": "code",
   "execution_count": 10,
   "metadata": {},
   "outputs": [],
   "source": [
    "import pandas as pd\n",
    "import numpy as np\n",
    "import seaborn as sns\n",
    "import matplotlib.pyplot as plt\n",
    "%matplotlib inline\n",
    "from sklearn.metrics import r2_score\n",
    "from scipy.optimize import curve_fit\n",
    "from scipy.optimize import leastsq\n",
    "import scipy.optimize as opt\n",
    "from tqdm import tqdm\n",
    "import warnings\n",
    "warnings.filterwarnings(\"ignore\")\n",
    "\n",
    "from sklearn.kernel_ridge import KernelRidge\n",
    "from sklearn.model_selection import train_test_split\n",
    "from sklearn.metrics import mean_squared_error\n",
    "from sklearn.metrics import mean_absolute_error"
   ]
  },
  {
   "cell_type": "code",
   "execution_count": 11,
   "metadata": {},
   "outputs": [],
   "source": [
    "import os\n",
    "from data_preprocessing import FilteringCurves, ShowResponseCurves\n",
    "from fitting_curves import FittingColumn, ShowResponseCurvesWithFitting, compute_r2_score\n",
    "_FOLDER = \"./data/\""
   ]
  },
  {
   "cell_type": "raw",
   "metadata": {},
   "source": [
    "Cell_Line_Features_PANCAN_simple_MOBEM.xlsx and Cell_Line_Features_PANCAN_simple_MOBEM.tsv are the same!!!"
   ]
  },
  {
   "cell_type": "markdown",
   "metadata": {},
   "source": [
    "### normalised_dose_response_data.csv"
   ]
  },
  {
   "cell_type": "code",
   "execution_count": 12,
   "metadata": {},
   "outputs": [
    {
     "data": {
      "text/plain": [
       "(225384, 44)"
      ]
     },
     "execution_count": 12,
     "metadata": {},
     "output_type": "execute_result"
    }
   ],
   "source": [
    "drug_curves = pd.read_csv(_FOLDER+\"normalised_dose_response_data.csv\")\n",
    "drug_curves.shape"
   ]
  },
  {
   "cell_type": "code",
   "execution_count": 13,
   "metadata": {},
   "outputs": [],
   "source": [
    "conc_columns= [\"fd_num_\"+str(i) for i in range(10)]\n",
    "response_norm = ['norm_cells_'+str(i) for i in range(10)]"
   ]
  },
  {
   "cell_type": "markdown",
   "metadata": {},
   "source": [
    "### Filtering"
   ]
  },
  {
   "cell_type": "markdown",
   "metadata": {},
   "source": [
    "**Filtering_curves**\n",
    "<br>(df, response_columns, filtering_scenario = [1,2,3], \n",
    "     first_columns_to_compare = [1, 2], last_columns_to_compare = [-1, -2], tolerance=0.05, \n",
    "     first_points_lower_limit = 0.8, last_points_upper_limit = 0.4)\n",
    "\n",
    "    filtering_scenario = [1,2,3]\n",
    "    1. Ensure that all the response are less than 1\n",
    "    \n",
    "    2. Ensure that first and last points form a plateu\n",
    "    the minimal number of points are specified in the function arguments\n",
    "    by default, two points for both lpateus are considered\n",
    "    tolerance =0.05 values to ensure the points form a plateu\n",
    "    first_columns_to_compare = [1, 2]  - first two columns for plateu\n",
    "    last_columns_to_compare = [-1, -2] - last two columns for plateu\n",
    "    \n",
    "    3. Specify location of the plateus - first_points_lower_limit and last_points_upper_limit"
   ]
  },
  {
   "cell_type": "code",
   "execution_count": 14,
   "metadata": {},
   "outputs": [],
   "source": [
    "def FittedData(df, x_columns, y_columns, fitting_function, parameters_guess=[], default_param_number=0):\n",
    "    \n",
    "    r2, fit_param = FittingColumn(df, df.index, x_columns, y_columns, fitting_function, default_param_number=4)\n",
    "    df[\"fitting_r2\"] = r2\n",
    "    df[\"fitting_param\"] = fit_param\n",
    "    df= df[df[\"fitting_r2\"]!=0]\n",
    "    return df\n",
    "\n",
    "def TransposeCellFeatures(df, indexes_first_column = True):\n",
    "    # columns in cell_features correspond to drug_curves[\"COSMIC_ID\"] == cell line id\n",
    "    if indexes_first_column:\n",
    "        df_transfromed = pd.DataFrame(data= df[df.columns[1:]].values.T,\n",
    "                          index= df.columns[1:], columns= df[df.columns[0]].values)\n",
    "    else:\n",
    "        print(\"The logic of this function is not applicable\")\n",
    "        \n",
    "    return df_transfromed \n",
    "\n",
    "def PrepareDrugMerge(df):\n",
    "    \"\"\"Column fitting_param is splitted into separate columns \"\"\"\n",
    "    conc_columns= [\"fd_num_\"+str(i) for i in range(10)]\n",
    "    response_norm = ['norm_cells_'+str(i) for i in range(10)]\n",
    "    param_cols = [\"DRUG_ID\"] + conc_columns + response_norm\n",
    "    for i in range(len(df['fitting_param'].values[0])):\n",
    "        param_col = \"param_\"+str(i+1)\n",
    "        param_cols.append(param_col)\n",
    "        df[param_col] = df['fitting_param'].apply(lambda x: x[i])\n",
    "    param_cols.insert(0, \"COSMIC_ID\")\n",
    "    return df[param_cols]\n",
    "    \n",
    "\n",
    "def MergeDrugCells(df_drugs, df_cells):\n",
    "    cell_features_T = TransposeCellFeatures(df_cells)\n",
    "    cell_features_T.index = np.array(cell_features_T.index, dtype = \"int\")\n",
    "    \n",
    "    # Not all the drugs from filtered dataset are present in cell lines features\n",
    "    common_cells_drug = list(set(np.array(df_cells.columns[1:], dtype=\"int\"))& set(df_drugs[\"COSMIC_ID\"].values))\n",
    "    \n",
    "    # print(\"Number of drugs in filtered dataset:\", df_328[\"COSMIC_ID\"].nunique())\n",
    "    # print(\"Number of common drugs in both datasets\", len(common_cells_drug328))\n",
    "\n",
    "    cell_lines = cell_features_T.loc[common_cells_drug, :].reset_index()\n",
    "    cell_lines.rename(columns = {\"index\": \"COSMIC_ID\"}, inplace=True)\n",
    "    \n",
    "    df_drug_param = PrepareDrugMerge(df_drugs)\n",
    "\n",
    "#     param_cols = []\n",
    "#     df= df_328.copy()\n",
    "#     for i in range(4):\n",
    "#         param_col = \"param_\"+str(i+1)\n",
    "#         param_cols.append(param_col)\n",
    "#         df[param_col] = df['fitting_param'].apply(lambda x: x[i])\n",
    "\n",
    "#     param_cols.insert(0, \"COSMIC_ID\")\n",
    "    \n",
    "    # merge drug profile data (fitted parameters) and cell line features\n",
    "    return pd.merge(left=df_drug_param, right = cell_lines, on = \"COSMIC_ID\") "
   ]
  },
  {
   "cell_type": "code",
   "execution_count": 15,
   "metadata": {},
   "outputs": [
    {
     "name": "stdout",
     "output_type": "stream",
     "text": [
      "Original dataset: (225384, 44)\n",
      "1 filtration (Ensure that all the response are less than 1): Filtered dataset: (63325, 44)\n",
      "2d filtration (Ensure that first and last points form plateus): Filtered dataset: (6321, 46)\n",
      "3d stage filtration (Specified location of the plateus): Filtered dataset: (2776, 46)\n",
      "CPU times: user 804 ms, sys: 160 ms, total: 963 ms\n",
      "Wall time: 974 ms\n"
     ]
    }
   ],
   "source": [
    "%%time\n",
    "df123 = FilteringCurves(drug_curves, response_norm, first_points_lower_limit = 0.8, last_points_upper_limit = 0.4)"
   ]
  },
  {
   "cell_type": "code",
   "execution_count": 16,
   "metadata": {},
   "outputs": [
    {
     "name": "stderr",
     "output_type": "stream",
     "text": [
      "100%|██████████| 2776/2776 [00:09<00:00, 287.51it/s]\n"
     ]
    },
    {
     "name": "stdout",
     "output_type": "stream",
     "text": [
      "Fitted data with removed unfit (2749, 48)\n"
     ]
    }
   ],
   "source": [
    "not_fitted_df = df123.copy()\n",
    "fitting_function = \"sigmoid_4_param\"\n",
    "df = FittedData(not_fitted_df, x_columns=conc_columns, y_columns= response_norm, \n",
    "                fitting_function=fitting_function, default_param_number=4)\n",
    "print(\"Fitted data with removed unfit\", df.shape)"
   ]
  },
  {
   "cell_type": "code",
   "execution_count": 19,
   "metadata": {},
   "outputs": [
    {
     "name": "stdout",
     "output_type": "stream",
     "text": [
      "Figures titles: Index_DRUG_ID_COSMIC_ID (COSMIC_ID is a cell line)\n"
     ]
    },
    {
     "data": {
      "image/png": "[encoded data removed]",
      "text/plain": [
       "<Figure size 1008x792 with 9 Axes>"
      ]
     },
     "metadata": {
      "needs_background": "light"
     },
     "output_type": "display_data"
    }
   ],
   "source": [
    "fitting_function = \"sigmoid_4_param\"\n",
    "fit_columns = \"fitting_param\"\n",
    "\n",
    "ShowResponseCurvesWithFitting(df, plots_in_row=3, plots_in_column=3, x_columns=conc_columns, \n",
    "                              y_columns = response_norm, indexes=df.index[:9], \n",
    "                              fitting_function = fitting_function, fitting_parameters = fit_columns)"
   ]
  },
  {
   "cell_type": "code",
   "execution_count": 18,
   "metadata": {},
   "outputs": [
    {
     "data": {
      "text/html": [
       "<div>\n",
       "<style scoped>\n",
       "    .dataframe tbody tr th:only-of-type {\n",
       "        vertical-align: middle;\n",
       "    }\n",
       "\n",
       "    .dataframe tbody tr th {\n",
       "        vertical-align: top;\n",
       "    }\n",
       "\n",
       "    .dataframe thead th {\n",
       "        text-align: right;\n",
       "    }\n",
       "</style>\n",
       "<table border=\"1\" class=\"dataframe\">\n",
       "  <thead>\n",
       "    <tr style=\"text-align: right;\">\n",
       "      <th></th>\n",
       "      <th>DRUGID_COSMICID</th>\n",
       "    </tr>\n",
       "    <tr>\n",
       "      <th>DRUG_ID</th>\n",
       "      <th></th>\n",
       "    </tr>\n",
       "  </thead>\n",
       "  <tbody>\n",
       "    <tr>\n",
       "      <th>328</th>\n",
       "      <td>118</td>\n",
       "    </tr>\n",
       "    <tr>\n",
       "      <th>272</th>\n",
       "      <td>116</td>\n",
       "    </tr>\n",
       "    <tr>\n",
       "      <th>273</th>\n",
       "      <td>115</td>\n",
       "    </tr>\n",
       "    <tr>\n",
       "      <th>274</th>\n",
       "      <td>109</td>\n",
       "    </tr>\n",
       "    <tr>\n",
       "      <th>276</th>\n",
       "      <td>109</td>\n",
       "    </tr>\n",
       "    <tr>\n",
       "      <th>170</th>\n",
       "      <td>107</td>\n",
       "    </tr>\n",
       "    <tr>\n",
       "      <th>200</th>\n",
       "      <td>93</td>\n",
       "    </tr>\n",
       "    <tr>\n",
       "      <th>219</th>\n",
       "      <td>92</td>\n",
       "    </tr>\n",
       "    <tr>\n",
       "      <th>180</th>\n",
       "      <td>79</td>\n",
       "    </tr>\n",
       "    <tr>\n",
       "      <th>346</th>\n",
       "      <td>61</td>\n",
       "    </tr>\n",
       "  </tbody>\n",
       "</table>\n",
       "</div>"
      ],
      "text/plain": [
       "         DRUGID_COSMICID\n",
       "DRUG_ID                 \n",
       "328                  118\n",
       "272                  116\n",
       "273                  115\n",
       "274                  109\n",
       "276                  109\n",
       "170                  107\n",
       "200                   93\n",
       "219                   92\n",
       "180                   79\n",
       "346                   61"
      ]
     },
     "execution_count": 18,
     "metadata": {},
     "output_type": "execute_result"
    }
   ],
   "source": [
    "df123.groupby(\"DRUG_ID\")[[\"DRUGID_COSMICID\"]].count().sort_values(\"DRUGID_COSMICID\", ascending =False).head(10)"
   ]
  },
  {
   "cell_type": "markdown",
   "metadata": {},
   "source": [
    "### Many drugs"
   ]
  },
  {
   "cell_type": "code",
   "execution_count": 180,
   "metadata": {},
   "outputs": [],
   "source": [
    "cell_features = pd.read_csv(_FOLDER+\"Cell_Line_Features_PANCAN_simple_MOBEM.tsv\", sep=\"\\t\")\n",
    "merged_df = MergeDrugCells(df, cell_features)\n",
    "\n",
    "for i in range(4):\n",
    "    merged_df[\"pred_param_\"+str(i+1)] = np.zeros(merged_df.shape[0])"
   ]
  },
  {
   "cell_type": "code",
   "execution_count": 181,
   "metadata": {},
   "outputs": [
    {
     "name": "stdout",
     "output_type": "stream",
     "text": [
      "CPU times: user 3.93 s, sys: 348 ms, total: 4.28 s\n",
      "Wall time: 2.5 s\n"
     ]
    }
   ],
   "source": [
    "%%time\n",
    "\n",
    "# Check the errors for all drugs\n",
    "df_errors = pd.DataFrame()\n",
    "\n",
    "gr = df123.groupby([\"DRUG_ID\"])[\"DRUGID_COSMICID\"].count()\n",
    "df_errors[\"DRUG_ID\"] = gr[gr>10].index\n",
    "\n",
    "df_errors.set_index(\"DRUG_ID\", inplace =True)\n",
    "\n",
    "for drug_id in df_errors.index:\n",
    "    merged_df_i = merged_df[merged_df[\"DRUG_ID\"]==drug_id]\n",
    "    # merged_df_i has lower shape\n",
    "    np.random.seed(123)\n",
    "    indexes = np.random.permutation(merged_df_i.index)\n",
    "    train_size = int(merged_df_i.shape[0]*0.7)\n",
    "    indexes_train = indexes[:train_size]\n",
    "    indexes_test= indexes[train_size:]\n",
    "    X_train = merged_df_i.loc[indexes_train, merged_df_i.columns[26:-4]].values\n",
    "    X_test = merged_df_i.loc[indexes_test, merged_df_i.columns[26:-4]].values\n",
    "    X = merged_df_i[merged_df_i.columns[26:-4]].values\n",
    "    \n",
    "    for i in range(4):\n",
    "        y_train = merged_df_i.loc[indexes_train, \"param_\"+str(i+1)]\n",
    "        y_test = merged_df_i.loc[indexes_test, \"param_\"+str(i+1)]\n",
    "#         print(y_test)\n",
    "        \n",
    "        kr_lin = KernelRidge(kernel='linear')\n",
    "        kr_lin.fit(X_train, y_train)\n",
    "        y_pred = kr_lin.predict(X_test)\n",
    "        mse = mean_squared_error(y_test, y_pred)\n",
    "        df_errors.loc[drug_id, \"mse_param_\"+str(i+1)] = mse\n",
    "        mae = mean_absolute_error(y_test, y_pred)\n",
    "        df_errors.loc[drug_id, \"mae_param_\"+str(i+1)] = mae\n",
    "        \n",
    "        # show on graph fitted and predicted curves\n",
    "        # not all the data was merged=learnd by the model\n",
    "        merged_df.loc[merged_df_i.index, \"pred_param_\"+str(i+1)] = kr_lin.predict(X)\n",
    "#         print(merged_df.loc[merged_df_i.index, \"pred_param_\"+str(i+1)])"
   ]
  },
  {
   "cell_type": "code",
   "execution_count": 182,
   "metadata": {},
   "outputs": [
    {
     "name": "stdout",
     "output_type": "stream",
     "text": [
      "CPU times: user 43 s, sys: 275 ms, total: 43.3 s\n",
      "Wall time: 44 s\n"
     ]
    }
   ],
   "source": [
    "%%time\n",
    "merged_df[\"r2_predicted\"] = compute_r2_score(merged_df, x_columns = conc_columns, y_columns = response_norm, \n",
    "                              fitting_parameters=pred_fit_columns, fitting_function = fitting_function)\n",
    "merged_df[\"r2_fitted\"] = compute_r2_score(merged_df, x_columns = conc_columns, y_columns = response_norm, \n",
    "                              fitting_parameters=fit_columns, fitting_function = fitting_function)"
   ]
  },
  {
   "cell_type": "code",
   "execution_count": 184,
   "metadata": {},
   "outputs": [
    {
     "data": {
      "text/plain": [
       "True"
      ]
     },
     "execution_count": 184,
     "metadata": {},
     "output_type": "execute_result"
    }
   ],
   "source": [
    "\"r2_predicted\" in merged_df.columns"
   ]
  },
  {
   "cell_type": "code",
   "execution_count": 185,
   "metadata": {},
   "outputs": [
    {
     "data": {
      "text/html": [
       "<div>\n",
       "<style scoped>\n",
       "    .dataframe tbody tr th:only-of-type {\n",
       "        vertical-align: middle;\n",
       "    }\n",
       "\n",
       "    .dataframe tbody tr th {\n",
       "        vertical-align: top;\n",
       "    }\n",
       "\n",
       "    .dataframe thead th {\n",
       "        text-align: right;\n",
       "    }\n",
       "</style>\n",
       "<table border=\"1\" class=\"dataframe\">\n",
       "  <thead>\n",
       "    <tr style=\"text-align: right;\">\n",
       "      <th></th>\n",
       "      <th>mse_param_1</th>\n",
       "      <th>mae_param_1</th>\n",
       "      <th>mse_param_2</th>\n",
       "      <th>mae_param_2</th>\n",
       "      <th>mse_param_3</th>\n",
       "      <th>mae_param_3</th>\n",
       "      <th>mse_param_4</th>\n",
       "      <th>mae_param_4</th>\n",
       "    </tr>\n",
       "  </thead>\n",
       "  <tbody>\n",
       "    <tr>\n",
       "      <th>count</th>\n",
       "      <td>70.000000</td>\n",
       "      <td>70.000000</td>\n",
       "      <td>70.000000</td>\n",
       "      <td>70.000000</td>\n",
       "      <td>70.000000</td>\n",
       "      <td>70.000000</td>\n",
       "      <td>70.000000</td>\n",
       "      <td>70.000000</td>\n",
       "    </tr>\n",
       "    <tr>\n",
       "      <th>mean</th>\n",
       "      <td>8.013663</td>\n",
       "      <td>1.437365</td>\n",
       "      <td>9.846823</td>\n",
       "      <td>1.171573</td>\n",
       "      <td>295.815210</td>\n",
       "      <td>10.506171</td>\n",
       "      <td>1.168082</td>\n",
       "      <td>0.411142</td>\n",
       "    </tr>\n",
       "    <tr>\n",
       "      <th>std</th>\n",
       "      <td>13.945396</td>\n",
       "      <td>1.094842</td>\n",
       "      <td>45.502079</td>\n",
       "      <td>1.260875</td>\n",
       "      <td>451.495278</td>\n",
       "      <td>7.098117</td>\n",
       "      <td>3.098535</td>\n",
       "      <td>0.473436</td>\n",
       "    </tr>\n",
       "    <tr>\n",
       "      <th>min</th>\n",
       "      <td>0.004379</td>\n",
       "      <td>0.056737</td>\n",
       "      <td>0.031123</td>\n",
       "      <td>0.151047</td>\n",
       "      <td>9.340772</td>\n",
       "      <td>2.528824</td>\n",
       "      <td>0.000117</td>\n",
       "      <td>0.010055</td>\n",
       "    </tr>\n",
       "    <tr>\n",
       "      <th>25%</th>\n",
       "      <td>0.311102</td>\n",
       "      <td>0.441225</td>\n",
       "      <td>0.556592</td>\n",
       "      <td>0.613972</td>\n",
       "      <td>42.751603</td>\n",
       "      <td>5.555802</td>\n",
       "      <td>0.027527</td>\n",
       "      <td>0.139156</td>\n",
       "    </tr>\n",
       "    <tr>\n",
       "      <th>50%</th>\n",
       "      <td>3.536764</td>\n",
       "      <td>1.279916</td>\n",
       "      <td>1.288763</td>\n",
       "      <td>0.815935</td>\n",
       "      <td>96.629770</td>\n",
       "      <td>7.821974</td>\n",
       "      <td>0.105418</td>\n",
       "      <td>0.231482</td>\n",
       "    </tr>\n",
       "    <tr>\n",
       "      <th>75%</th>\n",
       "      <td>9.309115</td>\n",
       "      <td>2.063333</td>\n",
       "      <td>3.202910</td>\n",
       "      <td>1.297425</td>\n",
       "      <td>326.305813</td>\n",
       "      <td>13.524837</td>\n",
       "      <td>0.502365</td>\n",
       "      <td>0.493771</td>\n",
       "    </tr>\n",
       "    <tr>\n",
       "      <th>max</th>\n",
       "      <td>101.928527</td>\n",
       "      <td>5.238761</td>\n",
       "      <td>361.621093</td>\n",
       "      <td>9.884646</td>\n",
       "      <td>2328.283691</td>\n",
       "      <td>34.327687</td>\n",
       "      <td>17.774215</td>\n",
       "      <td>2.970604</td>\n",
       "    </tr>\n",
       "  </tbody>\n",
       "</table>\n",
       "</div>"
      ],
      "text/plain": [
       "       mse_param_1  mae_param_1  mse_param_2  mae_param_2  mse_param_3  \\\n",
       "count    70.000000    70.000000    70.000000    70.000000    70.000000   \n",
       "mean      8.013663     1.437365     9.846823     1.171573   295.815210   \n",
       "std      13.945396     1.094842    45.502079     1.260875   451.495278   \n",
       "min       0.004379     0.056737     0.031123     0.151047     9.340772   \n",
       "25%       0.311102     0.441225     0.556592     0.613972    42.751603   \n",
       "50%       3.536764     1.279916     1.288763     0.815935    96.629770   \n",
       "75%       9.309115     2.063333     3.202910     1.297425   326.305813   \n",
       "max     101.928527     5.238761   361.621093     9.884646  2328.283691   \n",
       "\n",
       "       mae_param_3  mse_param_4  mae_param_4  \n",
       "count    70.000000    70.000000    70.000000  \n",
       "mean     10.506171     1.168082     0.411142  \n",
       "std       7.098117     3.098535     0.473436  \n",
       "min       2.528824     0.000117     0.010055  \n",
       "25%       5.555802     0.027527     0.139156  \n",
       "50%       7.821974     0.105418     0.231482  \n",
       "75%      13.524837     0.502365     0.493771  \n",
       "max      34.327687    17.774215     2.970604  "
      ]
     },
     "execution_count": 185,
     "metadata": {},
     "output_type": "execute_result"
    }
   ],
   "source": [
    "# x0, L, k, b   y = 1/ (L + np.exp(-k*(x-x0)))+b\n",
    "\n",
    "df_errors.describe()"
   ]
  },
  {
   "cell_type": "code",
   "execution_count": 186,
   "metadata": {},
   "outputs": [
    {
     "name": "stdout",
     "output_type": "stream",
     "text": [
      "Mean Squared errors for 70 drugs\n"
     ]
    },
    {
     "data": {
      "image/png": "[encoded data removed]",
      "text/plain": [
       "<Figure size 1152x288 with 4 Axes>"
      ]
     },
     "metadata": {
      "needs_background": "light"
     },
     "output_type": "display_data"
    }
   ],
   "source": [
    "# parameters: x0, L, k, b\n",
    "# y = 1/ (L + np.exp(-k*(x-x0)))+b\n",
    "\n",
    "fig = plt.figure(figsize=(16, 4))\n",
    "fig.subplots_adjust(hspace=0.4, wspace=0.4)\n",
    "n_plots= 4\n",
    "parameters_to_show = [\"mse_param_\"+str(i+1) for i in range(4)]\n",
    "print(\"Mean Squared errors for %d drugs\" % df_errors.shape[0])\n",
    "for i in range(n_plots):\n",
    "    ax = fig.add_subplot(1, n_plots, i+1)\n",
    "    ax.hist(df_errors[parameters_to_show[i]], bins=5)\n",
    "    ax.set_xlabel(\"MSE for param_\"+str(i+1))"
   ]
  },
  {
   "cell_type": "markdown",
   "metadata": {},
   "source": [
    "**Observations:**\n",
    "<br> The fitting function was sigmoid_4_parameters: y = 1/ (L + np.exp(-k*(x-x0)))+b\n",
    "<br> The best predictions are for parameter 4 (b) where the majority of predictions has MSE less than 5\n",
    "<br> Rather good results are for parameters 1 and 3 with MSE for majority of drugs <20"
   ]
  },
  {
   "cell_type": "code",
   "execution_count": 187,
   "metadata": {},
   "outputs": [
    {
     "name": "stdout",
     "output_type": "stream",
     "text": [
      "Mean Absolute errors for 70 drugs\n"
     ]
    },
    {
     "data": {
      "image/png": "[encoded data removed]",
      "text/plain": [
       "<Figure size 1152x288 with 4 Axes>"
      ]
     },
     "metadata": {
      "needs_background": "light"
     },
     "output_type": "display_data"
    }
   ],
   "source": [
    "fig = plt.figure(figsize=(16, 4))\n",
    "fig.subplots_adjust(hspace=0.4, wspace=0.4)\n",
    "n_plots= 4\n",
    "print(\"Mean Absolute errors for %d drugs\" % df_errors.shape[0])\n",
    "parameters_to_show = [\"mae_param_\"+str(i+1) for i in range(4)]\n",
    "for i in range(n_plots):\n",
    "    ax = fig.add_subplot(1, n_plots, i+1)\n",
    "    ax.hist(df_errors[parameters_to_show[i]])\n",
    "    ax.set_xlabel(\"MAE for param_\"+str(i+1))"
   ]
  },
  {
   "cell_type": "code",
   "execution_count": 197,
   "metadata": {},
   "outputs": [
    {
     "name": "stdout",
     "output_type": "stream",
     "text": [
      "Figures titles: Index_DRUG_ID_COSMIC_ID (COSMIC_ID is a cell line)\n"
     ]
    },
    {
     "data": {
      "image/png": "[encoded data removed]",
      "text/plain": [
       "<Figure size 1008x792 with 9 Axes>"
      ]
     },
     "metadata": {
      "needs_background": "light"
     },
     "output_type": "display_data"
    }
   ],
   "source": [
    "fit_columns = [\"param_\" + str(i+1) for i in range(4)]\n",
    "pred_fit_columns = [\"pred_param_\" + str(i+1) for i in range(4)]\n",
    "fitting_function = \"sigmoid_4_param\"\n",
    "\n",
    "ShowResponseCurvesWithFitting(merged_df, plots_in_row = 3, plots_in_column = 3, x_columns = conc_columns, \n",
    "                              y_columns = response_norm, indexes = merged_df.index[10:19], \n",
    "                              fitting_function = fitting_function, fitting_parameters = fit_columns,\n",
    "                             pred_fitting_param = pred_fit_columns)"
   ]
  },
  {
   "cell_type": "code",
   "execution_count": 192,
   "metadata": {},
   "outputs": [
    {
     "name": "stdout",
     "output_type": "stream",
     "text": [
      "Merged data: 2593\n",
      "Merged and Fitted data: 1048\n"
     ]
    }
   ],
   "source": [
    "print(\"Merged data:\", merged_df.shape[0])\n",
    "print(\"Merged and Fitted data:\", merged_df[merged_df[\"r2_predicted\"]>0.9].shape[0])"
   ]
  },
  {
   "cell_type": "markdown",
   "metadata": {},
   "source": [
    "**Observation:**\n",
    "    Half of the data is predicted well (R2<0.9)"
   ]
  },
  {
   "cell_type": "code",
   "execution_count": 195,
   "metadata": {},
   "outputs": [
    {
     "data": {
      "text/plain": [
       "(145, 145)"
      ]
     },
     "execution_count": 195,
     "metadata": {},
     "output_type": "execute_result"
    }
   ],
   "source": [
    "merged_df[\"DRUG_ID\"].nunique(), merged_df[merged_df[\"r2_predicted\"]<0.9][\"DRUG_ID\"].nunique()"
   ]
  },
  {
   "cell_type": "code",
   "execution_count": 221,
   "metadata": {},
   "outputs": [],
   "source": [
    "less_09 = merged_df[merged_df[\"r2_predicted\"]<=0.9]\n",
    "above_09 = merged_df[merged_df[\"r2_predicted\"]>0.9]"
   ]
  },
  {
   "cell_type": "code",
   "execution_count": 239,
   "metadata": {},
   "outputs": [
    {
     "data": {
      "text/html": [
       "<div>\n",
       "<style scoped>\n",
       "    .dataframe tbody tr th:only-of-type {\n",
       "        vertical-align: middle;\n",
       "    }\n",
       "\n",
       "    .dataframe tbody tr th {\n",
       "        vertical-align: top;\n",
       "    }\n",
       "\n",
       "    .dataframe thead th {\n",
       "        text-align: right;\n",
       "    }\n",
       "</style>\n",
       "<table border=\"1\" class=\"dataframe\">\n",
       "  <thead>\n",
       "    <tr style=\"text-align: right;\">\n",
       "      <th></th>\n",
       "      <th>DRUG_ID</th>\n",
       "      <th>above_09</th>\n",
       "      <th>less_09</th>\n",
       "      <th>sum</th>\n",
       "      <th>percent_success</th>\n",
       "    </tr>\n",
       "  </thead>\n",
       "  <tbody>\n",
       "    <tr>\n",
       "      <th>44</th>\n",
       "      <td>275</td>\n",
       "      <td>14.0</td>\n",
       "      <td>2</td>\n",
       "      <td>16.0</td>\n",
       "      <td>87.500000</td>\n",
       "    </tr>\n",
       "    <tr>\n",
       "      <th>25</th>\n",
       "      <td>179</td>\n",
       "      <td>20.0</td>\n",
       "      <td>5</td>\n",
       "      <td>25.0</td>\n",
       "      <td>80.000000</td>\n",
       "    </tr>\n",
       "    <tr>\n",
       "      <th>38</th>\n",
       "      <td>256</td>\n",
       "      <td>11.0</td>\n",
       "      <td>3</td>\n",
       "      <td>14.0</td>\n",
       "      <td>78.571429</td>\n",
       "    </tr>\n",
       "    <tr>\n",
       "      <th>59</th>\n",
       "      <td>1011</td>\n",
       "      <td>12.0</td>\n",
       "      <td>4</td>\n",
       "      <td>16.0</td>\n",
       "      <td>75.000000</td>\n",
       "    </tr>\n",
       "    <tr>\n",
       "      <th>3</th>\n",
       "      <td>53</td>\n",
       "      <td>14.0</td>\n",
       "      <td>5</td>\n",
       "      <td>19.0</td>\n",
       "      <td>73.684211</td>\n",
       "    </tr>\n",
       "    <tr>\n",
       "      <th>...</th>\n",
       "      <td>...</td>\n",
       "      <td>...</td>\n",
       "      <td>...</td>\n",
       "      <td>...</td>\n",
       "      <td>...</td>\n",
       "    </tr>\n",
       "    <tr>\n",
       "      <th>93</th>\n",
       "      <td>203</td>\n",
       "      <td>0.0</td>\n",
       "      <td>3</td>\n",
       "      <td>3.0</td>\n",
       "      <td>0.000000</td>\n",
       "    </tr>\n",
       "    <tr>\n",
       "      <th>92</th>\n",
       "      <td>199</td>\n",
       "      <td>0.0</td>\n",
       "      <td>3</td>\n",
       "      <td>3.0</td>\n",
       "      <td>0.000000</td>\n",
       "    </tr>\n",
       "    <tr>\n",
       "      <th>91</th>\n",
       "      <td>185</td>\n",
       "      <td>0.0</td>\n",
       "      <td>4</td>\n",
       "      <td>4.0</td>\n",
       "      <td>0.000000</td>\n",
       "    </tr>\n",
       "    <tr>\n",
       "      <th>90</th>\n",
       "      <td>184</td>\n",
       "      <td>0.0</td>\n",
       "      <td>9</td>\n",
       "      <td>9.0</td>\n",
       "      <td>0.000000</td>\n",
       "    </tr>\n",
       "    <tr>\n",
       "      <th>144</th>\n",
       "      <td>1133</td>\n",
       "      <td>0.0</td>\n",
       "      <td>1</td>\n",
       "      <td>1.0</td>\n",
       "      <td>0.000000</td>\n",
       "    </tr>\n",
       "  </tbody>\n",
       "</table>\n",
       "<p>145 rows × 5 columns</p>\n",
       "</div>"
      ],
      "text/plain": [
       "     DRUG_ID  above_09  less_09   sum  percent_success\n",
       "44       275      14.0        2  16.0        87.500000\n",
       "25       179      20.0        5  25.0        80.000000\n",
       "38       256      11.0        3  14.0        78.571429\n",
       "59      1011      12.0        4  16.0        75.000000\n",
       "3         53      14.0        5  19.0        73.684211\n",
       "..       ...       ...      ...   ...              ...\n",
       "93       203       0.0        3   3.0         0.000000\n",
       "92       199       0.0        3   3.0         0.000000\n",
       "91       185       0.0        4   4.0         0.000000\n",
       "90       184       0.0        9   9.0         0.000000\n",
       "144     1133       0.0        1   1.0         0.000000\n",
       "\n",
       "[145 rows x 5 columns]"
      ]
     },
     "execution_count": 239,
     "metadata": {},
     "output_type": "execute_result"
    }
   ],
   "source": [
    "d1 = above_09.groupby(\"DRUG_ID\")[[\"COSMIC_ID\"]].count().reset_index()\n",
    "d2 = less_09.groupby(\"DRUG_ID\")[[\"COSMIC_ID\"]].count().reset_index()\n",
    "compare_df = pd.merge(left = d1, right = d2, how= \"outer\", on = \"DRUG_ID\").fillna(0).rename(columns = {\"COSMIC_ID_x\": \"above_09\", \"COSMIC_ID_y\": \"less_09\"})\n",
    "compare_df[\"sum\"] = compare_df[\"above_09\"]+compare_df[\"less_09\"]\n",
    "compare_df[\"percent_success\"] = compare_df[\"above_09\"]*100/(compare_df[\"sum\"])\n",
    "compare_df.sort_values(by=\"percent_success\", ascending=False)"
   ]
  },
  {
   "cell_type": "code",
   "execution_count": 228,
   "metadata": {},
   "outputs": [
    {
     "name": "stdout",
     "output_type": "stream",
     "text": [
      "Number of drugs with number of good predictions above 70%: 7\n"
     ]
    },
    {
     "data": {
      "image/png": "[encoded data removed]",
      "text/plain": [
       "<Figure size 432x288 with 1 Axes>"
      ]
     },
     "metadata": {
      "needs_background": "light"
     },
     "output_type": "display_data"
    }
   ],
   "source": [
    "print(\"Number of drugs with number of good predictions above 70%:\", sum(compare_df[\"percent_success\"]>70))\n",
    "compare_df[\"percent_success\"].hist()\n",
    "plt.xlabel(\"Percent of succesful predictions for each drug\");"
   ]
  },
  {
   "cell_type": "code",
   "execution_count": 243,
   "metadata": {},
   "outputs": [
    {
     "data": {
      "text/html": [
       "<div>\n",
       "<style scoped>\n",
       "    .dataframe tbody tr th:only-of-type {\n",
       "        vertical-align: middle;\n",
       "    }\n",
       "\n",
       "    .dataframe tbody tr th {\n",
       "        vertical-align: top;\n",
       "    }\n",
       "\n",
       "    .dataframe thead th {\n",
       "        text-align: right;\n",
       "    }\n",
       "</style>\n",
       "<table border=\"1\" class=\"dataframe\">\n",
       "  <thead>\n",
       "    <tr style=\"text-align: right;\">\n",
       "      <th></th>\n",
       "      <th>COSMIC_ID</th>\n",
       "      <th>above_09</th>\n",
       "      <th>less_09</th>\n",
       "      <th>sum</th>\n",
       "      <th>percent_success</th>\n",
       "    </tr>\n",
       "  </thead>\n",
       "  <tbody>\n",
       "    <tr>\n",
       "      <th>175</th>\n",
       "      <td>907053</td>\n",
       "      <td>7.0</td>\n",
       "      <td>2.0</td>\n",
       "      <td>9.0</td>\n",
       "      <td>77.777778</td>\n",
       "    </tr>\n",
       "    <tr>\n",
       "      <th>60</th>\n",
       "      <td>753548</td>\n",
       "      <td>6.0</td>\n",
       "      <td>2.0</td>\n",
       "      <td>8.0</td>\n",
       "      <td>75.000000</td>\n",
       "    </tr>\n",
       "    <tr>\n",
       "      <th>534</th>\n",
       "      <td>1330931</td>\n",
       "      <td>5.0</td>\n",
       "      <td>2.0</td>\n",
       "      <td>7.0</td>\n",
       "      <td>71.428571</td>\n",
       "    </tr>\n",
       "    <tr>\n",
       "      <th>565</th>\n",
       "      <td>1503361</td>\n",
       "      <td>4.0</td>\n",
       "      <td>2.0</td>\n",
       "      <td>6.0</td>\n",
       "      <td>66.666667</td>\n",
       "    </tr>\n",
       "    <tr>\n",
       "      <th>210</th>\n",
       "      <td>907786</td>\n",
       "      <td>4.0</td>\n",
       "      <td>2.0</td>\n",
       "      <td>6.0</td>\n",
       "      <td>66.666667</td>\n",
       "    </tr>\n",
       "    <tr>\n",
       "      <th>...</th>\n",
       "      <td>...</td>\n",
       "      <td>...</td>\n",
       "      <td>...</td>\n",
       "      <td>...</td>\n",
       "      <td>...</td>\n",
       "    </tr>\n",
       "    <tr>\n",
       "      <th>276</th>\n",
       "      <td>909702</td>\n",
       "      <td>1.0</td>\n",
       "      <td>7.0</td>\n",
       "      <td>8.0</td>\n",
       "      <td>12.500000</td>\n",
       "    </tr>\n",
       "    <tr>\n",
       "      <th>535</th>\n",
       "      <td>1330933</td>\n",
       "      <td>1.0</td>\n",
       "      <td>8.0</td>\n",
       "      <td>9.0</td>\n",
       "      <td>11.111111</td>\n",
       "    </tr>\n",
       "    <tr>\n",
       "      <th>604</th>\n",
       "      <td>688121</td>\n",
       "      <td>0.0</td>\n",
       "      <td>7.0</td>\n",
       "      <td>7.0</td>\n",
       "      <td>0.000000</td>\n",
       "    </tr>\n",
       "    <tr>\n",
       "      <th>768</th>\n",
       "      <td>1240149</td>\n",
       "      <td>0.0</td>\n",
       "      <td>9.0</td>\n",
       "      <td>9.0</td>\n",
       "      <td>0.000000</td>\n",
       "    </tr>\n",
       "    <tr>\n",
       "      <th>814</th>\n",
       "      <td>1330985</td>\n",
       "      <td>0.0</td>\n",
       "      <td>6.0</td>\n",
       "      <td>6.0</td>\n",
       "      <td>0.000000</td>\n",
       "    </tr>\n",
       "  </tbody>\n",
       "</table>\n",
       "<p>107 rows × 5 columns</p>\n",
       "</div>"
      ],
      "text/plain": [
       "     COSMIC_ID  above_09  less_09  sum  percent_success\n",
       "175     907053       7.0      2.0  9.0        77.777778\n",
       "60      753548       6.0      2.0  8.0        75.000000\n",
       "534    1330931       5.0      2.0  7.0        71.428571\n",
       "565    1503361       4.0      2.0  6.0        66.666667\n",
       "210     907786       4.0      2.0  6.0        66.666667\n",
       "..         ...       ...      ...  ...              ...\n",
       "276     909702       1.0      7.0  8.0        12.500000\n",
       "535    1330933       1.0      8.0  9.0        11.111111\n",
       "604     688121       0.0      7.0  7.0         0.000000\n",
       "768    1240149       0.0      9.0  9.0         0.000000\n",
       "814    1330985       0.0      6.0  6.0         0.000000\n",
       "\n",
       "[107 rows x 5 columns]"
      ]
     },
     "execution_count": 243,
     "metadata": {},
     "output_type": "execute_result"
    }
   ],
   "source": [
    "l1 = above_09.groupby(\"COSMIC_ID\")[[\"DRUG_ID\"]].count().reset_index()\n",
    "l2 = less_09.groupby(\"COSMIC_ID\")[[\"DRUG_ID\"]].count().reset_index()\n",
    "\n",
    "compare_line = pd.merge(left = l1, right = l2, how= \"outer\", on = \"COSMIC_ID\").fillna(0).rename(columns = {\"DRUG_ID_x\": \"above_09\", \"DRUG_ID_y\": \"less_09\"})\n",
    "\n",
    "compare_line[\"sum\"] = compare_line[\"above_09\"]+compare_line[\"less_09\"]\n",
    "compare_line[\"percent_success\"] = compare_line[\"above_09\"]*100/(compare_line[\"sum\"])\n",
    "compare_line[compare_line[\"sum\"]>5].sort_values(by=\"percent_success\", ascending=False)"
   ]
  },
  {
   "cell_type": "code",
   "execution_count": 171,
   "metadata": {},
   "outputs": [
    {
     "name": "stdout",
     "output_type": "stream",
     "text": [
      "Data leakage!!!\n",
      "Number of drugs in filtered drug data: 879, Number of drugs in cell lines data: 827\n",
      "Filtered drug data: (2776, 46)\n",
      "Filtered and fitted drug data: (2749, 52)\n",
      "Merged with cell lines properties: (2593, 1099)\n"
     ]
    }
   ],
   "source": [
    "print(\"Data leakage!!!\")\n",
    "df_cells = pd.read_csv(_FOLDER+\"Cell_Line_Features_PANCAN_simple_MOBEM.tsv\", sep=\"\\t\")\n",
    "df_drugs = df.copy() #filtered drug data\n",
    "common_cells_drug = list(set(np.array(df_cells.columns[1:], dtype=\"int\"))& set(df_drugs[\"COSMIC_ID\"].values))\n",
    "print(\"Number of drugs in filtered drug data: %d, Number of drugs in cell lines data: %d\" % \\\n",
    "      (df_drugs[\"COSMIC_ID\"].nunique(), len(common_cells_drug)))\n",
    "cell_features = pd.read_csv(_FOLDER+\"Cell_Line_Features_PANCAN_simple_MOBEM.tsv\", sep=\"\\t\")\n",
    "merged_df = MergeDrugCells(df, df_cells)\n",
    "print(\"Filtered drug data:\", df123.shape)\n",
    "print(\"Filtered and fitted drug data:\", df.shape)\n",
    "print(\"Merged with cell lines properties:\", merged_df.shape)"
   ]
  },
  {
   "cell_type": "markdown",
   "metadata": {},
   "source": [
    "Сделать еще:\n",
    "1) применить функции для другого датасета - не получилось! надо \n",
    "2) посмотреть корреляцию параметров и IC50\n",
    "3) посмотреть пакет для обработки в R, сделать подборку кривых - сохранить результаты как отедльную таблицу и предсказывать эти параметры\n",
    "\n",
    "4) что особенного в тех сочетаниях, когда R2>0.9\n",
    "5) посмотреть другие кернелы и регуляризации\n",
    "6) посмотреть другие fitting functions\n",
    "7) auc\n",
    "8) предсказание диапазона концентраций (min-max), в котором кривые адекватные, и сигмоидной формы"
   ]
  },
  {
   "cell_type": "markdown",
   "metadata": {},
   "source": [
    "**What I have done during the weak:**\n",
    "\n",
    "    1. Improved filtration - so now I can pass arguments which stages of filtration I can use\n",
    "    2. Merged drug profiles (found fitting parameters) and cell lines features\n",
    "    data leakage:\n",
    "        not all the drug data are present in cell lines (Cell_Line_Features_PANCAN_simple_MOBEM.tsv)\n",
    "        Number of drugs in filtered drug data: 879, Number of drugs in cell lines data: 827, so 52 records is missing!\n",
    "        Filtered drug data: (2749, 52), Merged with cell lines properties: (2593, 1099) 5% less data\n",
    "    3. Trained KernelRidge regression from sklearn\n",
    "        Half of the data was predicted well (R2>0.9) 1048 from 2593\n",
    "        but for only 7 drugs 70% of data is predicted so that (R2>0.9)\n",
    "    4. Improved visualisation to show all the curves on one graph"
   ]
  },
  {
   "cell_type": "code",
   "execution_count": null,
   "metadata": {},
   "outputs": [],
   "source": []
  },
  {
   "cell_type": "markdown",
   "metadata": {},
   "source": [
    "### Additional analysis"
   ]
  },
  {
   "cell_type": "code",
   "execution_count": 8,
   "metadata": {},
   "outputs": [
    {
     "data": {
      "text/html": [
       "<div>\n",
       "<style scoped>\n",
       "    .dataframe tbody tr th:only-of-type {\n",
       "        vertical-align: middle;\n",
       "    }\n",
       "\n",
       "    .dataframe tbody tr th {\n",
       "        vertical-align: top;\n",
       "    }\n",
       "\n",
       "    .dataframe thead th {\n",
       "        text-align: right;\n",
       "    }\n",
       "</style>\n",
       "<table border=\"1\" class=\"dataframe\">\n",
       "  <thead>\n",
       "    <tr style=\"text-align: right;\">\n",
       "      <th></th>\n",
       "      <th>Sample Name</th>\n",
       "      <th>COSMIC identifier</th>\n",
       "      <th>Whole Exome Sequencing (WES)</th>\n",
       "      <th>Copy Number Alterations (CNA)</th>\n",
       "      <th>Gene Expression</th>\n",
       "      <th>Methylation</th>\n",
       "      <th>Drug\\rResponse</th>\n",
       "      <th>GDSC\\rTissue descriptor 1</th>\n",
       "      <th>GDSC\\rTissue\\rdescriptor 2</th>\n",
       "      <th>Cancer Type\\r(matching TCGA label)</th>\n",
       "      <th>Microsatellite \\rinstability Status (MSI)</th>\n",
       "      <th>Screen Medium</th>\n",
       "      <th>Growth Properties</th>\n",
       "    </tr>\n",
       "  </thead>\n",
       "  <tbody>\n",
       "    <tr>\n",
       "      <th>0</th>\n",
       "      <td>A253</td>\n",
       "      <td>906794</td>\n",
       "      <td>Y</td>\n",
       "      <td>Y</td>\n",
       "      <td>Y</td>\n",
       "      <td>Y</td>\n",
       "      <td>Y</td>\n",
       "      <td>aero_dig_tract</td>\n",
       "      <td>head and neck</td>\n",
       "      <td>NaN</td>\n",
       "      <td>MSS/MSI-L</td>\n",
       "      <td>D/F12</td>\n",
       "      <td>Adherent</td>\n",
       "    </tr>\n",
       "    <tr>\n",
       "      <th>1</th>\n",
       "      <td>BB30-HNC</td>\n",
       "      <td>753531</td>\n",
       "      <td>Y</td>\n",
       "      <td>Y</td>\n",
       "      <td>Y</td>\n",
       "      <td>Y</td>\n",
       "      <td>Y</td>\n",
       "      <td>aero_dig_tract</td>\n",
       "      <td>head and neck</td>\n",
       "      <td>HNSC</td>\n",
       "      <td>MSS/MSI-L</td>\n",
       "      <td>D/F12</td>\n",
       "      <td>Adherent</td>\n",
       "    </tr>\n",
       "    <tr>\n",
       "      <th>2</th>\n",
       "      <td>BB49-HNC</td>\n",
       "      <td>753532</td>\n",
       "      <td>Y</td>\n",
       "      <td>Y</td>\n",
       "      <td>Y</td>\n",
       "      <td>Y</td>\n",
       "      <td>Y</td>\n",
       "      <td>aero_dig_tract</td>\n",
       "      <td>head and neck</td>\n",
       "      <td>HNSC</td>\n",
       "      <td>MSS/MSI-L</td>\n",
       "      <td>D/F12</td>\n",
       "      <td>Adherent</td>\n",
       "    </tr>\n",
       "    <tr>\n",
       "      <th>3</th>\n",
       "      <td>BHY</td>\n",
       "      <td>753535</td>\n",
       "      <td>Y</td>\n",
       "      <td>Y</td>\n",
       "      <td>Y</td>\n",
       "      <td>Y</td>\n",
       "      <td>Y</td>\n",
       "      <td>aero_dig_tract</td>\n",
       "      <td>head and neck</td>\n",
       "      <td>HNSC</td>\n",
       "      <td>MSS/MSI-L</td>\n",
       "      <td>D/F12</td>\n",
       "      <td>Adherent</td>\n",
       "    </tr>\n",
       "    <tr>\n",
       "      <th>4</th>\n",
       "      <td>BICR10</td>\n",
       "      <td>1290724</td>\n",
       "      <td>Y</td>\n",
       "      <td>Y</td>\n",
       "      <td>Y</td>\n",
       "      <td>Y</td>\n",
       "      <td>Y</td>\n",
       "      <td>aero_dig_tract</td>\n",
       "      <td>head and neck</td>\n",
       "      <td>HNSC</td>\n",
       "      <td>MSS/MSI-L</td>\n",
       "      <td>D/F12</td>\n",
       "      <td>Adherent</td>\n",
       "    </tr>\n",
       "  </tbody>\n",
       "</table>\n",
       "</div>"
      ],
      "text/plain": [
       "  Sample Name  COSMIC identifier Whole Exome Sequencing (WES)  \\\n",
       "0        A253             906794                            Y   \n",
       "1    BB30-HNC             753531                            Y   \n",
       "2    BB49-HNC             753532                            Y   \n",
       "3         BHY             753535                            Y   \n",
       "4      BICR10            1290724                            Y   \n",
       "\n",
       "  Copy Number Alterations (CNA) Gene Expression Methylation Drug\\rResponse  \\\n",
       "0                             Y               Y           Y              Y   \n",
       "1                             Y               Y           Y              Y   \n",
       "2                             Y               Y           Y              Y   \n",
       "3                             Y               Y           Y              Y   \n",
       "4                             Y               Y           Y              Y   \n",
       "\n",
       "  GDSC\\rTissue descriptor 1 GDSC\\rTissue\\rdescriptor 2  \\\n",
       "0            aero_dig_tract              head and neck   \n",
       "1            aero_dig_tract              head and neck   \n",
       "2            aero_dig_tract              head and neck   \n",
       "3            aero_dig_tract              head and neck   \n",
       "4            aero_dig_tract              head and neck   \n",
       "\n",
       "  Cancer Type\\r(matching TCGA label)  \\\n",
       "0                                NaN   \n",
       "1                               HNSC   \n",
       "2                               HNSC   \n",
       "3                               HNSC   \n",
       "4                               HNSC   \n",
       "\n",
       "  Microsatellite \\rinstability Status (MSI) Screen Medium Growth Properties  \n",
       "0                                 MSS/MSI-L         D/F12          Adherent  \n",
       "1                                 MSS/MSI-L         D/F12          Adherent  \n",
       "2                                 MSS/MSI-L         D/F12          Adherent  \n",
       "3                                 MSS/MSI-L         D/F12          Adherent  \n",
       "4                                 MSS/MSI-L         D/F12          Adherent  "
      ]
     },
     "execution_count": 8,
     "metadata": {},
     "output_type": "execute_result"
    }
   ],
   "source": [
    "cell_lines = pd.read_csv(_FOLDER+'Cell_Lines_Details.csv')\n",
    "cell_lines.head()"
   ]
  },
  {
   "cell_type": "code",
   "execution_count": 9,
   "metadata": {},
   "outputs": [
    {
     "data": {
      "text/plain": [
       "Adherent         725\n",
       "Suspension       244\n",
       "Semi-Adherent     30\n",
       "Name: Growth Properties, dtype: int64"
      ]
     },
     "execution_count": 9,
     "metadata": {},
     "output_type": "execute_result"
    }
   ],
   "source": [
    "cell_lines[\"Growth Properties\"].value_counts()"
   ]
  },
  {
   "cell_type": "code",
   "execution_count": 10,
   "metadata": {},
   "outputs": [
    {
     "data": {
      "text/plain": [
       "(114, 118, 1001)"
      ]
     },
     "execution_count": 10,
     "metadata": {},
     "output_type": "execute_result"
    }
   ],
   "source": [
    "cell_328_list = list(set(cell_lines[\"Sample Name\"]) & set(df_328[\"CELL_LINE_NAME\"]))\n",
    "len(cell_328_list), df_328[\"CELL_LINE_NAME\"].nunique(), cell_lines[\"Sample Name\"].nunique()"
   ]
  },
  {
   "cell_type": "code",
   "execution_count": 11,
   "metadata": {},
   "outputs": [
    {
     "data": {
      "text/plain": [
       "['Hs-633T', 'Sci-1', 'J-RT3-T3-5', 'RD-ES']"
      ]
     },
     "execution_count": 11,
     "metadata": {},
     "output_type": "execute_result"
    }
   ],
   "source": [
    "missing_cells = [cell for cell in df_328[\"CELL_LINE_NAME\"].unique() if cell not in cell_lines[\"Sample Name\"].unique()] \n",
    "missing_cells"
   ]
  },
  {
   "cell_type": "code",
   "execution_count": 12,
   "metadata": {},
   "outputs": [],
   "source": [
    "cell_328_index = [cell_lines[cell_lines[\"Sample Name\"]==cell].index[0] for cell in df_328[\"CELL_LINE_NAME\"].unique() if cell in cell_lines[\"Sample Name\"].unique()]\n",
    "# cell_328_index "
   ]
  },
  {
   "cell_type": "code",
   "execution_count": 13,
   "metadata": {},
   "outputs": [
    {
     "data": {
      "text/html": [
       "<div>\n",
       "<style scoped>\n",
       "    .dataframe tbody tr th:only-of-type {\n",
       "        vertical-align: middle;\n",
       "    }\n",
       "\n",
       "    .dataframe tbody tr th {\n",
       "        vertical-align: top;\n",
       "    }\n",
       "\n",
       "    .dataframe thead th {\n",
       "        text-align: right;\n",
       "    }\n",
       "</style>\n",
       "<table border=\"1\" class=\"dataframe\">\n",
       "  <thead>\n",
       "    <tr style=\"text-align: right;\">\n",
       "      <th></th>\n",
       "      <th>Sample Name</th>\n",
       "      <th>COSMIC identifier</th>\n",
       "      <th>Whole Exome Sequencing (WES)</th>\n",
       "      <th>Copy Number Alterations (CNA)</th>\n",
       "      <th>Gene Expression</th>\n",
       "      <th>Methylation</th>\n",
       "      <th>Drug\\rResponse</th>\n",
       "      <th>GDSC\\rTissue descriptor 1</th>\n",
       "      <th>GDSC\\rTissue\\rdescriptor 2</th>\n",
       "      <th>Cancer Type\\r(matching TCGA label)</th>\n",
       "      <th>Microsatellite \\rinstability Status (MSI)</th>\n",
       "      <th>Screen Medium</th>\n",
       "      <th>Growth Properties</th>\n",
       "    </tr>\n",
       "  </thead>\n",
       "  <tbody>\n",
       "    <tr>\n",
       "      <th>655</th>\n",
       "      <td>LN-18</td>\n",
       "      <td>1240168</td>\n",
       "      <td>Y</td>\n",
       "      <td>Y</td>\n",
       "      <td>Y</td>\n",
       "      <td>Y</td>\n",
       "      <td>Y</td>\n",
       "      <td>nervous_system</td>\n",
       "      <td>glioma</td>\n",
       "      <td>GBM</td>\n",
       "      <td>MSS/MSI-L</td>\n",
       "      <td>D/F12</td>\n",
       "      <td>Adherent</td>\n",
       "    </tr>\n",
       "    <tr>\n",
       "      <th>530</th>\n",
       "      <td>NCI-H1770</td>\n",
       "      <td>687804</td>\n",
       "      <td>Y</td>\n",
       "      <td>Y</td>\n",
       "      <td>Y</td>\n",
       "      <td>Y</td>\n",
       "      <td>Y</td>\n",
       "      <td>lung_NSCLC</td>\n",
       "      <td>lung_NSCLC_not specified</td>\n",
       "      <td>UNABLE TO CLASSIFY</td>\n",
       "      <td>MSS/MSI-L</td>\n",
       "      <td>D/F12</td>\n",
       "      <td>Suspension</td>\n",
       "    </tr>\n",
       "    <tr>\n",
       "      <th>338</th>\n",
       "      <td>HCT-15</td>\n",
       "      <td>905937</td>\n",
       "      <td>Y</td>\n",
       "      <td>Y</td>\n",
       "      <td>Y</td>\n",
       "      <td>Y</td>\n",
       "      <td>Y</td>\n",
       "      <td>large_intestine</td>\n",
       "      <td>large_intestine</td>\n",
       "      <td>COAD/READ</td>\n",
       "      <td>MSI-H</td>\n",
       "      <td>R</td>\n",
       "      <td>Adherent</td>\n",
       "    </tr>\n",
       "    <tr>\n",
       "      <th>191</th>\n",
       "      <td>BE-13</td>\n",
       "      <td>906763</td>\n",
       "      <td>Y</td>\n",
       "      <td>Y</td>\n",
       "      <td>Y</td>\n",
       "      <td>Y</td>\n",
       "      <td>Y</td>\n",
       "      <td>leukemia</td>\n",
       "      <td>lymphoblastic_leukemia</td>\n",
       "      <td>ALL</td>\n",
       "      <td>MSS/MSI-L</td>\n",
       "      <td>R</td>\n",
       "      <td>Suspension</td>\n",
       "    </tr>\n",
       "    <tr>\n",
       "      <th>55</th>\n",
       "      <td>KYSE-450</td>\n",
       "      <td>907320</td>\n",
       "      <td>Y</td>\n",
       "      <td>Y</td>\n",
       "      <td>Y</td>\n",
       "      <td>Y</td>\n",
       "      <td>Y</td>\n",
       "      <td>aero_dig_tract</td>\n",
       "      <td>oesophagus</td>\n",
       "      <td>ESCA</td>\n",
       "      <td>MSS/MSI-L</td>\n",
       "      <td>R</td>\n",
       "      <td>Adherent</td>\n",
       "    </tr>\n",
       "  </tbody>\n",
       "</table>\n",
       "</div>"
      ],
      "text/plain": [
       "    Sample Name  COSMIC identifier Whole Exome Sequencing (WES)  \\\n",
       "655       LN-18            1240168                            Y   \n",
       "530   NCI-H1770             687804                            Y   \n",
       "338      HCT-15             905937                            Y   \n",
       "191       BE-13             906763                            Y   \n",
       "55     KYSE-450             907320                            Y   \n",
       "\n",
       "    Copy Number Alterations (CNA) Gene Expression Methylation Drug\\rResponse  \\\n",
       "655                             Y               Y           Y              Y   \n",
       "530                             Y               Y           Y              Y   \n",
       "338                             Y               Y           Y              Y   \n",
       "191                             Y               Y           Y              Y   \n",
       "55                              Y               Y           Y              Y   \n",
       "\n",
       "    GDSC\\rTissue descriptor 1 GDSC\\rTissue\\rdescriptor 2  \\\n",
       "655            nervous_system                     glioma   \n",
       "530                lung_NSCLC   lung_NSCLC_not specified   \n",
       "338           large_intestine            large_intestine   \n",
       "191                  leukemia     lymphoblastic_leukemia   \n",
       "55             aero_dig_tract                 oesophagus   \n",
       "\n",
       "    Cancer Type\\r(matching TCGA label)  \\\n",
       "655                                GBM   \n",
       "530                 UNABLE TO CLASSIFY   \n",
       "338                          COAD/READ   \n",
       "191                                ALL   \n",
       "55                                ESCA   \n",
       "\n",
       "    Microsatellite \\rinstability Status (MSI) Screen Medium Growth Properties  \n",
       "655                                 MSS/MSI-L         D/F12          Adherent  \n",
       "530                                 MSS/MSI-L         D/F12        Suspension  \n",
       "338                                     MSI-H             R          Adherent  \n",
       "191                                 MSS/MSI-L             R        Suspension  \n",
       "55                                  MSS/MSI-L             R          Adherent  "
      ]
     },
     "execution_count": 13,
     "metadata": {},
     "output_type": "execute_result"
    }
   ],
   "source": [
    "cell_328 = cell_lines.loc[cell_328_index[:5], :].copy()\n",
    "cell_328"
   ]
  },
  {
   "cell_type": "code",
   "execution_count": 19,
   "metadata": {},
   "outputs": [],
   "source": [
    "# df_328[\"FOLD_DILUTION\"].value_counts() - only 1 value\n",
    "# df_328[\"MAX_CONC\"].value_counts()  - only 1 value"
   ]
  },
  {
   "cell_type": "code",
   "execution_count": 20,
   "metadata": {},
   "outputs": [
    {
     "data": {
      "text/plain": [
       "2.56    118\n",
       "Name: MAX_CONC, dtype: int64"
      ]
     },
     "execution_count": 20,
     "metadata": {},
     "output_type": "execute_result"
    }
   ],
   "source": [
    "df_328[\"MAX_CONC\"].value_counts() "
   ]
  },
  {
   "cell_type": "code",
   "execution_count": 30,
   "metadata": {},
   "outputs": [
    {
     "name": "stdout",
     "output_type": "stream",
     "text": [
      "Number of drugs in original dataset: 265\n",
      "Number of drugs in filtered dataset: 146\n",
      "\n",
      "Number of drugs with more than 1 concentration in original dataset: 24\n",
      "Number of drugs with more than 1 concentration in filtered dataset: 2\n"
     ]
    }
   ],
   "source": [
    "#\n",
    "gr = drug_curves.groupby(\"DRUG_ID\")[[\"MAX_CONC\"]].nunique().sort_values(\"MAX_CONC\", ascending=False)\n",
    "\n",
    "gr_f = df123.groupby(\"DRUG_ID\")[[\"MAX_CONC\"]].nunique().sort_values(\"MAX_CONC\", ascending=False)\n",
    "print(\"Number of drugs in original dataset: %d\" % gr.shape[0])\n",
    "print(\"Number of drugs in filtered dataset: %d\" % gr_f.shape[0])\n",
    "\n",
    "print(\"\\nNumber of drugs with more than 1 concentration in original dataset: %d\" % sum(gr['MAX_CONC']>1))\n",
    "print(\"Number of drugs with more than 1 concentration in filtered dataset: %d\" % sum(gr_f['MAX_CONC']>1))"
   ]
  },
  {
   "cell_type": "code",
   "execution_count": 31,
   "metadata": {},
   "outputs": [
    {
     "data": {
      "text/html": [
       "<div>\n",
       "<style scoped>\n",
       "    .dataframe tbody tr th:only-of-type {\n",
       "        vertical-align: middle;\n",
       "    }\n",
       "\n",
       "    .dataframe tbody tr th {\n",
       "        vertical-align: top;\n",
       "    }\n",
       "\n",
       "    .dataframe thead th {\n",
       "        text-align: right;\n",
       "    }\n",
       "</style>\n",
       "<table border=\"1\" class=\"dataframe\">\n",
       "  <thead>\n",
       "    <tr style=\"text-align: right;\">\n",
       "      <th></th>\n",
       "      <th>Unnamed: 0</th>\n",
       "      <th>CELL_LINE_NAME</th>\n",
       "      <th>COSMIC_ID</th>\n",
       "      <th>DRUG_ID</th>\n",
       "      <th>DRUGID_COSMICID</th>\n",
       "      <th>FOLD_DILUTION</th>\n",
       "      <th>MAX_CONC</th>\n",
       "      <th>fd_num_0</th>\n",
       "      <th>fd_num_1</th>\n",
       "      <th>fd_num_2</th>\n",
       "      <th>...</th>\n",
       "      <th>slope_1</th>\n",
       "      <th>slope_2</th>\n",
       "      <th>slope_3</th>\n",
       "      <th>slope_4</th>\n",
       "      <th>slope_5</th>\n",
       "      <th>slope_6</th>\n",
       "      <th>slope_7</th>\n",
       "      <th>slope_8</th>\n",
       "      <th>dif_first</th>\n",
       "      <th>dif_last</th>\n",
       "    </tr>\n",
       "  </thead>\n",
       "  <tbody>\n",
       "    <tr>\n",
       "      <th>131875</th>\n",
       "      <td>131875</td>\n",
       "      <td>LN-18</td>\n",
       "      <td>1240168</td>\n",
       "      <td>328</td>\n",
       "      <td>328_1240168</td>\n",
       "      <td>2</td>\n",
       "      <td>2.56</td>\n",
       "      <td>0</td>\n",
       "      <td>0.111111</td>\n",
       "      <td>0.222222</td>\n",
       "      <td>...</td>\n",
       "      <td>-0.242125</td>\n",
       "      <td>0.195683</td>\n",
       "      <td>-0.241015</td>\n",
       "      <td>-3.695512</td>\n",
       "      <td>-3.203332</td>\n",
       "      <td>-0.620956</td>\n",
       "      <td>0.179570</td>\n",
       "      <td>-0.213434</td>\n",
       "      <td>0.037515</td>\n",
       "      <td>0.023715</td>\n",
       "    </tr>\n",
       "    <tr>\n",
       "      <th>131929</th>\n",
       "      <td>131929</td>\n",
       "      <td>NCI-H1770</td>\n",
       "      <td>687804</td>\n",
       "      <td>328</td>\n",
       "      <td>328_687804</td>\n",
       "      <td>2</td>\n",
       "      <td>2.56</td>\n",
       "      <td>0</td>\n",
       "      <td>0.111111</td>\n",
       "      <td>0.222222</td>\n",
       "      <td>...</td>\n",
       "      <td>-0.181573</td>\n",
       "      <td>-2.452551</td>\n",
       "      <td>-3.350704</td>\n",
       "      <td>-0.955830</td>\n",
       "      <td>-0.611502</td>\n",
       "      <td>-0.001687</td>\n",
       "      <td>-0.151186</td>\n",
       "      <td>-0.022990</td>\n",
       "      <td>0.025890</td>\n",
       "      <td>0.002554</td>\n",
       "    </tr>\n",
       "    <tr>\n",
       "      <th>1794</th>\n",
       "      <td>1794</td>\n",
       "      <td>HCT-15</td>\n",
       "      <td>905937</td>\n",
       "      <td>328</td>\n",
       "      <td>328_905937</td>\n",
       "      <td>2</td>\n",
       "      <td>2.56</td>\n",
       "      <td>0</td>\n",
       "      <td>0.111111</td>\n",
       "      <td>0.222222</td>\n",
       "      <td>...</td>\n",
       "      <td>-0.266768</td>\n",
       "      <td>-0.945581</td>\n",
       "      <td>-0.824432</td>\n",
       "      <td>-1.867249</td>\n",
       "      <td>-0.509351</td>\n",
       "      <td>-2.043260</td>\n",
       "      <td>0.077187</td>\n",
       "      <td>0.277903</td>\n",
       "      <td>0.049058</td>\n",
       "      <td>0.030878</td>\n",
       "    </tr>\n",
       "    <tr>\n",
       "      <th>134731</th>\n",
       "      <td>134731</td>\n",
       "      <td>BE-13</td>\n",
       "      <td>906763</td>\n",
       "      <td>328</td>\n",
       "      <td>328_906763</td>\n",
       "      <td>2</td>\n",
       "      <td>2.56</td>\n",
       "      <td>0</td>\n",
       "      <td>0.111111</td>\n",
       "      <td>0.222222</td>\n",
       "      <td>...</td>\n",
       "      <td>-0.463096</td>\n",
       "      <td>-2.703729</td>\n",
       "      <td>-3.069042</td>\n",
       "      <td>-0.530834</td>\n",
       "      <td>-0.483729</td>\n",
       "      <td>-0.192609</td>\n",
       "      <td>-0.044765</td>\n",
       "      <td>-0.183600</td>\n",
       "      <td>0.019942</td>\n",
       "      <td>0.020400</td>\n",
       "    </tr>\n",
       "    <tr>\n",
       "      <th>3829</th>\n",
       "      <td>3829</td>\n",
       "      <td>KYSE-450</td>\n",
       "      <td>907320</td>\n",
       "      <td>328</td>\n",
       "      <td>328_907320</td>\n",
       "      <td>2</td>\n",
       "      <td>2.56</td>\n",
       "      <td>0</td>\n",
       "      <td>0.111111</td>\n",
       "      <td>0.222222</td>\n",
       "      <td>...</td>\n",
       "      <td>-0.626886</td>\n",
       "      <td>-5.220993</td>\n",
       "      <td>-1.554274</td>\n",
       "      <td>-0.478826</td>\n",
       "      <td>-0.192336</td>\n",
       "      <td>-0.070472</td>\n",
       "      <td>0.095178</td>\n",
       "      <td>-0.012298</td>\n",
       "      <td>0.026069</td>\n",
       "      <td>0.001366</td>\n",
       "    </tr>\n",
       "    <tr>\n",
       "      <th>...</th>\n",
       "      <td>...</td>\n",
       "      <td>...</td>\n",
       "      <td>...</td>\n",
       "      <td>...</td>\n",
       "      <td>...</td>\n",
       "      <td>...</td>\n",
       "      <td>...</td>\n",
       "      <td>...</td>\n",
       "      <td>...</td>\n",
       "      <td>...</td>\n",
       "      <td>...</td>\n",
       "      <td>...</td>\n",
       "      <td>...</td>\n",
       "      <td>...</td>\n",
       "      <td>...</td>\n",
       "      <td>...</td>\n",
       "      <td>...</td>\n",
       "      <td>...</td>\n",
       "      <td>...</td>\n",
       "      <td>...</td>\n",
       "      <td>...</td>\n",
       "    </tr>\n",
       "    <tr>\n",
       "      <th>127992</th>\n",
       "      <td>127992</td>\n",
       "      <td>KMS-11</td>\n",
       "      <td>1659817</td>\n",
       "      <td>328</td>\n",
       "      <td>328_1659817</td>\n",
       "      <td>2</td>\n",
       "      <td>2.56</td>\n",
       "      <td>0</td>\n",
       "      <td>0.111111</td>\n",
       "      <td>0.222222</td>\n",
       "      <td>...</td>\n",
       "      <td>-0.885477</td>\n",
       "      <td>-1.823430</td>\n",
       "      <td>-1.913535</td>\n",
       "      <td>-2.731869</td>\n",
       "      <td>-0.957161</td>\n",
       "      <td>-0.021671</td>\n",
       "      <td>0.142130</td>\n",
       "      <td>-0.048404</td>\n",
       "      <td>0.019009</td>\n",
       "      <td>0.005378</td>\n",
       "    </tr>\n",
       "    <tr>\n",
       "      <th>128128</th>\n",
       "      <td>128128</td>\n",
       "      <td>H4</td>\n",
       "      <td>907042</td>\n",
       "      <td>328</td>\n",
       "      <td>328_907042</td>\n",
       "      <td>2</td>\n",
       "      <td>2.56</td>\n",
       "      <td>0</td>\n",
       "      <td>0.111111</td>\n",
       "      <td>0.222222</td>\n",
       "      <td>...</td>\n",
       "      <td>0.067978</td>\n",
       "      <td>-0.881475</td>\n",
       "      <td>-1.153502</td>\n",
       "      <td>-1.917981</td>\n",
       "      <td>-2.293641</td>\n",
       "      <td>-0.735588</td>\n",
       "      <td>-0.367957</td>\n",
       "      <td>-0.316764</td>\n",
       "      <td>0.012937</td>\n",
       "      <td>0.035196</td>\n",
       "    </tr>\n",
       "    <tr>\n",
       "      <th>128786</th>\n",
       "      <td>128786</td>\n",
       "      <td>CAL-27</td>\n",
       "      <td>910916</td>\n",
       "      <td>328</td>\n",
       "      <td>328_910916</td>\n",
       "      <td>2</td>\n",
       "      <td>2.56</td>\n",
       "      <td>0</td>\n",
       "      <td>0.111111</td>\n",
       "      <td>0.222222</td>\n",
       "      <td>...</td>\n",
       "      <td>-0.247752</td>\n",
       "      <td>-1.224618</td>\n",
       "      <td>-0.795279</td>\n",
       "      <td>-3.770119</td>\n",
       "      <td>-1.323333</td>\n",
       "      <td>-0.178199</td>\n",
       "      <td>0.056138</td>\n",
       "      <td>-0.159412</td>\n",
       "      <td>0.049876</td>\n",
       "      <td>0.017712</td>\n",
       "    </tr>\n",
       "    <tr>\n",
       "      <th>129184</th>\n",
       "      <td>129184</td>\n",
       "      <td>IGR-37</td>\n",
       "      <td>1240153</td>\n",
       "      <td>328</td>\n",
       "      <td>328_1240153</td>\n",
       "      <td>2</td>\n",
       "      <td>2.56</td>\n",
       "      <td>0</td>\n",
       "      <td>0.111111</td>\n",
       "      <td>0.222222</td>\n",
       "      <td>...</td>\n",
       "      <td>-1.977147</td>\n",
       "      <td>-1.946490</td>\n",
       "      <td>-1.076285</td>\n",
       "      <td>-0.449104</td>\n",
       "      <td>-0.103878</td>\n",
       "      <td>-0.032656</td>\n",
       "      <td>-0.047439</td>\n",
       "      <td>0.064138</td>\n",
       "      <td>0.020130</td>\n",
       "      <td>0.007126</td>\n",
       "    </tr>\n",
       "    <tr>\n",
       "      <th>130624</th>\n",
       "      <td>130624</td>\n",
       "      <td>NCI-H211</td>\n",
       "      <td>1240189</td>\n",
       "      <td>328</td>\n",
       "      <td>328_1240189</td>\n",
       "      <td>2</td>\n",
       "      <td>2.56</td>\n",
       "      <td>0</td>\n",
       "      <td>0.111111</td>\n",
       "      <td>0.222222</td>\n",
       "      <td>...</td>\n",
       "      <td>-4.117075</td>\n",
       "      <td>-1.609462</td>\n",
       "      <td>-0.661882</td>\n",
       "      <td>0.251340</td>\n",
       "      <td>-0.177421</td>\n",
       "      <td>0.170032</td>\n",
       "      <td>-0.059167</td>\n",
       "      <td>-0.094753</td>\n",
       "      <td>0.011003</td>\n",
       "      <td>0.010528</td>\n",
       "    </tr>\n",
       "  </tbody>\n",
       "</table>\n",
       "<p>118 rows × 46 columns</p>\n",
       "</div>"
      ],
      "text/plain": [
       "        Unnamed: 0 CELL_LINE_NAME  COSMIC_ID  DRUG_ID DRUGID_COSMICID  \\\n",
       "131875      131875          LN-18    1240168      328     328_1240168   \n",
       "131929      131929      NCI-H1770     687804      328      328_687804   \n",
       "1794          1794         HCT-15     905937      328      328_905937   \n",
       "134731      134731          BE-13     906763      328      328_906763   \n",
       "3829          3829       KYSE-450     907320      328      328_907320   \n",
       "...            ...            ...        ...      ...             ...   \n",
       "127992      127992         KMS-11    1659817      328     328_1659817   \n",
       "128128      128128             H4     907042      328      328_907042   \n",
       "128786      128786         CAL-27     910916      328      328_910916   \n",
       "129184      129184         IGR-37    1240153      328     328_1240153   \n",
       "130624      130624       NCI-H211    1240189      328     328_1240189   \n",
       "\n",
       "        FOLD_DILUTION  MAX_CONC  fd_num_0  fd_num_1  fd_num_2  ...   slope_1  \\\n",
       "131875              2      2.56         0  0.111111  0.222222  ... -0.242125   \n",
       "131929              2      2.56         0  0.111111  0.222222  ... -0.181573   \n",
       "1794                2      2.56         0  0.111111  0.222222  ... -0.266768   \n",
       "134731              2      2.56         0  0.111111  0.222222  ... -0.463096   \n",
       "3829                2      2.56         0  0.111111  0.222222  ... -0.626886   \n",
       "...               ...       ...       ...       ...       ...  ...       ...   \n",
       "127992              2      2.56         0  0.111111  0.222222  ... -0.885477   \n",
       "128128              2      2.56         0  0.111111  0.222222  ...  0.067978   \n",
       "128786              2      2.56         0  0.111111  0.222222  ... -0.247752   \n",
       "129184              2      2.56         0  0.111111  0.222222  ... -1.977147   \n",
       "130624              2      2.56         0  0.111111  0.222222  ... -4.117075   \n",
       "\n",
       "         slope_2   slope_3   slope_4   slope_5   slope_6   slope_7   slope_8  \\\n",
       "131875  0.195683 -0.241015 -3.695512 -3.203332 -0.620956  0.179570 -0.213434   \n",
       "131929 -2.452551 -3.350704 -0.955830 -0.611502 -0.001687 -0.151186 -0.022990   \n",
       "1794   -0.945581 -0.824432 -1.867249 -0.509351 -2.043260  0.077187  0.277903   \n",
       "134731 -2.703729 -3.069042 -0.530834 -0.483729 -0.192609 -0.044765 -0.183600   \n",
       "3829   -5.220993 -1.554274 -0.478826 -0.192336 -0.070472  0.095178 -0.012298   \n",
       "...          ...       ...       ...       ...       ...       ...       ...   \n",
       "127992 -1.823430 -1.913535 -2.731869 -0.957161 -0.021671  0.142130 -0.048404   \n",
       "128128 -0.881475 -1.153502 -1.917981 -2.293641 -0.735588 -0.367957 -0.316764   \n",
       "128786 -1.224618 -0.795279 -3.770119 -1.323333 -0.178199  0.056138 -0.159412   \n",
       "129184 -1.946490 -1.076285 -0.449104 -0.103878 -0.032656 -0.047439  0.064138   \n",
       "130624 -1.609462 -0.661882  0.251340 -0.177421  0.170032 -0.059167 -0.094753   \n",
       "\n",
       "        dif_first  dif_last  \n",
       "131875   0.037515  0.023715  \n",
       "131929   0.025890  0.002554  \n",
       "1794     0.049058  0.030878  \n",
       "134731   0.019942  0.020400  \n",
       "3829     0.026069  0.001366  \n",
       "...           ...       ...  \n",
       "127992   0.019009  0.005378  \n",
       "128128   0.012937  0.035196  \n",
       "128786   0.049876  0.017712  \n",
       "129184   0.020130  0.007126  \n",
       "130624   0.011003  0.010528  \n",
       "\n",
       "[118 rows x 46 columns]"
      ]
     },
     "execution_count": 31,
     "metadata": {},
     "output_type": "execute_result"
    }
   ],
   "source": [
    "df_328"
   ]
  },
  {
   "cell_type": "code",
   "execution_count": 37,
   "metadata": {},
   "outputs": [
    {
     "data": {
      "text/plain": [
       "Index(['genes', '1240168', '687804', '905937', '906763', '907320', '907047',\n",
       "       '909751', '1240123', '910853',\n",
       "       ...\n",
       "       '907057', '905934', '909717', '1330950', '1659928', '1659817', '907042',\n",
       "       '910916', '1240153', '1240189'],\n",
       "      dtype='object', length=116)"
      ]
     },
     "execution_count": 37,
     "metadata": {},
     "output_type": "execute_result"
    }
   ],
   "source": [
    "df[\"fitting_param_s4\"] = fit_param"
   ]
  }
 ],
 "metadata": {
  "kernelspec": {
   "display_name": "myspark",
   "language": "python",
   "name": "myspark"
  },
  "language_info": {
   "codemirror_mode": {
    "name": "ipython",
    "version": 3
   },
   "file_extension": ".py",
   "mimetype": "text/x-python",
   "name": "python",
   "nbconvert_exporter": "python",
   "pygments_lexer": "ipython3",
   "version": "3.6.10"
  }
 },
 "nbformat": 4,
 "nbformat_minor": 2
}
