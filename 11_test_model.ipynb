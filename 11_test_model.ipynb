{
 "cells": [
  {
   "cell_type": "code",
   "execution_count": 3,
   "metadata": {
    "collapsed": true
   },
   "outputs": [],
   "source": [
    "import pandas as pd\n",
    "import numpy as np"
   ]
  },
  {
   "cell_type": "code",
   "execution_count": 4,
   "metadata": {
    "collapsed": true
   },
   "outputs": [],
   "source": [
    "import time\n",
    "from sklearn.metrics import r2_score\n",
    "from scipy.optimize import curve_fit\n",
    "from scipy.optimize import leastsq\n",
    "import scipy.optimize as opt\n",
    "from tqdm import tqdm\n",
    "import warnings\n",
    "warnings.filterwarnings(\"ignore\")\n",
    "\n",
    "from sklearn.kernel_ridge import KernelRidge\n",
    "from sklearn.linear_model import Ridge, Lasso\n",
    "from sklearn.model_selection import train_test_split\n",
    "from sklearn.metrics import mean_squared_error\n",
    "from sklearn.metrics import mean_absolute_error\n",
    "import gc\n",
    "\n",
    "from sklearn.model_selection import LeaveOneOut\n",
    "from sklearn.preprocessing import MinMaxScaler\n",
    "import os\n",
    "from data_preprocessing import FilteringCurves, ShowResponseCurves\n",
    "from fitting_curves import FittingColumn, ShowResponseCurvesWithFitting, compute_r2_score\n",
    "\n",
    "# from IPython.display import display\n",
    "#_FOLDER = \"results/\"\n",
    "_FOLDER = \"/home/acq18mk/master/results/\""
   ]
  },
  {
   "cell_type": "markdown",
   "metadata": {},
   "source": [
    "### Training and predictions for each drug separately"
   ]
  },
  {
   "cell_type": "code",
   "execution_count": 5,
   "metadata": {
    "collapsed": true
   },
   "outputs": [],
   "source": [
    "def PredictionsTunedKernelsByDrug(merged_df, drug_ids, number_coefficients, kernel, train_ratio =0.8, \n",
    "                                  column_not_to_use =[], alpha=1, gamma=None, degree=3, coef0=1, \n",
    "                                  features_to_scale=[], scaling=False, columns_to_use= []):\n",
    "    \"\"\"Training and testing Kernels with the best found hyperparameters\"\"\"\n",
    "    \n",
    "    param1 = [\"param_\" +str(i) for i in range(10)]\n",
    "    param2 = [\"param\" +str(i) for i in range(10)] \n",
    "    norm_response  = [\"norm_cells_\"+str(i) for i in range(10)]\n",
    "    con_columns  = [\"fd_num_\"+str(i) for i in range(10)]\n",
    "\n",
    "    not_X_columns = param1 + param2 + norm_response + con_columns+column_not_to_use\n",
    "    X_columns = set(df.columns) - set(not_X_columns)\n",
    "    print(\"Number of X_columns:\", len(X_columns))\n",
    "    \n",
    "    df_errors_test = pd.DataFrame()\n",
    "    df_model_coef = pd.DataFrame(index=X_columns)\n",
    "\n",
    "    for drug_id in drug_ids:\n",
    "        \n",
    "        merged_df_i = merged_df[merged_df[\"DRUG_ID\"]==drug_id]\n",
    "        np.random.seed(123)\n",
    "        indexes = np.random.permutation(merged_df_i.index)\n",
    "        train_size = int(merged_df_i.shape[0]*train_ratio)\n",
    "        indexes_train = indexes[:train_size]\n",
    "        indexes_test= indexes[train_size:]\n",
    "        \n",
    "        if scaling:\n",
    "            train = merged_df_i.loc[indexes_train, X_columns].copy()\n",
    "            test = merged_df_i.loc[indexes_test, X_columns].copy()\n",
    "            scaler = MinMaxScaler()\n",
    "            scaler.fit(train[columns_for_normalisation])\n",
    "            train[columns_for_normalisation] = scaler.transform(train[columns_for_normalisation])\n",
    "            X_train = train.values  \n",
    "            test[columns_for_normalisation] = scaler.transform(test[columns_for_normalisation])\n",
    "            X_test = test.values\n",
    "        else:\n",
    "            X_train = merged_df_i.loc[indexes_train, X_columns].values\n",
    "            X_test = merged_df_i.loc[indexes_test, X_columns].values\n",
    "    \n",
    "        for i in range(number_coefficients):\n",
    "\n",
    "            y_train = merged_df_i.loc[indexes_train, \"param_\"+str(i+1)].values\n",
    "            y_test = merged_df_i.loc[indexes_test, \"param_\"+str(i+1)].values\n",
    "            \n",
    "            #check whether each coefficient needs its own parameters\n",
    "            if type(alpha)==dict:\n",
    "                alpha_value = alpha[i+1]\n",
    "            else:\n",
    "                alpha_value = alpha\n",
    "                \n",
    "            if type(gamma)==dict:\n",
    "                gamma_value = gamma[i+1]\n",
    "            else:\n",
    "                gamma_value = gamma\n",
    "            \n",
    "            if type(degree)==dict:\n",
    "                degree_value = degree[i+1]\n",
    "            else:\n",
    "                degree_value = degree\n",
    "                \n",
    "            if type(coef0)==dict:\n",
    "                coef0_value = coef0[i+1]\n",
    "            else:\n",
    "                coef0_value = coef0\n",
    "                \n",
    "            kr_lin = KernelRidge(kernel = kernel, alpha = alpha_value, gamma=gamma_value, \n",
    "                                 degree=degree_value, coef0=coef0_value)\n",
    "            kr_lin.fit(X_train, y_train)\n",
    "            y_pred = kr_lin.predict(X_test)\n",
    "            \n",
    "            merged_df_i.loc[indexes_test, \"pred_param_\"+str(i+1)] = y_pred\n",
    "                           \n",
    "    return merged_df[columns_to_use]"
   ]
  },
  {
   "cell_type": "code",
   "execution_count": 6,
   "metadata": {
    "collapsed": true
   },
   "outputs": [],
   "source": [
    "def PredictionsTunedLassoByDrug(merged_df, drug_ids, number_coefficients, train_ratio=0.8, \n",
    "                                column_not_to_use=[], alpha=1, features_to_scale = [], \n",
    "                                scaling=False, file_name = \"\", columns_to_use= []):\n",
    "    \"\"\"Training and testing Kernels with the best found hyperparameters\"\"\"\n",
    "    \n",
    "    param1 = [\"param_\" +str(i) for i in range(10)]\n",
    "    param2 = [\"param\" +str(i) for i in range(10)] \n",
    "    norm_response  = [\"norm_cells_\"+str(i) for i in range(10)]\n",
    "    con_columns  = [\"fd_num_\"+str(i) for i in range(10)]\n",
    "\n",
    "    not_X_columns = param1 + param2 + norm_response + con_columns + column_not_to_use\n",
    "    X_columns = set(df.columns) - set(not_X_columns)\n",
    "    print(len(X_columns))\n",
    "    df_errors_test = pd.DataFrame()\n",
    "    feature_importance = pd.DataFrame(index=X_columns)\n",
    "\n",
    "    for drug_id in drug_ids:\n",
    "        # merged_df_i has lower shape\n",
    "        merged_df_i = merged_df[merged_df[\"DRUG_ID\"]==drug_id]\n",
    "        \n",
    "        np.random.seed(123)\n",
    "        indexes = np.random.permutation(merged_df_i.index)\n",
    "        train_size = int(merged_df_i.shape[0]*train_ratio)\n",
    "        indexes_train = indexes[:train_size]\n",
    "        indexes_test= indexes[train_size:]\n",
    "        \n",
    "        if scaling:\n",
    "            train = merged_df_i.loc[indexes_train, X_columns].copy()\n",
    "            test = merged_df_i.loc[indexes_test, X_columns].copy()\n",
    "            scaler = MinMaxScaler()\n",
    "            scaler.fit(train[columns_for_normalisation])\n",
    "            train[columns_for_normalisation] = scaler.transform(train[columns_for_normalisation])\n",
    "            X_train = train.values  \n",
    "            test[columns_for_normalisation] = scaler.transform(test[columns_for_normalisation])\n",
    "            X_test = test.values\n",
    "        else:\n",
    "            X_train = merged_df_i.loc[indexes_train, X_columns].values\n",
    "            X_test = merged_df_i.loc[indexes_test, X_columns].values\n",
    "    \n",
    "        for i in range(number_coefficients):\n",
    "#             param = best_param[i+1]\n",
    "            y_train = merged_df_i.loc[indexes_train, \"param_\"+str(i+1)].values\n",
    "            y_test = merged_df_i.loc[indexes_test, \"param_\"+str(i+1)].values\n",
    "            \n",
    "            #check whether each coefficient needs its own parameters\n",
    "            if type(alpha)==dict:\n",
    "                alpha_value = alpha[i+1]\n",
    "            else:\n",
    "                alpha_value = alpha\n",
    "                \n",
    "            lin_reg = Lasso(alpha = alpha_value)\n",
    "            lin_reg.fit(X_train, y_train)\n",
    "            \n",
    "            feature_importance[\"coef_\"+str(i+1)+\"_\"+str(drug_id)]=lin_reg.coef_\n",
    "            \n",
    "            y_pred = lin_reg.predict(X_test)\n",
    "            merged_df_i.loc[indexes_test, \"pred_param_\"+str(i+1)] = y_pred\n",
    "                                \n",
    "    return merged_df[columns_to_use]"
   ]
  },
  {
   "cell_type": "code",
   "execution_count": 7,
   "metadata": {
    "collapsed": true
   },
   "outputs": [],
   "source": [
    "def PredictionsTunedRidgeByDrug(merged_df, drug_ids, number_coefficients, column_not_to_use=[], alpha=1, solver =\"auto\", \n",
    "                                metrics = \"mse\", features_to_scale = [], scaling=False, columns_to_use= []):\n",
    "    \"\"\"Training and testing Kernels with the best found hyperparameters\"\"\"\n",
    "    \n",
    "    param1 = [\"param_\" +str(i) for i in range(10)]\n",
    "    param2 = [\"param\" +str(i) for i in range(10)] \n",
    "    norm_response  = [\"norm_cells_\"+str(i) for i in range(10)]\n",
    "    con_columns  = [\"fd_num_\"+str(i) for i in range(10)]\n",
    "\n",
    "    not_X_columns = param1 + param2 + norm_response + con_columns + column_not_to_use\n",
    "    X_columns = set(df.columns) - set(not_X_columns)\n",
    "    \n",
    "    df_errors_test = pd.DataFrame()\n",
    "    feature_importance = pd.DataFrame(index=X_columns)\n",
    "\n",
    "    for drug_id in drug_ids:\n",
    "        # merged_df_i has lower shape\n",
    "        merged_df_i = merged_df[merged_df[\"DRUG_ID\"]==drug_id]\n",
    "    \n",
    "        np.random.seed(123)\n",
    "        indexes = np.random.permutation(merged_df_i.index)\n",
    "        train_size = int(merged_df_i.shape[0]*0.8)\n",
    "        indexes_train = indexes[:train_size]\n",
    "        indexes_test = indexes[train_size:]\n",
    "        \n",
    "        if scaling:\n",
    "            train=merged_df_i.loc[indexes_train, X_columns].copy()\n",
    "            test = merged_df_i.loc[indexes_test, X_columns].copy()\n",
    "            scaler = MinMaxScaler()\n",
    "            scaler.fit(train[columns_for_normalisation])\n",
    "            train[columns_for_normalisation] = scaler.transform(train[columns_for_normalisation])\n",
    "            test[columns_for_normalisation] = scaler.transform(test[columns_for_normalisation])\n",
    "            X_train = train.values\n",
    "            X_test = test.values \n",
    "        else:\n",
    "            X_train = merged_df_i.loc[indexes_train, X_columns].values\n",
    "            X_test = merged_df_i.loc[indexes_test, X_columns].values\n",
    "    \n",
    "        for i in range(number_coefficients):\n",
    "#             param = best_param[i+1]\n",
    "            y_train = merged_df_i.loc[indexes_train, \"param_\"+str(i+1)].values\n",
    "            y_test = merged_df_i.loc[indexes_test, \"param_\"+str(i+1)].values\n",
    "            \n",
    "            #check whether each coefficient needs its own parameters\n",
    "            if type(alpha)==dict:\n",
    "                alpha_value = alpha[i+1]\n",
    "            else:\n",
    "                alpha_value = alpha\n",
    "                \n",
    "            if type(solver)==dict:\n",
    "                solver_value = solver[i+1]\n",
    "            else:\n",
    "                solver_value = solver\n",
    "                \n",
    "            lin_reg = Ridge(alpha = alpha_value, solver = solver_value)\n",
    "            lin_reg.fit(X_train, y_train)\n",
    "            feature_importance[\"coef_\"+str(i+1)+\"_\"+str(drug_id)]=lin_reg.coef_\n",
    "            y_pred = lin_reg.predict(X_test)\n",
    "            merged_df_i.loc[indexes_test, \"pred_param_\"+str(i+1)] = y_pred\n",
    "                                \n",
    "    return feature_importance, merged_df[columns_to_use]"
   ]
  },
  {
   "cell_type": "markdown",
   "metadata": {},
   "source": [
    "### Training and predictions for already splitted Train and Test data"
   ]
  },
  {
   "cell_type": "code",
   "execution_count": 24,
   "metadata": {
    "collapsed": true
   },
   "outputs": [],
   "source": [
    "def PredictionsKernelsSplittedDataSets(df_train, df_test, number_coefficients, kernel, \n",
    "                                       column_not_to_use =[], alpha=1, gamma=None, degree=3, coef0=1, \n",
    "                                       features_to_scale=[], scaling=False, columns_to_use= []):\n",
    "    \"\"\"Training and testing Kernels with the best found hyperparameters\"\"\"\n",
    "    \n",
    "    param1 = [\"param_\" +str(i) for i in range(10)]\n",
    "    param2 = [\"param\" +str(i) for i in range(10)] \n",
    "    norm_response  = [\"norm_cells_\"+str(i) for i in range(10)]\n",
    "    con_columns  = [\"fd_num_\"+str(i) for i in range(10)]\n",
    "\n",
    "    not_X_columns = param1 + param2 + norm_response + con_columns+column_not_to_use\n",
    "    X_columns = set(df_train.columns) - set(not_X_columns)\n",
    "    print(\"Number of X_columns:\", len(X_columns))\n",
    "    \n",
    "    df_errors_test = pd.DataFrame(index=[\"mse\"])\n",
    "    if scaling:\n",
    "        train = df_train.copy()\n",
    "        test = df_test.copy()\n",
    "        scaler = MinMaxScaler()\n",
    "        scaler.fit(train[columns_for_normalisation])\n",
    "        train[columns_for_normalisation] = scaler.transform(train[columns_for_normalisation])\n",
    "        X_train = train[X_columns].values  \n",
    "        test[columns_for_normalisation] = scaler.transform(test[columns_for_normalisation])\n",
    "        X_test = test[X_columns].values\n",
    "    else:\n",
    "        X_train = df_train[X_columns].values\n",
    "        X_test = df_test[X_columns].values\n",
    "    \n",
    "    for i in range(number_coefficients):\n",
    "        y_train = df_train[\"param_\"+str(i+1)].values\n",
    "        y_test = df_test[\"param_\"+str(i+1)].values\n",
    "            \n",
    "        #check whether each coefficient needs its own parameters\n",
    "        if type(alpha)==dict:\n",
    "            alpha_value = alpha[i+1]\n",
    "        else:\n",
    "            alpha_value = alpha\n",
    "                \n",
    "        if type(gamma)==dict:\n",
    "            gamma_value = gamma[i+1]\n",
    "        else:\n",
    "            gamma_value = gamma\n",
    "            \n",
    "        if type(degree)==dict:\n",
    "            degree_value = degree[i+1]\n",
    "        else:\n",
    "            degree_value = degree\n",
    "                \n",
    "        if type(coef0)==dict:\n",
    "            coef0_value = coef0[i+1]\n",
    "        else:\n",
    "            coef0_value = coef0\n",
    "                \n",
    "        kr_lin = KernelRidge(kernel = kernel, alpha = alpha_value, gamma=gamma_value, \n",
    "                                 degree=degree_value, coef0=coef0_value)\n",
    "        kr_lin.fit(X_train, y_train)\n",
    "        y_pred = kr_lin.predict(X_test)   \n",
    "        df_test[\"pred_coef_\"+str(i+1)] = y_pred\n",
    "\n",
    "    return df_test[columns_to_use]"
   ]
  },
  {
   "cell_type": "code",
   "execution_count": 55,
   "metadata": {
    "collapsed": true
   },
   "outputs": [],
   "source": [
    "def PredictionsLassoSplittedDataSets(df_train, df_test, number_coefficients,\n",
    "                                     column_not_to_use=[], alpha=1, features_to_scale = [], \n",
    "                                     scaling=False, file_name = \"\", columns_to_use= []):\n",
    "    \"\"\"Training and testing Kernels with the best found hyperparameters\"\"\"\n",
    "\n",
    "    param1 = [\"param_\" +str(i) for i in range(10)]\n",
    "    param2 = [\"param\" +str(i) for i in range(10)] \n",
    "    norm_response  = [\"norm_cells_\"+str(i) for i in range(10)]\n",
    "    con_columns  = [\"fd_num_\"+str(i) for i in range(10)]\n",
    "\n",
    "    not_X_columns = param1 + param2 + norm_response + con_columns+column_not_to_use\n",
    "    X_columns = set(df_train.columns) - set(not_X_columns)\n",
    "    print(\"Number of X_columns:\", len(X_columns))\n",
    "    \n",
    "    df_errors_test = pd.DataFrame(index=[\"mse\"])\n",
    "    feature_importance = pd.DataFrame(index=X_columns)\n",
    "    if scaling:\n",
    "        train = df_train.copy()\n",
    "        test = df_test.copy()\n",
    "        scaler = MinMaxScaler()\n",
    "        scaler.fit(train[columns_for_normalisation])\n",
    "        train[columns_for_normalisation] = scaler.transform(train[columns_for_normalisation])\n",
    "        X_train = train[X_columns].values  \n",
    "        test[columns_for_normalisation] = scaler.transform(test[columns_for_normalisation])\n",
    "        X_test = test[X_columns].values\n",
    "    else:\n",
    "        X_train = df_train[X_columns].values\n",
    "        X_test = df_test[X_columns].values\n",
    "    \n",
    "    for i in range(number_coefficients):\n",
    "        y_train = df_train[\"param_\"+str(i+1)].values\n",
    "        y_test = df_test[\"param_\"+str(i+1)].values\n",
    "            \n",
    "        #check whether each coefficient needs its own parameters\n",
    "        if type(alpha)==dict:\n",
    "            alpha_value = alpha[i+1]\n",
    "        else:\n",
    "            alpha_value = alpha\n",
    "                \n",
    "        lin_reg = Lasso(alpha = alpha_value)\n",
    "        lin_reg.fit(X_train, y_train)  \n",
    "        feature_importance[\"coef_\"+str(i+1)] = lin_reg.coef_\n",
    "#         print(lin_reg.coef_)\n",
    "        y_pred = lin_reg.predict(X_test)\n",
    "#         print(y_pred)\n",
    "        df_test[\"pred_coef_\"+str(i+1)] = y_pred\n",
    "\n",
    "    return feature_importance, df_test[columns_to_use]"
   ]
  },
  {
   "cell_type": "code",
   "execution_count": 56,
   "metadata": {
    "collapsed": true
   },
   "outputs": [],
   "source": [
    "def PredictionsRidgeSplittedDataSets(df_train, df_test, number_coefficients,\n",
    "                                     column_not_to_use=[], alpha=1, solver =\"auto\",  \n",
    "                                     features_to_scale = [], scaling=False, columns_to_use= []):\n",
    "    \"\"\"Training and testing Kernels with the best found hyperparameters\"\"\"\n",
    "    \n",
    "    param1 = [\"param_\" +str(i) for i in range(10)]\n",
    "    param2 = [\"param\" +str(i) for i in range(10)] \n",
    "    norm_response  = [\"norm_cells_\"+str(i) for i in range(10)]\n",
    "    con_columns  = [\"fd_num_\"+str(i) for i in range(10)]\n",
    "\n",
    "    not_X_columns = param1 + param2 + norm_response + con_columns+column_not_to_use\n",
    "    X_columns = set(df_train.columns) - set(not_X_columns)\n",
    "    print(\"Number of X_columns:\", len(X_columns))\n",
    "    \n",
    "    df_errors_test = pd.DataFrame(index=[\"mse\"])\n",
    "    feature_importance = pd.DataFrame(index=X_columns)\n",
    "    if scaling:\n",
    "        train = df_train.copy()\n",
    "        test = df_test.copy()\n",
    "        scaler = MinMaxScaler()\n",
    "        scaler.fit(train[columns_for_normalisation])\n",
    "        train[columns_for_normalisation] = scaler.transform(train[columns_for_normalisation])\n",
    "        X_train = train[X_columns].values  \n",
    "        test[columns_for_normalisation] = scaler.transform(test[columns_for_normalisation])\n",
    "        X_test = test[X_columns].values\n",
    "    else:\n",
    "        X_train = df_train[X_columns].values\n",
    "        X_test = df_test[X_columns].values\n",
    "    \n",
    "    for i in range(number_coefficients):\n",
    "        y_train = df_train[\"param_\"+str(i+1)].values\n",
    "        y_test = df_test[\"param_\"+str(i+1)].values\n",
    "            \n",
    "        #check whether each coefficient needs its own parameters\n",
    "        if type(alpha)==dict:\n",
    "            alpha_value = alpha[i+1]\n",
    "        else:\n",
    "            alpha_value = alpha\n",
    "                \n",
    "        if type(solver)==dict:\n",
    "            solver_value = solver[i+1]\n",
    "        else:\n",
    "            solver_value = solver\n",
    "                \n",
    "        lin_reg = Ridge(alpha = alpha_value, solver = solver_value)\n",
    "        lin_reg.fit(X_train, y_train)\n",
    "        feature_importance[\"coef_\"+str(i+1)] = lin_reg.coef_\n",
    "        y_pred = lin_reg.predict(X_test)\n",
    "        df_test[\"pred_coef_\"+str(i+1)] = y_pred\n",
    "\n",
    "    return feature_importance, df_test[columns_to_use]"
   ]
  },
  {
   "cell_type": "markdown",
   "metadata": {
    "collapsed": true
   },
   "source": [
    "### Testing function"
   ]
  },
  {
   "cell_type": "code",
   "execution_count": 57,
   "metadata": {},
   "outputs": [
    {
     "data": {
      "text/plain": [
       "['filtered_drug_profiles_123.csv',\n",
       " 'filtered_drug_profiles_12.csv',\n",
       " 'filtered_drug_profiles_13.csv',\n",
       " 'filtered_drug_profiles_23.csv',\n",
       " '.ipynb_checkpoints',\n",
       " 'kernel_learning_1_2.csv',\n",
       " 'merged_drug_profiles_sigmoid4_123.csv',\n",
       " 'drug_features_pubchem_id.csv',\n",
       " 'drug_features_with_pubchem_properties.csv',\n",
       " 'merged_fitted_sigmoid4_123_with_drugs_description.csv',\n",
       " 'merged_fitted_sigmoid4_123_with_drugs_properties.csv',\n",
       " 'merged_fitted_sigmoid4_123_with_drugs_description_split_target.csv',\n",
       " 'merged_fitted_sigmoid4_123_with_drugs_properties_split_target.csv',\n",
       " 'kernel_learning_1.csv',\n",
       " 'kernel_learning_2.csv',\n",
       " 'kernel_learning_3.csv',\n",
       " 'test02_merged_fitted_sigmoid4_123_with_drugs_properties.csv',\n",
       " 'test02_merged_fitted_sigmoid4_123_with_drugs_description.csv',\n",
       " 'train08_merged_fitted_sigmoid4_123_with_drugs_description.csv',\n",
       " 'train08_merged_fitted_sigmoid4_123_with_drugs_properties.csv',\n",
       " 'kernel_learning_2_2.csv',\n",
       " 'kernel_learning_3_2.csv',\n",
       " 'kernel_learning_4.csv',\n",
       " 'Lasso_1.csv',\n",
       " 'Lasso_2.csv',\n",
       " 'Lasso_3.csv',\n",
       " 'Lasso_4.csv',\n",
       " 'Ridge_1.csv',\n",
       " 'Ridge_2.csv',\n",
       " 'Ridge_3.csv',\n",
       " 'Ridge_4.csv',\n",
       " 'statistics_of_sigmoid_coefficients.csv',\n",
       " 'paramters_distribution.png']"
      ]
     },
     "execution_count": 57,
     "metadata": {},
     "output_type": "execute_result"
    }
   ],
   "source": [
    "os.listdir(_FOLDER)"
   ]
  },
  {
   "cell_type": "code",
   "execution_count": 58,
   "metadata": {},
   "outputs": [],
   "source": [
    "train = pd.read_csv(_FOLDER+\"train08_merged_fitted_sigmoid4_123_with_drugs_description.csv\")\n",
    "test = pd.read_csv(_FOLDER+\"test02_merged_fitted_sigmoid4_123_with_drugs_description.csv\")"
   ]
  },
  {
   "cell_type": "code",
   "execution_count": 59,
   "metadata": {},
   "outputs": [],
   "source": [
    "column_not_to_use = [\"Unnamed: 0\", \"Unnamed: 0.1\", \"COSMIC_ID\", \"DRUG_ID\", \"Drug_Name\", \"Synonyms\", \"Target\", \"deriv_found\", \"PubChem_ID\",\n",
    "                     \"elements\", \"inchi_key\", \"canonical_smiles\", \"inchi_string\", \"third_target\", \"first_target\", \"molecular_formula\", \"second_target\", \"Target_Pathway\"]\n",
    "param1 = [\"param_\" +str(i) for i in range(10)]\n",
    "param2 = [\"param\" +str(i) for i in range(10)] \n",
    "norm_response  = [\"norm_cells_\"+str(i) for i in range(10)]\n",
    "con_columns  = [\"fd_num_\"+str(i) for i in range(10)]\n",
    "\n",
    "not_X_columns = param1 + param2 + norm_response + con_columns + column_not_to_use\n",
    "X_columns = set(train.columns) - set(not_X_columns)"
   ]
  },
  {
   "cell_type": "code",
   "execution_count": 60,
   "metadata": {},
   "outputs": [
    {
     "name": "stdout",
     "output_type": "stream",
     "text": [
      "Number of X_columns: 1073\n"
     ]
    }
   ],
   "source": [
    "number_coefficients=4 \n",
    "columns_to_use = [\"DRUG_ID\", \"Drug_Name\", \"COSMIC_ID\"] + [\"pred_coef_\"+str(i+1) for i in range(number_coefficients)]\n",
    "feature_importance, results = PredictionsLassoSplittedDataSets(train, test, number_coefficients=number_coefficients,\n",
    "                                     column_not_to_use=column_not_to_use, alpha=500, \n",
    "                                    columns_to_use= columns_to_use)"
   ]
  },
  {
   "cell_type": "code",
   "execution_count": 61,
   "metadata": {},
   "outputs": [
    {
     "data": {
      "text/html": [
       "<div>\n",
       "<style scoped>\n",
       "    .dataframe tbody tr th:only-of-type {\n",
       "        vertical-align: middle;\n",
       "    }\n",
       "\n",
       "    .dataframe tbody tr th {\n",
       "        vertical-align: top;\n",
       "    }\n",
       "\n",
       "    .dataframe thead th {\n",
       "        text-align: right;\n",
       "    }\n",
       "</style>\n",
       "<table border=\"1\" class=\"dataframe\">\n",
       "  <thead>\n",
       "    <tr style=\"text-align: right;\">\n",
       "      <th></th>\n",
       "      <th>coef_1</th>\n",
       "      <th>coef_2</th>\n",
       "      <th>coef_3</th>\n",
       "      <th>coef_4</th>\n",
       "    </tr>\n",
       "  </thead>\n",
       "  <tbody>\n",
       "  </tbody>\n",
       "</table>\n",
       "</div>"
      ],
      "text/plain": [
       "Empty DataFrame\n",
       "Columns: [coef_1, coef_2, coef_3, coef_4]\n",
       "Index: []"
      ]
     },
     "execution_count": 61,
     "metadata": {},
     "output_type": "execute_result"
    }
   ],
   "source": [
    "feature_importance[feature_importance[\"coef_4\"]!=0]"
   ]
  },
  {
   "cell_type": "code",
   "execution_count": 43,
   "metadata": {},
   "outputs": [
    {
     "data": {
      "text/html": [
       "<div>\n",
       "<style scoped>\n",
       "    .dataframe tbody tr th:only-of-type {\n",
       "        vertical-align: middle;\n",
       "    }\n",
       "\n",
       "    .dataframe tbody tr th {\n",
       "        vertical-align: top;\n",
       "    }\n",
       "\n",
       "    .dataframe thead th {\n",
       "        text-align: right;\n",
       "    }\n",
       "</style>\n",
       "<table border=\"1\" class=\"dataframe\">\n",
       "  <thead>\n",
       "    <tr style=\"text-align: right;\">\n",
       "      <th></th>\n",
       "      <th>DRUG_ID</th>\n",
       "      <th>Drug_Name</th>\n",
       "      <th>COSMIC_ID</th>\n",
       "      <th>pred_coef_1</th>\n",
       "      <th>pred_coef_2</th>\n",
       "      <th>pred_coef_3</th>\n",
       "      <th>pred_coef_4</th>\n",
       "    </tr>\n",
       "  </thead>\n",
       "  <tbody>\n",
       "    <tr>\n",
       "      <th>0</th>\n",
       "      <td>11</td>\n",
       "      <td>Paclitaxel</td>\n",
       "      <td>907170</td>\n",
       "      <td>0.587655</td>\n",
       "      <td>0.995964</td>\n",
       "      <td>-18.991084</td>\n",
       "      <td>0.080602</td>\n",
       "    </tr>\n",
       "    <tr>\n",
       "      <th>1</th>\n",
       "      <td>11</td>\n",
       "      <td>Paclitaxel</td>\n",
       "      <td>908159</td>\n",
       "      <td>0.587655</td>\n",
       "      <td>0.995964</td>\n",
       "      <td>-18.991084</td>\n",
       "      <td>0.080602</td>\n",
       "    </tr>\n",
       "    <tr>\n",
       "      <th>2</th>\n",
       "      <td>11</td>\n",
       "      <td>Paclitaxel</td>\n",
       "      <td>909720</td>\n",
       "      <td>0.587655</td>\n",
       "      <td>0.995964</td>\n",
       "      <td>-18.991084</td>\n",
       "      <td>0.080602</td>\n",
       "    </tr>\n",
       "    <tr>\n",
       "      <th>3</th>\n",
       "      <td>11</td>\n",
       "      <td>Paclitaxel</td>\n",
       "      <td>905958</td>\n",
       "      <td>0.587655</td>\n",
       "      <td>0.995964</td>\n",
       "      <td>-18.991084</td>\n",
       "      <td>0.080602</td>\n",
       "    </tr>\n",
       "    <tr>\n",
       "      <th>4</th>\n",
       "      <td>41</td>\n",
       "      <td>S-Trityl-L-cysteine</td>\n",
       "      <td>724872</td>\n",
       "      <td>0.587655</td>\n",
       "      <td>0.995964</td>\n",
       "      <td>-18.991084</td>\n",
       "      <td>0.080602</td>\n",
       "    </tr>\n",
       "    <tr>\n",
       "      <th>...</th>\n",
       "      <td>...</td>\n",
       "      <td>...</td>\n",
       "      <td>...</td>\n",
       "      <td>...</td>\n",
       "      <td>...</td>\n",
       "      <td>...</td>\n",
       "      <td>...</td>\n",
       "    </tr>\n",
       "    <tr>\n",
       "      <th>481</th>\n",
       "      <td>1149</td>\n",
       "      <td>TW 37</td>\n",
       "      <td>688121</td>\n",
       "      <td>0.587655</td>\n",
       "      <td>0.995964</td>\n",
       "      <td>-18.991084</td>\n",
       "      <td>0.080602</td>\n",
       "    </tr>\n",
       "    <tr>\n",
       "      <th>482</th>\n",
       "      <td>1149</td>\n",
       "      <td>TW 37</td>\n",
       "      <td>910548</td>\n",
       "      <td>0.587655</td>\n",
       "      <td>0.995964</td>\n",
       "      <td>-18.991084</td>\n",
       "      <td>0.080602</td>\n",
       "    </tr>\n",
       "    <tr>\n",
       "      <th>483</th>\n",
       "      <td>1149</td>\n",
       "      <td>TW 37</td>\n",
       "      <td>753531</td>\n",
       "      <td>0.587655</td>\n",
       "      <td>0.995964</td>\n",
       "      <td>-18.991084</td>\n",
       "      <td>0.080602</td>\n",
       "    </tr>\n",
       "    <tr>\n",
       "      <th>484</th>\n",
       "      <td>1149</td>\n",
       "      <td>TW 37</td>\n",
       "      <td>1240179</td>\n",
       "      <td>0.587655</td>\n",
       "      <td>0.995964</td>\n",
       "      <td>-18.991084</td>\n",
       "      <td>0.080602</td>\n",
       "    </tr>\n",
       "    <tr>\n",
       "      <th>485</th>\n",
       "      <td>1149</td>\n",
       "      <td>TW 37</td>\n",
       "      <td>687985</td>\n",
       "      <td>0.587655</td>\n",
       "      <td>0.995964</td>\n",
       "      <td>-18.991084</td>\n",
       "      <td>0.080602</td>\n",
       "    </tr>\n",
       "  </tbody>\n",
       "</table>\n",
       "<p>486 rows × 7 columns</p>\n",
       "</div>"
      ],
      "text/plain": [
       "     DRUG_ID            Drug_Name  COSMIC_ID  pred_coef_1  pred_coef_2  \\\n",
       "0         11           Paclitaxel     907170     0.587655     0.995964   \n",
       "1         11           Paclitaxel     908159     0.587655     0.995964   \n",
       "2         11           Paclitaxel     909720     0.587655     0.995964   \n",
       "3         11           Paclitaxel     905958     0.587655     0.995964   \n",
       "4         41  S-Trityl-L-cysteine     724872     0.587655     0.995964   \n",
       "..       ...                  ...        ...          ...          ...   \n",
       "481     1149                TW 37     688121     0.587655     0.995964   \n",
       "482     1149                TW 37     910548     0.587655     0.995964   \n",
       "483     1149                TW 37     753531     0.587655     0.995964   \n",
       "484     1149                TW 37    1240179     0.587655     0.995964   \n",
       "485     1149                TW 37     687985     0.587655     0.995964   \n",
       "\n",
       "     pred_coef_3  pred_coef_4  \n",
       "0     -18.991084     0.080602  \n",
       "1     -18.991084     0.080602  \n",
       "2     -18.991084     0.080602  \n",
       "3     -18.991084     0.080602  \n",
       "4     -18.991084     0.080602  \n",
       "..           ...          ...  \n",
       "481   -18.991084     0.080602  \n",
       "482   -18.991084     0.080602  \n",
       "483   -18.991084     0.080602  \n",
       "484   -18.991084     0.080602  \n",
       "485   -18.991084     0.080602  \n",
       "\n",
       "[486 rows x 7 columns]"
      ]
     },
     "execution_count": 43,
     "metadata": {},
     "output_type": "execute_result"
    }
   ],
   "source": [
    "results"
   ]
  },
  {
   "cell_type": "code",
   "execution_count": null,
   "metadata": {
    "collapsed": true
   },
   "outputs": [],
   "source": []
  },
  {
   "cell_type": "code",
   "execution_count": null,
   "metadata": {
    "collapsed": true
   },
   "outputs": [],
   "source": []
  },
  {
   "cell_type": "code",
   "execution_count": null,
   "metadata": {
    "collapsed": true
   },
   "outputs": [],
   "source": []
  },
  {
   "cell_type": "code",
   "execution_count": 8,
   "metadata": {
    "collapsed": true
   },
   "outputs": [],
   "source": [
    "y = df[\"param_1\"]\n",
    "X=df[X_columns]"
   ]
  },
  {
   "cell_type": "code",
   "execution_count": 9,
   "metadata": {
    "collapsed": true
   },
   "outputs": [],
   "source": [
    "model = KernelRidge()"
   ]
  },
  {
   "cell_type": "code",
   "execution_count": 11,
   "metadata": {},
   "outputs": [
    {
     "data": {
      "text/plain": [
       "KernelRidge(alpha=1, coef0=1, degree=3, gamma=None, kernel='linear',\n",
       "            kernel_params=None)"
      ]
     },
     "execution_count": 11,
     "metadata": {},
     "output_type": "execute_result"
    }
   ],
   "source": [
    "model.fit(X,y)"
   ]
  },
  {
   "cell_type": "code",
   "execution_count": 13,
   "metadata": {},
   "outputs": [
    {
     "data": {
      "text/plain": [
       "1817"
      ]
     },
     "execution_count": 13,
     "metadata": {},
     "output_type": "execute_result"
    }
   ],
   "source": [
    "len(model.dual_coef_)"
   ]
  },
  {
   "cell_type": "code",
   "execution_count": 14,
   "metadata": {},
   "outputs": [
    {
     "data": {
      "text/plain": [
       "1074"
      ]
     },
     "execution_count": 14,
     "metadata": {},
     "output_type": "execute_result"
    }
   ],
   "source": [
    "len(X_columns)"
   ]
  },
  {
   "cell_type": "code",
   "execution_count": 15,
   "metadata": {},
   "outputs": [
    {
     "data": {
      "text/plain": [
       "'linear'"
      ]
     },
     "execution_count": 15,
     "metadata": {},
     "output_type": "execute_result"
    }
   ],
   "source": [
    "model.kernel"
   ]
  },
  {
   "cell_type": "code",
   "execution_count": null,
   "metadata": {
    "collapsed": true
   },
   "outputs": [],
   "source": []
  }
 ],
 "metadata": {
  "anaconda-cloud": {},
  "kernelspec": {
   "display_name": "Python [conda env:jupyter-spark]",
   "language": "python",
   "name": "conda-env-jupyter-spark-py"
  },
  "language_info": {
   "codemirror_mode": {
    "name": "ipython",
    "version": 3
   },
   "file_extension": ".py",
   "mimetype": "text/x-python",
   "name": "python",
   "nbconvert_exporter": "python",
   "pygments_lexer": "ipython3",
   "version": "3.6.5"
  }
 },
 "nbformat": 4,
 "nbformat_minor": 4
}
