{
 "cells": [
  {
   "cell_type": "code",
   "execution_count": 1,
   "metadata": {},
   "outputs": [],
   "source": [
    "import pandas as pd\n",
    "import numpy as np\n",
    "import time\n",
    "from sklearn.metrics import r2_score\n",
    "from scipy.optimize import curve_fit\n",
    "from scipy.optimize import leastsq\n",
    "import scipy.optimize as opt\n",
    "from tqdm import tqdm\n",
    "import warnings\n",
    "warnings.filterwarnings(\"ignore\")\n",
    "\n",
    "from sklearn.kernel_ridge import KernelRidge\n",
    "from sklearn.model_selection import train_test_split\n",
    "from sklearn.metrics import mean_squared_error\n",
    "from sklearn.metrics import mean_absolute_error\n",
    "import gc\n",
    "\n",
    "from sklearn.model_selection import LeaveOneOut\n",
    "from sklearn.preprocessing import StandardScaler\n",
    "import os\n",
    "from data_preprocessing import FilteringCurves, ShowResponseCurves\n",
    "from fitting_curves import FittingColumn, ShowResponseCurvesWithFitting, compute_r2_score\n",
    "\n",
    "# from IPython.display import display\n",
    "_FOLDER = \"results/\"\n",
    "# _FOLDER = \"/home/acq18mk/master/results/\""
   ]
  },
  {
   "cell_type": "code",
   "execution_count": null,
   "metadata": {},
   "outputs": [],
   "source": [
    "def TestTunedKernels(merged_df, drug_ids, number_coefficients, kernel, train_ratio =0.8, column_not_to_use =[], \n",
    "                     alpha=1, gamma=None, degree=3, coef0=1, \n",
    "                     features_to_scale=[], scaling=False\n",
    "                     columns_to_use= []):\n",
    "    \"\"\"Training and testing Kernels with the best found hyperparameters\"\"\"\n",
    "    \n",
    "    param1 = [\"param_\" +str(i) for i in range(10)]\n",
    "    param2 = [\"param\" +str(i) for i in range(10)] \n",
    "    norm_response  = [\"norm_cells_\"+str(i) for i in range(10)]\n",
    "    con_columns  = [\"fd_num_\"+str(i) for i in range(10)]\n",
    "\n",
    "    not_X_columns = param1 + param2 + norm_response + con_columns+column_not_to_use\n",
    "    X_columns = set(df.columns) - set(not_X_columns)\n",
    "    print(\"Number of X_columns:\", len(X_columns))\n",
    "    \n",
    "    df_errors_test = pd.DataFrame()\n",
    "    df_model_coef = pd.DataFrame(index=X_columns)\n",
    "\n",
    "    for drug_id in drug_ids:\n",
    "        \n",
    "        merged_df_i = merged_df[merged_df[\"DRUG_ID\"]==drug_id]\n",
    "        np.random.seed(123)\n",
    "        indexes = np.random.permutation(merged_df_i.index)\n",
    "        train_size = int(merged_df_i.shape[0]*train_ratio)\n",
    "        indexes_train = indexes[:train_size]\n",
    "        indexes_test= indexes[train_size:]\n",
    "        \n",
    "        if scaling:\n",
    "            train = merged_df_i.loc[indexes_train, X_columns].copy()\n",
    "            test = merged_df_i.loc[indexes_test, X_columns].copy()\n",
    "            scaler = StandardScaler()\n",
    "            scaler.fit(train[columns_for_normalisation])\n",
    "            train[columns_for_normalisation] = scaler.transform(train[columns_for_normalisation])\n",
    "            X_train = train.values  \n",
    "            test[columns_for_normalisation] = scaler.transform(test[columns_for_normalisation])\n",
    "            X_test = test.values\n",
    "        else:\n",
    "            X_train = merged_df_i.loc[indexes_train, X_columns].values\n",
    "            X_test = merged_df_i.loc[indexes_test, X_columns].values\n",
    "    \n",
    "        for i in range(number_coefficients):\n",
    "\n",
    "            y_train = merged_df_i.loc[indexes_train, \"param_\"+str(i+1)].values\n",
    "            y_test = merged_df_i.loc[indexes_test, \"param_\"+str(i+1)].values\n",
    "            \n",
    "            #check whether each coefficient needs its own parameters\n",
    "            if type(alpha)==dict:\n",
    "                alpha_value = alpha[i+1]\n",
    "            else:\n",
    "                alpha_value = alpha\n",
    "                \n",
    "            if type(gamma)==dict:\n",
    "                gamma_value = gamma[i+1]\n",
    "            else:\n",
    "                gamma_value = gamma\n",
    "            \n",
    "            if type(degree)==dict:\n",
    "                degree_value = degree[i+1]\n",
    "            else:\n",
    "                degree_value = degree\n",
    "                \n",
    "            if type(coef0)==dict:\n",
    "                coef0_value = coef0[i+1]\n",
    "            else:\n",
    "                coef0_value = coef0\n",
    "                \n",
    "            kr_lin = KernelRidge(kernel = kernel, alpha = alpha_value, gamma=gamma_value, \n",
    "                                 degree=degree_value, coef0=coef0_value)\n",
    "            kr_lin.fit(X_train, y_train)\n",
    "            y_pred = np.exp(kr_lin.predict(X_test))\n",
    "            \n",
    "            merged_df_i.loc[indexes_test, \"pred_param_\"+str(i+1)] = y_pred\n",
    "            df_model_coef[drug_id] = \n",
    "                           \n",
    "    return merged_df[columns_to_use]"
   ]
  },
  {
   "cell_type": "code",
   "execution_count": null,
   "metadata": {},
   "outputs": [],
   "source": [
    "# что мне надо:\n",
    "предсказанные коэффициенты кривых для тестовых данных\n",
    "метрика мне не нужна! - можно посчитать позже и мсе и мае."
   ]
  },
  {
   "cell_type": "code",
   "execution_count": null,
   "metadata": {},
   "outputs": [],
   "source": [
    "вывести предсказанные коэффициенты модели\n",
    "отдельно для каждого лекарства?\n",
    "потом сравнить с обобщенными данными"
   ]
  },
  {
   "cell_type": "code",
   "execution_count": null,
   "metadata": {},
   "outputs": [],
   "source": [
    "то же самое как для kernelRidge, сделать для SVM\n",
    "https://scikit-learn.org/stable/modules/generated/sklearn.svm.SVR.html"
   ]
  },
  {
   "cell_type": "code",
   "execution_count": 2,
   "metadata": {},
   "outputs": [
    {
     "data": {
      "text/plain": [
       "['test02_merged_fitted_sigmoid4_123_with_drugs_properties.csv',\n",
       " 'kernel_learning_01_2.csv',\n",
       " 'kernel_learning_03_2.csv',\n",
       " 'test02_merged_fitted_sigmoid4_123_with_drugs_description.csv',\n",
       " 'drug_features_with_pubchem_properties.csv',\n",
       " 'kernel_learning_03.csv',\n",
       " 'kernel_learning_02.csv',\n",
       " 'merged_fitted_sigmoid4_123_with_drugs_description.csv',\n",
       " 'filtered_drug_profiles_13.csv',\n",
       " 'merged_fitted_sigmoid4_123_with_drugs_properties_split_target.csv',\n",
       " 'kernel_learning_01.csv',\n",
       " 'filtered_drug_profiles_12.csv',\n",
       " 'merged_fitted_sigmoid4_123_with_drugs_description_split_target.csv',\n",
       " 'kernel_learning_04.csv',\n",
       " 'drug_features_pubchem_id.csv',\n",
       " 'kernel_learning_02_2.csv',\n",
       " 'train08_merged_fitted_sigmoid4_123_with_drugs_description.csv',\n",
       " 'Lasso_2.csv',\n",
       " 'kernel_learning_2.csv',\n",
       " 'kernel_learning_3.csv',\n",
       " 'Lasso_3.csv',\n",
       " 'Lasso_1.csv',\n",
       " 'kernel_learning_1.csv',\n",
       " 'kernel_learning_3_2.csv',\n",
       " 'train08_merged_fitted_sigmoid4_123_with_drugs_properties.csv',\n",
       " 'filtered_drug_profiles_23.csv',\n",
       " 'Lasso_4.csv',\n",
       " 'kernel_learning_4.csv',\n",
       " 'kernel_learning_1_2.csv',\n",
       " 'merged_drug_profiles_sigmoid4_123.csv',\n",
       " '.ipynb_checkpoints',\n",
       " 'filtered_drug_profiles_123.csv',\n",
       " 'merged_fitted_sigmoid4_123_with_drugs_properties.csv',\n",
       " 'kernel_learning_2_2.csv']"
      ]
     },
     "execution_count": 2,
     "metadata": {},
     "output_type": "execute_result"
    }
   ],
   "source": [
    "os.listdir(\"results\")"
   ]
  },
  {
   "cell_type": "code",
   "execution_count": 3,
   "metadata": {},
   "outputs": [],
   "source": [
    "df = pd.read_csv(\"results/train08_merged_fitted_sigmoid4_123_with_drugs_description.csv\")"
   ]
  },
  {
   "cell_type": "code",
   "execution_count": 5,
   "metadata": {},
   "outputs": [
    {
     "data": {
      "text/html": [
       "<div>\n",
       "<style scoped>\n",
       "    .dataframe tbody tr th:only-of-type {\n",
       "        vertical-align: middle;\n",
       "    }\n",
       "\n",
       "    .dataframe tbody tr th {\n",
       "        vertical-align: top;\n",
       "    }\n",
       "\n",
       "    .dataframe thead th {\n",
       "        text-align: right;\n",
       "    }\n",
       "</style>\n",
       "<table border=\"1\" class=\"dataframe\">\n",
       "  <thead>\n",
       "    <tr style=\"text-align: right;\">\n",
       "      <th></th>\n",
       "      <th>Unnamed: 0</th>\n",
       "      <th>Unnamed: 0.1</th>\n",
       "      <th>DRUG_ID</th>\n",
       "      <th>COSMIC_ID</th>\n",
       "      <th>fd_num_0</th>\n",
       "      <th>fd_num_1</th>\n",
       "      <th>fd_num_2</th>\n",
       "      <th>fd_num_3</th>\n",
       "      <th>fd_num_4</th>\n",
       "      <th>fd_num_5</th>\n",
       "      <th>...</th>\n",
       "      <th>chr9:123555399-123555899(FBXW2)_HypMET</th>\n",
       "      <th>chr9:140310894-140312457(EXD3)_HypMET</th>\n",
       "      <th>chr9:21974578-21975306(CDKN2A)_HypMET</th>\n",
       "      <th>chr9:35756948-35757339(MSMP)_HypMET</th>\n",
       "      <th>chr9:35791584-35791924(NPR2)_HypMET</th>\n",
       "      <th>chr9:4984543-4985630(JAK2)_HypMET</th>\n",
       "      <th>chr9:86571047-86572027(C9orf64)_HypMET</th>\n",
       "      <th>chr9:98783216-98784364(NCRNA00092)_HypMET</th>\n",
       "      <th>Target_Pathway</th>\n",
       "      <th>Drug_Name</th>\n",
       "    </tr>\n",
       "  </thead>\n",
       "  <tbody>\n",
       "    <tr>\n",
       "      <th>0</th>\n",
       "      <td>87</td>\n",
       "      <td>87</td>\n",
       "      <td>11</td>\n",
       "      <td>1322218</td>\n",
       "      <td>0</td>\n",
       "      <td>0.111111</td>\n",
       "      <td>0.222222</td>\n",
       "      <td>0.333333</td>\n",
       "      <td>0.444444</td>\n",
       "      <td>0.555556</td>\n",
       "      <td>...</td>\n",
       "      <td>0</td>\n",
       "      <td>0</td>\n",
       "      <td>0</td>\n",
       "      <td>0</td>\n",
       "      <td>0</td>\n",
       "      <td>0</td>\n",
       "      <td>0</td>\n",
       "      <td>0</td>\n",
       "      <td>Mitosis</td>\n",
       "      <td>Paclitaxel</td>\n",
       "    </tr>\n",
       "    <tr>\n",
       "      <th>1</th>\n",
       "      <td>73</td>\n",
       "      <td>73</td>\n",
       "      <td>11</td>\n",
       "      <td>753614</td>\n",
       "      <td>0</td>\n",
       "      <td>0.111111</td>\n",
       "      <td>0.222222</td>\n",
       "      <td>0.333333</td>\n",
       "      <td>0.444444</td>\n",
       "      <td>0.555556</td>\n",
       "      <td>...</td>\n",
       "      <td>0</td>\n",
       "      <td>0</td>\n",
       "      <td>0</td>\n",
       "      <td>0</td>\n",
       "      <td>0</td>\n",
       "      <td>0</td>\n",
       "      <td>0</td>\n",
       "      <td>0</td>\n",
       "      <td>Mitosis</td>\n",
       "      <td>Paclitaxel</td>\n",
       "    </tr>\n",
       "  </tbody>\n",
       "</table>\n",
       "<p>2 rows × 1103 columns</p>\n",
       "</div>"
      ],
      "text/plain": [
       "   Unnamed: 0  Unnamed: 0.1  DRUG_ID  COSMIC_ID  fd_num_0  fd_num_1  fd_num_2  \\\n",
       "0          87            87       11    1322218         0  0.111111  0.222222   \n",
       "1          73            73       11     753614         0  0.111111  0.222222   \n",
       "\n",
       "   fd_num_3  fd_num_4  fd_num_5  ...  chr9:123555399-123555899(FBXW2)_HypMET  \\\n",
       "0  0.333333  0.444444  0.555556  ...                                       0   \n",
       "1  0.333333  0.444444  0.555556  ...                                       0   \n",
       "\n",
       "   chr9:140310894-140312457(EXD3)_HypMET  \\\n",
       "0                                      0   \n",
       "1                                      0   \n",
       "\n",
       "   chr9:21974578-21975306(CDKN2A)_HypMET  chr9:35756948-35757339(MSMP)_HypMET  \\\n",
       "0                                      0                                    0   \n",
       "1                                      0                                    0   \n",
       "\n",
       "   chr9:35791584-35791924(NPR2)_HypMET  chr9:4984543-4985630(JAK2)_HypMET  \\\n",
       "0                                    0                                  0   \n",
       "1                                    0                                  0   \n",
       "\n",
       "   chr9:86571047-86572027(C9orf64)_HypMET  \\\n",
       "0                                       0   \n",
       "1                                       0   \n",
       "\n",
       "   chr9:98783216-98784364(NCRNA00092)_HypMET  Target_Pathway   Drug_Name  \n",
       "0                                          0         Mitosis  Paclitaxel  \n",
       "1                                          0         Mitosis  Paclitaxel  \n",
       "\n",
       "[2 rows x 1103 columns]"
      ]
     },
     "execution_count": 5,
     "metadata": {},
     "output_type": "execute_result"
    }
   ],
   "source": [
    "df.head(2)"
   ]
  },
  {
   "cell_type": "code",
   "execution_count": 6,
   "metadata": {},
   "outputs": [],
   "source": [
    "column_not_to_use = [\"Unnamed: 0\", \"COSMIC_ID\", \"DRUG_ID\", \"Drug_Name\", \"Synonyms\", \"Target\", \"deriv_found\", \"PubChem_ID\",\n",
    "                     \"elements\", \"inchi_key\", \"canonical_smiles\", \"inchi_string\", \"third_target\", \"first_target\", \"molecular_formula\", \"second_target\", \"Target_Pathway\"]\n",
    "param1 = [\"param_\" +str(i) for i in range(10)]\n",
    "param2 = [\"param\" +str(i) for i in range(10)] \n",
    "norm_response  = [\"norm_cells_\"+str(i) for i in range(10)]\n",
    "con_columns  = [\"fd_num_\"+str(i) for i in range(10)]\n",
    "\n",
    "not_X_columns = param1 + param2 + norm_response + con_columns + column_not_to_use\n",
    "X_columns = set(df.columns) - set(not_X_columns)"
   ]
  },
  {
   "cell_type": "code",
   "execution_count": 8,
   "metadata": {},
   "outputs": [],
   "source": [
    "y = df[\"param_1\"]\n",
    "X=df[X_columns]"
   ]
  },
  {
   "cell_type": "code",
   "execution_count": 9,
   "metadata": {},
   "outputs": [],
   "source": [
    "model = KernelRidge()"
   ]
  },
  {
   "cell_type": "code",
   "execution_count": 11,
   "metadata": {},
   "outputs": [
    {
     "data": {
      "text/plain": [
       "KernelRidge(alpha=1, coef0=1, degree=3, gamma=None, kernel='linear',\n",
       "            kernel_params=None)"
      ]
     },
     "execution_count": 11,
     "metadata": {},
     "output_type": "execute_result"
    }
   ],
   "source": [
    "model.fit(X,y)"
   ]
  },
  {
   "cell_type": "code",
   "execution_count": 13,
   "metadata": {},
   "outputs": [
    {
     "data": {
      "text/plain": [
       "1817"
      ]
     },
     "execution_count": 13,
     "metadata": {},
     "output_type": "execute_result"
    }
   ],
   "source": [
    "len(model.dual_coef_)"
   ]
  },
  {
   "cell_type": "code",
   "execution_count": 14,
   "metadata": {},
   "outputs": [
    {
     "data": {
      "text/plain": [
       "1074"
      ]
     },
     "execution_count": 14,
     "metadata": {},
     "output_type": "execute_result"
    }
   ],
   "source": [
    "len(X_columns)"
   ]
  },
  {
   "cell_type": "code",
   "execution_count": 15,
   "metadata": {},
   "outputs": [
    {
     "data": {
      "text/plain": [
       "'linear'"
      ]
     },
     "execution_count": 15,
     "metadata": {},
     "output_type": "execute_result"
    }
   ],
   "source": [
    "model.kernel"
   ]
  },
  {
   "cell_type": "code",
   "execution_count": null,
   "metadata": {},
   "outputs": [],
   "source": []
  }
 ],
 "metadata": {
  "kernelspec": {
   "display_name": "myspark",
   "language": "python",
   "name": "myspark"
  },
  "language_info": {
   "codemirror_mode": {
    "name": "ipython",
    "version": 3
   },
   "file_extension": ".py",
   "mimetype": "text/x-python",
   "name": "python",
   "nbconvert_exporter": "python",
   "pygments_lexer": "ipython3",
   "version": "3.6.10"
  }
 },
 "nbformat": 4,
 "nbformat_minor": 4
}
