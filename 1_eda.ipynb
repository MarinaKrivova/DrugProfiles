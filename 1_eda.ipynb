{
 "cells": [
  {
   "cell_type": "code",
   "execution_count": 1,
   "metadata": {},
   "outputs": [],
   "source": [
    "import pandas as pd\n",
    "import numpy as np\n",
    "from scipy import stats\n",
    "from scipy.stats import norm\n",
    "import seaborn as sns\n",
    "import matplotlib.pyplot as plt\n",
    "%matplotlib inline\n",
    "from sklearn.metrics import r2_score\n",
    "_FOLDER = \"./data/\""
   ]
  },
  {
   "cell_type": "code",
   "execution_count": 2,
   "metadata": {},
   "outputs": [],
   "source": [
    "import os\n",
    "import gc\n",
    "import warnings\n",
    "warnings.filterwarnings(\"ignore\")\n",
    "from scipy.optimize import curve_fit\n",
    "from scipy.optimize import leastsq\n",
    "import scipy.optimize as opt\n",
    "from tqdm import tqdm"
   ]
  },
  {
   "cell_type": "code",
   "execution_count": 3,
   "metadata": {},
   "outputs": [
    {
     "name": "stdout",
     "output_type": "stream",
     "text": [
      "['Drug_Features2.csv', 'Cell_Lines_Details.csv', 'Drug_Features.csv', 'Cell_Line_Features_PANCAN_simple_MOBEM.xlsx', 'Cell_Line_Features_PANCAN_simple_MOBEM.tsv', 'normalised_dose_response_data.csv']\n"
     ]
    }
   ],
   "source": [
    "import os\n",
    "print(os.listdir(\"data\"))"
   ]
  },
  {
   "cell_type": "raw",
   "metadata": {},
   "source": [
    "Cell_Line_Features_PANCAN_simple_MOBEM.xlsx and Cell_Line_Features_PANCAN_simple_MOBEM.tsv are the same!!!"
   ]
  },
  {
   "cell_type": "markdown",
   "metadata": {},
   "source": [
    "### Cell_Lines_Details.csv"
   ]
  },
  {
   "cell_type": "code",
   "execution_count": 5,
   "metadata": {},
   "outputs": [
    {
     "data": {
      "text/plain": [
       "(1001, 13)"
      ]
     },
     "execution_count": 5,
     "metadata": {},
     "output_type": "execute_result"
    }
   ],
   "source": [
    "cell_lines = pd.read_csv(_FOLDER+'Cell_Lines_Details.csv')\n",
    "cell_lines.shape"
   ]
  },
  {
   "cell_type": "code",
   "execution_count": 6,
   "metadata": {},
   "outputs": [
    {
     "data": {
      "text/html": [
       "<div>\n",
       "<style scoped>\n",
       "    .dataframe tbody tr th:only-of-type {\n",
       "        vertical-align: middle;\n",
       "    }\n",
       "\n",
       "    .dataframe tbody tr th {\n",
       "        vertical-align: top;\n",
       "    }\n",
       "\n",
       "    .dataframe thead th {\n",
       "        text-align: right;\n",
       "    }\n",
       "</style>\n",
       "<table border=\"1\" class=\"dataframe\">\n",
       "  <thead>\n",
       "    <tr style=\"text-align: right;\">\n",
       "      <th></th>\n",
       "      <th>Sample Name</th>\n",
       "      <th>COSMIC identifier</th>\n",
       "      <th>Whole Exome Sequencing (WES)</th>\n",
       "      <th>Copy Number Alterations (CNA)</th>\n",
       "      <th>Gene Expression</th>\n",
       "      <th>Methylation</th>\n",
       "      <th>Drug\\rResponse</th>\n",
       "      <th>GDSC\\rTissue descriptor 1</th>\n",
       "      <th>GDSC\\rTissue\\rdescriptor 2</th>\n",
       "      <th>Cancer Type\\r(matching TCGA label)</th>\n",
       "      <th>Microsatellite \\rinstability Status (MSI)</th>\n",
       "      <th>Screen Medium</th>\n",
       "      <th>Growth Properties</th>\n",
       "    </tr>\n",
       "  </thead>\n",
       "  <tbody>\n",
       "    <tr>\n",
       "      <th>0</th>\n",
       "      <td>A253</td>\n",
       "      <td>906794</td>\n",
       "      <td>Y</td>\n",
       "      <td>Y</td>\n",
       "      <td>Y</td>\n",
       "      <td>Y</td>\n",
       "      <td>Y</td>\n",
       "      <td>aero_dig_tract</td>\n",
       "      <td>head and neck</td>\n",
       "      <td>NaN</td>\n",
       "      <td>MSS/MSI-L</td>\n",
       "      <td>D/F12</td>\n",
       "      <td>Adherent</td>\n",
       "    </tr>\n",
       "    <tr>\n",
       "      <th>1</th>\n",
       "      <td>BB30-HNC</td>\n",
       "      <td>753531</td>\n",
       "      <td>Y</td>\n",
       "      <td>Y</td>\n",
       "      <td>Y</td>\n",
       "      <td>Y</td>\n",
       "      <td>Y</td>\n",
       "      <td>aero_dig_tract</td>\n",
       "      <td>head and neck</td>\n",
       "      <td>HNSC</td>\n",
       "      <td>MSS/MSI-L</td>\n",
       "      <td>D/F12</td>\n",
       "      <td>Adherent</td>\n",
       "    </tr>\n",
       "    <tr>\n",
       "      <th>2</th>\n",
       "      <td>BB49-HNC</td>\n",
       "      <td>753532</td>\n",
       "      <td>Y</td>\n",
       "      <td>Y</td>\n",
       "      <td>Y</td>\n",
       "      <td>Y</td>\n",
       "      <td>Y</td>\n",
       "      <td>aero_dig_tract</td>\n",
       "      <td>head and neck</td>\n",
       "      <td>HNSC</td>\n",
       "      <td>MSS/MSI-L</td>\n",
       "      <td>D/F12</td>\n",
       "      <td>Adherent</td>\n",
       "    </tr>\n",
       "    <tr>\n",
       "      <th>3</th>\n",
       "      <td>BHY</td>\n",
       "      <td>753535</td>\n",
       "      <td>Y</td>\n",
       "      <td>Y</td>\n",
       "      <td>Y</td>\n",
       "      <td>Y</td>\n",
       "      <td>Y</td>\n",
       "      <td>aero_dig_tract</td>\n",
       "      <td>head and neck</td>\n",
       "      <td>HNSC</td>\n",
       "      <td>MSS/MSI-L</td>\n",
       "      <td>D/F12</td>\n",
       "      <td>Adherent</td>\n",
       "    </tr>\n",
       "    <tr>\n",
       "      <th>4</th>\n",
       "      <td>BICR10</td>\n",
       "      <td>1290724</td>\n",
       "      <td>Y</td>\n",
       "      <td>Y</td>\n",
       "      <td>Y</td>\n",
       "      <td>Y</td>\n",
       "      <td>Y</td>\n",
       "      <td>aero_dig_tract</td>\n",
       "      <td>head and neck</td>\n",
       "      <td>HNSC</td>\n",
       "      <td>MSS/MSI-L</td>\n",
       "      <td>D/F12</td>\n",
       "      <td>Adherent</td>\n",
       "    </tr>\n",
       "  </tbody>\n",
       "</table>\n",
       "</div>"
      ],
      "text/plain": [
       "  Sample Name  COSMIC identifier Whole Exome Sequencing (WES)  \\\n",
       "0        A253             906794                            Y   \n",
       "1    BB30-HNC             753531                            Y   \n",
       "2    BB49-HNC             753532                            Y   \n",
       "3         BHY             753535                            Y   \n",
       "4      BICR10            1290724                            Y   \n",
       "\n",
       "  Copy Number Alterations (CNA) Gene Expression Methylation Drug\\rResponse  \\\n",
       "0                             Y               Y           Y              Y   \n",
       "1                             Y               Y           Y              Y   \n",
       "2                             Y               Y           Y              Y   \n",
       "3                             Y               Y           Y              Y   \n",
       "4                             Y               Y           Y              Y   \n",
       "\n",
       "  GDSC\\rTissue descriptor 1 GDSC\\rTissue\\rdescriptor 2  \\\n",
       "0            aero_dig_tract              head and neck   \n",
       "1            aero_dig_tract              head and neck   \n",
       "2            aero_dig_tract              head and neck   \n",
       "3            aero_dig_tract              head and neck   \n",
       "4            aero_dig_tract              head and neck   \n",
       "\n",
       "  Cancer Type\\r(matching TCGA label)  \\\n",
       "0                                NaN   \n",
       "1                               HNSC   \n",
       "2                               HNSC   \n",
       "3                               HNSC   \n",
       "4                               HNSC   \n",
       "\n",
       "  Microsatellite \\rinstability Status (MSI) Screen Medium Growth Properties  \n",
       "0                                 MSS/MSI-L         D/F12          Adherent  \n",
       "1                                 MSS/MSI-L         D/F12          Adherent  \n",
       "2                                 MSS/MSI-L         D/F12          Adherent  \n",
       "3                                 MSS/MSI-L         D/F12          Adherent  \n",
       "4                                 MSS/MSI-L         D/F12          Adherent  "
      ]
     },
     "execution_count": 6,
     "metadata": {},
     "output_type": "execute_result"
    }
   ],
   "source": [
    "cell_lines.head()"
   ]
  },
  {
   "cell_type": "code",
   "execution_count": 7,
   "metadata": {},
   "outputs": [
    {
     "name": "stdout",
     "output_type": "stream",
     "text": [
      "<class 'pandas.core.frame.DataFrame'>\n",
      "RangeIndex: 1001 entries, 0 to 1000\n",
      "Data columns (total 13 columns):\n",
      " #   Column                                    Non-Null Count  Dtype \n",
      "---  ------                                    --------------  ----- \n",
      " 0   Sample Name                               1001 non-null   object\n",
      " 1   COSMIC identifier                         1001 non-null   int64 \n",
      " 2   Whole Exome Sequencing (WES)              1001 non-null   object\n",
      " 3   Copy Number Alterations (CNA)             1001 non-null   object\n",
      " 4   Gene Expression                           1001 non-null   object\n",
      " 5   Methylation                               1001 non-null   object\n",
      " 6   Drug\r",
      "Response                             1001 non-null   object\n",
      " 7   GDSC\r",
      "Tissue descriptor 1                  1001 non-null   object\n",
      " 8   GDSC\r",
      "Tissue\r",
      "descriptor 2                  1001 non-null   object\n",
      " 9   Cancer Type\r",
      "(matching TCGA label)         826 non-null    object\n",
      " 10  Microsatellite \r",
      "instability Status (MSI)  986 non-null    object\n",
      " 11  Screen Medium                             1001 non-null   object\n",
      " 12  Growth Properties                         999 non-null    object\n",
      "dtypes: int64(1), object(12)\n",
      "memory usage: 101.8+ KB\n"
     ]
    }
   ],
   "source": [
    "cell_lines.info()"
   ]
  },
  {
   "cell_type": "code",
   "execution_count": 8,
   "metadata": {},
   "outputs": [],
   "source": [
    "to_rename_columns = {\"Drug\\rResponse\": 'Drug/Response', \n",
    "                 'GDSC\\rTissue descriptor 1': \"GDSC/Tissue descriptor 1\",\n",
    "                  'GDSC\\rTissue\\rdescriptor 2':'GDSC/Tissue\\rdescriptor 2', \n",
    "                  'Cancer Type\\r(matching TCGA label)':'Cancer Type/(matching TCGA label)',\n",
    "                  'Microsatellite \\rinstability Status (MSI)':'Microsatellite/instability Status (MSI)',\n",
    "                 }\n",
    "cell_lines.rename(columns = to_rename_columns, inplace=True)"
   ]
  },
  {
   "cell_type": "code",
   "execution_count": 9,
   "metadata": {},
   "outputs": [
    {
     "name": "stdout",
     "output_type": "stream",
     "text": [
      "Number of samples in the data set: 1001 \n",
      "\n",
      "Sample Name - unique values: 1001 \n",
      "COSMIC identifier - unique values: 1001 \n",
      "GDSC/Tissue descriptor 1 - unique values: 19 \n",
      "Cancer Type/(matching TCGA label) - unique values: 31 \n",
      "Microsatellite/instability Status (MSI) - unique values: 2 \n",
      "Screen Medium - unique values: 2 \n",
      "Growth Properties - unique values: 3 \n"
     ]
    }
   ],
   "source": [
    "columns_to_study =[\"Sample Name\", \"COSMIC identifier\", \"GDSC/Tissue descriptor 1\", \n",
    "                   \"Cancer Type/(matching TCGA label)\", \"Microsatellite/instability Status (MSI)\",\n",
    "                  \"Screen Medium\", \"Growth Properties\"]\n",
    "\n",
    "print(\"Number of samples in the data set:\", cell_lines.shape[0], \"\\n\")\n",
    "for col in columns_to_study:\n",
    "    print(\"%s - unique values: %d \" % (col, cell_lines[col].nunique()))"
   ]
  },
  {
   "cell_type": "code",
   "execution_count": 10,
   "metadata": {},
   "outputs": [
    {
     "data": {
      "text/plain": [
       "Adherent         725\n",
       "Suspension       244\n",
       "Semi-Adherent     30\n",
       "Name: Growth Properties, dtype: int64"
      ]
     },
     "execution_count": 10,
     "metadata": {},
     "output_type": "execute_result"
    }
   ],
   "source": [
    "cell_lines[\"Growth Properties\"].value_counts()"
   ]
  },
  {
   "cell_type": "code",
   "execution_count": 11,
   "metadata": {},
   "outputs": [
    {
     "data": {
      "text/plain": [
       "Y    990\n",
       "N     11\n",
       "Name: Drug/Response, dtype: int64"
      ]
     },
     "execution_count": 11,
     "metadata": {},
     "output_type": "execute_result"
    }
   ],
   "source": [
    "cell_lines[\"Drug/Response\"].value_counts()"
   ]
  },
  {
   "cell_type": "code",
   "execution_count": 12,
   "metadata": {},
   "outputs": [],
   "source": [
    "cells_with_response = cell_lines[cell_lines[\"Drug/Response\"]==\"Y\"]"
   ]
  },
  {
   "cell_type": "code",
   "execution_count": 13,
   "metadata": {},
   "outputs": [
    {
     "name": "stdout",
     "output_type": "stream",
     "text": [
      "Cancer Type/(matching TCGA label) : 170\n",
      "Microsatellite/instability Status (MSI) : 15\n"
     ]
    }
   ],
   "source": [
    "#columns with NaN values\n",
    "for col in cells_with_response.columns:\n",
    "    number_null_values=cells_with_response[col].isnull().sum()\n",
    "    if number_null_values>0:\n",
    "        print(col, \":\", number_null_values)"
   ]
  },
  {
   "cell_type": "code",
   "execution_count": 14,
   "metadata": {},
   "outputs": [
    {
     "name": "stdout",
     "output_type": "stream",
     "text": [
      "Y    990\n",
      "Name: Whole Exome Sequencing (WES), dtype: int64 \n",
      "\n",
      "Y    985\n",
      "N      5\n",
      "Name: Copy Number Alterations (CNA), dtype: int64 \n",
      "\n",
      "Y    962\n",
      "N     28\n",
      "Name: Gene Expression, dtype: int64 \n",
      "\n",
      "Y    949\n",
      "N     41\n",
      "Name: Methylation, dtype: int64 \n",
      "\n"
     ]
    }
   ],
   "source": [
    "potential_features = [\"Whole Exome Sequencing (WES)\",\n",
    "                      \"Copy Number Alterations (CNA)\",\n",
    "                      \"Gene Expression\", \n",
    "                      \"Methylation\"]\n",
    "for col in potential_features:\n",
    "#     print(col, cells_with_response[col].nunique())\n",
    "    print(cells_with_response[col].value_counts(), \"\\n\")"
   ]
  },
  {
   "cell_type": "code",
   "execution_count": 15,
   "metadata": {},
   "outputs": [
    {
     "data": {
      "text/plain": [
       "(928, 13)"
      ]
     },
     "execution_count": 15,
     "metadata": {},
     "output_type": "execute_result"
    }
   ],
   "source": [
    "full_profiles= cells_with_response[(cells_with_response[\"Whole Exome Sequencing (WES)\"]==\"Y\")\n",
    "                    &(cells_with_response[\"Copy Number Alterations (CNA)\"]==\"Y\")\n",
    "                    &(cells_with_response[\"Gene Expression\"]==\"Y\")\n",
    "                    &(cells_with_response[\"Methylation\"]==\"Y\")]\n",
    "full_profiles.shape"
   ]
  },
  {
   "cell_type": "markdown",
   "metadata": {},
   "source": [
    "**Short observations:**\n",
    "<br><br>1. the dataset **Cell_Lines_Details.csv** has 1001 samples, but only 990 has Y for \"Drug\\rResponse\"\n",
    "<br><br>2. For \"Drug\\rResponse\" == Y, missing values can be found in:\n",
    "<br><t>\"Cancer Type\\r(matching TCGA label)\" - 170, \"Microsatellite \\rinstability Status (MSI)\" -15\n",
    "<br><br>3. Full profiles are available for 928 samples"
   ]
  },
  {
   "cell_type": "markdown",
   "metadata": {},
   "source": [
    "### Cell_Line_Features_PANCAN_simple_MOBEM.tsv"
   ]
  },
  {
   "cell_type": "code",
   "execution_count": 16,
   "metadata": {},
   "outputs": [
    {
     "data": {
      "text/plain": [
       "(1073, 1002)"
      ]
     },
     "execution_count": 16,
     "metadata": {},
     "output_type": "execute_result"
    }
   ],
   "source": [
    "cell_features = pd.read_csv(_FOLDER+\"Cell_Line_Features_PANCAN_simple_MOBEM.tsv\", sep=\"\\t\")\n",
    "cell_features.shape"
   ]
  },
  {
   "cell_type": "code",
   "execution_count": 17,
   "metadata": {},
   "outputs": [
    {
     "data": {
      "text/html": [
       "<div>\n",
       "<style scoped>\n",
       "    .dataframe tbody tr th:only-of-type {\n",
       "        vertical-align: middle;\n",
       "    }\n",
       "\n",
       "    .dataframe tbody tr th {\n",
       "        vertical-align: top;\n",
       "    }\n",
       "\n",
       "    .dataframe thead th {\n",
       "        text-align: right;\n",
       "    }\n",
       "</style>\n",
       "<table border=\"1\" class=\"dataframe\">\n",
       "  <thead>\n",
       "    <tr style=\"text-align: right;\">\n",
       "      <th></th>\n",
       "      <th>Unnamed: 0</th>\n",
       "      <th>1287381</th>\n",
       "      <th>924100</th>\n",
       "      <th>910924</th>\n",
       "      <th>687561</th>\n",
       "      <th>1287706</th>\n",
       "      <th>687452</th>\n",
       "      <th>906798</th>\n",
       "      <th>906797</th>\n",
       "      <th>906800</th>\n",
       "      <th>...</th>\n",
       "      <th>910545</th>\n",
       "      <th>1524416</th>\n",
       "      <th>971774</th>\n",
       "      <th>930083</th>\n",
       "      <th>909700</th>\n",
       "      <th>909701</th>\n",
       "      <th>753620</th>\n",
       "      <th>905965</th>\n",
       "      <th>1299061</th>\n",
       "      <th>1331040</th>\n",
       "    </tr>\n",
       "  </thead>\n",
       "  <tbody>\n",
       "    <tr>\n",
       "      <th>0</th>\n",
       "      <td>ABCB1_mut</td>\n",
       "      <td>0</td>\n",
       "      <td>0</td>\n",
       "      <td>0</td>\n",
       "      <td>0</td>\n",
       "      <td>0</td>\n",
       "      <td>0</td>\n",
       "      <td>0</td>\n",
       "      <td>0</td>\n",
       "      <td>0</td>\n",
       "      <td>...</td>\n",
       "      <td>0</td>\n",
       "      <td>0</td>\n",
       "      <td>0</td>\n",
       "      <td>0</td>\n",
       "      <td>0</td>\n",
       "      <td>0</td>\n",
       "      <td>0</td>\n",
       "      <td>0</td>\n",
       "      <td>0</td>\n",
       "      <td>0</td>\n",
       "    </tr>\n",
       "    <tr>\n",
       "      <th>1</th>\n",
       "      <td>ABL2_mut</td>\n",
       "      <td>0</td>\n",
       "      <td>0</td>\n",
       "      <td>0</td>\n",
       "      <td>0</td>\n",
       "      <td>0</td>\n",
       "      <td>0</td>\n",
       "      <td>0</td>\n",
       "      <td>0</td>\n",
       "      <td>0</td>\n",
       "      <td>...</td>\n",
       "      <td>0</td>\n",
       "      <td>0</td>\n",
       "      <td>0</td>\n",
       "      <td>0</td>\n",
       "      <td>0</td>\n",
       "      <td>0</td>\n",
       "      <td>0</td>\n",
       "      <td>0</td>\n",
       "      <td>0</td>\n",
       "      <td>0</td>\n",
       "    </tr>\n",
       "    <tr>\n",
       "      <th>2</th>\n",
       "      <td>ACACA_mut</td>\n",
       "      <td>0</td>\n",
       "      <td>0</td>\n",
       "      <td>0</td>\n",
       "      <td>0</td>\n",
       "      <td>0</td>\n",
       "      <td>0</td>\n",
       "      <td>0</td>\n",
       "      <td>0</td>\n",
       "      <td>0</td>\n",
       "      <td>...</td>\n",
       "      <td>0</td>\n",
       "      <td>0</td>\n",
       "      <td>0</td>\n",
       "      <td>0</td>\n",
       "      <td>0</td>\n",
       "      <td>0</td>\n",
       "      <td>0</td>\n",
       "      <td>0</td>\n",
       "      <td>0</td>\n",
       "      <td>0</td>\n",
       "    </tr>\n",
       "    <tr>\n",
       "      <th>3</th>\n",
       "      <td>ACVR1B_mut</td>\n",
       "      <td>0</td>\n",
       "      <td>0</td>\n",
       "      <td>0</td>\n",
       "      <td>0</td>\n",
       "      <td>0</td>\n",
       "      <td>0</td>\n",
       "      <td>0</td>\n",
       "      <td>0</td>\n",
       "      <td>0</td>\n",
       "      <td>...</td>\n",
       "      <td>0</td>\n",
       "      <td>0</td>\n",
       "      <td>0</td>\n",
       "      <td>0</td>\n",
       "      <td>0</td>\n",
       "      <td>0</td>\n",
       "      <td>0</td>\n",
       "      <td>0</td>\n",
       "      <td>0</td>\n",
       "      <td>0</td>\n",
       "    </tr>\n",
       "    <tr>\n",
       "      <th>4</th>\n",
       "      <td>ACVR2A_mut</td>\n",
       "      <td>0</td>\n",
       "      <td>0</td>\n",
       "      <td>0</td>\n",
       "      <td>0</td>\n",
       "      <td>0</td>\n",
       "      <td>0</td>\n",
       "      <td>0</td>\n",
       "      <td>0</td>\n",
       "      <td>0</td>\n",
       "      <td>...</td>\n",
       "      <td>0</td>\n",
       "      <td>0</td>\n",
       "      <td>0</td>\n",
       "      <td>0</td>\n",
       "      <td>0</td>\n",
       "      <td>0</td>\n",
       "      <td>0</td>\n",
       "      <td>0</td>\n",
       "      <td>0</td>\n",
       "      <td>0</td>\n",
       "    </tr>\n",
       "  </tbody>\n",
       "</table>\n",
       "<p>5 rows × 1002 columns</p>\n",
       "</div>"
      ],
      "text/plain": [
       "   Unnamed: 0  1287381  924100  910924  687561  1287706  687452  906798  \\\n",
       "0   ABCB1_mut        0       0       0       0        0       0       0   \n",
       "1    ABL2_mut        0       0       0       0        0       0       0   \n",
       "2   ACACA_mut        0       0       0       0        0       0       0   \n",
       "3  ACVR1B_mut        0       0       0       0        0       0       0   \n",
       "4  ACVR2A_mut        0       0       0       0        0       0       0   \n",
       "\n",
       "   906797  906800  ...  910545  1524416  971774  930083  909700  909701  \\\n",
       "0       0       0  ...       0        0       0       0       0       0   \n",
       "1       0       0  ...       0        0       0       0       0       0   \n",
       "2       0       0  ...       0        0       0       0       0       0   \n",
       "3       0       0  ...       0        0       0       0       0       0   \n",
       "4       0       0  ...       0        0       0       0       0       0   \n",
       "\n",
       "   753620  905965  1299061  1331040  \n",
       "0       0       0        0        0  \n",
       "1       0       0        0        0  \n",
       "2       0       0        0        0  \n",
       "3       0       0        0        0  \n",
       "4       0       0        0        0  \n",
       "\n",
       "[5 rows x 1002 columns]"
      ]
     },
     "execution_count": 17,
     "metadata": {},
     "output_type": "execute_result"
    }
   ],
   "source": [
    "cell_features.head()"
   ]
  },
  {
   "cell_type": "code",
   "execution_count": 18,
   "metadata": {},
   "outputs": [
    {
     "name": "stdout",
     "output_type": "stream",
     "text": [
      "<class 'pandas.core.frame.DataFrame'>\n",
      "RangeIndex: 1073 entries, 0 to 1072\n",
      "Columns: 1002 entries, Unnamed: 0 to 1331040\n",
      "dtypes: int64(1001), object(1)\n",
      "memory usage: 8.2+ MB\n"
     ]
    }
   ],
   "source": [
    "cell_features.info()"
   ]
  },
  {
   "cell_type": "code",
   "execution_count": 19,
   "metadata": {},
   "outputs": [
    {
     "data": {
      "image/png": "[encoded data removed]",
      "text/plain": [
       "<Figure size 432x288 with 1 Axes>"
      ]
     },
     "metadata": {
      "needs_background": "light"
     },
     "output_type": "display_data"
    }
   ],
   "source": [
    "non_zeros = np.sum(cell_features.values!=0, axis=1)\n",
    "plt.hist(non_zeros);"
   ]
  },
  {
   "cell_type": "raw",
   "metadata": {},
   "source": [
    "cell_features is a sparse matrix!!!"
   ]
  },
  {
   "cell_type": "code",
   "execution_count": 20,
   "metadata": {},
   "outputs": [
    {
     "data": {
      "text/plain": [
       "288"
      ]
     },
     "execution_count": 20,
     "metadata": {},
     "output_type": "execute_result"
    }
   ],
   "source": [
    "non_zeros.argmax()"
   ]
  },
  {
   "cell_type": "code",
   "execution_count": 21,
   "metadata": {},
   "outputs": [
    {
     "data": {
      "text/plain": [
       "1           655\n",
       "0           346\n",
       "TP53_mut      1\n",
       "Name: 288, dtype: int64"
      ]
     },
     "execution_count": 21,
     "metadata": {},
     "output_type": "execute_result"
    }
   ],
   "source": [
    "cell_features.iloc[non_zeros.argmax(), :].value_counts()"
   ]
  },
  {
   "cell_type": "code",
   "execution_count": 22,
   "metadata": {},
   "outputs": [
    {
     "data": {
      "text/plain": [
       "1001"
      ]
     },
     "execution_count": 22,
     "metadata": {},
     "output_type": "execute_result"
    }
   ],
   "source": [
    "common = set(cell_lines[\"COSMIC identifier\"].unique()) - set(cell_features.columns[1:])\n",
    "len(common)"
   ]
  },
  {
   "cell_type": "raw",
   "metadata": {},
   "source": [
    "**Observations:**\n",
    "<br> 1. cell_features is a sparse matrix!!!\n",
    "<br> 2. columns in cell_features correspond to cell_lines[\"COSMIC identifier\"]"
   ]
  },
  {
   "cell_type": "markdown",
   "metadata": {},
   "source": [
    "### Drug_Features.csv"
   ]
  },
  {
   "cell_type": "code",
   "execution_count": 4,
   "metadata": {},
   "outputs": [
    {
     "data": {
      "text/plain": [
       "(265, 5)"
      ]
     },
     "execution_count": 4,
     "metadata": {},
     "output_type": "execute_result"
    }
   ],
   "source": [
    "drug_features = pd.read_csv(_FOLDER+'Drug_Features.csv')\n",
    "drug_features.shape"
   ]
  },
  {
   "cell_type": "code",
   "execution_count": 24,
   "metadata": {},
   "outputs": [
    {
     "data": {
      "text/html": [
       "<div>\n",
       "<style scoped>\n",
       "    .dataframe tbody tr th:only-of-type {\n",
       "        vertical-align: middle;\n",
       "    }\n",
       "\n",
       "    .dataframe tbody tr th {\n",
       "        vertical-align: top;\n",
       "    }\n",
       "\n",
       "    .dataframe thead th {\n",
       "        text-align: right;\n",
       "    }\n",
       "</style>\n",
       "<table border=\"1\" class=\"dataframe\">\n",
       "  <thead>\n",
       "    <tr style=\"text-align: right;\">\n",
       "      <th></th>\n",
       "      <th>Drug ID</th>\n",
       "      <th>Drug Name</th>\n",
       "      <th>Synonyms</th>\n",
       "      <th>Target</th>\n",
       "      <th>Target Pathway</th>\n",
       "    </tr>\n",
       "  </thead>\n",
       "  <tbody>\n",
       "    <tr>\n",
       "      <th>0</th>\n",
       "      <td>1</td>\n",
       "      <td>Erlotinib</td>\n",
       "      <td>Tarceva, RG-1415, CP-358774, OSI-774, Ro-50823...</td>\n",
       "      <td>EGFR</td>\n",
       "      <td>EGFR signaling</td>\n",
       "    </tr>\n",
       "    <tr>\n",
       "      <th>1</th>\n",
       "      <td>3</td>\n",
       "      <td>Rapamycin</td>\n",
       "      <td>AY-22989, Sirolimus, WY-090217, Torisel, Rapamune</td>\n",
       "      <td>MTORC1</td>\n",
       "      <td>PI3K/MTOR signaling</td>\n",
       "    </tr>\n",
       "    <tr>\n",
       "      <th>2</th>\n",
       "      <td>5</td>\n",
       "      <td>Sunitinib</td>\n",
       "      <td>Sutent, Sunitinib Malate, SU-11248</td>\n",
       "      <td>PDGFR, KIT, VEGFR, FLT3, RET, CSF1R</td>\n",
       "      <td>RTK signaling</td>\n",
       "    </tr>\n",
       "    <tr>\n",
       "      <th>3</th>\n",
       "      <td>6</td>\n",
       "      <td>PHA-665752</td>\n",
       "      <td>PHA665752, PHA 665752</td>\n",
       "      <td>MET</td>\n",
       "      <td>RTK signaling</td>\n",
       "    </tr>\n",
       "    <tr>\n",
       "      <th>4</th>\n",
       "      <td>9</td>\n",
       "      <td>MG-132</td>\n",
       "      <td>LLL cpd, MG 132, MG132</td>\n",
       "      <td>Proteasome, CAPN1</td>\n",
       "      <td>Protein stability and degradation</td>\n",
       "    </tr>\n",
       "  </tbody>\n",
       "</table>\n",
       "</div>"
      ],
      "text/plain": [
       "   Drug ID   Drug Name                                           Synonyms  \\\n",
       "0        1   Erlotinib  Tarceva, RG-1415, CP-358774, OSI-774, Ro-50823...   \n",
       "1        3   Rapamycin  AY-22989, Sirolimus, WY-090217, Torisel, Rapamune   \n",
       "2        5   Sunitinib                 Sutent, Sunitinib Malate, SU-11248   \n",
       "3        6  PHA-665752                              PHA665752, PHA 665752   \n",
       "4        9      MG-132                             LLL cpd, MG 132, MG132   \n",
       "\n",
       "                                Target                     Target Pathway  \n",
       "0                                 EGFR                     EGFR signaling  \n",
       "1                               MTORC1                PI3K/MTOR signaling  \n",
       "2  PDGFR, KIT, VEGFR, FLT3, RET, CSF1R                      RTK signaling  \n",
       "3                                  MET                      RTK signaling  \n",
       "4                    Proteasome, CAPN1  Protein stability and degradation  "
      ]
     },
     "execution_count": 24,
     "metadata": {},
     "output_type": "execute_result"
    }
   ],
   "source": [
    "drug_features.head()"
   ]
  },
  {
   "cell_type": "markdown",
   "metadata": {},
   "source": [
    "### normalised_dose_response_data.csv"
   ]
  },
  {
   "cell_type": "code",
   "execution_count": 5,
   "metadata": {},
   "outputs": [
    {
     "data": {
      "text/plain": [
       "(225384, 44)"
      ]
     },
     "execution_count": 5,
     "metadata": {},
     "output_type": "execute_result"
    }
   ],
   "source": [
    "drug_curves = pd.read_csv(_FOLDER+\"normalised_dose_response_data.csv\")\n",
    "drug_curves.shape"
   ]
  },
  {
   "cell_type": "code",
   "execution_count": 6,
   "metadata": {},
   "outputs": [
    {
     "data": {
      "text/html": [
       "<div>\n",
       "<style scoped>\n",
       "    .dataframe tbody tr th:only-of-type {\n",
       "        vertical-align: middle;\n",
       "    }\n",
       "\n",
       "    .dataframe tbody tr th {\n",
       "        vertical-align: top;\n",
       "    }\n",
       "\n",
       "    .dataframe thead th {\n",
       "        text-align: right;\n",
       "    }\n",
       "</style>\n",
       "<table border=\"1\" class=\"dataframe\">\n",
       "  <thead>\n",
       "    <tr style=\"text-align: right;\">\n",
       "      <th></th>\n",
       "      <th>Unnamed: 0</th>\n",
       "      <th>CELL_LINE_NAME</th>\n",
       "      <th>COSMIC_ID</th>\n",
       "      <th>DRUG_ID</th>\n",
       "      <th>DRUGID_COSMICID</th>\n",
       "      <th>FOLD_DILUTION</th>\n",
       "      <th>MAX_CONC</th>\n",
       "      <th>fd_num_0</th>\n",
       "      <th>fd_num_1</th>\n",
       "      <th>fd_num_2</th>\n",
       "      <th>...</th>\n",
       "      <th>per_slope_change_7</th>\n",
       "      <th>slope_0</th>\n",
       "      <th>slope_1</th>\n",
       "      <th>slope_2</th>\n",
       "      <th>slope_3</th>\n",
       "      <th>slope_4</th>\n",
       "      <th>slope_5</th>\n",
       "      <th>slope_6</th>\n",
       "      <th>slope_7</th>\n",
       "      <th>slope_8</th>\n",
       "    </tr>\n",
       "  </thead>\n",
       "  <tbody>\n",
       "    <tr>\n",
       "      <th>0</th>\n",
       "      <td>0</td>\n",
       "      <td>HDQ-P1</td>\n",
       "      <td>1290922</td>\n",
       "      <td>332</td>\n",
       "      <td>332_1290922</td>\n",
       "      <td>2</td>\n",
       "      <td>10.240</td>\n",
       "      <td>0</td>\n",
       "      <td>0.111111</td>\n",
       "      <td>0.222222</td>\n",
       "      <td>...</td>\n",
       "      <td>-2.14694</td>\n",
       "      <td>0.354085</td>\n",
       "      <td>-0.371905</td>\n",
       "      <td>0.069255</td>\n",
       "      <td>0.450075</td>\n",
       "      <td>-0.049503</td>\n",
       "      <td>-0.131784</td>\n",
       "      <td>0.246947</td>\n",
       "      <td>-1.239447</td>\n",
       "      <td>1.421566</td>\n",
       "    </tr>\n",
       "    <tr>\n",
       "      <th>1</th>\n",
       "      <td>1</td>\n",
       "      <td>HDQ-P1</td>\n",
       "      <td>1290922</td>\n",
       "      <td>257</td>\n",
       "      <td>257_1290922</td>\n",
       "      <td>2</td>\n",
       "      <td>10.240</td>\n",
       "      <td>0</td>\n",
       "      <td>0.111111</td>\n",
       "      <td>0.222222</td>\n",
       "      <td>...</td>\n",
       "      <td>-30.3283</td>\n",
       "      <td>-0.275239</td>\n",
       "      <td>0.163481</td>\n",
       "      <td>0.586129</td>\n",
       "      <td>0.180903</td>\n",
       "      <td>-0.221430</td>\n",
       "      <td>-0.349017</td>\n",
       "      <td>0.157822</td>\n",
       "      <td>0.087103</td>\n",
       "      <td>-2.554585</td>\n",
       "    </tr>\n",
       "    <tr>\n",
       "      <th>2</th>\n",
       "      <td>2</td>\n",
       "      <td>HDQ-P1</td>\n",
       "      <td>1290922</td>\n",
       "      <td>245</td>\n",
       "      <td>245_1290922</td>\n",
       "      <td>2</td>\n",
       "      <td>40.000</td>\n",
       "      <td>0</td>\n",
       "      <td>0.111111</td>\n",
       "      <td>0.222222</td>\n",
       "      <td>...</td>\n",
       "      <td>-0.618543</td>\n",
       "      <td>-0.394857</td>\n",
       "      <td>-0.615137</td>\n",
       "      <td>0.485215</td>\n",
       "      <td>-0.923687</td>\n",
       "      <td>0.466260</td>\n",
       "      <td>2.837371</td>\n",
       "      <td>-5.409070</td>\n",
       "      <td>-3.468825</td>\n",
       "      <td>-1.323207</td>\n",
       "    </tr>\n",
       "    <tr>\n",
       "      <th>3</th>\n",
       "      <td>3</td>\n",
       "      <td>HDQ-P1</td>\n",
       "      <td>1290922</td>\n",
       "      <td>155</td>\n",
       "      <td>155_1290922</td>\n",
       "      <td>2</td>\n",
       "      <td>0.512</td>\n",
       "      <td>0</td>\n",
       "      <td>0.111111</td>\n",
       "      <td>0.222222</td>\n",
       "      <td>...</td>\n",
       "      <td>1.14591</td>\n",
       "      <td>0.791510</td>\n",
       "      <td>-0.964611</td>\n",
       "      <td>1.238764</td>\n",
       "      <td>1.046952</td>\n",
       "      <td>-0.652559</td>\n",
       "      <td>-1.921061</td>\n",
       "      <td>-0.541266</td>\n",
       "      <td>-0.480877</td>\n",
       "      <td>-1.031916</td>\n",
       "    </tr>\n",
       "    <tr>\n",
       "      <th>4</th>\n",
       "      <td>4</td>\n",
       "      <td>HDQ-P1</td>\n",
       "      <td>1290922</td>\n",
       "      <td>192</td>\n",
       "      <td>192_1290922</td>\n",
       "      <td>2</td>\n",
       "      <td>16.000</td>\n",
       "      <td>0</td>\n",
       "      <td>0.111111</td>\n",
       "      <td>0.222222</td>\n",
       "      <td>...</td>\n",
       "      <td>1.53355</td>\n",
       "      <td>0.317413</td>\n",
       "      <td>0.044115</td>\n",
       "      <td>-0.604783</td>\n",
       "      <td>0.510820</td>\n",
       "      <td>-0.431190</td>\n",
       "      <td>0.575779</td>\n",
       "      <td>2.380415</td>\n",
       "      <td>-0.793585</td>\n",
       "      <td>-2.010587</td>\n",
       "    </tr>\n",
       "  </tbody>\n",
       "</table>\n",
       "<p>5 rows × 44 columns</p>\n",
       "</div>"
      ],
      "text/plain": [
       "   Unnamed: 0 CELL_LINE_NAME  COSMIC_ID  DRUG_ID DRUGID_COSMICID  \\\n",
       "0           0         HDQ-P1    1290922      332     332_1290922   \n",
       "1           1         HDQ-P1    1290922      257     257_1290922   \n",
       "2           2         HDQ-P1    1290922      245     245_1290922   \n",
       "3           3         HDQ-P1    1290922      155     155_1290922   \n",
       "4           4         HDQ-P1    1290922      192     192_1290922   \n",
       "\n",
       "   FOLD_DILUTION  MAX_CONC  fd_num_0  fd_num_1  fd_num_2  ...  \\\n",
       "0              2    10.240         0  0.111111  0.222222  ...   \n",
       "1              2    10.240         0  0.111111  0.222222  ...   \n",
       "2              2    40.000         0  0.111111  0.222222  ...   \n",
       "3              2     0.512         0  0.111111  0.222222  ...   \n",
       "4              2    16.000         0  0.111111  0.222222  ...   \n",
       "\n",
       "   per_slope_change_7   slope_0   slope_1   slope_2   slope_3   slope_4  \\\n",
       "0            -2.14694  0.354085 -0.371905  0.069255  0.450075 -0.049503   \n",
       "1            -30.3283 -0.275239  0.163481  0.586129  0.180903 -0.221430   \n",
       "2           -0.618543 -0.394857 -0.615137  0.485215 -0.923687  0.466260   \n",
       "3             1.14591  0.791510 -0.964611  1.238764  1.046952 -0.652559   \n",
       "4             1.53355  0.317413  0.044115 -0.604783  0.510820 -0.431190   \n",
       "\n",
       "    slope_5   slope_6   slope_7   slope_8  \n",
       "0 -0.131784  0.246947 -1.239447  1.421566  \n",
       "1 -0.349017  0.157822  0.087103 -2.554585  \n",
       "2  2.837371 -5.409070 -3.468825 -1.323207  \n",
       "3 -1.921061 -0.541266 -0.480877 -1.031916  \n",
       "4  0.575779  2.380415 -0.793585 -2.010587  \n",
       "\n",
       "[5 rows x 44 columns]"
      ]
     },
     "execution_count": 6,
     "metadata": {},
     "output_type": "execute_result"
    }
   ],
   "source": [
    "drug_curves.head()"
   ]
  },
  {
   "cell_type": "code",
   "execution_count": 8,
   "metadata": {},
   "outputs": [
    {
     "name": "stdout",
     "output_type": "stream",
     "text": [
      "Number of unique drugs: 265\n",
      "Number of unique cancer cell lines: 1074\n"
     ]
    }
   ],
   "source": [
    "print(\"Number of unique drugs:\", drug_curves[\"DRUG_ID\"].nunique())\n",
    "print(\"Number of unique cancer cell lines:\", drug_curves[\"COSMIC_ID\"].nunique())"
   ]
  },
  {
   "cell_type": "code",
   "execution_count": 267,
   "metadata": {},
   "outputs": [
    {
     "data": {
      "text/plain": [
       "CELL_LINE_NAME\n",
       "201T        185\n",
       "22RV1       223\n",
       "23132-87    216\n",
       "42-MG-BA    217\n",
       "451Lu       221\n",
       "           ... \n",
       "YT          258\n",
       "ZR-75-30     91\n",
       "huH-1       224\n",
       "no-10       241\n",
       "no-11       265\n",
       "Length: 1074, dtype: int64"
      ]
     },
     "execution_count": 267,
     "metadata": {},
     "output_type": "execute_result"
    }
   ],
   "source": [
    "drug_curves.groupby(\"CELL_LINE_NAME\")[[\"COSMIC_ID\"]].size()"
   ]
  },
  {
   "cell_type": "code",
   "execution_count": 342,
   "metadata": {},
   "outputs": [],
   "source": [
    "conc_columns= [\"fd_num_\"+str(i) for i in range(10)]\n",
    "response_norm = ['norm_cells_'+str(i) for i in range(10)]"
   ]
  },
  {
   "cell_type": "code",
   "execution_count": 311,
   "metadata": {},
   "outputs": [],
   "source": [
    "def show_response_curves(df, plots_in_row, plots_in_column, x_columns, y_columns, start_index=0, indexes=[],\n",
    "                         fitting_function =None, fitting_parameters =None):\n",
    "    \n",
    "    fig = plt.figure(figsize=(14, 11))\n",
    "    fig.subplots_adjust(hspace=0.4, wspace=0.4)\n",
    "    n_plots= plots_in_row*plots_in_column\n",
    "    \n",
    "    if len(indexes) ==0:\n",
    "        start_finish = start_index+n_plots\n",
    "        for n in range(start_index, start_finish):\n",
    "            x = df.loc[n, x_columns]\n",
    "            y = df.loc[n, y_columns]\n",
    "            if n%n_plots == 0:\n",
    "                i= n_plots\n",
    "            else:\n",
    "                i= n%n_plots\n",
    "            \n",
    "            ax = fig.add_subplot(plots_in_row, plots_in_column, i)\n",
    "            ax.scatter(x,y)\n",
    "            ax.set_title(str(ind)+\"_\"+str(df.loc[ind, \"DRUG_ID\"])+\"_\"+df.loc[ind, \"CELL_LINE_NAME\"]+\"_\"+str(n))\n",
    "            ax.set_xlabel(\"Scaled dosage\")\n",
    "            ax.set_ylabel(\"Normalised response\")\n",
    "            if fitting_function:\n",
    "                    ax2 = ax.twinx()\n",
    "                    x2 = np.linspace(0, 1, 10)\n",
    "                    fit_param =df.loc[ind, fitting_parameters]\n",
    "                    y2 = fitting_function(x2, *fit_param)\n",
    "                    ax2.plot(x2, y2, label= \"R^2= %0.4f\"% r2_score(y, y2))\n",
    "                    ax2.legend() \n",
    "    else:\n",
    "        \n",
    "        try:\n",
    "            for n, ind in list(enumerate(indexes)):\n",
    "                x = df.loc[ind, x_columns]\n",
    "                y = df.loc[ind, y_columns]\n",
    "                if n%n_plots == 0:\n",
    "                    i= n_plots\n",
    "                else:\n",
    "                    i= n%n_plots\n",
    "                ax = fig.add_subplot(plots_in_row, plots_in_column, i)\n",
    "                ax.scatter(x,y)\n",
    "                ax.set_title(str(ind)+\"_\"+str(df.loc[ind, \"DRUG_ID\"])+\"_\"+df.loc[ind, \"CELL_LINE_NAME\"]+\"_\"+str(n))\n",
    "                ax.set_xlabel(\"Scaled dosage\")\n",
    "                ax.set_ylabel(\"Normalised response\")\n",
    "                if fitting_function:\n",
    "                    ax2 = ax.twinx()\n",
    "                    x2 = np.linspace(0, 1, 10)\n",
    "                    fit_param =df.loc[ind, fitting_parameters]\n",
    "                    y2 = fitting_function(x2, *fit_param)\n",
    "                    ax2.plot(x2, y2, label= \"R^2= %0.4f\"% r2_score(y, y2))\n",
    "                    ax2.legend()\n",
    "        except:\n",
    "            print(\"ERROR: Number of indexes does not correspond to number of graphs to plot\")\n",
    "            \n",
    "            \n",
    "def plot_one(df, n, x_columns, y_columns, function_to_fit, function_parameters =[]):\n",
    "#     plt.figure(figsize=(10, 8))\n",
    "    loc_n = df.index[n]\n",
    "    x = df.loc[loc_n, x_columns]\n",
    "    y = df.loc[loc_n, y_columns]\n",
    "    plt.scatter(x, y, label= \"data\")\n",
    "    \n",
    "    x2 = np.linspace(0, 1, 10)\n",
    "    y2 = function_to_fit(x2, function_parameters[0], function_parameters[1])\n",
    "    \n",
    "    y_fitted = sigmoid(x, function_parameters[0], function_parameters[1])\n",
    "    r2 = r2_score(y, y_fitted)\n",
    "    plt.plot(x2, y2, label = \"sigmoid: R^2=%0.2f\" % r2)\n",
    "    plt.xlabel(\"Scaled dosage\")\n",
    "    plt.ylabel(\"Normalised response\")\n",
    "    plt.legend()\n",
    "    plt.Text(r2)"
   ]
  },
  {
   "cell_type": "code",
   "execution_count": 343,
   "metadata": {},
   "outputs": [],
   "source": [
    "def fit_column_sigmoid_4_param(df, indexes):\n",
    "    \n",
    "    r2_scores = np.zeros(len(indexes))\n",
    "    X = df.loc[indexes, conc_columns].values.astype(np.float32)\n",
    "    Y = df.loc[indexes, response_norm].values.astype(np.float32)\n",
    "    fitting_parameters = [None]*len(indexes)\n",
    "    \n",
    "    for i in tqdm(range(len(indexes))):\n",
    "        x = X[i, :]\n",
    "        y = Y[i, :]\n",
    "        try:\n",
    "            r2_scores[i], fitting_parameters[i] = fit_curve_fit(sigmoid_4_param, x, y, parameters_guess= [max(y), np.median(x), 1, min(y)])\n",
    "            \n",
    "        except:\n",
    "            #print(indexes[i])\n",
    "            r2_scores[i] = 0\n",
    "    return r2_scores, fitting_parameters"
   ]
  },
  {
   "cell_type": "code",
   "execution_count": 354,
   "metadata": {},
   "outputs": [],
   "source": [
    "def filtering_before_fitting(df, first_columns_to_compare = [1, 2], last_columns_to_compare = [-1, -2],\n",
    "             tolerance=0.05, first_points_lower_limit = 0.8, last_points_upper_limit = 0.4):\n",
    "    \"\"\"\n",
    "    tolerance =0.05 values to ensure the points form a plateu\n",
    "    first_columns_to_compare = [1, 2]  - first columns two columns\n",
    "    last_columns_to_compare = [-1, -2] - last two columns\n",
    "    \n",
    "    \"\"\"\n",
    "    df = df.copy()\n",
    "    print(\"Original dataset:\", df.shape)\n",
    "    \n",
    "    # 1. Ensure that all the response are less than 1\n",
    "\n",
    "    index_row_more_than_1 = []\n",
    "    for col in response_norm:\n",
    "        if sum(df[col]>1)>0:\n",
    "            index_row_more_than_1.extend(df[df[col]>1].index)\n",
    "        \n",
    "    index_row_less_than_1 = set(df.index) - set(index_row_more_than_1)\n",
    "    df = df.loc[index_row_less_than_1, :].copy()\n",
    "\n",
    "    print(\"1st stage filtration: Filtered dataset:\", df.shape)\n",
    "    \n",
    "    # 2. Ensure that first and last point for a plateu\n",
    "    # the minimal number of points are specified in the function arguments\n",
    "    # by default, two points for both lpateus are considered\n",
    "\n",
    "    df[\"dif_first\"]=abs(df[response_norm[first_columns_to_compare[0]-1]]\\\n",
    "                                     - df[response_norm[first_columns_to_compare[1]-1]])\n",
    "    df[\"dif_last\"]=abs(df[response_norm[last_columns_to_compare[0]]] \\\n",
    "                                        - df[response_norm[last_columns_to_compare[1]]])\n",
    "\n",
    "    df = df[(df[\"dif_first\"]<= tolerance)\n",
    "                           &(df[\"dif_last\"]<= tolerance)]\n",
    "    \n",
    "    print(\"2d stage filtration: Filtered dataset:\", df.shape)\n",
    "    \n",
    "    # 3. Specify location of the plateus - first_points_lower_limit and last_points_upper_limit\n",
    "    df = df[(df[response_norm[1]]>first_points_lower_limit) \n",
    "                         & (df[response_norm[-1]]<last_points_upper_limit)]\n",
    "\n",
    "    print(\"3d stage filtration: Filtered dataset:\", df.shape)\n",
    "    \n",
    "    return df"
   ]
  },
  {
   "cell_type": "code",
   "execution_count": 355,
   "metadata": {},
   "outputs": [
    {
     "name": "stdout",
     "output_type": "stream",
     "text": [
      "Original dataset: (225384, 44)\n",
      "1st stage filtration: Filtered dataset: (63325, 44)\n",
      "2d stage filtration: Filtered dataset: (6321, 46)\n",
      "3d stage filtration: Filtered dataset: (2776, 46)\n",
      "CPU times: user 876 ms, sys: 355 ms, total: 1.23 s\n",
      "Wall time: 1.36 s\n"
     ]
    }
   ],
   "source": [
    "%%time\n",
    "df = filtering_before_fitting(drug_curves)"
   ]
  },
  {
   "cell_type": "code",
   "execution_count": 356,
   "metadata": {},
   "outputs": [],
   "source": [
    "def filtering_by_fitting_column(df, indexes, fitting_function, parameters_guess=[], default_param_number=0):\n",
    "    \"\"\"\n",
    "    intial parameter guess [max(y), np.median(x), 1, min(y)]\n",
    "    potentially they can be different for each data row, but as soon as we have scaled and filtered data\n",
    "    we can use by default [1.0, 0.4, 1.0, .0] \n",
    "    \"\"\"\n",
    "    r2_scores = np.zeros(len(indexes))\n",
    "    X = df.loc[indexes, conc_columns].values.astype(np.float32)\n",
    "    Y = df.loc[indexes, response_norm].values.astype(np.float32)\n",
    "    fitting_parameters = [None]*len(indexes)\n",
    "    \n",
    "    if default_param_number==4:\n",
    "        parameters_guess = [1.0, 0.4, 1.0, .0] \n",
    "    elif default_param_number ==3:\n",
    "        parameters_guess = [1.0, 0.4, .0] \n",
    "    else:\n",
    "        pass\n",
    "    \n",
    "    for i in tqdm(range(len(indexes))):\n",
    "        x = X[i, :]\n",
    "        y = Y[i, :]\n",
    "    \n",
    "        try:\n",
    "            r2_scores[i], fitting_parameters[i] = fit_curve_fit(fitting_function, x, y, parameters_guess = parameters_guess)\n",
    "            \n",
    "        except:\n",
    "            r2_scores[i] = 0\n",
    "    return r2_scores, fitting_parameters"
   ]
  },
  {
   "cell_type": "code",
   "execution_count": 359,
   "metadata": {},
   "outputs": [
    {
     "name": "stderr",
     "output_type": "stream",
     "text": [
      "100%|██████████| 2776/2776 [00:09<00:00, 280.80it/s]"
     ]
    },
    {
     "name": "stdout",
     "output_type": "stream",
     "text": [
      "CPU times: user 9.38 s, sys: 222 ms, total: 9.6 s\n",
      "Wall time: 9.94 s\n"
     ]
    },
    {
     "name": "stderr",
     "output_type": "stream",
     "text": [
      "\n"
     ]
    }
   ],
   "source": [
    "%%time\n",
    "r2, fit_param = filtering_by_fitting_column(df, df.index, fitting_function = sigmoid_4_param, default_param_number=4)\n",
    "df[\"fitting_r2\"] = r2\n",
    "df[\"fitting_param\"] = fit_param"
   ]
  },
  {
   "cell_type": "code",
   "execution_count": 365,
   "metadata": {},
   "outputs": [
    {
     "name": "stdout",
     "output_type": "stream",
     "text": [
      "Original shape: (2076, 48)\n",
      "4th stage filtration: Filtered dataset: (1920, 48)\n"
     ]
    }
   ],
   "source": [
    "print(\"Original shape:\", df.shape)\n",
    "df4 = df[(df[\"fitting_r2\"]>0.985)]\n",
    "print(\"4th stage filtration: Filtered dataset:\", df4.shape)"
   ]
  },
  {
   "cell_type": "code",
   "execution_count": 366,
   "metadata": {},
   "outputs": [
    {
     "name": "stdout",
     "output_type": "stream",
     "text": [
      "Int64Index([90938, 23221, 49781, 65016, 38513, 89755, 139999, 108700, 176568], dtype='int64')\n"
     ]
    },
    {
     "data": {
      "image/png": "[encoded data removed]",
      "text/plain": [
       "<Figure size 1008x792 with 18 Axes>"
      ]
     },
     "metadata": {
      "needs_background": "light"
     },
     "output_type": "display_data"
    }
   ],
   "source": [
    "df = df4\n",
    "max_int = len(df.index)\n",
    "rand_int = np.random.randint(0, max_int, 9)\n",
    "print(df.index[rand_int])\n",
    "\n",
    "show_response_curves(df, plots_in_row=3, plots_in_column=3, x_columns=conc_columns, y_columns = response_norm, \n",
    "                     start_index=0, indexes=df.index[rand_int],\n",
    "                    fitting_function = sigmoid_4_param, fitting_parameters =\"fitting_param\")\n",
    "#ind 59019???"
   ]
  },
  {
   "cell_type": "code",
   "execution_count": null,
   "metadata": {},
   "outputs": [],
   "source": []
  },
  {
   "cell_type": "code",
   "execution_count": 341,
   "metadata": {},
   "outputs": [
    {
     "name": "stdout",
     "output_type": "stream",
     "text": [
      "Int64Index([56384, 166653, 130053, 139119, 98043, 142957, 21518, 131335,\n",
      "            42217],\n",
      "           dtype='int64')\n"
     ]
    },
    {
     "data": {
      "image/png": "[encoded data removed]",
      "text/plain": [
       "<Figure size 1008x792 with 9 Axes>"
      ]
     },
     "metadata": {
      "needs_background": "light"
     },
     "output_type": "display_data"
    }
   ],
   "source": [
    "# df = df3\n",
    "max_int = len(df.index)\n",
    "rand_int = np.random.randint(0, max_int, 9)\n",
    "print(df.index[rand_int])\n",
    "\n",
    "show_response_curves(df, plots_in_row=3, plots_in_column=3, x_columns=conc_columns, y_columns= response_norm, \n",
    "                     indexes=df.index[rand_int])\n",
    "#166653"
   ]
  },
  {
   "cell_type": "code",
   "execution_count": 327,
   "metadata": {},
   "outputs": [
    {
     "name": "stdout",
     "output_type": "stream",
     "text": [
      "Int64Index([113041, 43218, 38688, 93067, 153062, 131321, 77980, 99684, 37180], dtype='int64')\n"
     ]
    },
    {
     "data": {
      "image/png": "[encoded data removed]",
      "text/plain": [
       "<Figure size 1008x792 with 9 Axes>"
      ]
     },
     "metadata": {
      "needs_background": "light"
     },
     "output_type": "display_data"
    }
   ],
   "source": [
    "df = df3\n",
    "max_int = len(df.index)\n",
    "rand_int = np.random.randint(0, max_int, 9)\n",
    "print(df.index[rand_int])\n",
    "\n",
    "show_response_curves(df, plots_in_row=3, plots_in_column=3, x_columns=conc_columns, y_columns= response_norm, \n",
    "                     indexes=df.index[rand_int])\n",
    "#[12568 48962 59336 45367 36194   236  5120   614 23614]"
   ]
  },
  {
   "cell_type": "markdown",
   "metadata": {},
   "source": [
    "### Fitting curves"
   ]
  },
  {
   "cell_type": "code",
   "execution_count": 32,
   "metadata": {},
   "outputs": [
    {
     "data": {
      "image/png": "[encoded data removed]",
      "text/plain": [
       "<Figure size 432x288 with 1 Axes>"
      ]
     },
     "metadata": {
      "needs_background": "light"
     },
     "output_type": "display_data"
    }
   ],
   "source": [
    "#good example\n",
    "drug_id = 346\n",
    "cell_line = \"LU-65\"\n",
    "good = drug_curves[(drug_curves[\"DRUG_ID\"]==drug_id)&(drug_curves[\"CELL_LINE_NAME\"]== cell_line)]\n",
    "\n",
    "plt.scatter(good.loc[good.index[0], conc_columns].values.astype(np.float32), \n",
    "            good.loc[good.index[0], response_norm].values.astype(np.float32))\n",
    "plt.xlabel(\"Scaled dose\")\n",
    "plt.ylabel(\"Normalised response\")\n",
    "plt.title(\"Drug ID: %d, Cell Line: %s\" % (drug_id, cell_line));"
   ]
  },
  {
   "cell_type": "code",
   "execution_count": 33,
   "metadata": {},
   "outputs": [
    {
     "data": {
      "image/png": "[encoded data removed]",
      "text/plain": [
       "<Figure size 432x288 with 1 Axes>"
      ]
     },
     "metadata": {
      "needs_background": "light"
     },
     "output_type": "display_data"
    }
   ],
   "source": [
    "# good example\n",
    "drug_id = 346\n",
    "cell_line = \"LU-65\"\n",
    "good = drug_curves[(drug_curves[\"DRUG_ID\"]==drug_id)&(drug_curves[\"CELL_LINE_NAME\"]== cell_line)]\n",
    "x = good.loc[good.index[0], conc_columns].values.astype(np.float32),\n",
    "y = 1/good.loc[good.index[0], response_norm].values.astype(np.float32)\n",
    "plt.scatter(x, y)\n",
    "plt.xlabel(\"Scaled dose\")\n",
    "plt.ylabel(\"1/ Normalised response\")\n",
    "plt.title(\"Inversed!!! Drug ID: %d, Cell Line: %s\" % (drug_id, cell_line));"
   ]
  },
  {
   "cell_type": "code",
   "execution_count": 111,
   "metadata": {},
   "outputs": [],
   "source": [
    "def fsigmoid(x, a, b):\n",
    "    return 1.0 / (1.0 + np.exp(-a*(x-b)))\n",
    "\n",
    "def sigmoid_Vis(x, p, s):\n",
    "    \"\"\" x - dosage [0, 1],\n",
    "    p - position,\n",
    "    s - shape parameter,\n",
    "    \"\"\"\n",
    "    return 1.0 / (1.0 + np.exp(-(x-p)/s))\n",
    "\n",
    "def sigmoid_4_param(x, x0, L, k, b):\n",
    "    y = 1/ (L + np.exp(-k*(x-x0)))+b\n",
    "    return y\n",
    "\n",
    "def sigmoid_3_param(x, x0, k, b):\n",
    "    y = 1/ (1 + np.exp(-k*(x-x0)))+b\n",
    "    return y\n",
    "\n",
    "\n",
    "def logistic4(x, A, B, C, D):\n",
    "    \"\"\" https://people.duke.edu/~ccc14/pcfb/analysis.html\n",
    "    4PL logistic equation.\"\"\"\n",
    "    return ((A-D)/(1.0+((x/C)**B))) + D\n",
    "\n",
    "def ll4(x, b, c, d, e):\n",
    "    ''' https://gist.github.com/yannabraham/5f210fed773785d8b638\n",
    "    This function is basically a copy of the LL.4 function from the R drc package with\n",
    "     - b: hill slope\n",
    "     - c: min response\n",
    "     - d: max response\n",
    "     - e: EC50'''\n",
    "    return(c+(d-c)/(1+np.exp(b*(np.log(x)-np.log(e)))))\n",
    "\n",
    "def ll4_R(x, b, c, d, e):\n",
    "    \"\"\" LL.4 function from R\n",
    "    https://www.rdocumentation.org/packages/drc/versions/2.5-12/topics/LL.4\n",
    "    \"\"\"\n",
    "    return c + (d-c)/(1+np.exp(b*np.log(x)- e))\n",
    "\n",
    "\n",
    "def fit_curve_fit(fitting_function, x, y, parameters_guess=[], to_plot = False):\n",
    "    parameters, p_covariance = curve_fit(fitting_function, x, y, parameters_guess)\n",
    "    x2 = np.linspace(0, 1, 10)\n",
    "    y2 = fitting_function(x2, *parameters)\n",
    "    r2 = r2_score(y, y2)\n",
    "\n",
    "    if to_plot:\n",
    "        print(\"Fitting parameters:\", *parameters)\n",
    "        plt.scatter(x, y)\n",
    "        plt.plot(x, y2, \"blue\", label = \"R^2= %0.5f\"%r2)   \n",
    "        plt.title('Least-squares fit')\n",
    "        plt.legend();\n",
    "    return r2, parameters\n",
    "        \n",
    "def residuals(p, x, y, function_to_fit):\n",
    "    \"\"\"Deviations of data from fitted curve\"\"\"\n",
    "    err = y-function_to_fit(x, *p)\n",
    "    return err\n",
    "\n",
    "def fit_lsq(function_to_fit, x, y, parameters_guess =[], to_plot = False):\n",
    "    param_lsq = leastsq(residuals, parameters_guess, args=(x, y, function_to_fit))\n",
    "    y2 = function_to_fit(x, *param_lsq[0])\n",
    "    r2 = r2_score(y, y2)\n",
    "    if to_plot:\n",
    "        print(\"Fitting parameters:\", *param_lsq[0])\n",
    "        plt.scatter(x, y)\n",
    "        plt.plot(x, y2, \"blue\", label = \"R^2= %0.5f\"%r2)   \n",
    "        plt.title('Least-squares fit')\n",
    "        plt.legend();\n",
    "    return r2"
   ]
  },
  {
   "cell_type": "code",
   "execution_count": 35,
   "metadata": {},
   "outputs": [],
   "source": [
    "# Inverted response\n",
    "x = good.loc[good.index[0], conc_columns].values.astype(np.float32)\n",
    "y = 1/good.loc[good.index[0], response_norm].values.astype(np.float32)\n",
    "\n",
    "# fit_curve_fit(sigmoid_Vis, x, y, parameters_guess=[1, 5], to_plot = True)\n",
    "# fit_lsq(x, y, sigmoid_Vis, parameters_guess=[1, 5], to_plot = True)"
   ]
  },
  {
   "cell_type": "code",
   "execution_count": 36,
   "metadata": {},
   "outputs": [
    {
     "name": "stdout",
     "output_type": "stream",
     "text": [
      "Fitting parameters: -4082539.0283247484 19931124.939608537\n"
     ]
    },
    {
     "data": {
      "text/plain": [
       "-3.2823075590826534e-08"
      ]
     },
     "execution_count": 36,
     "metadata": {},
     "output_type": "execute_result"
    },
    {
     "data": {
      "image/png": "[encoded data removed]",
      "text/plain": [
       "<Figure size 432x288 with 1 Axes>"
      ]
     },
     "metadata": {
      "needs_background": "light"
     },
     "output_type": "display_data"
    }
   ],
   "source": [
    "# Normal response\n",
    "x = good.loc[good.index[0], conc_columns].values.astype(np.float32)\n",
    "y = good.loc[good.index[0], response_norm].values.astype(np.float32)\n",
    "\n",
    "#bounds are set as ([low_a,low_b],[high_a,high_b])\n",
    "fit_curve_fit(sigmoid_Vis, x, y, parameters_guess=[1, 0.5], to_plot = True)"
   ]
  },
  {
   "cell_type": "code",
   "execution_count": 37,
   "metadata": {},
   "outputs": [
    {
     "name": "stdout",
     "output_type": "stream",
     "text": [
      "Fitting parameters: 7.523205551887484 0.2970497766424104 0.9466672350493502 0.36792284396941893\n"
     ]
    },
    {
     "data": {
      "text/plain": [
       "0.9917192755127807"
      ]
     },
     "execution_count": 37,
     "metadata": {},
     "output_type": "execute_result"
    },
    {
     "data": {
      "image/png": "[encoded data removed]",
      "text/plain": [
       "<Figure size 432x288 with 1 Axes>"
      ]
     },
     "metadata": {
      "needs_background": "light"
     },
     "output_type": "display_data"
    }
   ],
   "source": [
    "p0 = [max(y), np.median(x),1,min(y)]\n",
    "fit_curve_fit(ll4, x, y, parameters_guess =p0, to_plot = True)"
   ]
  },
  {
   "cell_type": "code",
   "execution_count": 38,
   "metadata": {},
   "outputs": [
    {
     "name": "stdout",
     "output_type": "stream",
     "text": [
      "Fitting parameters: 0.3441752450702188 1.5128399848595575 -18.255477855267515 0.2997005952603317\n"
     ]
    },
    {
     "data": {
      "text/plain": [
       "0.9935016475653727"
      ]
     },
     "execution_count": 38,
     "metadata": {},
     "output_type": "execute_result"
    },
    {
     "data": {
      "image/png": "[encoded data removed]",
      "text/plain": [
       "<Figure size 432x288 with 1 Axes>"
      ]
     },
     "metadata": {
      "needs_background": "light"
     },
     "output_type": "display_data"
    }
   ],
   "source": [
    "p0 = [max(y), np.median(x),1,min(y)]\n",
    "fit_curve_fit(sigmoid_4_param, x, y, p0, to_plot = True)"
   ]
  },
  {
   "cell_type": "code",
   "execution_count": 39,
   "metadata": {},
   "outputs": [
    {
     "name": "stdout",
     "output_type": "stream",
     "text": [
      "Fitting parameters: 0.2782605164354585 -5.978300508020848 0.2331103208874468\n"
     ]
    },
    {
     "data": {
      "text/plain": [
       "0.9552315630039333"
      ]
     },
     "execution_count": 39,
     "metadata": {},
     "output_type": "execute_result"
    },
    {
     "data": {
      "image/png": "[encoded data removed]",
      "text/plain": [
       "<Figure size 432x288 with 1 Axes>"
      ]
     },
     "metadata": {
      "needs_background": "light"
     },
     "output_type": "display_data"
    }
   ],
   "source": [
    "p0 = [max(y), np.median(x),min(y)]\n",
    "fit_curve_fit(sigmoid_3_param, x, y, p0, to_plot = True)"
   ]
  },
  {
   "cell_type": "code",
   "execution_count": 40,
   "metadata": {},
   "outputs": [
    {
     "name": "stdout",
     "output_type": "stream",
     "text": [
      "Fitting parameters: 0.2970526941738411 -7.523259893217766 0.3679193144976095 0.9466692800576376\n"
     ]
    },
    {
     "data": {
      "text/plain": [
       "0.9917192801263175"
      ]
     },
     "execution_count": 40,
     "metadata": {},
     "output_type": "execute_result"
    },
    {
     "data": {
      "image/png": "[encoded data removed]",
      "text/plain": [
       "<Figure size 432x288 with 1 Axes>"
      ]
     },
     "metadata": {
      "needs_background": "light"
     },
     "output_type": "display_data"
    }
   ],
   "source": [
    "fit_lsq(logistic4, x, y, parameters_guess =[0, 1, 1, 1], to_plot = True)"
   ]
  },
  {
   "cell_type": "code",
   "execution_count": 41,
   "metadata": {},
   "outputs": [
    {
     "name": "stdout",
     "output_type": "stream",
     "text": [
      "Fitting parameters: 7.527285878644068 0.2970845477543197 0.9466496136230979 -7.526469821501663\n"
     ]
    },
    {
     "data": {
      "text/plain": [
       "0.9917192776183669"
      ]
     },
     "execution_count": 41,
     "metadata": {},
     "output_type": "execute_result"
    },
    {
     "data": {
      "image/png": "[encoded data removed]",
      "text/plain": [
       "<Figure size 432x288 with 1 Axes>"
      ]
     },
     "metadata": {
      "needs_background": "light"
     },
     "output_type": "display_data"
    }
   ],
   "source": [
    "fit_lsq(ll4_R, x, y, parameters_guess =[max(y), np.median(x),1,min(y)], to_plot = True)"
   ]
  },
  {
   "cell_type": "markdown",
   "metadata": {},
   "source": [
    "### Comparing models"
   ]
  },
  {
   "cell_type": "code",
   "execution_count": 126,
   "metadata": {},
   "outputs": [],
   "source": [
    "x = good.loc[good.index[0], conc_columns].values.astype(np.float32)\n",
    "y = good.loc[good.index[0], response_norm].values.astype(np.float32)\n"
   ]
  },
  {
   "cell_type": "code",
   "execution_count": 127,
   "metadata": {},
   "outputs": [
    {
     "name": "stdout",
     "output_type": "stream",
     "text": [
      "fsigmoid R2  0.8476\n",
      "sigmoid_Vis R2 -0.0000\n",
      "sigmoid_3_param R2  0.9552\n",
      "sigmoid_4_param R2  0.9935\n",
      "logistic4 R2  0.9917\n",
      "LL4 R2  0.9917\n"
     ]
    }
   ],
   "source": [
    "print(\"fsigmoid R2 % 0.4f\"% fit_curve_fit(fsigmoid, x, y,parameters_guess=[1, 0.5])[0])\n",
    "print(\"sigmoid_Vis R2 % 0.4f\"% fit_curve_fit(sigmoid_Vis, x, y,parameters_guess=[1, 0.5])[0])\n",
    "print(\"sigmoid_3_param R2 % 0.4f\"% fit_curve_fit(sigmoid_3_param, x, y,parameters_guess= [max(y), np.median(x), min(y)])[0])\n",
    "print(\"sigmoid_4_param R2 % 0.4f\"% fit_curve_fit(sigmoid_4_param, x, y, parameters_guess= [max(y), np.median(x), 1, min(y)])[0])\n",
    "# print(\"logistic4 R2 % 0.4f\"% fit_lsq(logistic4,x, y,parameters_guess =[0, 1, 1, 1]))\n",
    "print(\"logistic4 R2 % 0.4f\"% fit_curve_fit(logistic4, x, y, parameters_guess =[0, 1, 1, 1])[0])\n",
    "print(\"LL4 R2 % 0.4f\"% fit_curve_fit(ll4_R, x, y,  parameters_guess= [max(y), np.median(x), 1, min(y)])[0])"
   ]
  },
  {
   "cell_type": "code",
   "execution_count": 44,
   "metadata": {},
   "outputs": [],
   "source": [
    "from tqdm import tqdm"
   ]
  },
  {
   "cell_type": "code",
   "execution_count": 149,
   "metadata": {},
   "outputs": [],
   "source": [
    "def fit_curve_fit_column(df, indexes):\n",
    "    \n",
    "    r2_scores = np.zeros(len(indexes))\n",
    "    X = df.loc[indexes, conc_columns].values.astype(np.float32)\n",
    "    Y = df.loc[indexes, response_norm].values.astype(np.float32)\n",
    "    fitting_parameters = [None]*len(indexes)\n",
    "    \n",
    "    for i in tqdm(range(len(indexes))):\n",
    "        x = X[i, :]\n",
    "        y = Y[i, :]\n",
    "        try:\n",
    "            r2_scores[i], fitting_parameters[i] = fit_curve_fit(sigmoid_4_param, x, y, parameters_guess= [max(y), np.median(x), 1, min(y)])\n",
    "            \n",
    "        except:\n",
    "            #print(indexes[i])\n",
    "            r2_scores[i] = 0\n",
    "    return r2_scores, fitting_parameters"
   ]
  },
  {
   "cell_type": "code",
   "execution_count": 143,
   "metadata": {},
   "outputs": [],
   "source": [
    "df2 = df_filt.copy()#loc[df_filt.index[16085:16095], :].copy()"
   ]
  },
  {
   "cell_type": "code",
   "execution_count": 144,
   "metadata": {},
   "outputs": [
    {
     "data": {
      "text/plain": [
       "(52540, 53)"
      ]
     },
     "execution_count": 144,
     "metadata": {},
     "output_type": "execute_result"
    }
   ],
   "source": [
    "df2.shape"
   ]
  },
  {
   "cell_type": "code",
   "execution_count": null,
   "metadata": {},
   "outputs": [],
   "source": [
    "%%time\n",
    "#around 5 min\n",
    "r2, fit_param = fit_curve_fit_column(df2, df2.index)\n",
    "df2[\"fitting_r2\"] = r2\n",
    "df2[\"fitting_param\"] = fit_param"
   ]
  },
  {
   "cell_type": "code",
   "execution_count": 152,
   "metadata": {},
   "outputs": [],
   "source": [
    "df2.to_csv(\"fitted_drugs.csv\")"
   ]
  },
  {
   "cell_type": "code",
   "execution_count": 153,
   "metadata": {},
   "outputs": [
    {
     "data": {
      "text/html": [
       "<div>\n",
       "<style scoped>\n",
       "    .dataframe tbody tr th:only-of-type {\n",
       "        vertical-align: middle;\n",
       "    }\n",
       "\n",
       "    .dataframe tbody tr th {\n",
       "        vertical-align: top;\n",
       "    }\n",
       "\n",
       "    .dataframe thead th {\n",
       "        text-align: right;\n",
       "    }\n",
       "</style>\n",
       "<table border=\"1\" class=\"dataframe\">\n",
       "  <thead>\n",
       "    <tr style=\"text-align: right;\">\n",
       "      <th></th>\n",
       "      <th>CELL_LINE_NAME</th>\n",
       "      <th>DRUG_ID</th>\n",
       "      <th>fitting_r2</th>\n",
       "      <th>fitting_param</th>\n",
       "    </tr>\n",
       "  </thead>\n",
       "  <tbody>\n",
       "    <tr>\n",
       "      <th>13</th>\n",
       "      <td>HDQ-P1</td>\n",
       "      <td>344</td>\n",
       "      <td>0.966718</td>\n",
       "      <td>[0.8100850234454133, 0.9892494988253149, -26.2...</td>\n",
       "    </tr>\n",
       "    <tr>\n",
       "      <th>15</th>\n",
       "      <td>HDQ-P1</td>\n",
       "      <td>223</td>\n",
       "      <td>0.000000</td>\n",
       "      <td>None</td>\n",
       "    </tr>\n",
       "    <tr>\n",
       "      <th>22</th>\n",
       "      <td>HDQ-P1</td>\n",
       "      <td>272</td>\n",
       "      <td>0.000000</td>\n",
       "      <td>None</td>\n",
       "    </tr>\n",
       "    <tr>\n",
       "      <th>24</th>\n",
       "      <td>HDQ-P1</td>\n",
       "      <td>328</td>\n",
       "      <td>0.971011</td>\n",
       "      <td>[0.43349267675921827, 3.3889844600858483, -164...</td>\n",
       "    </tr>\n",
       "    <tr>\n",
       "      <th>28</th>\n",
       "      <td>HDQ-P1</td>\n",
       "      <td>136</td>\n",
       "      <td>0.975429</td>\n",
       "      <td>[0.6313296496301274, 0.9282910696470076, -5.82...</td>\n",
       "    </tr>\n",
       "  </tbody>\n",
       "</table>\n",
       "</div>"
      ],
      "text/plain": [
       "   CELL_LINE_NAME  DRUG_ID  fitting_r2  \\\n",
       "13         HDQ-P1      344    0.966718   \n",
       "15         HDQ-P1      223    0.000000   \n",
       "22         HDQ-P1      272    0.000000   \n",
       "24         HDQ-P1      328    0.971011   \n",
       "28         HDQ-P1      136    0.975429   \n",
       "\n",
       "                                        fitting_param  \n",
       "13  [0.8100850234454133, 0.9892494988253149, -26.2...  \n",
       "15                                               None  \n",
       "22                                               None  \n",
       "24  [0.43349267675921827, 3.3889844600858483, -164...  \n",
       "28  [0.6313296496301274, 0.9282910696470076, -5.82...  "
      ]
     },
     "execution_count": 153,
     "metadata": {},
     "output_type": "execute_result"
    }
   ],
   "source": [
    "df2[[\"CELL_LINE_NAME\", 'DRUG_ID', \"fitting_r2\", \"fitting_param\"]].head()"
   ]
  },
  {
   "cell_type": "code",
   "execution_count": 178,
   "metadata": {},
   "outputs": [
    {
     "data": {
      "text/plain": [
       "13133"
      ]
     },
     "execution_count": 178,
     "metadata": {},
     "output_type": "execute_result"
    }
   ],
   "source": [
    "df2[df2[\"fitting_r2\"]==0].shape[0]"
   ]
  },
  {
   "cell_type": "code",
   "execution_count": 179,
   "metadata": {},
   "outputs": [],
   "source": [
    "fitted = df2[df2[\"fitting_r2\"]!=0]"
   ]
  },
  {
   "cell_type": "code",
   "execution_count": 230,
   "metadata": {},
   "outputs": [],
   "source": [
    "df2[\"dif_first\"]=abs(df2[response_norm[0]] - df2[response_norm[1]])\n",
    "df2[\"dif_last\"]=abs(df2[response_norm[-2]] - df2[response_norm[-1]])"
   ]
  },
  {
   "cell_type": "code",
   "execution_count": 263,
   "metadata": {},
   "outputs": [
    {
     "data": {
      "text/plain": [
       "(1122, 57)"
      ]
     },
     "execution_count": 263,
     "metadata": {},
     "output_type": "execute_result"
    }
   ],
   "source": [
    "#r2>0.97 27711\n",
    "fitted2 = df2[(df2[\"fitting_r2\"]>0.98)&(df2[response_norm[-3]]<0.3)\n",
    "              &(df2[response_norm[1]]>0.9) &(df2[response_norm[2]]>0.9)\n",
    "              &(df2['dif_first']<0.02) & (df2['dif_last']<0.03)]\n",
    "fitted2.shape"
   ]
  },
  {
   "cell_type": "code",
   "execution_count": 264,
   "metadata": {},
   "outputs": [
    {
     "name": "stdout",
     "output_type": "stream",
     "text": [
      "[ 961  504  510  218  529  497  372   43 1001]\n"
     ]
    },
    {
     "data": {
      "image/png": "[encoded data removed]",
      "text/plain": [
       "<Figure size 1008x792 with 18 Axes>"
      ]
     },
     "metadata": {
      "needs_background": "light"
     },
     "output_type": "display_data"
    }
   ],
   "source": [
    "df = fitted2\n",
    "max_int = len(df.index)\n",
    "rand_int = np.random.randint(0, max_int, 9)\n",
    "print(rand_int)\n",
    "\n",
    "show_response_curves(df, plots_in_row=3, plots_in_column=3, x_columns=conc_columns, y_columns= response_norm, \n",
    "                     start_index=0, indexes=df.index[rand_int],\n",
    "                    fitting_function =sigmoid_4_param, fitting_parameters =\"fitting_param\")"
   ]
  },
  {
   "cell_type": "raw",
   "metadata": {},
   "source": [
    "87-CTV-1 - excellent\n",
    "308_NB1 - bad"
   ]
  },
  {
   "cell_type": "markdown",
   "metadata": {},
   "source": [
    "### Useful"
   ]
  },
  {
   "cell_type": "code",
   "execution_count": null,
   "metadata": {},
   "outputs": [],
   "source": [
    "xdata = np.array([400, 600, 800, 1000, 1200, 1400, 1600])\n",
    "ydata = np.array([0, 0, 0.13, 0.35, 0.75, 0.89, 0.91])\n",
    "\n",
    "def fsigmoid(x, a, b):\n",
    "    return 1.0 / (1.0 + np.exp(-a*(x-b)))\n",
    "\n",
    "popt, pcov = curve_fit(fsigmoid, xdata, ydata, method='dogbox', bounds=([0., 600.],[0.01, 1200.]))\n",
    "plt.scatter(xdata, ydata)\n",
    "plt.plot(xdata, fsigmoid(xdata, *popt));"
   ]
  },
  {
   "cell_type": "code",
   "execution_count": null,
   "metadata": {},
   "outputs": [],
   "source": [
    "r2_scores= []\n",
    "guesses = np.linspace(-2,2,20)\n",
    "for i in guesses:\n",
    "    \n",
    "    p0 = [i, 0.1]\n",
    "\n",
    "    popt, pcov = curve_fit(fsigmoid, xdata_log, ydata, p0=p0, method='dogbox')\n",
    "    y_fitted = fsigmoid(xdata_log, *popt) \n",
    "    r2 = r2_score(ydata, y_fitted)\n",
    "    r2_scores.append(abs(r2))  \n",
    "    \n",
    "plt.scatter(guesses, r2_scores);\n",
    "#but this parameter i = p should correspond to IC50! It means that it should be somewhere close to 0.4 \n",
    "#as it comes from the visual analysis of the graph"
   ]
  },
  {
   "cell_type": "code",
   "execution_count": null,
   "metadata": {},
   "outputs": [],
   "source": [
    "r2_scores= []\n",
    "guesses = np.linspace(0,20,40)\n",
    "for i in guesses:\n",
    "    \n",
    "    p0 = [0.4, i]\n",
    "\n",
    "    popt, pcov = curve_fit(fsigmoid, xdata, ydata, p0=p0, method='dogbox')\n",
    "    y_fitted = fsigmoid(xdata, *popt) \n",
    "    r2 = r2_score(ydata, y_fitted)\n",
    "    r2_scores.append(abs(r2))  \n",
    "    \n",
    "plt.scatter(guesses, r2_scores);"
   ]
  },
  {
   "cell_type": "code",
   "execution_count": null,
   "metadata": {},
   "outputs": [],
   "source": [
    "plt.plot(guesses, r2_scores);\n"
   ]
  },
  {
   "cell_type": "code",
   "execution_count": null,
   "metadata": {},
   "outputs": [],
   "source": [
    "https://biopython.org/DIST/docs/api/Bio.phenotype.pm_fitting-pysrc.html"
   ]
  },
  {
   "cell_type": "code",
   "execution_count": null,
   "metadata": {},
   "outputs": [],
   "source": [
    "Filtering logics:\n",
    "    1. first values of y>1 => filter out\n",
    "    2. last values of y >0.9 => filter out"
   ]
  },
  {
   "cell_type": "code",
   "execution_count": null,
   "metadata": {},
   "outputs": [],
   "source": [
    "https://jbhender.github.io/Stats506/F18/GP/Group16.html"
   ]
  },
  {
   "cell_type": "code",
   "execution_count": null,
   "metadata": {},
   "outputs": [],
   "source": [
    "https://www.futuremedicine.com/doi/pdf/10.2217/pgs.16.15"
   ]
  },
  {
   "cell_type": "code",
   "execution_count": null,
   "metadata": {},
   "outputs": [],
   "source": [
    "drug_332_log[response_norm]=np.log(drug_332_log[response_norm])"
   ]
  },
  {
   "cell_type": "code",
   "execution_count": null,
   "metadata": {},
   "outputs": [],
   "source": [
    "drug_332_short = drug_332['CELL_LINE_NAME', 'COSMIC_ID', 'DRUG_ID',\n",
    "       'DRUGID_COSMICID', 'FOLD_DILUTION', 'MAX_CONC', 'fd_num_0', 'fd_num_1',\n",
    "       'fd_num_2', 'fd_num_3', 'fd_num_4', 'fd_num_5', 'fd_num_6', 'fd_num_7',\n",
    "       'fd_num_8', 'fd_num_9', 'norm_cells_0', 'norm_cells_1', 'norm_cells_2',\n",
    "       'norm_cells_3', 'norm_cells_4', 'norm_cells_5', 'norm_cells_6',\n",
    "       'norm_cells_7', 'norm_cells_8', 'norm_cells_9'].columns"
   ]
  },
  {
   "cell_type": "code",
   "execution_count": null,
   "metadata": {},
   "outputs": [],
   "source": [
    "conc = np.array(drug_curves[\"MAX_CONC\"].unique())\n",
    "conc.min(), conc.max()"
   ]
  },
  {
   "cell_type": "code",
   "execution_count": null,
   "metadata": {},
   "outputs": [],
   "source": [
    "drug_id=238\n",
    "conc = np.array(drug_curves[drug_curves[\"DRUG_ID\"]==drug_id][\"MAX_CONC\"].unique())"
   ]
  },
  {
   "cell_type": "code",
   "execution_count": null,
   "metadata": {},
   "outputs": [],
   "source": [
    "several_conc =[]\n",
    "for drug_id in drug_curves[\"DRUG_ID\"].unique():\n",
    "    conc = np.array(drug_curves[drug_curves[\"DRUG_ID\"]==drug_id][\"MAX_CONC\"].unique())\n",
    "    if len(conc)>1:\n",
    "        several_conc.append(drug_id)\n",
    "        print(\"Drug id: %d, Available concentrations: %d, min concetraion: %0.2f, max concetration: %0.2f\" % (drug_id, len(conc), conc.min(), conc.max()))"
   ]
  },
  {
   "cell_type": "code",
   "execution_count": null,
   "metadata": {},
   "outputs": [],
   "source": [
    "len(several_conc)"
   ]
  },
  {
   "cell_type": "code",
   "execution_count": null,
   "metadata": {},
   "outputs": [],
   "source": [
    "drug_curves[drug_curves[conc_columns[-1]].isnull()][conc_columns]"
   ]
  },
  {
   "cell_type": "raw",
   "metadata": {},
   "source": [
    "Question to discuss\n",
    "\n",
    "Current poblems\n",
    "\n",
    "1. Drug response curves\n",
    "    - What are actual dose-response curves? Which coordinates from drug_curves should I use?\n",
    "      Where is cell viability?\n",
    "    - if y = norm_cells_0 etc, why are the values >1?\n",
    "\n",
    "\n",
    "2. Curve fitting and summary characteristics\n",
    "    - paper, p.15 Sigmoid drug response model \n",
    "    log10 drug dosage scale (p.15),  log2dosage scale (p.17)?\n",
    "    - GP => paper, p.16 - last paragraph GPFlow software\n",
    "\n",
    "Further work:\n",
    "1. Are cancer lines examined only before drug treatment? substract data and to see the changes - predict max-min limits\n",
    "2. parsing www.drugbank.ca -> properties only for 152 drugs (from 265)"
   ]
  },
  {
   "cell_type": "code",
   "execution_count": null,
   "metadata": {},
   "outputs": [],
   "source": [
    "filter data drug vs different cells,\n",
    "script to see which data are good, AUC, noise/data"
   ]
  },
  {
   "cell_type": "code",
   "execution_count": null,
   "metadata": {},
   "outputs": [],
   "source": []
  }
 ],
 "metadata": {
  "kernelspec": {
   "display_name": "myspark",
   "language": "python",
   "name": "myspark"
  },
  "language_info": {
   "codemirror_mode": {
    "name": "ipython",
    "version": 3
   },
   "file_extension": ".py",
   "mimetype": "text/x-python",
   "name": "python",
   "nbconvert_exporter": "python",
   "pygments_lexer": "ipython3",
   "version": "3.6.10"
  }
 },
 "nbformat": 4,
 "nbformat_minor": 2
}
