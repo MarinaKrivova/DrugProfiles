{
 "cells": [
  {
   "cell_type": "code",
   "execution_count": 1,
   "metadata": {},
   "outputs": [],
   "source": [
    "import pandas as pd\n",
    "import numpy as np\n",
    "import time\n",
    "\n",
    "from sklearn.kernel_ridge import KernelRidge\n",
    "from sklearn.svm import SVR\n",
    "from sklearn.linear_model import Ridge, Lasso\n",
    "\n",
    "from sklearn.metrics import r2_score, mean_squared_error, mean_absolute_error\n",
    "from sklearn.preprocessing import MinMaxScaler\n",
    "import os\n",
    "\n",
    "from scipy.stats import norm\n",
    "\n",
    "import matplotlib.pyplot as plt\n",
    "%matplotlib inline\n",
    "\n",
    "from IPython.display import display\n",
    "_FOLDER = \"results/\"\n",
    "# _FOLDER = \"/home/acq18mk/master/results/\""
   ]
  },
  {
   "cell_type": "code",
   "execution_count": 2,
   "metadata": {},
   "outputs": [
    {
     "data": {
      "text/plain": [
       "['drug_cells_kernels_best_parameters.csv',\n",
       " 'X_features_1122_easy_read.txt',\n",
       " 'drug_cells_PubChem_scaled_kernels_best_parameters.csv',\n",
       " '.DS_Store',\n",
       " 'merged_drug_profiles_cells_sigmoid4_123.csv',\n",
       " 'drugs_with_pubchem_id.txt',\n",
       " 'drug_features_with_pubchem_properties.csv',\n",
       " 'drugs_with_no_pubchem_id.txt',\n",
       " 'statistics_of_sigmoid_coefficients.csv',\n",
       " 'target_target_pathway_df.csv',\n",
       " 'X_features_Targets.txt',\n",
       " 'X_PubChem_features.txt',\n",
       " '.ipynb_checkpoints',\n",
       " 'X_columns_1094.txt',\n",
       " 'drug_cells_description_kernels_best_parameters.csv',\n",
       " 'filtered_drug_profiles_123.csv',\n",
       " 'X_PubChem_properties.txt',\n",
       " 'X_features_Target_Pathway.txt',\n",
       " 'merged_fitted_sigmoid4_123_with_drugs_properties.csv',\n",
       " 'drug_cells_PubChem_kernels_best_parameters.csv',\n",
       " 'X_features_cancer_cell_lines.txt']"
      ]
     },
     "execution_count": 2,
     "metadata": {},
     "output_type": "execute_result"
    }
   ],
   "source": [
    "os.listdir(_FOLDER)"
   ]
  },
  {
   "cell_type": "code",
   "execution_count": 3,
   "metadata": {},
   "outputs": [
    {
     "name": "stdout",
     "output_type": "stream",
     "text": [
      "Number of cancer cell lines features: 1073\n",
      "Number of PubChem drug properties: 26\n",
      "Number of possible targets: 229\n",
      "Number of possible target pathways: 23\n",
      "\n",
      " Maximum number of features: 1351\n"
     ]
    }
   ],
   "source": [
    "# potential features for ML:\n",
    "# - X_cancer_cell_lines - 1073\n",
    "# - X_PubChem_properties - 26\n",
    "# - X_targets - 229\n",
    "# - X_target_pathway\n",
    "\n",
    "with open(_FOLDER+\"X_features_cancer_cell_lines.txt\", 'r') as f:\n",
    "    X_cancer_cell_lines = [line.rstrip('\\n') for line in f]\n",
    "print(\"Number of cancer cell lines features:\", len(X_cancer_cell_lines))\n",
    "# *****************************************\n",
    "\n",
    "with open(_FOLDER+\"X_PubChem_properties.txt\", 'r') as f:\n",
    "    X_PubChem_properties = [line.rstrip('\\n') for line in f]\n",
    "print(\"Number of PubChem drug properties:\", len(X_PubChem_properties))\n",
    "# *****************************************\n",
    "\n",
    "with open(_FOLDER+\"X_features_Targets.txt\", 'r') as f:\n",
    "    X_targets = [line.rstrip('\\n') for line in f]\n",
    "print(\"Number of possible targets:\", len(X_targets))\n",
    "# *****************************************\n",
    "\n",
    "with open(_FOLDER+\"X_features_Target_Pathway.txt\", 'r') as f:\n",
    "    X_target_pathway = [line.rstrip('\\n') for line in f]\n",
    "print(\"Number of possible target pathways:\", len(X_target_pathway))\n",
    "# *****************************************\n",
    "\n",
    "print(\"\\n Maximum number of features:\",len(X_cancer_cell_lines)+ len(X_PubChem_properties)+len(X_targets) + len(X_target_pathway))"
   ]
  },
  {
   "cell_type": "markdown",
   "metadata": {},
   "source": [
    "### Data Sparsity"
   ]
  },
  {
   "cell_type": "code",
   "execution_count": 13,
   "metadata": {},
   "outputs": [
    {
     "data": {
      "text/plain": [
       "(2585, 1380)"
      ]
     },
     "execution_count": 13,
     "metadata": {},
     "output_type": "execute_result"
    }
   ],
   "source": [
    "df = pd.read_csv(_FOLDER+\"merged_fitted_sigmoid4_123_with_drugs_properties.csv\").drop(\"Unnamed: 0\", axis=1)\n",
    "df.shape"
   ]
  },
  {
   "cell_type": "code",
   "execution_count": 15,
   "metadata": {},
   "outputs": [
    {
     "data": {
      "text/plain": [
       "(29,\n",
       " {'COSMIC_ID',\n",
       "  'DRUG_ID',\n",
       "  'Drug_Name',\n",
       "  'MAX_CONC',\n",
       "  'fd_num_0',\n",
       "  'fd_num_1',\n",
       "  'fd_num_2',\n",
       "  'fd_num_3',\n",
       "  'fd_num_4',\n",
       "  'fd_num_5',\n",
       "  'fd_num_6',\n",
       "  'fd_num_7',\n",
       "  'fd_num_8',\n",
       "  'fd_num_9',\n",
       "  'molecular_formula',\n",
       "  'norm_cells_0',\n",
       "  'norm_cells_1',\n",
       "  'norm_cells_2',\n",
       "  'norm_cells_3',\n",
       "  'norm_cells_4',\n",
       "  'norm_cells_5',\n",
       "  'norm_cells_6',\n",
       "  'norm_cells_7',\n",
       "  'norm_cells_8',\n",
       "  'norm_cells_9',\n",
       "  'param_1',\n",
       "  'param_2',\n",
       "  'param_3',\n",
       "  'param_4'})"
      ]
     },
     "execution_count": 15,
     "metadata": {},
     "output_type": "execute_result"
    }
   ],
   "source": [
    "difference = set(df.columns) - set(X_cancer_cell_lines + X_PubChem_properties + X_targets + X_target_pathway)\n",
    "len(difference), difference"
   ]
  },
  {
   "cell_type": "code",
   "execution_count": 16,
   "metadata": {},
   "outputs": [
    {
     "name": "stdout",
     "output_type": "stream",
     "text": [
      "Dataset 1 - only cancer cell lines features: (2585, 1073)\n",
      "\n",
      "Number of zero elements: 2,676,495.00\n",
      "Number of all elements: 2,773,705.00\n",
      "Sparsity of data in %: 96.495\n"
     ]
    }
   ],
   "source": [
    "# dataset1 -  only cancer cell lines features\n",
    "columns = X_cancer_cell_lines\n",
    "print(\"Dataset 1 - only cancer cell lines features:\", df[columns].shape)\n",
    "zero_elements = sum(sum(df[columns].values==0))\n",
    "print(\"\\nNumber of zero elements:\", '{:,.2f}'.format(zero_elements))\n",
    "all_elements = df[columns].shape[0] *df[columns].shape[1]\n",
    "print(\"Number of all elements:\", '{:,.2f}'.format(all_elements))\n",
    "print(\"Sparsity of data in %:\", round(100*zero_elements/all_elements, 3))"
   ]
  },
  {
   "cell_type": "code",
   "execution_count": 17,
   "metadata": {},
   "outputs": [
    {
     "name": "stdout",
     "output_type": "stream",
     "text": [
      "Dataset 2 - cancer cell lines features + drug description: (2585, 1326)\n",
      "\n",
      "Number of zero elements: 3,320,870.00\n",
      "Number of all elements: 3,427,710.00\n",
      "Sparsity of data in %: 96.883\n"
     ]
    }
   ],
   "source": [
    "# dataset2 -  cancer cell lines features + drug description\n",
    "columns = X_cancer_cell_lines + X_targets + X_target_pathway +[\"MAX_CONC\"]\n",
    "print(\"Dataset 2 - cancer cell lines features + drug description:\", df[columns].shape)\n",
    "zero_elements = sum(sum(df[columns].values==0))\n",
    "print(\"\\nNumber of zero elements:\", '{:,.2f}'.format(zero_elements))\n",
    "all_elements = df[columns].shape[0] *df[columns].shape[1]\n",
    "print(\"Number of all elements:\", '{:,.2f}'.format(all_elements))\n",
    "print(\"Sparsity of data in %:\", round(100*zero_elements/all_elements, 3))"
   ]
  },
  {
   "cell_type": "code",
   "execution_count": 18,
   "metadata": {},
   "outputs": [
    {
     "name": "stdout",
     "output_type": "stream",
     "text": [
      "Dataset 3 - cancer cell lines features + PubChem drug properties: (2585, 1100)\n",
      "\n",
      "Number of zero elements: 2,709,336.00\n",
      "Number of all elements: 2,843,500.00\n",
      "Sparsity of data in %: 95.282\n"
     ]
    }
   ],
   "source": [
    "# dataset3 -  cancer cell lines features + PubChem drug properties\n",
    "columns = X_cancer_cell_lines + X_PubChem_properties +[\"MAX_CONC\"]\n",
    "print(\"Dataset 3 - cancer cell lines features + PubChem drug properties:\", df[columns].shape)\n",
    "zero_elements = sum(sum(df[columns].values==0))\n",
    "print(\"\\nNumber of zero elements:\", '{:,.2f}'.format(zero_elements))\n",
    "all_elements = df[columns].shape[0] *df[columns].shape[1]\n",
    "print(\"Number of all elements:\", '{:,.2f}'.format(all_elements))\n",
    "print(\"Sparsity of data in %:\", round(100*zero_elements/all_elements, 3))"
   ]
  },
  {
   "cell_type": "code",
   "execution_count": 19,
   "metadata": {},
   "outputs": [
    {
     "name": "stdout",
     "output_type": "stream",
     "text": [
      "Dataset 3 - cancer cell lines features + PubChem drug properties: (2585, 1352)\n",
      "\n",
      "Number of zero elements: 3,353,711.00\n",
      "Number of all elements: 3,494,920.00\n",
      "Sparsity of data in %: 95.96\n"
     ]
    }
   ],
   "source": [
    "# dataset4 -  cancer cell lines features + drug description + PubChem drug properties\n",
    "columns = X_cancer_cell_lines + X_PubChem_properties + X_targets + X_target_pathway +[\"MAX_CONC\"]\n",
    "print(\"Dataset 3 - cancer cell lines features + PubChem drug properties:\", df[columns].shape)\n",
    "zero_elements = sum(sum(df[columns].values==0))\n",
    "print(\"\\nNumber of zero elements:\", '{:,.2f}'.format(zero_elements))\n",
    "all_elements = df[columns].shape[0] *df[columns].shape[1]\n",
    "print(\"Number of all elements:\", '{:,.2f}'.format(all_elements))\n",
    "print(\"Sparsity of data in %:\", round(100*zero_elements/all_elements, 3))"
   ]
  },
  {
   "cell_type": "markdown",
   "metadata": {},
   "source": [
    "### Train and test data"
   ]
  },
  {
   "cell_type": "code",
   "execution_count": 33,
   "metadata": {},
   "outputs": [],
   "source": [
    "# drugs with >50 profiles:\n",
    "\n",
    "df = pd.read_csv(_FOLDER+\"merged_fitted_sigmoid4_123_with_drugs_properties.csv\")"
   ]
  },
  {
   "cell_type": "raw",
   "metadata": {},
   "source": [
    "gr = df.groupby(\"DRUG_ID\")[\"COSMIC_ID\"].count()\n",
    "drug_ids = list(gr[gr>50].index)\n",
    "\n",
    "with open(\"results/drug_ids_50.txt\", 'w') as f:\n",
    "    for s in drug_ids:\n",
    "        f.write(str(s) + '\\n')\n",
    "\n",
    "len(drug_ids), drug_ids"
   ]
  },
  {
   "cell_type": "code",
   "execution_count": 37,
   "metadata": {},
   "outputs": [
    {
     "data": {
      "text/plain": [
       "(11, [170, 173, 180, 200, 219, 272, 273, 274, 276, 328, 346])"
      ]
     },
     "execution_count": 37,
     "metadata": {},
     "output_type": "execute_result"
    }
   ],
   "source": [
    "with open(\"results/drug_ids_50.txt\", 'r') as f:\n",
    "    drug_ids_50 = [np.int32(line.rstrip('\\n')) for line in f]\n",
    "    \n",
    "len(drug_ids_50), drug_ids_50"
   ]
  },
  {
   "cell_type": "code",
   "execution_count": 26,
   "metadata": {},
   "outputs": [],
   "source": [
    "train_df = pd.read_csv(_FOLDER+\"train08_merged_fitted_sigmoid4_123_with_drugs_properties_min10.csv\").drop([\"Unnamed: 0\",\"Unnamed: 0.1\"], axis=1)\n",
    "test_df = pd.read_csv(_FOLDER+\"test02_merged_fitted_sigmoid4_123_with_drugs_properties_min10.csv\").drop([\"Unnamed: 0\",\"Unnamed: 0.1\"], axis=1)               "
   ]
  },
  {
   "cell_type": "code",
   "execution_count": 58,
   "metadata": {},
   "outputs": [],
   "source": [
    "conc_columns = [\"fd_num_\"+str(i) for i in range(10)]\n",
    "norm_response = ['norm_cells_'+str(i) for i in range(10)]\n",
    "param = [\"param_\" +str(i) for i in range(1, 5)]"
   ]
  },
  {
   "cell_type": "code",
   "execution_count": 32,
   "metadata": {},
   "outputs": [
    {
     "data": {
      "text/plain": [
       "(15,\n",
       " 27,\n",
       " ['molecular_weight',\n",
       "  '2bonds',\n",
       "  'xlogp',\n",
       "  'surface_area',\n",
       "  'complexity',\n",
       "  'h_bond_donor_count',\n",
       "  'h_bond_acceptor_count',\n",
       "  'rotatable_bond_count',\n",
       "  'heavy_atom_count',\n",
       "  'atom_stereo_count',\n",
       "  'defined_atom_stereo_count',\n",
       "  'undefined_atom_stereo_count',\n",
       "  'bond_stereo_count',\n",
       "  'covalent_unit_count',\n",
       "  'MAX_CONC'])"
      ]
     },
     "execution_count": 32,
     "metadata": {},
     "output_type": "execute_result"
    }
   ],
   "source": [
    "columns_to_normalise = []\n",
    "all_columns = X_cancer_cell_lines + X_PubChem_properties + X_targets + X_target_pathway +[\"MAX_CONC\"]\n",
    "for col in all_columns:\n",
    "    if df[col].nunique()>2:\n",
    "        columns_to_normalise.append(col)\n",
    "\n",
    "len(col_to_normalise), len(X_PubChem_properties +[\"MAX_CONC\"]),columns_to_normalise       "
   ]
  },
  {
   "cell_type": "code",
   "execution_count": 38,
   "metadata": {},
   "outputs": [],
   "source": [
    "with open(\"results/columns_to_normalise.txt\", 'w') as f:\n",
    "    for s in columns_to_normalise:\n",
    "        f.write(str(s) + '\\n')"
   ]
  },
  {
   "cell_type": "code",
   "execution_count": 35,
   "metadata": {},
   "outputs": [
    {
     "data": {
      "text/plain": [
       "(True, True)"
      ]
     },
     "execution_count": 35,
     "metadata": {},
     "output_type": "execute_result"
    }
   ],
   "source": [
    "\"MAX_CONC\" in df.columns, \"MAX_CONC\" in train_df.columns"
   ]
  },
  {
   "cell_type": "code",
   "execution_count": null,
   "metadata": {},
   "outputs": [],
   "source": []
  },
  {
   "cell_type": "code",
   "execution_count": null,
   "metadata": {},
   "outputs": [],
   "source": []
  },
  {
   "cell_type": "code",
   "execution_count": null,
   "metadata": {},
   "outputs": [],
   "source": []
  },
  {
   "cell_type": "markdown",
   "metadata": {},
   "source": [
    "### Previous results"
   ]
  },
  {
   "cell_type": "code",
   "execution_count": 59,
   "metadata": {},
   "outputs": [],
   "source": [
    "columns_to_normalise = drug_features +[\"MAX_CONC\"]"
   ]
  },
  {
   "cell_type": "code",
   "execution_count": 36,
   "metadata": {},
   "outputs": [
    {
     "data": {
      "text/plain": [
       "(1122, 1123)"
      ]
     },
     "execution_count": 36,
     "metadata": {},
     "output_type": "execute_result"
    }
   ],
   "source": [
    "with open(_FOLDER+\"X_features_1123_easy_read.txt\", 'r') as f:\n",
    "    X_columns_1123 = [line.rstrip('\\n') for line in f]\n",
    "\n",
    "with open(_FOLDER+\"X_features_1122_easy_read.txt\", 'r') as f:\n",
    "    X_columns_1122 = [line.rstrip('\\n') for line in f]\n",
    "len(X_columns_1122), len(X_columns_1123)"
   ]
  },
  {
   "cell_type": "code",
   "execution_count": 37,
   "metadata": {},
   "outputs": [
    {
     "data": {
      "text/plain": [
       "{'MAX_CONC'}"
      ]
     },
     "execution_count": 37,
     "metadata": {},
     "output_type": "execute_result"
    }
   ],
   "source": [
    "set(X_columns_1123) - set(X_columns_1122)"
   ]
  },
  {
   "cell_type": "code",
   "execution_count": 60,
   "metadata": {},
   "outputs": [
    {
     "data": {
      "text/plain": [
       "1154"
      ]
     },
     "execution_count": 60,
     "metadata": {},
     "output_type": "execute_result"
    }
   ],
   "source": [
    "df = pd.read_csv(_FOLDER+'merged_fitted_sigmoid4_123_with_drugs_properties.csv')\n",
    "len(df.columns)"
   ]
  },
  {
   "cell_type": "code",
   "execution_count": 40,
   "metadata": {},
   "outputs": [
    {
     "data": {
      "text/plain": [
       "False"
      ]
     },
     "execution_count": 40,
     "metadata": {},
     "output_type": "execute_result"
    }
   ],
   "source": [
    "\"MAX_CONC\" in df.columns"
   ]
  },
  {
   "cell_type": "code",
   "execution_count": 44,
   "metadata": {},
   "outputs": [],
   "source": [
    "df3 = pd.read_csv(_FOLDER+\"train08_merged_fitted_sigmoid4_123_with_drugs_description.csv\").drop([\"Unnamed: 0\",\"Unnamed: 0.1\"], axis=1)               "
   ]
  },
  {
   "cell_type": "code",
   "execution_count": 45,
   "metadata": {},
   "outputs": [
    {
     "data": {
      "text/plain": [
       "Index(['DRUG_ID', 'COSMIC_ID', 'fd_num_0', 'fd_num_1', 'fd_num_2', 'fd_num_3',\n",
       "       'fd_num_4', 'fd_num_5', 'fd_num_6', 'fd_num_7',\n",
       "       ...\n",
       "       'chr9:123555399-123555899(FBXW2)_HypMET',\n",
       "       'chr9:140310894-140312457(EXD3)_HypMET',\n",
       "       'chr9:21974578-21975306(CDKN2A)_HypMET',\n",
       "       'chr9:35756948-35757339(MSMP)_HypMET',\n",
       "       'chr9:35791584-35791924(NPR2)_HypMET',\n",
       "       'chr9:4984543-4985630(JAK2)_HypMET',\n",
       "       'chr9:86571047-86572027(C9orf64)_HypMET',\n",
       "       'chr9:98783216-98784364(NCRNA00092)_HypMET', 'Target_Pathway',\n",
       "       'Drug_Name'],\n",
       "      dtype='object', length=1101)"
      ]
     },
     "execution_count": 45,
     "metadata": {},
     "output_type": "execute_result"
    }
   ],
   "source": [
    "df3.columns"
   ]
  },
  {
   "cell_type": "raw",
   "metadata": {},
   "source": [
    "#3 types of features\n",
    "-from cancer cell lines\n",
    "-from drug description\n",
    "-from PubChem properties"
   ]
  },
  {
   "cell_type": "code",
   "execution_count": 48,
   "metadata": {},
   "outputs": [
    {
     "data": {
      "text/plain": [
       "['drug_cells_kernels_best_parameters.csv',\n",
       " 'X_features_1122_easy_read.txt',\n",
       " 'test02_merged_fitted_sigmoid4_123_with_drugs_properties.csv',\n",
       " 'drug_cells_PubChem_scaled_kernels_best_parameters.csv',\n",
       " '.DS_Store',\n",
       " 'test02_merged_fitted_sigmoid4_123_with_drugs_description.csv',\n",
       " 'drug_features_with_pubchem_properties.csv',\n",
       " 'merged_fitted_sigmoid4_123_with_drugs_description.csv',\n",
       " 'merged_fitted_sigmoid4_123_with_drugs_properties_split_target.csv',\n",
       " 'X_PubChem_features_easy_read.txt',\n",
       " 'merged_fitted_sigmoid4_123_with_drugs_description_split_target.csv',\n",
       " 'statistics_of_sigmoid_coefficients.csv',\n",
       " 'train08_merged_fitted_sigmoid4_123_with_drugs_description.csv',\n",
       " 'X_features_cancer_cell_lines_easy_read.txt',\n",
       " 'train08_merged_fitted_sigmoid4_123_with_drugs_properties.csv',\n",
       " 'X_target_and_pathway_columns_easy_read.txt',\n",
       " 'merged_drug_profiles_sigmoid4_123.csv',\n",
       " '.ipynb_checkpoints',\n",
       " 'drug_cells_description_kernels_best_parameters.csv',\n",
       " 'X_features_1123_easy_read.txt',\n",
       " 'merged_fitted_sigmoid4_123_with_drugs_properties.csv',\n",
       " 'drug_cells_PubChem_kernels_best_parameters.csv']"
      ]
     },
     "execution_count": 48,
     "metadata": {},
     "output_type": "execute_result"
    }
   ],
   "source": [
    "os.listdir(\"results\")"
   ]
  },
  {
   "cell_type": "code",
   "execution_count": 49,
   "metadata": {},
   "outputs": [
    {
     "data": {
      "text/plain": [
       "1073"
      ]
     },
     "execution_count": 49,
     "metadata": {},
     "output_type": "execute_result"
    }
   ],
   "source": [
    "with open(_FOLDER+\"X_features_cancer_cell_lines_easy_read.txt\", 'r') as f:\n",
    "    X_cancer_cells = [line.rstrip('\\n') for line in f]\n",
    "len(X_cancer_cells)"
   ]
  },
  {
   "cell_type": "code",
   "execution_count": 50,
   "metadata": {},
   "outputs": [
    {
     "data": {
      "text/plain": [
       "26"
      ]
     },
     "execution_count": 50,
     "metadata": {},
     "output_type": "execute_result"
    }
   ],
   "source": [
    "with open(\"results/X_PubChem_features_easy_read.txt\", 'r') as f:\n",
    "    X_PubChem_features = [line.rstrip('\\n') for line in f]\n",
    "len(X_PubChem_features)"
   ]
  },
  {
   "cell_type": "code",
   "execution_count": 51,
   "metadata": {},
   "outputs": [
    {
     "data": {
      "text/plain": [
       "26"
      ]
     },
     "execution_count": 51,
     "metadata": {},
     "output_type": "execute_result"
    }
   ],
   "source": [
    "with open(\"results/X_target_and_pathway_columns_easy_read.txt\", 'r') as f:\n",
    "    X_target_and_pathway = [line.rstrip('\\n') for line in f]\n",
    "len(X_target_and_pathway)"
   ]
  },
  {
   "cell_type": "code",
   "execution_count": 53,
   "metadata": {},
   "outputs": [
    {
     "data": {
      "text/plain": [
       "(1099, 1125)"
      ]
     },
     "execution_count": 53,
     "metadata": {},
     "output_type": "execute_result"
    }
   ],
   "source": [
    "len(X_cancer_cells+X_target_and_pathway), len(X_cancer_cells+X_target_and_pathway+X_PubChem_features)"
   ]
  },
  {
   "cell_type": "markdown",
   "metadata": {},
   "source": [
    "### Dataset 2 with drug description"
   ]
  },
  {
   "cell_type": "code",
   "execution_count": 94,
   "metadata": {},
   "outputs": [
    {
     "name": "stdout",
     "output_type": "stream",
     "text": [
      "\n",
      "2. Finding optimal parameters for drug profiles, cell lines and drug description\n",
      "\n",
      "Number of drugs for training: 11\n",
      "Number of X_columns: 1094\n"
     ]
    }
   ],
   "source": [
    "def RunCrossValidation(merged_df, drug_ids, number_coefficients, train_ratio=0.8, column_not_to_use =[], \n",
    "                       kernel='linear', param_tested = \"C\", param_tested_values = [], \n",
    "                       degree=3, gamma=\"scale\", coef0=0.0, C=1.0, epsilon=0.1, cache_size=200,\n",
    "                       features_to_scale=[], scaling=False, print_results=True):\n",
    "    \n",
    "    param1 = [\"param_\" +str(i) for i in range(10)]\n",
    "    param2 = [\"param\" +str(i) for i in range(10)] \n",
    "    norm_response  = [\"norm_cells_\"+str(i) for i in range(10)]\n",
    "    con_columns  = [\"fd_num_\"+str(i) for i in range(10)]\n",
    "    not_X_columns = param1 + param2 + norm_response + con_columns+column_not_to_use\n",
    "    X_columns = set(merged_df.columns) - set(not_X_columns)\n",
    "    print(\"Number of X_columns:\", len(X_columns))\n",
    "    \n",
    "    with open(\"results/X_columns_1094.txt\", 'w') as f:\n",
    "        for s in X_columns:\n",
    "            f.write(str(s) + '\\n')\n",
    "\n",
    "def TuneParameters(merged_df, drug_ids, number_coefficients, kernels = [], column_not_to_use =[], \n",
    "                   param_tested = \"C\", param_tested_values = [], \n",
    "                   degree=3, gamma='scale', coef0=0.0, C=1.0, epsilon=0.1, cache_size=200,\n",
    "                   features_to_scale=[], scaling=False, print_results=True):\n",
    "\n",
    "    for kernel in kernels:\n",
    "        if kernel == \"linear\":\n",
    "            best_epsilon = RunCrossValidation(merged_df, drug_ids, number_coefficients, \n",
    "                                            kernel=kernel, \n",
    "                                            column_not_to_use=column_not_to_use, \n",
    "                                            param_tested = \"epsilon\", \n",
    "                                            param_tested_values = [0.001, 0.01, 0.1, 1, 2, 5],\n",
    "                                            features_to_scale = features_to_scale, scaling = scaling,\n",
    "                                            print_results=print_results)\n",
    "\n",
    "\n",
    "print(\"\\n2. Finding optimal parameters for drug profiles, cell lines and drug description\\n\")\n",
    "df = pd.read_csv(_FOLDER+'merged_fitted_sigmoid4_123_with_drugs_description.csv')\n",
    "\n",
    "# OHE and dumnies columns for Target_Pathway - 21 new columns\n",
    "df = pd.concat([df, pd.get_dummies(df[\"Target_Pathway\"])], axis=1)\n",
    "\n",
    "conc_columns= [\"fd_num_\"+str(i) for i in range(10)]\n",
    "response_norm = ['norm_cells_'+str(i) for i in range(10)]\n",
    "\n",
    "gr = df.groupby([\"DRUG_ID\"])[\"COSMIC_ID\"].count()\n",
    "drug_ids = list(gr[gr > 50].index)\n",
    "print(\"Number of drugs for training:\", len(drug_ids))\n",
    "\n",
    "kernels_to_test = [\"linear\"]\n",
    "results = TuneParameters(df, drug_ids, 4, kernels = kernels_to_test, \n",
    "                         column_not_to_use=column_not_to_use, print_results=False)"
   ]
  },
  {
   "cell_type": "code",
   "execution_count": 85,
   "metadata": {},
   "outputs": [
    {
     "data": {
      "text/plain": [
       "1094"
      ]
     },
     "execution_count": 85,
     "metadata": {},
     "output_type": "execute_result"
    }
   ],
   "source": [
    "with open(\"results/X_columns_1094.txt\", 'r') as f:\n",
    "    X_columns_1094 = [line.rstrip('\\n') for line in f]\n",
    "len(X_columns_1094)"
   ]
  },
  {
   "cell_type": "code",
   "execution_count": 89,
   "metadata": {},
   "outputs": [
    {
     "data": {
      "text/plain": [
       "['ABL signaling',\n",
       " 'Hormone-related',\n",
       " 'first_target',\n",
       " 'second_target',\n",
       " 'third_target']"
      ]
     },
     "execution_count": 89,
     "metadata": {},
     "output_type": "execute_result"
    }
   ],
   "source": [
    "drug_description = set(X_columns_1094) - set(X_cancer_cells)\n",
    "missing = [x for x in X_target_and_pathway if x not in drug_description]\n",
    "missing"
   ]
  },
  {
   "cell_type": "code",
   "execution_count": 93,
   "metadata": {},
   "outputs": [
    {
     "data": {
      "text/plain": [
       "False"
      ]
     },
     "execution_count": 93,
     "metadata": {},
     "output_type": "execute_result"
    }
   ],
   "source": [
    "'ABL signaling' in  X_columns_1094"
   ]
  },
  {
   "cell_type": "code",
   "execution_count": 95,
   "metadata": {},
   "outputs": [
    {
     "data": {
      "text/plain": [
       "False"
      ]
     },
     "execution_count": 95,
     "metadata": {},
     "output_type": "execute_result"
    }
   ],
   "source": [
    "'ABL signaling' in df.columns"
   ]
  },
  {
   "cell_type": "code",
   "execution_count": 96,
   "metadata": {},
   "outputs": [
    {
     "data": {
      "text/plain": [
       "['Drug_Features2.csv',\n",
       " 'Cell_Lines_Details.csv',\n",
       " 'Drug_Features.csv',\n",
       " 'Cell_Line_Features_PANCAN_simple_MOBEM.xlsx',\n",
       " 'Cell_Line_Features_PANCAN_simple_MOBEM.tsv',\n",
       " 'normalised_dose_response_data.csv']"
      ]
     },
     "execution_count": 96,
     "metadata": {},
     "output_type": "execute_result"
    }
   ],
   "source": [
    "os.listdir(\"data/\")"
   ]
  },
  {
   "cell_type": "code",
   "execution_count": 101,
   "metadata": {},
   "outputs": [
    {
     "data": {
      "text/plain": [
       "Index(['Drug ID', 'Drug Name', 'Synonyms', 'Target', 'Target Pathway'], dtype='object')"
      ]
     },
     "execution_count": 101,
     "metadata": {},
     "output_type": "execute_result"
    }
   ],
   "source": [
    "df4 = pd.read_csv(\"data/Drug_Features.csv\")\n",
    "df4.columns"
   ]
  },
  {
   "cell_type": "code",
   "execution_count": 107,
   "metadata": {},
   "outputs": [
    {
     "data": {
      "text/plain": [
       "198"
      ]
     },
     "execution_count": 107,
     "metadata": {},
     "output_type": "execute_result"
    }
   ],
   "source": [
    "df4[\"Target\"].nunique()"
   ]
  },
  {
   "cell_type": "code",
   "execution_count": 105,
   "metadata": {},
   "outputs": [
    {
     "data": {
      "text/plain": [
       "False"
      ]
     },
     "execution_count": 105,
     "metadata": {},
     "output_type": "execute_result"
    }
   ],
   "source": [
    "'ABL signaling' in df4[\"Target Pathway\"].values"
   ]
  },
  {
   "cell_type": "code",
   "execution_count": 65,
   "metadata": {},
   "outputs": [
    {
     "data": {
      "text/plain": [
       "(1101, False)"
      ]
     },
     "execution_count": 65,
     "metadata": {},
     "output_type": "execute_result"
    }
   ],
   "source": [
    "len(df.columns), \"MAX_CONC\" in df.columns"
   ]
  },
  {
   "cell_type": "code",
   "execution_count": 64,
   "metadata": {},
   "outputs": [
    {
     "data": {
      "text/plain": [
       "{'COSMIC_ID', 'DRUG_ID', 'Drug_Name', 'Target_Pathway'}"
      ]
     },
     "execution_count": 64,
     "metadata": {},
     "output_type": "execute_result"
    }
   ],
   "source": [
    "set(df3.columns) - set(conc_columns + norm_response + param) - set(X_cancer_cells+X_target_and_pathway+X_PubChem_features)"
   ]
  },
  {
   "cell_type": "code",
   "execution_count": 76,
   "metadata": {},
   "outputs": [
    {
     "name": "stdout",
     "output_type": "stream",
     "text": [
      "4\n"
     ]
    },
    {
     "data": {
      "text/plain": [
       "{'COSMIC_ID', 'DRUG_ID', 'Drug_Name', 'Target_Pathway'}"
      ]
     },
     "execution_count": 76,
     "metadata": {},
     "output_type": "execute_result"
    }
   ],
   "source": [
    "other_data = set(df3.columns) - set(conc_columns + norm_response + param) - set(X_cancer_cells)\n",
    "print(len(other_data))\n",
    "other_data"
   ]
  },
  {
   "cell_type": "code",
   "execution_count": 83,
   "metadata": {},
   "outputs": [
    {
     "data": {
      "text/plain": [
       "(1101, 1101)"
      ]
     },
     "execution_count": 83,
     "metadata": {},
     "output_type": "execute_result"
    }
   ],
   "source": [
    "len(conc_columns + norm_response + param + X_cancer_cells + list(other_data)), len(df3.columns)"
   ]
  },
  {
   "cell_type": "code",
   "execution_count": 74,
   "metadata": {},
   "outputs": [
    {
     "data": {
      "text/plain": [
       "['molecular_weight',\n",
       " '2bonds',\n",
       " '3bonds',\n",
       " 'xlogp',\n",
       " 'formal_charge',\n",
       " 'surface_area',\n",
       " 'complexity',\n",
       " 'h_bond_donor_count',\n",
       " 'h_bond_acceptor_count',\n",
       " 'rotatable_bond_count',\n",
       " 'heavy_atom_count',\n",
       " 'atom_stereo_count',\n",
       " 'defined_atom_stereo_count',\n",
       " 'undefined_atom_stereo_count',\n",
       " 'bond_stereo_count',\n",
       " 'covalent_unit_count',\n",
       " 'B',\n",
       " 'I',\n",
       " 'Br',\n",
       " 'Cl',\n",
       " 'O',\n",
       " 'N',\n",
       " 'F',\n",
       " 'P',\n",
       " 'S',\n",
       " 'Pt']"
      ]
     },
     "execution_count": 74,
     "metadata": {},
     "output_type": "execute_result"
    }
   ],
   "source": [
    "missing_data = [x for x in set(df3.columns) - set(conc_columns + norm_response + param) - set(X_cancer_cells+X_target_and_pathway+X_PubChem_features) if x not in df3.columns]\n",
    "missing_data"
   ]
  },
  {
   "cell_type": "code",
   "execution_count": 67,
   "metadata": {},
   "outputs": [
    {
     "data": {
      "text/plain": [
       "{'ABL signaling',\n",
       " 'Apoptosis regulation',\n",
       " 'Cell cycle',\n",
       " 'Chromatin histone acetylation',\n",
       " 'Chromatin histone methylation',\n",
       " 'Chromatin other',\n",
       " 'Cytoskeleton',\n",
       " 'DNA replication',\n",
       " 'EGFR signaling',\n",
       " 'ERK MAPK signaling',\n",
       " 'Genome integrity',\n",
       " 'Hormone-related',\n",
       " 'IGFR signaling',\n",
       " 'JNK and p38 signaling',\n",
       " 'Metabolism',\n",
       " 'Mitosis',\n",
       " 'Other',\n",
       " 'Other, kinases',\n",
       " 'PI3K/MTOR signaling',\n",
       " 'Protein stability and degradation',\n",
       " 'RTK signaling',\n",
       " 'WNT signaling',\n",
       " 'first_target',\n",
       " 'p53 pathway',\n",
       " 'second_target',\n",
       " 'third_target'}"
      ]
     },
     "execution_count": 67,
     "metadata": {},
     "output_type": "execute_result"
    }
   ],
   "source": [
    "set(X_cancer_cells+X_target_and_pathway) - set(df3.columns)"
   ]
  },
  {
   "cell_type": "code",
   "execution_count": 68,
   "metadata": {},
   "outputs": [
    {
     "data": {
      "text/plain": [
       "Index(['DRUG_ID', 'COSMIC_ID', 'fd_num_0', 'fd_num_1', 'fd_num_2', 'fd_num_3',\n",
       "       'fd_num_4', 'fd_num_5', 'fd_num_6', 'fd_num_7',\n",
       "       ...\n",
       "       'chr9:123555399-123555899(FBXW2)_HypMET',\n",
       "       'chr9:140310894-140312457(EXD3)_HypMET',\n",
       "       'chr9:21974578-21975306(CDKN2A)_HypMET',\n",
       "       'chr9:35756948-35757339(MSMP)_HypMET',\n",
       "       'chr9:35791584-35791924(NPR2)_HypMET',\n",
       "       'chr9:4984543-4985630(JAK2)_HypMET',\n",
       "       'chr9:86571047-86572027(C9orf64)_HypMET',\n",
       "       'chr9:98783216-98784364(NCRNA00092)_HypMET', 'Target_Pathway',\n",
       "       'Drug_Name'],\n",
       "      dtype='object', length=1101)"
      ]
     },
     "execution_count": 68,
     "metadata": {},
     "output_type": "execute_result"
    }
   ],
   "source": [
    "df3.columns"
   ]
  },
  {
   "cell_type": "code",
   "execution_count": null,
   "metadata": {},
   "outputs": [],
   "source": []
  }
 ],
 "metadata": {
  "kernelspec": {
   "display_name": "myspark",
   "language": "python",
   "name": "myspark"
  },
  "language_info": {
   "codemirror_mode": {
    "name": "ipython",
    "version": 3
   },
   "file_extension": ".py",
   "mimetype": "text/x-python",
   "name": "python",
   "nbconvert_exporter": "python",
   "pygments_lexer": "ipython3",
   "version": "3.6.10"
  }
 },
 "nbformat": 4,
 "nbformat_minor": 4
}
