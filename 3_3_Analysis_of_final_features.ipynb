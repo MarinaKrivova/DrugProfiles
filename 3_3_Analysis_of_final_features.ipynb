{
 "cells": [
  {
   "cell_type": "markdown",
   "metadata": {},
   "source": [
    "## Overview of the final features"
   ]
  },
  {
   "cell_type": "code",
   "execution_count": 1,
   "metadata": {},
   "outputs": [],
   "source": [
    "import pandas as pd\n",
    "import numpy as np\n",
    "import time\n",
    "\n",
    "import os\n",
    "\n",
    "import matplotlib.pyplot as plt\n",
    "%matplotlib inline\n",
    "\n",
    "_FOLDER_2 = \"results/\"\n",
    "# _FOLDER = \"/home/acq18mk/master/results/\""
   ]
  },
  {
   "cell_type": "code",
   "execution_count": 2,
   "metadata": {},
   "outputs": [
    {
     "data": {
      "text/plain": [
       "['test02_min10_restr_coef.csv',\n",
       " 'filt2_1.png',\n",
       " 'filt2_2.png',\n",
       " 'merged_drug_profiles_cells_sigmoid4_123.csv',\n",
       " 'drugs_with_pubchem_id.txt',\n",
       " 'train08_min10_restr_coef.csv',\n",
       " 'IC50_methods.png',\n",
       " 'filt_fit_1_bounds.png',\n",
       " 'test02_min10_restr.csv',\n",
       " 'drug_features_with_pubchem_properties.csv',\n",
       " 'drugs_with_no_pubchem_id.txt',\n",
       " 'filt_Fig1b.png',\n",
       " 'filt_Fig1a.png',\n",
       " 'filt_fit_0.png',\n",
       " 'drug_features_with_pubchem_properties_0.csv',\n",
       " 'test02_merged_fitted_sigmoid4_123_with_drugs_properties_min10',\n",
       " 'target_target_pathway_df.csv',\n",
       " 'filt_fit_0_bounds.png',\n",
       " 'fit_filtered_drug_profiles_123.csv',\n",
       " 'X_features_Targets.txt',\n",
       " 'outlier_coef3.png',\n",
       " '.ipynb_checkpoints',\n",
       " 'filt0.png',\n",
       " 'drug_ids_50.txt',\n",
       " 'outlier_coef1_1.png',\n",
       " 'best_model_coef_4.csv',\n",
       " 'filt3.png',\n",
       " 'train08_min10_restr.csv',\n",
       " 'filt_fit_2_bounds.png',\n",
       " 'train08_merged_fitted_sigmoid4_123_with_drugs_properties_min10.csv',\n",
       " 'outlier_coef1_2.png',\n",
       " 'best_model_coef_1.csv',\n",
       " 'filtered_drug_profiles_123.csv',\n",
       " 'X_PubChem_properties.txt',\n",
       " 'X_features_Target_Pathway.txt',\n",
       " 'best_model_coef_2.csv',\n",
       " 'merged_fitted_sigmoid4_123_with_drugs_properties.csv',\n",
       " 'X_features_cancer_cell_lines.txt',\n",
       " 'best_model_coef_3.csv']"
      ]
     },
     "execution_count": 2,
     "metadata": {},
     "output_type": "execute_result"
    }
   ],
   "source": [
    "os.listdir(_FOLDER_2)"
   ]
  },
  {
   "cell_type": "code",
   "execution_count": 3,
   "metadata": {},
   "outputs": [
    {
     "name": "stdout",
     "output_type": "stream",
     "text": [
      "Number of cancer cell lines features: 1073\n",
      "Number of PubChem drug properties: 26\n",
      "Number of possible targets: 229\n",
      "Number of possible target pathways: 23\n",
      "\n",
      " Maximum number of features: 1351\n"
     ]
    }
   ],
   "source": [
    "# potential features for ML:\n",
    "# - X_cancer_cell_lines - 1073\n",
    "# - X_PubChem_properties - 26\n",
    "# - X_targets - 229\n",
    "# - X_target_pathway\n",
    "\n",
    "with open(_FOLDER_2+\"X_features_cancer_cell_lines.txt\", 'r') as f:\n",
    "    X_cancer_cell_lines = [line.rstrip('\\n') for line in f]\n",
    "print(\"Number of cancer cell lines features:\", len(X_cancer_cell_lines))\n",
    "# *****************************************\n",
    "\n",
    "with open(_FOLDER_2+\"X_PubChem_properties.txt\", 'r') as f:\n",
    "    X_PubChem_properties = [line.rstrip('\\n') for line in f]\n",
    "print(\"Number of PubChem drug properties:\", len(X_PubChem_properties))\n",
    "# *****************************************\n",
    "\n",
    "with open(_FOLDER_2+\"X_features_Targets.txt\", 'r') as f:\n",
    "    X_targets = [line.rstrip('\\n') for line in f]\n",
    "print(\"Number of possible targets:\", len(X_targets))\n",
    "# *****************************************\n",
    "\n",
    "with open(_FOLDER_2+\"X_features_Target_Pathway.txt\", 'r') as f:\n",
    "    X_target_pathway = [line.rstrip('\\n') for line in f]\n",
    "print(\"Number of possible target pathways:\", len(X_target_pathway))\n",
    "# *****************************************\n",
    "\n",
    "print(\"\\n Maximum number of features:\",len(X_cancer_cell_lines)+ len(X_PubChem_properties)+len(X_targets) + len(X_target_pathway))"
   ]
  },
  {
   "cell_type": "markdown",
   "metadata": {},
   "source": [
    "### Columns for scaling"
   ]
  },
  {
   "cell_type": "code",
   "execution_count": 4,
   "metadata": {},
   "outputs": [],
   "source": [
    "df = pd.read_csv(_FOLDER_2+\"merged_fitted_sigmoid4_123_with_drugs_properties.csv\").drop(\"Unnamed: 0\", axis=1)"
   ]
  },
  {
   "cell_type": "code",
   "execution_count": 5,
   "metadata": {},
   "outputs": [
    {
     "data": {
      "text/plain": [
       "(15,\n",
       " 27,\n",
       " ['molecular_weight',\n",
       "  '2bonds',\n",
       "  'xlogp',\n",
       "  'surface_area',\n",
       "  'complexity',\n",
       "  'h_bond_donor_count',\n",
       "  'h_bond_acceptor_count',\n",
       "  'rotatable_bond_count',\n",
       "  'heavy_atom_count',\n",
       "  'atom_stereo_count',\n",
       "  'defined_atom_stereo_count',\n",
       "  'undefined_atom_stereo_count',\n",
       "  'bond_stereo_count',\n",
       "  'covalent_unit_count',\n",
       "  'MAX_CONC'])"
      ]
     },
     "execution_count": 5,
     "metadata": {},
     "output_type": "execute_result"
    }
   ],
   "source": [
    "columns_to_normalise = []\n",
    "all_columns = X_cancer_cell_lines + X_PubChem_properties + X_targets + X_target_pathway +[\"MAX_CONC\"]\n",
    "for col in all_columns:\n",
    "    if df[col].nunique()>2:\n",
    "        columns_to_normalise.append(col)\n",
    "\n",
    "len(columns_to_normalise), len(X_PubChem_properties +[\"MAX_CONC\"]), columns_to_normalise      "
   ]
  },
  {
   "cell_type": "code",
   "execution_count": 6,
   "metadata": {},
   "outputs": [],
   "source": [
    "with open(_FOLDER_2 + \"columns_to_normalise.txt\", 'w') as f:\n",
    "    for s in columns_to_normalise:\n",
    "        f.write(str(s) + '\\n')"
   ]
  },
  {
   "cell_type": "markdown",
   "metadata": {},
   "source": [
    "### Data Sparsity"
   ]
  },
  {
   "cell_type": "code",
   "execution_count": 7,
   "metadata": {},
   "outputs": [
    {
     "data": {
      "text/plain": [
       "(2612, 1384)"
      ]
     },
     "execution_count": 7,
     "metadata": {},
     "output_type": "execute_result"
    }
   ],
   "source": [
    "df.shape"
   ]
  },
  {
   "cell_type": "code",
   "execution_count": 8,
   "metadata": {},
   "outputs": [
    {
     "data": {
      "text/plain": [
       "(33,\n",
       " {'COSMIC_ID',\n",
       "  'DRUG_ID',\n",
       "  'Drug_Name',\n",
       "  'H',\n",
       "  'MAX_CONC',\n",
       "  'Target',\n",
       "  'Target_Pathway',\n",
       "  'elements',\n",
       "  'fd_num_0',\n",
       "  'fd_num_1',\n",
       "  'fd_num_2',\n",
       "  'fd_num_3',\n",
       "  'fd_num_4',\n",
       "  'fd_num_5',\n",
       "  'fd_num_6',\n",
       "  'fd_num_7',\n",
       "  'fd_num_8',\n",
       "  'fd_num_9',\n",
       "  'molecular_formula',\n",
       "  'norm_cells_0',\n",
       "  'norm_cells_1',\n",
       "  'norm_cells_2',\n",
       "  'norm_cells_3',\n",
       "  'norm_cells_4',\n",
       "  'norm_cells_5',\n",
       "  'norm_cells_6',\n",
       "  'norm_cells_7',\n",
       "  'norm_cells_8',\n",
       "  'norm_cells_9',\n",
       "  'param_1',\n",
       "  'param_2',\n",
       "  'param_3',\n",
       "  'param_4'})"
      ]
     },
     "execution_count": 8,
     "metadata": {},
     "output_type": "execute_result"
    }
   ],
   "source": [
    "difference = set(df.columns) - set(X_cancer_cell_lines + X_PubChem_properties + X_targets + X_target_pathway)\n",
    "len(difference), difference"
   ]
  },
  {
   "cell_type": "code",
   "execution_count": 9,
   "metadata": {},
   "outputs": [
    {
     "name": "stdout",
     "output_type": "stream",
     "text": [
      "Dataset 1 - only cancer cell lines features: (2612, 1073)\n",
      "\n",
      "Number of zero elements: 2,704,613.00\n",
      "Number of all elements: 2,802,676.00\n",
      "Sparsity of data in %: 96.501\n"
     ]
    }
   ],
   "source": [
    "# dataset1 -  only cancer cell lines features\n",
    "\n",
    "columns = X_cancer_cell_lines\n",
    "print(\"Dataset 1 - only cancer cell lines features:\", df[columns].shape)\n",
    "zero_elements = sum(sum(df[columns].values==0))\n",
    "print(\"\\nNumber of zero elements:\", '{:,.2f}'.format(zero_elements))\n",
    "all_elements = df[columns].shape[0] *df[columns].shape[1]\n",
    "print(\"Number of all elements:\", '{:,.2f}'.format(all_elements))\n",
    "print(\"Sparsity of data in %:\", round(100*zero_elements/all_elements, 3))"
   ]
  },
  {
   "cell_type": "code",
   "execution_count": 10,
   "metadata": {},
   "outputs": [
    {
     "name": "stdout",
     "output_type": "stream",
     "text": [
      "Dataset 2 - cancer cell lines features + drug description: (2612, 1326)\n",
      "\n",
      "Number of zero elements: 3,355,710.00\n",
      "Number of all elements: 3,463,512.00\n",
      "Sparsity of data in %: 96.887\n"
     ]
    }
   ],
   "source": [
    "# dataset2 -  cancer cell lines features + drug description\n",
    "\n",
    "columns = X_cancer_cell_lines + X_targets + X_target_pathway +[\"MAX_CONC\"]\n",
    "print(\"Dataset 2 - cancer cell lines features + drug description:\", df[columns].shape)\n",
    "zero_elements = sum(sum(df[columns].values==0))\n",
    "print(\"\\nNumber of zero elements:\", '{:,.2f}'.format(zero_elements))\n",
    "all_elements = df[columns].shape[0] *df[columns].shape[1]\n",
    "print(\"Number of all elements:\", '{:,.2f}'.format(all_elements))\n",
    "print(\"Sparsity of data in %:\", round(100*zero_elements/all_elements, 3))"
   ]
  },
  {
   "cell_type": "code",
   "execution_count": 11,
   "metadata": {},
   "outputs": [
    {
     "name": "stdout",
     "output_type": "stream",
     "text": [
      "Dataset 3 - cancer cell lines features + PubChem drug properties: (2612, 1100)\n",
      "\n",
      "Number of zero elements: 2,736,419.00\n",
      "Number of all elements: 2,873,200.00\n",
      "Sparsity of data in %: 95.239\n"
     ]
    }
   ],
   "source": [
    "# dataset3 -  cancer cell lines features + PubChem drug properties\n",
    "columns = X_cancer_cell_lines + X_PubChem_properties +[\"MAX_CONC\"]\n",
    "\n",
    "print(\"Dataset 3 - cancer cell lines features + PubChem drug properties:\", df[columns].shape)\n",
    "\n",
    "zero_elements = sum(sum(df[columns].values==0))\n",
    "print(\"\\nNumber of zero elements:\", '{:,.2f}'.format(zero_elements))\n",
    "all_elements = df[columns].shape[0] *df[columns].shape[1]\n",
    "print(\"Number of all elements:\", '{:,.2f}'.format(all_elements))\n",
    "print(\"Sparsity of data in %:\", round(100*zero_elements/all_elements, 3))"
   ]
  },
  {
   "cell_type": "code",
   "execution_count": 12,
   "metadata": {},
   "outputs": [
    {
     "name": "stdout",
     "output_type": "stream",
     "text": [
      "Dataset 3 - cancer cell lines features + PubChem drug properties: (2612, 1352)\n",
      "\n",
      "Number of zero elements: 3,387,516.00\n",
      "Number of all elements: 3,531,424.00\n",
      "Sparsity of data in %: 95.925\n"
     ]
    }
   ],
   "source": [
    "# dataset4 -  cancer cell lines features + drug description + PubChem drug properties\n",
    "columns = X_cancer_cell_lines + X_PubChem_properties + X_targets + X_target_pathway +[\"MAX_CONC\"]\n",
    "print(\"Dataset 3 - cancer cell lines features + PubChem drug properties:\", df[columns].shape)\n",
    "zero_elements = sum(sum(df[columns].values==0))\n",
    "print(\"\\nNumber of zero elements:\", '{:,.2f}'.format(zero_elements))\n",
    "all_elements = df[columns].shape[0] *df[columns].shape[1]\n",
    "print(\"Number of all elements:\", '{:,.2f}'.format(all_elements))\n",
    "print(\"Sparsity of data in %:\", round(100*zero_elements/all_elements, 3))"
   ]
  }
 ],
 "metadata": {
  "kernelspec": {
   "display_name": "myspark",
   "language": "python",
   "name": "myspark"
  },
  "language_info": {
   "codemirror_mode": {
    "name": "ipython",
    "version": 3
   },
   "file_extension": ".py",
   "mimetype": "text/x-python",
   "name": "python",
   "nbconvert_exporter": "python",
   "pygments_lexer": "ipython3",
   "version": "3.6.10"
  }
 },
 "nbformat": 4,
 "nbformat_minor": 4
}
