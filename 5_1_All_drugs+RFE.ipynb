{
 "cells": [
  {
   "cell_type": "markdown",
   "metadata": {},
   "source": [
    "## All drugs training and RFE"
   ]
  },
  {
   "cell_type": "markdown",
   "metadata": {},
   "source": [
    "The main task - repeat the procedure of evaluation of feature importance performed for drug-by-drug \n",
    "<br> but apply to all drug training"
   ]
  },
  {
   "cell_type": "code",
   "execution_count": 1,
   "metadata": {},
   "outputs": [],
   "source": [
    "import pandas as pd\n",
    "import numpy as np\n",
    "import os\n",
    "\n",
    "from sklearn.preprocessing import MinMaxScaler\n",
    "from sklearn.metrics import r2_score\n",
    "\n",
    "from sklearn.kernel_ridge import KernelRidge\n",
    "from sklearn.svm import SVR\n",
    "from sklearn.feature_selection import RFE\n",
    "from sklearn.metrics import mean_absolute_error\n",
    "\n",
    "\n",
    "import warnings\n",
    "warnings.filterwarnings(\"ignore\")\n",
    "\n",
    "_FOLDER = \"results/\""
   ]
  },
  {
   "cell_type": "code",
   "execution_count": 2,
   "metadata": {},
   "outputs": [],
   "source": [
    "def mean_relative_error(y_true, y_pred):\n",
    "    return sum(abs(y_pred-y_true)*100/y_true)/len(y_true)\n",
    "\n",
    "def TrainTest_SVR(dict_data_type, training_data_type, X_columns, coefficient, kernel, epsilon, C, coef0, feature_subset = False):\n",
    "    \n",
    "    with open(dict_data_type[training_data_type][\"drug_ids_list\"], 'r') as f:\n",
    "        drug_ids_50 = [np.int32(line.rstrip('\\n')) for line in f]\n",
    "    \n",
    "    train_df = pd.read_csv(dict_data_type[training_data_type][\"train_df\"]).drop([\"Unnamed: 0\",\"Unnamed: 0.1\"], axis=1)\n",
    "    test_df = pd.read_csv(dict_data_type[training_data_type][\"test_df\"]).drop([\"Unnamed: 0\",\"Unnamed: 0.1\"], axis=1)               \n",
    "\n",
    "    train = train_df.set_index(\"DRUG_ID\").loc[drug_ids_50, :].copy()\n",
    "    test = test_df.set_index(\"DRUG_ID\").loc[drug_ids_50, :].copy()\n",
    "    \n",
    "    y_train = train[\"param_\"+str(coefficient)].values\n",
    "    y_test =  test[\"param_\"+str(coefficient)].values\n",
    "    \n",
    "    scaler = MinMaxScaler().fit(train[X_columns])\n",
    "    X_train = scaler.transform(train[X_columns])\n",
    "    X_test = scaler.transform(test[X_columns])\n",
    "\n",
    "    model = SVR(kernel = kernel, epsilon = epsilon, C=C, coef0 = coef0)\n",
    "    model.fit(X_train, y_train)\n",
    "    test[\"pred_param_\"+str(coefficient)] = model.predict(X_test) \n",
    "    \n",
    "    #evaluate mae and mre for each drug profile\n",
    "    mae = np.zeros(len(drug_ids_50))\n",
    "    mre = np.zeros(len(drug_ids_50))\n",
    "    for i, drug_id in list(enumerate(drug_ids_50)):\n",
    "        y_test_drug = test.loc[drug_id, \"param_\"+str(coefficient)].values\n",
    "        y_pred = test.loc[drug_id, \"pred_param_\"+str(coefficient)]\n",
    "        mae[i] = mean_absolute_error(y_test_drug, y_pred)\n",
    "        mre[i] = mean_relative_error(y_test_drug, y_pred)\n",
    "    \n",
    "    if feature_subset:\n",
    "        print(\"\\nCoefficient %d, Training on the %s and top50 feature subset\\n\"% (coefficient, training_data_type))\n",
    "    else:\n",
    "        print(\"\\nCoefficient %d, Training on the %s\\n\"% (coefficient, training_data_type))\n",
    "    print(\"MAE: %0.3f +/- %0.3f\" % (mae.mean(), mae.std()))\n",
    "    print(\"MRE: %0.1f +/- %0.1f\" % (mre.mean(), mre.std()))\n",
    "\n",
    "def PrepareData(dict_data_type, training_data_type, X_columns, coefficient):\n",
    "    with open(dict_data_type[training_data_type][\"drug_ids_list\"], 'r') as f:\n",
    "        drug_ids_50 = [np.int32(line.rstrip('\\n')) for line in f]\n",
    "    \n",
    "    train_df = pd.read_csv(dict_data_type[training_data_type][\"train_df\"]).drop([\"Unnamed: 0\",\"Unnamed: 0.1\"], axis=1)\n",
    "    test_df = pd.read_csv(dict_data_type[training_data_type][\"test_df\"]).drop([\"Unnamed: 0\",\"Unnamed: 0.1\"], axis=1)               \n",
    "\n",
    "    train = train_df.set_index(\"DRUG_ID\").loc[drug_ids_50, :].copy()\n",
    "    test = test_df.set_index(\"DRUG_ID\").loc[drug_ids_50, :].copy()\n",
    "    \n",
    "    y_train = train[\"param_\"+str(coefficient)].values\n",
    "    y_test =  test[\"param_\"+str(coefficient)].values\n",
    "    \n",
    "    scaler = MinMaxScaler().fit(train[X_columns])\n",
    "    X_train = scaler.transform(train[X_columns])\n",
    "    X_test = scaler.transform(test[X_columns])\n",
    "    return X_train, X_test, y_train, y_test\n",
    "\n",
    "def RFE_most_important(dict_data_type, training_data_type, X_columns, coefficient, C, epsilon):\n",
    "    \n",
    "    X_train, X_test, y_train, y_test = PrepareData(dict_data_type= dict_data_type, training_data_type = training_data_type, \n",
    "                                               X_columns =X_columns, coefficient=coefficient)\n",
    "    most_important_features = []\n",
    "\n",
    "    estimator = SVR(kernel = \"linear\", C = C, epsilon = epsilon)\n",
    "\n",
    "    # feature selector\n",
    "    selector = RFE(estimator, n_features_to_select=50, step=10)\n",
    "    selector = selector.fit(X_train, y_train)\n",
    "    most_important_features = np.array(X_columns)[selector.support_]\n",
    "    \n",
    "    #models parameters\n",
    "    estimator.fit(X_train, y_train)\n",
    "    print(\"Number of zero features:\", len(estimator.coef_[estimator.coef_==0]))\n",
    "    print(\"Maximal importance:\", round(abs(estimator.coef_[0]).max(), 3))\n",
    "    print(\"Number of features with importance more_0_01 :\", sum(abs(estimator.coef_[0])>0.01))\n",
    "\n",
    "    from_CCLE = set(most_important_features) & set(X_cancer_cell_lines)\n",
    "    print(\"from CCL:\", len(set(most_important_features) & set(X_cancer_cell_lines)))\n",
    "    print(\"from PubChem_properties\",len( set(most_important_features) & set(X_PubChem_properties)))\n",
    "    print(\"from targets:\", len(set(most_important_features) & set(X_targets)))\n",
    "    print(\"from target pathway:\", len(set(most_important_features) & set(X_target_pathway)))\n",
    "    return most_important_features"
   ]
  },
  {
   "cell_type": "markdown",
   "metadata": {},
   "source": [
    "### Reading the default parameters"
   ]
  },
  {
   "cell_type": "code",
   "execution_count": 3,
   "metadata": {},
   "outputs": [],
   "source": [
    "with open(_FOLDER+\"X_features_cancer_cell_lines.txt\", 'r') as f:\n",
    "    X_cancer_cell_lines = [line.rstrip('\\n') for line in f]\n",
    "# *****************************************\n",
    "\n",
    "with open(_FOLDER+\"X_PubChem_properties.txt\", 'r') as f:\n",
    "    X_PubChem_properties = [line.rstrip('\\n') for line in f]\n",
    "# *****************************************\n",
    "\n",
    "with open(_FOLDER+\"X_features_Targets.txt\", 'r') as f:\n",
    "    X_targets = [line.rstrip('\\n') for line in f]\n",
    "# *****************************************\n",
    "\n",
    "with open(_FOLDER+\"X_features_Target_Pathway.txt\", 'r') as f:\n",
    "    X_target_pathway = [line.rstrip('\\n') for line in f]\n",
    "# *****************************************\n",
    "\n",
    "all_columns = X_cancer_cell_lines + X_PubChem_properties + X_targets + X_target_pathway +[\"MAX_CONC\"]\n",
    "\n",
    "datasets = [\"Dataset 1\", \"Dataset 2\", \"Dataset 3\", \"Dataset 4\"]\n",
    "\n",
    "X_feat_dict = {\"Dataset 1\": X_cancer_cell_lines ,\n",
    "               \"Dataset 2\": [\"MAX_CONC\"] + X_targets + X_target_pathway + X_cancer_cell_lines ,\n",
    "               \"Dataset 3\": [\"MAX_CONC\"] + X_PubChem_properties +  X_cancer_cell_lines,\n",
    "               \"Dataset 4\": [\"MAX_CONC\"] + X_PubChem_properties +  X_targets + X_target_pathway + X_cancer_cell_lines}\n",
    "\n",
    "dict_data_type = {\n",
    "    \"original_data\": {\n",
    "        \"drug_ids_list\": _FOLDER + \"drug_ids_50.txt\", \n",
    "        \"train_df\" : _FOLDER + \"train08_merged_fitted_sigmoid4_123_with_drugs_properties_min10.csv\",\n",
    "        \"test_df\" : _FOLDER + \"test02_merged_fitted_sigmoid4_123_with_drugs_properties_min10.csv\"},\n",
    "    \n",
    "    \"reduced_by_R2_data\": {\n",
    "        \"drug_ids_list\": _FOLDER +\"drug_ids_50_restr.txt\", \n",
    "        \"train_df\" : _FOLDER + \"train08_min10_restr.csv\",\n",
    "        \"test_df\" : _FOLDER + \"test02_min10_restr.csv\"}\n",
    "}"
   ]
  },
  {
   "cell_type": "markdown",
   "metadata": {},
   "source": [
    "## Coefficient 1"
   ]
  },
  {
   "cell_type": "markdown",
   "metadata": {},
   "source": [
    "## RFE on the original data"
   ]
  },
  {
   "cell_type": "markdown",
   "metadata": {},
   "source": [
    "need to apply Linear SVR to get model weights and feature importance atteibutes "
   ]
  },
  {
   "cell_type": "raw",
   "metadata": {},
   "source": [
    "Coefficient_1 ....\n",
    "Linear SVR\n",
    "Dataset: 1 best C: 0.01\n",
    "Dataset: 1 best_epsilon 0.1"
   ]
  },
  {
   "cell_type": "code",
   "execution_count": 4,
   "metadata": {},
   "outputs": [
    {
     "name": "stdout",
     "output_type": "stream",
     "text": [
      "Number of zero features: 334\n",
      "Maximal importance: 0.045\n",
      "Number of features with importance more_0_01 : 211\n",
      "from CCL: 34\n",
      "from PubChem_properties 5\n",
      "from targets: 8\n",
      "from target pathway: 3\n"
     ]
    }
   ],
   "source": [
    "kernel =\"linear\"\n",
    "C= 0.01\n",
    "epsilon = 0.1\n",
    "\n",
    "most_important = RFE_most_important(training_data_type = \"original_data\", coefficient=1, \n",
    "                                    dict_data_type= dict_data_type, C=C, epsilon=epsilon,\n",
    "                                    X_columns =X_feat_dict[\"Dataset 4\"])"
   ]
  },
  {
   "cell_type": "code",
   "execution_count": 5,
   "metadata": {},
   "outputs": [
    {
     "data": {
      "text/plain": [
       "array(['3bonds', 'complexity', 'h_bond_acceptor_count',\n",
       "       'bond_stereo_count', 'F', 'HDAC1', 'HSP90', 'CDK7', 'HDAC1-10',\n",
       "       'PPARdelta', 'PPARgamma', 'ERBB2', 'EGFR',\n",
       "       'Protein stability and degradation',\n",
       "       'Chromatin histone acetylation', 'WNT signaling', 'EWSR1-FLI1_mut',\n",
       "       'MLL2_mut', 'MLL3_mut', 'PGR_mut', 'PIK3CB_mut', 'XRN1_mut',\n",
       "       'loss:cnaPANCAN6', 'loss:cnaPANCAN20', 'gain:cnaPANCAN61',\n",
       "       'loss:cnaPANCAN112 (CREBBP)', 'loss:cnaPANCAN113',\n",
       "       'loss:cnaPANCAN115', 'gain:cnaPANCAN139',\n",
       "       'gain:cnaPANCAN141 (GNAQ,NTRK2,PCSK5,TJP2)', 'loss:cnaPANCAN203',\n",
       "       'gain:cnaPANCAN214', 'gain:cnaPANCAN239 (FOXP1,MITF)',\n",
       "       'loss:cnaPANCAN263', 'loss:cnaPANCAN265', 'loss:cnaPANCAN294',\n",
       "       'loss:cnaPANCAN310 (MAP2K4)', 'gain:cnaPANCAN367 (ARFGAP1,GNAS)',\n",
       "       'gain:cnaPANCAN383', 'gain:cnaPANCAN384 (ERCC5,ING1,IRS2,TFDP1)',\n",
       "       'loss:cnaPANCAN386', 'chr1:150266476-150266689(MRPS21)_HypMET',\n",
       "       'chr1:181451311-181452049()_HypMET',\n",
       "       'chr11:22850765-22851367(SVIP)_HypMET',\n",
       "       'chr12:3862068-3862606(EFCAB4B)_HypMET',\n",
       "       'chr17:46673532-46674181(LOC404266)_HypMET',\n",
       "       'chr19:44763978-44764312(ZNF233)_HypMET',\n",
       "       'chr19:51069359-51069600(LRRC4B)_HypMET',\n",
       "       'chr6:26250436-26250827(HIST1H2BH, HIST1H3F)_HypMET',\n",
       "       'chr8:79428433-79428754(PKIA)_HypMET'], dtype='<U148')"
      ]
     },
     "execution_count": 5,
     "metadata": {},
     "output_type": "execute_result"
    }
   ],
   "source": [
    "most_important"
   ]
  },
  {
   "cell_type": "markdown",
   "metadata": {},
   "source": [
    "## Training on the orginal and reduced data: Coef 1"
   ]
  },
  {
   "cell_type": "code",
   "execution_count": 6,
   "metadata": {},
   "outputs": [
    {
     "name": "stdout",
     "output_type": "stream",
     "text": [
      "\n",
      "Coefficient 1, Training on the original_data\n",
      "\n",
      "MAE: 0.239 +/- 0.464\n",
      "MRE: 21.6 +/- 8.1\n",
      "\n",
      "Coefficient 1, Training on the reduced_by_R2_data\n",
      "\n",
      "MAE: 0.087 +/- 0.018\n",
      "MRE: 19.7 +/- 3.9\n",
      "\n",
      "Coefficient 1, Training on the reduced_by_R2_data and top50 feature subset\n",
      "\n",
      "MAE: 0.080 +/- 0.021\n",
      "MRE: 17.8 +/- 4.1\n",
      "\n",
      "Coefficient 1, Training on the original_data and top50 feature subset\n",
      "\n",
      "MAE: 0.243 +/- 0.467\n",
      "MRE: 22.5 +/- 7.7\n"
     ]
    }
   ],
   "source": [
    "#RBF SVR\n",
    "i=1\n",
    "kernel =\"rbf\"\n",
    "C= 0.5\n",
    "epsilon = 0.01\n",
    "coef0 = 0.01\n",
    "\n",
    "X_columns = X_feat_dict[\"Dataset 4\"]\n",
    "## Training on the original data \n",
    "\n",
    "TrainTest_SVR(training_data_type = \"original_data\", coefficient = 1, \n",
    "              dict_data_type = dict_data_type, X_columns=X_columns, \n",
    "              kernel= kernel, epsilon = epsilon, C= C, coef0= coef0)\n",
    "\n",
    "## Training on the Reduced by R2 data\n",
    "\n",
    "TrainTest_SVR(training_data_type = \"reduced_by_R2_data\", coefficient = 1, \n",
    "              dict_data_type = dict_data_type, X_columns=X_columns, \n",
    "              kernel= kernel, epsilon = epsilon, C= C, coef0= coef0)\n",
    "\n",
    "\n",
    "## Training on the reduced data and top50 features subset\n",
    "\n",
    "TrainTest_SVR(training_data_type = \"reduced_by_R2_data\", coefficient = 1, feature_subset=True,\n",
    "              dict_data_type = dict_data_type, X_columns=most_important, \n",
    "              kernel= kernel, epsilon = epsilon, C= C, coef0= coef0)\n",
    "\n",
    "\n",
    "## Training on the original data and top50 features subset\n",
    "\n",
    "TrainTest_SVR(training_data_type = \"original_data\", coefficient = 1, feature_subset=True,\n",
    "              dict_data_type = dict_data_type, X_columns=most_important, \n",
    "              kernel= kernel, epsilon = epsilon, C= C, coef0= coef0)"
   ]
  },
  {
   "cell_type": "markdown",
   "metadata": {},
   "source": [
    "## Coefficient 2"
   ]
  },
  {
   "cell_type": "markdown",
   "metadata": {},
   "source": [
    "## RFE on the original data"
   ]
  },
  {
   "cell_type": "raw",
   "metadata": {},
   "source": [
    "Coefficient_2 ....\n",
    "Linear SVR\n",
    "Dataset: 1 best C: 0.01\n",
    "Dataset: 1 best_epsilon 0.001"
   ]
  },
  {
   "cell_type": "code",
   "execution_count": 7,
   "metadata": {},
   "outputs": [
    {
     "name": "stdout",
     "output_type": "stream",
     "text": [
      "Number of zero features: 283\n",
      "Maximal importance: 0.053\n",
      "Number of features with importance more_0_01 : 400\n",
      "from CCL: 38\n",
      "from PubChem_properties 3\n",
      "from targets: 6\n",
      "from target pathway: 3\n"
     ]
    }
   ],
   "source": [
    "kernel =\"linear\"\n",
    "C= 0.01\n",
    "epsilon = 0.001\n",
    "\n",
    "most_important = RFE_most_important(training_data_type = \"original_data\", coefficient = 2, \n",
    "                                    dict_data_type= dict_data_type, C=C, epsilon=epsilon,\n",
    "                                    X_columns =X_feat_dict[\"Dataset 4\"])"
   ]
  },
  {
   "cell_type": "markdown",
   "metadata": {},
   "source": [
    "## Training on the original and reduced data: Coef 2"
   ]
  },
  {
   "cell_type": "code",
   "execution_count": 8,
   "metadata": {},
   "outputs": [
    {
     "name": "stdout",
     "output_type": "stream",
     "text": [
      "\n",
      "Coefficient 2, Training on the original_data\n",
      "\n",
      "MAE: 0.272 +/- 0.525\n",
      "MRE: 7.6 +/- 7.6\n",
      "\n",
      "Coefficient 2, Training on the reduced_by_R2_data\n",
      "\n",
      "MAE: 0.125 +/- 0.079\n",
      "MRE: 10.2 +/- 4.7\n",
      "\n",
      "Coefficient 2, Training on the reduced_by_R2_data and top50 feature subset\n",
      "\n",
      "MAE: 0.115 +/- 0.070\n",
      "MRE: 9.5 +/- 4.4\n",
      "\n",
      "Coefficient 2, Training on the original_data and top50 feature subset\n",
      "\n",
      "MAE: 0.271 +/- 0.524\n",
      "MRE: 7.8 +/- 8.1\n"
     ]
    }
   ],
   "source": [
    "#RBF SVR\n",
    "i=2\n",
    "kernel =\"rbf\"\n",
    "C= 0.1\n",
    "epsilon = 0.01\n",
    "coef0 = 0.01\n",
    "\n",
    "X_columns = X_feat_dict[\"Dataset 4\"]\n",
    "## Training on the original data \n",
    "\n",
    "TrainTest_SVR(training_data_type = \"original_data\", coefficient = 2, \n",
    "              dict_data_type = dict_data_type, X_columns=X_columns, \n",
    "              kernel= kernel, epsilon = epsilon, C= C, coef0= coef0)\n",
    "\n",
    "## Training on the Reduced by R2 data\n",
    "\n",
    "TrainTest_SVR(training_data_type = \"reduced_by_R2_data\", coefficient = 2, \n",
    "              dict_data_type = dict_data_type, X_columns=X_columns, \n",
    "              kernel= kernel, epsilon = epsilon, C= C, coef0= coef0)\n",
    "\n",
    "## Training on the reduced data and top50 features subset\n",
    "\n",
    "TrainTest_SVR(training_data_type = \"reduced_by_R2_data\", coefficient = 2, feature_subset=True,\n",
    "              dict_data_type = dict_data_type, X_columns=most_important, \n",
    "              kernel= kernel, epsilon = epsilon, C= C, coef0= coef0)\n",
    "\n",
    "\n",
    "## Training on the original data and top50 features subset\n",
    "\n",
    "TrainTest_SVR(training_data_type = \"original_data\", coefficient = 2, feature_subset=True,\n",
    "              dict_data_type = dict_data_type, X_columns=most_important, \n",
    "              kernel= kernel, epsilon = epsilon, C= C, coef0= coef0)"
   ]
  },
  {
   "cell_type": "markdown",
   "metadata": {},
   "source": [
    "## Coefficient 3"
   ]
  },
  {
   "cell_type": "markdown",
   "metadata": {},
   "source": [
    "## RFE on the original data"
   ]
  },
  {
   "cell_type": "raw",
   "metadata": {},
   "source": [
    "Coefficient_3 ....\n",
    "Linear SVR\n",
    "Dataset:4, best C: 0.1\n",
    "Dataset:4, best_epsilon 1"
   ]
  },
  {
   "cell_type": "code",
   "execution_count": 9,
   "metadata": {},
   "outputs": [
    {
     "name": "stdout",
     "output_type": "stream",
     "text": [
      "Number of zero features: 302\n",
      "Maximal importance: 2.608\n",
      "Number of features with importance more_0_01 : 983\n",
      "from CCL: 29\n",
      "from PubChem_properties 8\n",
      "from targets: 9\n",
      "from target pathway: 4\n"
     ]
    }
   ],
   "source": [
    "kernel =\"linear\"\n",
    "C= 0.1\n",
    "epsilon = 1\n",
    "\n",
    "most_important = RFE_most_important(training_data_type = \"original_data\", coefficient = 3, \n",
    "                                    dict_data_type= dict_data_type, C=C, epsilon=epsilon,\n",
    "                                    X_columns =X_feat_dict[\"Dataset 4\"])"
   ]
  },
  {
   "cell_type": "markdown",
   "metadata": {},
   "source": [
    "## Training on the original and reduced data: Coef 3"
   ]
  },
  {
   "cell_type": "code",
   "execution_count": 10,
   "metadata": {},
   "outputs": [
    {
     "name": "stdout",
     "output_type": "stream",
     "text": [
      "\n",
      "Coefficient 3, Training on the original_data\n",
      "\n",
      "MAE: 9.813 +/- 8.526\n",
      "MRE: -42.2 +/- 19.1\n",
      "\n",
      "Coefficient 3, Training on the reduced_by_R2_data\n",
      "\n",
      "MAE: 11.271 +/- 7.949\n",
      "MRE: -44.5 +/- 15.4\n",
      "\n",
      "Coefficient 3, Training on the reduced_by_R2_data and top50 feature subset\n",
      "\n",
      "MAE: 11.082 +/- 8.037\n",
      "MRE: -41.8 +/- 13.6\n",
      "\n",
      "Coefficient 3, Training on the original_data and top50 feature subset\n",
      "\n",
      "MAE: 9.791 +/- 8.433\n",
      "MRE: -42.2 +/- 18.4\n"
     ]
    }
   ],
   "source": [
    "#Linear SVR\n",
    "i=3\n",
    "kernel =\"linear\"\n",
    "C = 0.1\n",
    "\n",
    "X_columns = X_feat_dict[\"Dataset 4\"]\n",
    "## Training on the original data \n",
    "\n",
    "TrainTest_SVR(training_data_type = \"original_data\", coefficient = 3, \n",
    "              dict_data_type = dict_data_type, X_columns=X_columns, \n",
    "              kernel= kernel, epsilon = epsilon, C= C, coef0= coef0)\n",
    "\n",
    "## Training on the Reduced by R2 data\n",
    "\n",
    "TrainTest_SVR(training_data_type = \"reduced_by_R2_data\", coefficient = 3, \n",
    "              dict_data_type = dict_data_type, X_columns=X_columns, \n",
    "              kernel= kernel, epsilon = epsilon, C= C, coef0= coef0)\n",
    "\n",
    "## Training on the reduced data and top50 features subset\n",
    "\n",
    "TrainTest_SVR(training_data_type = \"reduced_by_R2_data\", coefficient = 3, feature_subset=True,\n",
    "              dict_data_type = dict_data_type, X_columns=most_important, \n",
    "              kernel= kernel, epsilon = epsilon, C= C, coef0= coef0)\n",
    "\n",
    "## Training on the original data and top50 features subset\n",
    "\n",
    "TrainTest_SVR(training_data_type = \"original_data\", coefficient = 3, feature_subset=True,\n",
    "              dict_data_type = dict_data_type, X_columns=most_important, \n",
    "              kernel= kernel, epsilon = epsilon, C= C, coef0= coef0)"
   ]
  },
  {
   "cell_type": "markdown",
   "metadata": {},
   "source": [
    "## Coefficient 4"
   ]
  },
  {
   "cell_type": "markdown",
   "metadata": {},
   "source": [
    "## RFE on the original data"
   ]
  },
  {
   "cell_type": "raw",
   "metadata": {},
   "source": [
    "Coefficient_4 ....\n",
    "Linear SVR\n",
    "Dataset: 1 best C: 0.01\n",
    "Dataset: 1 best_epsilon 0.01"
   ]
  },
  {
   "cell_type": "code",
   "execution_count": 11,
   "metadata": {},
   "outputs": [
    {
     "name": "stdout",
     "output_type": "stream",
     "text": [
      "Number of zero features: 284\n",
      "Maximal importance: 0.034\n",
      "Number of features with importance more_0_01 : 325\n",
      "from CCL: 38\n",
      "from PubChem_properties 3\n",
      "from targets: 8\n",
      "from target pathway: 1\n"
     ]
    }
   ],
   "source": [
    "kernel =\"linear\"\n",
    "C= 0.01\n",
    "epsilon = 0.01\n",
    "\n",
    "most_important = RFE_most_important(training_data_type = \"original_data\", coefficient = 4, \n",
    "                                    dict_data_type= dict_data_type, C=C, epsilon=epsilon,\n",
    "                                    X_columns =X_feat_dict[\"Dataset 4\"])"
   ]
  },
  {
   "cell_type": "markdown",
   "metadata": {},
   "source": [
    "## Data Reduction: Coef 4"
   ]
  },
  {
   "cell_type": "code",
   "execution_count": 12,
   "metadata": {},
   "outputs": [
    {
     "name": "stdout",
     "output_type": "stream",
     "text": [
      "\n",
      "Coefficient 4, Training on the original_data\n",
      "\n",
      "MAE: 0.078 +/- 0.045\n",
      "MRE: -31.5 +/- 286.9\n",
      "\n",
      "Coefficient 4, Training on the reduced_by_R2_data\n",
      "\n",
      "MAE: 0.080 +/- 0.048\n",
      "MRE: 259.9 +/- 732.6\n",
      "\n",
      "Coefficient 4, Training on the reduced_by_R2_data and top50 feature subset\n",
      "\n",
      "MAE: 0.071 +/- 0.043\n",
      "MRE: 114.5 +/- 260.6\n",
      "\n",
      "Coefficient 4, Training on the original_data and top50 feature subset\n",
      "\n",
      "MAE: 0.075 +/- 0.041\n",
      "MRE: -131.4 +/- 575.6\n"
     ]
    }
   ],
   "source": [
    "#RBF SVR\n",
    "i=4\n",
    "kernel =\"rbf\"\n",
    "C= 0.1\n",
    "epsilon = 0.001\n",
    "coef0 = 0.01\n",
    "\n",
    "X_columns = X_feat_dict[\"Dataset 4\"]\n",
    "## Training on the original data \n",
    "\n",
    "TrainTest_SVR(training_data_type = \"original_data\", coefficient = 4, \n",
    "              dict_data_type = dict_data_type, X_columns=X_columns, \n",
    "              kernel= kernel, epsilon = epsilon, C= C, coef0= coef0)\n",
    "\n",
    "## Training on the Reduced by R2 data\n",
    "\n",
    "TrainTest_SVR(training_data_type = \"reduced_by_R2_data\", coefficient = 4, \n",
    "              dict_data_type = dict_data_type, X_columns=X_columns, \n",
    "              kernel= kernel, epsilon = epsilon, C= C, coef0= coef0)\n",
    "\n",
    "## Training on the reduced data and top50 features subset\n",
    "\n",
    "TrainTest_SVR(training_data_type = \"reduced_by_R2_data\", coefficient = 4, feature_subset=True,\n",
    "              dict_data_type = dict_data_type, X_columns=most_important, \n",
    "              kernel= kernel, epsilon = epsilon, C= C, coef0= coef0)\n",
    "\n",
    "\n",
    "## Training on the original data and top50 features subset\n",
    "\n",
    "TrainTest_SVR(training_data_type = \"original_data\", coefficient = 4, feature_subset=True,\n",
    "              dict_data_type = dict_data_type, X_columns=most_important, \n",
    "              kernel= kernel, epsilon = epsilon, C= C, coef0= coef0)"
   ]
  },
  {
   "cell_type": "code",
   "execution_count": null,
   "metadata": {},
   "outputs": [],
   "source": []
  }
 ],
 "metadata": {
  "kernelspec": {
   "display_name": "myspark",
   "language": "python",
   "name": "myspark"
  },
  "language_info": {
   "codemirror_mode": {
    "name": "ipython",
    "version": 3
   },
   "file_extension": ".py",
   "mimetype": "text/x-python",
   "name": "python",
   "nbconvert_exporter": "python",
   "pygments_lexer": "ipython3",
   "version": "3.6.10"
  }
 },
 "nbformat": 4,
 "nbformat_minor": 4
}
