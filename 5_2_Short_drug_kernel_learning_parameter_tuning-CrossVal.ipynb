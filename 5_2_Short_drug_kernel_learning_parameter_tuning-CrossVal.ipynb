{
 "cells": [
  {
   "cell_type": "code",
   "execution_count": 1,
   "metadata": {
    "collapsed": true
   },
   "outputs": [],
   "source": [
    "import pandas as pd\n",
    "import numpy as np\n",
    "import seaborn as sns\n",
    "import matplotlib.pyplot as plt\n",
    "%matplotlib inline\n",
    "from sklearn.metrics import r2_score\n",
    "from scipy.optimize import curve_fit\n",
    "from scipy.optimize import leastsq\n",
    "import scipy.optimize as opt\n",
    "from tqdm import tqdm\n",
    "import warnings\n",
    "warnings.filterwarnings(\"ignore\")\n",
    "\n",
    "from sklearn.kernel_ridge import KernelRidge\n",
    "from sklearn.model_selection import train_test_split\n",
    "from sklearn.metrics import mean_squared_error\n",
    "from sklearn.metrics import mean_absolute_error\n",
    "import gc\n",
    "\n",
    "from sklearn.model_selection import LeaveOneOut\n",
    "from IPython.display import display\n",
    "\n",
    "import os\n",
    "from data_preprocessing import FilteringCurves, ShowResponseCurves\n",
    "from fitting_curves import FittingColumn, ShowResponseCurvesWithFitting, compute_r2_score\n",
    "_FOLDER = \"./data/\""
   ]
  },
  {
   "cell_type": "code",
   "execution_count": 2,
   "metadata": {
    "collapsed": true
   },
   "outputs": [],
   "source": [
    "def FittedData(df, x_columns, y_columns, fitting_function, parameters_guess=[], default_param = True):\n",
    "    \n",
    "    r2, fit_param = FittingColumn(df, df.index, x_columns, y_columns, fitting_function, default_param = True)\n",
    "    df[\"fitting_r2\"] = r2\n",
    "    df[\"fitting_param\"] = fit_param\n",
    "    df= df[df[\"fitting_r2\"]!=0]\n",
    "    return df\n",
    "\n",
    "def TransposeCellFeatures(df, indexes_first_column = True):\n",
    "    # columns in cell_features correspond to drug_curves[\"COSMIC_ID\"] == cell line id\n",
    "    if indexes_first_column:\n",
    "        df_transfromed = pd.DataFrame(data= df[df.columns[1:]].values.T,\n",
    "                          index= df.columns[1:], columns= df[df.columns[0]].values)\n",
    "    else:\n",
    "        print(\"The logic of this function is not applicable\")\n",
    "        \n",
    "    return df_transfromed \n",
    "\n",
    "def PrepareDrugMerge(df):\n",
    "    \"\"\"Column fitting_param is splitted into separate columns \"\"\"\n",
    "    conc_columns= [\"fd_num_\"+str(i) for i in range(10)]\n",
    "    response_norm = ['norm_cells_'+str(i) for i in range(10)]\n",
    "    param_cols = [\"DRUG_ID\"] + conc_columns + response_norm\n",
    "    for i in range(len(df['fitting_param'].values[0])):\n",
    "        param_col = \"param_\"+str(i+1)\n",
    "        param_cols.append(param_col)\n",
    "        df[param_col] = df['fitting_param'].apply(lambda x: x[i])\n",
    "    param_cols.insert(0, \"COSMIC_ID\")\n",
    "    return df[param_cols]\n",
    "    \n",
    "\n",
    "def MergeDrugCells(df_drugs, df_cells):\n",
    "    cell_features_T = TransposeCellFeatures(df_cells)\n",
    "    cell_features_T.index = np.array(cell_features_T.index, dtype = \"int\")\n",
    "    \n",
    "    # Not all the drugs from filtered dataset are present in cell lines features\n",
    "    common_cells_drug = list(set(np.array(df_cells.columns[1:], dtype=\"int\"))& set(df_drugs[\"COSMIC_ID\"].values))\n",
    "    \n",
    "    # print(\"Number of drugs in filtered dataset:\", df_328[\"COSMIC_ID\"].nunique())\n",
    "    # print(\"Number of common drugs in both datasets\", len(common_cells_drug328))\n",
    "\n",
    "    cell_lines = cell_features_T.loc[common_cells_drug, :].reset_index()\n",
    "    cell_lines.rename(columns = {\"index\": \"COSMIC_ID\"}, inplace=True)\n",
    "    \n",
    "    df_drug_param = PrepareDrugMerge(df_drugs)\n",
    "    \n",
    "    return pd.merge(left=df_drug_param, right = cell_lines, on = \"COSMIC_ID\") "
   ]
  },
  {
   "cell_type": "code",
   "execution_count": 3,
   "metadata": {
    "collapsed": true
   },
   "outputs": [],
   "source": [
    "def LeaveOneOutError(kernel_model, X, y, metrics = \"mse\"):\n",
    "    errors = []\n",
    "    splitter_loo = LeaveOneOut()\n",
    "#     print(splitter_loo.get_n_splits(X))\n",
    "    \n",
    "    for train_index, test_index in splitter_loo.split(X):\n",
    "        X_train_loo, X_test_loo = X[train_index, :], X[test_index,:]\n",
    "        y_train_loo, y_test_loo = y[train_index], y[test_index]\n",
    "        \n",
    "        model = kernel_model.fit(X_train_loo, y_train_loo)\n",
    "        if metrics == \"mse\":\n",
    "            mse = mean_squared_error(y_test_loo, model.predict(X_test_loo))\n",
    "            errors.append(mse)\n",
    "        elif metrics == \"mae\":\n",
    "            mae = mean_absolute_error(y_test_loo, model.predict(X_test_loo))\n",
    "            errors.append(mae)\n",
    "    \n",
    "    return (sum(errors)/ len(errors)) \n",
    "\n",
    "# gamma for RBF, laplacian, polynomial, exponential chi2 and sigmoid kernels\n",
    "\n",
    "def RunCrossValidation(drug_ids, number_coefficients, kernel='linear', param_tested = \"alpha\", \n",
    "                       param_tested_values = [], alpha=1, gamma=None, degree=3, coef0=1,\n",
    "                      display_results=True):\n",
    "    \n",
    "    df_errors = pd.DataFrame()\n",
    "    #check whether each coefficient needs its own parameters\n",
    "    \n",
    "\n",
    "    for drug_id in drug_ids:\n",
    "        merged_df_i = merged_df[merged_df[\"DRUG_ID\"]==drug_id]\n",
    "        # merged_df_i has lower shape\n",
    "        np.random.seed(123)\n",
    "        indexes = np.random.permutation(merged_df_i.index)\n",
    "        train_size = int(merged_df_i.shape[0]*0.8)\n",
    "        indexes_train = indexes[:train_size]\n",
    "        X_train = merged_df_i.loc[indexes_train, merged_df_i.columns[26:-4]].values\n",
    "    \n",
    "        for i in range(number_coefficients):\n",
    "            #check whether each coefficient needs its own parameters\n",
    "            if type(alpha)==dict:\n",
    "                alpha_value = alpha[i+1]\n",
    "            else:\n",
    "                alpha_value = alpha\n",
    "                \n",
    "            if type(gamma)==dict:\n",
    "                gamma_value = gamma[i+1]\n",
    "            else:\n",
    "                gamma_value = gamma\n",
    "            \n",
    "            if type(degree)==dict:\n",
    "                degree_value = degree[i+1]\n",
    "            else:\n",
    "                degree_value = degree\n",
    "                \n",
    "            if type(coef0)==dict:\n",
    "                coef0_value = coef0[i+1]\n",
    "            else:\n",
    "                coef0_value = coef0\n",
    "            \n",
    "            y_train = merged_df_i.loc[indexes_train, \"param_\"+str(i+1)].values\n",
    "            for param in param_tested_values:\n",
    "    \n",
    "                #check whether each coefficient needs its own parameters\n",
    "                if param_tested == \"alpha\":\n",
    "                    kernel_model = KernelRidge(kernel=kernel, \n",
    "                                               alpha=param, \n",
    "                                               gamma=gamma_value, \n",
    "                                               degree=degree_value, \n",
    "                                               coef0=coef0_value)\n",
    "                elif param_tested == \"gamma\":\n",
    "                    kernel_model = KernelRidge(kernel=kernel, \n",
    "                                               alpha=alpha_value, \n",
    "                                               gamma=param, \n",
    "                                               degree=degree_value,\n",
    "                                               coef0=coef0_value)\n",
    "                elif param_tested == \"degree\":\n",
    "                    kernel_model = KernelRidge(kernel=kernel, \n",
    "                                               alpha=alpha_value, \n",
    "                                               gamma=gamma_value,\n",
    "                                               degree=param, \n",
    "                                               coef0=coef0_value)\n",
    "                elif param_tested == \"coef0\":\n",
    "                    kernel_model = KernelRidge(kernel=kernel, \n",
    "                                               alpha=alpha_value,  \n",
    "                                               gamma=gamma_value,\n",
    "                                               degree=degree_value,\n",
    "                                               coef0=param)\n",
    "                else:\n",
    "                    print(\"ERROR: Unknown parameters\")\n",
    "                \n",
    "                # mse is more sensitive to different parameters choice\n",
    "                mse = LeaveOneOutError(kernel_model, X_train, y_train, metrics=\"mse\")\n",
    "                df_errors.loc[drug_id, \"mse_coef\"+str(i+1)+\"_\"+str(param)] = mse\n",
    "        \n",
    "    print(\"Tuning hyperparameter %s\" % param_tested)\n",
    "    print(\"x0, L, k, b   y = 1/ (L + np.exp(-k*(x-x0)))+b \\n\")\n",
    "    best_values = {}\n",
    "    for coef in range(number_coefficients):\n",
    "#         print(\"Results for coefficient:\", coef+1)\n",
    "        df_results = df_errors[[\"mse_coef\"+str(coef+1)+\"_\"+str(param) for param in param_tested_values]].describe().loc[[\"mean\", \"min\",\"max\"], :]\n",
    "        best_param = np.float32(df_results.loc[\"mean\",:].idxmin().split(\"_\")[-1])\n",
    "        best_values[coef+1] = best_param\n",
    "        if display_results:\n",
    "            display(df_results)\n",
    "            print(\"Coefficient %d: ,  Best %s: %.5f\" % (coef+1, param_tested, best_param))\n",
    "        \n",
    "    del df_errors\n",
    "    print(\"%s kernel, best values for parameter: %s\" % (kernel, param_tested))\n",
    "    print(best_values)\n",
    "    return best_values\n",
    "\n",
    "def TestTunedKernels(drug_ids, number_coefficients, kernel, alpha=1, gamma=None, degree=3, coef0=1, \n",
    "                     metrics = \"mse\", display_results=True):\n",
    "    \"\"\"Training and testing Kernels with the best found hyperparameters\"\"\"\n",
    "    \n",
    "    df_errors_test = pd.DataFrame()\n",
    "\n",
    "    for drug_id in drug_ids:\n",
    "        # merged_df_i has lower shape\n",
    "        merged_df_i = merged_df[merged_df[\"DRUG_ID\"]==drug_id]\n",
    "        \n",
    "        np.random.seed(123)\n",
    "        indexes = np.random.permutation(merged_df_i.index)\n",
    "        train_size = int(merged_df_i.shape[0]*0.8)\n",
    "        indexes_train = indexes[:train_size]\n",
    "        indexes_test= indexes[train_size:]\n",
    "        X_train = merged_df_i.loc[indexes_train, merged_df_i.columns[26:-4]].values\n",
    "        X_test = merged_df_i.loc[indexes_test, merged_df_i.columns[26:-4]].values\n",
    "    \n",
    "        for i in range(number_coefficients):\n",
    "#             param = best_param[i+1]\n",
    "            y_train = merged_df_i.loc[indexes_train, \"param_\"+str(i+1)].values\n",
    "            y_test = merged_df_i.loc[indexes_test, \"param_\"+str(i+1)].values\n",
    "            \n",
    "            #check whether each coefficient needs its own parameters\n",
    "            if type(alpha)==dict:\n",
    "                alpha_value = alpha[i+1]\n",
    "            else:\n",
    "                alpha_value = alpha\n",
    "                \n",
    "            if type(gamma)==dict:\n",
    "                gamma_value = gamma[i+1]\n",
    "            else:\n",
    "                gamma_value = gamma\n",
    "            \n",
    "            if type(degree)==dict:\n",
    "                degree_value = degree[i+1]\n",
    "            else:\n",
    "                degree_value = degree\n",
    "                \n",
    "            if type(coef0)==dict:\n",
    "                coef0_value = coef0[i+1]\n",
    "            else:\n",
    "                coef0_value = coef0\n",
    "                \n",
    "            kr_lin = KernelRidge(kernel = kernel, alpha = alpha_value, gamma=gamma_value, \n",
    "                                 degree=degree_value, coef0=coef0_value)\n",
    "            kr_lin.fit(X_train, y_train)\n",
    "            y_pred = kr_lin.predict(X_test)\n",
    "            \n",
    "            # mse is more sensitive to different parameters choice\n",
    "            if metrics == \"mse\":\n",
    "                error = mean_squared_error(y_test, y_pred)\n",
    "            elif metrics == \"mae\":\n",
    "                error = mean_absolute_error(y_test, y_pred)\n",
    "            else:\n",
    "                print(\"ERROR: Unknown metrics\")\n",
    "            df_errors_test.loc[drug_id, kernel+\"_mse_coef\"+str(i+1)] = error\n",
    "    \n",
    "    df_results = df_errors_test.describe().loc[[\"mean\", \"min\",\"max\"], :]\n",
    "    if display_results:\n",
    "        print(\"Testing %s kernel with tuned hyperparameters\\n\" % kernel)\n",
    "        print(\"Coefficients x0, L, k, b   y = 1/ (L + np.exp(-k*(x-x0)))+b\") \n",
    "        display(df_results)\n",
    "    return df_results"
   ]
  },
  {
   "cell_type": "markdown",
   "metadata": {},
   "source": [
    "### normalised_dose_response_data.csv"
   ]
  },
  {
   "cell_type": "code",
   "execution_count": 4,
   "metadata": {},
   "outputs": [
    {
     "data": {
      "text/plain": [
       "(225384, 44)"
      ]
     },
     "execution_count": 4,
     "metadata": {},
     "output_type": "execute_result"
    }
   ],
   "source": [
    "drug_curves = pd.read_csv(_FOLDER+\"normalised_dose_response_data.csv\")\n",
    "drug_curves.shape"
   ]
  },
  {
   "cell_type": "code",
   "execution_count": 5,
   "metadata": {},
   "outputs": [
    {
     "name": "stdout",
     "output_type": "stream",
     "text": [
      "Original dataset: (225384, 44)\n",
      "2d filtration (Ensure that first and last points form plateus): Filtered dataset: (32974, 46)\n",
      "3d stage filtration (Specified location of the plateus): Filtered dataset: (7947, 46)\n"
     ]
    }
   ],
   "source": [
    "conc_columns= [\"fd_num_\"+str(i) for i in range(10)]\n",
    "response_norm = ['norm_cells_'+str(i) for i in range(10)]\n",
    "\n",
    "df = FilteringCurves(drug_curves, response_norm, \n",
    "                     filtering_scenario =[2,3],\n",
    "                     first_points_lower_limit = 0.8, last_points_upper_limit = 0.4)"
   ]
  },
  {
   "cell_type": "code",
   "execution_count": 6,
   "metadata": {},
   "outputs": [
    {
     "name": "stderr",
     "output_type": "stream",
     "text": [
      "100%|██████████| 7947/7947 [00:28<00:00, 281.26it/s]\n"
     ]
    },
    {
     "name": "stdout",
     "output_type": "stream",
     "text": [
      "Fitted data with removed unfit (7931, 48)\n"
     ]
    }
   ],
   "source": [
    "fitting_function = \"sigmoid_4_param\"\n",
    "df = FittedData(df, x_columns=conc_columns, y_columns= response_norm, \n",
    "                fitting_function=fitting_function, default_param=True)\n",
    "print(\"Fitted data with removed unfit\", df.shape)"
   ]
  },
  {
   "cell_type": "code",
   "execution_count": 7,
   "metadata": {},
   "outputs": [
    {
     "name": "stdout",
     "output_type": "stream",
     "text": [
      "Figures titles: Index_DRUG_ID_COSMIC_ID (COSMIC_ID is a cell line)\n"
     ]
    },
    {
     "data": {
      "image/png": "[encoded data removed]",
      "text/plain": [
       "<Figure size 1008x792 with 9 Axes>"
      ]
     },
     "metadata": {
      "needs_background": "light"
     },
     "output_type": "display_data"
    }
   ],
   "source": [
    "fitting_function = \"sigmoid_4_param\"\n",
    "fit_columns = \"fitting_param\"\n",
    "\n",
    "ShowResponseCurvesWithFitting(df, plots_in_row=3, plots_in_column=3, x_columns=conc_columns, \n",
    "                              y_columns = response_norm, indexes=df.index[:9], \n",
    "                              fitting_function = fitting_function, fitting_parameters = fit_columns)"
   ]
  },
  {
   "cell_type": "code",
   "execution_count": 8,
   "metadata": {
    "collapsed": true
   },
   "outputs": [],
   "source": [
    "cell_features = pd.read_csv(_FOLDER+\"Cell_Line_Features_PANCAN_simple_MOBEM.tsv\", sep=\"\\t\")\n",
    "merged_df = MergeDrugCells(df, cell_features)"
   ]
  },
  {
   "cell_type": "code",
   "execution_count": 9,
   "metadata": {},
   "outputs": [
    {
     "data": {
      "text/html": [
       "<div>\n",
       "<style scoped>\n",
       "    .dataframe tbody tr th:only-of-type {\n",
       "        vertical-align: middle;\n",
       "    }\n",
       "\n",
       "    .dataframe tbody tr th {\n",
       "        vertical-align: top;\n",
       "    }\n",
       "\n",
       "    .dataframe thead th {\n",
       "        text-align: right;\n",
       "    }\n",
       "</style>\n",
       "<table border=\"1\" class=\"dataframe\">\n",
       "  <thead>\n",
       "    <tr style=\"text-align: right;\">\n",
       "      <th></th>\n",
       "      <th>DRUG_ID</th>\n",
       "      <th>count_cell_lines</th>\n",
       "      <th>Drug Name</th>\n",
       "      <th>Synonyms</th>\n",
       "      <th>Target</th>\n",
       "      <th>Target Pathway</th>\n",
       "    </tr>\n",
       "  </thead>\n",
       "  <tbody>\n",
       "    <tr>\n",
       "      <th>0</th>\n",
       "      <td>170</td>\n",
       "      <td>294</td>\n",
       "      <td>Shikonin</td>\n",
       "      <td>Anchusin</td>\n",
       "      <td>not defined</td>\n",
       "      <td>Other</td>\n",
       "    </tr>\n",
       "    <tr>\n",
       "      <th>1</th>\n",
       "      <td>276</td>\n",
       "      <td>284</td>\n",
       "      <td>CAY10603</td>\n",
       "      <td>-</td>\n",
       "      <td>HDAC1, HDAC6</td>\n",
       "      <td>Chromatin histone acetylation</td>\n",
       "    </tr>\n",
       "    <tr>\n",
       "      <th>2</th>\n",
       "      <td>274</td>\n",
       "      <td>254</td>\n",
       "      <td>Belinostat</td>\n",
       "      <td>PXD101, PXD-101</td>\n",
       "      <td>HDAC1</td>\n",
       "      <td>Chromatin histone acetylation</td>\n",
       "    </tr>\n",
       "    <tr>\n",
       "      <th>3</th>\n",
       "      <td>328</td>\n",
       "      <td>234</td>\n",
       "      <td>SNX-2112</td>\n",
       "      <td>SNX 2112</td>\n",
       "      <td>HSP90</td>\n",
       "      <td>Protein stability and degradation</td>\n",
       "    </tr>\n",
       "    <tr>\n",
       "      <th>4</th>\n",
       "      <td>200</td>\n",
       "      <td>231</td>\n",
       "      <td>Dacinostat</td>\n",
       "      <td>NVP-LAQ824, LAQ824</td>\n",
       "      <td>HDAC1</td>\n",
       "      <td>Chromatin histone acetylation</td>\n",
       "    </tr>\n",
       "    <tr>\n",
       "      <th>5</th>\n",
       "      <td>272</td>\n",
       "      <td>225</td>\n",
       "      <td>AR-42</td>\n",
       "      <td>HDAC-42, AR 42, AR42</td>\n",
       "      <td>HDAC1</td>\n",
       "      <td>Chromatin histone acetylation</td>\n",
       "    </tr>\n",
       "    <tr>\n",
       "      <th>6</th>\n",
       "      <td>194</td>\n",
       "      <td>208</td>\n",
       "      <td>Luminespib</td>\n",
       "      <td>AUY922, VER-52296,NVP-AUY922,  AUY</td>\n",
       "      <td>HSP90</td>\n",
       "      <td>Protein stability and degradation</td>\n",
       "    </tr>\n",
       "    <tr>\n",
       "      <th>7</th>\n",
       "      <td>157</td>\n",
       "      <td>206</td>\n",
       "      <td>JNK-9L</td>\n",
       "      <td>KIN001-204, JNK inhibitor 9l</td>\n",
       "      <td>JNK2, JNK3</td>\n",
       "      <td>JNK and p38 signaling</td>\n",
       "    </tr>\n",
       "    <tr>\n",
       "      <th>8</th>\n",
       "      <td>273</td>\n",
       "      <td>194</td>\n",
       "      <td>CUDC-101</td>\n",
       "      <td>CUDC 101</td>\n",
       "      <td>HDAC1-10, EGFR, ERBB2</td>\n",
       "      <td>Other</td>\n",
       "    </tr>\n",
       "    <tr>\n",
       "      <th>9</th>\n",
       "      <td>219</td>\n",
       "      <td>185</td>\n",
       "      <td>AT-7519</td>\n",
       "      <td>AT7519</td>\n",
       "      <td>CDK1, CDK2, CDK4, CDK6, CDK9</td>\n",
       "      <td>Cell cycle</td>\n",
       "    </tr>\n",
       "  </tbody>\n",
       "</table>\n",
       "</div>"
      ],
      "text/plain": [
       "   DRUG_ID  count_cell_lines   Drug Name                            Synonyms  \\\n",
       "0      170               294    Shikonin                            Anchusin   \n",
       "1      276               284    CAY10603                                   -   \n",
       "2      274               254  Belinostat                     PXD101, PXD-101   \n",
       "3      328               234    SNX-2112                            SNX 2112   \n",
       "4      200               231  Dacinostat                  NVP-LAQ824, LAQ824   \n",
       "5      272               225       AR-42                HDAC-42, AR 42, AR42   \n",
       "6      194               208  Luminespib  AUY922, VER-52296,NVP-AUY922,  AUY   \n",
       "7      157               206      JNK-9L        KIN001-204, JNK inhibitor 9l   \n",
       "8      273               194    CUDC-101                            CUDC 101   \n",
       "9      219               185     AT-7519                              AT7519   \n",
       "\n",
       "                         Target                     Target Pathway  \n",
       "0                   not defined                              Other  \n",
       "1                  HDAC1, HDAC6      Chromatin histone acetylation  \n",
       "2                         HDAC1      Chromatin histone acetylation  \n",
       "3                         HSP90  Protein stability and degradation  \n",
       "4                         HDAC1      Chromatin histone acetylation  \n",
       "5                         HDAC1      Chromatin histone acetylation  \n",
       "6                         HSP90  Protein stability and degradation  \n",
       "7                    JNK2, JNK3              JNK and p38 signaling  \n",
       "8         HDAC1-10, EGFR, ERBB2                              Other  \n",
       "9  CDK1, CDK2, CDK4, CDK6, CDK9                         Cell cycle  "
      ]
     },
     "execution_count": 9,
     "metadata": {},
     "output_type": "execute_result"
    }
   ],
   "source": [
    "stat_data = df.groupby([\"DRUG_ID\"])[[\"DRUGID_COSMICID\"]].count().rename(columns={\"DRUGID_COSMICID\": \"count_cell_lines\"})\\\n",
    "            .sort_values(\"count_cell_lines\", ascending=False)\n",
    "    \n",
    "\n",
    "drug_features = pd.read_csv(_FOLDER+'/Drug_Features.csv').rename(columns = {\"Drug ID\": \"DRUG_ID\"})\n",
    "statistics = pd.merge(left = stat_data, right = drug_features, how= \"left\", on = \"DRUG_ID\").sort_values(\"count_cell_lines\", ascending =False)\n",
    "statistics.head(10)\n"
   ]
  },
  {
   "cell_type": "code",
   "execution_count": 10,
   "metadata": {},
   "outputs": [
    {
     "data": {
      "image/png": "[encoded data removed]",
      "text/plain": [
       "<Figure size 432x288 with 1 Axes>"
      ]
     },
     "metadata": {
      "needs_background": "light"
     },
     "output_type": "display_data"
    }
   ],
   "source": [
    "plt.hist(statistics[\"count_cell_lines\"].values);"
   ]
  },
  {
   "cell_type": "code",
   "execution_count": 11,
   "metadata": {},
   "outputs": [
    {
     "name": "stdout",
     "output_type": "stream",
     "text": [
      "Number of drugs with more than 30 records: 49\n",
      "Number of drugs with less than 10 records: 70\n",
      "Number of drugs with only 1 record: 21\n"
     ]
    }
   ],
   "source": [
    "print(\"Number of drugs with more than 30 records:\", stat_data[stat_data[\"count_cell_lines\"]>50].shape[0])\n",
    "print(\"Number of drugs with less than 10 records:\", stat_data[stat_data[\"count_cell_lines\"]<10].shape[0])\n",
    "print(\"Number of drugs with only 1 record:\", stat_data[stat_data[\"count_cell_lines\"]==1].shape[0])"
   ]
  },
  {
   "cell_type": "code",
   "execution_count": 12,
   "metadata": {},
   "outputs": [
    {
     "data": {
      "text/html": [
       "<div>\n",
       "<style scoped>\n",
       "    .dataframe tbody tr th:only-of-type {\n",
       "        vertical-align: middle;\n",
       "    }\n",
       "\n",
       "    .dataframe tbody tr th {\n",
       "        vertical-align: top;\n",
       "    }\n",
       "\n",
       "    .dataframe thead th {\n",
       "        text-align: right;\n",
       "    }\n",
       "</style>\n",
       "<table border=\"1\" class=\"dataframe\">\n",
       "  <thead>\n",
       "    <tr style=\"text-align: right;\">\n",
       "      <th></th>\n",
       "      <th>DRUG_ID</th>\n",
       "      <th>count_cell_lines</th>\n",
       "      <th>Drug Name</th>\n",
       "      <th>Synonyms</th>\n",
       "      <th>Target</th>\n",
       "      <th>Target Pathway</th>\n",
       "    </tr>\n",
       "  </thead>\n",
       "  <tbody>\n",
       "    <tr>\n",
       "      <th>168</th>\n",
       "      <td>255</td>\n",
       "      <td>1</td>\n",
       "      <td>CP724714</td>\n",
       "      <td>CP-724714</td>\n",
       "      <td>ERBB2</td>\n",
       "      <td>EGFR signaling</td>\n",
       "    </tr>\n",
       "    <tr>\n",
       "      <th>165</th>\n",
       "      <td>197</td>\n",
       "      <td>1</td>\n",
       "      <td>Bryostatin 1</td>\n",
       "      <td>Bryostatin</td>\n",
       "      <td>PKC</td>\n",
       "      <td>Other, kinases</td>\n",
       "    </tr>\n",
       "    <tr>\n",
       "      <th>166</th>\n",
       "      <td>345</td>\n",
       "      <td>1</td>\n",
       "      <td>KIN001-270</td>\n",
       "      <td>CDK9 inhibitor, CDK9-IN-1</td>\n",
       "      <td>CDK9</td>\n",
       "      <td>Cell cycle</td>\n",
       "    </tr>\n",
       "    <tr>\n",
       "      <th>167</th>\n",
       "      <td>238</td>\n",
       "      <td>1</td>\n",
       "      <td>Idelalisib</td>\n",
       "      <td>CAL-101, Zydelig</td>\n",
       "      <td>PI3Kdelta</td>\n",
       "      <td>PI3K/MTOR signaling</td>\n",
       "    </tr>\n",
       "    <tr>\n",
       "      <th>172</th>\n",
       "      <td>294</td>\n",
       "      <td>1</td>\n",
       "      <td>MPS-1-IN-1</td>\n",
       "      <td>-</td>\n",
       "      <td>MPS1</td>\n",
       "      <td>Mitosis</td>\n",
       "    </tr>\n",
       "    <tr>\n",
       "      <th>169</th>\n",
       "      <td>266</td>\n",
       "      <td>1</td>\n",
       "      <td>Zibotentan</td>\n",
       "      <td>ZD4054, ZD-4054</td>\n",
       "      <td>Endothelin-1 receptor (EDNRA)</td>\n",
       "      <td>Other</td>\n",
       "    </tr>\n",
       "    <tr>\n",
       "      <th>170</th>\n",
       "      <td>286</td>\n",
       "      <td>1</td>\n",
       "      <td>KIN001-236</td>\n",
       "      <td>-</td>\n",
       "      <td>Angiopoietin-1 receptor</td>\n",
       "      <td>Other</td>\n",
       "    </tr>\n",
       "    <tr>\n",
       "      <th>171</th>\n",
       "      <td>290</td>\n",
       "      <td>1</td>\n",
       "      <td>KIN001-260</td>\n",
       "      <td>Bayer IKKb inhibitor, ACHP</td>\n",
       "      <td>IKKB</td>\n",
       "      <td>Other</td>\n",
       "    </tr>\n",
       "    <tr>\n",
       "      <th>163</th>\n",
       "      <td>147</td>\n",
       "      <td>1</td>\n",
       "      <td>NSC-87877</td>\n",
       "      <td>NSC 87877</td>\n",
       "      <td>SHP-1 (PTPN6), SHP-2 (PTPN11)</td>\n",
       "      <td>Other</td>\n",
       "    </tr>\n",
       "    <tr>\n",
       "      <th>164</th>\n",
       "      <td>156</td>\n",
       "      <td>1</td>\n",
       "      <td>AZD6482</td>\n",
       "      <td>AZD 6482, AZD-6482, AK-55409</td>\n",
       "      <td>PI3Kbeta</td>\n",
       "      <td>PI3K/MTOR signaling</td>\n",
       "    </tr>\n",
       "    <tr>\n",
       "      <th>159</th>\n",
       "      <td>37</td>\n",
       "      <td>1</td>\n",
       "      <td>Crizotinib</td>\n",
       "      <td>Xalkori, PF2341066, PF-2341066, PF 2341066</td>\n",
       "      <td>MET, ALK, ROS1</td>\n",
       "      <td>RTK signaling</td>\n",
       "    </tr>\n",
       "    <tr>\n",
       "      <th>162</th>\n",
       "      <td>111</td>\n",
       "      <td>1</td>\n",
       "      <td>Salubrinal</td>\n",
       "      <td>EIF-2alpha Inhibitor</td>\n",
       "      <td>EIF2A</td>\n",
       "      <td>Other</td>\n",
       "    </tr>\n",
       "    <tr>\n",
       "      <th>161</th>\n",
       "      <td>63</td>\n",
       "      <td>1</td>\n",
       "      <td>BMS-509744</td>\n",
       "      <td>KIN001-127, ITK inhibitor</td>\n",
       "      <td>ITK</td>\n",
       "      <td>Other</td>\n",
       "    </tr>\n",
       "    <tr>\n",
       "      <th>160</th>\n",
       "      <td>52</td>\n",
       "      <td>1</td>\n",
       "      <td>GNF-2</td>\n",
       "      <td>KIN001-013</td>\n",
       "      <td>BCR-ABL</td>\n",
       "      <td>ABL signaling</td>\n",
       "    </tr>\n",
       "    <tr>\n",
       "      <th>158</th>\n",
       "      <td>193</td>\n",
       "      <td>1</td>\n",
       "      <td>GW-2580</td>\n",
       "      <td>GX2580, CFMS receptor tyrosine kinase inhibitor</td>\n",
       "      <td>CSF1R</td>\n",
       "      <td>RTK signaling</td>\n",
       "    </tr>\n",
       "    <tr>\n",
       "      <th>157</th>\n",
       "      <td>1028</td>\n",
       "      <td>1</td>\n",
       "      <td>VX-702</td>\n",
       "      <td>VX702, VX 702</td>\n",
       "      <td>p38</td>\n",
       "      <td>JNK and p38 signaling</td>\n",
       "    </tr>\n",
       "    <tr>\n",
       "      <th>156</th>\n",
       "      <td>253</td>\n",
       "      <td>1</td>\n",
       "      <td>XMD14-99</td>\n",
       "      <td>-</td>\n",
       "      <td>ALK, CDK7, LTK, others</td>\n",
       "      <td>Other</td>\n",
       "    </tr>\n",
       "    <tr>\n",
       "      <th>155</th>\n",
       "      <td>1042</td>\n",
       "      <td>1</td>\n",
       "      <td>Doramapimod</td>\n",
       "      <td>BIRB-796, BIRB 796</td>\n",
       "      <td>p38, JNK2</td>\n",
       "      <td>JNK and p38 signaling</td>\n",
       "    </tr>\n",
       "    <tr>\n",
       "      <th>154</th>\n",
       "      <td>1049</td>\n",
       "      <td>1</td>\n",
       "      <td>PD173074</td>\n",
       "      <td>PD-173074, PD 173074</td>\n",
       "      <td>FGFR1, FGFR3</td>\n",
       "      <td>RTK signaling</td>\n",
       "    </tr>\n",
       "    <tr>\n",
       "      <th>153</th>\n",
       "      <td>1062</td>\n",
       "      <td>1</td>\n",
       "      <td>Selumetinib</td>\n",
       "      <td>AZD6244, AZD-6244, ARRY-886</td>\n",
       "      <td>MEK1, MEK2</td>\n",
       "      <td>ERK MAPK signaling</td>\n",
       "    </tr>\n",
       "    <tr>\n",
       "      <th>173</th>\n",
       "      <td>1170</td>\n",
       "      <td>1</td>\n",
       "      <td>CCT-018159</td>\n",
       "      <td>CCT018159, CCT 018159</td>\n",
       "      <td>HSP90</td>\n",
       "      <td>Protein stability and degradation</td>\n",
       "    </tr>\n",
       "  </tbody>\n",
       "</table>\n",
       "</div>"
      ],
      "text/plain": [
       "     DRUG_ID  count_cell_lines     Drug Name  \\\n",
       "168      255                 1      CP724714   \n",
       "165      197                 1  Bryostatin 1   \n",
       "166      345                 1    KIN001-270   \n",
       "167      238                 1    Idelalisib   \n",
       "172      294                 1    MPS-1-IN-1   \n",
       "169      266                 1    Zibotentan   \n",
       "170      286                 1    KIN001-236   \n",
       "171      290                 1    KIN001-260   \n",
       "163      147                 1     NSC-87877   \n",
       "164      156                 1       AZD6482   \n",
       "159       37                 1    Crizotinib   \n",
       "162      111                 1    Salubrinal   \n",
       "161       63                 1    BMS-509744   \n",
       "160       52                 1         GNF-2   \n",
       "158      193                 1       GW-2580   \n",
       "157     1028                 1        VX-702   \n",
       "156      253                 1      XMD14-99   \n",
       "155     1042                 1   Doramapimod   \n",
       "154     1049                 1      PD173074   \n",
       "153     1062                 1   Selumetinib   \n",
       "173     1170                 1    CCT-018159   \n",
       "\n",
       "                                            Synonyms  \\\n",
       "168                                        CP-724714   \n",
       "165                                       Bryostatin   \n",
       "166                        CDK9 inhibitor, CDK9-IN-1   \n",
       "167                                 CAL-101, Zydelig   \n",
       "172                                                -   \n",
       "169                                  ZD4054, ZD-4054   \n",
       "170                                                -   \n",
       "171                       Bayer IKKb inhibitor, ACHP   \n",
       "163                                        NSC 87877   \n",
       "164                     AZD 6482, AZD-6482, AK-55409   \n",
       "159       Xalkori, PF2341066, PF-2341066, PF 2341066   \n",
       "162                             EIF-2alpha Inhibitor   \n",
       "161                        KIN001-127, ITK inhibitor   \n",
       "160                                       KIN001-013   \n",
       "158  GX2580, CFMS receptor tyrosine kinase inhibitor   \n",
       "157                                    VX702, VX 702   \n",
       "156                                                -   \n",
       "155                               BIRB-796, BIRB 796   \n",
       "154                             PD-173074, PD 173074   \n",
       "153                      AZD6244, AZD-6244, ARRY-886   \n",
       "173                            CCT018159, CCT 018159   \n",
       "\n",
       "                            Target                     Target Pathway  \n",
       "168                          ERBB2                     EGFR signaling  \n",
       "165                            PKC                     Other, kinases  \n",
       "166                           CDK9                         Cell cycle  \n",
       "167                      PI3Kdelta                PI3K/MTOR signaling  \n",
       "172                           MPS1                            Mitosis  \n",
       "169  Endothelin-1 receptor (EDNRA)                              Other  \n",
       "170        Angiopoietin-1 receptor                              Other  \n",
       "171                           IKKB                              Other  \n",
       "163  SHP-1 (PTPN6), SHP-2 (PTPN11)                              Other  \n",
       "164                       PI3Kbeta                PI3K/MTOR signaling  \n",
       "159                 MET, ALK, ROS1                      RTK signaling  \n",
       "162                          EIF2A                              Other  \n",
       "161                            ITK                              Other  \n",
       "160                        BCR-ABL                      ABL signaling  \n",
       "158                          CSF1R                      RTK signaling  \n",
       "157                            p38              JNK and p38 signaling  \n",
       "156         ALK, CDK7, LTK, others                              Other  \n",
       "155                      p38, JNK2              JNK and p38 signaling  \n",
       "154                   FGFR1, FGFR3                      RTK signaling  \n",
       "153                     MEK1, MEK2                 ERK MAPK signaling  \n",
       "173                          HSP90  Protein stability and degradation  "
      ]
     },
     "execution_count": 12,
     "metadata": {},
     "output_type": "execute_result"
    }
   ],
   "source": [
    "statistics[statistics[\"count_cell_lines\"]==1]"
   ]
  },
  {
   "cell_type": "markdown",
   "metadata": {},
   "source": [
    "### Linear kernel"
   ]
  },
  {
   "cell_type": "code",
   "execution_count": 13,
   "metadata": {
    "collapsed": true
   },
   "outputs": [],
   "source": [
    "gr = df.groupby([\"DRUG_ID\"])[\"DRUGID_COSMICID\"].count()\n",
    "drug_ids = list(gr[gr > 50].index)"
   ]
  },
  {
   "cell_type": "code",
   "execution_count": 14,
   "metadata": {},
   "outputs": [
    {
     "name": "stdout",
     "output_type": "stream",
     "text": [
      "Tuning hyperparameter alpha\n",
      "x0, L, k, b   y = 1/ (L + np.exp(-k*(x-x0)))+b \n",
      "\n",
      "linear kernel, best values for parameter: alpha\n",
      "{1: 7.0, 2: 7.0, 3: 7.0, 4: 7.0}\n",
      "\n",
      "Tuning hyperparameter alpha\n",
      "x0, L, k, b   y = 1/ (L + np.exp(-k*(x-x0)))+b \n",
      "\n",
      "linear kernel, best values for parameter: alpha\n",
      "{1: 100.0, 2: 50.0, 3: 50.0, 4: 100.0}\n",
      "\n",
      "Tuning hyperparameter alpha\n",
      "x0, L, k, b   y = 1/ (L + np.exp(-k*(x-x0)))+b \n",
      "\n",
      "linear kernel, best values for parameter: alpha\n",
      "{1: 100.0, 2: 50.0, 3: 50.0, 4: 100.0}\n",
      "\n",
      "CPU times: user 32min 24s, sys: 3min 20s, total: 35min 44s\n",
      "Wall time: 21min 12s\n"
     ]
    }
   ],
   "source": [
    "%%time\n",
    "best_linear_alpha = RunCrossValidation(drug_ids, 4, kernel='linear', param_tested = \"alpha\", \n",
    "                       param_tested_values = [0.1, 0.5, 1, 5, 7], display_results=False)\n",
    "\n",
    "print(\"\")\n",
    "\n",
    "best_linear_alpha = RunCrossValidation(drug_ids, 4, kernel='linear', param_tested = \"alpha\", \n",
    "                       param_tested_values = [7, 10, 30, 50, 100], display_results=False)\n",
    "print(\"\")\n",
    "\n",
    "best_linear_alpha = RunCrossValidation(drug_ids, 4, kernel='linear', param_tested = \"alpha\", \n",
    "                       param_tested_values = [50, 100, 200, 300, 500], display_results=False)\n",
    "print(\"\")"
   ]
  },
  {
   "cell_type": "code",
   "execution_count": 15,
   "metadata": {},
   "outputs": [
    {
     "name": "stdout",
     "output_type": "stream",
     "text": [
      "{1: 100.0, 2: 50.0, 3: 50.0, 4: 100.0}\n"
     ]
    }
   ],
   "source": [
    "print(best_linear_alpha)"
   ]
  },
  {
   "cell_type": "raw",
   "metadata": {},
   "source": [
    "# Tuning hyperparameter alpha\n",
    "x0, L, k, b   y = 1/ (L + np.exp(-k*(x-x0)))+b \n",
    "\n",
    "linear kernel, best values for parameter: alpha\n",
    "{1: 7.0, 2: 7.0, 3: 7.0, 4: 7.0}\n",
    "\n",
    "Tuning hyperparameter alpha\n",
    "x0, L, k, b   y = 1/ (L + np.exp(-k*(x-x0)))+b \n",
    "\n",
    "linear kernel, best values for parameter: alpha\n",
    "{1: 100.0, 2: 50.0, 3: 50.0, 4: 100.0}\n",
    "\n",
    "Tuning hyperparameter alpha\n",
    "x0, L, k, b   y = 1/ (L + np.exp(-k*(x-x0)))+b \n",
    "\n",
    "linear kernel, best values for parameter: alpha\n",
    "{1: 100.0, 2: 50.0, 3: 50.0, 4: 100.0}\n",
    "\n",
    "CPU times: user 32min 24s, sys: 3min 20s, total: 35min 44s\n",
    "Wall time: 21min 12s"
   ]
  },
  {
   "cell_type": "markdown",
   "metadata": {},
   "source": [
    "### Sigmoid Kernel"
   ]
  },
  {
   "cell_type": "code",
   "execution_count": 16,
   "metadata": {
    "scrolled": true
   },
   "outputs": [
    {
     "name": "stdout",
     "output_type": "stream",
     "text": [
      "Tuning hyperparameter gamma\n",
      "x0, L, k, b   y = 1/ (L + np.exp(-k*(x-x0)))+b \n",
      "\n",
      "sigmoid kernel, best values for parameter: gamma\n",
      "{1: 0.01, 2: 0.01, 3: 0.01, 4: 0.01}\n",
      "\n",
      "Tuning hyperparameter gamma\n",
      "x0, L, k, b   y = 1/ (L + np.exp(-k*(x-x0)))+b \n",
      "\n",
      "sigmoid kernel, best values for parameter: gamma\n",
      "{1: 1e-05, 2: 1e-04, 3: 0.01, 4: 1e-04}\n",
      "\n",
      "Tuning hyperparameter alpha\n",
      "x0, L, k, b   y = 1/ (L + np.exp(-k*(x-x0)))+b \n",
      "\n",
      "sigmoid kernel, best values for parameter: alpha\n",
      "{1: 1.0, 2: 0.5, 3: 1.0, 4: 1.0}\n",
      "\n",
      "Tuning hyperparameter coef0\n",
      "x0, L, k, b   y = 1/ (L + np.exp(-k*(x-x0)))+b \n",
      "\n",
      "sigmoid kernel, best values for parameter: coef0\n",
      "{1: 0.5, 2: 0.5, 3: 1.0, 4: 0.5}\n",
      "\n",
      "Tuning hyperparameter coef0\n",
      "x0, L, k, b   y = 1/ (L + np.exp(-k*(x-x0)))+b \n",
      "\n",
      "sigmoid kernel, best values for parameter: coef0\n",
      "{1: 1.0, 2: 1.0, 3: 1.0, 4: 1.0}\n",
      "CPU times: user 54min 36s, sys: 5min 14s, total: 59min 50s\n",
      "Wall time: 1h 17min 36s\n"
     ]
    }
   ],
   "source": [
    "%%time\n",
    "best_sigmoid_gamma = RunCrossValidation(drug_ids, 4, kernel='sigmoid', param_tested = \"gamma\", \n",
    "                       param_tested_values = [0.01, 0.1, 0.5, 1], display_results=False)\n",
    "print(\"\")\n",
    "best_sigmoid_gamma = RunCrossValidation(drug_ids, 4, kernel='sigmoid', param_tested = \"gamma\", \n",
    "                       param_tested_values = [0.00001, 0.0001, 0.01], display_results=False)\n",
    "print(\"\")\n",
    "\n",
    "best_sigmoid_alpha= RunCrossValidation(drug_ids, 4, kernel='sigmoid', gamma= best_sigmoid_gamma, \n",
    "                                       param_tested = \"alpha\", \n",
    "                                       param_tested_values = [0.01, 0.1, 0.5, 1, 5], display_results=False)\n",
    "print(\"\")\n",
    "\n",
    "\n",
    "best_sigmoid_coef0 = RunCrossValidation(drug_ids, 4, kernel='sigmoid', gamma= best_sigmoid_gamma, \n",
    "                                        param_tested = \"coef0\", alpha=best_sigmoid_alpha,\n",
    "                                        param_tested_values = [-0.1, 0, 0.1, 0.5, 1], display_results=False)\n",
    "\n",
    "print(\"\")\n",
    "best_sigmoid_coef0 = RunCrossValidation(drug_ids, 4, kernel='sigmoid', gamma= best_sigmoid_gamma, \n",
    "                                       param_tested = \"coef0\", alpha=best_sigmoid_alpha,\n",
    "                                       param_tested_values = [0, 1, 5, 10], display_results=False)"
   ]
  },
  {
   "cell_type": "code",
   "execution_count": 17,
   "metadata": {},
   "outputs": [
    {
     "name": "stdout",
     "output_type": "stream",
     "text": [
      "{1: 1.0, 2: 1.0, 3: 1.0, 4: 1.0}\n",
      "{1: 1e-05, 2: 1e-04, 3: 0.01, 4: 1e-04}\n",
      "{1: 1.0, 2: 0.5, 3: 1.0, 4: 1.0}\n"
     ]
    }
   ],
   "source": [
    "print(best_sigmoid_coef0)\n",
    "print(best_sigmoid_gamma)\n",
    "print(best_sigmoid_alpha)\n",
    "\n",
    "sigmod_kernel = {\"coef0\": {1: 1.0, 2: 1.0, 3: 1.0, 4: 1.0},\n",
    "                 \"gamma\": {1: 1e-05, 2: 1e-04, 3: 0.01, 4: 1e-04},\n",
    "                 \"alpha\"{1: 1.0, 2: 0.5, 3: 1.0, 4: 1.0}}"
   ]
  },
  {
   "cell_type": "raw",
   "metadata": {},
   "source": [
    "Tuning hyperparameter gamma\n",
    "x0, L, k, b   y = 1/ (L + np.exp(-k*(x-x0)))+b \n",
    "\n",
    "sigmoid kernel, best values for parameter: gamma\n",
    "{1: 0.01, 2: 0.01, 3: 0.01, 4: 0.01}\n",
    "\n",
    "Tuning hyperparameter gamma\n",
    "x0, L, k, b   y = 1/ (L + np.exp(-k*(x-x0)))+b \n",
    "\n",
    "sigmoid kernel, best values for parameter: gamma\n",
    "{1: 1e-05, 2: 1e-04, 3: 0.01, 4: 1e-04}\n",
    "\n",
    "Tuning hyperparameter alpha\n",
    "x0, L, k, b   y = 1/ (L + np.exp(-k*(x-x0)))+b \n",
    "\n",
    "sigmoid kernel, best values for parameter: alpha\n",
    "{1: 1.0, 2: 0.5, 3: 1.0, 4: 1.0}\n",
    "\n",
    "Tuning hyperparameter coef0\n",
    "x0, L, k, b   y = 1/ (L + np.exp(-k*(x-x0)))+b \n",
    "\n",
    "sigmoid kernel, best values for parameter: coef0\n",
    "{1: 0.5, 2: 0.5, 3: 1.0, 4: 0.5}\n",
    "\n",
    "Tuning hyperparameter coef0\n",
    "x0, L, k, b   y = 1/ (L + np.exp(-k*(x-x0)))+b \n",
    "\n",
    "sigmoid kernel, best values for parameter: coef0\n",
    "{1: 1.0, 2: 1.0, 3: 1.0, 4: 1.0}\n",
    "CPU times: user 54min 36s, sys: 5min 14s, total: 59min 50s\n",
    "Wall time: 1h 17min 36s"
   ]
  },
  {
   "cell_type": "markdown",
   "metadata": {},
   "source": [
    "### RBF kernel"
   ]
  },
  {
   "cell_type": "code",
   "execution_count": 18,
   "metadata": {
    "scrolled": true
   },
   "outputs": [
    {
     "name": "stdout",
     "output_type": "stream",
     "text": [
      "Tuning hyperparameter gamma\n",
      "x0, L, k, b   y = 1/ (L + np.exp(-k*(x-x0)))+b \n",
      "\n",
      "rbf kernel, best values for parameter: gamma\n",
      "{1: 1e-05, 2: 1e-04, 3: 0.001, 4: 1e-04}\n",
      "\n",
      "Tuning hyperparameter alpha\n",
      "x0, L, k, b   y = 1/ (L + np.exp(-k*(x-x0)))+b \n",
      "\n",
      "rbf kernel, best values for parameter: alpha\n",
      "{1: 1.0, 2: 1.0, 3: 1.0, 4: 5.0}\n",
      "\n",
      "CPU times: user 25min 59s, sys: 2min 30s, total: 28min 30s\n",
      "Wall time: 39min 55s\n"
     ]
    }
   ],
   "source": [
    "%%time\n",
    "best_rbf_gamma = RunCrossValidation(drug_ids, 4, kernel='rbf', param_tested = \"gamma\", alpha=1,\n",
    "                       param_tested_values = [0.00001, 0.0001, 0.001, 0.1, 1], display_results=False)\n",
    "\n",
    "print(\"\")\n",
    "\n",
    "best_rbf_alpha= RunCrossValidation(drug_ids, 4, kernel='rbf', param_tested = \"alpha\", gamma=best_rbf_gamma,\n",
    "                       param_tested_values = [0.01, 0.1, 1, 5, 10], display_results=False)\n",
    "print(\"\")"
   ]
  },
  {
   "cell_type": "code",
   "execution_count": 19,
   "metadata": {},
   "outputs": [
    {
     "name": "stdout",
     "output_type": "stream",
     "text": [
      "{1: 1.0, 2: 1.0, 3: 1.0, 4: 5.0}\n",
      "{1: 1e-05, 2: 1e-04, 3: 0.001, 4: 1e-04}\n"
     ]
    }
   ],
   "source": [
    "# best_rbf_alpha_rbf = {1:5, 2:1, 3:0.01, 4:10}\n",
    "# best_rbf_gamma_rbf= 0.00001\n",
    "print(best_rbf_alpha)\n",
    "print(best_rbf_gamma)"
   ]
  },
  {
   "cell_type": "raw",
   "metadata": {},
   "source": [
    "Tuning hyperparameter gamma\n",
    "x0, L, k, b   y = 1/ (L + np.exp(-k*(x-x0)))+b \n",
    "\n",
    "rbf kernel, best values for parameter: gamma\n",
    "{1: 1e-05, 2: 1e-04, 3: 0.001, 4: 1e-04}\n",
    "\n",
    "Tuning hyperparameter alpha\n",
    "x0, L, k, b   y = 1/ (L + np.exp(-k*(x-x0)))+b \n",
    "\n",
    "rbf kernel, best values for parameter: alpha\n",
    "{1: 1.0, 2: 1.0, 3: 1.0, 4: 5.0}\n",
    "\n",
    "CPU times: user 25min 59s, sys: 2min 30s, total: 28min 30s\n",
    "Wall time: 39min 55s"
   ]
  },
  {
   "cell_type": "markdown",
   "metadata": {},
   "source": [
    "### Polynomial Kernel"
   ]
  },
  {
   "cell_type": "code",
   "execution_count": 20,
   "metadata": {},
   "outputs": [
    {
     "name": "stdout",
     "output_type": "stream",
     "text": [
      "Tuning hyperparameter gamma\n",
      "x0, L, k, b   y = 1/ (L + np.exp(-k*(x-x0)))+b \n",
      "\n",
      "polynomial kernel, best values for parameter: gamma\n",
      "{1: 1e-05, 2: 1e-04, 3: 1e-04, 4: 1e-04}\n",
      "\n",
      "Tuning hyperparameter degree\n",
      "x0, L, k, b   y = 1/ (L + np.exp(-k*(x-x0)))+b \n",
      "\n",
      "polynomial kernel, best values for parameter: degree\n",
      "{1: 1.0, 2: 5.0, 3: 5.0, 4: 5.0}\n",
      "\n",
      "Tuning hyperparameter alpha\n",
      "x0, L, k, b   y = 1/ (L + np.exp(-k*(x-x0)))+b \n",
      "\n",
      "polynomial kernel, best values for parameter: alpha\n",
      "{1: 1.0, 2: 1.0, 3: 0.01, 4: 5.0}\n",
      "\n",
      "CPU times: user 40min 16s, sys: 3min 50s, total: 44min 6s\n",
      "Wall time: 44min 15s\n"
     ]
    }
   ],
   "source": [
    "%%time\n",
    "best_polynomial_gamma = RunCrossValidation(drug_ids, 4, kernel='polynomial', param_tested = \"gamma\", \n",
    "                       param_tested_values = [0.00001, 0.0001, 0.01, 0.1, 1, 5], display_results=False)\n",
    "print(\"\")\n",
    "\n",
    "best_polynomial_degree = RunCrossValidation(drug_ids, 4, kernel='polynomial', param_tested = \"degree\", gamma= 0.00001,\n",
    "                       param_tested_values = [1,2,3,4,5], display_results=False)\n",
    "print(\"\")\n",
    "\n",
    "best_polynomial_alpha = RunCrossValidation(drug_ids, 4, kernel='polynomial', param_tested = \"alpha\", gamma= 0.00001,\n",
    "                       param_tested_values = [0.001, 0.01, 0.1, 1, 5, 7], display_results=False)\n",
    "print(\"\")\n"
   ]
  },
  {
   "cell_type": "code",
   "execution_count": 21,
   "metadata": {},
   "outputs": [
    {
     "name": "stdout",
     "output_type": "stream",
     "text": [
      "{1: 1e-05, 2: 1e-04, 3: 1e-04, 4: 1e-04}\n",
      "{1: 1.0, 2: 5.0, 3: 5.0, 4: 5.0}\n",
      "{1: 1.0, 2: 1.0, 3: 0.01, 4: 5.0}\n"
     ]
    }
   ],
   "source": [
    "# best_polynomial_gamma = 0.00001\n",
    "# best_polynomial_degree= {1: 1.0, 2: 1.0, 3: 5.0, 4: 1.0}\n",
    "# best_polynomial_alpha = {1: 5, 2:1, 3: 0.01, 4: 7}\n",
    "print(best_polynomial_gamma)\n",
    "print(best_polynomial_degree)\n",
    "print(best_polynomial_alpha)"
   ]
  },
  {
   "cell_type": "raw",
   "metadata": {},
   "source": [
    "Tuning hyperparameter gamma\n",
    "x0, L, k, b   y = 1/ (L + np.exp(-k*(x-x0)))+b \n",
    "\n",
    "polynomial kernel, best values for parameter: gamma\n",
    "{1: 1e-05, 2: 1e-04, 3: 1e-04, 4: 1e-04}\n",
    "\n",
    "Tuning hyperparameter degree\n",
    "x0, L, k, b   y = 1/ (L + np.exp(-k*(x-x0)))+b \n",
    "\n",
    "polynomial kernel, best values for parameter: degree\n",
    "{1: 1.0, 2: 5.0, 3: 5.0, 4: 5.0}\n",
    "\n",
    "Tuning hyperparameter alpha\n",
    "x0, L, k, b   y = 1/ (L + np.exp(-k*(x-x0)))+b \n",
    "\n",
    "polynomial kernel, best values for parameter: alpha\n",
    "{1: 1.0, 2: 1.0, 3: 0.01, 4: 5.0}\n",
    "\n",
    "CPU times: user 40min 16s, sys: 3min 50s, total: 44min 6s\n",
    "Wall time: 44min 15s"
   ]
  },
  {
   "cell_type": "markdown",
   "metadata": {},
   "source": [
    "### additive_chi2 kernel"
   ]
  },
  {
   "cell_type": "code",
   "execution_count": 22,
   "metadata": {},
   "outputs": [
    {
     "name": "stdout",
     "output_type": "stream",
     "text": [
      "Tuning hyperparameter gamma\n",
      "x0, L, k, b   y = 1/ (L + np.exp(-k*(x-x0)))+b \n",
      "\n",
      "additive_chi2 kernel, best values for parameter: gamma\n",
      "{1: 1e-05, 2: 1e-05, 3: 1e-05, 4: 1e-05}\n",
      "\n"
     ]
    },
    {
     "ename": "KeyboardInterrupt",
     "evalue": "",
     "output_type": "error",
     "traceback": [
      "\u001b[0;31m---------------------------------------------------------------------------\u001b[0m",
      "\u001b[0;31mKeyboardInterrupt\u001b[0m                         Traceback (most recent call last)",
      "\u001b[0;32m<timed exec>\u001b[0m in \u001b[0;36m<module>\u001b[0;34m\u001b[0m\n",
      "\u001b[0;32m<ipython-input-3-bf0e7aa28698>\u001b[0m in \u001b[0;36mRunCrossValidation\u001b[0;34m(drug_ids, number_coefficients, kernel, param_tested, param_tested_values, alpha, gamma, degree, coef0, display_results)\u001b[0m\n\u001b[1;32m     91\u001b[0m \u001b[0;34m\u001b[0m\u001b[0m\n\u001b[1;32m     92\u001b[0m                 \u001b[0;31m# mse is more sensitive to different parameters choice\u001b[0m\u001b[0;34m\u001b[0m\u001b[0;34m\u001b[0m\u001b[0;34m\u001b[0m\u001b[0m\n\u001b[0;32m---> 93\u001b[0;31m                 \u001b[0mmse\u001b[0m \u001b[0;34m=\u001b[0m \u001b[0mLeaveOneOutError\u001b[0m\u001b[0;34m(\u001b[0m\u001b[0mkernel_model\u001b[0m\u001b[0;34m,\u001b[0m \u001b[0mX_train\u001b[0m\u001b[0;34m,\u001b[0m \u001b[0my_train\u001b[0m\u001b[0;34m,\u001b[0m \u001b[0mmetrics\u001b[0m\u001b[0;34m=\u001b[0m\u001b[0;34m\"mse\"\u001b[0m\u001b[0;34m)\u001b[0m\u001b[0;34m\u001b[0m\u001b[0;34m\u001b[0m\u001b[0m\n\u001b[0m\u001b[1;32m     94\u001b[0m                 \u001b[0mdf_errors\u001b[0m\u001b[0;34m.\u001b[0m\u001b[0mloc\u001b[0m\u001b[0;34m[\u001b[0m\u001b[0mdrug_id\u001b[0m\u001b[0;34m,\u001b[0m \u001b[0;34m\"mse_coef\"\u001b[0m\u001b[0;34m+\u001b[0m\u001b[0mstr\u001b[0m\u001b[0;34m(\u001b[0m\u001b[0mi\u001b[0m\u001b[0;34m+\u001b[0m\u001b[0;36m1\u001b[0m\u001b[0;34m)\u001b[0m\u001b[0;34m+\u001b[0m\u001b[0;34m\"_\"\u001b[0m\u001b[0;34m+\u001b[0m\u001b[0mstr\u001b[0m\u001b[0;34m(\u001b[0m\u001b[0mparam\u001b[0m\u001b[0;34m)\u001b[0m\u001b[0;34m]\u001b[0m \u001b[0;34m=\u001b[0m \u001b[0mmse\u001b[0m\u001b[0;34m\u001b[0m\u001b[0;34m\u001b[0m\u001b[0m\n\u001b[1;32m     95\u001b[0m \u001b[0;34m\u001b[0m\u001b[0m\n",
      "\u001b[0;32m<ipython-input-3-bf0e7aa28698>\u001b[0m in \u001b[0;36mLeaveOneOutError\u001b[0;34m(kernel_model, X, y, metrics)\u001b[0m\n\u001b[1;32m      8\u001b[0m         \u001b[0my_train_loo\u001b[0m\u001b[0;34m,\u001b[0m \u001b[0my_test_loo\u001b[0m \u001b[0;34m=\u001b[0m \u001b[0my\u001b[0m\u001b[0;34m[\u001b[0m\u001b[0mtrain_index\u001b[0m\u001b[0;34m]\u001b[0m\u001b[0;34m,\u001b[0m \u001b[0my\u001b[0m\u001b[0;34m[\u001b[0m\u001b[0mtest_index\u001b[0m\u001b[0;34m]\u001b[0m\u001b[0;34m\u001b[0m\u001b[0;34m\u001b[0m\u001b[0m\n\u001b[1;32m      9\u001b[0m \u001b[0;34m\u001b[0m\u001b[0m\n\u001b[0;32m---> 10\u001b[0;31m         \u001b[0mmodel\u001b[0m \u001b[0;34m=\u001b[0m \u001b[0mkernel_model\u001b[0m\u001b[0;34m.\u001b[0m\u001b[0mfit\u001b[0m\u001b[0;34m(\u001b[0m\u001b[0mX_train_loo\u001b[0m\u001b[0;34m,\u001b[0m \u001b[0my_train_loo\u001b[0m\u001b[0;34m)\u001b[0m\u001b[0;34m\u001b[0m\u001b[0;34m\u001b[0m\u001b[0m\n\u001b[0m\u001b[1;32m     11\u001b[0m         \u001b[0;32mif\u001b[0m \u001b[0mmetrics\u001b[0m \u001b[0;34m==\u001b[0m \u001b[0;34m\"mse\"\u001b[0m\u001b[0;34m:\u001b[0m\u001b[0;34m\u001b[0m\u001b[0;34m\u001b[0m\u001b[0m\n\u001b[1;32m     12\u001b[0m             \u001b[0mmse\u001b[0m \u001b[0;34m=\u001b[0m \u001b[0mmean_squared_error\u001b[0m\u001b[0;34m(\u001b[0m\u001b[0my_test_loo\u001b[0m\u001b[0;34m,\u001b[0m \u001b[0mmodel\u001b[0m\u001b[0;34m.\u001b[0m\u001b[0mpredict\u001b[0m\u001b[0;34m(\u001b[0m\u001b[0mX_test_loo\u001b[0m\u001b[0;34m)\u001b[0m\u001b[0;34m)\u001b[0m\u001b[0;34m\u001b[0m\u001b[0;34m\u001b[0m\u001b[0m\n",
      "\u001b[0;32m~/anaconda3/envs/myspark/lib/python3.6/site-packages/sklearn/kernel_ridge.py\u001b[0m in \u001b[0;36mfit\u001b[0;34m(self, X, y, sample_weight)\u001b[0m\n\u001b[1;32m    155\u001b[0m             \u001b[0msample_weight\u001b[0m \u001b[0;34m=\u001b[0m \u001b[0mcheck_array\u001b[0m\u001b[0;34m(\u001b[0m\u001b[0msample_weight\u001b[0m\u001b[0;34m,\u001b[0m \u001b[0mensure_2d\u001b[0m\u001b[0;34m=\u001b[0m\u001b[0;32mFalse\u001b[0m\u001b[0;34m)\u001b[0m\u001b[0;34m\u001b[0m\u001b[0;34m\u001b[0m\u001b[0m\n\u001b[1;32m    156\u001b[0m \u001b[0;34m\u001b[0m\u001b[0m\n\u001b[0;32m--> 157\u001b[0;31m         \u001b[0mK\u001b[0m \u001b[0;34m=\u001b[0m \u001b[0mself\u001b[0m\u001b[0;34m.\u001b[0m\u001b[0m_get_kernel\u001b[0m\u001b[0;34m(\u001b[0m\u001b[0mX\u001b[0m\u001b[0;34m)\u001b[0m\u001b[0;34m\u001b[0m\u001b[0;34m\u001b[0m\u001b[0m\n\u001b[0m\u001b[1;32m    158\u001b[0m         \u001b[0malpha\u001b[0m \u001b[0;34m=\u001b[0m \u001b[0mnp\u001b[0m\u001b[0;34m.\u001b[0m\u001b[0matleast_1d\u001b[0m\u001b[0;34m(\u001b[0m\u001b[0mself\u001b[0m\u001b[0;34m.\u001b[0m\u001b[0malpha\u001b[0m\u001b[0;34m)\u001b[0m\u001b[0;34m\u001b[0m\u001b[0;34m\u001b[0m\u001b[0m\n\u001b[1;32m    159\u001b[0m \u001b[0;34m\u001b[0m\u001b[0m\n",
      "\u001b[0;32m~/anaconda3/envs/myspark/lib/python3.6/site-packages/sklearn/kernel_ridge.py\u001b[0m in \u001b[0;36m_get_kernel\u001b[0;34m(self, X, Y)\u001b[0m\n\u001b[1;32m    123\u001b[0m                       \"coef0\": self.coef0}\n\u001b[1;32m    124\u001b[0m         return pairwise_kernels(X, Y, metric=self.kernel,\n\u001b[0;32m--> 125\u001b[0;31m                                 filter_params=True, **params)\n\u001b[0m\u001b[1;32m    126\u001b[0m \u001b[0;34m\u001b[0m\u001b[0m\n\u001b[1;32m    127\u001b[0m     \u001b[0;34m@\u001b[0m\u001b[0mproperty\u001b[0m\u001b[0;34m\u001b[0m\u001b[0;34m\u001b[0m\u001b[0m\n",
      "\u001b[0;32m~/anaconda3/envs/myspark/lib/python3.6/site-packages/sklearn/metrics/pairwise.py\u001b[0m in \u001b[0;36mpairwise_kernels\u001b[0;34m(X, Y, metric, filter_params, n_jobs, **kwds)\u001b[0m\n\u001b[1;32m   1743\u001b[0m         \u001b[0;32mraise\u001b[0m \u001b[0mValueError\u001b[0m\u001b[0;34m(\u001b[0m\u001b[0;34m\"Unknown kernel %r\"\u001b[0m \u001b[0;34m%\u001b[0m \u001b[0mmetric\u001b[0m\u001b[0;34m)\u001b[0m\u001b[0;34m\u001b[0m\u001b[0;34m\u001b[0m\u001b[0m\n\u001b[1;32m   1744\u001b[0m \u001b[0;34m\u001b[0m\u001b[0m\n\u001b[0;32m-> 1745\u001b[0;31m     \u001b[0;32mreturn\u001b[0m \u001b[0m_parallel_pairwise\u001b[0m\u001b[0;34m(\u001b[0m\u001b[0mX\u001b[0m\u001b[0;34m,\u001b[0m \u001b[0mY\u001b[0m\u001b[0;34m,\u001b[0m \u001b[0mfunc\u001b[0m\u001b[0;34m,\u001b[0m \u001b[0mn_jobs\u001b[0m\u001b[0;34m,\u001b[0m \u001b[0;34m**\u001b[0m\u001b[0mkwds\u001b[0m\u001b[0;34m)\u001b[0m\u001b[0;34m\u001b[0m\u001b[0;34m\u001b[0m\u001b[0m\n\u001b[0m",
      "\u001b[0;32m~/anaconda3/envs/myspark/lib/python3.6/site-packages/sklearn/metrics/pairwise.py\u001b[0m in \u001b[0;36m_parallel_pairwise\u001b[0;34m(X, Y, func, n_jobs, **kwds)\u001b[0m\n\u001b[1;32m   1204\u001b[0m \u001b[0;34m\u001b[0m\u001b[0m\n\u001b[1;32m   1205\u001b[0m     \u001b[0;32mif\u001b[0m \u001b[0meffective_n_jobs\u001b[0m\u001b[0;34m(\u001b[0m\u001b[0mn_jobs\u001b[0m\u001b[0;34m)\u001b[0m \u001b[0;34m==\u001b[0m \u001b[0;36m1\u001b[0m\u001b[0;34m:\u001b[0m\u001b[0;34m\u001b[0m\u001b[0;34m\u001b[0m\u001b[0m\n\u001b[0;32m-> 1206\u001b[0;31m         \u001b[0;32mreturn\u001b[0m \u001b[0mfunc\u001b[0m\u001b[0;34m(\u001b[0m\u001b[0mX\u001b[0m\u001b[0;34m,\u001b[0m \u001b[0mY\u001b[0m\u001b[0;34m,\u001b[0m \u001b[0;34m**\u001b[0m\u001b[0mkwds\u001b[0m\u001b[0;34m)\u001b[0m\u001b[0;34m\u001b[0m\u001b[0;34m\u001b[0m\u001b[0m\n\u001b[0m\u001b[1;32m   1207\u001b[0m \u001b[0;34m\u001b[0m\u001b[0m\n\u001b[1;32m   1208\u001b[0m     \u001b[0;31m# enforce a threading backend to prevent data communication overhead\u001b[0m\u001b[0;34m\u001b[0m\u001b[0;34m\u001b[0m\u001b[0;34m\u001b[0m\u001b[0m\n",
      "\u001b[0;32m~/anaconda3/envs/myspark/lib/python3.6/site-packages/sklearn/metrics/pairwise.py\u001b[0m in \u001b[0;36madditive_chi2_kernel\u001b[0;34m(X, Y)\u001b[0m\n\u001b[1;32m   1096\u001b[0m \u001b[0;34m\u001b[0m\u001b[0m\n\u001b[1;32m   1097\u001b[0m     \u001b[0mresult\u001b[0m \u001b[0;34m=\u001b[0m \u001b[0mnp\u001b[0m\u001b[0;34m.\u001b[0m\u001b[0mzeros\u001b[0m\u001b[0;34m(\u001b[0m\u001b[0;34m(\u001b[0m\u001b[0mX\u001b[0m\u001b[0;34m.\u001b[0m\u001b[0mshape\u001b[0m\u001b[0;34m[\u001b[0m\u001b[0;36m0\u001b[0m\u001b[0;34m]\u001b[0m\u001b[0;34m,\u001b[0m \u001b[0mY\u001b[0m\u001b[0;34m.\u001b[0m\u001b[0mshape\u001b[0m\u001b[0;34m[\u001b[0m\u001b[0;36m0\u001b[0m\u001b[0;34m]\u001b[0m\u001b[0;34m)\u001b[0m\u001b[0;34m,\u001b[0m \u001b[0mdtype\u001b[0m\u001b[0;34m=\u001b[0m\u001b[0mX\u001b[0m\u001b[0;34m.\u001b[0m\u001b[0mdtype\u001b[0m\u001b[0;34m)\u001b[0m\u001b[0;34m\u001b[0m\u001b[0;34m\u001b[0m\u001b[0m\n\u001b[0;32m-> 1098\u001b[0;31m     \u001b[0m_chi2_kernel_fast\u001b[0m\u001b[0;34m(\u001b[0m\u001b[0mX\u001b[0m\u001b[0;34m,\u001b[0m \u001b[0mY\u001b[0m\u001b[0;34m,\u001b[0m \u001b[0mresult\u001b[0m\u001b[0;34m)\u001b[0m\u001b[0;34m\u001b[0m\u001b[0;34m\u001b[0m\u001b[0m\n\u001b[0m\u001b[1;32m   1099\u001b[0m     \u001b[0;32mreturn\u001b[0m \u001b[0mresult\u001b[0m\u001b[0;34m\u001b[0m\u001b[0;34m\u001b[0m\u001b[0m\n\u001b[1;32m   1100\u001b[0m \u001b[0;34m\u001b[0m\u001b[0m\n",
      "\u001b[0;31mKeyboardInterrupt\u001b[0m: "
     ]
    }
   ],
   "source": [
    "%%time\n",
    "best_additive_chi2_gamma = RunCrossValidation(drug_ids, 4, kernel='additive_chi2', param_tested = \"gamma\", \n",
    "                       param_tested_values = [0.00001, 0.0001, 0.01, 0.1, 1, 5], display_results=False)\n",
    "print(\"\")\n",
    "best_additive_chi2_alpha = RunCrossValidation(drug_ids, 4, kernel='additive_chi2', param_tested = \"alpha\", \n",
    "                                              gamma = best_additive_chi2_gamma,\n",
    "                                              param_tested_values = [0.00001, 0.0001, 0.01, 0.1, 1, 5], \n",
    "                                              display_results=False)\n",
    "print(\"\")"
   ]
  },
  {
   "cell_type": "markdown",
   "metadata": {},
   "source": [
    "### laplacian kernel"
   ]
  },
  {
   "cell_type": "code",
   "execution_count": null,
   "metadata": {
    "collapsed": true
   },
   "outputs": [],
   "source": [
    "%%time\n",
    "best_laplacian_gamma = RunCrossValidation(drug_ids, 4, kernel='laplacian', param_tested = \"gamma\", \n",
    "                       param_tested_values = [0.00001, 0.0001, 0.01, 0.1, 1, 5],\n",
    "                                          display_results=False)\n",
    "print(\"\")\n",
    "best_laplacian_alpha = RunCrossValidation(drug_ids, 4, kernel='laplacian', param_tested = \"alpha\", \n",
    "                                              gamma = best_laplacian_gamma,\n",
    "                                              param_tested_values = [0.00001, 0.0001, 0.01, 0.1, 1, 5],\n",
    "                                              display_results=False)\n",
    "print(\"\")"
   ]
  },
  {
   "cell_type": "markdown",
   "metadata": {},
   "source": [
    "### Training and testing Kernels with best parameter"
   ]
  },
  {
   "cell_type": "code",
   "execution_count": null,
   "metadata": {
    "collapsed": true
   },
   "outputs": [],
   "source": [
    "tests={}\n",
    "\n",
    "# linear kernel\n",
    "tests[\"linear\"] = TestTunedKernels(drug_ids, 4, kernel='linear', alpha=best_linear_alpha, \n",
    "                 gamma=None, degree=3, coef0=1, metrics = \"mse\", display_results=False)\n",
    "\n",
    "# sigmoid kernel\n",
    "tests[\"sigmoid\"] = TestTunedKernels(drug_ids, 4, kernel='sigmoid', alpha=best_sigmoid_alpha, \n",
    "                 gamma= best_sigmoid_gamma, coef0= best_sigmoid_coef0,\n",
    "                 degree=1, metrics = \"mse\", display_results=False)\n",
    "\n",
    "# rbf kernel:\n",
    "\n",
    "tests['rbf'] = TestTunedKernels(drug_ids, 4, kernel='rbf', alpha=best_rbf_alpha, gamma= best_rbf_gamma, \n",
    "                 degree=3, metrics = \"mse\", display_results=False)\n",
    "\n",
    "# polynomial kernel:\n",
    "\n",
    "tests['polynomial'] = TestTunedKernels(drug_ids, 4, kernel='polynomial', alpha=best_rbf_alpha, gamma= best_polynomial_gamma, \n",
    "                 degree=1, metrics = \"mse\", display_results=False)\n",
    "\n",
    "# additive_chi2 kernel:\n",
    "\n",
    "tests['additive_chi2'] = TestTunedKernels(drug_ids, 4, kernel='additive_chi2', alpha=best_additive_chi2_alpha, \n",
    "                 gamma= best_additive_chi2_gamma, \n",
    "                 degree=1, metrics = \"mse\", display_results=False)\n",
    "\n",
    "# laplacian kernel:\n",
    "df = TestTunedKernels(drug_ids, 4, kernel='laplacian', alpha=best_laplacian_alpha, \n",
    "                 gamma= best_laplacian_gamma, \n",
    "                 degree=1, metrics = \"mse\", display_results=False)\n",
    "tests['laplacian'] = df\n",
    "\n",
    "kernels = [\"linear\", \"sigmoid\", \"rbf\", \"polynomial\",\"additive_chi2\",\"laplacian\"]\n",
    "best_kernels = {}\n",
    "for i in range(4):\n",
    "    test_kernels_comparison = pd.DataFrame(index=[\"mean\", \"min\", \"max\"])\n",
    "    \n",
    "    for kernel in kernels:\n",
    "        test_kernels_comparison[kernel] = tests[kernel][tests[kernel].columns[i]]\n",
    "    display(test_kernels_comparison)\n",
    "    best_kernels[i+1]= test_kernels_comparison.loc[\"mean\", :].idxmin(axis=1)\n",
    "    print(\"Coefficient: %d, best kernel: %s\" % (i+1, best_kernels[i+1]))\n",
    "best_kernels"
   ]
  },
  {
   "cell_type": "code",
   "execution_count": null,
   "metadata": {
    "collapsed": true
   },
   "outputs": [],
   "source": [
    "best_kernels"
   ]
  },
  {
   "cell_type": "code",
   "execution_count": null,
   "metadata": {
    "collapsed": true
   },
   "outputs": [],
   "source": []
  }
 ],
 "metadata": {
  "kernelspec": {
   "display_name": "Python [conda env:jupyter-spark]",
   "language": "python",
   "name": "conda-env-jupyter-spark-py"
  },
  "language_info": {
   "codemirror_mode": {
    "name": "ipython",
    "version": 3
   },
   "file_extension": ".py",
   "mimetype": "text/x-python",
   "name": "python",
   "nbconvert_exporter": "python",
   "pygments_lexer": "ipython3",
   "version": "3.6.5"
  }
 },
 "nbformat": 4,
 "nbformat_minor": 2
}
