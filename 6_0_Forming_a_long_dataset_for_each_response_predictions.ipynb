{
 "cells": [
  {
   "cell_type": "markdown",
   "metadata": {},
   "source": [
    "## Forming a large dataset"
   ]
  },
  {
   "cell_type": "markdown",
   "metadata": {},
   "source": [
    "Transforming the datasets so that it has only 1 concentration and one response, i.e. increase the dataset in 10 times\n"
   ]
  },
  {
   "cell_type": "code",
   "execution_count": 1,
   "metadata": {},
   "outputs": [],
   "source": [
    "import pandas as pd\n",
    "import numpy as np\n",
    "import os\n",
    "\n",
    "from sklearn.svm import SVR\n",
    "from sklearn.preprocessing import MinMaxScaler\n",
    "from sklearn.metrics import r2_score\n",
    "import warnings\n",
    "warnings.filterwarnings(\"ignore\")\n",
    "_FOLDER =\"results/\""
   ]
  },
  {
   "cell_type": "code",
   "execution_count": 2,
   "metadata": {},
   "outputs": [],
   "source": [
    "def PrepareDataSets(dict_data_type, training_data_type):\n",
    "    with open(dict_data_type[training_data_type][\"drug_ids_list\"], 'r') as f:\n",
    "        drug_ids_50 = [np.int32(line.rstrip('\\n')) for line in f]\n",
    "    \n",
    "    train_df = pd.read_csv(dict_data_type[training_data_type][\"train_df\"]).drop([\"Unnamed: 0\",\"Unnamed: 0.1\"], axis=1)\n",
    "    test_df = pd.read_csv(dict_data_type[training_data_type][\"test_df\"]).drop([\"Unnamed: 0\",\"Unnamed: 0.1\"], axis=1)               \n",
    "\n",
    "    train = train_df.set_index(\"DRUG_ID\").loc[drug_ids_50, :].copy()\n",
    "    test = test_df.set_index(\"DRUG_ID\").loc[drug_ids_50, :].copy()\n",
    "\n",
    "    return train, test"
   ]
  },
  {
   "cell_type": "code",
   "execution_count": 3,
   "metadata": {},
   "outputs": [],
   "source": [
    "with open(_FOLDER+\"X_features_cancer_cell_lines.txt\", 'r') as f:\n",
    "    X_cancer_cell_lines = [line.rstrip('\\n') for line in f]\n",
    "# *****************************************\n",
    "\n",
    "with open(_FOLDER+\"X_PubChem_properties.txt\", 'r') as f:\n",
    "    X_PubChem_properties = [line.rstrip('\\n') for line in f]\n",
    "# *****************************************\n",
    "\n",
    "with open(_FOLDER+\"X_features_Targets.txt\", 'r') as f:\n",
    "    X_targets = [line.rstrip('\\n') for line in f]\n",
    "# *****************************************\n",
    "\n",
    "with open(_FOLDER+\"X_features_Target_Pathway.txt\", 'r') as f:\n",
    "    X_target_pathway = [line.rstrip('\\n') for line in f]\n",
    "# *****************************************\n",
    "\n",
    "all_columns = X_cancer_cell_lines + X_PubChem_properties + X_targets + X_target_pathway +[\"MAX_CONC\"]\n",
    "\n",
    "datasets = [\"Dataset_1\", \"Dataset_2\", \"Dataset_3\", \"Dataset_4\"]\n",
    "\n",
    "X_feat_dict = {\"Dataset_1\": X_cancer_cell_lines ,\n",
    "               \"Dataset_2\": [\"MAX_CONC\"] + X_targets + X_target_pathway + X_cancer_cell_lines ,\n",
    "               \"Dataset_3\": [\"MAX_CONC\"] + X_PubChem_properties +  X_cancer_cell_lines,\n",
    "               \"Dataset_4\": [\"MAX_CONC\"] + X_PubChem_properties +  X_targets + X_target_pathway + X_cancer_cell_lines}\n",
    "dict_data_type = {\n",
    "    \"original_data\": {\n",
    "        \"drug_ids_list\": _FOLDER + \"drug_ids_50.txt\", \n",
    "        \"train_df\" : _FOLDER + \"train08_merged_fitted_sigmoid4_123_with_drugs_properties_min10.csv\",\n",
    "        \"test_df\" : _FOLDER + \"test02_merged_fitted_sigmoid4_123_with_drugs_properties_min10.csv\"},\n",
    "    \n",
    "    \"reduced_by_R2_data\": {\n",
    "        \"drug_ids_list\": _FOLDER +\"drug_ids_50_restr.txt\", \n",
    "        \"train_df\" : _FOLDER + \"train08_min10_restr.csv\",\n",
    "        \"test_df\" : _FOLDER + \"test02_min10_restr.csv\"}\n",
    "}"
   ]
  },
  {
   "cell_type": "code",
   "execution_count": 4,
   "metadata": {},
   "outputs": [
    {
     "data": {
      "text/plain": [
       "((781, 1379), (202, 1379))"
      ]
     },
     "execution_count": 4,
     "metadata": {},
     "output_type": "execute_result"
    }
   ],
   "source": [
    "training_data_type= \"original_data\"\n",
    "\n",
    "train_df_50, test_df_50 = PrepareDataSets(dict_data_type, training_data_type = \"original_data\")\n",
    "train_df_50.shape, test_df_50.shape"
   ]
  },
  {
   "cell_type": "markdown",
   "metadata": {},
   "source": [
    "## Making a long dataset"
   ]
  },
  {
   "cell_type": "markdown",
   "metadata": {},
   "source": [
    "### Original data"
   ]
  },
  {
   "cell_type": "code",
   "execution_count": 5,
   "metadata": {},
   "outputs": [
    {
     "data": {
      "text/plain": [
       "((7810, 1356), (2020, 1356))"
      ]
     },
     "execution_count": 5,
     "metadata": {},
     "output_type": "execute_result"
    }
   ],
   "source": [
    "train_df_50, test_df_50 = PrepareDataSets(dict_data_type, training_data_type = \"original_data\")\n",
    "train_df_50.shape, test_df_50.shape\n",
    "\n",
    "columns_to_use = [\"Drug_Name\", \"COSMIC_ID\"] + X_feat_dict[\"Dataset_4\"]\n",
    "\n",
    "df_train = pd.DataFrame()\n",
    "for i in range(10):\n",
    "    df_train = pd.concat([df_train, train_df_50[columns_to_use + [\"fd_num_\" + str(i), \"norm_cells_\" + str(i)]].rename(\n",
    "                                    columns={\"fd_num_\" + str(i): \"scaled_x\", \n",
    "                                             \"norm_cells_\" + str(i): \"norm_y\"})],\n",
    "                          axis=0, ignore_index = False)\n",
    "    \n",
    "df_train.shape, train_df_50.shape\n",
    "\n",
    "set(train_df_50.columns) - set(df_train.columns) - set([\"fd_num_\"+str(i) for i in range(10)]) - set([\"norm_cells_\"+str(i) for i in range(10)])\n",
    "\n",
    "df_test = pd.DataFrame()\n",
    "for i in range(10):\n",
    "    df_test = pd.concat([df_test, test_df_50[columns_to_use + [\"fd_num_\" + str(i), \"norm_cells_\" + str(i)]].rename(\n",
    "                                    columns={\"fd_num_\" + str(i): \"scaled_x\", \n",
    "                                             \"norm_cells_\" + str(i): \"norm_y\"})],\n",
    "                          axis=0, ignore_index = False)\n",
    "    \n",
    "df_train.shape, df_test.shape"
   ]
  },
  {
   "cell_type": "code",
   "execution_count": 6,
   "metadata": {},
   "outputs": [],
   "source": [
    "df_train.to_csv(_FOLDER +\"large_train_sigmoid4.csv\")\n",
    "df_test.to_csv(_FOLDER +\"large_test_sigmoid4.csv\")"
   ]
  },
  {
   "cell_type": "markdown",
   "metadata": {},
   "source": [
    "### Reduced by R2 data"
   ]
  },
  {
   "cell_type": "code",
   "execution_count": 7,
   "metadata": {},
   "outputs": [
    {
     "data": {
      "text/plain": [
       "((7230, 1356), (1850, 1356))"
      ]
     },
     "execution_count": 7,
     "metadata": {},
     "output_type": "execute_result"
    }
   ],
   "source": [
    "train_df_50, test_df_50 = PrepareDataSets(dict_data_type, training_data_type = \"reduced_by_R2_data\")\n",
    "train_df_50.shape, test_df_50.shape\n",
    "\n",
    "columns_to_use = [\"Drug_Name\", \"COSMIC_ID\"] + X_feat_dict[\"Dataset_4\"]\n",
    "\n",
    "df_train = pd.DataFrame()\n",
    "for i in range(10):\n",
    "    df_train = pd.concat([df_train, train_df_50[columns_to_use + [\"fd_num_\" + str(i), \"norm_cells_\" + str(i)]].rename(\n",
    "                                    columns={\"fd_num_\" + str(i): \"scaled_x\", \n",
    "                                             \"norm_cells_\" + str(i): \"norm_y\"})],\n",
    "                          axis=0, ignore_index = False)\n",
    "    \n",
    "df_train.shape, train_df_50.shape\n",
    "\n",
    "set(train_df_50.columns) - set(df_train.columns) - set([\"fd_num_\"+str(i) for i in range(10)]) - set([\"norm_cells_\"+str(i) for i in range(10)])\n",
    "\n",
    "df_test = pd.DataFrame()\n",
    "for i in range(10):\n",
    "    df_test = pd.concat([df_test, test_df_50[columns_to_use + [\"fd_num_\" + str(i), \"norm_cells_\" + str(i)]].rename(\n",
    "                                    columns={\"fd_num_\" + str(i): \"scaled_x\", \n",
    "                                             \"norm_cells_\" + str(i): \"norm_y\"})],\n",
    "                          axis=0, ignore_index = False)\n",
    "    \n",
    "df_train.shape, df_test.shape"
   ]
  },
  {
   "cell_type": "code",
   "execution_count": 8,
   "metadata": {},
   "outputs": [],
   "source": [
    "df_train.to_csv(_FOLDER +\"large_train_sigmoid4_restr.csv\")\n",
    "df_test.to_csv(_FOLDER +\"large_test_sigmoid4_restr.csv\")"
   ]
  }
 ],
 "metadata": {
  "kernelspec": {
   "display_name": "myspark",
   "language": "python",
   "name": "myspark"
  },
  "language_info": {
   "codemirror_mode": {
    "name": "ipython",
    "version": 3
   },
   "file_extension": ".py",
   "mimetype": "text/x-python",
   "name": "python",
   "nbconvert_exporter": "python",
   "pygments_lexer": "ipython3",
   "version": "3.6.10"
  }
 },
 "nbformat": 4,
 "nbformat_minor": 4
}
