{
 "cells": [
  {
   "cell_type": "markdown",
   "metadata": {},
   "source": [
    "## Predict one-by-one"
   ]
  },
  {
   "cell_type": "markdown",
   "metadata": {},
   "source": [
    "The main idea - follow the same procedure in grid search of hyperparameters\n",
    "as it was for the all drugs training\n",
    "The only difference is:\n",
    "    - the transformation of the datasets, \n",
    "    - usage of a drug dosage column as an additional feature \n",
    "    - concentration on the separate normalised responses as target variables.\n",
    " "
   ]
  },
  {
   "cell_type": "code",
   "execution_count": 1,
   "metadata": {},
   "outputs": [],
   "source": [
    "import pandas as pd\n",
    "import numpy as np\n",
    "import warnings\n",
    "warnings.filterwarnings(\"ignore\")\n",
    "\n",
    "from sklearn.svm import SVR\n",
    "from sklearn.kernel_ridge import KernelRidge\n",
    "from sklearn.preprocessing import MinMaxScaler\n",
    "\n",
    "from sklearn.metrics import mean_absolute_error\n",
    "import time\n",
    "\n",
    "np.random.seed(123)\n",
    "\n",
    "# _FOLDER = \"/home/acq18mk/master/results/results/\"\n",
    "_FOLDER = \"results/\""
   ]
  },
  {
   "cell_type": "code",
   "execution_count": 2,
   "metadata": {},
   "outputs": [],
   "source": [
    "def ReadDataSets(dict_data_type, training_data_type):\n",
    "    with open(dict_data_type[training_data_type][\"drug_ids_list\"], 'r') as f:\n",
    "        drug_ids_50 = [np.int32(line.rstrip('\\n')) for line in f]\n",
    "    \n",
    "    train = pd.read_csv(dict_data_type[training_data_type][\"train_df\"]).set_index(\"DRUG_ID\")\n",
    "    test = pd.read_csv(dict_data_type[training_data_type][\"test_df\"]).set_index(\"DRUG_ID\")               \n",
    "\n",
    "    return train, test, drug_ids_50\n",
    "\n",
    "def mean_relative_error(y_true, y_pred):\n",
    "    return sum(abs(y_pred-y_true)*100/y_true)/len(y_true)"
   ]
  },
  {
   "cell_type": "code",
   "execution_count": 3,
   "metadata": {},
   "outputs": [],
   "source": [
    "with open(_FOLDER+\"X_features_cancer_cell_lines.txt\", 'r') as f:\n",
    "    X_cancer_cell_lines = [line.rstrip('\\n') for line in f]\n",
    "# *****************************************\n",
    "\n",
    "with open(_FOLDER+\"X_PubChem_properties.txt\", 'r') as f:\n",
    "    X_PubChem_properties = [line.rstrip('\\n') for line in f]\n",
    "# *****************************************\n",
    "\n",
    "with open(_FOLDER+\"X_features_Targets.txt\", 'r') as f:\n",
    "    X_targets = [line.rstrip('\\n') for line in f]\n",
    "# *****************************************\n",
    "\n",
    "with open(_FOLDER+\"X_features_Target_Pathway.txt\", 'r') as f:\n",
    "    X_target_pathway = [line.rstrip('\\n') for line in f]\n",
    "# *****************************************\n",
    "\n",
    "all_columns = X_cancer_cell_lines + X_PubChem_properties + X_targets + X_target_pathway +[\"MAX_CONC\"]\n",
    "\n",
    "dict_data_type = {\n",
    "    \"original_data\": {\n",
    "        \"drug_ids_list\": _FOLDER + \"drug_ids_50.txt\", \n",
    "        \"train_df\" : _FOLDER + \"large_train_sigmoid4.csv\",\n",
    "        \"test_df\" : _FOLDER + \"large_test_sigmoid4.csv\"},\n",
    "    \n",
    "    \"reduced_by_R2_data\": {\n",
    "        \"drug_ids_list\": _FOLDER +\"drug_ids_50_restr.txt\", \n",
    "        \"train_df\" : _FOLDER + \"large_train_sigmoid4_restr.csv\",\n",
    "        \"test_df\" : _FOLDER + \"large_test_sigmoid4_restr.csv\"}\n",
    "}"
   ]
  },
  {
   "cell_type": "markdown",
   "metadata": {},
   "source": [
    "## Original data"
   ]
  },
  {
   "cell_type": "code",
   "execution_count": 4,
   "metadata": {},
   "outputs": [],
   "source": [
    "df_train, df_test, drug_ids_50 = ReadDataSets(dict_data_type, training_data_type=\"original_data\")\n",
    "\n",
    "X_columns = [\"scaled_x\"] + [\"MAX_CONC\"] + X_PubChem_properties +  X_targets + X_target_pathway + X_cancer_cell_lines\n",
    "\n",
    "scaler = MinMaxScaler().fit(df_train[X_columns])\n",
    "X_train = scaler.transform(df_train[X_columns])\n",
    "y_train = df_train[\"norm_y\"].values\n",
    "\n",
    "X_test = scaler.transform(df_test[X_columns])\n",
    "y_test = df_test[\"norm_y\"].values"
   ]
  },
  {
   "cell_type": "markdown",
   "metadata": {},
   "source": [
    "## RBF KR as for Coef 4"
   ]
  },
  {
   "cell_type": "code",
   "execution_count": 5,
   "metadata": {},
   "outputs": [
    {
     "name": "stdout",
     "output_type": "stream",
     "text": [
      "MAE: 0.200 +/- 0.023\n",
      "MRE: 386.2 +/- 229.2\n",
      "\\AE for y<0.2: 0.239 +/- 0.105\n",
      "AE for y=[0.4,0.6]: 0.065 +/- 0.052\n",
      "AE for y>0.8: 0.227 +/- 0.084\n"
     ]
    }
   ],
   "source": [
    "# RBF KernelRidge\n",
    "i=4\n",
    "kernel = \"rbf\"\n",
    "alpha = 0.1\n",
    "gamma =  0.0001\n",
    "coef0 = 0.01\n",
    "model = KernelRidge(kernel = kernel, \n",
    "                    alpha=alpha, \n",
    "                    gamma = gamma,\n",
    "                    coef0= coef0)\n",
    "model.fit(X_train, y_train)  \n",
    "y_pred = model.predict(X_test)  \n",
    "abs_errors = abs(y_test - y_pred)\n",
    "rel_errors = abs((y_test - y_pred)*100/y_test)\n",
    "\n",
    "df_test[\"abs_error\"] = abs_errors\n",
    "df_test[\"rel_error\"] = rel_errors\n",
    "\n",
    "df_test[\"pred_norm_y\"] = y_pred\n",
    "\n",
    "mae = np.zeros(len(drug_ids_50))\n",
    "mre = np.zeros(len(drug_ids_50))\n",
    "for i, drug_id in list(enumerate(drug_ids_50)):\n",
    "    y_test_drug = df_test.loc[drug_id, \"norm_y\"].values\n",
    "    y_pred = df_test.loc[drug_id, \"pred_norm_y\"]\n",
    "    mae[i] = mean_absolute_error(y_test_drug, y_pred)\n",
    "    mre[i] = mean_relative_error(y_test_drug, y_pred)\n",
    "\n",
    "print(\"MAE: %0.3f +/- %0.3f\" % (mae.mean(), mae.std()))\n",
    "print(\"MRE: %0.1f +/- %0.1f\" % (mre.mean(), mre.std()))\n",
    "print(\"\\nAbsolute Erros:\")\n",
    "print(\"AE for y<0.2: %.3f +/- %.3f\" % (df_test[df_test[\"norm_y\"]<0.2][\"abs_error\"].mean(),\n",
    "                                        df_test[df_test[\"norm_y\"]<0.2][\"abs_error\"].std()))\n",
    "\n",
    "print(\"AE for y=[0.4,0.6]: %.3f +/- %.3f\" % (df_test[(df_test[\"norm_y\"]>0.4)&(df_test[\"norm_y\"]<0.6)][\"abs_error\"].mean(),\n",
    "                                        df_test[(df_test[\"norm_y\"]>0.4)&(df_test[\"norm_y\"]<0.6)][\"abs_error\"].std()))\n",
    "\n",
    "print(\"AE for y>0.8: %.3f +/- %.3f\" % (df_test[df_test[\"norm_y\"]>0.8][\"abs_error\"].mean(),\n",
    "                                        df_test[df_test[\"norm_y\"]>0.8][\"abs_error\"].std()))"
   ]
  },
  {
   "cell_type": "markdown",
   "metadata": {},
   "source": [
    "## RFE on the original data"
   ]
  },
  {
   "cell_type": "code",
   "execution_count": 6,
   "metadata": {},
   "outputs": [],
   "source": [
    "from sklearn.feature_selection import RFE"
   ]
  },
  {
   "cell_type": "raw",
   "metadata": {},
   "source": [
    "%%time\n",
    "kernel =\"linear\"\n",
    "C= 0.01\n",
    "epsilon = 0.1\n",
    "\n",
    "most_important = []\n",
    "\n",
    "estimator = SVR(kernel = \"linear\", C = C, epsilon = epsilon)\n",
    "\n",
    "# feature selector\n",
    "selector = RFE(estimator, n_features_to_select=50, step=10)\n",
    "selector = selector.fit(X_train, y_train)\n",
    "most_important = np.array(X_columns)[selector.support_]\n",
    "    \n",
    "#models parameters\n",
    "estimator.fit(X_train, y_train)\n",
    "print(\"Number of zero features:\", len(estimator.coef_[estimator.coef_==0]))\n",
    "print(\"Maximal importance:\", round(abs(estimator.coef_[0]).max(), 3))\n",
    "print(\"Number of features with importance more_0_01 :\", sum(abs(estimator.coef_[0])>0.01))\n",
    "\n",
    "from_CCLE = set(most_important) & set(X_cancer_cell_lines)\n",
    "print(\"from CCL:\", len(set(most_important) & set(X_cancer_cell_lines)))\n",
    "print(\"from PubChem_properties\",len( set(most_important) & set(X_PubChem_properties)))\n",
    "print(\"from targets:\", len(set(most_important) & set(X_targets)))\n",
    "print(\"from target pathway:\", len(set(most_important) & set(X_target_pathway)))\n",
    "most_important"
   ]
  },
  {
   "cell_type": "markdown",
   "metadata": {},
   "source": [
    "## Training on the reduced by R2 data"
   ]
  },
  {
   "cell_type": "code",
   "execution_count": 7,
   "metadata": {},
   "outputs": [
    {
     "name": "stdout",
     "output_type": "stream",
     "text": [
      "MAE: 0.201 +/- 0.025\n",
      "MRE: 397.2 +/- 289.5\n",
      "\\AE for y<0.2: 0.238 +/- 0.104\n",
      "AE for y=[0.4,0.6]: 0.073 +/- 0.055\n",
      "AE for y>0.8: 0.231 +/- 0.085\n"
     ]
    }
   ],
   "source": [
    "df_train, df_test, drug_ids_50 = ReadDataSets(dict_data_type, training_data_type=\"reduced_by_R2_data\")\n",
    "\n",
    "X_columns = [\"scaled_x\"] + [\"MAX_CONC\"] + X_PubChem_properties +  X_targets + X_target_pathway + X_cancer_cell_lines\n",
    "\n",
    "scaler = MinMaxScaler().fit(df_train[X_columns])\n",
    "X_train = scaler.transform(df_train[X_columns])\n",
    "y_train = df_train[\"norm_y\"].values\n",
    "\n",
    "X_test = scaler.transform(df_test[X_columns])\n",
    "y_test = df_test[\"norm_y\"].values\n",
    "\n",
    "# RBF KernelRidge\n",
    "i=4\n",
    "kernel = \"rbf\"\n",
    "alpha = 0.1\n",
    "gamma =  0.0001\n",
    "coef0 = 0.01\n",
    "model = KernelRidge(kernel = kernel, \n",
    "                    alpha=alpha, \n",
    "                    gamma = gamma,\n",
    "                    coef0= coef0)\n",
    "model.fit(X_train, y_train)  \n",
    "y_pred = model.predict(X_test)  \n",
    "abs_errors = abs(y_test - y_pred)\n",
    "rel_errors = abs((y_test - y_pred)*100/y_test)\n",
    "\n",
    "df_test[\"abs_error\"] = abs_errors\n",
    "df_test[\"rel_error\"] = rel_errors\n",
    "\n",
    "df_test[\"pred_norm_y\"] = y_pred\n",
    "\n",
    "mae = np.zeros(len(drug_ids_50))\n",
    "mre = np.zeros(len(drug_ids_50))\n",
    "for i, drug_id in list(enumerate(drug_ids_50)):\n",
    "    y_test_drug = df_test.loc[drug_id, \"norm_y\"].values\n",
    "    y_pred = df_test.loc[drug_id, \"pred_norm_y\"]\n",
    "    mae[i] = mean_absolute_error(y_test_drug, y_pred)\n",
    "    mre[i] = mean_relative_error(y_test_drug, y_pred)\n",
    "\n",
    "print(\"MAE: %0.3f +/- %0.3f\" % (mae.mean(), mae.std()))\n",
    "print(\"MRE: %0.1f +/- %0.1f\" % (mre.mean(), mre.std()))\n",
    "print(\"\\nAbsolute Erros:\")\n",
    "print(\"AE for y<0.2: %.3f +/- %.3f\" % (df_test[df_test[\"norm_y\"]<0.2][\"abs_error\"].mean(),\n",
    "                                        df_test[df_test[\"norm_y\"]<0.2][\"abs_error\"].std()))\n",
    "\n",
    "print(\"AE for y=[0.4,0.6]: %.3f +/- %.3f\" % (df_test[(df_test[\"norm_y\"]>0.4)&(df_test[\"norm_y\"]<0.6)][\"abs_error\"].mean(),\n",
    "                                        df_test[(df_test[\"norm_y\"]>0.4)&(df_test[\"norm_y\"]<0.6)][\"abs_error\"].std()))\n",
    "\n",
    "print(\"AE for y>0.8: %.3f +/- %.3f\" % (df_test[df_test[\"norm_y\"]>0.8][\"abs_error\"].mean(),\n",
    "                                        df_test[df_test[\"norm_y\"]>0.8][\"abs_error\"].std()))"
   ]
  },
  {
   "cell_type": "markdown",
   "metadata": {},
   "source": [
    "## RFE on the reduced data"
   ]
  },
  {
   "cell_type": "raw",
   "metadata": {},
   "source": [
    "%%time\n",
    "kernel =\"linear\"\n",
    "C= 0.01\n",
    "epsilon = 0.1\n",
    "\n",
    "most_important = []\n",
    "\n",
    "estimator = SVR(kernel = \"linear\", C = C, epsilon = epsilon)\n",
    "\n",
    "# feature selector\n",
    "selector = RFE(estimator, n_features_to_select=50, step=10)\n",
    "selector = selector.fit(X_train, y_train)\n",
    "most_important = np.array(X_columns)[selector.support_]\n",
    "    \n",
    "#models parameters\n",
    "estimator.fit(X_train, y_train)\n",
    "print(\"Number of zero features:\", len(estimator.coef_[estimator.coef_==0]))\n",
    "print(\"Maximal importance:\", round(abs(estimator.coef_[0]).max(), 3))\n",
    "print(\"Number of features with importance more_0_01 :\", sum(abs(estimator.coef_[0])>0.01))\n",
    "\n",
    "from_CCLE = set(most_important) & set(X_cancer_cell_lines)\n",
    "print(\"from CCL:\", len(set(most_important) & set(X_cancer_cell_lines)))\n",
    "print(\"from PubChem_properties\",len( set(most_important) & set(X_PubChem_properties)))\n",
    "print(\"from targets:\", len(set(most_important) & set(X_targets)))\n",
    "print(\"from target pathway:\", len(set(most_important) & set(X_target_pathway)))\n",
    "most_important"
   ]
  },
  {
   "cell_type": "code",
   "execution_count": null,
   "metadata": {},
   "outputs": [],
   "source": []
  },
  {
   "cell_type": "code",
   "execution_count": null,
   "metadata": {},
   "outputs": [],
   "source": []
  }
 ],
 "metadata": {
  "kernelspec": {
   "display_name": "myspark",
   "language": "python",
   "name": "myspark"
  },
  "language_info": {
   "codemirror_mode": {
    "name": "ipython",
    "version": 3
   },
   "file_extension": ".py",
   "mimetype": "text/x-python",
   "name": "python",
   "nbconvert_exporter": "python",
   "pygments_lexer": "ipython3",
   "version": "3.6.10"
  }
 },
 "nbformat": 4,
 "nbformat_minor": 4
}
