{
 "cells": [
  {
   "cell_type": "code",
   "execution_count": 1,
   "metadata": {},
   "outputs": [],
   "source": [
    "import pandas as pd\n",
    "import numpy as np\n",
    "import seaborn as sns\n",
    "import matplotlib.pyplot as plt\n",
    "%matplotlib inline\n",
    "from sklearn.metrics import r2_score\n",
    "from scipy.optimize import curve_fit\n",
    "from scipy.optimize import leastsq\n",
    "import scipy.optimize as opt\n",
    "from tqdm import tqdm\n",
    "import warnings\n",
    "warnings.filterwarnings(\"ignore\")\n",
    "\n",
    "from sklearn.kernel_ridge import KernelRidge\n",
    "from sklearn.model_selection import train_test_split\n",
    "from sklearn.metrics import mean_squared_error\n",
    "from sklearn.metrics import mean_absolute_error"
   ]
  },
  {
   "cell_type": "code",
   "execution_count": 2,
   "metadata": {},
   "outputs": [],
   "source": [
    "import os\n",
    "from data_preprocessing import FilteringCurves, ShowResponseCurves\n",
    "from fitting_curves import FittingColumn, ShowResponseCurvesWithFitting, compute_r2_score\n",
    "_FOLDER = \"./data/\""
   ]
  },
  {
   "cell_type": "code",
   "execution_count": 3,
   "metadata": {},
   "outputs": [
    {
     "data": {
      "text/plain": [
       "2.302585092994046"
      ]
     },
     "execution_count": 3,
     "metadata": {},
     "output_type": "execute_result"
    }
   ],
   "source": [
    "np.log(10)"
   ]
  },
  {
   "cell_type": "code",
   "execution_count": 4,
   "metadata": {},
   "outputs": [],
   "source": [
    "def TrainTestKernelByDrugLog(train_data, test_data, drug_ids, number_coefficients, kernel='linear', \n",
    "                          kernel_dict=None, kernel_param = None,\n",
    "                          alpha=1, gamma=None, degree=3, coef0=1):\n",
    "    \n",
    "    conc_columns= [\"fd_num_\"+str(i) for i in range(10)]\n",
    "    response_norm = ['norm_cells_'+str(i) for i in range(10)]\n",
    "    param_cols = [\"param_\"+str(i) for i in range(1,5)]\n",
    "    df_results = test_data[['COSMIC_ID', 'DRUG_ID'] + conc_columns + response_norm + param_cols].copy()\n",
    "    \n",
    "    #check whether each coefficient needs its own parameters\n",
    "\n",
    "    for drug_id in drug_ids:\n",
    "        indexes_train = train_data[train_data[\"DRUG_ID\"]==drug_id].index\n",
    "        indexes_test = test_data[test_data[\"DRUG_ID\"]==drug_id].index\n",
    "    \n",
    "        X_train = train_data.loc[indexes_train, train_data.columns[26:-4]].values\n",
    "        X_test = test_data.loc[indexes_test, test_data.columns[26:-4]].values\n",
    "    \n",
    "        for i in range(number_coefficients):\n",
    "            #check whether each coefficient needs its own parameters\n",
    "            if kernel_dict:\n",
    "                kernel = kernel_dict[i+1]\n",
    "                alpha_value = np.float32(kernel_param[kernel][\"alpha\"][i+1])\n",
    "                try:\n",
    "                    gamma_value = np.float32(kernel_param[kernel][\"gamma\"][i+1])\n",
    "                    degree_value = np.float32(kernel_param[kernel][\"degree\"][i+1])\n",
    "                    coef0_value = np.float32(kernel_param[kernel][\"coef0\"][i+1])\n",
    "                except:\n",
    "                    gamma_value = gamma\n",
    "                    degree_value = degree\n",
    "                    coef0_value = coef0\n",
    "            #if kernel is a string (i.e the same for all parameters)\n",
    "            else:\n",
    "                if type(alpha)==dict:\n",
    "                    alpha_value = alpha[i+1]\n",
    "                else:\n",
    "                    alpha_value = alpha\n",
    "                \n",
    "                if type(gamma)==dict:\n",
    "                    gamma_value = gamma[i+1]\n",
    "                else:\n",
    "                    gamma_value = gamma\n",
    "            \n",
    "                if type(degree)==dict:\n",
    "                    degree_value = degree[i+1]\n",
    "                else:\n",
    "                    degree_value = degree\n",
    "                \n",
    "                if type(coef0)==dict:\n",
    "                    coef0_value = coef0[i+1]\n",
    "                else:\n",
    "                    coef0_value = coef0\n",
    "                    \n",
    "            #log transformation to limit predicted values\n",
    "            \n",
    "            y_train_log = np.log(abs(train_data.loc[indexes_train, \"param_\"+str(i+1)].values))\n",
    "            \n",
    "            kernel_model_log = KernelRidge(kernel=kernel, alpha=alpha_value,\n",
    "                                            gamma=gamma_value,\n",
    "                                            degree=degree_value,\n",
    "                                            coef0=coef0_value)\n",
    "            \n",
    "            kernel_model_log.fit(X_train, y_train_log)\n",
    "            # predictions - log(y), need to transform them back\n",
    "            y_pred = kernel_model_log.predict(X_test)\n",
    "            if i!=2:\n",
    "                df_results.loc[indexes_test, \"log_pred_param_\"+str(i+1)] = np.exp(y_pred)\n",
    "            else:\n",
    "                df_results.loc[indexes_test, \"log_pred_param_\"+str(3)] = np.exp(-y_pred)\n",
    "            # usual training for comparison\n",
    "            y_train = train_data.loc[indexes_train, \"param_\"+str(i+1)].values\n",
    "\n",
    "            kernel_model = KernelRidge(kernel = kernel, alpha = alpha_value, gamma=gamma_value, \n",
    "                                 degree=degree_value, coef0=coef0_value)\n",
    "            \n",
    "            kernel_model.fit(X_train, y_train)\n",
    "            y_pred = kernel_model.predict(X_test)\n",
    "            df_results.loc[indexes_test, \"pred_param_\"+str(i+1)] = y_pred\n",
    "        \n",
    "    return df_results\n",
    "\n",
    "def ComputeErrorByDrug(df_results, pred_param_cols, number_coefficients, metrics=\"mse\", col_name_start =\"\"):\n",
    "    df_errors_test = pd.DataFrame()\n",
    "    for drug_id in df_results[\"DRUG_ID\"].unique():\n",
    "        for i in range(number_coefficients):\n",
    "            drug_index = df_results[df_results[\"DRUG_ID\"]==drug_id].index\n",
    "            y_test = df_results.loc[drug_index, \"param_\"+str(i+1)]\n",
    "            y_pred = df_results.loc[drug_index, pred_param_cols]\n",
    "            if metrics == \"mse\":\n",
    "                error = mean_squared_error(y_test, y_pred)\n",
    "            elif metrics == \"mae\":\n",
    "                error = mean_absolute_error(y_test, y_pred)\n",
    "            else:\n",
    "                print(\"ERROR: Unknown metrics\")\n",
    "            df_errors_test.loc[drug_id, col_name_start+metrics+\"_coef_\"+str(i+1)] = error\n",
    "    return df_errors_test"
   ]
  },
  {
   "cell_type": "code",
   "execution_count": 5,
   "metadata": {},
   "outputs": [
    {
     "data": {
      "text/plain": [
       "['merged_drug_profiles_sigmoid4_23.csv',\n",
       " 'filtered_drug_profiles_13.csv',\n",
       " 'filtered_drug_profiles_12.csv',\n",
       " 'filtered_drug_profiles_23.csv',\n",
       " 'filtered_drug_profiles.csv',\n",
       " 'merged_drug_profiles_sigmoid4_123.csv',\n",
       " 'filtered_drug_profiles_123.csv']"
      ]
     },
     "execution_count": 5,
     "metadata": {},
     "output_type": "execute_result"
    }
   ],
   "source": [
    "os.listdir(\"./results/\")"
   ]
  },
  {
   "cell_type": "code",
   "execution_count": 6,
   "metadata": {},
   "outputs": [
    {
     "data": {
      "text/plain": [
       "(2612, 1100)"
      ]
     },
     "execution_count": 6,
     "metadata": {},
     "output_type": "execute_result"
    }
   ],
   "source": [
    "# NEED TO CHANGE - what file to read\n",
    "df = pd.read_csv(\"./results/merged_drug_profiles_sigmoid4_123.csv\")\n",
    "df.shape"
   ]
  },
  {
   "cell_type": "code",
   "execution_count": 7,
   "metadata": {},
   "outputs": [],
   "source": [
    "conc_columns= [\"fd_num_\"+str(i) for i in range(10)]\n",
    "response_norm = ['norm_cells_'+str(i) for i in range(10)]"
   ]
  },
  {
   "cell_type": "code",
   "execution_count": 8,
   "metadata": {},
   "outputs": [
    {
     "data": {
      "text/html": [
       "<div>\n",
       "<style scoped>\n",
       "    .dataframe tbody tr th:only-of-type {\n",
       "        vertical-align: middle;\n",
       "    }\n",
       "\n",
       "    .dataframe tbody tr th {\n",
       "        vertical-align: top;\n",
       "    }\n",
       "\n",
       "    .dataframe thead th {\n",
       "        text-align: right;\n",
       "    }\n",
       "</style>\n",
       "<table border=\"1\" class=\"dataframe\">\n",
       "  <thead>\n",
       "    <tr style=\"text-align: right;\">\n",
       "      <th></th>\n",
       "      <th>DRUG_ID</th>\n",
       "      <th>count_cell_lines</th>\n",
       "      <th>Drug Name</th>\n",
       "      <th>Synonyms</th>\n",
       "      <th>Target</th>\n",
       "      <th>Target Pathway</th>\n",
       "    </tr>\n",
       "  </thead>\n",
       "  <tbody>\n",
       "    <tr>\n",
       "      <th>0</th>\n",
       "      <td>328</td>\n",
       "      <td>115</td>\n",
       "      <td>SNX-2112</td>\n",
       "      <td>SNX 2112</td>\n",
       "      <td>HSP90</td>\n",
       "      <td>Protein stability and degradation</td>\n",
       "    </tr>\n",
       "    <tr>\n",
       "      <th>1</th>\n",
       "      <td>272</td>\n",
       "      <td>107</td>\n",
       "      <td>AR-42</td>\n",
       "      <td>HDAC-42, AR 42, AR42</td>\n",
       "      <td>HDAC1</td>\n",
       "      <td>Chromatin histone acetylation</td>\n",
       "    </tr>\n",
       "    <tr>\n",
       "      <th>2</th>\n",
       "      <td>273</td>\n",
       "      <td>106</td>\n",
       "      <td>CUDC-101</td>\n",
       "      <td>CUDC 101</td>\n",
       "      <td>HDAC1-10, EGFR, ERBB2</td>\n",
       "      <td>Other</td>\n",
       "    </tr>\n",
       "    <tr>\n",
       "      <th>3</th>\n",
       "      <td>170</td>\n",
       "      <td>102</td>\n",
       "      <td>Shikonin</td>\n",
       "      <td>Anchusin</td>\n",
       "      <td>not defined</td>\n",
       "      <td>Other</td>\n",
       "    </tr>\n",
       "    <tr>\n",
       "      <th>4</th>\n",
       "      <td>274</td>\n",
       "      <td>100</td>\n",
       "      <td>Belinostat</td>\n",
       "      <td>PXD101, PXD-101</td>\n",
       "      <td>HDAC1</td>\n",
       "      <td>Chromatin histone acetylation</td>\n",
       "    </tr>\n",
       "    <tr>\n",
       "      <th>5</th>\n",
       "      <td>276</td>\n",
       "      <td>100</td>\n",
       "      <td>CAY10603</td>\n",
       "      <td>-</td>\n",
       "      <td>HDAC1, HDAC6</td>\n",
       "      <td>Chromatin histone acetylation</td>\n",
       "    </tr>\n",
       "    <tr>\n",
       "      <th>6</th>\n",
       "      <td>200</td>\n",
       "      <td>87</td>\n",
       "      <td>Dacinostat</td>\n",
       "      <td>NVP-LAQ824, LAQ824</td>\n",
       "      <td>HDAC1</td>\n",
       "      <td>Chromatin histone acetylation</td>\n",
       "    </tr>\n",
       "    <tr>\n",
       "      <th>7</th>\n",
       "      <td>219</td>\n",
       "      <td>86</td>\n",
       "      <td>AT-7519</td>\n",
       "      <td>AT7519</td>\n",
       "      <td>CDK1, CDK2, CDK4, CDK6, CDK9</td>\n",
       "      <td>Cell cycle</td>\n",
       "    </tr>\n",
       "    <tr>\n",
       "      <th>8</th>\n",
       "      <td>180</td>\n",
       "      <td>72</td>\n",
       "      <td>Thapsigargin</td>\n",
       "      <td>Octanoic acid</td>\n",
       "      <td>SERCA</td>\n",
       "      <td>Other</td>\n",
       "    </tr>\n",
       "    <tr>\n",
       "      <th>9</th>\n",
       "      <td>346</td>\n",
       "      <td>57</td>\n",
       "      <td>THZ-2-102-1</td>\n",
       "      <td>-</td>\n",
       "      <td>CDK7</td>\n",
       "      <td>Cell cycle</td>\n",
       "    </tr>\n",
       "  </tbody>\n",
       "</table>\n",
       "</div>"
      ],
      "text/plain": [
       "   DRUG_ID  count_cell_lines     Drug Name              Synonyms  \\\n",
       "0      328               115      SNX-2112              SNX 2112   \n",
       "1      272               107         AR-42  HDAC-42, AR 42, AR42   \n",
       "2      273               106      CUDC-101              CUDC 101   \n",
       "3      170               102      Shikonin              Anchusin   \n",
       "4      274               100    Belinostat       PXD101, PXD-101   \n",
       "5      276               100      CAY10603                     -   \n",
       "6      200                87    Dacinostat    NVP-LAQ824, LAQ824   \n",
       "7      219                86       AT-7519                AT7519   \n",
       "8      180                72  Thapsigargin         Octanoic acid   \n",
       "9      346                57   THZ-2-102-1                     -   \n",
       "\n",
       "                         Target                     Target Pathway  \n",
       "0                         HSP90  Protein stability and degradation  \n",
       "1                         HDAC1      Chromatin histone acetylation  \n",
       "2         HDAC1-10, EGFR, ERBB2                              Other  \n",
       "3                   not defined                              Other  \n",
       "4                         HDAC1      Chromatin histone acetylation  \n",
       "5                  HDAC1, HDAC6      Chromatin histone acetylation  \n",
       "6                         HDAC1      Chromatin histone acetylation  \n",
       "7  CDK1, CDK2, CDK4, CDK6, CDK9                         Cell cycle  \n",
       "8                         SERCA                              Other  \n",
       "9                          CDK7                         Cell cycle  "
      ]
     },
     "execution_count": 8,
     "metadata": {},
     "output_type": "execute_result"
    }
   ],
   "source": [
    "cell_features = pd.read_csv(_FOLDER+\"Cell_Line_Features_PANCAN_simple_MOBEM.tsv\", sep=\"\\t\")\n",
    "\n",
    "stat_data = df.groupby([\"DRUG_ID\"])[[\"COSMIC_ID\"]].count().rename(columns={\"COSMIC_ID\": \"count_cell_lines\"})\\\n",
    "            .sort_values(\"count_cell_lines\", ascending=False)\n",
    "    \n",
    "\n",
    "drug_features = pd.read_csv(_FOLDER+'/Drug_Features.csv').rename(columns = {\"Drug ID\": \"DRUG_ID\"})\n",
    "statistics = pd.merge(left = stat_data, right = drug_features, how= \"left\", on = \"DRUG_ID\").sort_values(\"count_cell_lines\", ascending =False)\n",
    "statistics.head(10)"
   ]
  },
  {
   "cell_type": "markdown",
   "metadata": {},
   "source": [
    "### Forming train and test sets with specified amount of each drug"
   ]
  },
  {
   "cell_type": "code",
   "execution_count": 9,
   "metadata": {},
   "outputs": [
    {
     "name": "stdout",
     "output_type": "stream",
     "text": [
      "(683, 1100) (300, 1100)\n",
      "CPU times: user 735 ms, sys: 87.9 ms, total: 823 ms\n",
      "Wall time: 1.13 s\n"
     ]
    }
   ],
   "source": [
    "%%time\n",
    "\n",
    "# select subsets for each drug and divide each of them into train and test data\n",
    "# concatenate all the train and test subsets\n",
    "\n",
    "gr = df.groupby([\"DRUG_ID\"])[\"COSMIC_ID\"].count()\n",
    "good_drug_ids = gr[gr>50].index\n",
    "len(good_drug_ids)\n",
    "\n",
    "train = pd.DataFrame(columns=df.columns)\n",
    "test = pd.DataFrame(columns=df.columns)\n",
    "\n",
    "for drug_id in good_drug_ids:\n",
    "    df_i = df[df[\"DRUG_ID\"]==drug_id]\n",
    "    np.random.seed(123)\n",
    "    indexes = np.random.permutation(df_i.index)\n",
    "    train_size = int(df_i.shape[0]*0.7)\n",
    "    indexes_train = indexes[:train_size]\n",
    "    indexes_test= indexes[train_size:]\n",
    "    \n",
    "    train_set = df_i.loc[indexes_train, :]\n",
    "    test_set = df_i.loc[indexes_test, :]\n",
    "    \n",
    "    train = pd.concat([train, train_set], axis=0)\n",
    "    test = pd.concat([test, test_set], axis=0)\n",
    "    \n",
    "print(train.shape, test.shape)"
   ]
  },
  {
   "cell_type": "markdown",
   "metadata": {},
   "source": [
    "### Training and testing with only one kernel for all fitting coefficients"
   ]
  },
  {
   "cell_type": "code",
   "execution_count": 10,
   "metadata": {},
   "outputs": [
    {
     "name": "stdout",
     "output_type": "stream",
     "text": [
      "Predicted values give higher R2 than fitted:\n"
     ]
    },
    {
     "data": {
      "text/html": [
       "<div>\n",
       "<style scoped>\n",
       "    .dataframe tbody tr th:only-of-type {\n",
       "        vertical-align: middle;\n",
       "    }\n",
       "\n",
       "    .dataframe tbody tr th {\n",
       "        vertical-align: top;\n",
       "    }\n",
       "\n",
       "    .dataframe thead th {\n",
       "        text-align: right;\n",
       "    }\n",
       "</style>\n",
       "<table border=\"1\" class=\"dataframe\">\n",
       "  <thead>\n",
       "    <tr style=\"text-align: right;\">\n",
       "      <th></th>\n",
       "      <th>DRUG_ID</th>\n",
       "      <th>r2_fitted</th>\n",
       "      <th>r2_predicted</th>\n",
       "    </tr>\n",
       "  </thead>\n",
       "  <tbody>\n",
       "    <tr>\n",
       "      <th>1606</th>\n",
       "      <td>219</td>\n",
       "      <td>5.050434e-08</td>\n",
       "      <td>0.71805</td>\n",
       "    </tr>\n",
       "  </tbody>\n",
       "</table>\n",
       "</div>"
      ],
      "text/plain": [
       "     DRUG_ID     r2_fitted  r2_predicted\n",
       "1606     219  5.050434e-08       0.71805"
      ]
     },
     "metadata": {},
     "output_type": "display_data"
    },
    {
     "name": "stdout",
     "output_type": "stream",
     "text": [
      "Predicted values that give R2 >0.9: 22\n"
     ]
    },
    {
     "data": {
      "text/html": [
       "<div>\n",
       "<style scoped>\n",
       "    .dataframe tbody tr th:only-of-type {\n",
       "        vertical-align: middle;\n",
       "    }\n",
       "\n",
       "    .dataframe tbody tr th {\n",
       "        vertical-align: top;\n",
       "    }\n",
       "\n",
       "    .dataframe thead th {\n",
       "        text-align: right;\n",
       "    }\n",
       "</style>\n",
       "<table border=\"1\" class=\"dataframe\">\n",
       "  <thead>\n",
       "    <tr style=\"text-align: right;\">\n",
       "      <th></th>\n",
       "      <th>DRUG_ID</th>\n",
       "      <th>r2_fitted</th>\n",
       "      <th>r2_predicted</th>\n",
       "      <th>r2_predicted_log</th>\n",
       "    </tr>\n",
       "  </thead>\n",
       "  <tbody>\n",
       "    <tr>\n",
       "      <th>2419</th>\n",
       "      <td>170</td>\n",
       "      <td>0.998540</td>\n",
       "      <td>0.923729</td>\n",
       "      <td>-0.233380</td>\n",
       "    </tr>\n",
       "    <tr>\n",
       "      <th>500</th>\n",
       "      <td>219</td>\n",
       "      <td>0.997481</td>\n",
       "      <td>0.935583</td>\n",
       "      <td>-0.211019</td>\n",
       "    </tr>\n",
       "    <tr>\n",
       "      <th>1855</th>\n",
       "      <td>219</td>\n",
       "      <td>0.998097</td>\n",
       "      <td>0.919643</td>\n",
       "      <td>-0.161799</td>\n",
       "    </tr>\n",
       "    <tr>\n",
       "      <th>81</th>\n",
       "      <td>219</td>\n",
       "      <td>0.998477</td>\n",
       "      <td>0.918837</td>\n",
       "      <td>-0.071578</td>\n",
       "    </tr>\n",
       "    <tr>\n",
       "      <th>944</th>\n",
       "      <td>219</td>\n",
       "      <td>0.998660</td>\n",
       "      <td>0.947403</td>\n",
       "      <td>-0.017889</td>\n",
       "    </tr>\n",
       "  </tbody>\n",
       "</table>\n",
       "</div>"
      ],
      "text/plain": [
       "     DRUG_ID  r2_fitted  r2_predicted  r2_predicted_log\n",
       "2419     170   0.998540      0.923729         -0.233380\n",
       "500      219   0.997481      0.935583         -0.211019\n",
       "1855     219   0.998097      0.919643         -0.161799\n",
       "81       219   0.998477      0.918837         -0.071578\n",
       "944      219   0.998660      0.947403         -0.017889"
      ]
     },
     "metadata": {},
     "output_type": "display_data"
    },
    {
     "name": "stdout",
     "output_type": "stream",
     "text": [
      "Log Predicted values that give R2 >0.9: 0\n"
     ]
    },
    {
     "data": {
      "text/html": [
       "<div>\n",
       "<style scoped>\n",
       "    .dataframe tbody tr th:only-of-type {\n",
       "        vertical-align: middle;\n",
       "    }\n",
       "\n",
       "    .dataframe tbody tr th {\n",
       "        vertical-align: top;\n",
       "    }\n",
       "\n",
       "    .dataframe thead th {\n",
       "        text-align: right;\n",
       "    }\n",
       "</style>\n",
       "<table border=\"1\" class=\"dataframe\">\n",
       "  <thead>\n",
       "    <tr style=\"text-align: right;\">\n",
       "      <th></th>\n",
       "      <th>DRUG_ID</th>\n",
       "      <th>r2_fitted</th>\n",
       "      <th>r2_predicted</th>\n",
       "      <th>r2_predicted_log</th>\n",
       "    </tr>\n",
       "  </thead>\n",
       "  <tbody>\n",
       "  </tbody>\n",
       "</table>\n",
       "</div>"
      ],
      "text/plain": [
       "Empty DataFrame\n",
       "Columns: [DRUG_ID, r2_fitted, r2_predicted, r2_predicted_log]\n",
       "Index: []"
      ]
     },
     "metadata": {},
     "output_type": "display_data"
    },
    {
     "name": "stdout",
     "output_type": "stream",
     "text": [
      "Results of direct fitting that gives R2 >0.9: 292\n"
     ]
    }
   ],
   "source": [
    "short_test = TrainTestKernelByDrugLog(train, test, good_drug_ids, number_coefficients=4, kernel='linear', alpha=1, gamma=None, degree=3, coef0=1)\n",
    "\n",
    "# parameters: x0, L, k, b\n",
    "# y = 1 / (L + np.exp(-k*(x-x0)))+b\n",
    "# Wang 1.0 / (1.0 + np.exp((x-p)/s)   x - dosage [0, 1], p - position, s - shape parameter\n",
    "short_test[['COSMIC_ID', 'DRUG_ID', \"param_1\",\"pred_param_1\",\"param_2\", \"pred_param_2\", \n",
    "            \"param_3\", \"pred_param_3\", \"param_4\", \"pred_param_4\"]].head()\n",
    "\n",
    "fitting_cols = [\"param_\"+str(i) for i in range(1,5)]\n",
    "pred_fitting_cols = [\"pred_param_\"+str(i) for i in range(1,5)]\n",
    "log_pred_fitting_cols = [\"log_pred_param_\"+str(i) for i in range(1,5)]\n",
    "fitting_function = \"sigmoid_4_param\"\n",
    "\n",
    "short_test[\"r2_fitted\"] = compute_r2_score(short_test, x_columns = conc_columns, y_columns = response_norm, \n",
    "                              fitting_parameters=fitting_cols, fitting_function = fitting_function)\n",
    "\n",
    "short_test[\"r2_predicted\"] = compute_r2_score(short_test, x_columns = conc_columns, y_columns = response_norm, \n",
    "                              fitting_parameters=pred_fitting_cols, fitting_function = fitting_function)\n",
    "\n",
    "short_test[\"r2_predicted_log\"] = compute_r2_score(short_test, x_columns = conc_columns, y_columns = response_norm, \n",
    "                              fitting_parameters=log_pred_fitting_cols, fitting_function = fitting_function)\n",
    "\n",
    "# only one case when predicted values was a better fit to original data than directly fitted\n",
    "print(\"Predicted values give higher R2 than fitted:\")\n",
    "display(short_test[short_test[\"r2_predicted\"]>short_test[\"r2_fitted\"]][[\"DRUG_ID\",\"r2_fitted\", \"r2_predicted\"]])\n",
    "\n",
    "print(\"Predicted values that give R2 >0.9:\", short_test[short_test[\"r2_predicted\"]>0.9][[\"DRUG_ID\",\"r2_fitted\", \"r2_predicted\"]].shape[0])\n",
    "display(short_test[short_test[\"r2_predicted\"]>0.9][[\"DRUG_ID\",\"r2_fitted\", \"r2_predicted\", \"r2_predicted_log\"]].head())\n",
    "\n",
    "print(\"Log Predicted values that give R2 >0.9:\", short_test[short_test[\"r2_predicted_log\"]>0.9].shape[0])\n",
    "display(short_test[short_test[\"r2_predicted_log\"]>0.9][[\"DRUG_ID\",\"r2_fitted\", \"r2_predicted\", \"r2_predicted_log\"]].head())\n",
    "\n",
    "print(\"Results of direct fitting that gives R2 >0.9:\", short_test[short_test[\"r2_fitted\"]>0.9].shape[0])"
   ]
  },
  {
   "cell_type": "code",
   "execution_count": 11,
   "metadata": {},
   "outputs": [
    {
     "name": "stdout",
     "output_type": "stream",
     "text": [
      "Predicted values give higher R2 than fitted:\n"
     ]
    },
    {
     "data": {
      "text/html": [
       "<div>\n",
       "<style scoped>\n",
       "    .dataframe tbody tr th:only-of-type {\n",
       "        vertical-align: middle;\n",
       "    }\n",
       "\n",
       "    .dataframe tbody tr th {\n",
       "        vertical-align: top;\n",
       "    }\n",
       "\n",
       "    .dataframe thead th {\n",
       "        text-align: right;\n",
       "    }\n",
       "</style>\n",
       "<table border=\"1\" class=\"dataframe\">\n",
       "  <thead>\n",
       "    <tr style=\"text-align: right;\">\n",
       "      <th></th>\n",
       "      <th>DRUG_ID</th>\n",
       "      <th>r2_fitted</th>\n",
       "      <th>r2_predicted</th>\n",
       "    </tr>\n",
       "  </thead>\n",
       "  <tbody>\n",
       "    <tr>\n",
       "      <th>1606</th>\n",
       "      <td>219</td>\n",
       "      <td>5.050434e-08</td>\n",
       "      <td>0.397983</td>\n",
       "    </tr>\n",
       "  </tbody>\n",
       "</table>\n",
       "</div>"
      ],
      "text/plain": [
       "     DRUG_ID     r2_fitted  r2_predicted\n",
       "1606     219  5.050434e-08      0.397983"
      ]
     },
     "metadata": {},
     "output_type": "display_data"
    },
    {
     "name": "stdout",
     "output_type": "stream",
     "text": [
      "Predicted values that give R2 >0.9: 56\n"
     ]
    },
    {
     "data": {
      "text/html": [
       "<div>\n",
       "<style scoped>\n",
       "    .dataframe tbody tr th:only-of-type {\n",
       "        vertical-align: middle;\n",
       "    }\n",
       "\n",
       "    .dataframe tbody tr th {\n",
       "        vertical-align: top;\n",
       "    }\n",
       "\n",
       "    .dataframe thead th {\n",
       "        text-align: right;\n",
       "    }\n",
       "</style>\n",
       "<table border=\"1\" class=\"dataframe\">\n",
       "  <thead>\n",
       "    <tr style=\"text-align: right;\">\n",
       "      <th></th>\n",
       "      <th>DRUG_ID</th>\n",
       "      <th>r2_fitted</th>\n",
       "      <th>r2_predicted</th>\n",
       "      <th>r2_predicted_log</th>\n",
       "    </tr>\n",
       "  </thead>\n",
       "  <tbody>\n",
       "    <tr>\n",
       "      <th>134</th>\n",
       "      <td>170</td>\n",
       "      <td>0.998072</td>\n",
       "      <td>0.975915</td>\n",
       "      <td>-0.021794</td>\n",
       "    </tr>\n",
       "    <tr>\n",
       "      <th>1076</th>\n",
       "      <td>170</td>\n",
       "      <td>0.999686</td>\n",
       "      <td>0.986524</td>\n",
       "      <td>-0.013487</td>\n",
       "    </tr>\n",
       "    <tr>\n",
       "      <th>742</th>\n",
       "      <td>170</td>\n",
       "      <td>0.999448</td>\n",
       "      <td>0.982892</td>\n",
       "      <td>-0.031913</td>\n",
       "    </tr>\n",
       "    <tr>\n",
       "      <th>1909</th>\n",
       "      <td>170</td>\n",
       "      <td>0.997694</td>\n",
       "      <td>0.970117</td>\n",
       "      <td>-0.023219</td>\n",
       "    </tr>\n",
       "    <tr>\n",
       "      <th>1768</th>\n",
       "      <td>170</td>\n",
       "      <td>0.999126</td>\n",
       "      <td>0.913019</td>\n",
       "      <td>-0.053705</td>\n",
       "    </tr>\n",
       "  </tbody>\n",
       "</table>\n",
       "</div>"
      ],
      "text/plain": [
       "     DRUG_ID  r2_fitted  r2_predicted  r2_predicted_log\n",
       "134      170   0.998072      0.975915         -0.021794\n",
       "1076     170   0.999686      0.986524         -0.013487\n",
       "742      170   0.999448      0.982892         -0.031913\n",
       "1909     170   0.997694      0.970117         -0.023219\n",
       "1768     170   0.999126      0.913019         -0.053705"
      ]
     },
     "metadata": {},
     "output_type": "display_data"
    },
    {
     "name": "stdout",
     "output_type": "stream",
     "text": [
      "Log Predicted values that give R2 >0.9: 0\n"
     ]
    },
    {
     "data": {
      "text/html": [
       "<div>\n",
       "<style scoped>\n",
       "    .dataframe tbody tr th:only-of-type {\n",
       "        vertical-align: middle;\n",
       "    }\n",
       "\n",
       "    .dataframe tbody tr th {\n",
       "        vertical-align: top;\n",
       "    }\n",
       "\n",
       "    .dataframe thead th {\n",
       "        text-align: right;\n",
       "    }\n",
       "</style>\n",
       "<table border=\"1\" class=\"dataframe\">\n",
       "  <thead>\n",
       "    <tr style=\"text-align: right;\">\n",
       "      <th></th>\n",
       "      <th>DRUG_ID</th>\n",
       "      <th>r2_fitted</th>\n",
       "      <th>r2_predicted</th>\n",
       "      <th>r2_predicted_log</th>\n",
       "    </tr>\n",
       "  </thead>\n",
       "  <tbody>\n",
       "  </tbody>\n",
       "</table>\n",
       "</div>"
      ],
      "text/plain": [
       "Empty DataFrame\n",
       "Columns: [DRUG_ID, r2_fitted, r2_predicted, r2_predicted_log]\n",
       "Index: []"
      ]
     },
     "metadata": {},
     "output_type": "display_data"
    },
    {
     "name": "stdout",
     "output_type": "stream",
     "text": [
      "Results of direct fitting that gives R2 >0.9: 292\n"
     ]
    }
   ],
   "source": [
    "# for sigmoid function fitting showed that hyperparameters for all the coefficients are the same,\n",
    "# and from the default values only gamma was different\n",
    "\n",
    "short_test = TrainTestKernelByDrugLog(train, test, good_drug_ids, number_coefficients=4, kernel='sigmoid', \n",
    "                                   alpha=1, gamma=0.00001, degree=3, coef0=1)\n",
    "\n",
    "# parameters: x0, L, k, b\n",
    "# y = 1 / (L + np.exp(-k*(x-x0)))+b\n",
    "# Wang 1.0 / (1.0 + np.exp((x-p)/s)   x - dosage [0, 1], p - position, s - shape parameter\n",
    "short_test[['COSMIC_ID', 'DRUG_ID', \"param_1\",\"pred_param_1\",\"param_2\", \"pred_param_2\", \n",
    "            \"param_3\", \"pred_param_3\", \"param_4\", \"pred_param_4\"]].head()\n",
    "\n",
    "fitting_cols = [\"param_\"+str(i) for i in range(1,5)]\n",
    "pred_fitting_cols = [\"pred_param_\"+str(i) for i in range(1,5)]\n",
    "log_pred_fitting_cols = [\"log_pred_param_\"+str(i) for i in range(1,5)]\n",
    "fitting_function = \"sigmoid_4_param\"\n",
    "\n",
    "short_test[\"r2_fitted\"] = compute_r2_score(short_test, x_columns = conc_columns, y_columns = response_norm, \n",
    "                              fitting_parameters=fitting_cols, fitting_function = fitting_function)\n",
    "\n",
    "short_test[\"r2_predicted\"] = compute_r2_score(short_test, x_columns = conc_columns, y_columns = response_norm, \n",
    "                              fitting_parameters=pred_fitting_cols, fitting_function = fitting_function)\n",
    "\n",
    "short_test[\"r2_predicted_log\"] = compute_r2_score(short_test, x_columns = conc_columns, y_columns = response_norm, \n",
    "                              fitting_parameters=log_pred_fitting_cols, fitting_function = fitting_function)\n",
    "\n",
    "# only one case when predicted values was a better fit to original data than directly fitted\n",
    "print(\"Predicted values give higher R2 than fitted:\")\n",
    "display(short_test[short_test[\"r2_predicted\"]>short_test[\"r2_fitted\"]][[\"DRUG_ID\",\"r2_fitted\", \"r2_predicted\"]])\n",
    "\n",
    "print(\"Predicted values that give R2 >0.9:\", short_test[short_test[\"r2_predicted\"]>0.9][[\"DRUG_ID\",\"r2_fitted\", \"r2_predicted\"]].shape[0])\n",
    "display(short_test[short_test[\"r2_predicted\"]>0.9][[\"DRUG_ID\",\"r2_fitted\", \"r2_predicted\", \"r2_predicted_log\"]].head())\n",
    "\n",
    "print(\"Log Predicted values that give R2 >0.9:\", short_test[short_test[\"r2_predicted_log\"]>0.9].shape[0])\n",
    "display(short_test[short_test[\"r2_predicted_log\"]>0.9][[\"DRUG_ID\",\"r2_fitted\", \"r2_predicted\", \"r2_predicted_log\"]].head())\n",
    "\n",
    "print(\"Results of direct fitting that gives R2 >0.9:\", short_test[short_test[\"r2_fitted\"]>0.9].shape[0])"
   ]
  },
  {
   "cell_type": "markdown",
   "metadata": {},
   "source": [
    "### Train and test with different kernels for different coefficients"
   ]
  },
  {
   "cell_type": "code",
   "execution_count": 13,
   "metadata": {},
   "outputs": [],
   "source": [
    "best_parameters_kernels_123 = {\n",
    "    \"linear\": {\"alpha\": {1: 200.0, 2: 100.0, 3: 100.0, 4: 50.0}},\n",
    "               \n",
    "    \"sigmoid\": {\"gamma\" :{1: 1e-05, 2: 1e-05, 3: 1e-05, 4: 0.01},\n",
    "                \"alpha\":  {1: 1.0, 2: 1.0, 3: 1.0, 4: 1.0},\n",
    "                \"coef0\" : {1: 1.0, 2: 1.0, 3: 1.0, 4: 1.0}\n",
    "               },\n",
    "               \n",
    "    \"rbf\" : {\"gamma\": {1: 1e-05, 2: 1.0, 3: 1.0, 4: 0.001},\n",
    "           \"alpha\" : {1: 10.0, 2: 10.0, 3: 10.0, 4: 5.0}\n",
    "          }, \n",
    "               \n",
    "    \"polynomial\" : { \"gamma\" : {1: 1e-05, 2: 1e-05, 3: 1e-05, 4: 1e-04},\n",
    "                    \"degree\" : {1: 1.0, 2: 1.0, 3: 1.0, 4: 5.0}, \n",
    "                    \"alpha\" : {1: 5.0, 2: 1.0, 3: 1.0, 4: 0.01}\n",
    "                   }}\n",
    "               \n",
    "best_kernels = {1: 'rbf', 2: 'rbf', 3: 'rbf', 4: 'rbf'}"
   ]
  },
  {
   "cell_type": "code",
   "execution_count": 17,
   "metadata": {},
   "outputs": [
    {
     "name": "stdout",
     "output_type": "stream",
     "text": [
      "Predicted values give higher R2 than fitted:\n"
     ]
    },
    {
     "data": {
      "text/html": [
       "<div>\n",
       "<style scoped>\n",
       "    .dataframe tbody tr th:only-of-type {\n",
       "        vertical-align: middle;\n",
       "    }\n",
       "\n",
       "    .dataframe tbody tr th {\n",
       "        vertical-align: top;\n",
       "    }\n",
       "\n",
       "    .dataframe thead th {\n",
       "        text-align: right;\n",
       "    }\n",
       "</style>\n",
       "<table border=\"1\" class=\"dataframe\">\n",
       "  <thead>\n",
       "    <tr style=\"text-align: right;\">\n",
       "      <th></th>\n",
       "      <th>DRUG_ID</th>\n",
       "      <th>r2_fitted</th>\n",
       "      <th>r2_predicted</th>\n",
       "    </tr>\n",
       "  </thead>\n",
       "  <tbody>\n",
       "    <tr>\n",
       "      <th>1606</th>\n",
       "      <td>219</td>\n",
       "      <td>5.050434e-08</td>\n",
       "      <td>0.529848</td>\n",
       "    </tr>\n",
       "  </tbody>\n",
       "</table>\n",
       "</div>"
      ],
      "text/plain": [
       "     DRUG_ID     r2_fitted  r2_predicted\n",
       "1606     219  5.050434e-08      0.529848"
      ]
     },
     "metadata": {},
     "output_type": "display_data"
    },
    {
     "name": "stdout",
     "output_type": "stream",
     "text": [
      "Predicted values that give R2 >0.9: 26\n"
     ]
    },
    {
     "data": {
      "text/html": [
       "<div>\n",
       "<style scoped>\n",
       "    .dataframe tbody tr th:only-of-type {\n",
       "        vertical-align: middle;\n",
       "    }\n",
       "\n",
       "    .dataframe tbody tr th {\n",
       "        vertical-align: top;\n",
       "    }\n",
       "\n",
       "    .dataframe thead th {\n",
       "        text-align: right;\n",
       "    }\n",
       "</style>\n",
       "<table border=\"1\" class=\"dataframe\">\n",
       "  <thead>\n",
       "    <tr style=\"text-align: right;\">\n",
       "      <th></th>\n",
       "      <th>DRUG_ID</th>\n",
       "      <th>r2_fitted</th>\n",
       "      <th>r2_predicted</th>\n",
       "      <th>r2_predicted_log</th>\n",
       "    </tr>\n",
       "  </thead>\n",
       "  <tbody>\n",
       "    <tr>\n",
       "      <th>134</th>\n",
       "      <td>170</td>\n",
       "      <td>0.998072</td>\n",
       "      <td>0.930815</td>\n",
       "      <td>-0.028374</td>\n",
       "    </tr>\n",
       "    <tr>\n",
       "      <th>2547</th>\n",
       "      <td>170</td>\n",
       "      <td>0.999184</td>\n",
       "      <td>0.920415</td>\n",
       "      <td>-0.091051</td>\n",
       "    </tr>\n",
       "    <tr>\n",
       "      <th>742</th>\n",
       "      <td>170</td>\n",
       "      <td>0.999448</td>\n",
       "      <td>0.931055</td>\n",
       "      <td>-0.039714</td>\n",
       "    </tr>\n",
       "    <tr>\n",
       "      <th>1768</th>\n",
       "      <td>170</td>\n",
       "      <td>0.999126</td>\n",
       "      <td>0.960701</td>\n",
       "      <td>-0.059919</td>\n",
       "    </tr>\n",
       "    <tr>\n",
       "      <th>1254</th>\n",
       "      <td>170</td>\n",
       "      <td>0.999004</td>\n",
       "      <td>0.930898</td>\n",
       "      <td>-0.033480</td>\n",
       "    </tr>\n",
       "  </tbody>\n",
       "</table>\n",
       "</div>"
      ],
      "text/plain": [
       "     DRUG_ID  r2_fitted  r2_predicted  r2_predicted_log\n",
       "134      170   0.998072      0.930815         -0.028374\n",
       "2547     170   0.999184      0.920415         -0.091051\n",
       "742      170   0.999448      0.931055         -0.039714\n",
       "1768     170   0.999126      0.960701         -0.059919\n",
       "1254     170   0.999004      0.930898         -0.033480"
      ]
     },
     "metadata": {},
     "output_type": "display_data"
    },
    {
     "name": "stdout",
     "output_type": "stream",
     "text": [
      "Log Predicted values that give R2 >0.9: 0\n"
     ]
    },
    {
     "data": {
      "text/html": [
       "<div>\n",
       "<style scoped>\n",
       "    .dataframe tbody tr th:only-of-type {\n",
       "        vertical-align: middle;\n",
       "    }\n",
       "\n",
       "    .dataframe tbody tr th {\n",
       "        vertical-align: top;\n",
       "    }\n",
       "\n",
       "    .dataframe thead th {\n",
       "        text-align: right;\n",
       "    }\n",
       "</style>\n",
       "<table border=\"1\" class=\"dataframe\">\n",
       "  <thead>\n",
       "    <tr style=\"text-align: right;\">\n",
       "      <th></th>\n",
       "      <th>DRUG_ID</th>\n",
       "      <th>r2_fitted</th>\n",
       "      <th>r2_predicted</th>\n",
       "      <th>r2_predicted_log</th>\n",
       "    </tr>\n",
       "  </thead>\n",
       "  <tbody>\n",
       "  </tbody>\n",
       "</table>\n",
       "</div>"
      ],
      "text/plain": [
       "Empty DataFrame\n",
       "Columns: [DRUG_ID, r2_fitted, r2_predicted, r2_predicted_log]\n",
       "Index: []"
      ]
     },
     "metadata": {},
     "output_type": "display_data"
    },
    {
     "name": "stdout",
     "output_type": "stream",
     "text": [
      "Results of direct fitting that gives R2 >0.9: 292\n"
     ]
    }
   ],
   "source": [
    "short_test = TrainTestKernelByDrugLog(train, test, good_drug_ids, number_coefficients=4, \n",
    "                                   kernel_dict=best_kernels, kernel_param = best_parameters_kernels_123)\n",
    "\n",
    "# parameters: x0, L, k, b\n",
    "# y = 1 / (L + np.exp(-k*(x-x0)))+b\n",
    "# Wang 1.0 / (1.0 + np.exp((x-p)/s)   x - dosage [0, 1], p - position, s - shape parameter\n",
    "short_test[['COSMIC_ID', 'DRUG_ID', \"param_1\",\"pred_param_1\",\"param_2\", \"pred_param_2\", \n",
    "            \"param_3\", \"pred_param_3\", \"param_4\", \"pred_param_4\"]].head()\n",
    "\n",
    "fitting_cols = [\"param_\"+str(i) for i in range(1,5)]\n",
    "pred_fitting_cols = [\"pred_param_\"+str(i) for i in range(1,5)]\n",
    "log_pred_fitting_cols = [\"log_pred_param_\"+str(i) for i in range(1,5)]\n",
    "fitting_function = \"sigmoid_4_param\"\n",
    "\n",
    "short_test[\"r2_fitted\"] = compute_r2_score(short_test, x_columns = conc_columns, y_columns = response_norm, \n",
    "                              fitting_parameters=fitting_cols, fitting_function = fitting_function)\n",
    "\n",
    "short_test[\"r2_predicted\"] = compute_r2_score(short_test, x_columns = conc_columns, y_columns = response_norm, \n",
    "                              fitting_parameters=pred_fitting_cols, fitting_function = fitting_function)\n",
    "\n",
    "short_test[\"r2_predicted_log\"] = compute_r2_score(short_test, x_columns = conc_columns, y_columns = response_norm, \n",
    "                              fitting_parameters=log_pred_fitting_cols, fitting_function = fitting_function)\n",
    "\n",
    "# only one case when predicted values was a better fit to original data than directly fitted\n",
    "print(\"Predicted values give higher R2 than fitted:\")\n",
    "display(short_test[short_test[\"r2_predicted\"]>short_test[\"r2_fitted\"]][[\"DRUG_ID\",\"r2_fitted\", \"r2_predicted\"]])\n",
    "\n",
    "print(\"Predicted values that give R2 >0.9:\", short_test[short_test[\"r2_predicted\"]>0.9][[\"DRUG_ID\",\"r2_fitted\", \"r2_predicted\"]].shape[0])\n",
    "display(short_test[short_test[\"r2_predicted\"]>0.9][[\"DRUG_ID\",\"r2_fitted\", \"r2_predicted\", \"r2_predicted_log\"]].head())\n",
    "\n",
    "print(\"Log Predicted values that give R2 >0.9:\", short_test[short_test[\"r2_predicted_log\"]>0.9].shape[0])\n",
    "display(short_test[short_test[\"r2_predicted_log\"]>0.9][[\"DRUG_ID\",\"r2_fitted\", \"r2_predicted\", \"r2_predicted_log\"]].head())\n",
    "\n",
    "print(\"Results of direct fitting that gives R2 >0.9:\", short_test[short_test[\"r2_fitted\"]>0.9].shape[0])"
   ]
  },
  {
   "cell_type": "markdown",
   "metadata": {},
   "source": [
    "**Conclusion:** Usage of log transformation of the parameters worsens the results!\n",
    "It is better not to use log transfromations!"
   ]
  }
 ],
 "metadata": {
  "kernelspec": {
   "display_name": "myspark",
   "language": "python",
   "name": "myspark"
  },
  "language_info": {
   "codemirror_mode": {
    "name": "ipython",
    "version": 3
   },
   "file_extension": ".py",
   "mimetype": "text/x-python",
   "name": "python",
   "nbconvert_exporter": "python",
   "pygments_lexer": "ipython3",
   "version": "3.6.10"
  }
 },
 "nbformat": 4,
 "nbformat_minor": 2
}
