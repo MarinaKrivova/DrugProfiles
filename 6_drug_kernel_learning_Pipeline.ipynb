{
 "cells": [
  {
   "cell_type": "code",
   "execution_count": 1,
   "metadata": {},
   "outputs": [],
   "source": [
    "import pandas as pd\n",
    "import numpy as np\n",
    "import seaborn as sns\n",
    "import matplotlib.pyplot as plt\n",
    "%matplotlib inline\n",
    "from sklearn.metrics import r2_score\n",
    "from scipy.optimize import curve_fit\n",
    "from scipy.optimize import leastsq\n",
    "import scipy.optimize as opt\n",
    "from tqdm import tqdm\n",
    "import warnings\n",
    "warnings.filterwarnings(\"ignore\")\n",
    "\n",
    "from sklearn.kernel_ridge import KernelRidge\n",
    "from sklearn.model_selection import train_test_split\n",
    "from sklearn.metrics import mean_squared_error\n",
    "from sklearn.metrics import mean_absolute_error"
   ]
  },
  {
   "cell_type": "code",
   "execution_count": 2,
   "metadata": {},
   "outputs": [],
   "source": [
    "import os\n",
    "from data_preprocessing import FilteringCurves, ShowResponseCurves\n",
    "from fitting_curves import FittingColumn, ShowResponseCurvesWithFitting, compute_r2_score\n",
    "_FOLDER = \"./data/\""
   ]
  },
  {
   "cell_type": "code",
   "execution_count": 3,
   "metadata": {},
   "outputs": [
    {
     "data": {
      "text/plain": [
       "['merged_drug_profiles_sigmoid4_23.csv',\n",
       " 'filtered_drug_profiles_13.csv',\n",
       " 'filtered_drug_profiles_12.csv',\n",
       " 'filtered_drug_profiles_23.csv',\n",
       " 'filtered_drug_profiles.csv',\n",
       " 'merged_drug_profiles_sigmoid4_123.csv',\n",
       " 'filtered_drug_profiles_123.csv']"
      ]
     },
     "execution_count": 3,
     "metadata": {},
     "output_type": "execute_result"
    }
   ],
   "source": [
    "os.listdir(\"./results/\")"
   ]
  },
  {
   "cell_type": "code",
   "execution_count": 4,
   "metadata": {},
   "outputs": [
    {
     "data": {
      "text/plain": [
       "(2612, 1100)"
      ]
     },
     "execution_count": 4,
     "metadata": {},
     "output_type": "execute_result"
    }
   ],
   "source": [
    "# NEED TO CHANGE - what file to read\n",
    "df = pd.read_csv(\"./results/merged_drug_profiles_sigmoid4_123.csv\")\n",
    "df.shape"
   ]
  },
  {
   "cell_type": "code",
   "execution_count": 5,
   "metadata": {},
   "outputs": [],
   "source": [
    "conc_columns= [\"fd_num_\"+str(i) for i in range(10)]\n",
    "response_norm = ['norm_cells_'+str(i) for i in range(10)]"
   ]
  },
  {
   "cell_type": "raw",
   "metadata": {},
   "source": [
    "fitting_function = \"sigmoid_4_param\"\n",
    "# fit_columns = \"fitting_param\"\n",
    "fit_columns = [\"param_\"+str(i)for i in range(1,5)]\n",
    "\n",
    "ShowResponseCurvesWithFitting(df, plots_in_row=3, plots_in_column=3, x_columns=conc_columns, \n",
    "                              y_columns = response_norm, indexes=df.index[:9], \n",
    "                              fitting_function = fitting_function, fitting_parameters = fit_columns)"
   ]
  },
  {
   "cell_type": "code",
   "execution_count": 7,
   "metadata": {},
   "outputs": [
    {
     "data": {
      "text/html": [
       "<div>\n",
       "<style scoped>\n",
       "    .dataframe tbody tr th:only-of-type {\n",
       "        vertical-align: middle;\n",
       "    }\n",
       "\n",
       "    .dataframe tbody tr th {\n",
       "        vertical-align: top;\n",
       "    }\n",
       "\n",
       "    .dataframe thead th {\n",
       "        text-align: right;\n",
       "    }\n",
       "</style>\n",
       "<table border=\"1\" class=\"dataframe\">\n",
       "  <thead>\n",
       "    <tr style=\"text-align: right;\">\n",
       "      <th></th>\n",
       "      <th>DRUG_ID</th>\n",
       "      <th>count_cell_lines</th>\n",
       "      <th>Drug Name</th>\n",
       "      <th>Synonyms</th>\n",
       "      <th>Target</th>\n",
       "      <th>Target Pathway</th>\n",
       "    </tr>\n",
       "  </thead>\n",
       "  <tbody>\n",
       "    <tr>\n",
       "      <th>0</th>\n",
       "      <td>328</td>\n",
       "      <td>115</td>\n",
       "      <td>SNX-2112</td>\n",
       "      <td>SNX 2112</td>\n",
       "      <td>HSP90</td>\n",
       "      <td>Protein stability and degradation</td>\n",
       "    </tr>\n",
       "    <tr>\n",
       "      <th>1</th>\n",
       "      <td>272</td>\n",
       "      <td>107</td>\n",
       "      <td>AR-42</td>\n",
       "      <td>HDAC-42, AR 42, AR42</td>\n",
       "      <td>HDAC1</td>\n",
       "      <td>Chromatin histone acetylation</td>\n",
       "    </tr>\n",
       "    <tr>\n",
       "      <th>2</th>\n",
       "      <td>273</td>\n",
       "      <td>106</td>\n",
       "      <td>CUDC-101</td>\n",
       "      <td>CUDC 101</td>\n",
       "      <td>HDAC1-10, EGFR, ERBB2</td>\n",
       "      <td>Other</td>\n",
       "    </tr>\n",
       "    <tr>\n",
       "      <th>3</th>\n",
       "      <td>170</td>\n",
       "      <td>102</td>\n",
       "      <td>Shikonin</td>\n",
       "      <td>Anchusin</td>\n",
       "      <td>not defined</td>\n",
       "      <td>Other</td>\n",
       "    </tr>\n",
       "    <tr>\n",
       "      <th>4</th>\n",
       "      <td>274</td>\n",
       "      <td>100</td>\n",
       "      <td>Belinostat</td>\n",
       "      <td>PXD101, PXD-101</td>\n",
       "      <td>HDAC1</td>\n",
       "      <td>Chromatin histone acetylation</td>\n",
       "    </tr>\n",
       "    <tr>\n",
       "      <th>5</th>\n",
       "      <td>276</td>\n",
       "      <td>100</td>\n",
       "      <td>CAY10603</td>\n",
       "      <td>-</td>\n",
       "      <td>HDAC1, HDAC6</td>\n",
       "      <td>Chromatin histone acetylation</td>\n",
       "    </tr>\n",
       "    <tr>\n",
       "      <th>6</th>\n",
       "      <td>200</td>\n",
       "      <td>87</td>\n",
       "      <td>Dacinostat</td>\n",
       "      <td>NVP-LAQ824, LAQ824</td>\n",
       "      <td>HDAC1</td>\n",
       "      <td>Chromatin histone acetylation</td>\n",
       "    </tr>\n",
       "    <tr>\n",
       "      <th>7</th>\n",
       "      <td>219</td>\n",
       "      <td>86</td>\n",
       "      <td>AT-7519</td>\n",
       "      <td>AT7519</td>\n",
       "      <td>CDK1, CDK2, CDK4, CDK6, CDK9</td>\n",
       "      <td>Cell cycle</td>\n",
       "    </tr>\n",
       "    <tr>\n",
       "      <th>8</th>\n",
       "      <td>180</td>\n",
       "      <td>72</td>\n",
       "      <td>Thapsigargin</td>\n",
       "      <td>Octanoic acid</td>\n",
       "      <td>SERCA</td>\n",
       "      <td>Other</td>\n",
       "    </tr>\n",
       "    <tr>\n",
       "      <th>9</th>\n",
       "      <td>346</td>\n",
       "      <td>57</td>\n",
       "      <td>THZ-2-102-1</td>\n",
       "      <td>-</td>\n",
       "      <td>CDK7</td>\n",
       "      <td>Cell cycle</td>\n",
       "    </tr>\n",
       "  </tbody>\n",
       "</table>\n",
       "</div>"
      ],
      "text/plain": [
       "   DRUG_ID  count_cell_lines     Drug Name              Synonyms  \\\n",
       "0      328               115      SNX-2112              SNX 2112   \n",
       "1      272               107         AR-42  HDAC-42, AR 42, AR42   \n",
       "2      273               106      CUDC-101              CUDC 101   \n",
       "3      170               102      Shikonin              Anchusin   \n",
       "4      274               100    Belinostat       PXD101, PXD-101   \n",
       "5      276               100      CAY10603                     -   \n",
       "6      200                87    Dacinostat    NVP-LAQ824, LAQ824   \n",
       "7      219                86       AT-7519                AT7519   \n",
       "8      180                72  Thapsigargin         Octanoic acid   \n",
       "9      346                57   THZ-2-102-1                     -   \n",
       "\n",
       "                         Target                     Target Pathway  \n",
       "0                         HSP90  Protein stability and degradation  \n",
       "1                         HDAC1      Chromatin histone acetylation  \n",
       "2         HDAC1-10, EGFR, ERBB2                              Other  \n",
       "3                   not defined                              Other  \n",
       "4                         HDAC1      Chromatin histone acetylation  \n",
       "5                  HDAC1, HDAC6      Chromatin histone acetylation  \n",
       "6                         HDAC1      Chromatin histone acetylation  \n",
       "7  CDK1, CDK2, CDK4, CDK6, CDK9                         Cell cycle  \n",
       "8                         SERCA                              Other  \n",
       "9                          CDK7                         Cell cycle  "
      ]
     },
     "execution_count": 7,
     "metadata": {},
     "output_type": "execute_result"
    }
   ],
   "source": [
    "cell_features = pd.read_csv(_FOLDER+\"Cell_Line_Features_PANCAN_simple_MOBEM.tsv\", sep=\"\\t\")\n",
    "\n",
    "stat_data = df.groupby([\"DRUG_ID\"])[[\"COSMIC_ID\"]].count().rename(columns={\"COSMIC_ID\": \"count_cell_lines\"})\\\n",
    "            .sort_values(\"count_cell_lines\", ascending=False)\n",
    "    \n",
    "\n",
    "drug_features = pd.read_csv(_FOLDER+'/Drug_Features.csv').rename(columns = {\"Drug ID\": \"DRUG_ID\"})\n",
    "statistics = pd.merge(left = stat_data, right = drug_features, how= \"left\", on = \"DRUG_ID\").sort_values(\"count_cell_lines\", ascending =False)\n",
    "statistics.head(10)"
   ]
  },
  {
   "cell_type": "markdown",
   "metadata": {},
   "source": [
    "### Training and testing tuned kernels"
   ]
  },
  {
   "cell_type": "code",
   "execution_count": 8,
   "metadata": {},
   "outputs": [
    {
     "data": {
      "text/plain": [
       "11"
      ]
     },
     "execution_count": 8,
     "metadata": {},
     "output_type": "execute_result"
    }
   ],
   "source": [
    "# select subsets for each drug and divide each of them into train and test data\n",
    "# concatenate all the train and test subsets\n",
    "\n",
    "gr = df.groupby([\"DRUG_ID\"])[\"COSMIC_ID\"].count()\n",
    "good_drug_ids = gr[gr>50].index\n",
    "len(good_drug_ids)"
   ]
  },
  {
   "cell_type": "code",
   "execution_count": 9,
   "metadata": {},
   "outputs": [
    {
     "name": "stdout",
     "output_type": "stream",
     "text": [
      "(683, 1100) (300, 1100)\n",
      "CPU times: user 496 ms, sys: 65.9 ms, total: 561 ms\n",
      "Wall time: 577 ms\n"
     ]
    }
   ],
   "source": [
    "%%time\n",
    "train = pd.DataFrame(columns=df.columns)\n",
    "test = pd.DataFrame(columns=df.columns)\n",
    "\n",
    "for drug_id in good_drug_ids:\n",
    "    df_i = df[df[\"DRUG_ID\"]==drug_id]\n",
    "    np.random.seed(123)\n",
    "    indexes = np.random.permutation(df_i.index)\n",
    "    train_size = int(df_i.shape[0]*0.7)\n",
    "    indexes_train = indexes[:train_size]\n",
    "    indexes_test= indexes[train_size:]\n",
    "    \n",
    "    train_set = df_i.loc[indexes_train, :]\n",
    "    test_set = df_i.loc[indexes_test, :]\n",
    "    \n",
    "    train = pd.concat([train, train_set], axis=0)\n",
    "    test = pd.concat([test, test_set], axis=0)\n",
    "    \n",
    "print(train.shape, test.shape)"
   ]
  },
  {
   "cell_type": "code",
   "execution_count": null,
   "metadata": {},
   "outputs": [],
   "source": [
    "def TrainKernelByDrug(train_data, number_coefficients, kernel='linear', param_tested = \"alpha\", \n",
    "                       param_tested_values = [], alpha=1, gamma=None, degree=3, coef0=1,\n",
    "                      display_results=True):\n",
    "    \n",
    "    df_errors = pd.DataFrame()\n",
    "    #check whether each coefficient needs its own parameters\n",
    "    \n",
    "\n",
    "    for drug_id in drug_ids:\n",
    "        X_train = train_data.loc[indexes_train, merged_df_i.columns[26:-4]].values\n",
    "    \n",
    "        for i in range(number_coefficients):\n",
    "            #check whether each coefficient needs its own parameters\n",
    "            if type(alpha)==dict:\n",
    "                alpha_value = alpha[i+1]\n",
    "            else:\n",
    "                alpha_value = alpha\n",
    "                \n",
    "            if type(gamma)==dict:\n",
    "                gamma_value = gamma[i+1]\n",
    "            else:\n",
    "                gamma_value = gamma\n",
    "            \n",
    "            if type(degree)==dict:\n",
    "                degree_value = degree[i+1]\n",
    "            else:\n",
    "                degree_value = degree\n",
    "                \n",
    "            if type(coef0)==dict:\n",
    "                coef0_value = coef0[i+1]\n",
    "            else:\n",
    "                coef0_value = coef0\n",
    "            \n",
    "            y_train = train_data.loc[indexes_train, \"param_\"+str(i+1)].values\n",
    "            for param in param_tested_values:\n",
    "    \n",
    "                #check whether each coefficient needs its own parameters\n",
    "                if param_tested == \"alpha\":\n",
    "                    kernel_model = KernelRidge(kernel=kernel, \n",
    "                                               alpha=param, \n",
    "                                               gamma=gamma_value, \n",
    "                                               degree=degree_value, \n",
    "                                               coef0=coef0_value)\n",
    "                elif param_tested == \"gamma\":\n",
    "                    kernel_model = KernelRidge(kernel=kernel, \n",
    "                                               alpha=alpha_value, \n",
    "                                               gamma=param, \n",
    "                                               degree=degree_value,\n",
    "                                               coef0=coef0_value)\n",
    "                elif param_tested == \"degree\":\n",
    "                    kernel_model = KernelRidge(kernel=kernel, \n",
    "                                               alpha=alpha_value, \n",
    "                                               gamma=gamma_value,\n",
    "                                               degree=param, \n",
    "                                               coef0=coef0_value)\n",
    "                elif param_tested == \"coef0\":\n",
    "                    kernel_model = KernelRidge(kernel=kernel, \n",
    "                                               alpha=alpha_value,  \n",
    "                                               gamma=gamma_value,\n",
    "                                               degree=degree_value,\n",
    "                                               coef0=param)\n",
    "                else:\n",
    "                    print(\"ERROR: Unknown parameters\")\n",
    "\n",
    "        return kernel_model.fit(X_train, y_train)\n",
    "\n",
    "\n",
    "def TestTunedKernels(drug_ids, number_coefficients, kernel, alpha=1, gamma=None, degree=3, coef0=1, \n",
    "                     metrics = \"mse\", display_results=True):\n",
    "    \"\"\"Training and testing Kernels with the best found hyperparameters\"\"\"\n",
    "    \n",
    "    df_errors_test = pd.DataFrame()\n",
    "\n",
    "    for drug_id in drug_ids:\n",
    "        # merged_df_i has lower shape\n",
    "        merged_df_i = merged_df[merged_df[\"DRUG_ID\"]==drug_id]\n",
    "        \n",
    "        np.random.seed(123)\n",
    "        indexes = np.random.permutation(merged_df_i.index)\n",
    "        train_size = int(merged_df_i.shape[0]*0.8)\n",
    "        indexes_train = indexes[:train_size]\n",
    "        indexes_test= indexes[train_size:]\n",
    "        X_train = merged_df_i.loc[indexes_train, merged_df_i.columns[26:-4]].values\n",
    "        X_test = merged_df_i.loc[indexes_test, merged_df_i.columns[26:-4]].values\n",
    "    \n",
    "        for i in range(number_coefficients):\n",
    "#             param = best_param[i+1]\n",
    "            y_train = merged_df_i.loc[indexes_train, \"param_\"+str(i+1)].values\n",
    "            y_test = merged_df_i.loc[indexes_test, \"param_\"+str(i+1)].values\n",
    "            \n",
    "            #check whether each coefficient needs its own parameters\n",
    "            if type(alpha)==dict:\n",
    "                alpha_value = alpha[i+1]\n",
    "            else:\n",
    "                alpha_value = alpha\n",
    "                \n",
    "            if type(gamma)==dict:\n",
    "                gamma_value = gamma[i+1]\n",
    "            else:\n",
    "                gamma_value = gamma\n",
    "            \n",
    "            if type(degree)==dict:\n",
    "                degree_value = degree[i+1]\n",
    "            else:\n",
    "                degree_value = degree\n",
    "                \n",
    "            if type(coef0)==dict:\n",
    "                coef0_value = coef0[i+1]\n",
    "            else:\n",
    "                coef0_value = coef0\n",
    "                \n",
    "            kr_lin = KernelRidge(kernel = kernel, alpha = alpha_value, gamma=gamma_value, \n",
    "                                 degree=degree_value, coef0=coef0_value)\n",
    "            kr_lin.fit(X_train, y_train)\n",
    "            y_pred = kr_lin.predict(X_test)\n",
    "            \n",
    "            # mse is more sensitive to different parameters choice\n",
    "            if metrics == \"mse\":\n",
    "                error = mean_squared_error(y_test, y_pred)\n",
    "            elif metrics == \"mae\":\n",
    "                error = mean_absolute_error(y_test, y_pred)\n",
    "            else:\n",
    "                print(\"ERROR: Unknown metrics\")\n",
    "            df_errors_test.loc[drug_id, kernel+\"_mse_coef\"+str(i+1)] = error\n",
    "    \n",
    "    df_results = df_errors_test.describe().loc[[\"mean\", \"min\",\"max\"], :]\n",
    "    if display_results:\n",
    "        print(\"Testing %s kernel with tuned hyperparameters\\n\" % kernel)\n",
    "        print(\"Coefficients x0, L, k, b   y = 1/ (L + np.exp(-k*(x-x0)))+b\") \n",
    "        display(df_results)\n",
    "    return df_results"
   ]
  },
  {
   "cell_type": "code",
   "execution_count": null,
   "metadata": {},
   "outputs": [],
   "source": [
    "TrainKernelByDrug"
   ]
  },
  {
   "cell_type": "code",
   "execution_count": 10,
   "metadata": {},
   "outputs": [
    {
     "name": "stdout",
     "output_type": "stream",
     "text": [
      "CPU times: user 934 ms, sys: 91.4 ms, total: 1.03 s\n",
      "Wall time: 596 ms\n"
     ]
    }
   ],
   "source": [
    "%%time\n",
    "\n",
    "df_errors = pd.DataFrame()\n",
    "df_errors[\"DRUG_ID\"] = good_drug_ids\n",
    "df_errors.set_index(\"DRUG_ID\", inplace =True)\n",
    "\n",
    "test_columns_to_use = ['COSMIC_ID', 'DRUG_ID']+conc_columns+response_norm+[\"param_\"+str(i)for i in range(1,5)]\n",
    "short_test = test[test_columns_to_use].copy()\n",
    "\n",
    "for drug_id in df_errors.index:\n",
    "    \n",
    "    train_i = train[train[\"DRUG_ID\"]==drug_id]\n",
    "    test_i = test[test[\"DRUG_ID\"]==drug_id]\n",
    "\n",
    "    X_train = train_i[train_i.columns[26:-4]].values\n",
    "    X_test = test_i[test_i.columns[26:-4]].values\n",
    "\n",
    "    for i in range(4):\n",
    "        y_train = train_i[\"param_\"+str(i+1)]\n",
    "        y_test = test_i[\"param_\"+str(i+1)]\n",
    "        \n",
    "        # train kernels with best parameters\n",
    "        # @ TO CHANGE !!!\n",
    "        kr_lin = KernelRidge(kernel='linear')\n",
    "        kr_lin.fit(X_train, y_train)\n",
    "        y_pred = kr_lin.predict(X_test)\n",
    "        \n",
    "        # collect errors\n",
    "        mse = mean_squared_error(y_test, y_pred)\n",
    "        df_errors.loc[drug_id, \"mse_param_\"+str(i+1)] = mse\n",
    "        mae = mean_absolute_error(y_test, y_pred)\n",
    "        df_errors.loc[drug_id, \"mae_param_\"+str(i+1)] = mae\n",
    "        \n",
    "        # show on graph fitted and predicted curves\n",
    "        # not all the data was merged=learnd by the model\n",
    "        short_test.loc[test_i.index, \"pred_param_\"+str(i+1)] = kr_lin.predict(X_test)\n",
    "#         print(merged_df.loc[merged_df_i.index, \"pred_param_\"+str(i+1)])"
   ]
  },
  {
   "cell_type": "code",
   "execution_count": 12,
   "metadata": {},
   "outputs": [
    {
     "data": {
      "text/html": [
       "<div>\n",
       "<style scoped>\n",
       "    .dataframe tbody tr th:only-of-type {\n",
       "        vertical-align: middle;\n",
       "    }\n",
       "\n",
       "    .dataframe tbody tr th {\n",
       "        vertical-align: top;\n",
       "    }\n",
       "\n",
       "    .dataframe thead th {\n",
       "        text-align: right;\n",
       "    }\n",
       "</style>\n",
       "<table border=\"1\" class=\"dataframe\">\n",
       "  <thead>\n",
       "    <tr style=\"text-align: right;\">\n",
       "      <th></th>\n",
       "      <th>COSMIC_ID</th>\n",
       "      <th>DRUG_ID</th>\n",
       "      <th>param_1</th>\n",
       "      <th>pred_param_1</th>\n",
       "      <th>param_2</th>\n",
       "      <th>pred_param_2</th>\n",
       "      <th>param_3</th>\n",
       "      <th>pred_param_3</th>\n",
       "      <th>param_4</th>\n",
       "      <th>pred_param_4</th>\n",
       "    </tr>\n",
       "  </thead>\n",
       "  <tbody>\n",
       "    <tr>\n",
       "      <th>835</th>\n",
       "      <td>907043</td>\n",
       "      <td>170</td>\n",
       "      <td>0.363850</td>\n",
       "      <td>0.393212</td>\n",
       "      <td>1.033021</td>\n",
       "      <td>0.746965</td>\n",
       "      <td>-51.693547</td>\n",
       "      <td>-47.058598</td>\n",
       "      <td>0.007548</td>\n",
       "      <td>0.023764</td>\n",
       "    </tr>\n",
       "    <tr>\n",
       "      <th>709</th>\n",
       "      <td>910853</td>\n",
       "      <td>170</td>\n",
       "      <td>0.282951</td>\n",
       "      <td>0.434306</td>\n",
       "      <td>0.991244</td>\n",
       "      <td>1.027353</td>\n",
       "      <td>-17.902582</td>\n",
       "      <td>-58.329858</td>\n",
       "      <td>0.001505</td>\n",
       "      <td>0.010678</td>\n",
       "    </tr>\n",
       "    <tr>\n",
       "      <th>588</th>\n",
       "      <td>1331048</td>\n",
       "      <td>170</td>\n",
       "      <td>0.391543</td>\n",
       "      <td>0.197077</td>\n",
       "      <td>1.165887</td>\n",
       "      <td>0.586832</td>\n",
       "      <td>-29.009874</td>\n",
       "      <td>-3.235111</td>\n",
       "      <td>0.124297</td>\n",
       "      <td>0.010400</td>\n",
       "    </tr>\n",
       "    <tr>\n",
       "      <th>1164</th>\n",
       "      <td>1298531</td>\n",
       "      <td>170</td>\n",
       "      <td>0.330063</td>\n",
       "      <td>0.418406</td>\n",
       "      <td>1.032297</td>\n",
       "      <td>0.829837</td>\n",
       "      <td>-21.884331</td>\n",
       "      <td>-16.785437</td>\n",
       "      <td>0.016542</td>\n",
       "      <td>0.019082</td>\n",
       "    </tr>\n",
       "    <tr>\n",
       "      <th>134</th>\n",
       "      <td>906817</td>\n",
       "      <td>170</td>\n",
       "      <td>0.455416</td>\n",
       "      <td>0.580067</td>\n",
       "      <td>1.027351</td>\n",
       "      <td>1.354280</td>\n",
       "      <td>-19.649939</td>\n",
       "      <td>-92.787808</td>\n",
       "      <td>0.025061</td>\n",
       "      <td>0.054867</td>\n",
       "    </tr>\n",
       "  </tbody>\n",
       "</table>\n",
       "</div>"
      ],
      "text/plain": [
       "     COSMIC_ID DRUG_ID   param_1  pred_param_1   param_2  pred_param_2  \\\n",
       "835     907043     170  0.363850      0.393212  1.033021      0.746965   \n",
       "709     910853     170  0.282951      0.434306  0.991244      1.027353   \n",
       "588    1331048     170  0.391543      0.197077  1.165887      0.586832   \n",
       "1164   1298531     170  0.330063      0.418406  1.032297      0.829837   \n",
       "134     906817     170  0.455416      0.580067  1.027351      1.354280   \n",
       "\n",
       "        param_3  pred_param_3   param_4  pred_param_4  \n",
       "835  -51.693547    -47.058598  0.007548      0.023764  \n",
       "709  -17.902582    -58.329858  0.001505      0.010678  \n",
       "588  -29.009874     -3.235111  0.124297      0.010400  \n",
       "1164 -21.884331    -16.785437  0.016542      0.019082  \n",
       "134  -19.649939    -92.787808  0.025061      0.054867  "
      ]
     },
     "execution_count": 12,
     "metadata": {},
     "output_type": "execute_result"
    }
   ],
   "source": [
    "# parameters: x0, L, k, b\n",
    "# y = 1 / (L + np.exp(-k*(x-x0)))+b\n",
    "# Wang 1.0 / (1.0 + np.exp((x-p)/s)   x - dosage [0, 1], p - position, s - shape parameter\n",
    "short_test[['COSMIC_ID', 'DRUG_ID', \"param_1\",\"pred_param_1\",\"param_2\", \"pred_param_2\", \n",
    "            \"param_3\", \"pred_param_3\", \"param_4\", \"pred_param_4\"]].head()"
   ]
  },
  {
   "cell_type": "code",
   "execution_count": 14,
   "metadata": {},
   "outputs": [],
   "source": [
    "fitting_cols = [\"param_\"+str(i) for i in range(1,5)]\n",
    "pred_fitting_cols = [\"pred_param_\"+str(i) for i in range(1,5)]\n",
    "fitting_function = \"sigmoid_4_param\""
   ]
  },
  {
   "cell_type": "code",
   "execution_count": 15,
   "metadata": {},
   "outputs": [],
   "source": [
    "short_test[\"r2_fitted\"] = compute_r2_score(short_test, x_columns = conc_columns, y_columns = response_norm, \n",
    "                              fitting_parameters=fitting_cols, fitting_function = fitting_function)\n",
    "\n",
    "short_test[\"r2_predicted\"] = compute_r2_score(short_test, x_columns = conc_columns, y_columns = response_norm, \n",
    "                              fitting_parameters=pred_fitting_cols, fitting_function = fitting_function)"
   ]
  },
  {
   "cell_type": "code",
   "execution_count": 22,
   "metadata": {},
   "outputs": [
    {
     "data": {
      "text/html": [
       "<div>\n",
       "<style scoped>\n",
       "    .dataframe tbody tr th:only-of-type {\n",
       "        vertical-align: middle;\n",
       "    }\n",
       "\n",
       "    .dataframe tbody tr th {\n",
       "        vertical-align: top;\n",
       "    }\n",
       "\n",
       "    .dataframe thead th {\n",
       "        text-align: right;\n",
       "    }\n",
       "</style>\n",
       "<table border=\"1\" class=\"dataframe\">\n",
       "  <thead>\n",
       "    <tr style=\"text-align: right;\">\n",
       "      <th></th>\n",
       "      <th>DRUG_ID</th>\n",
       "      <th>r2_fitted</th>\n",
       "      <th>r2_predicted</th>\n",
       "    </tr>\n",
       "  </thead>\n",
       "  <tbody>\n",
       "    <tr>\n",
       "      <th>1606</th>\n",
       "      <td>219</td>\n",
       "      <td>5.050434e-08</td>\n",
       "      <td>0.71805</td>\n",
       "    </tr>\n",
       "  </tbody>\n",
       "</table>\n",
       "</div>"
      ],
      "text/plain": [
       "     DRUG_ID     r2_fitted  r2_predicted\n",
       "1606     219  5.050434e-08       0.71805"
      ]
     },
     "execution_count": 22,
     "metadata": {},
     "output_type": "execute_result"
    }
   ],
   "source": [
    "# only one case when predicted values was a better fit to original data than directly fitted\n",
    "short_test[short_test[\"r2_predicted\"]>short_test[\"r2_fitted\"]][[\"DRUG_ID\",\"r2_fitted\", \"r2_predicted\"]]"
   ]
  },
  {
   "cell_type": "code",
   "execution_count": 25,
   "metadata": {},
   "outputs": [
    {
     "data": {
      "text/plain": [
       "(26, 3)"
      ]
     },
     "execution_count": 25,
     "metadata": {},
     "output_type": "execute_result"
    }
   ],
   "source": [
    "short_test[short_test[\"DRUG_ID\"]==219][[\"DRUG_ID\",\"r2_fitted\", \"r2_predicted\"]].shape"
   ]
  },
  {
   "cell_type": "code",
   "execution_count": 19,
   "metadata": {},
   "outputs": [
    {
     "name": "stdout",
     "output_type": "stream",
     "text": [
      "Figures titles: Index_DRUG_ID_COSMIC_ID (COSMIC_ID is a cell line)\n"
     ]
    },
    {
     "data": {
      "image/png": "[encoded data removed]",
      "text/plain": [
       "<Figure size 1008x792 with 9 Axes>"
      ]
     },
     "metadata": {
      "needs_background": "light"
     },
     "output_type": "display_data"
    }
   ],
   "source": [
    "df = short_test\n",
    "ShowResponseCurvesWithFitting(df, plots_in_row=3, plots_in_column=3, x_columns=conc_columns, \n",
    "                              y_columns = response_norm, indexes=df.index[:9], \n",
    "                              fitting_function = fitting_function, fitting_parameters = fitting_cols,\n",
    "                             pred_fitting_param=pred_fitting_cols)"
   ]
  },
  {
   "cell_type": "code",
   "execution_count": 26,
   "metadata": {},
   "outputs": [
    {
     "data": {
      "text/html": [
       "<div>\n",
       "<style scoped>\n",
       "    .dataframe tbody tr th:only-of-type {\n",
       "        vertical-align: middle;\n",
       "    }\n",
       "\n",
       "    .dataframe tbody tr th {\n",
       "        vertical-align: top;\n",
       "    }\n",
       "\n",
       "    .dataframe thead th {\n",
       "        text-align: right;\n",
       "    }\n",
       "</style>\n",
       "<table border=\"1\" class=\"dataframe\">\n",
       "  <thead>\n",
       "    <tr style=\"text-align: right;\">\n",
       "      <th></th>\n",
       "      <th>mse_param_1</th>\n",
       "      <th>mae_param_1</th>\n",
       "      <th>mse_param_2</th>\n",
       "      <th>mae_param_2</th>\n",
       "      <th>mse_param_3</th>\n",
       "      <th>mae_param_3</th>\n",
       "      <th>mse_param_4</th>\n",
       "      <th>mae_param_4</th>\n",
       "    </tr>\n",
       "  </thead>\n",
       "  <tbody>\n",
       "    <tr>\n",
       "      <th>count</th>\n",
       "      <td>11.000000</td>\n",
       "      <td>11.000000</td>\n",
       "      <td>11.000000</td>\n",
       "      <td>11.000000</td>\n",
       "      <td>11.000000</td>\n",
       "      <td>11.000000</td>\n",
       "      <td>11.000000</td>\n",
       "      <td>11.000000</td>\n",
       "    </tr>\n",
       "    <tr>\n",
       "      <th>mean</th>\n",
       "      <td>2.904070</td>\n",
       "      <td>0.678699</td>\n",
       "      <td>6.018416</td>\n",
       "      <td>0.894316</td>\n",
       "      <td>591.589625</td>\n",
       "      <td>14.209816</td>\n",
       "      <td>0.030484</td>\n",
       "      <td>0.089112</td>\n",
       "    </tr>\n",
       "    <tr>\n",
       "      <th>std</th>\n",
       "      <td>4.695010</td>\n",
       "      <td>0.697080</td>\n",
       "      <td>9.992729</td>\n",
       "      <td>0.896737</td>\n",
       "      <td>664.961714</td>\n",
       "      <td>8.015762</td>\n",
       "      <td>0.057176</td>\n",
       "      <td>0.033918</td>\n",
       "    </tr>\n",
       "    <tr>\n",
       "      <th>min</th>\n",
       "      <td>0.021081</td>\n",
       "      <td>0.113052</td>\n",
       "      <td>0.093379</td>\n",
       "      <td>0.236605</td>\n",
       "      <td>66.275078</td>\n",
       "      <td>6.748200</td>\n",
       "      <td>0.003616</td>\n",
       "      <td>0.029845</td>\n",
       "    </tr>\n",
       "    <tr>\n",
       "      <th>25%</th>\n",
       "      <td>0.055201</td>\n",
       "      <td>0.194046</td>\n",
       "      <td>0.249604</td>\n",
       "      <td>0.408432</td>\n",
       "      <td>115.489903</td>\n",
       "      <td>8.511401</td>\n",
       "      <td>0.009314</td>\n",
       "      <td>0.065713</td>\n",
       "    </tr>\n",
       "    <tr>\n",
       "      <th>50%</th>\n",
       "      <td>0.935599</td>\n",
       "      <td>0.546047</td>\n",
       "      <td>0.476037</td>\n",
       "      <td>0.534229</td>\n",
       "      <td>360.710725</td>\n",
       "      <td>11.234837</td>\n",
       "      <td>0.013485</td>\n",
       "      <td>0.090251</td>\n",
       "    </tr>\n",
       "    <tr>\n",
       "      <th>75%</th>\n",
       "      <td>3.005612</td>\n",
       "      <td>0.741883</td>\n",
       "      <td>8.446279</td>\n",
       "      <td>0.967509</td>\n",
       "      <td>788.979109</td>\n",
       "      <td>17.781224</td>\n",
       "      <td>0.019686</td>\n",
       "      <td>0.110931</td>\n",
       "    </tr>\n",
       "    <tr>\n",
       "      <th>max</th>\n",
       "      <td>14.729717</td>\n",
       "      <td>2.561256</td>\n",
       "      <td>31.784409</td>\n",
       "      <td>3.344451</td>\n",
       "      <td>1941.714281</td>\n",
       "      <td>33.002168</td>\n",
       "      <td>0.201778</td>\n",
       "      <td>0.144722</td>\n",
       "    </tr>\n",
       "  </tbody>\n",
       "</table>\n",
       "</div>"
      ],
      "text/plain": [
       "       mse_param_1  mae_param_1  mse_param_2  mae_param_2  mse_param_3  \\\n",
       "count    11.000000    11.000000    11.000000    11.000000    11.000000   \n",
       "mean      2.904070     0.678699     6.018416     0.894316   591.589625   \n",
       "std       4.695010     0.697080     9.992729     0.896737   664.961714   \n",
       "min       0.021081     0.113052     0.093379     0.236605    66.275078   \n",
       "25%       0.055201     0.194046     0.249604     0.408432   115.489903   \n",
       "50%       0.935599     0.546047     0.476037     0.534229   360.710725   \n",
       "75%       3.005612     0.741883     8.446279     0.967509   788.979109   \n",
       "max      14.729717     2.561256    31.784409     3.344451  1941.714281   \n",
       "\n",
       "       mae_param_3  mse_param_4  mae_param_4  \n",
       "count    11.000000    11.000000    11.000000  \n",
       "mean     14.209816     0.030484     0.089112  \n",
       "std       8.015762     0.057176     0.033918  \n",
       "min       6.748200     0.003616     0.029845  \n",
       "25%       8.511401     0.009314     0.065713  \n",
       "50%      11.234837     0.013485     0.090251  \n",
       "75%      17.781224     0.019686     0.110931  \n",
       "max      33.002168     0.201778     0.144722  "
      ]
     },
     "execution_count": 26,
     "metadata": {},
     "output_type": "execute_result"
    }
   ],
   "source": [
    "# x0, L, k, b   y = 1/ (L + np.exp(-k*(x-x0)))+b\n",
    "\n",
    "df_errors.describe()"
   ]
  },
  {
   "cell_type": "code",
   "execution_count": 27,
   "metadata": {},
   "outputs": [
    {
     "name": "stdout",
     "output_type": "stream",
     "text": [
      "Mean Squared errors for 11 drugs\n"
     ]
    },
    {
     "data": {
      "image/png": "[encoded data removed]",
      "text/plain": [
       "<Figure size 1152x288 with 4 Axes>"
      ]
     },
     "metadata": {
      "needs_background": "light"
     },
     "output_type": "display_data"
    }
   ],
   "source": [
    "# parameters: x0, L, k, b\n",
    "# y = 1/ (L + np.exp(-k*(x-x0)))+b\n",
    "\n",
    "fig = plt.figure(figsize=(16, 4))\n",
    "fig.subplots_adjust(hspace=0.4, wspace=0.4)\n",
    "n_plots= 4\n",
    "parameters_to_show = [\"mse_param_\"+str(i+1) for i in range(4)]\n",
    "print(\"Mean Squared errors for %d drugs\" % df_errors.shape[0])\n",
    "for i in range(n_plots):\n",
    "    ax = fig.add_subplot(1, n_plots, i+1)\n",
    "    ax.hist(df_errors[parameters_to_show[i]], bins=5)\n",
    "    ax.set_xlabel(\"MSE for param_\"+str(i+1))"
   ]
  },
  {
   "cell_type": "markdown",
   "metadata": {},
   "source": [
    "**Observations:**\n",
    "<br> The fitting function was sigmoid_4_parameters: y = 1/ (L + np.exp(-k*(x-x0)))+b\n",
    "<br> The best predictions are for parameter 4 (b) where the majority of predictions has MSE less than 5\n",
    "<br> Rather good results are for parameters 1 and 3 with MSE for majority of drugs <20"
   ]
  },
  {
   "cell_type": "code",
   "execution_count": 28,
   "metadata": {},
   "outputs": [
    {
     "name": "stdout",
     "output_type": "stream",
     "text": [
      "Mean Absolute errors for 11 drugs\n"
     ]
    },
    {
     "data": {
      "image/png": "[encoded data removed]",
      "text/plain": [
       "<Figure size 1152x288 with 4 Axes>"
      ]
     },
     "metadata": {
      "needs_background": "light"
     },
     "output_type": "display_data"
    }
   ],
   "source": [
    "fig = plt.figure(figsize=(16, 4))\n",
    "fig.subplots_adjust(hspace=0.4, wspace=0.4)\n",
    "n_plots= 4\n",
    "print(\"Mean Absolute errors for %d drugs\" % df_errors.shape[0])\n",
    "parameters_to_show = [\"mae_param_\"+str(i+1) for i in range(4)]\n",
    "for i in range(n_plots):\n",
    "    ax = fig.add_subplot(1, n_plots, i+1)\n",
    "    ax.hist(df_errors[parameters_to_show[i]])\n",
    "    ax.set_xlabel(\"MAE for param_\"+str(i+1))"
   ]
  },
  {
   "cell_type": "code",
   "execution_count": 30,
   "metadata": {},
   "outputs": [
    {
     "name": "stdout",
     "output_type": "stream",
     "text": [
      "Merged data: 300\n",
      "Merged and Fitted data with predicted R2>0.9: 22\n"
     ]
    }
   ],
   "source": [
    "print(\"Merged data:\", short_test.shape[0])\n",
    "print(\"Merged and Fitted data with predicted R2>0.9:\", short_test[short_test[\"r2_predicted\"]>0.9].shape[0])"
   ]
  },
  {
   "cell_type": "markdown",
   "metadata": {},
   "source": [
    "**Observation:**\n",
    "    14% of the data is predicted well (R2<0.9)"
   ]
  },
  {
   "cell_type": "code",
   "execution_count": 31,
   "metadata": {},
   "outputs": [
    {
     "data": {
      "text/plain": [
       "(11, 11)"
      ]
     },
     "execution_count": 31,
     "metadata": {},
     "output_type": "execute_result"
    }
   ],
   "source": [
    "short_test[\"DRUG_ID\"].nunique(), short_test[short_test[\"r2_predicted\"]<0.9][\"DRUG_ID\"].nunique()"
   ]
  },
  {
   "cell_type": "code",
   "execution_count": 32,
   "metadata": {},
   "outputs": [],
   "source": [
    "less_09 = short_test[short_test[\"r2_predicted\"]<=0.9]\n",
    "above_09 = short_test[short_test[\"r2_predicted\"]>0.9]"
   ]
  },
  {
   "cell_type": "code",
   "execution_count": 35,
   "metadata": {},
   "outputs": [
    {
     "data": {
      "text/html": [
       "<div>\n",
       "<style scoped>\n",
       "    .dataframe tbody tr th:only-of-type {\n",
       "        vertical-align: middle;\n",
       "    }\n",
       "\n",
       "    .dataframe tbody tr th {\n",
       "        vertical-align: top;\n",
       "    }\n",
       "\n",
       "    .dataframe thead th {\n",
       "        text-align: right;\n",
       "    }\n",
       "</style>\n",
       "<table border=\"1\" class=\"dataframe\">\n",
       "  <thead>\n",
       "    <tr style=\"text-align: right;\">\n",
       "      <th></th>\n",
       "      <th>DRUG_ID</th>\n",
       "      <th>above_09</th>\n",
       "      <th>less_09</th>\n",
       "      <th>sum</th>\n",
       "      <th>percent_success</th>\n",
       "      <th>Drug Name</th>\n",
       "      <th>Synonyms</th>\n",
       "      <th>Target</th>\n",
       "      <th>Target Pathway</th>\n",
       "    </tr>\n",
       "  </thead>\n",
       "  <tbody>\n",
       "    <tr>\n",
       "      <th>4</th>\n",
       "      <td>276</td>\n",
       "      <td>8.0</td>\n",
       "      <td>22</td>\n",
       "      <td>30.0</td>\n",
       "      <td>26.666667</td>\n",
       "      <td>CAY10603</td>\n",
       "      <td>-</td>\n",
       "      <td>HDAC1, HDAC6</td>\n",
       "      <td>Chromatin histone acetylation</td>\n",
       "    </tr>\n",
       "    <tr>\n",
       "      <th>1</th>\n",
       "      <td>219</td>\n",
       "      <td>6.0</td>\n",
       "      <td>20</td>\n",
       "      <td>26.0</td>\n",
       "      <td>23.076923</td>\n",
       "      <td>AT-7519</td>\n",
       "      <td>AT7519</td>\n",
       "      <td>CDK1, CDK2, CDK4, CDK6, CDK9</td>\n",
       "      <td>Cell cycle</td>\n",
       "    </tr>\n",
       "    <tr>\n",
       "      <th>5</th>\n",
       "      <td>346</td>\n",
       "      <td>3.0</td>\n",
       "      <td>15</td>\n",
       "      <td>18.0</td>\n",
       "      <td>16.666667</td>\n",
       "      <td>THZ-2-102-1</td>\n",
       "      <td>-</td>\n",
       "      <td>CDK7</td>\n",
       "      <td>Cell cycle</td>\n",
       "    </tr>\n",
       "    <tr>\n",
       "      <th>3</th>\n",
       "      <td>273</td>\n",
       "      <td>3.0</td>\n",
       "      <td>29</td>\n",
       "      <td>32.0</td>\n",
       "      <td>9.375000</td>\n",
       "      <td>CUDC-101</td>\n",
       "      <td>CUDC 101</td>\n",
       "      <td>HDAC1-10, EGFR, ERBB2</td>\n",
       "      <td>Other</td>\n",
       "    </tr>\n",
       "    <tr>\n",
       "      <th>0</th>\n",
       "      <td>170</td>\n",
       "      <td>1.0</td>\n",
       "      <td>30</td>\n",
       "      <td>31.0</td>\n",
       "      <td>3.225806</td>\n",
       "      <td>Shikonin</td>\n",
       "      <td>Anchusin</td>\n",
       "      <td>not defined</td>\n",
       "      <td>Other</td>\n",
       "    </tr>\n",
       "    <tr>\n",
       "      <th>2</th>\n",
       "      <td>272</td>\n",
       "      <td>1.0</td>\n",
       "      <td>32</td>\n",
       "      <td>33.0</td>\n",
       "      <td>3.030303</td>\n",
       "      <td>AR-42</td>\n",
       "      <td>HDAC-42, AR 42, AR42</td>\n",
       "      <td>HDAC1</td>\n",
       "      <td>Chromatin histone acetylation</td>\n",
       "    </tr>\n",
       "    <tr>\n",
       "      <th>6</th>\n",
       "      <td>173</td>\n",
       "      <td>0.0</td>\n",
       "      <td>16</td>\n",
       "      <td>16.0</td>\n",
       "      <td>0.000000</td>\n",
       "      <td>FH535</td>\n",
       "      <td>-</td>\n",
       "      <td>PPARgamma, PPARdelta</td>\n",
       "      <td>WNT signaling</td>\n",
       "    </tr>\n",
       "    <tr>\n",
       "      <th>7</th>\n",
       "      <td>180</td>\n",
       "      <td>0.0</td>\n",
       "      <td>22</td>\n",
       "      <td>22.0</td>\n",
       "      <td>0.000000</td>\n",
       "      <td>Thapsigargin</td>\n",
       "      <td>Octanoic acid</td>\n",
       "      <td>SERCA</td>\n",
       "      <td>Other</td>\n",
       "    </tr>\n",
       "    <tr>\n",
       "      <th>8</th>\n",
       "      <td>200</td>\n",
       "      <td>0.0</td>\n",
       "      <td>27</td>\n",
       "      <td>27.0</td>\n",
       "      <td>0.000000</td>\n",
       "      <td>Dacinostat</td>\n",
       "      <td>NVP-LAQ824, LAQ824</td>\n",
       "      <td>HDAC1</td>\n",
       "      <td>Chromatin histone acetylation</td>\n",
       "    </tr>\n",
       "    <tr>\n",
       "      <th>9</th>\n",
       "      <td>274</td>\n",
       "      <td>0.0</td>\n",
       "      <td>30</td>\n",
       "      <td>30.0</td>\n",
       "      <td>0.000000</td>\n",
       "      <td>Belinostat</td>\n",
       "      <td>PXD101, PXD-101</td>\n",
       "      <td>HDAC1</td>\n",
       "      <td>Chromatin histone acetylation</td>\n",
       "    </tr>\n",
       "    <tr>\n",
       "      <th>10</th>\n",
       "      <td>328</td>\n",
       "      <td>0.0</td>\n",
       "      <td>35</td>\n",
       "      <td>35.0</td>\n",
       "      <td>0.000000</td>\n",
       "      <td>SNX-2112</td>\n",
       "      <td>SNX 2112</td>\n",
       "      <td>HSP90</td>\n",
       "      <td>Protein stability and degradation</td>\n",
       "    </tr>\n",
       "  </tbody>\n",
       "</table>\n",
       "</div>"
      ],
      "text/plain": [
       "    DRUG_ID  above_09  less_09   sum  percent_success     Drug Name  \\\n",
       "4       276       8.0       22  30.0        26.666667      CAY10603   \n",
       "1       219       6.0       20  26.0        23.076923       AT-7519   \n",
       "5       346       3.0       15  18.0        16.666667   THZ-2-102-1   \n",
       "3       273       3.0       29  32.0         9.375000      CUDC-101   \n",
       "0       170       1.0       30  31.0         3.225806      Shikonin   \n",
       "2       272       1.0       32  33.0         3.030303         AR-42   \n",
       "6       173       0.0       16  16.0         0.000000         FH535   \n",
       "7       180       0.0       22  22.0         0.000000  Thapsigargin   \n",
       "8       200       0.0       27  27.0         0.000000    Dacinostat   \n",
       "9       274       0.0       30  30.0         0.000000    Belinostat   \n",
       "10      328       0.0       35  35.0         0.000000      SNX-2112   \n",
       "\n",
       "                Synonyms                        Target  \\\n",
       "4                      -                  HDAC1, HDAC6   \n",
       "1                 AT7519  CDK1, CDK2, CDK4, CDK6, CDK9   \n",
       "5                      -                          CDK7   \n",
       "3               CUDC 101         HDAC1-10, EGFR, ERBB2   \n",
       "0               Anchusin                   not defined   \n",
       "2   HDAC-42, AR 42, AR42                         HDAC1   \n",
       "6                      -          PPARgamma, PPARdelta   \n",
       "7          Octanoic acid                         SERCA   \n",
       "8     NVP-LAQ824, LAQ824                         HDAC1   \n",
       "9        PXD101, PXD-101                         HDAC1   \n",
       "10              SNX 2112                         HSP90   \n",
       "\n",
       "                       Target Pathway  \n",
       "4       Chromatin histone acetylation  \n",
       "1                          Cell cycle  \n",
       "5                          Cell cycle  \n",
       "3                               Other  \n",
       "0                               Other  \n",
       "2       Chromatin histone acetylation  \n",
       "6                       WNT signaling  \n",
       "7                               Other  \n",
       "8       Chromatin histone acetylation  \n",
       "9       Chromatin histone acetylation  \n",
       "10  Protein stability and degradation  "
      ]
     },
     "execution_count": 35,
     "metadata": {},
     "output_type": "execute_result"
    }
   ],
   "source": [
    "d1 = above_09.groupby(\"DRUG_ID\")[[\"COSMIC_ID\"]].count().reset_index()\n",
    "d2 = less_09.groupby(\"DRUG_ID\")[[\"COSMIC_ID\"]].count().reset_index()\n",
    "compare_df = pd.merge(left = d1, right = d2, how= \"outer\", on = \"DRUG_ID\").fillna(0).rename(columns = {\"COSMIC_ID_x\": \"above_09\", \"COSMIC_ID_y\": \"less_09\"})\n",
    "compare_df[\"sum\"] = compare_df[\"above_09\"]+compare_df[\"less_09\"]\n",
    "compare_df[\"percent_success\"] = compare_df[\"above_09\"]*100/(compare_df[\"sum\"])\n",
    "compare_df = pd.merge(left = compare_df, right = drug_features, how= \"left\", on = \"DRUG_ID\")\n",
    "compare_df.sort_values(by=\"percent_success\", ascending=False)"
   ]
  },
  {
   "cell_type": "code",
   "execution_count": 36,
   "metadata": {},
   "outputs": [
    {
     "name": "stdout",
     "output_type": "stream",
     "text": [
      "Number of drugs with number of good predictions above 70%: 0\n"
     ]
    },
    {
     "data": {
      "image/png": "[encoded data removed]",
      "text/plain": [
       "<Figure size 432x288 with 1 Axes>"
      ]
     },
     "metadata": {
      "needs_background": "light"
     },
     "output_type": "display_data"
    }
   ],
   "source": [
    "print(\"Number of drugs with number of good predictions above 70%:\", sum(compare_df[\"percent_success\"]>70))\n",
    "compare_df[\"percent_success\"].hist()\n",
    "plt.xlabel(\"Percent of succesful predictions for each drug\");"
   ]
  },
  {
   "cell_type": "code",
   "execution_count": 37,
   "metadata": {},
   "outputs": [
    {
     "name": "stdout",
     "output_type": "stream",
     "text": [
      "(262, 3)\n"
     ]
    },
    {
     "data": {
      "text/html": [
       "<div>\n",
       "<style scoped>\n",
       "    .dataframe tbody tr th:only-of-type {\n",
       "        vertical-align: middle;\n",
       "    }\n",
       "\n",
       "    .dataframe tbody tr th {\n",
       "        vertical-align: top;\n",
       "    }\n",
       "\n",
       "    .dataframe thead th {\n",
       "        text-align: right;\n",
       "    }\n",
       "</style>\n",
       "<table border=\"1\" class=\"dataframe\">\n",
       "  <thead>\n",
       "    <tr style=\"text-align: right;\">\n",
       "      <th></th>\n",
       "      <th>COSMIC_ID</th>\n",
       "      <th>above_09</th>\n",
       "      <th>less_09</th>\n",
       "      <th>sum</th>\n",
       "      <th>percent_success</th>\n",
       "    </tr>\n",
       "  </thead>\n",
       "  <tbody>\n",
       "  </tbody>\n",
       "</table>\n",
       "</div>"
      ],
      "text/plain": [
       "Empty DataFrame\n",
       "Columns: [COSMIC_ID, above_09, less_09, sum, percent_success]\n",
       "Index: []"
      ]
     },
     "execution_count": 37,
     "metadata": {},
     "output_type": "execute_result"
    }
   ],
   "source": [
    "l1 = above_09.groupby(\"COSMIC_ID\")[[\"DRUG_ID\"]].count().reset_index()\n",
    "l2 = less_09.groupby(\"COSMIC_ID\")[[\"DRUG_ID\"]].count().reset_index()\n",
    "\n",
    "compare_line = pd.merge(left = l1, right = l2, how= \"outer\", on = \"COSMIC_ID\").fillna(0).rename(columns = {\"DRUG_ID_x\": \"above_09\", \"DRUG_ID_y\": \"less_09\"})\n",
    "print(compare_line.shape)\n",
    "compare_line[\"sum\"] = compare_line[\"above_09\"]+compare_line[\"less_09\"]\n",
    "compare_line[\"percent_success\"] = compare_line[\"above_09\"]*100/(compare_line[\"sum\"])\n",
    "compare_line[compare_line[\"sum\"]>5].sort_values(by=\"percent_success\", ascending=False)"
   ]
  },
  {
   "cell_type": "code",
   "execution_count": 38,
   "metadata": {},
   "outputs": [
    {
     "data": {
      "text/plain": [
       "240"
      ]
     },
     "execution_count": 38,
     "metadata": {},
     "output_type": "execute_result"
    }
   ],
   "source": [
    "compare_line[compare_line[\"percent_success\"]==0].shape[0]"
   ]
  }
 ],
 "metadata": {
  "kernelspec": {
   "display_name": "myspark",
   "language": "python",
   "name": "myspark"
  },
  "language_info": {
   "codemirror_mode": {
    "name": "ipython",
    "version": 3
   },
   "file_extension": ".py",
   "mimetype": "text/x-python",
   "name": "python",
   "nbconvert_exporter": "python",
   "pygments_lexer": "ipython3",
   "version": "3.6.10"
  }
 },
 "nbformat": 4,
 "nbformat_minor": 2
}
