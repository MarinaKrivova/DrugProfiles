{
 "cells": [
  {
   "cell_type": "code",
   "execution_count": 1,
   "metadata": {},
   "outputs": [],
   "source": [
    "import pandas as pd\n",
    "import numpy as np\n",
    "import seaborn as sns\n",
    "import matplotlib.pyplot as plt\n",
    "%matplotlib inline\n",
    "from sklearn.metrics import r2_score\n",
    "from scipy.optimize import curve_fit\n",
    "from scipy.optimize import leastsq\n",
    "import scipy.optimize as opt\n",
    "from tqdm import tqdm\n",
    "import warnings\n",
    "warnings.filterwarnings(\"ignore\")\n",
    "\n",
    "from sklearn.kernel_ridge import KernelRidge\n",
    "from sklearn.model_selection import train_test_split\n",
    "from sklearn.metrics import mean_squared_error\n",
    "from sklearn.metrics import mean_absolute_error"
   ]
  },
  {
   "cell_type": "code",
   "execution_count": 2,
   "metadata": {},
   "outputs": [],
   "source": [
    "import os\n",
    "from data_preprocessing import FilteringCurves, ShowResponseCurves\n",
    "from fitting_curves import FittingColumn, ShowResponseCurvesWithFitting, compute_r2_score\n",
    "_FOLDER = \"./data/\""
   ]
  },
  {
   "cell_type": "code",
   "execution_count": 24,
   "metadata": {},
   "outputs": [],
   "source": [
    "def TrainTestKernelByDrug(train_data, test_data, drug_ids, number_coefficients, kernel='linear', \n",
    "                          kernel_dict=None, kernel_param = None,\n",
    "                          alpha=1, gamma=None, degree=3, coef0=1):\n",
    "    \n",
    "    conc_columns= [\"fd_num_\"+str(i) for i in range(10)]\n",
    "    response_norm = ['norm_cells_'+str(i) for i in range(10)]\n",
    "    param_cols = [\"param_\"+str(i) for i in range(1,5)]\n",
    "    df_results = test_data[['COSMIC_ID', 'DRUG_ID'] + conc_columns + response_norm + param_cols].copy()\n",
    "    \n",
    "    #check whether each coefficient needs its own parameters\n",
    "\n",
    "    for drug_id in drug_ids:\n",
    "        indexes_train = train_data[train_data[\"DRUG_ID\"]==drug_id].index\n",
    "        indexes_test = test_data[test_data[\"DRUG_ID\"]==drug_id].index\n",
    "    \n",
    "        X_train = train_data.loc[indexes_train, train_data.columns[26:-4]].values\n",
    "        X_test = test_data.loc[indexes_test, test_data.columns[26:-4]].values\n",
    "    \n",
    "        for i in range(number_coefficients):\n",
    "            #check whether each coefficient needs its own parameters\n",
    "            if kernel_dict:\n",
    "                kernel = kernel_dict[i+1]\n",
    "                alpha_value = np.float32(kernel_param[kernel][\"alpha\"][i+1])\n",
    "                try:\n",
    "                    gamma_value = np.float32(kernel_param[kernel][\"gamma\"][i+1])\n",
    "                    degree_value = np.float32(kernel_param[kernel][\"degree\"][i+1])\n",
    "                    coef0_value = np.float32(kernel_param[kernel][\"coef0\"][i+1])\n",
    "                except:\n",
    "                    gamma_value = gamma\n",
    "                    degree_value = degree\n",
    "                    coef0_value = coef0\n",
    "            #if kernel is a string (i.e the same for all parameters)\n",
    "            else:\n",
    "                if type(alpha)==dict:\n",
    "                    alpha_value = alpha[i+1]\n",
    "                else:\n",
    "                    alpha_value = alpha\n",
    "                \n",
    "                if type(gamma)==dict:\n",
    "                    gamma_value = gamma[i+1]\n",
    "                else:\n",
    "                    gamma_value = gamma\n",
    "            \n",
    "                if type(degree)==dict:\n",
    "                    degree_value = degree[i+1]\n",
    "                else:\n",
    "                    degree_value = degree\n",
    "                \n",
    "                if type(coef0)==dict:\n",
    "                    coef0_value = coef0[i+1]\n",
    "                else:\n",
    "                    coef0_value = coef0\n",
    "            \n",
    "            y_train = train_data.loc[indexes_train, \"param_\"+str(i+1)].values\n",
    "\n",
    "            kernel_model = KernelRidge(kernel = kernel, alpha = alpha_value, gamma=gamma_value, \n",
    "                                 degree=degree_value, coef0=coef0_value)\n",
    "            \n",
    "            kernel_model.fit(X_train, y_train)\n",
    "            y_pred = kernel_model.predict(X_test)\n",
    "            df_results.loc[indexes_test, \"pred_param_\"+str(i+1)] = y_pred\n",
    "        \n",
    "    return df_results\n",
    "\n",
    "def ComputeErrorByDrug(df_results, number_coefficients, metrics=\"mse\"):\n",
    "    df_errors_test = pd.DataFrame()\n",
    "    for drug_id in df_results[\"DRUG_ID\"].unique():\n",
    "        for i in range(number_coefficients):\n",
    "            drug_index = df_results[df_results[\"DRUG_ID\"]==drug_id].index\n",
    "            y_test = df_results.loc[drug_index, \"param_\"+str(i+1)]\n",
    "            y_pred = df_results.loc[drug_index, \"pred_param_\"+str(i+1)]\n",
    "            if metrics == \"mse\":\n",
    "                error = mean_squared_error(y_test, y_pred)\n",
    "            elif metrics == \"mae\":\n",
    "                error = mean_absolute_error(y_test, y_pred)\n",
    "            else:\n",
    "                print(\"ERROR: Unknown metrics\")\n",
    "            df_errors_test.loc[drug_id, metrics+\"_coef_\"+str(i+1)] = error\n",
    "    return df_errors_test"
   ]
  },
  {
   "cell_type": "code",
   "execution_count": 4,
   "metadata": {},
   "outputs": [
    {
     "data": {
      "text/plain": [
       "['merged_drug_profiles_sigmoid4_23.csv',\n",
       " 'filtered_drug_profiles_13.csv',\n",
       " 'filtered_drug_profiles_12.csv',\n",
       " 'filtered_drug_profiles_23.csv',\n",
       " 'filtered_drug_profiles.csv',\n",
       " 'merged_drug_profiles_sigmoid4_123.csv',\n",
       " 'filtered_drug_profiles_123.csv']"
      ]
     },
     "execution_count": 4,
     "metadata": {},
     "output_type": "execute_result"
    }
   ],
   "source": [
    "os.listdir(\"./results/\")"
   ]
  },
  {
   "cell_type": "code",
   "execution_count": 5,
   "metadata": {},
   "outputs": [
    {
     "data": {
      "text/plain": [
       "(2612, 1100)"
      ]
     },
     "execution_count": 5,
     "metadata": {},
     "output_type": "execute_result"
    }
   ],
   "source": [
    "# NEED TO CHANGE - what file to read\n",
    "df = pd.read_csv(\"./results/merged_drug_profiles_sigmoid4_123.csv\")\n",
    "df.shape"
   ]
  },
  {
   "cell_type": "code",
   "execution_count": 6,
   "metadata": {},
   "outputs": [],
   "source": [
    "conc_columns= [\"fd_num_\"+str(i) for i in range(10)]\n",
    "response_norm = ['norm_cells_'+str(i) for i in range(10)]"
   ]
  },
  {
   "cell_type": "code",
   "execution_count": 7,
   "metadata": {},
   "outputs": [
    {
     "data": {
      "text/html": [
       "<div>\n",
       "<style scoped>\n",
       "    .dataframe tbody tr th:only-of-type {\n",
       "        vertical-align: middle;\n",
       "    }\n",
       "\n",
       "    .dataframe tbody tr th {\n",
       "        vertical-align: top;\n",
       "    }\n",
       "\n",
       "    .dataframe thead th {\n",
       "        text-align: right;\n",
       "    }\n",
       "</style>\n",
       "<table border=\"1\" class=\"dataframe\">\n",
       "  <thead>\n",
       "    <tr style=\"text-align: right;\">\n",
       "      <th></th>\n",
       "      <th>DRUG_ID</th>\n",
       "      <th>count_cell_lines</th>\n",
       "      <th>Drug Name</th>\n",
       "      <th>Synonyms</th>\n",
       "      <th>Target</th>\n",
       "      <th>Target Pathway</th>\n",
       "    </tr>\n",
       "  </thead>\n",
       "  <tbody>\n",
       "    <tr>\n",
       "      <th>0</th>\n",
       "      <td>328</td>\n",
       "      <td>115</td>\n",
       "      <td>SNX-2112</td>\n",
       "      <td>SNX 2112</td>\n",
       "      <td>HSP90</td>\n",
       "      <td>Protein stability and degradation</td>\n",
       "    </tr>\n",
       "    <tr>\n",
       "      <th>1</th>\n",
       "      <td>272</td>\n",
       "      <td>107</td>\n",
       "      <td>AR-42</td>\n",
       "      <td>HDAC-42, AR 42, AR42</td>\n",
       "      <td>HDAC1</td>\n",
       "      <td>Chromatin histone acetylation</td>\n",
       "    </tr>\n",
       "    <tr>\n",
       "      <th>2</th>\n",
       "      <td>273</td>\n",
       "      <td>106</td>\n",
       "      <td>CUDC-101</td>\n",
       "      <td>CUDC 101</td>\n",
       "      <td>HDAC1-10, EGFR, ERBB2</td>\n",
       "      <td>Other</td>\n",
       "    </tr>\n",
       "    <tr>\n",
       "      <th>3</th>\n",
       "      <td>170</td>\n",
       "      <td>102</td>\n",
       "      <td>Shikonin</td>\n",
       "      <td>Anchusin</td>\n",
       "      <td>not defined</td>\n",
       "      <td>Other</td>\n",
       "    </tr>\n",
       "    <tr>\n",
       "      <th>4</th>\n",
       "      <td>274</td>\n",
       "      <td>100</td>\n",
       "      <td>Belinostat</td>\n",
       "      <td>PXD101, PXD-101</td>\n",
       "      <td>HDAC1</td>\n",
       "      <td>Chromatin histone acetylation</td>\n",
       "    </tr>\n",
       "    <tr>\n",
       "      <th>5</th>\n",
       "      <td>276</td>\n",
       "      <td>100</td>\n",
       "      <td>CAY10603</td>\n",
       "      <td>-</td>\n",
       "      <td>HDAC1, HDAC6</td>\n",
       "      <td>Chromatin histone acetylation</td>\n",
       "    </tr>\n",
       "    <tr>\n",
       "      <th>6</th>\n",
       "      <td>200</td>\n",
       "      <td>87</td>\n",
       "      <td>Dacinostat</td>\n",
       "      <td>NVP-LAQ824, LAQ824</td>\n",
       "      <td>HDAC1</td>\n",
       "      <td>Chromatin histone acetylation</td>\n",
       "    </tr>\n",
       "    <tr>\n",
       "      <th>7</th>\n",
       "      <td>219</td>\n",
       "      <td>86</td>\n",
       "      <td>AT-7519</td>\n",
       "      <td>AT7519</td>\n",
       "      <td>CDK1, CDK2, CDK4, CDK6, CDK9</td>\n",
       "      <td>Cell cycle</td>\n",
       "    </tr>\n",
       "    <tr>\n",
       "      <th>8</th>\n",
       "      <td>180</td>\n",
       "      <td>72</td>\n",
       "      <td>Thapsigargin</td>\n",
       "      <td>Octanoic acid</td>\n",
       "      <td>SERCA</td>\n",
       "      <td>Other</td>\n",
       "    </tr>\n",
       "    <tr>\n",
       "      <th>9</th>\n",
       "      <td>346</td>\n",
       "      <td>57</td>\n",
       "      <td>THZ-2-102-1</td>\n",
       "      <td>-</td>\n",
       "      <td>CDK7</td>\n",
       "      <td>Cell cycle</td>\n",
       "    </tr>\n",
       "  </tbody>\n",
       "</table>\n",
       "</div>"
      ],
      "text/plain": [
       "   DRUG_ID  count_cell_lines     Drug Name              Synonyms  \\\n",
       "0      328               115      SNX-2112              SNX 2112   \n",
       "1      272               107         AR-42  HDAC-42, AR 42, AR42   \n",
       "2      273               106      CUDC-101              CUDC 101   \n",
       "3      170               102      Shikonin              Anchusin   \n",
       "4      274               100    Belinostat       PXD101, PXD-101   \n",
       "5      276               100      CAY10603                     -   \n",
       "6      200                87    Dacinostat    NVP-LAQ824, LAQ824   \n",
       "7      219                86       AT-7519                AT7519   \n",
       "8      180                72  Thapsigargin         Octanoic acid   \n",
       "9      346                57   THZ-2-102-1                     -   \n",
       "\n",
       "                         Target                     Target Pathway  \n",
       "0                         HSP90  Protein stability and degradation  \n",
       "1                         HDAC1      Chromatin histone acetylation  \n",
       "2         HDAC1-10, EGFR, ERBB2                              Other  \n",
       "3                   not defined                              Other  \n",
       "4                         HDAC1      Chromatin histone acetylation  \n",
       "5                  HDAC1, HDAC6      Chromatin histone acetylation  \n",
       "6                         HDAC1      Chromatin histone acetylation  \n",
       "7  CDK1, CDK2, CDK4, CDK6, CDK9                         Cell cycle  \n",
       "8                         SERCA                              Other  \n",
       "9                          CDK7                         Cell cycle  "
      ]
     },
     "execution_count": 7,
     "metadata": {},
     "output_type": "execute_result"
    }
   ],
   "source": [
    "cell_features = pd.read_csv(_FOLDER+\"Cell_Line_Features_PANCAN_simple_MOBEM.tsv\", sep=\"\\t\")\n",
    "\n",
    "stat_data = df.groupby([\"DRUG_ID\"])[[\"COSMIC_ID\"]].count().rename(columns={\"COSMIC_ID\": \"count_cell_lines\"})\\\n",
    "            .sort_values(\"count_cell_lines\", ascending=False)\n",
    "    \n",
    "\n",
    "drug_features = pd.read_csv(_FOLDER+'/Drug_Features.csv').rename(columns = {\"Drug ID\": \"DRUG_ID\"})\n",
    "statistics = pd.merge(left = stat_data, right = drug_features, how= \"left\", on = \"DRUG_ID\").sort_values(\"count_cell_lines\", ascending =False)\n",
    "statistics.head(10)"
   ]
  },
  {
   "cell_type": "markdown",
   "metadata": {},
   "source": [
    "### Forming train and test sets with specified amount of each drug"
   ]
  },
  {
   "cell_type": "code",
   "execution_count": 8,
   "metadata": {},
   "outputs": [
    {
     "name": "stdout",
     "output_type": "stream",
     "text": [
      "(683, 1100) (300, 1100)\n",
      "CPU times: user 466 ms, sys: 64.6 ms, total: 530 ms\n",
      "Wall time: 535 ms\n"
     ]
    }
   ],
   "source": [
    "%%time\n",
    "\n",
    "# select subsets for each drug and divide each of them into train and test data\n",
    "# concatenate all the train and test subsets\n",
    "\n",
    "gr = df.groupby([\"DRUG_ID\"])[\"COSMIC_ID\"].count()\n",
    "good_drug_ids = gr[gr>50].index\n",
    "len(good_drug_ids)\n",
    "\n",
    "train = pd.DataFrame(columns=df.columns)\n",
    "test = pd.DataFrame(columns=df.columns)\n",
    "\n",
    "for drug_id in good_drug_ids:\n",
    "    df_i = df[df[\"DRUG_ID\"]==drug_id]\n",
    "    np.random.seed(123)\n",
    "    indexes = np.random.permutation(df_i.index)\n",
    "    train_size = int(df_i.shape[0]*0.7)\n",
    "    indexes_train = indexes[:train_size]\n",
    "    indexes_test= indexes[train_size:]\n",
    "    \n",
    "    train_set = df_i.loc[indexes_train, :]\n",
    "    test_set = df_i.loc[indexes_test, :]\n",
    "    \n",
    "    train = pd.concat([train, train_set], axis=0)\n",
    "    test = pd.concat([test, test_set], axis=0)\n",
    "    \n",
    "print(train.shape, test.shape)"
   ]
  },
  {
   "cell_type": "markdown",
   "metadata": {},
   "source": [
    "### Training and testing with only one kernel for all fitting coefficients"
   ]
  },
  {
   "cell_type": "code",
   "execution_count": 9,
   "metadata": {},
   "outputs": [
    {
     "name": "stdout",
     "output_type": "stream",
     "text": [
      "Predicted values give higher R2 than fitted:\n"
     ]
    },
    {
     "data": {
      "text/html": [
       "<div>\n",
       "<style scoped>\n",
       "    .dataframe tbody tr th:only-of-type {\n",
       "        vertical-align: middle;\n",
       "    }\n",
       "\n",
       "    .dataframe tbody tr th {\n",
       "        vertical-align: top;\n",
       "    }\n",
       "\n",
       "    .dataframe thead th {\n",
       "        text-align: right;\n",
       "    }\n",
       "</style>\n",
       "<table border=\"1\" class=\"dataframe\">\n",
       "  <thead>\n",
       "    <tr style=\"text-align: right;\">\n",
       "      <th></th>\n",
       "      <th>DRUG_ID</th>\n",
       "      <th>r2_fitted</th>\n",
       "      <th>r2_predicted</th>\n",
       "    </tr>\n",
       "  </thead>\n",
       "  <tbody>\n",
       "    <tr>\n",
       "      <th>1606</th>\n",
       "      <td>219</td>\n",
       "      <td>5.050434e-08</td>\n",
       "      <td>0.71805</td>\n",
       "    </tr>\n",
       "  </tbody>\n",
       "</table>\n",
       "</div>"
      ],
      "text/plain": [
       "     DRUG_ID     r2_fitted  r2_predicted\n",
       "1606     219  5.050434e-08       0.71805"
      ]
     },
     "metadata": {},
     "output_type": "display_data"
    },
    {
     "name": "stdout",
     "output_type": "stream",
     "text": [
      "Predicted values that give R2 >0.9: 22\n"
     ]
    },
    {
     "data": {
      "text/html": [
       "<div>\n",
       "<style scoped>\n",
       "    .dataframe tbody tr th:only-of-type {\n",
       "        vertical-align: middle;\n",
       "    }\n",
       "\n",
       "    .dataframe tbody tr th {\n",
       "        vertical-align: top;\n",
       "    }\n",
       "\n",
       "    .dataframe thead th {\n",
       "        text-align: right;\n",
       "    }\n",
       "</style>\n",
       "<table border=\"1\" class=\"dataframe\">\n",
       "  <thead>\n",
       "    <tr style=\"text-align: right;\">\n",
       "      <th></th>\n",
       "      <th>DRUG_ID</th>\n",
       "      <th>r2_fitted</th>\n",
       "      <th>r2_predicted</th>\n",
       "    </tr>\n",
       "  </thead>\n",
       "  <tbody>\n",
       "    <tr>\n",
       "      <th>2419</th>\n",
       "      <td>170</td>\n",
       "      <td>0.998540</td>\n",
       "      <td>0.923729</td>\n",
       "    </tr>\n",
       "    <tr>\n",
       "      <th>500</th>\n",
       "      <td>219</td>\n",
       "      <td>0.997481</td>\n",
       "      <td>0.935583</td>\n",
       "    </tr>\n",
       "    <tr>\n",
       "      <th>1855</th>\n",
       "      <td>219</td>\n",
       "      <td>0.998097</td>\n",
       "      <td>0.919643</td>\n",
       "    </tr>\n",
       "    <tr>\n",
       "      <th>81</th>\n",
       "      <td>219</td>\n",
       "      <td>0.998477</td>\n",
       "      <td>0.918837</td>\n",
       "    </tr>\n",
       "    <tr>\n",
       "      <th>944</th>\n",
       "      <td>219</td>\n",
       "      <td>0.998660</td>\n",
       "      <td>0.947403</td>\n",
       "    </tr>\n",
       "  </tbody>\n",
       "</table>\n",
       "</div>"
      ],
      "text/plain": [
       "     DRUG_ID  r2_fitted  r2_predicted\n",
       "2419     170   0.998540      0.923729\n",
       "500      219   0.997481      0.935583\n",
       "1855     219   0.998097      0.919643\n",
       "81       219   0.998477      0.918837\n",
       "944      219   0.998660      0.947403"
      ]
     },
     "metadata": {},
     "output_type": "display_data"
    },
    {
     "name": "stdout",
     "output_type": "stream",
     "text": [
      "Results of direct fitting that gives R2 >0.9: 292\n"
     ]
    }
   ],
   "source": [
    "short_test = TrainTestKernelByDrug(train, test, good_drug_ids, number_coefficients=4, kernel='linear', alpha=1, gamma=None, degree=3, coef0=1)\n",
    "\n",
    "# parameters: x0, L, k, b\n",
    "# y = 1 / (L + np.exp(-k*(x-x0)))+b\n",
    "# Wang 1.0 / (1.0 + np.exp((x-p)/s)   x - dosage [0, 1], p - position, s - shape parameter\n",
    "short_test[['COSMIC_ID', 'DRUG_ID', \"param_1\",\"pred_param_1\",\"param_2\", \"pred_param_2\", \n",
    "            \"param_3\", \"pred_param_3\", \"param_4\", \"pred_param_4\"]].head()\n",
    "\n",
    "fitting_cols = [\"param_\"+str(i) for i in range(1,5)]\n",
    "pred_fitting_cols = [\"pred_param_\"+str(i) for i in range(1,5)]\n",
    "fitting_function = \"sigmoid_4_param\"\n",
    "\n",
    "short_test[\"r2_fitted\"] = compute_r2_score(short_test, x_columns = conc_columns, y_columns = response_norm, \n",
    "                              fitting_parameters=fitting_cols, fitting_function = fitting_function)\n",
    "\n",
    "short_test[\"r2_predicted\"] = compute_r2_score(short_test, x_columns = conc_columns, y_columns = response_norm, \n",
    "                              fitting_parameters=pred_fitting_cols, fitting_function = fitting_function)\n",
    "\n",
    "# only one case when predicted values was a better fit to original data than directly fitted\n",
    "print(\"Predicted values give higher R2 than fitted:\")\n",
    "display(short_test[short_test[\"r2_predicted\"]>short_test[\"r2_fitted\"]][[\"DRUG_ID\",\"r2_fitted\", \"r2_predicted\"]])\n",
    "\n",
    "print(\"Predicted values that give R2 >0.9:\", short_test[short_test[\"r2_predicted\"]>0.9][[\"DRUG_ID\",\"r2_fitted\", \"r2_predicted\"]].shape[0])\n",
    "display(short_test[short_test[\"r2_predicted\"]>0.9][[\"DRUG_ID\",\"r2_fitted\", \"r2_predicted\"]].head())\n",
    "print(\"Results of direct fitting that gives R2 >0.9:\", short_test[short_test[\"r2_fitted\"]>0.9].shape[0])"
   ]
  },
  {
   "cell_type": "code",
   "execution_count": 10,
   "metadata": {},
   "outputs": [
    {
     "name": "stdout",
     "output_type": "stream",
     "text": [
      "Predicted values give higher R2 than fitted:\n"
     ]
    },
    {
     "data": {
      "text/html": [
       "<div>\n",
       "<style scoped>\n",
       "    .dataframe tbody tr th:only-of-type {\n",
       "        vertical-align: middle;\n",
       "    }\n",
       "\n",
       "    .dataframe tbody tr th {\n",
       "        vertical-align: top;\n",
       "    }\n",
       "\n",
       "    .dataframe thead th {\n",
       "        text-align: right;\n",
       "    }\n",
       "</style>\n",
       "<table border=\"1\" class=\"dataframe\">\n",
       "  <thead>\n",
       "    <tr style=\"text-align: right;\">\n",
       "      <th></th>\n",
       "      <th>DRUG_ID</th>\n",
       "      <th>r2_fitted</th>\n",
       "      <th>r2_predicted</th>\n",
       "    </tr>\n",
       "  </thead>\n",
       "  <tbody>\n",
       "    <tr>\n",
       "      <th>1606</th>\n",
       "      <td>219</td>\n",
       "      <td>5.050434e-08</td>\n",
       "      <td>0.397983</td>\n",
       "    </tr>\n",
       "  </tbody>\n",
       "</table>\n",
       "</div>"
      ],
      "text/plain": [
       "     DRUG_ID     r2_fitted  r2_predicted\n",
       "1606     219  5.050434e-08      0.397983"
      ]
     },
     "metadata": {},
     "output_type": "display_data"
    },
    {
     "name": "stdout",
     "output_type": "stream",
     "text": [
      "Predicted values that give R2 >0.9: 56\n"
     ]
    },
    {
     "data": {
      "text/html": [
       "<div>\n",
       "<style scoped>\n",
       "    .dataframe tbody tr th:only-of-type {\n",
       "        vertical-align: middle;\n",
       "    }\n",
       "\n",
       "    .dataframe tbody tr th {\n",
       "        vertical-align: top;\n",
       "    }\n",
       "\n",
       "    .dataframe thead th {\n",
       "        text-align: right;\n",
       "    }\n",
       "</style>\n",
       "<table border=\"1\" class=\"dataframe\">\n",
       "  <thead>\n",
       "    <tr style=\"text-align: right;\">\n",
       "      <th></th>\n",
       "      <th>DRUG_ID</th>\n",
       "      <th>r2_fitted</th>\n",
       "      <th>r2_predicted</th>\n",
       "    </tr>\n",
       "  </thead>\n",
       "  <tbody>\n",
       "    <tr>\n",
       "      <th>134</th>\n",
       "      <td>170</td>\n",
       "      <td>0.998072</td>\n",
       "      <td>0.975915</td>\n",
       "    </tr>\n",
       "    <tr>\n",
       "      <th>1076</th>\n",
       "      <td>170</td>\n",
       "      <td>0.999686</td>\n",
       "      <td>0.986524</td>\n",
       "    </tr>\n",
       "    <tr>\n",
       "      <th>742</th>\n",
       "      <td>170</td>\n",
       "      <td>0.999448</td>\n",
       "      <td>0.982892</td>\n",
       "    </tr>\n",
       "    <tr>\n",
       "      <th>1909</th>\n",
       "      <td>170</td>\n",
       "      <td>0.997694</td>\n",
       "      <td>0.970117</td>\n",
       "    </tr>\n",
       "    <tr>\n",
       "      <th>1768</th>\n",
       "      <td>170</td>\n",
       "      <td>0.999126</td>\n",
       "      <td>0.913019</td>\n",
       "    </tr>\n",
       "  </tbody>\n",
       "</table>\n",
       "</div>"
      ],
      "text/plain": [
       "     DRUG_ID  r2_fitted  r2_predicted\n",
       "134      170   0.998072      0.975915\n",
       "1076     170   0.999686      0.986524\n",
       "742      170   0.999448      0.982892\n",
       "1909     170   0.997694      0.970117\n",
       "1768     170   0.999126      0.913019"
      ]
     },
     "metadata": {},
     "output_type": "display_data"
    },
    {
     "name": "stdout",
     "output_type": "stream",
     "text": [
      "Results of direct fitting that gives R2 >0.9: 292\n"
     ]
    }
   ],
   "source": [
    "# for sigmoid function fitting showed that hyperparameters for all the coefficients are the same,\n",
    "# and from the default values only gamma was different\n",
    "\n",
    "short_test = TrainTestKernelByDrug(train, test, good_drug_ids, number_coefficients=4, kernel='sigmoid', \n",
    "                                   alpha=1, gamma=0.00001, degree=3, coef0=1)\n",
    "\n",
    "# parameters: x0, L, k, b\n",
    "# y = 1 / (L + np.exp(-k*(x-x0)))+b\n",
    "# Wang 1.0 / (1.0 + np.exp((x-p)/s)   x - dosage [0, 1], p - position, s - shape parameter\n",
    "short_test[['COSMIC_ID', 'DRUG_ID', \"param_1\",\"pred_param_1\",\"param_2\", \"pred_param_2\", \n",
    "            \"param_3\", \"pred_param_3\", \"param_4\", \"pred_param_4\"]].head()\n",
    "\n",
    "fitting_cols = [\"param_\"+str(i) for i in range(1,5)]\n",
    "pred_fitting_cols = [\"pred_param_\"+str(i) for i in range(1,5)]\n",
    "fitting_function = \"sigmoid_4_param\"\n",
    "\n",
    "short_test[\"r2_fitted\"] = compute_r2_score(short_test, x_columns = conc_columns, y_columns = response_norm, \n",
    "                              fitting_parameters=fitting_cols, fitting_function = fitting_function)\n",
    "\n",
    "short_test[\"r2_predicted\"] = compute_r2_score(short_test, x_columns = conc_columns, y_columns = response_norm, \n",
    "                              fitting_parameters=pred_fitting_cols, fitting_function = fitting_function)\n",
    "\n",
    "# only one case when predicted values was a better fit to original data than directly fitted\n",
    "print(\"Predicted values give higher R2 than fitted:\")\n",
    "display(short_test[short_test[\"r2_predicted\"]>short_test[\"r2_fitted\"]][[\"DRUG_ID\",\"r2_fitted\", \"r2_predicted\"]])\n",
    "\n",
    "print(\"Predicted values that give R2 >0.9:\", short_test[short_test[\"r2_predicted\"]>0.9][[\"DRUG_ID\",\"r2_fitted\", \"r2_predicted\"]].shape[0])\n",
    "display(short_test[short_test[\"r2_predicted\"]>0.9][[\"DRUG_ID\",\"r2_fitted\", \"r2_predicted\"]].head())\n",
    "print(\"Results of direct fitting that gives R2 >0.9:\", short_test[short_test[\"r2_fitted\"]>0.9].shape[0])"
   ]
  },
  {
   "cell_type": "markdown",
   "metadata": {},
   "source": [
    "### Training and testing tuned kernels"
   ]
  },
  {
   "cell_type": "code",
   "execution_count": 11,
   "metadata": {},
   "outputs": [],
   "source": [
    "# master_tuning123.output Best Kernels for filtered data_123\n",
    "\n",
    "best_parameters_kernels_123 = {\n",
    "    \"linear\": {\"alpha\": {1: 200.0, 2: 100.0, 3: 100.0, 4: 50.0}},\n",
    "               \n",
    "    \"sigmoid\": {\"gamma\" :{1: 1e-05, 2: 1e-05, 3: 1e-05, 4: 0.01},\n",
    "                \"alpha\":  {1: 1.0, 2: 1.0, 3: 1.0, 4: 1.0},\n",
    "                \"coef0\" : {1: 1.0, 2: 1.0, 3: 1.0, 4: 1.0}\n",
    "               },\n",
    "               \n",
    "    \"rbf\" : {\"gamma\" : {1: 1e-05, 2: 1e-05, 3: 1e-04, 4: 1e-04},\n",
    "           \"alpha\" : {1: 5.0, 2: 1.0, 3: 1.0, 4: 0.1}\n",
    "          }, \n",
    "               \n",
    "    \"polynomial\" : { \"gamma\" : {1: 1e-05, 2: 1e-05, 3: 1e-05, 4: 1e-04},\n",
    "                    \"degree\" : {1: 1.0, 2: 1.0, 3: 1.0, 4: 5.0}, \n",
    "                    \"alpha\" : {1: 5.0, 2: 1.0, 3: 1.0, 4: 0.01}\n",
    "                   }}\n",
    "               \n",
    "best_kernels = {1: 'sigmoid', 2: 'polynomial', 3: 'rbf', 4: 'polynomial'}"
   ]
  },
  {
   "cell_type": "code",
   "execution_count": 12,
   "metadata": {},
   "outputs": [
    {
     "name": "stdout",
     "output_type": "stream",
     "text": [
      "Predicted values give higher R2 than fitted:\n"
     ]
    },
    {
     "data": {
      "text/html": [
       "<div>\n",
       "<style scoped>\n",
       "    .dataframe tbody tr th:only-of-type {\n",
       "        vertical-align: middle;\n",
       "    }\n",
       "\n",
       "    .dataframe tbody tr th {\n",
       "        vertical-align: top;\n",
       "    }\n",
       "\n",
       "    .dataframe thead th {\n",
       "        text-align: right;\n",
       "    }\n",
       "</style>\n",
       "<table border=\"1\" class=\"dataframe\">\n",
       "  <thead>\n",
       "    <tr style=\"text-align: right;\">\n",
       "      <th></th>\n",
       "      <th>DRUG_ID</th>\n",
       "      <th>r2_fitted</th>\n",
       "      <th>r2_predicted</th>\n",
       "    </tr>\n",
       "  </thead>\n",
       "  <tbody>\n",
       "    <tr>\n",
       "      <th>1606</th>\n",
       "      <td>219</td>\n",
       "      <td>5.050434e-08</td>\n",
       "      <td>0.482504</td>\n",
       "    </tr>\n",
       "  </tbody>\n",
       "</table>\n",
       "</div>"
      ],
      "text/plain": [
       "     DRUG_ID     r2_fitted  r2_predicted\n",
       "1606     219  5.050434e-08      0.482504"
      ]
     },
     "metadata": {},
     "output_type": "display_data"
    },
    {
     "name": "stdout",
     "output_type": "stream",
     "text": [
      "Predicted values that give R2 >0.9: 56\n"
     ]
    },
    {
     "data": {
      "text/html": [
       "<div>\n",
       "<style scoped>\n",
       "    .dataframe tbody tr th:only-of-type {\n",
       "        vertical-align: middle;\n",
       "    }\n",
       "\n",
       "    .dataframe tbody tr th {\n",
       "        vertical-align: top;\n",
       "    }\n",
       "\n",
       "    .dataframe thead th {\n",
       "        text-align: right;\n",
       "    }\n",
       "</style>\n",
       "<table border=\"1\" class=\"dataframe\">\n",
       "  <thead>\n",
       "    <tr style=\"text-align: right;\">\n",
       "      <th></th>\n",
       "      <th>DRUG_ID</th>\n",
       "      <th>r2_fitted</th>\n",
       "      <th>r2_predicted</th>\n",
       "    </tr>\n",
       "  </thead>\n",
       "  <tbody>\n",
       "    <tr>\n",
       "      <th>134</th>\n",
       "      <td>170</td>\n",
       "      <td>0.998072</td>\n",
       "      <td>0.967177</td>\n",
       "    </tr>\n",
       "    <tr>\n",
       "      <th>1076</th>\n",
       "      <td>170</td>\n",
       "      <td>0.999686</td>\n",
       "      <td>0.988993</td>\n",
       "    </tr>\n",
       "    <tr>\n",
       "      <th>742</th>\n",
       "      <td>170</td>\n",
       "      <td>0.999448</td>\n",
       "      <td>0.982212</td>\n",
       "    </tr>\n",
       "    <tr>\n",
       "      <th>1909</th>\n",
       "      <td>170</td>\n",
       "      <td>0.997694</td>\n",
       "      <td>0.967595</td>\n",
       "    </tr>\n",
       "    <tr>\n",
       "      <th>1768</th>\n",
       "      <td>170</td>\n",
       "      <td>0.999126</td>\n",
       "      <td>0.916483</td>\n",
       "    </tr>\n",
       "  </tbody>\n",
       "</table>\n",
       "</div>"
      ],
      "text/plain": [
       "     DRUG_ID  r2_fitted  r2_predicted\n",
       "134      170   0.998072      0.967177\n",
       "1076     170   0.999686      0.988993\n",
       "742      170   0.999448      0.982212\n",
       "1909     170   0.997694      0.967595\n",
       "1768     170   0.999126      0.916483"
      ]
     },
     "metadata": {},
     "output_type": "display_data"
    },
    {
     "name": "stdout",
     "output_type": "stream",
     "text": [
      "Results of direct fitting that gives R2 >0.9: 292\n"
     ]
    }
   ],
   "source": [
    "short_test = TrainTestKernelByDrug(train, test, good_drug_ids, number_coefficients=4, \n",
    "                                   kernel_dict=best_kernels, kernel_param = best_parameters_kernels_123)\n",
    "\n",
    "# parameters: x0, L, k, b\n",
    "# y = 1 / (L + np.exp(-k*(x-x0)))+b\n",
    "# Wang 1.0 / (1.0 + np.exp((x-p)/s)   x - dosage [0, 1], p - position, s - shape parameter\n",
    "short_test[['COSMIC_ID', 'DRUG_ID', \"param_1\",\"pred_param_1\",\"param_2\", \"pred_param_2\", \n",
    "            \"param_3\", \"pred_param_3\", \"param_4\", \"pred_param_4\"]].head()\n",
    "\n",
    "fitting_cols = [\"param_\"+str(i) for i in range(1,5)]\n",
    "pred_fitting_cols = [\"pred_param_\"+str(i) for i in range(1,5)]\n",
    "fitting_function = \"sigmoid_4_param\"\n",
    "\n",
    "short_test[\"r2_fitted\"] = compute_r2_score(short_test, x_columns = conc_columns, y_columns = response_norm, \n",
    "                              fitting_parameters=fitting_cols, fitting_function = fitting_function)\n",
    "\n",
    "short_test[\"r2_predicted\"] = compute_r2_score(short_test, x_columns = conc_columns, y_columns = response_norm, \n",
    "                              fitting_parameters=pred_fitting_cols, fitting_function = fitting_function)\n",
    "\n",
    "# only one case when predicted values was a better fit to original data than directly fitted\n",
    "print(\"Predicted values give higher R2 than fitted:\")\n",
    "display(short_test[short_test[\"r2_predicted\"]>short_test[\"r2_fitted\"]][[\"DRUG_ID\",\"r2_fitted\", \"r2_predicted\"]])\n",
    "\n",
    "print(\"Predicted values that give R2 >0.9:\", short_test[short_test[\"r2_predicted\"]>0.9][[\"DRUG_ID\",\"r2_fitted\", \"r2_predicted\"]].shape[0])\n",
    "display(short_test[short_test[\"r2_predicted\"]>0.9][[\"DRUG_ID\",\"r2_fitted\", \"r2_predicted\"]].head())\n",
    "print(\"Results of direct fitting that gives R2 >0.9:\", short_test[short_test[\"r2_fitted\"]>0.9].shape[0])"
   ]
  },
  {
   "cell_type": "markdown",
   "metadata": {},
   "source": [
    "**Conclusions:** Applying the similar sigmoid kernel to all coefficients gives almost the same results as usage of different kernels to each coefficient"
   ]
  },
  {
   "cell_type": "markdown",
   "metadata": {},
   "source": [
    "### Analysis of the best kernel learnning"
   ]
  },
  {
   "cell_type": "code",
   "execution_count": 13,
   "metadata": {},
   "outputs": [
    {
     "name": "stdout",
     "output_type": "stream",
     "text": [
      "Predicted values give higher R2 than fitted:\n"
     ]
    },
    {
     "data": {
      "text/html": [
       "<div>\n",
       "<style scoped>\n",
       "    .dataframe tbody tr th:only-of-type {\n",
       "        vertical-align: middle;\n",
       "    }\n",
       "\n",
       "    .dataframe tbody tr th {\n",
       "        vertical-align: top;\n",
       "    }\n",
       "\n",
       "    .dataframe thead th {\n",
       "        text-align: right;\n",
       "    }\n",
       "</style>\n",
       "<table border=\"1\" class=\"dataframe\">\n",
       "  <thead>\n",
       "    <tr style=\"text-align: right;\">\n",
       "      <th></th>\n",
       "      <th>DRUG_ID</th>\n",
       "      <th>r2_fitted</th>\n",
       "      <th>r2_predicted</th>\n",
       "    </tr>\n",
       "  </thead>\n",
       "  <tbody>\n",
       "    <tr>\n",
       "      <th>1606</th>\n",
       "      <td>219</td>\n",
       "      <td>5.050434e-08</td>\n",
       "      <td>0.397983</td>\n",
       "    </tr>\n",
       "  </tbody>\n",
       "</table>\n",
       "</div>"
      ],
      "text/plain": [
       "     DRUG_ID     r2_fitted  r2_predicted\n",
       "1606     219  5.050434e-08      0.397983"
      ]
     },
     "metadata": {},
     "output_type": "display_data"
    },
    {
     "name": "stdout",
     "output_type": "stream",
     "text": [
      "Predicted values that give R2 >0.9: 56\n"
     ]
    },
    {
     "data": {
      "text/html": [
       "<div>\n",
       "<style scoped>\n",
       "    .dataframe tbody tr th:only-of-type {\n",
       "        vertical-align: middle;\n",
       "    }\n",
       "\n",
       "    .dataframe tbody tr th {\n",
       "        vertical-align: top;\n",
       "    }\n",
       "\n",
       "    .dataframe thead th {\n",
       "        text-align: right;\n",
       "    }\n",
       "</style>\n",
       "<table border=\"1\" class=\"dataframe\">\n",
       "  <thead>\n",
       "    <tr style=\"text-align: right;\">\n",
       "      <th></th>\n",
       "      <th>DRUG_ID</th>\n",
       "      <th>r2_fitted</th>\n",
       "      <th>r2_predicted</th>\n",
       "    </tr>\n",
       "  </thead>\n",
       "  <tbody>\n",
       "    <tr>\n",
       "      <th>134</th>\n",
       "      <td>170</td>\n",
       "      <td>0.998072</td>\n",
       "      <td>0.975915</td>\n",
       "    </tr>\n",
       "    <tr>\n",
       "      <th>1076</th>\n",
       "      <td>170</td>\n",
       "      <td>0.999686</td>\n",
       "      <td>0.986524</td>\n",
       "    </tr>\n",
       "    <tr>\n",
       "      <th>742</th>\n",
       "      <td>170</td>\n",
       "      <td>0.999448</td>\n",
       "      <td>0.982892</td>\n",
       "    </tr>\n",
       "    <tr>\n",
       "      <th>1909</th>\n",
       "      <td>170</td>\n",
       "      <td>0.997694</td>\n",
       "      <td>0.970117</td>\n",
       "    </tr>\n",
       "    <tr>\n",
       "      <th>1768</th>\n",
       "      <td>170</td>\n",
       "      <td>0.999126</td>\n",
       "      <td>0.913019</td>\n",
       "    </tr>\n",
       "  </tbody>\n",
       "</table>\n",
       "</div>"
      ],
      "text/plain": [
       "     DRUG_ID  r2_fitted  r2_predicted\n",
       "134      170   0.998072      0.975915\n",
       "1076     170   0.999686      0.986524\n",
       "742      170   0.999448      0.982892\n",
       "1909     170   0.997694      0.970117\n",
       "1768     170   0.999126      0.913019"
      ]
     },
     "metadata": {},
     "output_type": "display_data"
    },
    {
     "name": "stdout",
     "output_type": "stream",
     "text": [
      "Results of direct fitting that gives R2 >0.9: 292\n"
     ]
    }
   ],
   "source": [
    "# for sigmoid function fitting showed that hyperparameters for all the coefficients are the same,\n",
    "# and from the default values only gamma was different\n",
    "\n",
    "short_test = TrainTestKernelByDrug(train, test, good_drug_ids, number_coefficients=4, kernel='sigmoid', \n",
    "                                   alpha=1, gamma=0.00001, degree=3, coef0=1)\n",
    "\n",
    "# parameters: x0, L, k, b\n",
    "# y = 1 / (L + np.exp(-k*(x-x0)))+b\n",
    "# Wang 1.0 / (1.0 + np.exp((x-p)/s)   x - dosage [0, 1], p - position, s - shape parameter\n",
    "short_test[['COSMIC_ID', 'DRUG_ID', \"param_1\",\"pred_param_1\",\"param_2\", \"pred_param_2\", \n",
    "            \"param_3\", \"pred_param_3\", \"param_4\", \"pred_param_4\"]].head()\n",
    "\n",
    "fitting_cols = [\"param_\"+str(i) for i in range(1,5)]\n",
    "pred_fitting_cols = [\"pred_param_\"+str(i) for i in range(1,5)]\n",
    "fitting_function = \"sigmoid_4_param\"\n",
    "\n",
    "short_test[\"r2_fitted\"] = compute_r2_score(short_test, x_columns = conc_columns, y_columns = response_norm, \n",
    "                              fitting_parameters=fitting_cols, fitting_function = fitting_function)\n",
    "\n",
    "short_test[\"r2_predicted\"] = compute_r2_score(short_test, x_columns = conc_columns, y_columns = response_norm, \n",
    "                              fitting_parameters=pred_fitting_cols, fitting_function = fitting_function)\n",
    "\n",
    "# only one case when predicted values was a better fit to original data than directly fitted\n",
    "print(\"Predicted values give higher R2 than fitted:\")\n",
    "display(short_test[short_test[\"r2_predicted\"]>short_test[\"r2_fitted\"]][[\"DRUG_ID\",\"r2_fitted\", \"r2_predicted\"]])\n",
    "\n",
    "print(\"Predicted values that give R2 >0.9:\", short_test[short_test[\"r2_predicted\"]>0.9][[\"DRUG_ID\",\"r2_fitted\", \"r2_predicted\"]].shape[0])\n",
    "display(short_test[short_test[\"r2_predicted\"]>0.9][[\"DRUG_ID\",\"r2_fitted\", \"r2_predicted\"]].head())\n",
    "print(\"Results of direct fitting that gives R2 >0.9:\", short_test[short_test[\"r2_fitted\"]>0.9].shape[0])\n"
   ]
  },
  {
   "cell_type": "code",
   "execution_count": 14,
   "metadata": {},
   "outputs": [
    {
     "name": "stdout",
     "output_type": "stream",
     "text": [
      "Figures titles: Index_DRUG_ID_COSMIC_ID (COSMIC_ID is a cell line)\n"
     ]
    },
    {
     "data": {
      "image/png": "[encoded data removed]",
      "text/plain": [
       "<Figure size 1008x792 with 9 Axes>"
      ]
     },
     "metadata": {
      "needs_background": "light"
     },
     "output_type": "display_data"
    }
   ],
   "source": [
    "df = short_test\n",
    "ShowResponseCurvesWithFitting(df, plots_in_row=3, plots_in_column=3, x_columns=conc_columns, \n",
    "                              y_columns = response_norm, indexes=df.index[:9], \n",
    "                              fitting_function = fitting_function, fitting_parameters = fitting_cols,\n",
    "                             pred_fitting_param=pred_fitting_cols)"
   ]
  },
  {
   "cell_type": "code",
   "execution_count": 28,
   "metadata": {},
   "outputs": [
    {
     "data": {
      "text/html": [
       "<div>\n",
       "<style scoped>\n",
       "    .dataframe tbody tr th:only-of-type {\n",
       "        vertical-align: middle;\n",
       "    }\n",
       "\n",
       "    .dataframe tbody tr th {\n",
       "        vertical-align: top;\n",
       "    }\n",
       "\n",
       "    .dataframe thead th {\n",
       "        text-align: right;\n",
       "    }\n",
       "</style>\n",
       "<table border=\"1\" class=\"dataframe\">\n",
       "  <thead>\n",
       "    <tr style=\"text-align: right;\">\n",
       "      <th></th>\n",
       "      <th>mse_coef_1</th>\n",
       "      <th>mse_coef_2</th>\n",
       "      <th>mse_coef_3</th>\n",
       "      <th>mse_coef_4</th>\n",
       "    </tr>\n",
       "  </thead>\n",
       "  <tbody>\n",
       "    <tr>\n",
       "      <th>count</th>\n",
       "      <td>11.000000</td>\n",
       "      <td>11.000000</td>\n",
       "      <td>11.000000</td>\n",
       "      <td>11.000000</td>\n",
       "    </tr>\n",
       "    <tr>\n",
       "      <th>mean</th>\n",
       "      <td>2.327552</td>\n",
       "      <td>4.929368</td>\n",
       "      <td>383.850782</td>\n",
       "      <td>0.034465</td>\n",
       "    </tr>\n",
       "    <tr>\n",
       "      <th>std</th>\n",
       "      <td>4.677204</td>\n",
       "      <td>9.433737</td>\n",
       "      <td>464.659691</td>\n",
       "      <td>0.061508</td>\n",
       "    </tr>\n",
       "    <tr>\n",
       "      <th>min</th>\n",
       "      <td>0.007525</td>\n",
       "      <td>0.013851</td>\n",
       "      <td>17.503167</td>\n",
       "      <td>0.003845</td>\n",
       "    </tr>\n",
       "    <tr>\n",
       "      <th>25%</th>\n",
       "      <td>0.016609</td>\n",
       "      <td>0.039294</td>\n",
       "      <td>50.415982</td>\n",
       "      <td>0.009580</td>\n",
       "    </tr>\n",
       "    <tr>\n",
       "      <th>50%</th>\n",
       "      <td>0.031250</td>\n",
       "      <td>0.057143</td>\n",
       "      <td>105.428730</td>\n",
       "      <td>0.014837</td>\n",
       "    </tr>\n",
       "    <tr>\n",
       "      <th>75%</th>\n",
       "      <td>1.405654</td>\n",
       "      <td>5.323002</td>\n",
       "      <td>706.148369</td>\n",
       "      <td>0.020273</td>\n",
       "    </tr>\n",
       "    <tr>\n",
       "      <th>max</th>\n",
       "      <td>14.042062</td>\n",
       "      <td>29.067397</td>\n",
       "      <td>1380.047044</td>\n",
       "      <td>0.216245</td>\n",
       "    </tr>\n",
       "  </tbody>\n",
       "</table>\n",
       "</div>"
      ],
      "text/plain": [
       "       mse_coef_1  mse_coef_2   mse_coef_3  mse_coef_4\n",
       "count   11.000000   11.000000    11.000000   11.000000\n",
       "mean     2.327552    4.929368   383.850782    0.034465\n",
       "std      4.677204    9.433737   464.659691    0.061508\n",
       "min      0.007525    0.013851    17.503167    0.003845\n",
       "25%      0.016609    0.039294    50.415982    0.009580\n",
       "50%      0.031250    0.057143   105.428730    0.014837\n",
       "75%      1.405654    5.323002   706.148369    0.020273\n",
       "max     14.042062   29.067397  1380.047044    0.216245"
      ]
     },
     "execution_count": 28,
     "metadata": {},
     "output_type": "execute_result"
    }
   ],
   "source": [
    "# x0, L, k, b   y = 1/ (L + np.exp(-k*(x-x0)))+b\n",
    "metrics = \"mse\"\n",
    "df_errors = ComputeErrorByDrug(short_test, 4, metrics= metrics)\n",
    "df_errors.describe()"
   ]
  },
  {
   "cell_type": "code",
   "execution_count": 29,
   "metadata": {},
   "outputs": [
    {
     "name": "stdout",
     "output_type": "stream",
     "text": [
      "Mean Squared errors for 11 drugs\n"
     ]
    },
    {
     "data": {
      "image/png": "[encoded data removed]",
      "text/plain": [
       "<Figure size 1152x288 with 4 Axes>"
      ]
     },
     "metadata": {
      "needs_background": "light"
     },
     "output_type": "display_data"
    }
   ],
   "source": [
    "# parameters: x0, L, k, b\n",
    "# y = 1/ (L + np.exp(-k*(x-x0)))+b\n",
    "\n",
    "fig = plt.figure(figsize=(16, 4))\n",
    "fig.subplots_adjust(hspace=0.4, wspace=0.4)\n",
    "n_plots= 4\n",
    "parameters_to_show = [metrics+\"_coef_\"+str(i+1) for i in range(4)]\n",
    "print(\"Mean Squared errors for %d drugs\" % df_errors.shape[0])\n",
    "for i in range(n_plots):\n",
    "    ax = fig.add_subplot(1, n_plots, i+1)\n",
    "    ax.hist(df_errors[parameters_to_show[i]], bins=5)\n",
    "    ax.set_xlabel(\"MSE for param_\"+str(i+1))"
   ]
  },
  {
   "cell_type": "markdown",
   "metadata": {},
   "source": [
    "**Observations:**\n",
    "<br> The fitting function was sigmoid_4_parameters: y = 1/ (L + np.exp(-k*(x-x0)))+b\n",
    "<br> The best predictions are for parameter 4 (b) where the majority of predictions has MSE less than 5\n",
    "<br> Rather good results are for parameters 1 and 3 with MSE for majority of drugs <20"
   ]
  },
  {
   "cell_type": "code",
   "execution_count": 30,
   "metadata": {},
   "outputs": [
    {
     "name": "stdout",
     "output_type": "stream",
     "text": [
      "Mean Absolute errors for 11 drugs\n"
     ]
    },
    {
     "data": {
      "image/png": "[encoded data removed]",
      "text/plain": [
       "<Figure size 1152x288 with 4 Axes>"
      ]
     },
     "metadata": {
      "needs_background": "light"
     },
     "output_type": "display_data"
    }
   ],
   "source": [
    "fig = plt.figure(figsize=(16, 4))\n",
    "fig.subplots_adjust(hspace=0.4, wspace=0.4)\n",
    "n_plots= 4\n",
    "print(\"Mean Absolute errors for %d drugs\" % df_errors.shape[0])\n",
    "parameters_to_show = [metrics+\"_coef_\"+str(i+1) for i in range(4)]\n",
    "for i in range(n_plots):\n",
    "    ax = fig.add_subplot(1, n_plots, i+1)\n",
    "    ax.hist(df_errors[parameters_to_show[i]])\n",
    "    ax.set_xlabel(\"MAE for param_\"+str(i+1))"
   ]
  },
  {
   "cell_type": "code",
   "execution_count": 31,
   "metadata": {},
   "outputs": [
    {
     "name": "stdout",
     "output_type": "stream",
     "text": [
      "Merged data: 300\n",
      "Merged and Fitted data with predicted R2>0.9: 56\n"
     ]
    }
   ],
   "source": [
    "print(\"Merged data:\", short_test.shape[0])\n",
    "print(\"Merged and Fitted data with predicted R2>0.9:\", short_test[short_test[\"r2_predicted\"]>0.9].shape[0])"
   ]
  },
  {
   "cell_type": "markdown",
   "metadata": {},
   "source": [
    "**Observation:**\n",
    "    19% of the data is predicted well (R2<0.9)"
   ]
  },
  {
   "cell_type": "code",
   "execution_count": 39,
   "metadata": {},
   "outputs": [
    {
     "data": {
      "text/plain": [
       "(11, 11)"
      ]
     },
     "execution_count": 39,
     "metadata": {},
     "output_type": "execute_result"
    }
   ],
   "source": [
    "short_test[\"DRUG_ID\"].nunique(), short_test[short_test[\"r2_predicted\"]<0.9][\"DRUG_ID\"].nunique()"
   ]
  },
  {
   "cell_type": "code",
   "execution_count": 40,
   "metadata": {},
   "outputs": [],
   "source": [
    "less_09 = short_test[short_test[\"r2_predicted\"]<=0.9]\n",
    "above_09 = short_test[short_test[\"r2_predicted\"]>0.9]"
   ]
  },
  {
   "cell_type": "code",
   "execution_count": 41,
   "metadata": {},
   "outputs": [
    {
     "data": {
      "text/html": [
       "<div>\n",
       "<style scoped>\n",
       "    .dataframe tbody tr th:only-of-type {\n",
       "        vertical-align: middle;\n",
       "    }\n",
       "\n",
       "    .dataframe tbody tr th {\n",
       "        vertical-align: top;\n",
       "    }\n",
       "\n",
       "    .dataframe thead th {\n",
       "        text-align: right;\n",
       "    }\n",
       "</style>\n",
       "<table border=\"1\" class=\"dataframe\">\n",
       "  <thead>\n",
       "    <tr style=\"text-align: right;\">\n",
       "      <th></th>\n",
       "      <th>DRUG_ID</th>\n",
       "      <th>above_09</th>\n",
       "      <th>less_09</th>\n",
       "      <th>sum</th>\n",
       "      <th>percent_success</th>\n",
       "      <th>Drug Name</th>\n",
       "      <th>Synonyms</th>\n",
       "      <th>Target</th>\n",
       "      <th>Target Pathway</th>\n",
       "    </tr>\n",
       "  </thead>\n",
       "  <tbody>\n",
       "    <tr>\n",
       "      <th>5</th>\n",
       "      <td>273</td>\n",
       "      <td>15.0</td>\n",
       "      <td>17</td>\n",
       "      <td>32.0</td>\n",
       "      <td>46.875000</td>\n",
       "      <td>CUDC-101</td>\n",
       "      <td>CUDC 101</td>\n",
       "      <td>HDAC1-10, EGFR, ERBB2</td>\n",
       "      <td>Other</td>\n",
       "    </tr>\n",
       "    <tr>\n",
       "      <th>3</th>\n",
       "      <td>219</td>\n",
       "      <td>9.0</td>\n",
       "      <td>17</td>\n",
       "      <td>26.0</td>\n",
       "      <td>34.615385</td>\n",
       "      <td>AT-7519</td>\n",
       "      <td>AT7519</td>\n",
       "      <td>CDK1, CDK2, CDK4, CDK6, CDK9</td>\n",
       "      <td>Cell cycle</td>\n",
       "    </tr>\n",
       "    <tr>\n",
       "      <th>6</th>\n",
       "      <td>276</td>\n",
       "      <td>10.0</td>\n",
       "      <td>20</td>\n",
       "      <td>30.0</td>\n",
       "      <td>33.333333</td>\n",
       "      <td>CAY10603</td>\n",
       "      <td>-</td>\n",
       "      <td>HDAC1, HDAC6</td>\n",
       "      <td>Chromatin histone acetylation</td>\n",
       "    </tr>\n",
       "    <tr>\n",
       "      <th>0</th>\n",
       "      <td>170</td>\n",
       "      <td>9.0</td>\n",
       "      <td>22</td>\n",
       "      <td>31.0</td>\n",
       "      <td>29.032258</td>\n",
       "      <td>Shikonin</td>\n",
       "      <td>Anchusin</td>\n",
       "      <td>not defined</td>\n",
       "      <td>Other</td>\n",
       "    </tr>\n",
       "    <tr>\n",
       "      <th>7</th>\n",
       "      <td>346</td>\n",
       "      <td>4.0</td>\n",
       "      <td>14</td>\n",
       "      <td>18.0</td>\n",
       "      <td>22.222222</td>\n",
       "      <td>THZ-2-102-1</td>\n",
       "      <td>-</td>\n",
       "      <td>CDK7</td>\n",
       "      <td>Cell cycle</td>\n",
       "    </tr>\n",
       "    <tr>\n",
       "      <th>1</th>\n",
       "      <td>173</td>\n",
       "      <td>3.0</td>\n",
       "      <td>13</td>\n",
       "      <td>16.0</td>\n",
       "      <td>18.750000</td>\n",
       "      <td>FH535</td>\n",
       "      <td>-</td>\n",
       "      <td>PPARgamma, PPARdelta</td>\n",
       "      <td>WNT signaling</td>\n",
       "    </tr>\n",
       "    <tr>\n",
       "      <th>4</th>\n",
       "      <td>272</td>\n",
       "      <td>5.0</td>\n",
       "      <td>28</td>\n",
       "      <td>33.0</td>\n",
       "      <td>15.151515</td>\n",
       "      <td>AR-42</td>\n",
       "      <td>HDAC-42, AR 42, AR42</td>\n",
       "      <td>HDAC1</td>\n",
       "      <td>Chromatin histone acetylation</td>\n",
       "    </tr>\n",
       "    <tr>\n",
       "      <th>2</th>\n",
       "      <td>200</td>\n",
       "      <td>1.0</td>\n",
       "      <td>26</td>\n",
       "      <td>27.0</td>\n",
       "      <td>3.703704</td>\n",
       "      <td>Dacinostat</td>\n",
       "      <td>NVP-LAQ824, LAQ824</td>\n",
       "      <td>HDAC1</td>\n",
       "      <td>Chromatin histone acetylation</td>\n",
       "    </tr>\n",
       "    <tr>\n",
       "      <th>8</th>\n",
       "      <td>180</td>\n",
       "      <td>0.0</td>\n",
       "      <td>22</td>\n",
       "      <td>22.0</td>\n",
       "      <td>0.000000</td>\n",
       "      <td>Thapsigargin</td>\n",
       "      <td>Octanoic acid</td>\n",
       "      <td>SERCA</td>\n",
       "      <td>Other</td>\n",
       "    </tr>\n",
       "    <tr>\n",
       "      <th>9</th>\n",
       "      <td>274</td>\n",
       "      <td>0.0</td>\n",
       "      <td>30</td>\n",
       "      <td>30.0</td>\n",
       "      <td>0.000000</td>\n",
       "      <td>Belinostat</td>\n",
       "      <td>PXD101, PXD-101</td>\n",
       "      <td>HDAC1</td>\n",
       "      <td>Chromatin histone acetylation</td>\n",
       "    </tr>\n",
       "    <tr>\n",
       "      <th>10</th>\n",
       "      <td>328</td>\n",
       "      <td>0.0</td>\n",
       "      <td>35</td>\n",
       "      <td>35.0</td>\n",
       "      <td>0.000000</td>\n",
       "      <td>SNX-2112</td>\n",
       "      <td>SNX 2112</td>\n",
       "      <td>HSP90</td>\n",
       "      <td>Protein stability and degradation</td>\n",
       "    </tr>\n",
       "  </tbody>\n",
       "</table>\n",
       "</div>"
      ],
      "text/plain": [
       "    DRUG_ID  above_09  less_09   sum  percent_success     Drug Name  \\\n",
       "5       273      15.0       17  32.0        46.875000      CUDC-101   \n",
       "3       219       9.0       17  26.0        34.615385       AT-7519   \n",
       "6       276      10.0       20  30.0        33.333333      CAY10603   \n",
       "0       170       9.0       22  31.0        29.032258      Shikonin   \n",
       "7       346       4.0       14  18.0        22.222222   THZ-2-102-1   \n",
       "1       173       3.0       13  16.0        18.750000         FH535   \n",
       "4       272       5.0       28  33.0        15.151515         AR-42   \n",
       "2       200       1.0       26  27.0         3.703704    Dacinostat   \n",
       "8       180       0.0       22  22.0         0.000000  Thapsigargin   \n",
       "9       274       0.0       30  30.0         0.000000    Belinostat   \n",
       "10      328       0.0       35  35.0         0.000000      SNX-2112   \n",
       "\n",
       "                Synonyms                        Target  \\\n",
       "5               CUDC 101         HDAC1-10, EGFR, ERBB2   \n",
       "3                 AT7519  CDK1, CDK2, CDK4, CDK6, CDK9   \n",
       "6                      -                  HDAC1, HDAC6   \n",
       "0               Anchusin                   not defined   \n",
       "7                      -                          CDK7   \n",
       "1                      -          PPARgamma, PPARdelta   \n",
       "4   HDAC-42, AR 42, AR42                         HDAC1   \n",
       "2     NVP-LAQ824, LAQ824                         HDAC1   \n",
       "8          Octanoic acid                         SERCA   \n",
       "9        PXD101, PXD-101                         HDAC1   \n",
       "10              SNX 2112                         HSP90   \n",
       "\n",
       "                       Target Pathway  \n",
       "5                               Other  \n",
       "3                          Cell cycle  \n",
       "6       Chromatin histone acetylation  \n",
       "0                               Other  \n",
       "7                          Cell cycle  \n",
       "1                       WNT signaling  \n",
       "4       Chromatin histone acetylation  \n",
       "2       Chromatin histone acetylation  \n",
       "8                               Other  \n",
       "9       Chromatin histone acetylation  \n",
       "10  Protein stability and degradation  "
      ]
     },
     "execution_count": 41,
     "metadata": {},
     "output_type": "execute_result"
    }
   ],
   "source": [
    "d1 = above_09.groupby(\"DRUG_ID\")[[\"COSMIC_ID\"]].count().reset_index()\n",
    "d2 = less_09.groupby(\"DRUG_ID\")[[\"COSMIC_ID\"]].count().reset_index()\n",
    "compare_df = pd.merge(left = d1, right = d2, how= \"outer\", on = \"DRUG_ID\").fillna(0).rename(columns = {\"COSMIC_ID_x\": \"above_09\", \"COSMIC_ID_y\": \"less_09\"})\n",
    "compare_df[\"sum\"] = compare_df[\"above_09\"]+compare_df[\"less_09\"]\n",
    "compare_df[\"percent_success\"] = compare_df[\"above_09\"]*100/(compare_df[\"sum\"])\n",
    "compare_df = pd.merge(left = compare_df, right = drug_features, how= \"left\", on = \"DRUG_ID\")\n",
    "compare_df.sort_values(by=\"percent_success\", ascending=False)"
   ]
  },
  {
   "cell_type": "code",
   "execution_count": 42,
   "metadata": {},
   "outputs": [
    {
     "name": "stdout",
     "output_type": "stream",
     "text": [
      "Number of drugs with number of good predictions above 70%: 0\n"
     ]
    },
    {
     "data": {
      "image/png": "[encoded data removed]",
      "text/plain": [
       "<Figure size 432x288 with 1 Axes>"
      ]
     },
     "metadata": {
      "needs_background": "light"
     },
     "output_type": "display_data"
    }
   ],
   "source": [
    "print(\"Number of drugs with number of good predictions above 70%:\", sum(compare_df[\"percent_success\"]>70))\n",
    "compare_df[\"percent_success\"].hist()\n",
    "plt.xlabel(\"Percent of succesful predictions for each drug\");"
   ]
  },
  {
   "cell_type": "code",
   "execution_count": 43,
   "metadata": {},
   "outputs": [
    {
     "name": "stdout",
     "output_type": "stream",
     "text": [
      "(262, 3)\n"
     ]
    },
    {
     "data": {
      "text/html": [
       "<div>\n",
       "<style scoped>\n",
       "    .dataframe tbody tr th:only-of-type {\n",
       "        vertical-align: middle;\n",
       "    }\n",
       "\n",
       "    .dataframe tbody tr th {\n",
       "        vertical-align: top;\n",
       "    }\n",
       "\n",
       "    .dataframe thead th {\n",
       "        text-align: right;\n",
       "    }\n",
       "</style>\n",
       "<table border=\"1\" class=\"dataframe\">\n",
       "  <thead>\n",
       "    <tr style=\"text-align: right;\">\n",
       "      <th></th>\n",
       "      <th>COSMIC_ID</th>\n",
       "      <th>above_09</th>\n",
       "      <th>less_09</th>\n",
       "      <th>sum</th>\n",
       "      <th>percent_success</th>\n",
       "    </tr>\n",
       "  </thead>\n",
       "  <tbody>\n",
       "  </tbody>\n",
       "</table>\n",
       "</div>"
      ],
      "text/plain": [
       "Empty DataFrame\n",
       "Columns: [COSMIC_ID, above_09, less_09, sum, percent_success]\n",
       "Index: []"
      ]
     },
     "execution_count": 43,
     "metadata": {},
     "output_type": "execute_result"
    }
   ],
   "source": [
    "l1 = above_09.groupby(\"COSMIC_ID\")[[\"DRUG_ID\"]].count().reset_index()\n",
    "l2 = less_09.groupby(\"COSMIC_ID\")[[\"DRUG_ID\"]].count().reset_index()\n",
    "\n",
    "compare_line = pd.merge(left = l1, right = l2, how= \"outer\", on = \"COSMIC_ID\").fillna(0).rename(columns = {\"DRUG_ID_x\": \"above_09\", \"DRUG_ID_y\": \"less_09\"})\n",
    "print(compare_line.shape)\n",
    "compare_line[\"sum\"] = compare_line[\"above_09\"]+compare_line[\"less_09\"]\n",
    "compare_line[\"percent_success\"] = compare_line[\"above_09\"]*100/(compare_line[\"sum\"])\n",
    "compare_line[compare_line[\"sum\"]>5].sort_values(by=\"percent_success\", ascending=False)"
   ]
  },
  {
   "cell_type": "code",
   "execution_count": 44,
   "metadata": {},
   "outputs": [
    {
     "data": {
      "text/plain": [
       "208"
      ]
     },
     "execution_count": 44,
     "metadata": {},
     "output_type": "execute_result"
    }
   ],
   "source": [
    "compare_line[compare_line[\"percent_success\"]==0].shape[0]"
   ]
  },
  {
   "cell_type": "code",
   "execution_count": null,
   "metadata": {},
   "outputs": [],
   "source": []
  }
 ],
 "metadata": {
  "kernelspec": {
   "display_name": "myspark",
   "language": "python",
   "name": "myspark"
  },
  "language_info": {
   "codemirror_mode": {
    "name": "ipython",
    "version": 3
   },
   "file_extension": ".py",
   "mimetype": "text/x-python",
   "name": "python",
   "nbconvert_exporter": "python",
   "pygments_lexer": "ipython3",
   "version": "3.6.10"
  }
 },
 "nbformat": 4,
 "nbformat_minor": 2
}
