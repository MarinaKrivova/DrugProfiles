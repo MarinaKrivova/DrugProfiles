{
 "cells": [
  {
   "cell_type": "markdown",
   "metadata": {},
   "source": [
    "### Average sigmoid"
   ]
  },
  {
   "cell_type": "markdown",
   "metadata": {},
   "source": [
    "The idea - what if we do not need any model, and as the filtered data are already sigmoid, \n",
    "can we use some average sigmoid parameters = some averaged values for all the data\n",
    "1. mean parameters from the training data and apply them to test data:\n",
    "    - original train and test data with 11 drugs\n",
    "    - reduced datasets with 10 drugs\n",
    "2. make a new dataset a find sigmoid parameters by scipy curve fitting"
   ]
  },
  {
   "cell_type": "code",
   "execution_count": 1,
   "metadata": {},
   "outputs": [],
   "source": [
    "import pandas as pd\n",
    "import numpy as np\n",
    "import os\n",
    "\n",
    "from sklearn.metrics import mean_squared_error\n",
    "from sklearn.metrics import mean_absolute_error\n",
    "from sklearn.preprocessing import MinMaxScaler\n",
    "from sklearn.metrics import r2_score\n",
    "import warnings\n",
    "warnings.filterwarnings(\"ignore\")"
   ]
  },
  {
   "cell_type": "code",
   "execution_count": 2,
   "metadata": {},
   "outputs": [],
   "source": [
    "def sigmoid_4_param(x, x0, L, k, d):\n",
    "    \"\"\" Comparing with Dennis Wang's sigmoid:\n",
    "    x0 -  p - position, correlation with IC50 or EC50\n",
    "        bounds [0, 1]\n",
    "    L = 1 in Dennis Wang's sigmoid, protect from devision by zero if x is too small \n",
    "        L<1 inverted sigmoid, l=100 - lower upper and lower boundso sigmpoid on y axis (y= [0.1, 0.11])\n",
    "        bounds [0.8, 10]\n",
    "    k = -1/s (s -shape parameter)  default = -10 k=0 straight line, k<0 sigmoid around k=-10\n",
    "        bounds [1, -100]\n",
    "    d - determines the vertical position of the sigmoid - shift on y axis - better fitting then Dennis Wang's sigmoid\n",
    "         bounds [0, 0.9]\n",
    "    parameters_bound ((0, 0.8, -100, 0), (1, 10, 1, 0.9))\n",
    "    \"\"\"\n",
    "    return ( 1/ (L + np.exp(-k*(x-x0))) + d)\n",
    "\n",
    "def r2_score_sigmoid_4_param(df, x_columns, y_columns, param_columns = []):\n",
    "    r2_scores=np.zeros(len(df.index))\n",
    "    for i in range(len(df.index)):\n",
    "        x = df.loc[df.index[i], x_columns].values.astype(np.float32)\n",
    "        y = df.loc[df.index[i], y_columns].values.astype(np.float32)\n",
    "        fit_param = df.loc[df.index[i], param_columns].values.astype(np.float32)\n",
    "#         print(fit_param)\n",
    "        y_fit = sigmoid_4_param(x, *fit_param)\n",
    "        r2_scores[i] = r2_score(y, y_fit)\n",
    "    return r2_scores"
   ]
  },
  {
   "cell_type": "markdown",
   "metadata": {},
   "source": [
    "### 1. Finding a mean among fitted parameters on the original data"
   ]
  },
  {
   "cell_type": "code",
   "execution_count": 3,
   "metadata": {},
   "outputs": [
    {
     "name": "stdout",
     "output_type": "stream",
     "text": [
      "\n",
      "Distribution of mean errors for an average sigmoid fitted original data\n",
      "\n",
      "MAE of parameter 1: 0.308 +/- 1.193\n",
      "MAE of parameter 2: 0.331 +/- 1.564\n",
      "MAE of parameter 3: 10.779 +/- 20.932\n",
      "MAE of parameter 4: 0.089 +/- 0.091\n",
      "R2 score: -0.001 +/- 0.666\n"
     ]
    }
   ],
   "source": [
    "_FOLDER2 =\"results/\"\n",
    "\n",
    "with open(_FOLDER2 + \"drug_ids_50.txt\", 'r') as f:\n",
    "    drug_ids_50 = [np.int32(line.rstrip('\\n')) for line in f]\n",
    "\n",
    "train_df = pd.read_csv(_FOLDER2+\"train08_merged_fitted_sigmoid4_123_with_drugs_properties_min10.csv\").drop([\"Unnamed: 0\",\"Unnamed: 0.1\"], axis=1)\n",
    "test_df = pd.read_csv(_FOLDER2+\"test02_merged_fitted_sigmoid4_123_with_drugs_properties_min10.csv\").drop([\"Unnamed: 0\",\"Unnamed: 0.1\"], axis=1)               \n",
    "\n",
    "train_df_50 = train_df.set_index(\"DRUG_ID\").loc[drug_ids_50, :].copy()\n",
    "test_df_50 = test_df.set_index(\"DRUG_ID\").loc[drug_ids_50, :].copy()\n",
    "\n",
    "test_df_50[\"mean_param_1_df4\"] = train_df_50[\"param_1\"].mean() \n",
    "test_df_50[\"mean_param_2_df4\"] = train_df_50[\"param_2\"].mean() \n",
    "test_df_50[\"mean_param_3_df4\"] = train_df_50[\"param_3\"].mean() \n",
    "test_df_50[\"mean_param_4_df4\"] = train_df_50[\"param_4\"].mean() \n",
    "\n",
    "test_df_50[\"abs_error_param_1_df4\"]= abs(test_df_50[\"param_1\"] - test_df_50[\"mean_param_1_df4\"])\n",
    "test_df_50[\"abs_error_param_2_df4\"]= abs(test_df_50[\"param_2\"] - test_df_50[\"mean_param_2_df4\"])\n",
    "test_df_50[\"abs_error_param_3_df4\"]= abs(test_df_50[\"param_3\"] - test_df_50[\"mean_param_3_df4\"])\n",
    "test_df_50[\"abs_error_param_4_df4\"]= abs(test_df_50[\"param_4\"] - test_df_50[\"mean_param_4_df4\"])\n",
    "\n",
    "test_df_50[\"r2_scores_df4\"] = r2_score_sigmoid_4_param(test_df_50.reset_index(), \n",
    "                                                   x_columns = [\"fd_num_\"+str(i) for i in range(10)],\n",
    "                                                  y_columns = [\"norm_cells_\" + str(i) for i in range(10)],\n",
    "                                                  param_columns = [\"mean_param_\" + str(i)+\"_df4\" for i in range(1,5)])\n",
    "\n",
    "# Distribution of mean parameter trained drug-by-drug \n",
    "print(\"\\nDistribution of mean errors for an average sigmoid fitted original data\\n\")\n",
    "i = 1 \n",
    "print(\"MAE of parameter %d: %0.3f +/- %0.3f\" % (i, test_df_50[\"abs_error_param_\" + str(i) +\"_df4\"].mean(),\n",
    "                                                test_df_50[\"abs_error_param_\" + str(i) +\"_df4\"].std()))\n",
    "i = 2 \n",
    "print(\"MAE of parameter %d: %0.3f +/- %0.3f\" % (i, test_df_50[\"abs_error_param_\" + str(i) +\"_df4\"].mean(),\n",
    "                                                test_df_50[\"abs_error_param_\" + str(i) +\"_df4\"].std()))\n",
    "i = 3 \n",
    "print(\"MAE of parameter %d: %0.3f +/- %0.3f\" % (i, test_df_50[\"abs_error_param_\" + str(i) +\"_df4\"].mean(),\n",
    "                                                test_df_50[\"abs_error_param_\" + str(i) +\"_df4\"].std()))\n",
    "i = 4 \n",
    "print(\"MAE of parameter %d: %0.3f +/- %0.3f\" % (i, test_df_50[\"abs_error_param_\" + str(i) +\"_df4\"].mean(),\n",
    "                                                test_df_50[\"abs_error_param_\" + str(i) +\"_df4\"].std()))\n",
    "\n",
    "print(\"R2 score: %0.3f +/- %0.3f\" % (test_df_50[\"r2_scores_df4\"].mean(),\n",
    "                                    test_df_50[\"r2_scores_df4\"].std()))"
   ]
  },
  {
   "cell_type": "code",
   "execution_count": 4,
   "metadata": {},
   "outputs": [],
   "source": [
    "import seaborn as sns"
   ]
  },
  {
   "cell_type": "code",
   "execution_count": 5,
   "metadata": {},
   "outputs": [
    {
     "data": {
      "image/png": "[encoded data removed]",
      "text/plain": [
       "<Figure size 432x288 with 1 Axes>"
      ]
     },
     "metadata": {
      "needs_background": "light"
     },
     "output_type": "display_data"
    }
   ],
   "source": [
    "sns.boxplot(y=\"r2_scores_df4\", data = test_df_50);"
   ]
  },
  {
   "cell_type": "code",
   "execution_count": 6,
   "metadata": {},
   "outputs": [
    {
     "data": {
      "text/plain": [
       "(86, 202)"
      ]
     },
     "execution_count": 6,
     "metadata": {},
     "output_type": "execute_result"
    }
   ],
   "source": [
    "test_df_50[test_df_50[\"r2_scores_df4\"] < 0].shape[0], test_df_50.shape[0]"
   ]
  },
  {
   "cell_type": "markdown",
   "metadata": {},
   "source": [
    "### 2. Finding a mean among fitted parameters on the reduced data"
   ]
  },
  {
   "cell_type": "code",
   "execution_count": 7,
   "metadata": {},
   "outputs": [
    {
     "name": "stdout",
     "output_type": "stream",
     "text": [
      "\n",
      "Distribution of mean errors for an average sigmoid fitted the REDUCED data\n",
      "\n",
      "MAE of parameter 1: 0.115 +/- 0.073\n",
      "MAE of parameter 2: 0.120 +/- 0.113\n",
      "MAE of parameter 3: 11.831 +/- 24.778\n",
      "MAE of parameter 4: 0.088 +/- 0.070\n",
      "R2 score: 0.698 +/- 0.287\n"
     ]
    }
   ],
   "source": [
    "with open(_FOLDER2 + \"drugs10_more_50.txt\", 'r') as f:\n",
    "    drug_ids_50 = [np.int32(line.rstrip('\\n')) for line in f]\n",
    "\n",
    "train_df = pd.read_csv(_FOLDER2+\"2_train08_min10.csv\").drop([\"Unnamed: 0\",\"Unnamed: 0.1\"], axis=1)\n",
    "test_df = pd.read_csv(_FOLDER2+\"2_test02_min10.csv\").drop([\"Unnamed: 0\",\"Unnamed: 0.1\"], axis=1)               \n",
    "\n",
    "train_df_50 = train_df.set_index(\"DRUG_ID\").loc[drug_ids_50, :].copy()\n",
    "test_df_50 = test_df.set_index(\"DRUG_ID\").loc[drug_ids_50, :].copy()\n",
    "\n",
    "test_df_50[\"mean_param_1_df4\"] = train_df_50[\"param_1\"].mean() \n",
    "test_df_50[\"mean_param_2_df4\"] = train_df_50[\"param_2\"].mean() \n",
    "test_df_50[\"mean_param_3_df4\"] = train_df_50[\"param_3\"].mean() \n",
    "test_df_50[\"mean_param_4_df4\"] = train_df_50[\"param_4\"].mean() \n",
    "\n",
    "test_df_50[\"abs_error_param_1_df4\"]= abs(test_df_50[\"param_1\"] - test_df_50[\"mean_param_1_df4\"])\n",
    "test_df_50[\"abs_error_param_2_df4\"]= abs(test_df_50[\"param_2\"] - test_df_50[\"mean_param_2_df4\"])\n",
    "test_df_50[\"abs_error_param_3_df4\"]= abs(test_df_50[\"param_3\"] - test_df_50[\"mean_param_3_df4\"])\n",
    "test_df_50[\"abs_error_param_4_df4\"]= abs(test_df_50[\"param_4\"] - test_df_50[\"mean_param_4_df4\"])\n",
    "\n",
    "test_df_50[\"r2_scores_df4\"] = r2_score_sigmoid_4_param(test_df_50.reset_index(), \n",
    "                                                   x_columns = [\"fd_num_\"+str(i) for i in range(10)],\n",
    "                                                  y_columns = [\"norm_cells_\" + str(i) for i in range(10)],\n",
    "                                                  param_columns = [\"mean_param_\" + str(i)+\"_df4\" for i in range(1,5)])\n",
    "\n",
    "# Distribution of mean parameter trained drug-by-drug \n",
    "print(\"\\nDistribution of mean errors for an average sigmoid fitted the REDUCED data\\n\")\n",
    "\n",
    "i = 1 \n",
    "print(\"MAE of parameter %d: %0.3f +/- %0.3f\" % (i, test_df_50[\"abs_error_param_\" + str(i) +\"_df4\"].mean(),\n",
    "                                                test_df_50[\"abs_error_param_\" + str(i) +\"_df4\"].std()))\n",
    "i = 2 \n",
    "print(\"MAE of parameter %d: %0.3f +/- %0.3f\" % (i, test_df_50[\"abs_error_param_\" + str(i) +\"_df4\"].mean(),\n",
    "                                                test_df_50[\"abs_error_param_\" + str(i) +\"_df4\"].std()))\n",
    "i = 3 \n",
    "print(\"MAE of parameter %d: %0.3f +/- %0.3f\" % (i, test_df_50[\"abs_error_param_\" + str(i) +\"_df4\"].mean(),\n",
    "                                                test_df_50[\"abs_error_param_\" + str(i) +\"_df4\"].std()))\n",
    "i = 4 \n",
    "print(\"MAE of parameter %d: %0.3f +/- %0.3f\" % (i, test_df_50[\"abs_error_param_\" + str(i) +\"_df4\"].mean(),\n",
    "                                                test_df_50[\"abs_error_param_\" + str(i) +\"_df4\"].std()))\n",
    "\n",
    "print(\"R2 score: %0.3f +/- %0.3f\" % (test_df_50[\"r2_scores_df4\"].mean(),\n",
    "                                    test_df_50[\"r2_scores_df4\"].std()))"
   ]
  },
  {
   "cell_type": "markdown",
   "metadata": {},
   "source": [
    "### 3. Making a long dataset and scipy curve fitting for the REDUCED data"
   ]
  },
  {
   "cell_type": "code",
   "execution_count": 8,
   "metadata": {},
   "outputs": [
    {
     "data": {
      "text/plain": [
       "((7280, 2),\n",
       " (728, 1379),\n",
       "    scaled_x  norm_y\n",
       " 0       0.0     1.0\n",
       " 1       0.0     1.0\n",
       " 2       0.0     1.0\n",
       " 3       0.0     1.0\n",
       " 4       0.0     1.0)"
      ]
     },
     "execution_count": 8,
     "metadata": {},
     "output_type": "execute_result"
    }
   ],
   "source": [
    "df_concat = pd.DataFrame()\n",
    "for i in range(10):\n",
    "    df_concat = pd.concat([df_concat, train_df_50[[\"fd_num_\"+str(i), \"norm_cells_\"+str(i)]].rename(\n",
    "                                    columns={\"fd_num_\"+str(i): \"scaled_x\", \n",
    "                                             \"norm_cells_\"+str(i): \"norm_y\"})],\n",
    "                          axis=0, ignore_index = True)\n",
    "    \n",
    "df_concat.shape, train_df_50.shape, df_concat.head()"
   ]
  },
  {
   "cell_type": "code",
   "execution_count": 9,
   "metadata": {},
   "outputs": [],
   "source": [
    "from scipy.optimize import curve_fit"
   ]
  },
  {
   "cell_type": "code",
   "execution_count": 11,
   "metadata": {},
   "outputs": [],
   "source": [
    "def sigmoid_4_param(x, x0, L, k, d):\n",
    "    \"\"\" Comparing with Dennis Wang's sigmoid:\n",
    "    x0 -  p - position, correlation with IC50 or EC50\n",
    "        bounds [0, 1]\n",
    "    L = 1 in Dennis Wang's sigmoid, protect from devision by zero if x is too small \n",
    "        L<1 inverted sigmoid, l=100 - lower upper and lower boundso sigmpoid on y axis (y= [0.1, 0.11])\n",
    "        bounds [0.8, 10]\n",
    "    k = -1/s (s -shape parameter)  default = -10 k=0 straight line, k<0 sigmoid around k=-10\n",
    "        bounds [1, -100]\n",
    "    d - determines the vertical position of the sigmoid - shift on y axis - better fitting then Dennis Wang's sigmoid\n",
    "         bounds [0, 0.9]\n",
    "    parameters_bound ((0, 0.8, -100, 0), (1, 10, 1, 0.9))\n",
    "    \"\"\"\n",
    "    return ( 1/ (L + np.exp(-k*(x-x0))) + d)\n",
    "\n",
    "fitting_function = sigmoid_4_param\n",
    "x = df_concat[\"scaled_x\"]\n",
    "y = df_concat[\"norm_y\"]\n",
    "# parameters_guess = [0.4, 1.0, 1.0, .0]\n",
    "parameters_guess = [0.4, 1.0, -10, .0]\n",
    "parameters, p_covariance = curve_fit(fitting_function, x, y, parameters_guess)"
   ]
  },
  {
   "cell_type": "code",
   "execution_count": 12,
   "metadata": {},
   "outputs": [
    {
     "data": {
      "text/plain": [
       "array([ 0.44071795,  1.03771175, -7.73694224,  0.07216926])"
      ]
     },
     "execution_count": 12,
     "metadata": {},
     "output_type": "execute_result"
    }
   ],
   "source": [
    "parameters"
   ]
  },
  {
   "cell_type": "code",
   "execution_count": 19,
   "metadata": {},
   "outputs": [
    {
     "name": "stderr",
     "output_type": "stream",
     "text": [
      "/Users/Marina/anaconda3/envs/myspark/lib/python3.6/site-packages/ipykernel_launcher.py:14: RuntimeWarning: overflow encountered in exp\n",
      "  \n",
      "/Users/Marina/anaconda3/envs/myspark/lib/python3.6/site-packages/ipykernel_launcher.py:14: RuntimeWarning: overflow encountered in exp\n",
      "  \n"
     ]
    },
    {
     "name": "stdout",
     "output_type": "stream",
     "text": [
      "\n",
      "Distribution of mean errors for an average sigmoid directly fitted to the reduced data\n",
      "\n",
      "MAE of parameter 1: 0.115 +/- 0.075\n",
      "MAE of parameter 2: 0.120 +/- 0.142\n",
      "MAE of parameter 3: 14.029 +/- 27.281\n",
      "MAE of parameter 4: 0.087 +/- 0.072\n",
      "R2 score for Average sigmoid: 0.780 +/- 0.198\n",
      "R2 score for fitted sigmoid: 0.993 +/- 0.011\n"
     ]
    }
   ],
   "source": [
    "test_df_50[\"fit_param_1_df4\"] = parameters[0]\n",
    "test_df_50[\"fit_param_2_df4\"] = parameters[1]\n",
    "test_df_50[\"fit_param_3_df4\"] = parameters[2]\n",
    "test_df_50[\"fit_param_4_df4\"] = parameters[3]\n",
    "\n",
    "test_df_50[\"abs_error_param_1_df4\"]= abs(test_df_50[\"param_1\"] - test_df_50[\"fit_param_1_df4\"])\n",
    "test_df_50[\"abs_error_param_2_df4\"]= abs(test_df_50[\"param_2\"] - test_df_50[\"fit_param_2_df4\"])\n",
    "test_df_50[\"abs_error_param_3_df4\"]= abs(test_df_50[\"param_3\"] - test_df_50[\"fit_param_3_df4\"])\n",
    "test_df_50[\"abs_error_param_4_df4\"]= abs(test_df_50[\"param_4\"] - test_df_50[\"fit_param_4_df4\"])\n",
    "\n",
    "test_df_50[\"r2_scores_df4\"] = r2_score_sigmoid_4_param(test_df_50.reset_index(), \n",
    "                                                   x_columns = [\"fd_num_\"+str(i) for i in range(10)],\n",
    "                                                  y_columns = [\"norm_cells_\" + str(i) for i in range(10)],\n",
    "                                                  param_columns = [\"param_\" + str(i) for i in range(1,5)])\n",
    "\n",
    "test_df_50[\"r2_scores_average_df4\"] = r2_score_sigmoid_4_param(test_df_50.reset_index(), \n",
    "                                                   x_columns = [\"fd_num_\"+str(i) for i in range(10)],\n",
    "                                                  y_columns = [\"norm_cells_\" + str(i) for i in range(10)],\n",
    "                                                  param_columns = [\"fit_param_\" + str(i)+\"_df4\" for i in range(1,5)])\n",
    "\n",
    "# Distribution of mean parameter trained drug-by-drug \n",
    "print(\"\\nDistribution of mean errors for an average sigmoid directly fitted to the reduced data\\n\")\n",
    "i = 1 \n",
    "print(\"MAE of parameter %d: %0.3f +/- %0.3f\" % (i, test_df_50[\"abs_error_param_\" + str(i) +\"_df4\"].mean(),\n",
    "                                                test_df_50[\"abs_error_param_\" + str(i) +\"_df4\"].std()))\n",
    "i = 2 \n",
    "print(\"MAE of parameter %d: %0.3f +/- %0.3f\" % (i, test_df_50[\"abs_error_param_\" + str(i) +\"_df4\"].mean(),\n",
    "                                                test_df_50[\"abs_error_param_\" + str(i) +\"_df4\"].std()))\n",
    "i = 3 \n",
    "print(\"MAE of parameter %d: %0.3f +/- %0.3f\" % (i, test_df_50[\"abs_error_param_\" + str(i) +\"_df4\"].mean(),\n",
    "                                                test_df_50[\"abs_error_param_\" + str(i) +\"_df4\"].std()))\n",
    "i = 4 \n",
    "print(\"MAE of parameter %d: %0.3f +/- %0.3f\" % (i, test_df_50[\"abs_error_param_\" + str(i) +\"_df4\"].mean(),\n",
    "                                                test_df_50[\"abs_error_param_\" + str(i) +\"_df4\"].std()))\n",
    "\n",
    "print(\"R2 score for Average sigmoid: %0.3f +/- %0.3f\" % (test_df_50[\"r2_scores_average_df4\"].mean(),\n",
    "                                    test_df_50[\"r2_scores_average_df4\"].std()))\n",
    "print(\"R2 score for fitted sigmoid: %0.3f +/- %0.3f\" % (test_df_50[\"r2_scores_df4\"].mean(),\n",
    "                                    test_df_50[\"r2_scores_df4\"].std()))"
   ]
  },
  {
   "cell_type": "markdown",
   "metadata": {},
   "source": [
    "### Iteratively eliminate some data to improve fitting?"
   ]
  },
  {
   "cell_type": "code",
   "execution_count": 15,
   "metadata": {},
   "outputs": [
    {
     "data": {
      "image/png": "[encoded data removed]",
      "text/plain": [
       "<Figure size 432x288 with 1 Axes>"
      ]
     },
     "metadata": {
      "needs_background": "light"
     },
     "output_type": "display_data"
    }
   ],
   "source": [
    "sns.boxplot(y=\"r2_scores_df4\", data = test_df_50);"
   ]
  },
  {
   "cell_type": "code",
   "execution_count": 17,
   "metadata": {},
   "outputs": [
    {
     "data": {
      "text/html": [
       "<div>\n",
       "<style scoped>\n",
       "    .dataframe tbody tr th:only-of-type {\n",
       "        vertical-align: middle;\n",
       "    }\n",
       "\n",
       "    .dataframe tbody tr th {\n",
       "        vertical-align: top;\n",
       "    }\n",
       "\n",
       "    .dataframe thead th {\n",
       "        text-align: right;\n",
       "    }\n",
       "</style>\n",
       "<table border=\"1\" class=\"dataframe\">\n",
       "  <thead>\n",
       "    <tr style=\"text-align: right;\">\n",
       "      <th></th>\n",
       "      <th>param_1</th>\n",
       "      <th>param_2</th>\n",
       "      <th>param_3</th>\n",
       "      <th>param_4</th>\n",
       "    </tr>\n",
       "    <tr>\n",
       "      <th>DRUG_ID</th>\n",
       "      <th></th>\n",
       "      <th></th>\n",
       "      <th></th>\n",
       "      <th></th>\n",
       "    </tr>\n",
       "  </thead>\n",
       "  <tbody>\n",
       "    <tr>\n",
       "      <th>170</th>\n",
       "      <td>0.282951</td>\n",
       "      <td>0.991244</td>\n",
       "      <td>-17.902582</td>\n",
       "      <td>0.001505</td>\n",
       "    </tr>\n",
       "    <tr>\n",
       "      <th>170</th>\n",
       "      <td>0.698205</td>\n",
       "      <td>1.048014</td>\n",
       "      <td>-59.845264</td>\n",
       "      <td>0.005641</td>\n",
       "    </tr>\n",
       "    <tr>\n",
       "      <th>170</th>\n",
       "      <td>0.249038</td>\n",
       "      <td>1.012518</td>\n",
       "      <td>-39.324919</td>\n",
       "      <td>0.009713</td>\n",
       "    </tr>\n",
       "    <tr>\n",
       "      <th>180</th>\n",
       "      <td>0.216242</td>\n",
       "      <td>1.230551</td>\n",
       "      <td>-18.919984</td>\n",
       "      <td>0.223495</td>\n",
       "    </tr>\n",
       "    <tr>\n",
       "      <th>180</th>\n",
       "      <td>0.201282</td>\n",
       "      <td>1.083057</td>\n",
       "      <td>-21.678776</td>\n",
       "      <td>0.117393</td>\n",
       "    </tr>\n",
       "    <tr>\n",
       "      <th>180</th>\n",
       "      <td>0.239697</td>\n",
       "      <td>1.028090</td>\n",
       "      <td>-25.179452</td>\n",
       "      <td>0.029018</td>\n",
       "    </tr>\n",
       "    <tr>\n",
       "      <th>180</th>\n",
       "      <td>0.210689</td>\n",
       "      <td>1.518976</td>\n",
       "      <td>-17.756499</td>\n",
       "      <td>0.367604</td>\n",
       "    </tr>\n",
       "    <tr>\n",
       "      <th>180</th>\n",
       "      <td>0.242926</td>\n",
       "      <td>1.251981</td>\n",
       "      <td>-4.968984</td>\n",
       "      <td>0.369870</td>\n",
       "    </tr>\n",
       "    <tr>\n",
       "      <th>180</th>\n",
       "      <td>0.256271</td>\n",
       "      <td>1.066051</td>\n",
       "      <td>-28.573456</td>\n",
       "      <td>0.056317</td>\n",
       "    </tr>\n",
       "    <tr>\n",
       "      <th>200</th>\n",
       "      <td>0.273106</td>\n",
       "      <td>1.089668</td>\n",
       "      <td>-31.437585</td>\n",
       "      <td>0.066720</td>\n",
       "    </tr>\n",
       "    <tr>\n",
       "      <th>200</th>\n",
       "      <td>0.286159</td>\n",
       "      <td>0.997041</td>\n",
       "      <td>-17.400757</td>\n",
       "      <td>0.003364</td>\n",
       "    </tr>\n",
       "    <tr>\n",
       "      <th>219</th>\n",
       "      <td>0.599288</td>\n",
       "      <td>1.382655</td>\n",
       "      <td>-9.080227</td>\n",
       "      <td>0.228694</td>\n",
       "    </tr>\n",
       "    <tr>\n",
       "      <th>219</th>\n",
       "      <td>0.484072</td>\n",
       "      <td>1.646384</td>\n",
       "      <td>-174.076325</td>\n",
       "      <td>0.369179</td>\n",
       "    </tr>\n",
       "    <tr>\n",
       "      <th>219</th>\n",
       "      <td>0.336962</td>\n",
       "      <td>1.713612</td>\n",
       "      <td>-155.207157</td>\n",
       "      <td>0.364534</td>\n",
       "    </tr>\n",
       "    <tr>\n",
       "      <th>272</th>\n",
       "      <td>0.617450</td>\n",
       "      <td>1.509245</td>\n",
       "      <td>-12.143799</td>\n",
       "      <td>0.330477</td>\n",
       "    </tr>\n",
       "    <tr>\n",
       "      <th>272</th>\n",
       "      <td>0.584178</td>\n",
       "      <td>1.320418</td>\n",
       "      <td>-8.858586</td>\n",
       "      <td>0.238113</td>\n",
       "    </tr>\n",
       "    <tr>\n",
       "      <th>272</th>\n",
       "      <td>0.562041</td>\n",
       "      <td>1.443102</td>\n",
       "      <td>-9.006317</td>\n",
       "      <td>0.266729</td>\n",
       "    </tr>\n",
       "    <tr>\n",
       "      <th>272</th>\n",
       "      <td>0.665907</td>\n",
       "      <td>1.363820</td>\n",
       "      <td>-9.572618</td>\n",
       "      <td>0.244904</td>\n",
       "    </tr>\n",
       "    <tr>\n",
       "      <th>273</th>\n",
       "      <td>0.702955</td>\n",
       "      <td>1.123751</td>\n",
       "      <td>-21.573479</td>\n",
       "      <td>0.074433</td>\n",
       "    </tr>\n",
       "    <tr>\n",
       "      <th>273</th>\n",
       "      <td>0.728141</td>\n",
       "      <td>1.109685</td>\n",
       "      <td>-32.764549</td>\n",
       "      <td>0.029343</td>\n",
       "    </tr>\n",
       "    <tr>\n",
       "      <th>273</th>\n",
       "      <td>0.657591</td>\n",
       "      <td>1.224341</td>\n",
       "      <td>-144.939236</td>\n",
       "      <td>0.149335</td>\n",
       "    </tr>\n",
       "    <tr>\n",
       "      <th>273</th>\n",
       "      <td>0.683112</td>\n",
       "      <td>1.065268</td>\n",
       "      <td>-19.052244</td>\n",
       "      <td>0.035959</td>\n",
       "    </tr>\n",
       "    <tr>\n",
       "      <th>276</th>\n",
       "      <td>0.649710</td>\n",
       "      <td>1.179116</td>\n",
       "      <td>-8.262814</td>\n",
       "      <td>0.132631</td>\n",
       "    </tr>\n",
       "    <tr>\n",
       "      <th>276</th>\n",
       "      <td>0.684333</td>\n",
       "      <td>1.112851</td>\n",
       "      <td>-18.521287</td>\n",
       "      <td>0.082749</td>\n",
       "    </tr>\n",
       "    <tr>\n",
       "      <th>276</th>\n",
       "      <td>0.752499</td>\n",
       "      <td>1.040783</td>\n",
       "      <td>-26.520280</td>\n",
       "      <td>0.035636</td>\n",
       "    </tr>\n",
       "    <tr>\n",
       "      <th>328</th>\n",
       "      <td>0.227590</td>\n",
       "      <td>1.476096</td>\n",
       "      <td>-13.224332</td>\n",
       "      <td>0.360730</td>\n",
       "    </tr>\n",
       "    <tr>\n",
       "      <th>328</th>\n",
       "      <td>0.319328</td>\n",
       "      <td>1.687913</td>\n",
       "      <td>-13.016722</td>\n",
       "      <td>0.409305</td>\n",
       "    </tr>\n",
       "    <tr>\n",
       "      <th>328</th>\n",
       "      <td>0.247512</td>\n",
       "      <td>0.946168</td>\n",
       "      <td>-14.091973</td>\n",
       "      <td>0.004913</td>\n",
       "    </tr>\n",
       "    <tr>\n",
       "      <th>328</th>\n",
       "      <td>0.275845</td>\n",
       "      <td>1.328330</td>\n",
       "      <td>-7.025370</td>\n",
       "      <td>0.348713</td>\n",
       "    </tr>\n",
       "  </tbody>\n",
       "</table>\n",
       "</div>"
      ],
      "text/plain": [
       "          param_1   param_2     param_3   param_4\n",
       "DRUG_ID                                          \n",
       "170      0.282951  0.991244  -17.902582  0.001505\n",
       "170      0.698205  1.048014  -59.845264  0.005641\n",
       "170      0.249038  1.012518  -39.324919  0.009713\n",
       "180      0.216242  1.230551  -18.919984  0.223495\n",
       "180      0.201282  1.083057  -21.678776  0.117393\n",
       "180      0.239697  1.028090  -25.179452  0.029018\n",
       "180      0.210689  1.518976  -17.756499  0.367604\n",
       "180      0.242926  1.251981   -4.968984  0.369870\n",
       "180      0.256271  1.066051  -28.573456  0.056317\n",
       "200      0.273106  1.089668  -31.437585  0.066720\n",
       "200      0.286159  0.997041  -17.400757  0.003364\n",
       "219      0.599288  1.382655   -9.080227  0.228694\n",
       "219      0.484072  1.646384 -174.076325  0.369179\n",
       "219      0.336962  1.713612 -155.207157  0.364534\n",
       "272      0.617450  1.509245  -12.143799  0.330477\n",
       "272      0.584178  1.320418   -8.858586  0.238113\n",
       "272      0.562041  1.443102   -9.006317  0.266729\n",
       "272      0.665907  1.363820   -9.572618  0.244904\n",
       "273      0.702955  1.123751  -21.573479  0.074433\n",
       "273      0.728141  1.109685  -32.764549  0.029343\n",
       "273      0.657591  1.224341 -144.939236  0.149335\n",
       "273      0.683112  1.065268  -19.052244  0.035959\n",
       "276      0.649710  1.179116   -8.262814  0.132631\n",
       "276      0.684333  1.112851  -18.521287  0.082749\n",
       "276      0.752499  1.040783  -26.520280  0.035636\n",
       "328      0.227590  1.476096  -13.224332  0.360730\n",
       "328      0.319328  1.687913  -13.016722  0.409305\n",
       "328      0.247512  0.946168  -14.091973  0.004913\n",
       "328      0.275845  1.328330   -7.025370  0.348713"
      ]
     },
     "execution_count": 17,
     "metadata": {},
     "output_type": "execute_result"
    }
   ],
   "source": [
    "test_df_50[test_df_50[\"r2_scores_df4\"]<0.6][[\"param_\"+str(i) for i in range(1,5)]]"
   ]
  },
  {
   "cell_type": "code",
   "execution_count": null,
   "metadata": {},
   "outputs": [],
   "source": []
  }
 ],
 "metadata": {
  "kernelspec": {
   "display_name": "myspark",
   "language": "python",
   "name": "myspark"
  },
  "language_info": {
   "codemirror_mode": {
    "name": "ipython",
    "version": 3
   },
   "file_extension": ".py",
   "mimetype": "text/x-python",
   "name": "python",
   "nbconvert_exporter": "python",
   "pygments_lexer": "ipython3",
   "version": "3.6.10"
  }
 },
 "nbformat": 4,
 "nbformat_minor": 4
}
