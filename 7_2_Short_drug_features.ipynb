{
 "cells": [
  {
   "cell_type": "code",
   "execution_count": 1,
   "metadata": {
    "collapsed": true
   },
   "outputs": [],
   "source": [
    "import pandas as pd\n",
    "import numpy as np\n",
    "import os\n",
    "# pip install PubChemPy\n",
    "import pubchempy as pcp\n",
    "import re\n",
    "from pubchempy import Compound\n",
    "import warnings\n",
    "warnings.filterwarnings(\"ignore\")\n",
    "import time\n",
    "import tqdm"
   ]
  },
  {
   "cell_type": "code",
   "execution_count": 2,
   "metadata": {},
   "outputs": [
    {
     "data": {
      "text/plain": [
       "['Drug_Features2.csv',\n",
       " 'Cell_Lines_Details.csv',\n",
       " 'Drug_Features.csv',\n",
       " 'Cell_Line_Features_PANCAN_simple_MOBEM.xlsx',\n",
       " 'Cell_Line_Features_PANCAN_simple_MOBEM.tsv',\n",
       " 'normalised_dose_response_data.csv']"
      ]
     },
     "execution_count": 2,
     "metadata": {},
     "output_type": "execute_result"
    }
   ],
   "source": [
    "os.listdir(\"data\")"
   ]
  },
  {
   "cell_type": "code",
   "execution_count": 3,
   "metadata": {
    "collapsed": true
   },
   "outputs": [],
   "source": [
    "drug_features = pd.read_csv('data/Drug_Features.csv').rename(columns={\"Drug ID\": \"DRUG_ID\", \n",
    "                                                                      \"Drug Name\" : \"Drug_Name\",\n",
    "                                                                      \"Target Pathway\": \"Target_Pathway\"})"
   ]
  },
  {
   "cell_type": "markdown",
   "metadata": {},
   "source": [
    "### get drug features from pubchempy"
   ]
  },
  {
   "cell_type": "code",
   "execution_count": 4,
   "metadata": {},
   "outputs": [
    {
     "name": "stdout",
     "output_type": "stream",
     "text": [
      "CPU times: user 7.51 s, sys: 324 ms, total: 7.83 s\n",
      "Wall time: 3min 11s\n"
     ]
    }
   ],
   "source": [
    "%%time\n",
    "\n",
    "for drug_id in drug_features[\"DRUG_ID\"].unique():\n",
    "    drug_index = drug_features[drug_features[\"DRUG_ID\"]==drug_id].index\n",
    "    drug_name = drug_features.loc[drug_index, \"Drug_Name\"].values[0]\n",
    "    deriv = pcp.get_compounds(drug_name, 'name')\n",
    "    drug_features.loc[drug_index, \"deriv_found\"] = len(deriv)\n",
    "    try:\n",
    "        drug_features.loc[drug_index, \"PubChem_ID\"]= re.findall(r'\\((.*?)\\)', str(deriv))\n",
    "    except:\n",
    "        if len(deriv)>1:\n",
    "            drug_features.loc[drug_index, \"PubChem_ID\"]= str([np.int(x) for x in re.findall(r'\\((.*?)\\)', str(deriv))]).strip(\"[\").strip(\"]\")\n",
    "        else:\n",
    "            drug_features.loc[drug_index, \"PubChem_ID\"]= 0"
   ]
  },
  {
   "cell_type": "markdown",
   "metadata": {},
   "source": [
    "### Manual matching for drugs with missing or mutiple data"
   ]
  },
  {
   "cell_type": "code",
   "execution_count": 5,
   "metadata": {
    "collapsed": true
   },
   "outputs": [],
   "source": [
    "error_names_dict={\"Lestauritinib\": \"Lestaurtinib\"}\n",
    "error_name = \"Lestauritinib\"\n",
    "\n",
    "# correct the search results\n",
    "error_drug_index = drug_features[drug_features[\"Drug_Name\"]==error_name].index\n",
    "correct_drug_name = error_names_dict[error_name]\n",
    "drug_features.loc[error_drug_index, \"Drug_Name\"] = correct_drug_name"
   ]
  },
  {
   "cell_type": "code",
   "execution_count": 6,
   "metadata": {
    "collapsed": true
   },
   "outputs": [],
   "source": [
    "new_synonyms = {\"Y-39983\": {\"Synonyms\": \"Y-33075\",\n",
    "                           \"reference\": [\"https://www.medchemexpress.com/Y-33075.html\",\n",
    "                            \"https://www.nature.com/articles/s41467-019-13781-3\"]}}\n",
    "\n",
    "manual_corrections = {\n",
    "    \"Lestaurtinib\":{\"pubchem_id\" : 126565,\n",
    "               \"reference\" : \"https://www.cancerrxgene.org/compounds\"},\n",
    "    \n",
    "    \"WZ-1-84\": {\"pubchem_id\" : 49821040,\n",
    "               \"reference\" : \"http://lincs.hms.harvard.edu/db/datasets/20119/smallmolecules\"},\n",
    "    \n",
    "    \"GW441756\": {\"pubchem_id\" : 9943465 ,\n",
    "               \"reference\" : \"\",\n",
    "               \"note\": \"no result in drugbank\"},\n",
    "    \n",
    "    \"Parthenolide\" : {\"pubchem_id\" : 6473881,\n",
    "               \"reference\" : \"https://www.drugbank.ca/drugs/DB13063\"},\n",
    "    \n",
    "    \"Obatoclax Mesylate\": {\"pubchem_id\" : 347828476,\n",
    "               \"reference\" : \"https://www.drugbank.ca/drugs/DB12191\"},\n",
    "    \n",
    "    \"Bleomycine\": {\"pubchem_id\" : 72467,\n",
    "               \"reference\" : \"https://www.drugbank.ca/drugs/DB00290\"},\n",
    "    \n",
    "    \"Y-39983\": {\"pubchem_id\" : 20601328,\n",
    "               \"reference\" : \"https://www.medchemexpress.com/Y-33075.html\"},\n",
    "    \n",
    "    \"JW-7-52-1\": {\"pubchem_id\" : 20822503,\n",
    "               \"reference\" : \"https://pharmacodb.ca/drugs/392\"},\n",
    "    \n",
    "    \"VNLG/124\": { \"pubchem_id\": 24894414, \n",
    "                  \"reference\": \"https://www.cancerrxgene.org/compounds\" },\n",
    "    \n",
    "    \"PDK1 inhibitor 7\": { \"pubchem_id\": 56965967, \n",
    "                         \"reference\": \"https://www.cancerrxgene.org/compounds\"},\n",
    "    \n",
    "    \"KIN001-260\": {\"pubchem_id\": 10451420, \n",
    "                   \"reference\": \"https://www.cancerrxgene.org/compounds\"},\n",
    "    \n",
    "    \"SB52334\": {\"pubchem_id\": 9967941, \n",
    "                \"reference\": \"https://www.cancerrxgene.org/compounds\"},\n",
    "    \n",
    "    \"KIN001-270\": { \"pubchem_id\": 66577006, \n",
    "                   \"reference\": \"https://www.cancerrxgene.org/compounds\"},\n",
    "    \n",
    "    \"Cisplatin\": {\"pubchem_id\": 84691, \n",
    "                  \"reference\": \"https://www.cancerrxgene.org/compounds\"},\n",
    "    \n",
    "    \"Cetuximab\": {\"pubchem_id\": 85668777, \n",
    "                  \"reference\": \"https://www.cancerrxgene.org/compounds\"},\n",
    "    \n",
    "    \"Nutlin-3a (-)\": { \"pubchem_id\": \n",
    "                      11433190, \"reference\": \"\"},\n",
    "    \n",
    "    \"681640\": { \"pubchem_id\": 10384072, \n",
    "               \"reference\": \"\"},\n",
    "    \n",
    "    \"MPS-1-IN-1\": {\"pubchem_id\": 25195352, \n",
    "                   \"reference\": \"\"},\n",
    "    \n",
    "    \"KIN001-266\": { \"pubchem_id\": 44143370, \n",
    "                   \"reference\": \"\"},\n",
    "    \n",
    "    \"JW-7-52-1\" : {\"pubchem_id\": 49836027, \n",
    "                   \"reference\": \"\"},\n",
    "    \n",
    "    \"Vinorelbine\": {\"pubchem_id\": 44424639, \n",
    "                   \"reference\": \"https://www.drugbank.ca/drugs/DB00361\"},\n",
    "    \n",
    "    \"Paclitaxel\": {\"pubchem_id\": 36314, \n",
    "                   \"reference\": \"https://www.drugbank.ca/drugs/DB01229\"},\n",
    "    \n",
    "    \"Bleomycin\": {\"pubchem_id\": 5360373, \n",
    "                   \"reference\": \"https://www.drugbank.ca/drugs/DB00290\"},\n",
    "    \n",
    "    \"Vinblastine\": {\"pubchem_id\": 13342, \n",
    "                   \"reference\": \"https://www.drugbank.ca/drugs/DB00570\"},\n",
    "    \n",
    "    \n",
    "    \"THZ-2-102-1\" : {\"pubchem_id\": 146011539, \n",
    "                   \"reference\": \"Katjusa Koler's suggestion\"},\n",
    "    \n",
    "    \"THZ-2-49\" : {\"pubchem_id\": 78357763 , \n",
    "                   \"reference\": [\"https://www.cancerrxgene.org/compounds\", \n",
    "                                \"https://www.medchemexpress.com/THZ2.html\",\n",
    "                                \"https://pubchem.ncbi.nlm.nih.gov/compound/78357763\"]},\n",
    "    \n",
    "    \"QL-XII-47\": {\"pubchem_id\": 71748056, \n",
    "                   \"reference\": \"https://lincs.hms.harvard.edu/db/sm/10077-101-1/\"},\n",
    "    \n",
    "    \"BMS-345541\" : {\"pubchem_id\": 9813758, \n",
    "                   \"reference\": \"\"},\n",
    "    \n",
    "    \"Temsirolimus\" : {\"pubchem_id\": 23724530, \n",
    "                   \"reference\": \"https://www.drugbank.ca/drugs/DB06287\"},\n",
    "    \n",
    "    \"SB590885\" : {\"pubchem_id\": 135398506, \n",
    "                   \"reference\": \"https://pubchem.ncbi.nlm.nih.gov/#query=SB590885\"},\n",
    "    \n",
    "    \"WZ3105\" : {\"pubchem_id\": 42628507, \n",
    "                   \"reference\": \"https://lincs.hms.harvard.edu/db/sm/10084-101/\"},\n",
    "    \n",
    "    \"NPK76-II-72-1\" : {\"pubchem_id\": 46843648, \n",
    "                   \"reference\": \"https://lincs.hms.harvard.edu/db/sm/10070-101/\"},\n",
    "    \n",
    "    \"JW-7-24-1\" : {\"pubchem_id\": 69923936, \n",
    "                   \"reference\": \"https://lincs.hms.harvard.edu/db/sm/10019-101/\"},\n",
    "    \"Bryostatin 1\" : {\"pubchem_id\": 6435419, \n",
    "                   \"reference\": \"https://pubchem.ncbi.nlm.nih.gov/#query=Bryostatin%201\"},\n",
    "    \"QL-XI-92\": {\"pubchem_id\": 73265214,\n",
    "                 \"reference\": \"Katjusa Koler's & Dennis Wang's database\"},\n",
    "    \n",
    "    \"SL0101\": {\"pubchem_id\": 10459196,\n",
    "                 \"reference\": \"https://www.cancerrxgene.org/compounds\"}, \n",
    "    \"Z-LLNle-CHO\": {\"pubchem_id\": 16760646  ,\n",
    "                 \"reference\": \"https://www.cancerrxgene.org/compounds\"}, \n",
    "    \"JNK-9L\": {\"pubchem_id\": 25222038  ,\n",
    "                 \"reference\": \"https://www.cancerrxgene.org/compounds\"}, \n",
    "    \"KIN001-244\": {\"pubchem_id\": 56965967  ,\n",
    "                 \"reference\": \"https://www.cancerrxgene.org/compounds\"},\n",
    "    \"RO-3306\":  {\"pubchem_id\": 44450571  ,\n",
    "                 \"reference\": \"https://www.cancerrxgene.org/compounds\"},\n",
    "    \"EHT-1864\": {\"pubchem_id\": 9938202  ,\n",
    "                 \"reference\": \"https://www.cancerrxgene.org/compounds\"},\n",
    "    \n",
    "        \n",
    "    }\n",
    "    \n",
    "corrections_pubchem_id = {\n",
    "    \"Temsirolimus\": 6918289,\n",
    "    \"Vinorelbine\": 5311497,\n",
    "    \"Y-39983\": 9810884,\n",
    "    \"GW441756\": 9943465, \n",
    "    \"Vinblastine\": 6710780,\n",
    "    \"Bryostatin 1\": 5280757,\n",
    "    \"Parthenolide\": 7251185,\n",
    "    \"Obatoclax Mesylate\": 11404337,\n",
    "    \"Bleomycin (50 uM)\": 5460769,\n",
    "    \"SB590885\": 11316960,\n",
    "    \"Paclitaxel\" :36314,\n",
    "    \"BMS-345541\": 9813758 \n",
    "}\n",
    "\n",
    "for drug_name in manual_corrections:\n",
    "    drug_index = drug_features[drug_features[\"Drug_Name\"]==drug_name].index\n",
    "    drug_features.loc[drug_index, \"deriv_found\"] = 1\n",
    "    drug_features.loc[drug_index, \"PubChem_ID\"]= manual_corrections[drug_name][\"pubchem_id\"]\n",
    "\n",
    "# more_corrections\n",
    "for drug_name in corrections_pubchem_id:\n",
    "    drug_index = drug_features[drug_features[\"Drug_Name\"]==drug_name].index\n",
    "    drug_features.loc[drug_index, \"deriv_found\"] = 1\n",
    "    drug_features.loc[drug_index, \"PubChem_ID\"]= corrections_pubchem_id[drug_name]"
   ]
  },
  {
   "cell_type": "code",
   "execution_count": 7,
   "metadata": {
    "collapsed": true
   },
   "outputs": [],
   "source": [
    "# write the data\n",
    "drug_features.to_csv(\"results/drug_features_pubchem_id.csv\")"
   ]
  },
  {
   "cell_type": "markdown",
   "metadata": {},
   "source": [
    "### Extracting properties from PubChem"
   ]
  },
  {
   "cell_type": "code",
   "execution_count": 8,
   "metadata": {},
   "outputs": [
    {
     "name": "stdout",
     "output_type": "stream",
     "text": [
      "CPU times: user 13.1 s, sys: 252 ms, total: 13.3 s\n",
      "Wall time: 2min 47s\n"
     ]
    }
   ],
   "source": [
    "%%time\n",
    "# for i, PubChem_id in tqdm(list(enumerate(drug_features[\"PubChem_ID\"].values))):\n",
    "for PubChem_id in drug_features[\"PubChem_ID\"].values:\n",
    "    try:\n",
    "        drug_index = drug_features[drug_features[\"PubChem_ID\"]==PubChem_id].index\n",
    "        \n",
    "        c = Compound.from_cid(PubChem_id)\n",
    "        \n",
    "        drug_features.loc[drug_index, \"molecular_weight\"] = c.molecular_weight\n",
    "   \n",
    "        drug_features.loc[drug_index, \"elements\"] = str(set(c.elements)).strip(\"{\").strip(\"}\")\n",
    "        \n",
    "        bonds = [int(str(i).split(\",\")[-1].strip(\")\")) for i in c.bonds]\n",
    "        drug_features.loc[drug_index, \"2bonds\"] = bonds.count(2)\n",
    "        drug_features.loc[drug_index, \"3bonds\"] = bonds.count(3)\n",
    "\n",
    "        drug_features.loc[drug_index, \"xlogp\"] = c.xlogp\n",
    "        drug_features.loc[drug_index, \"formal_charge\"] = c.charge\n",
    "    \n",
    "        drug_features.loc[drug_index, \"surface_area\"] = c.tpsa\n",
    "\n",
    "        drug_features.loc[drug_index, \"complexity\"] = c.complexity\n",
    "\n",
    "        drug_features.loc[drug_index, \"complexity\"] = c.h_bond_donor_count\n",
    "\n",
    "        drug_features.loc[drug_index, \"h_bond_acceptor_count\"] = c.h_bond_acceptor_count\n",
    "\n",
    "        drug_features.loc[drug_index, \"rotatable_bond_count\"] = c.rotatable_bond_count\n",
    "\n",
    "        drug_features.loc[drug_index, \"heavy_atom_count\"] = c.heavy_atom_count\n",
    "\n",
    "        drug_features.loc[drug_index, \"atom_stereo_count\"] = c.atom_stereo_count\n",
    "\n",
    "        drug_features.loc[drug_index, \"defined_atom_stereo_count\"] = c.defined_atom_stereo_count\n",
    "\n",
    "        drug_features.loc[drug_index, \"undefined_atom_stereo_count\"] = c.undefined_atom_stereo_count\n",
    "\n",
    "        drug_features.loc[drug_index, \"bond_stereo_count\"] = c.bond_stereo_count\n",
    "\n",
    "        drug_features.loc[drug_index, \"covalent_unit_count\"] = c.covalent_unit_count\n",
    "        drug_features.loc[drug_index, \"molecular_formula\"] = c.molecular_formula\n",
    "\n",
    "        drug_features.loc[drug_index, \"canonical_smiles\"] = c.canonical_smiles\n",
    "\n",
    "        drug_features.loc[drug_index, \"inchi_string\"] = c.inchi\n",
    "\n",
    "        drug_features.loc[drug_index, \"inchi_key\"] = c.inchikey\n",
    "    except:\n",
    "        pass\n",
    "\n",
    "# # fingerprint\n",
    "# # Raw padded and hex-encoded fingerprint, as returned by the PUG REST API.\n",
    "\n",
    "# # cactvs_fingerprint\n",
    "# # PubChem CACTVS fingerprint.\n",
    "# # Each bit in the fingerprint represents the presence or absence of one of 881 chemical substructures.\n",
    "# # More information at ftp://ftp.ncbi.nlm.nih.gov/pubchem/specifications/pubchem_fingerprints.txt\n"
   ]
  },
  {
   "cell_type": "code",
   "execution_count": 9,
   "metadata": {},
   "outputs": [
    {
     "data": {
      "text/plain": [
       "16"
      ]
     },
     "execution_count": 9,
     "metadata": {},
     "output_type": "execute_result"
    }
   ],
   "source": [
    "#pubchem_id is none\n",
    "drug_features[drug_features[\"molecular_weight\"].isnull()].shape[0]"
   ]
  },
  {
   "cell_type": "markdown",
   "metadata": {},
   "source": [
    "### Additional features from splitting columns in drug_features"
   ]
  },
  {
   "cell_type": "markdown",
   "metadata": {},
   "source": [
    "In this section, we are going to have some dumnies columns for Target and Target_Pathway\n",
    "As in Target column only several drugs have more than 3 values, only three dumny columns were created\n",
    "\n",
    "Converting of Target Pathway resulted in 29 new columns\n",
    "\n",
    "It is also worth considering elements columns and that deleting columns with C and H which are present in all the compounds\n"
   ]
  },
  {
   "cell_type": "code",
   "execution_count": 10,
   "metadata": {
    "collapsed": true
   },
   "outputs": [],
   "source": [
    "drug_features[\"first_target\"] = drug_features[\"Target\"].str.split(\",\", expand=True).fillna(0)[0]\n",
    "drug_features[\"second_target\"] = drug_features[\"Target\"].str.split(\",\", expand=True).fillna(0)[1]\n",
    "drug_features[\"third_target\"] = drug_features[\"Target\"].str.split(\",\", expand=True).fillna(0)[2]"
   ]
  },
  {
   "cell_type": "markdown",
   "metadata": {},
   "source": [
    "#### dumnies columns for Target Pathway (29 values)"
   ]
  },
  {
   "cell_type": "code",
   "execution_count": 11,
   "metadata": {},
   "outputs": [
    {
     "data": {
      "text/plain": [
       "(265, 52)"
      ]
     },
     "execution_count": 11,
     "metadata": {},
     "output_type": "execute_result"
    }
   ],
   "source": [
    "drug_features = pd.concat([drug_features, pd.get_dummies(drug_features[\"Target_Pathway\"])], axis=1).drop(\"Target_Pathway\", axis=1)\n",
    "drug_features.shape"
   ]
  },
  {
   "cell_type": "code",
   "execution_count": 12,
   "metadata": {},
   "outputs": [
    {
     "name": "stdout",
     "output_type": "stream",
     "text": [
      "CPU times: user 1.81 s, sys: 795 µs, total: 1.81 s\n",
      "Wall time: 1.81 s\n"
     ]
    }
   ],
   "source": [
    "%%time\n",
    "all_elements = list(set(drug_features[\"elements\"].str.split(\",\", expand=True).fillna(0).values.flatten())- set([0,\" 'C'\", \"'C'\", \" 'H'\"]))\n",
    "elements_in_drugs= [atom.strip(\" \").strip(\"'\") for atom in all_elements]\n",
    "exceptions =[]\n",
    "for drug_index in drug_features.index:\n",
    "    compound_elements = drug_features.loc[drug_index, \"elements\"]\n",
    "    try:\n",
    "        for i, atom in list(enumerate(elements_in_drugs)):\n",
    "            if all_elements[i] in compound_elements:\n",
    "                drug_features.loc[drug_index, atom] = 1\n",
    "            else:\n",
    "                drug_features.loc[drug_index, atom] = 0\n",
    "    except:\n",
    "        exceptions.append(drug_index)\n",
    "        drug_features.loc[drug_index, atom] = 0"
   ]
  },
  {
   "cell_type": "code",
   "execution_count": 13,
   "metadata": {},
   "outputs": [
    {
     "data": {
      "text/plain": [
       "16"
      ]
     },
     "execution_count": 13,
     "metadata": {},
     "output_type": "execute_result"
    }
   ],
   "source": [
    "drug_features.loc[exceptions, :].shape[0]"
   ]
  },
  {
   "cell_type": "code",
   "execution_count": 14,
   "metadata": {},
   "outputs": [],
   "source": [
    "#drug_features.drop(\"Unnamed: 0\", axis=1).to_csv(\"results/drug_features_with_pubchem_properties.csv\")\n",
    "drug_features.to_csv(\"results/drug_features_with_pubchem_properties.csv\")"
   ]
  },
  {
   "cell_type": "code",
   "execution_count": 15,
   "metadata": {},
   "outputs": [
    {
     "data": {
      "text/html": [
       "<div>\n",
       "<style scoped>\n",
       "    .dataframe tbody tr th:only-of-type {\n",
       "        vertical-align: middle;\n",
       "    }\n",
       "\n",
       "    .dataframe tbody tr th {\n",
       "        vertical-align: top;\n",
       "    }\n",
       "\n",
       "    .dataframe thead th {\n",
       "        text-align: right;\n",
       "    }\n",
       "</style>\n",
       "<table border=\"1\" class=\"dataframe\">\n",
       "  <thead>\n",
       "    <tr style=\"text-align: right;\">\n",
       "      <th></th>\n",
       "      <th>DRUG_ID</th>\n",
       "      <th>Drug_Name</th>\n",
       "      <th>Synonyms</th>\n",
       "      <th>Target</th>\n",
       "      <th>deriv_found</th>\n",
       "      <th>PubChem_ID</th>\n",
       "      <th>molecular_weight</th>\n",
       "      <th>elements</th>\n",
       "      <th>2bonds</th>\n",
       "      <th>3bonds</th>\n",
       "      <th>...</th>\n",
       "      <th>S</th>\n",
       "      <th>Cl</th>\n",
       "      <th>N</th>\n",
       "      <th>F</th>\n",
       "      <th>P</th>\n",
       "      <th>H</th>\n",
       "      <th>O</th>\n",
       "      <th>Pt</th>\n",
       "      <th>B</th>\n",
       "      <th>Br</th>\n",
       "    </tr>\n",
       "  </thead>\n",
       "  <tbody>\n",
       "    <tr>\n",
       "      <th>0</th>\n",
       "      <td>1</td>\n",
       "      <td>Erlotinib</td>\n",
       "      <td>Tarceva, RG-1415, CP-358774, OSI-774, Ro-50823...</td>\n",
       "      <td>EGFR</td>\n",
       "      <td>1.0</td>\n",
       "      <td>176870</td>\n",
       "      <td>393.4</td>\n",
       "      <td>'C', 'N', 'H', 'O'</td>\n",
       "      <td>8.0</td>\n",
       "      <td>1.0</td>\n",
       "      <td>...</td>\n",
       "      <td>0.0</td>\n",
       "      <td>0.0</td>\n",
       "      <td>1.0</td>\n",
       "      <td>0.0</td>\n",
       "      <td>0.0</td>\n",
       "      <td>1.0</td>\n",
       "      <td>1.0</td>\n",
       "      <td>0.0</td>\n",
       "      <td>0.0</td>\n",
       "      <td>0.0</td>\n",
       "    </tr>\n",
       "    <tr>\n",
       "      <th>1</th>\n",
       "      <td>3</td>\n",
       "      <td>Rapamycin</td>\n",
       "      <td>AY-22989, Sirolimus, WY-090217, Torisel, Rapamune</td>\n",
       "      <td>MTORC1</td>\n",
       "      <td>1.0</td>\n",
       "      <td>5284616</td>\n",
       "      <td>914.2</td>\n",
       "      <td>'C', 'N', 'H', 'O'</td>\n",
       "      <td>9.0</td>\n",
       "      <td>0.0</td>\n",
       "      <td>...</td>\n",
       "      <td>0.0</td>\n",
       "      <td>0.0</td>\n",
       "      <td>1.0</td>\n",
       "      <td>0.0</td>\n",
       "      <td>0.0</td>\n",
       "      <td>1.0</td>\n",
       "      <td>1.0</td>\n",
       "      <td>0.0</td>\n",
       "      <td>0.0</td>\n",
       "      <td>0.0</td>\n",
       "    </tr>\n",
       "    <tr>\n",
       "      <th>2</th>\n",
       "      <td>5</td>\n",
       "      <td>Sunitinib</td>\n",
       "      <td>Sutent, Sunitinib Malate, SU-11248</td>\n",
       "      <td>PDGFR, KIT, VEGFR, FLT3, RET, CSF1R</td>\n",
       "      <td>1.0</td>\n",
       "      <td>5329102</td>\n",
       "      <td>398.5</td>\n",
       "      <td>'H', 'F', 'N', 'O', 'C'</td>\n",
       "      <td>8.0</td>\n",
       "      <td>0.0</td>\n",
       "      <td>...</td>\n",
       "      <td>0.0</td>\n",
       "      <td>0.0</td>\n",
       "      <td>1.0</td>\n",
       "      <td>1.0</td>\n",
       "      <td>0.0</td>\n",
       "      <td>1.0</td>\n",
       "      <td>1.0</td>\n",
       "      <td>0.0</td>\n",
       "      <td>0.0</td>\n",
       "      <td>0.0</td>\n",
       "    </tr>\n",
       "    <tr>\n",
       "      <th>3</th>\n",
       "      <td>6</td>\n",
       "      <td>PHA-665752</td>\n",
       "      <td>PHA665752, PHA 665752</td>\n",
       "      <td>MET</td>\n",
       "      <td>1.0</td>\n",
       "      <td>10461815</td>\n",
       "      <td>641.6</td>\n",
       "      <td>'Cl', 'S', 'H', 'N', 'O', 'C'</td>\n",
       "      <td>13.0</td>\n",
       "      <td>0.0</td>\n",
       "      <td>...</td>\n",
       "      <td>1.0</td>\n",
       "      <td>0.0</td>\n",
       "      <td>1.0</td>\n",
       "      <td>0.0</td>\n",
       "      <td>0.0</td>\n",
       "      <td>1.0</td>\n",
       "      <td>1.0</td>\n",
       "      <td>0.0</td>\n",
       "      <td>0.0</td>\n",
       "      <td>0.0</td>\n",
       "    </tr>\n",
       "    <tr>\n",
       "      <th>4</th>\n",
       "      <td>9</td>\n",
       "      <td>MG-132</td>\n",
       "      <td>LLL cpd, MG 132, MG132</td>\n",
       "      <td>Proteasome, CAPN1</td>\n",
       "      <td>1.0</td>\n",
       "      <td>462382</td>\n",
       "      <td>475.6</td>\n",
       "      <td>'C', 'N', 'H', 'O'</td>\n",
       "      <td>7.0</td>\n",
       "      <td>0.0</td>\n",
       "      <td>...</td>\n",
       "      <td>0.0</td>\n",
       "      <td>0.0</td>\n",
       "      <td>1.0</td>\n",
       "      <td>0.0</td>\n",
       "      <td>0.0</td>\n",
       "      <td>1.0</td>\n",
       "      <td>1.0</td>\n",
       "      <td>0.0</td>\n",
       "      <td>0.0</td>\n",
       "      <td>0.0</td>\n",
       "    </tr>\n",
       "  </tbody>\n",
       "</table>\n",
       "<p>5 rows × 63 columns</p>\n",
       "</div>"
      ],
      "text/plain": [
       "   DRUG_ID   Drug_Name                                           Synonyms  \\\n",
       "0        1   Erlotinib  Tarceva, RG-1415, CP-358774, OSI-774, Ro-50823...   \n",
       "1        3   Rapamycin  AY-22989, Sirolimus, WY-090217, Torisel, Rapamune   \n",
       "2        5   Sunitinib                 Sutent, Sunitinib Malate, SU-11248   \n",
       "3        6  PHA-665752                              PHA665752, PHA 665752   \n",
       "4        9      MG-132                             LLL cpd, MG 132, MG132   \n",
       "\n",
       "                                Target  deriv_found PubChem_ID  \\\n",
       "0                                 EGFR          1.0     176870   \n",
       "1                               MTORC1          1.0    5284616   \n",
       "2  PDGFR, KIT, VEGFR, FLT3, RET, CSF1R          1.0    5329102   \n",
       "3                                  MET          1.0   10461815   \n",
       "4                    Proteasome, CAPN1          1.0     462382   \n",
       "\n",
       "   molecular_weight                       elements  2bonds  3bonds  ...    S  \\\n",
       "0             393.4             'C', 'N', 'H', 'O'     8.0     1.0  ...  0.0   \n",
       "1             914.2             'C', 'N', 'H', 'O'     9.0     0.0  ...  0.0   \n",
       "2             398.5        'H', 'F', 'N', 'O', 'C'     8.0     0.0  ...  0.0   \n",
       "3             641.6  'Cl', 'S', 'H', 'N', 'O', 'C'    13.0     0.0  ...  1.0   \n",
       "4             475.6             'C', 'N', 'H', 'O'     7.0     0.0  ...  0.0   \n",
       "\n",
       "    Cl    N    F    P    H    O   Pt    B   Br  \n",
       "0  0.0  1.0  0.0  0.0  1.0  1.0  0.0  0.0  0.0  \n",
       "1  0.0  1.0  0.0  0.0  1.0  1.0  0.0  0.0  0.0  \n",
       "2  0.0  1.0  1.0  0.0  1.0  1.0  0.0  0.0  0.0  \n",
       "3  0.0  1.0  0.0  0.0  1.0  1.0  0.0  0.0  0.0  \n",
       "4  0.0  1.0  0.0  0.0  1.0  1.0  0.0  0.0  0.0  \n",
       "\n",
       "[5 rows x 63 columns]"
      ]
     },
     "execution_count": 15,
     "metadata": {},
     "output_type": "execute_result"
    }
   ],
   "source": [
    "drug_features.head()"
   ]
  },
  {
   "cell_type": "code",
   "execution_count": 16,
   "metadata": {},
   "outputs": [
    {
     "data": {
      "text/plain": [
       "Index(['DRUG_ID', 'Drug_Name', 'Synonyms', 'Target', 'deriv_found',\n",
       "       'PubChem_ID', 'molecular_weight', 'elements', '2bonds', '3bonds',\n",
       "       'xlogp', 'formal_charge', 'surface_area', 'complexity',\n",
       "       'h_bond_acceptor_count', 'rotatable_bond_count', 'heavy_atom_count',\n",
       "       'atom_stereo_count', 'defined_atom_stereo_count',\n",
       "       'undefined_atom_stereo_count', 'bond_stereo_count',\n",
       "       'covalent_unit_count', 'molecular_formula', 'canonical_smiles',\n",
       "       'inchi_string', 'inchi_key', 'first_target', 'second_target',\n",
       "       'third_target', 'ABL signaling', 'Apoptosis regulation', 'Cell cycle',\n",
       "       'Chromatin histone acetylation', 'Chromatin histone methylation',\n",
       "       'Chromatin other', 'Cytoskeleton', 'DNA replication', 'EGFR signaling',\n",
       "       'ERK MAPK signaling', 'Genome integrity', 'Hormone-related',\n",
       "       'IGFR signaling', 'JNK and p38 signaling', 'Metabolism', 'Mitosis',\n",
       "       'Other', 'Other, kinases', 'PI3K/MTOR signaling',\n",
       "       'Protein stability and degradation', 'RTK signaling', 'WNT signaling',\n",
       "       'p53 pathway', 'I', 'S', 'Cl', 'N', 'F', 'P', 'H', 'O', 'Pt', 'B',\n",
       "       'Br'],\n",
       "      dtype='object')"
      ]
     },
     "execution_count": 16,
     "metadata": {},
     "output_type": "execute_result"
    }
   ],
   "source": [
    "drug_features.columns"
   ]
  },
  {
   "cell_type": "code",
   "execution_count": 17,
   "metadata": {},
   "outputs": [
    {
     "data": {
      "text/plain": [
       "(15, 16, 15)"
      ]
     },
     "execution_count": 17,
     "metadata": {},
     "output_type": "execute_result"
    }
   ],
   "source": [
    "sum(drug_features[\"inchi_key\"].value_counts()>1), sum(drug_features[\"canonical_smiles\"].value_counts()>1), sum(drug_features[\"inchi_string\"].value_counts()>1)"
   ]
  },
  {
   "cell_type": "code",
   "execution_count": 18,
   "metadata": {},
   "outputs": [
    {
     "data": {
      "text/plain": [
       "2.0     91\n",
       "1.0     55\n",
       "3.0     54\n",
       "4.0     25\n",
       "0.0     17\n",
       "5.0      3\n",
       "20.0     2\n",
       "6.0      2\n",
       "Name: complexity, dtype: int64"
      ]
     },
     "execution_count": 18,
     "metadata": {},
     "output_type": "execute_result"
    }
   ],
   "source": [
    "drug_features[\"complexity\"].value_counts()"
   ]
  },
  {
   "cell_type": "code",
   "execution_count": 19,
   "metadata": {
    "collapsed": true
   },
   "outputs": [],
   "source": [
    "column_not_to_use = ['DRUG_ID', 'Drug_Name', 'Synonyms', \"Target\", \"deriv_found\", \"PubChem_ID\",\n",
    "                     \"elements\", \"inchi_key\", \"canonical_smiles\", \"inchi_string\"]"
   ]
  }
 ],
 "metadata": {
  "anaconda-cloud": {},
  "kernelspec": {
   "display_name": "Python [conda env:jupyter-spark]",
   "language": "python",
   "name": "conda-env-jupyter-spark-py"
  },
  "language_info": {
   "codemirror_mode": {
    "name": "ipython",
    "version": 3
   },
   "file_extension": ".py",
   "mimetype": "text/x-python",
   "name": "python",
   "nbconvert_exporter": "python",
   "pygments_lexer": "ipython3",
   "version": "3.6.5"
  }
 },
 "nbformat": 4,
 "nbformat_minor": 2
}
