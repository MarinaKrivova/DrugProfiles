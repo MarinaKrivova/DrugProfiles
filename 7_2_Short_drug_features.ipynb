{
 "cells": [
  {
   "cell_type": "code",
   "execution_count": 1,
   "metadata": {},
   "outputs": [],
   "source": [
    "import pandas as pd\n",
    "import numpy as np\n",
    "import os\n",
    "# pip install PubChemPy\n",
    "import pubchempy as pcp\n",
    "import re\n",
    "from pubchempy import Compound\n",
    "import warnings\n",
    "warnings.filterwarnings(\"ignore\")\n",
    "import time"
   ]
  },
  {
   "cell_type": "code",
   "execution_count": 2,
   "metadata": {},
   "outputs": [
    {
     "data": {
      "text/plain": [
       "['drug_features_with_properties.csv',\n",
       " 'merged_drug_profiles_sigmoid4_23.csv',\n",
       " 'drug_features_pubchem.csv',\n",
       " 'filtered_drug_profiles_13.csv',\n",
       " 'filtered_drug_profiles_12.csv',\n",
       " 'filtered_drug_profiles_23.csv',\n",
       " 'filtered_drug_profiles.csv',\n",
       " 'merged_drug_profiles_sigmoid4_123.csv',\n",
       " 'filtered_drug_profiles_123.csv']"
      ]
     },
     "execution_count": 2,
     "metadata": {},
     "output_type": "execute_result"
    }
   ],
   "source": [
    "os.listdir(\"results\")"
   ]
  },
  {
   "cell_type": "code",
   "execution_count": 3,
   "metadata": {},
   "outputs": [],
   "source": [
    "drug_features = pd.read_csv('data/Drug_Features.csv').rename(columns={\"Drug ID\": \"DRUG_ID\", \n",
    "                                                                      \"Drug Name\" : \"Drug_Name\",\n",
    "                                                                      \"Target Pathway\": \"Target_Pathway\"})"
   ]
  },
  {
   "cell_type": "markdown",
   "metadata": {},
   "source": [
    "### get drug features from pubchempy"
   ]
  },
  {
   "cell_type": "code",
   "execution_count": 8,
   "metadata": {},
   "outputs": [
    {
     "name": "stdout",
     "output_type": "stream",
     "text": [
      "CPU times: user 6.89 s, sys: 432 ms, total: 7.32 s\n",
      "Wall time: 3min 9s\n"
     ]
    }
   ],
   "source": [
    "%%time\n",
    "\n",
    "for drug_id in drug_features[\"DRUG_ID\"].unique():\n",
    "    drug_index = drug_features[drug_features[\"DRUG_ID\"]==drug_id].index\n",
    "    drug_name = drug_features.loc[drug_index, \"Drug_Name\"].values[0]\n",
    "    deriv = pcp.get_compounds(drug_name, 'name')\n",
    "    drug_features.loc[drug_index, \"deriv_found\"] = len(deriv)\n",
    "    try:\n",
    "        drug_features.loc[drug_index, \"PubChem_ID\"]= re.findall(r'\\((.*?)\\)', str(deriv))\n",
    "    except:\n",
    "        if len(deriv)>1:\n",
    "            drug_features.loc[drug_index, \"PubChem_ID\"]= str([np.int(x) for x in re.findall(r'\\((.*?)\\)', str(deriv))]).strip(\"[\").strip(\"]\")\n",
    "        else:\n",
    "            drug_features.loc[drug_index, \"PubChem_ID\"]= 0"
   ]
  },
  {
   "cell_type": "markdown",
   "metadata": {},
   "source": [
    "### Manual matching for drugs with missing or mutiple data"
   ]
  },
  {
   "cell_type": "code",
   "execution_count": 12,
   "metadata": {},
   "outputs": [],
   "source": [
    "error_names_dict={\"Lestauritinib\": \"Lestaurtinib\"}\n",
    "error_name = \"Lestauritinib\"\n",
    "\n",
    "# correct the search results\n",
    "error_drug_index = drug_features[drug_features[\"Drug_Name\"]==error_name].index\n",
    "correct_drug_name = error_names_dict[error_name]\n",
    "drug_features.loc[error_drug_index, \"Drug_Name\"] = correct_drug_name\n",
    "\n",
    "new_synonyms = {\"Y-39983\": {\"Synonyms\": \"Y-33075\",\n",
    "                           \"reference\": [\"https://www.medchemexpress.com/Y-33075.html\",\n",
    "                            \"https://www.nature.com/articles/s41467-019-13781-3\"]}}\n",
    "\n",
    "manual_corrections = {\n",
    "    \"Lestaurtinib\":{\"pubchem_id\" : 126565,\n",
    "               \"reference\" : \"https://www.cancerrxgene.org/compounds\"},\n",
    "    \n",
    "    \"WZ-1-84\": {\"pubchem_id\" : 49821040,\n",
    "               \"reference\" : \"http://lincs.hms.harvard.edu/db/datasets/20119/smallmolecules\"},\n",
    "    \n",
    "    \"GW441756\": {\"pubchem_id\" : 9943465 ,\n",
    "               \"reference\" : \"\",\n",
    "               \"note\": \"no result in drugbank\"},\n",
    "    \n",
    "    \"Parthenolide\" : {\"pubchem_id\" : 6473881,\n",
    "               \"reference\" : \"https://www.drugbank.ca/drugs/DB13063\"},\n",
    "    \n",
    "    \"Obatoclax Mesylate\": {\"pubchem_id\" : 347828476,\n",
    "               \"reference\" : \"https://www.drugbank.ca/drugs/DB12191\"},\n",
    "    \n",
    "    \"Bleomycine\": {\"pubchem_id\" : 72467,\n",
    "               \"reference\" : \"https://www.drugbank.ca/drugs/DB00290\"},\n",
    "    \n",
    "    \"Y-39983\": {\"pubchem_id\" : 20601328,\n",
    "               \"reference\" : \"https://www.medchemexpress.com/Y-33075.html\"},\n",
    "    \n",
    "    \"JW-7-52-1\": {\"pubchem_id\" : 20822503,\n",
    "               \"reference\" : \"https://pharmacodb.ca/drugs/392\"},\n",
    "    \n",
    "    \"VNLG/124\": { \"pubchem_id\": 24894414, \n",
    "                  \"reference\": \"https://www.cancerrxgene.org/compounds\" },\n",
    "    \n",
    "    \"PDK1 inhibitor 7\": { \"pubchem_id\": 56965967, \n",
    "                         \"reference\": \"https://www.cancerrxgene.org/compounds\"},\n",
    "    \n",
    "    \"KIN001-260\": {\"pubchem_id\": 10451420, \n",
    "                   \"reference\": \"https://www.cancerrxgene.org/compounds\"},\n",
    "    \n",
    "    \"SB52334\": {\"pubchem_id\": 9967941, \n",
    "                \"reference\": \"https://www.cancerrxgene.org/compounds\"},\n",
    "    \n",
    "    \"KIN001-270\": { \"pubchem_id\": 66577006, \n",
    "                   \"reference\": \"https://www.cancerrxgene.org/compounds\"},\n",
    "    \n",
    "    \"Cisplatin\": {\"pubchem_id\": 84691, \n",
    "                  \"reference\": \"https://www.cancerrxgene.org/compounds\"},\n",
    "    \n",
    "    \"Cetuximab\": {\"pubchem_id\": 85668777, \n",
    "                  \"reference\": \"https://www.cancerrxgene.org/compounds\"},\n",
    "    \n",
    "    \"Nutlin-3a (-)\": { \"pubchem_id\": \n",
    "                      11433190, \"reference\": \"\"},\n",
    "    \n",
    "    \"681640\": { \"pubchem_id\": 10384072, \n",
    "               \"reference\": \"\"},\n",
    "    \n",
    "    \"MPS-1-IN-1\": {\"pubchem_id\": 25195352, \n",
    "                   \"reference\": \"\"},\n",
    "    \n",
    "    \"KIN001-266\": { \"pubchem_id\": 44143370, \n",
    "                   \"reference\": \"\"},\n",
    "    \n",
    "    \"JW-7-52-1\" : {\"pubchem_id\": 49836027, \n",
    "                   \"reference\": \"\"},\n",
    "    \n",
    "    \"Vinorelbine\": {\"pubchem_id\": 44424639, \n",
    "                   \"reference\": \"https://www.drugbank.ca/drugs/DB00361\"},\n",
    "    \n",
    "    \"Paclitaxel\": {\"pubchem_id\": 36314, \n",
    "                   \"reference\": \"https://www.drugbank.ca/drugs/DB01229\"},\n",
    "    \n",
    "    \"Bleomycin\": {\"pubchem_id\": 5360373, \n",
    "                   \"reference\": \"https://www.drugbank.ca/drugs/DB00290\"},\n",
    "    \n",
    "    \"Vinblastine\": {\"pubchem_id\": 13342, \n",
    "                   \"reference\": \"https://www.drugbank.ca/drugs/DB00570\"},\n",
    "    \n",
    "    \n",
    "    \"THZ-2-102-1\" : {\"pubchem_id\": 146011539, \n",
    "                   \"reference\": \"Katjusa Koler's suggestion\"},\n",
    "    \n",
    "    \"THZ-2-49\" : {\"pubchem_id\": 78357763 , \n",
    "                   \"reference\": [\"https://www.cancerrxgene.org/compounds\", \n",
    "                                \"https://www.medchemexpress.com/THZ2.html\",\n",
    "                                \"https://pubchem.ncbi.nlm.nih.gov/compound/78357763\"]},\n",
    "    \n",
    "    \"QL-XII-47\": {\"pubchem_id\": 71748056, \n",
    "                   \"reference\": \"https://lincs.hms.harvard.edu/db/sm/10077-101-1/\"},\n",
    "    \n",
    "    \"BMS-345541\" : {\"pubchem_id\": 9813758, \n",
    "                   \"reference\": \"\"},\n",
    "    \n",
    "    \"Temsirolimus\" : {\"pubchem_id\": 23724530, \n",
    "                   \"reference\": \"https://www.drugbank.ca/drugs/DB06287\"},\n",
    "    \n",
    "    \"SB590885\" : {\"pubchem_id\": 135398506, \n",
    "                   \"reference\": \"https://pubchem.ncbi.nlm.nih.gov/#query=SB590885\"},\n",
    "    \n",
    "    \"WZ3105\" : {\"pubchem_id\": 42628507, \n",
    "                   \"reference\": \"https://lincs.hms.harvard.edu/db/sm/10084-101/\"},\n",
    "    \n",
    "    \"NPK76-II-72-1\" : {\"pubchem_id\": 46843648, \n",
    "                   \"reference\": \"https://lincs.hms.harvard.edu/db/sm/10070-101/\"},\n",
    "    \n",
    "    \"JW-7-24-1\" : {\"pubchem_id\": 69923936, \n",
    "                   \"reference\": \"https://lincs.hms.harvard.edu/db/sm/10019-101/\"},\n",
    "    \"Bryostatin 1\" : {\"pubchem_id\": 6435419, \n",
    "                   \"reference\": \"https://pubchem.ncbi.nlm.nih.gov/#query=Bryostatin%201\"},\n",
    "    \"QL-XI-92\": {\"pubchem_id\": \"73265214\",\n",
    "                 \"reference\": \"Katjusa Koler's & Dennis Wang's database\"}\n",
    "        \n",
    "    }\n",
    "    \n",
    "corrections_pubchem_id = {\n",
    "    \"Temsirolimus\": 6918289,\n",
    "    \"Vinorelbine\": 5311497,\n",
    "    \"Y-39983\": 9810884,\n",
    "    \"GW441756\": 9943465, \n",
    "    \"Vinblastine\": 6710780,\n",
    "    \"Bryostatin 1\": 5280757,\n",
    "    \"Parthenolide\": 7251185,\n",
    "    \"Obatoclax Mesylate\": 11404337,\n",
    "    \"Bleomycin (50 uM)\": 5460769,\n",
    "    \"SB590885\": 11316960,\n",
    "    \"Paclitaxel\" :36314,\n",
    "    \"BMS-345541\": 9813758 \n",
    "}\n",
    "\n",
    "\n",
    "for drug_name in manual_corrections:\n",
    "    drug_index = drug_features[drug_features[\"Drug_Name\"]==drug_name].index\n",
    "    drug_features.loc[drug_index, \"deriv_found\"] = 1\n",
    "    drug_features.loc[drug_index, \"PubChem_ID\"]= corrections_pubchem_id[drug_name]\n",
    "\n",
    "# more_corrections\n",
    "for drug_name in corrections_pubchem_id:\n",
    "    drug_index = drug_features[drug_features[\"Drug_Name\"]==drug_name].index\n",
    "    drug_features.loc[drug_index, \"deriv_found\"] = 1\n",
    "    drug_features.loc[drug_index, \"PubChem_ID\"]= corrections_pubchem_id[drug_name]"
   ]
  },
  {
   "cell_type": "code",
   "execution_count": 13,
   "metadata": {},
   "outputs": [],
   "source": [
    "# write the data\n",
    "drug_features.to_csv(\"results/drug_features_pubchem.csv\")"
   ]
  },
  {
   "cell_type": "markdown",
   "metadata": {},
   "source": [
    "### Extracting properties from PubChem"
   ]
  },
  {
   "cell_type": "code",
   "execution_count": 20,
   "metadata": {},
   "outputs": [
    {
     "name": "stderr",
     "output_type": "stream",
     "text": [
      "100%|██████████| 265/265 [02:46<00:00,  1.59it/s]"
     ]
    },
    {
     "name": "stdout",
     "output_type": "stream",
     "text": [
      "CPU times: user 11.2 s, sys: 582 ms, total: 11.8 s\n",
      "Wall time: 2min 46s\n"
     ]
    },
    {
     "name": "stderr",
     "output_type": "stream",
     "text": [
      "\n"
     ]
    }
   ],
   "source": [
    "%%time\n",
    "for i, PubChem_id in tqdm(list(enumerate(drug_features[\"PubChem_ID\"].values))):\n",
    "# for PubChem_id in drug_features[\"PubChem_ID\"].values[:5]:\n",
    "    try:\n",
    "        drug_index = drug_features[drug_features[\"PubChem_ID\"]==PubChem_id].index\n",
    "        \n",
    "        c = Compound.from_cid(PubChem_id)\n",
    "        \n",
    "        drug_features.loc[drug_index, \"molecular_weight\"] = c.molecular_weight\n",
    "   \n",
    "        drug_features.loc[drug_index, \"elements\"] = str(set(c.elements)).strip(\"{\").strip(\"}\")\n",
    "        \n",
    "        bonds = [int(str(i).split(\",\")[-1].strip(\")\")) for i in c.bonds]\n",
    "        drug_features.loc[drug_index, \"2bonds\"] = bonds.count(2)\n",
    "        drug_features.loc[drug_index, \"3bonds\"] = bonds.count(3)\n",
    "\n",
    "        drug_features.loc[drug_index, \"xlogp\"] = c.xlogp\n",
    "        drug_features.loc[drug_index, \"formal_charge\"] = c.charge\n",
    "    \n",
    "        drug_features.loc[drug_index, \"surface_area\"] = c.tpsa\n",
    "\n",
    "        drug_features.loc[drug_index, \"complexity\"] = c.complexity\n",
    "\n",
    "        drug_features.loc[drug_index, \"complexity\"] = c.h_bond_donor_count\n",
    "\n",
    "        drug_features.loc[drug_index, \"h_bond_acceptor_count\"] = c.h_bond_acceptor_count\n",
    "\n",
    "        drug_features.loc[drug_index, \"rotatable_bond_count\"] = c.rotatable_bond_count\n",
    "\n",
    "        drug_features.loc[drug_index, \"heavy_atom_count\"] = c.heavy_atom_count\n",
    "\n",
    "        drug_features.loc[drug_index, \"atom_stereo_count\"] = c.atom_stereo_count\n",
    "\n",
    "        drug_features.loc[drug_index, \"defined_atom_stereo_count\"] = c.defined_atom_stereo_count\n",
    "\n",
    "        drug_features.loc[drug_index, \"undefined_atom_stereo_count\"] = c.undefined_atom_stereo_count\n",
    "\n",
    "        drug_features.loc[drug_index, \"bond_stereo_count\"] = c.bond_stereo_count\n",
    "\n",
    "        drug_features.loc[drug_index, \"covalent_unit_count\"] = c.covalent_unit_count\n",
    "        drug_features.loc[drug_index, \"molecular_formula\"] = c.molecular_formula\n",
    "\n",
    "        drug_features.loc[drug_index, \"canonical_smiles\"] = c.canonical_smiles\n",
    "\n",
    "        drug_features.loc[drug_index, \"inchi_string\"] = c.inchi\n",
    "\n",
    "        drug_features.loc[drug_index, \"inchi_key\"] = c.inchikey\n",
    "    except:\n",
    "        pass\n",
    "\n",
    "# # fingerprint\n",
    "# # Raw padded and hex-encoded fingerprint, as returned by the PUG REST API.\n",
    "\n",
    "# # cactvs_fingerprint\n",
    "# # PubChem CACTVS fingerprint.\n",
    "# # Each bit in the fingerprint represents the presence or absence of one of 881 chemical substructures.\n",
    "# # More information at ftp://ftp.ncbi.nlm.nih.gov/pubchem/specifications/pubchem_fingerprints.txt\n"
   ]
  },
  {
   "cell_type": "markdown",
   "metadata": {},
   "source": [
    "### Additional features from splitting columns in drug_features"
   ]
  },
  {
   "cell_type": "markdown",
   "metadata": {},
   "source": [
    "In this section, we are going to have some dumnies columns for Target and Target_Pathway\n",
    "As in Target column only several drugs have more than 3 values, only three dumny columns were created\n",
    "\n",
    "Converting of Target Pathway resulted in 29 new columns\n",
    "\n",
    "It is also worth considering elements columns and that deleting columns with C and H which are present in all the compounds\n"
   ]
  },
  {
   "cell_type": "code",
   "execution_count": 21,
   "metadata": {},
   "outputs": [],
   "source": [
    "drug_features[\"first_target\"] = drug_features[\"Target\"].str.split(\",\", expand=True).fillna(0)[0]\n",
    "drug_features[\"second_target\"] = drug_features[\"Target\"].str.split(\",\", expand=True).fillna(0)[1]\n",
    "drug_features[\"third_target\"] = drug_features[\"Target\"].str.split(\",\", expand=True).fillna(0)[2]"
   ]
  },
  {
   "cell_type": "markdown",
   "metadata": {},
   "source": [
    "#### dumnies columns for Target Pathway (29 values)"
   ]
  },
  {
   "cell_type": "code",
   "execution_count": 22,
   "metadata": {},
   "outputs": [
    {
     "data": {
      "text/plain": [
       "(265, 52)"
      ]
     },
     "execution_count": 22,
     "metadata": {},
     "output_type": "execute_result"
    }
   ],
   "source": [
    "drug_features = pd.concat([drug_features, pd.get_dummies(drug_features[\"Target_Pathway\"])], axis=1).drop(\"Target_Pathway\", axis=1)\n",
    "drug_features.shape"
   ]
  },
  {
   "cell_type": "code",
   "execution_count": 103,
   "metadata": {},
   "outputs": [
    {
     "data": {
      "text/plain": [
       "(265, 53)"
      ]
     },
     "execution_count": 103,
     "metadata": {},
     "output_type": "execute_result"
    }
   ],
   "source": [
    "drug_features = pd.read_csv(\"results/drug_features_with_properties.csv\")\n",
    "drug_features.shape"
   ]
  },
  {
   "cell_type": "code",
   "execution_count": 112,
   "metadata": {},
   "outputs": [
    {
     "name": "stdout",
     "output_type": "stream",
     "text": [
      "58\n",
      "72\n",
      "92\n",
      "98\n",
      "109\n",
      "116\n",
      "134\n",
      "135\n",
      "158\n",
      "159\n",
      "161\n",
      "199\n",
      "225\n",
      "226\n",
      "228\n",
      "229\n",
      "231\n",
      "237\n",
      "248\n",
      "257\n",
      "CPU times: user 1.38 s, sys: 77.5 ms, total: 1.46 s\n",
      "Wall time: 1.41 s\n"
     ]
    }
   ],
   "source": [
    "%%time\n",
    "for drug_index in drug_features.index:\n",
    "    compound_elements = drug_features.loc[drug_index, \"elements\"]\n",
    "    try:\n",
    "        for i, atom in list(enumerate(elements_in_drugs)):\n",
    "            if all_elements[i] in compound_elements:\n",
    "                drug_features.loc[drug_index, atom] = 1\n",
    "            else:\n",
    "                drug_features.loc[drug_index, atom] = 0\n",
    "    except:\n",
    "        print(drug_index)\n",
    "        drug_features.loc[drug_index, atom] = 0"
   ]
  },
  {
   "cell_type": "code",
   "execution_count": 41,
   "metadata": {},
   "outputs": [],
   "source": [
    "drug_features.drop(\"Unnamed: 0\", axis=1).to_csv(\"results/drug_features_with_properties2.csv\")"
   ]
  }
 ],
 "metadata": {
  "kernelspec": {
   "display_name": "myspark",
   "language": "python",
   "name": "myspark"
  },
  "language_info": {
   "codemirror_mode": {
    "name": "ipython",
    "version": 3
   },
   "file_extension": ".py",
   "mimetype": "text/x-python",
   "name": "python",
   "nbconvert_exporter": "python",
   "pygments_lexer": "ipython3",
   "version": "3.6.10"
  }
 },
 "nbformat": 4,
 "nbformat_minor": 2
}
