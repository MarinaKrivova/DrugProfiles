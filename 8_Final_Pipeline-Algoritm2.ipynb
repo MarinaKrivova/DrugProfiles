{
 "cells": [
  {
   "cell_type": "markdown",
   "metadata": {},
   "source": [
    "## Pipeline for Data preprocessing and modelling"
   ]
  },
  {
   "cell_type": "code",
   "execution_count": 1,
   "metadata": {},
   "outputs": [],
   "source": [
    "fitting_functions = [\"sigmoid_4_param\", \"logistic4\", \"logLogistR\"]\n",
    "filtering_scenarios = [[1,2,3],[1,2,3,4]]\n",
    "r2_restrictions = [None, 0, 0.9]"
   ]
  },
  {
   "cell_type": "code",
   "execution_count": 2,
   "metadata": {},
   "outputs": [],
   "source": [
    "import pandas as pd\n",
    "import numpy as np\n",
    "import os\n",
    "import gc\n",
    "\n",
    "import pickle\n",
    "import matplotlib.pyplot as plt\n",
    "%matplotlib inline\n",
    "\n",
    "_FOLDER = \"data/\"\n",
    "_FOLDER_2 = \"results/\""
   ]
  },
  {
   "cell_type": "code",
   "execution_count": 3,
   "metadata": {},
   "outputs": [],
   "source": [
    "# all functions are stored in all_functions.py\n",
    "\n",
    "from all_functions import DataPreprocessing, TrainTestSplit, r2_score_fitting, mae_score_reconstruct\n",
    "from training_testing import TrainTest_Alg1, TrainTest_Alg2, ShowErrors"
   ]
  },
  {
   "cell_type": "code",
   "execution_count": 4,
   "metadata": {},
   "outputs": [],
   "source": [
    "with open(_FOLDER_2+\"X_features_cancer_cell_lines.txt\", 'r') as f:\n",
    "    X_cancer_cell_lines = [line.rstrip('\\n') for line in f]\n",
    "# *****************************************\n",
    "\n",
    "with open(_FOLDER_2+\"X_PubChem_properties.txt\", 'r') as f:\n",
    "    X_PubChem_properties = [line.rstrip('\\n') for line in f]\n",
    "# *****************************************\n",
    "\n",
    "with open(_FOLDER_2+\"X_features_Targets.txt\", 'r') as f:\n",
    "    X_targets = [line.rstrip('\\n') for line in f]\n",
    "# *****************************************\n",
    "\n",
    "with open(_FOLDER_2+\"X_features_Target_Pathway.txt\", 'r') as f:\n",
    "    X_target_pathway = [line.rstrip('\\n') for line in f]\n",
    "# *****************************************\n",
    "\n",
    "X_columns = [\"MAX_CONC\"] + X_PubChem_properties +  X_targets + X_target_pathway + X_cancer_cell_lines\n"
   ]
  },
  {
   "cell_type": "code",
   "execution_count": 5,
   "metadata": {},
   "outputs": [],
   "source": [
    "def CompareDataPreprocessing_Alg2(train_df, test_df, drug_ids_list, fitting_function=\"sigmoid_4_param\",\n",
    "                                  X_columns = X_columns, n_param=4):\n",
    "    i=1\n",
    "    target = \"param_\"+str(i)\n",
    "    \n",
    "    #RBF SVR\n",
    "    print(\"Coefficient \", i)\n",
    "    model = \"SVR\"\n",
    "\n",
    "    parameters = {\"kernel\" :\"rbf\",\n",
    "              \"C\" : 0.5,\n",
    "              \"epsilon\" : 0.01,\n",
    "              \"coef0\" : 0.01}\n",
    "\n",
    "    mae, mre, y_pred, train_shape, test_shape = TrainTest_Alg2(train_df, test_df, target, drug_ids_list, \n",
    "                                X_columns = X_columns, model_name = model, model_parameters = parameters)\n",
    "\n",
    "    i=2\n",
    "    target = \"param_\"+str(i)\n",
    "\n",
    "    #RBF SVR\n",
    "    print(\"Coefficient \", i)\n",
    "\n",
    "    model = \"SVR\"\n",
    "\n",
    "    parameters = {\"kernel\" :\"rbf\",\n",
    "              \"C\" : 0.1,\n",
    "              \"epsilon\" : 0.01,\n",
    "              \"coef0\" : 0.01}\n",
    "\n",
    "    mae, mre, y_pred, train_shape, test_shape = TrainTest_Alg2(train_df, test_df, target, drug_ids_list, \n",
    "                                X_columns = X_columns, model_name = model, model_parameters = parameters)\n",
    "\n",
    "    i=3\n",
    "    target = \"param_\"+str(i)\n",
    "\n",
    "    #RBF SVR\n",
    "    print(\"Coefficient \", i)\n",
    "\n",
    "    model = \"SVR\"\n",
    "\n",
    "    parameters = {\"kernel\" :\"linear\",\n",
    "              \"C\" : 0.1,\n",
    "              \"epsilon\" : 1}\n",
    "\n",
    "    mae, mre, y_pred, train_shape, test_shape = TrainTest_Alg2(train_df, test_df, target, drug_ids_list, \n",
    "                                X_columns = X_columns, model_name = model, model_parameters = parameters)\n",
    "\n",
    "    if n_param ==4:\n",
    "        i=4\n",
    "        target = \"param_\"+str(i)\n",
    "\n",
    "        #RBF SVR\n",
    "        print(\"Coefficient \", i)\n",
    "\n",
    "        model = \"SVR\"\n",
    "\n",
    "        parameters = {\"kernel\" :\"rbf\",\n",
    "              \"C\" : 0.1,\n",
    "              \"epsilon\" : 0.001, \n",
    "             \"coef0\" : 0.01}\n",
    "\n",
    "        mae, mre, y_pred, train_shape, test_shape = TrainTest_Alg2(train_df, test_df, target, drug_ids_list, \n",
    "                                X_columns = X_columns, model_name = model, model_parameters = parameters)\n",
    "    \n",
    "    print(\"\\n****************************************\")\n",
    "    print(\"Reconstruction of Drug Response curves:\\n\")\n",
    "\n",
    "    conc_columns= [\"fd_num_\"+str(i) for i in range(10)]\n",
    "    response_norm = ['norm_cells_'+str(i) for i in range(10)]\n",
    "\n",
    "    r2_fitting_predicted = r2_score_fitting(df = test_df, x_columns= conc_columns,y_columns=response_norm,\n",
    "                              fitting_function = fitting_function, param_columns = [\"pred_param_\"+str(i)for i in range(1,n_param+1)])\n",
    "\n",
    "    r2_direct_fitting = r2_score_fitting(df = test_df, x_columns= conc_columns,y_columns=response_norm,\n",
    "                              fitting_function = fitting_function, param_columns = [\"param_\"+str(i)for i in range(1,n_param+1)])\n",
    "\n",
    "    mae_reconstruct = mae_score_reconstruct(df = test_df, x_columns= conc_columns, fitting_function = fitting_function,\n",
    "                                        y_columns=response_norm, param_columns = [\"pred_param_\"+str(i)for i in range(1,n_param+1)])\n",
    "    \n",
    "    return r2_fitting_predicted, r2_direct_fitting, mae_reconstruct"
   ]
  },
  {
   "cell_type": "markdown",
   "metadata": {},
   "source": [
    "## ML training"
   ]
  },
  {
   "cell_type": "code",
   "execution_count": 6,
   "metadata": {},
   "outputs": [
    {
     "name": "stdout",
     "output_type": "stream",
     "text": [
      "Filtering [1,2,3], no restriction r2, sigmoid_4_param / previous parameters\n"
     ]
    },
    {
     "name": "stderr",
     "output_type": "stream",
     "text": [
      "100%|██████████| 2776/2776 [00:09<00:00, 279.14it/s]\n"
     ]
    },
    {
     "name": "stdout",
     "output_type": "stream",
     "text": [
      "Coefficient  1\n",
      "\n",
      "MAE: 0.464 +/- 0.835\n",
      "MRE: 25.6 +/- 9.9\n",
      "\n",
      "(781, 1370) (202, 1371)\n",
      "Coefficient  2\n",
      "\n",
      "MAE: 0.469 +/- 0.944\n",
      "MRE: 8.3 +/- 19.4\n",
      "\n",
      "(781, 1370) (202, 1372)\n",
      "Coefficient  3\n",
      "\n",
      "MAE: 9.008 +/- 5.635\n",
      "MRE: -43.2 +/- 12.8\n",
      "\n",
      "(781, 1370) (202, 1373)\n",
      "Coefficient  4\n",
      "\n",
      "MAE: 0.125 +/- 0.137\n",
      "MRE: 93.1 +/- 132.9\n",
      "\n",
      "(781, 1370) (202, 1374)\n",
      "\n",
      "****************************************\n",
      "Reconstruction of Drug Response curves:\n",
      "\n",
      "Filtering [1,2,3], no restriction r2, sigmoid_4_param / previous parameters\n",
      "\n",
      "MAE for reconstructed points: 0.105\n",
      "R2 for direct fitting: 0.957\n",
      "R2 with predicted parameters: 0.757\n"
     ]
    }
   ],
   "source": [
    "ml_scenario = \"Filtering [1,2,3], no restriction r2, sigmoid_4_param / previous parameters\"\n",
    "\n",
    "print(ml_scenario)\n",
    "df= DataPreprocessing(folder_with_original_data= _FOLDER, folder_with_results =_FOLDER_2, \n",
    "                      filtering_scenario = [1,2,3],\n",
    "                      first_points_lower_limit = 0.8, last_points_upper_limit = 0.4,\n",
    "                      middle_points_limit =-0.1,\n",
    "                     fitting_function = \"sigmoid_4_param\", \n",
    "                      keep_r2_column = True,\n",
    "                     print_progress_info = False)\n",
    "\n",
    "drug_ids_limit, train_df_limit, test_df_limit = TrainTestSplit(df, min_number_drug_profiles =50, train_ratio= 0.8, \n",
    "                                                               r2_restriction = 0, print_progress_info = False)\n",
    "\n",
    "r2_fitting_predicted, r2_direct_fitting, mae_reconstruct = CompareDataPreprocessing_Alg2(train_df_limit, test_df_limit, \n",
    "                                                        drug_ids_list =drug_ids_limit, X_columns = X_columns)\n",
    "print(ml_scenario)\n",
    "\n",
    "print(\"\\nMAE for reconstructed points: %0.3f\"% mae_reconstruct.mean())\n",
    "print(\"R2 for direct fitting: %0.3f\"% r2_direct_fitting.mean())\n",
    "print(\"R2 with predicted parameters: %0.3f\"% r2_fitting_predicted.mean())"
   ]
  },
  {
   "cell_type": "code",
   "execution_count": 7,
   "metadata": {},
   "outputs": [
    {
     "name": "stdout",
     "output_type": "stream",
     "text": [
      "Filtering [1,2,3,4], no restriction r2, sigmoid_4_param / previous parameters\n"
     ]
    },
    {
     "name": "stderr",
     "output_type": "stream",
     "text": [
      "100%|██████████| 2600/2600 [00:08<00:00, 309.11it/s]\n"
     ]
    },
    {
     "name": "stdout",
     "output_type": "stream",
     "text": [
      "Coefficient  1\n",
      "\n",
      "MAE: 0.443 +/- 0.801\n",
      "MRE: 24.5 +/- 11.6\n",
      "\n",
      "(703, 1370) (180, 1371)\n",
      "Coefficient  2\n",
      "\n",
      "MAE: 0.432 +/- 0.773\n",
      "MRE: 3.0 +/- 11.6\n",
      "\n",
      "(703, 1370) (180, 1372)\n",
      "Coefficient  3\n",
      "\n",
      "MAE: 6.011 +/- 3.291\n",
      "MRE: -35.7 +/- 8.1\n",
      "\n",
      "(703, 1370) (180, 1373)\n",
      "Coefficient  4\n",
      "\n",
      "MAE: 0.074 +/- 0.043\n",
      "MRE: 265.7 +/- 825.4\n",
      "\n",
      "(703, 1370) (180, 1374)\n",
      "\n",
      "****************************************\n",
      "Reconstruction of Drug Response curves:\n",
      "\n",
      "Filtering [1,2,3,4], no restriction r2, sigmoid_4_param / previous parameters\n",
      "\n",
      "MAE for reconstructed points: 0.104\n",
      "R2 for direct fitting: 0.966\n",
      "R2 with predicted parameters: 0.753\n"
     ]
    }
   ],
   "source": [
    "ml_scenario = \"Filtering [1,2,3,4], no restriction r2, sigmoid_4_param / previous parameters\"\n",
    "\n",
    "print(ml_scenario)\n",
    "df= DataPreprocessing(folder_with_original_data= _FOLDER, folder_with_results =_FOLDER_2, \n",
    "                      filtering_scenario = [1,2,3,4],\n",
    "                      first_points_lower_limit = 0.8, last_points_upper_limit = 0.4,\n",
    "                      middle_points_limit =-0.1,\n",
    "                     fitting_function = \"sigmoid_4_param\", \n",
    "                      keep_r2_column = True,\n",
    "                     print_progress_info = False)\n",
    "\n",
    "drug_ids_limit, train_df_limit, test_df_limit = TrainTestSplit(df, min_number_drug_profiles =50, train_ratio= 0.8, \n",
    "                                                               r2_restriction = 0, print_progress_info = False)\n",
    "\n",
    "r2_fitting_predicted, r2_direct_fitting, mae_reconstruct = CompareDataPreprocessing_Alg2(train_df_limit, test_df_limit, \n",
    "                                                        drug_ids_list =drug_ids_limit, X_columns = X_columns)\n",
    "print(ml_scenario)\n",
    "\n",
    "print(\"\\nMAE for reconstructed points: %0.3f\"% mae_reconstruct.mean())\n",
    "print(\"R2 for direct fitting: %0.3f\"% r2_direct_fitting.mean())\n",
    "print(\"R2 with predicted parameters: %0.3f\"% r2_fitting_predicted.mean())"
   ]
  },
  {
   "cell_type": "code",
   "execution_count": 8,
   "metadata": {},
   "outputs": [
    {
     "name": "stdout",
     "output_type": "stream",
     "text": [
      "Filtering [1,2,3,4], no restriction r2, logistic4 / previous parameters\n"
     ]
    },
    {
     "name": "stderr",
     "output_type": "stream",
     "text": [
      "100%|██████████| 2600/2600 [00:13<00:00, 192.99it/s]\n"
     ]
    },
    {
     "name": "stdout",
     "output_type": "stream",
     "text": [
      "Coefficient  1\n",
      "\n",
      "MAE: 0.015 +/- 0.003\n",
      "MRE: 1.6 +/- 0.3\n",
      "\n",
      "(705, 1370) (180, 1371)\n",
      "Coefficient  2\n",
      "\n",
      "MAE: 5.192 +/- 2.757\n",
      "MRE: 45.5 +/- 6.7\n",
      "\n",
      "(705, 1370) (180, 1372)\n",
      "Coefficient  3\n",
      "\n",
      "MAE: 0.662 +/- 0.072\n",
      "MRE: 170.4 +/- 42.9\n",
      "\n",
      "(705, 1370) (180, 1373)\n",
      "Coefficient  4\n",
      "\n",
      "MAE: 0.084 +/- 0.05\n",
      "MRE: 3881.0 +/- 11656.2\n",
      "\n",
      "(705, 1370) (180, 1374)\n",
      "\n",
      "****************************************\n",
      "Reconstruction of Drug Response curves:\n",
      "\n",
      "Filtering [1,2,3,4], no restriction r2, logistic4 / previous parameters\n",
      "\n",
      "MAE for reconstructed points: 0.409\n",
      "R2 for direct fitting: 0.994\n",
      "R2 with predicted parameters: -0.929\n"
     ]
    }
   ],
   "source": [
    "ml_scenario = \"Filtering [1,2,3,4], no restriction r2, logistic4 / previous parameters\"\n",
    "fitting_function = \"logistic4\"\n",
    "print(ml_scenario)\n",
    "df= DataPreprocessing(folder_with_original_data= _FOLDER, folder_with_results =_FOLDER_2, \n",
    "                      filtering_scenario = [1,2,3,4],\n",
    "                      first_points_lower_limit = 0.8, last_points_upper_limit = 0.4,\n",
    "                      middle_points_limit =-0.1,\n",
    "                     fitting_function = \"logistic4\", \n",
    "                      keep_r2_column = True,\n",
    "                     print_progress_info = False)\n",
    "\n",
    "drug_ids_limit, train_df_limit, test_df_limit = TrainTestSplit(df, min_number_drug_profiles =50, train_ratio= 0.8, \n",
    "                                                               r2_restriction = 0, print_progress_info = False)\n",
    "\n",
    "r2_fitting_predicted, r2_direct_fitting, mae_reconstruct = CompareDataPreprocessing_Alg2(train_df_limit, test_df_limit, \n",
    "                                            fitting_function = fitting_function, drug_ids_list =drug_ids_limit, X_columns = X_columns)\n",
    "print(ml_scenario)\n",
    "\n",
    "print(\"\\nMAE for reconstructed points: %0.3f\"% mae_reconstruct.mean())\n",
    "print(\"R2 for direct fitting: %0.3f\"% r2_direct_fitting.mean())\n",
    "print(\"R2 with predicted parameters: %0.3f\"% r2_fitting_predicted.mean())"
   ]
  },
  {
   "cell_type": "code",
   "execution_count": 9,
   "metadata": {},
   "outputs": [
    {
     "name": "stdout",
     "output_type": "stream",
     "text": [
      "Filtering [1,2,3,4], no restriction r2, logLogistR / previous parameters\n"
     ]
    },
    {
     "name": "stderr",
     "output_type": "stream",
     "text": [
      "100%|██████████| 2600/2600 [00:18<00:00, 141.05it/s]\n"
     ]
    },
    {
     "name": "stdout",
     "output_type": "stream",
     "text": [
      "Coefficient  1\n",
      "\n",
      "MAE: 0.091 +/- 0.034\n",
      "MRE: -29.1 +/- 12.1\n",
      "\n",
      "(705, 1369) (180, 1370)\n",
      "Coefficient  2\n",
      "\n",
      "MAE: 2.333 +/- 1.181\n",
      "MRE: -35.1 +/- 7.0\n",
      "\n",
      "(705, 1369) (180, 1371)\n",
      "Coefficient  3\n",
      "\n",
      "MAE: 0.132 +/- 0.025\n",
      "MRE: -74.3 +/- 1209.0\n",
      "\n",
      "(705, 1369) (180, 1372)\n",
      "\n",
      "****************************************\n",
      "Reconstruction of Drug Response curves:\n",
      "\n",
      "Filtering [1,2,3,4], no restriction r2, logLogistR / previous parameters\n",
      "\n",
      "MAE for reconstructed points: 0.123\n",
      "R2 for direct fitting: 0.994\n",
      "R2 with predicted parameters: 0.779\n"
     ]
    }
   ],
   "source": [
    "ml_scenario = \"Filtering [1,2,3,4], no restriction r2, logLogistR / previous parameters\"\n",
    "fitting_function = \"logLogistR\"\n",
    "print(ml_scenario)\n",
    "df= DataPreprocessing(folder_with_original_data= _FOLDER, folder_with_results =_FOLDER_2, \n",
    "                      filtering_scenario = [1,2,3,4],\n",
    "                      first_points_lower_limit = 0.8, last_points_upper_limit = 0.4,\n",
    "                      middle_points_limit =-0.1,\n",
    "                     fitting_function = \"logLogistR\", \n",
    "                      keep_r2_column = True,\n",
    "                     print_progress_info = False)\n",
    "\n",
    "drug_ids_limit, train_df_limit, test_df_limit = TrainTestSplit(df, min_number_drug_profiles =50, train_ratio= 0.8, \n",
    "                                                               r2_restriction = 0, print_progress_info = False)\n",
    "\n",
    "r2_fitting_predicted, r2_direct_fitting, mae_reconstruct = CompareDataPreprocessing_Alg2(train_df_limit, test_df_limit, \n",
    "                                      fitting_function=fitting_function, drug_ids_list =drug_ids_limit, X_columns = X_columns,\n",
    "                                                                                        n_param=3)\n",
    "print(ml_scenario)\n",
    "\n",
    "print(\"\\nMAE for reconstructed points: %0.3f\"% mae_reconstruct.mean())\n",
    "print(\"R2 for direct fitting: %0.3f\"% r2_direct_fitting.mean())\n",
    "print(\"R2 with predicted parameters: %0.3f\"% r2_fitting_predicted.mean())"
   ]
  },
  {
   "cell_type": "code",
   "execution_count": null,
   "metadata": {},
   "outputs": [],
   "source": []
  }
 ],
 "metadata": {
  "kernelspec": {
   "display_name": "Python 3",
   "language": "python",
   "name": "python3"
  },
  "language_info": {
   "codemirror_mode": {
    "name": "ipython",
    "version": 3
   },
   "file_extension": ".py",
   "mimetype": "text/x-python",
   "name": "python",
   "nbconvert_exporter": "python",
   "pygments_lexer": "ipython3",
   "version": "3.6.10"
  }
 },
 "nbformat": 4,
 "nbformat_minor": 2
}
