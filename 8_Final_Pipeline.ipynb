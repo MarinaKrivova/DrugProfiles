{
 "cells": [
  {
   "cell_type": "markdown",
   "metadata": {},
   "source": [
    "## Pipeline for Data preprocessing and modelling"
   ]
  },
  {
   "cell_type": "code",
   "execution_count": 1,
   "metadata": {},
   "outputs": [],
   "source": [
    "import pandas as pd\n",
    "import numpy as np\n",
    "import os\n",
    "import gc\n",
    "\n",
    "import pickle\n",
    "import matplotlib.pyplot as plt\n",
    "%matplotlib inline\n",
    "\n",
    "_FOLDER = \"data/\"\n",
    "_FOLDER_2 = \"results/\""
   ]
  },
  {
   "cell_type": "code",
   "execution_count": 2,
   "metadata": {},
   "outputs": [],
   "source": [
    "# all functions are stored in all_functions.py\n",
    "\n",
    "from all_functions import DataPreprocessing, TrainTestSplit, r2_score_fitting, mae_score_reconstruct\n",
    "from training_testing import TrainTest_KR_Alg1, TrainTest_SVR_Alg1, ShowErrors, CompareTrainingScenarios, CompareTrainingScenariosModels"
   ]
  },
  {
   "cell_type": "code",
   "execution_count": 3,
   "metadata": {},
   "outputs": [],
   "source": [
    "with open(_FOLDER_2+\"X_features_cancer_cell_lines.txt\", 'r') as f:\n",
    "    X_cancer_cell_lines = [line.rstrip('\\n') for line in f]\n",
    "# *****************************************\n",
    "\n",
    "with open(_FOLDER_2+\"X_PubChem_properties.txt\", 'r') as f:\n",
    "    X_PubChem_properties = [line.rstrip('\\n') for line in f]\n",
    "# *****************************************\n",
    "\n",
    "with open(_FOLDER_2+\"X_features_Targets.txt\", 'r') as f:\n",
    "    X_targets = [line.rstrip('\\n') for line in f]\n",
    "# *****************************************\n",
    "\n",
    "with open(_FOLDER_2+\"X_features_Target_Pathway.txt\", 'r') as f:\n",
    "    X_target_pathway = [line.rstrip('\\n') for line in f]\n",
    "# *****************************************\n",
    "\n",
    "X_columns = [\"MAX_CONC\"] + X_PubChem_properties +  X_targets + X_target_pathway + X_cancer_cell_lines"
   ]
  },
  {
   "cell_type": "markdown",
   "metadata": {},
   "source": [
    "## ML training"
   ]
  },
  {
   "cell_type": "markdown",
   "metadata": {},
   "source": [
    "## Best parameters Algoritm_1 (drug-by-drug)"
   ]
  },
  {
   "cell_type": "code",
   "execution_count": 4,
   "metadata": {},
   "outputs": [],
   "source": [
    "models_dict = {}\n",
    "models_dict[\"Poly_KR\"]={}\n",
    "models_dict[\"Poly_KR\"][\"hyperparameters\"] = pd.read_csv(_FOLDER_2+\"hyperparameters_coef1_alg1.csv\").set_index(\"DRUG_ID\")\n",
    "models_dict[\"Poly_KR\"][\"kernel\"]= \"polynomial\"\n",
    "models_dict[\"Poly_KR\"]['model_type']= \"KR_alg1\"\n",
    "\n",
    "models_dict[\"RBF_SVR\"]={}\n",
    "models_dict[\"RBF_SVR\"][\"hyperparameters\"] = pd.read_csv(_FOLDER_2+\"hyperparameters_coef2_alg1.csv\").set_index(\"DRUG_ID\")\n",
    "models_dict[\"RBF_SVR\"][\"kernel\"]= \"rbf\"\n",
    "models_dict[\"RBF_SVR\"]['model_type']= \"SVR_alg1\"\n",
    "\n",
    "models_dict[\"Linear_SVR\"]={}\n",
    "models_dict[\"Linear_SVR\"][\"hyperparameters\"] = pd.read_csv(_FOLDER_2+\"hyperparameters_coef3_alg1.csv\").set_index(\"DRUG_ID\")\n",
    "models_dict[\"Linear_SVR\"][\"kernel\"]= \"linear\"\n",
    "models_dict[\"Linear_SVR\"]['model_type']= \"SVR_alg1\"\n",
    "\n",
    "models_dict[\"Poly_KR\"]={}\n",
    "models_dict[\"Poly_KR\"][\"hyperparameters\"] = pd.read_csv(_FOLDER_2+\"hyperparameters_coef4_alg1.csv\").set_index(\"DRUG_ID\")\n",
    "models_dict[\"Poly_KR\"][\"kernel\"]= \"rbf\"\n",
    "models_dict[\"Poly_KR\"]['model_type']= \"KR_alg1\""
   ]
  },
  {
   "cell_type": "code",
   "execution_count": 5,
   "metadata": {},
   "outputs": [
    {
     "name": "stderr",
     "output_type": "stream",
     "text": [
      "100%|██████████| 2776/2776 [00:09<00:00, 290.93it/s]\n"
     ]
    },
    {
     "name": "stdout",
     "output_type": "stream",
     "text": [
      "sigmoid_4_param Filtering [1, 2, 3], r2>None, Poly_KR\n",
      "\n",
      "MAE: 0.569 +/- 0.86\n",
      "MRE: 51.2 +/- 44.5\n",
      "\n",
      "(781, 1370) (202, 1370)\n"
     ]
    },
    {
     "name": "stderr",
     "output_type": "stream",
     "text": [
      "100%|██████████| 2776/2776 [00:09<00:00, 305.31it/s]\n"
     ]
    },
    {
     "name": "stdout",
     "output_type": "stream",
     "text": [
      "sigmoid_4_param Filtering [1, 2, 3], r2>0, Poly_KR\n",
      "\n",
      "MAE: 0.569 +/- 0.86\n",
      "MRE: 51.2 +/- 44.5\n",
      "\n",
      "(781, 1370) (202, 1370)\n"
     ]
    },
    {
     "name": "stderr",
     "output_type": "stream",
     "text": [
      "100%|██████████| 2776/2776 [00:07<00:00, 363.42it/s]\n"
     ]
    },
    {
     "name": "stdout",
     "output_type": "stream",
     "text": [
      "sigmoid_4_param Filtering [1, 2, 3], r2>0.9, Poly_KR\n",
      "\n",
      "MAE: 0.134 +/- 0.081\n",
      "MRE: 28.4 +/- 13.6\n",
      "\n",
      "(723, 1370) (185, 1370)\n"
     ]
    },
    {
     "name": "stderr",
     "output_type": "stream",
     "text": [
      "100%|██████████| 2600/2600 [00:06<00:00, 380.51it/s]\n"
     ]
    },
    {
     "name": "stdout",
     "output_type": "stream",
     "text": [
      "sigmoid_4_param Filtering [1, 2, 3, 4], r2>None, Poly_KR\n",
      "\n",
      "MAE: 0.532 +/- 0.837\n",
      "MRE: 50.5 +/- 50.2\n",
      "\n",
      "(703, 1370) (180, 1370)\n"
     ]
    },
    {
     "name": "stderr",
     "output_type": "stream",
     "text": [
      "100%|██████████| 2600/2600 [00:06<00:00, 385.62it/s]\n"
     ]
    },
    {
     "name": "stdout",
     "output_type": "stream",
     "text": [
      "sigmoid_4_param Filtering [1, 2, 3, 4], r2>0, Poly_KR\n",
      "\n",
      "MAE: 0.532 +/- 0.837\n",
      "MRE: 50.5 +/- 50.2\n",
      "\n",
      "(703, 1370) (180, 1370)\n"
     ]
    },
    {
     "name": "stderr",
     "output_type": "stream",
     "text": [
      "100%|██████████| 2600/2600 [00:07<00:00, 334.95it/s]\n"
     ]
    },
    {
     "name": "stdout",
     "output_type": "stream",
     "text": [
      "sigmoid_4_param Filtering [1, 2, 3, 4], r2>0.9, Poly_KR\n",
      "\n",
      "MAE: 0.157 +/- 0.088\n",
      "MRE: 31.0 +/- 13.6\n",
      "\n",
      "(691, 1370) (177, 1370)\n"
     ]
    },
    {
     "name": "stderr",
     "output_type": "stream",
     "text": [
      "100%|██████████| 2776/2776 [00:07<00:00, 354.19it/s]\n"
     ]
    },
    {
     "name": "stdout",
     "output_type": "stream",
     "text": [
      "sigmoid_4_param Filtering [1, 2, 3], r2>None, RBF_SVR\n",
      "\n",
      "MAE: 0.462 +/- 0.84\n",
      "MRE: 25.2 +/- 8.9\n",
      "\n",
      "(781, 1370) (202, 1370)\n"
     ]
    },
    {
     "name": "stderr",
     "output_type": "stream",
     "text": [
      "100%|██████████| 2776/2776 [00:09<00:00, 297.69it/s]\n"
     ]
    },
    {
     "name": "stdout",
     "output_type": "stream",
     "text": [
      "sigmoid_4_param Filtering [1, 2, 3], r2>0, RBF_SVR\n",
      "\n",
      "MAE: 0.462 +/- 0.84\n",
      "MRE: 25.2 +/- 8.9\n",
      "\n",
      "(781, 1370) (202, 1370)\n"
     ]
    },
    {
     "name": "stderr",
     "output_type": "stream",
     "text": [
      "100%|██████████| 2776/2776 [00:11<00:00, 247.85it/s]\n"
     ]
    },
    {
     "name": "stdout",
     "output_type": "stream",
     "text": [
      "sigmoid_4_param Filtering [1, 2, 3], r2>0.9, RBF_SVR\n",
      "\n",
      "MAE: 0.081 +/- 0.019\n",
      "MRE: 20.3 +/- 4.3\n",
      "\n",
      "(723, 1370) (185, 1370)\n"
     ]
    },
    {
     "name": "stderr",
     "output_type": "stream",
     "text": [
      "100%|██████████| 2600/2600 [00:10<00:00, 257.14it/s]\n"
     ]
    },
    {
     "name": "stdout",
     "output_type": "stream",
     "text": [
      "sigmoid_4_param Filtering [1, 2, 3, 4], r2>None, RBF_SVR\n",
      "\n",
      "MAE: 0.443 +/- 0.8\n",
      "MRE: 23.9 +/- 9.4\n",
      "\n",
      "(703, 1370) (180, 1370)\n"
     ]
    },
    {
     "name": "stderr",
     "output_type": "stream",
     "text": [
      "100%|██████████| 2600/2600 [00:06<00:00, 407.45it/s]\n"
     ]
    },
    {
     "name": "stdout",
     "output_type": "stream",
     "text": [
      "sigmoid_4_param Filtering [1, 2, 3, 4], r2>0, RBF_SVR\n",
      "\n",
      "MAE: 0.443 +/- 0.8\n",
      "MRE: 23.9 +/- 9.4\n",
      "\n",
      "(703, 1370) (180, 1370)\n"
     ]
    },
    {
     "name": "stderr",
     "output_type": "stream",
     "text": [
      "100%|██████████| 2600/2600 [00:06<00:00, 411.83it/s]\n"
     ]
    },
    {
     "name": "stdout",
     "output_type": "stream",
     "text": [
      "sigmoid_4_param Filtering [1, 2, 3, 4], r2>0.9, RBF_SVR\n",
      "\n",
      "MAE: 0.095 +/- 0.02\n",
      "MRE: 22.0 +/- 4.7\n",
      "\n",
      "(691, 1370) (177, 1370)\n"
     ]
    },
    {
     "name": "stderr",
     "output_type": "stream",
     "text": [
      "100%|██████████| 2776/2776 [00:06<00:00, 404.54it/s]\n"
     ]
    },
    {
     "name": "stdout",
     "output_type": "stream",
     "text": [
      "sigmoid_4_param Filtering [1, 2, 3], r2>None, Linear_SVR\n",
      "\n",
      "MAE: 1.231 +/- 1.601\n",
      "MRE: 256.3 +/- 373.0\n",
      "\n",
      "(781, 1370) (202, 1370)\n"
     ]
    },
    {
     "name": "stderr",
     "output_type": "stream",
     "text": [
      "100%|██████████| 2776/2776 [00:08<00:00, 339.60it/s]\n"
     ]
    },
    {
     "name": "stdout",
     "output_type": "stream",
     "text": [
      "sigmoid_4_param Filtering [1, 2, 3], r2>0, Linear_SVR\n",
      "\n",
      "MAE: 1.231 +/- 1.601\n",
      "MRE: 256.3 +/- 373.0\n",
      "\n",
      "(781, 1370) (202, 1370)\n"
     ]
    },
    {
     "name": "stderr",
     "output_type": "stream",
     "text": [
      "100%|██████████| 2776/2776 [00:08<00:00, 325.93it/s]\n"
     ]
    },
    {
     "name": "stdout",
     "output_type": "stream",
     "text": [
      "sigmoid_4_param Filtering [1, 2, 3], r2>0.9, Linear_SVR\n",
      "\n",
      "MAE: 0.092 +/- 0.02\n",
      "MRE: 24.5 +/- 7.9\n",
      "\n",
      "(723, 1370) (185, 1370)\n"
     ]
    },
    {
     "name": "stderr",
     "output_type": "stream",
     "text": [
      "100%|██████████| 2600/2600 [00:07<00:00, 329.83it/s]\n"
     ]
    },
    {
     "name": "stdout",
     "output_type": "stream",
     "text": [
      "sigmoid_4_param Filtering [1, 2, 3, 4], r2>None, Linear_SVR\n",
      "\n",
      "MAE: 1.234 +/- 1.684\n",
      "MRE: 273.7 +/- 398.4\n",
      "\n",
      "(703, 1370) (180, 1370)\n"
     ]
    },
    {
     "name": "stderr",
     "output_type": "stream",
     "text": [
      "100%|██████████| 2600/2600 [00:06<00:00, 374.25it/s]\n"
     ]
    },
    {
     "name": "stdout",
     "output_type": "stream",
     "text": [
      "sigmoid_4_param Filtering [1, 2, 3, 4], r2>0, Linear_SVR\n",
      "\n",
      "MAE: 1.234 +/- 1.684\n",
      "MRE: 273.7 +/- 398.4\n",
      "\n",
      "(703, 1370) (180, 1370)\n"
     ]
    },
    {
     "name": "stderr",
     "output_type": "stream",
     "text": [
      "100%|██████████| 2600/2600 [00:08<00:00, 324.90it/s]\n"
     ]
    },
    {
     "name": "stdout",
     "output_type": "stream",
     "text": [
      "sigmoid_4_param Filtering [1, 2, 3, 4], r2>0.9, Linear_SVR\n",
      "\n",
      "MAE: 0.101 +/- 0.019\n",
      "MRE: 25.0 +/- 6.9\n",
      "\n",
      "(691, 1370) (177, 1370)\n",
      "\n",
      " sigmoid_4_param\n"
     ]
    },
    {
     "data": {
      "text/html": [
       "<div>\n",
       "<style scoped>\n",
       "    .dataframe tbody tr th:only-of-type {\n",
       "        vertical-align: middle;\n",
       "    }\n",
       "\n",
       "    .dataframe tbody tr th {\n",
       "        vertical-align: top;\n",
       "    }\n",
       "\n",
       "    .dataframe thead th {\n",
       "        text-align: right;\n",
       "    }\n",
       "</style>\n",
       "<table border=\"1\" class=\"dataframe\">\n",
       "  <thead>\n",
       "    <tr style=\"text-align: right;\">\n",
       "      <th></th>\n",
       "      <th>mae_coef_1</th>\n",
       "      <th>mre_coef_1</th>\n",
       "      <th>train_test_shape</th>\n",
       "    </tr>\n",
       "  </thead>\n",
       "  <tbody>\n",
       "    <tr>\n",
       "      <th>Filtering [1, 2, 3], r2&gt;None, Poly_KR</th>\n",
       "      <td>0.569 +/- 0.86</td>\n",
       "      <td>51.2 +/- 44.5</td>\n",
       "      <td>781 , 202</td>\n",
       "    </tr>\n",
       "    <tr>\n",
       "      <th>Filtering [1, 2, 3], r2&gt;None, RBF_SVR</th>\n",
       "      <td>0.462 +/- 0.84</td>\n",
       "      <td>25.2 +/- 8.9</td>\n",
       "      <td>781 , 202</td>\n",
       "    </tr>\n",
       "    <tr>\n",
       "      <th>Filtering [1, 2, 3], r2&gt;None, Linear_SVR</th>\n",
       "      <td>1.231 +/- 1.601</td>\n",
       "      <td>256.3 +/- 373.0</td>\n",
       "      <td>781 , 202</td>\n",
       "    </tr>\n",
       "    <tr>\n",
       "      <th>Filtering [1, 2, 3], r2&gt;0, Poly_KR</th>\n",
       "      <td>0.569 +/- 0.86</td>\n",
       "      <td>51.2 +/- 44.5</td>\n",
       "      <td>781 , 202</td>\n",
       "    </tr>\n",
       "    <tr>\n",
       "      <th>Filtering [1, 2, 3], r2&gt;0, RBF_SVR</th>\n",
       "      <td>0.462 +/- 0.84</td>\n",
       "      <td>25.2 +/- 8.9</td>\n",
       "      <td>781 , 202</td>\n",
       "    </tr>\n",
       "    <tr>\n",
       "      <th>Filtering [1, 2, 3], r2&gt;0, Linear_SVR</th>\n",
       "      <td>1.231 +/- 1.601</td>\n",
       "      <td>256.3 +/- 373.0</td>\n",
       "      <td>781 , 202</td>\n",
       "    </tr>\n",
       "    <tr>\n",
       "      <th>Filtering [1, 2, 3], r2&gt;0.9, Poly_KR</th>\n",
       "      <td>0.134 +/- 0.081</td>\n",
       "      <td>28.4 +/- 13.6</td>\n",
       "      <td>723 , 185</td>\n",
       "    </tr>\n",
       "    <tr>\n",
       "      <th>Filtering [1, 2, 3], r2&gt;0.9, RBF_SVR</th>\n",
       "      <td>0.081 +/- 0.019</td>\n",
       "      <td>20.3 +/- 4.3</td>\n",
       "      <td>723 , 185</td>\n",
       "    </tr>\n",
       "    <tr>\n",
       "      <th>Filtering [1, 2, 3], r2&gt;0.9, Linear_SVR</th>\n",
       "      <td>0.092 +/- 0.02</td>\n",
       "      <td>24.5 +/- 7.9</td>\n",
       "      <td>723 , 185</td>\n",
       "    </tr>\n",
       "    <tr>\n",
       "      <th>Filtering [1, 2, 3, 4], r2&gt;None, Poly_KR</th>\n",
       "      <td>0.532 +/- 0.837</td>\n",
       "      <td>50.5 +/- 50.2</td>\n",
       "      <td>703 , 180</td>\n",
       "    </tr>\n",
       "    <tr>\n",
       "      <th>Filtering [1, 2, 3, 4], r2&gt;None, RBF_SVR</th>\n",
       "      <td>0.443 +/- 0.8</td>\n",
       "      <td>23.9 +/- 9.4</td>\n",
       "      <td>703 , 180</td>\n",
       "    </tr>\n",
       "    <tr>\n",
       "      <th>Filtering [1, 2, 3, 4], r2&gt;None, Linear_SVR</th>\n",
       "      <td>1.234 +/- 1.684</td>\n",
       "      <td>273.7 +/- 398.4</td>\n",
       "      <td>703 , 180</td>\n",
       "    </tr>\n",
       "    <tr>\n",
       "      <th>Filtering [1, 2, 3, 4], r2&gt;0, Poly_KR</th>\n",
       "      <td>0.532 +/- 0.837</td>\n",
       "      <td>50.5 +/- 50.2</td>\n",
       "      <td>703 , 180</td>\n",
       "    </tr>\n",
       "    <tr>\n",
       "      <th>Filtering [1, 2, 3, 4], r2&gt;0, RBF_SVR</th>\n",
       "      <td>0.443 +/- 0.8</td>\n",
       "      <td>23.9 +/- 9.4</td>\n",
       "      <td>703 , 180</td>\n",
       "    </tr>\n",
       "    <tr>\n",
       "      <th>Filtering [1, 2, 3, 4], r2&gt;0, Linear_SVR</th>\n",
       "      <td>1.234 +/- 1.684</td>\n",
       "      <td>273.7 +/- 398.4</td>\n",
       "      <td>703 , 180</td>\n",
       "    </tr>\n",
       "    <tr>\n",
       "      <th>Filtering [1, 2, 3, 4], r2&gt;0.9, Poly_KR</th>\n",
       "      <td>0.157 +/- 0.088</td>\n",
       "      <td>31.0 +/- 13.6</td>\n",
       "      <td>691 , 177</td>\n",
       "    </tr>\n",
       "    <tr>\n",
       "      <th>Filtering [1, 2, 3, 4], r2&gt;0.9, RBF_SVR</th>\n",
       "      <td>0.095 +/- 0.02</td>\n",
       "      <td>22.0 +/- 4.7</td>\n",
       "      <td>691 , 177</td>\n",
       "    </tr>\n",
       "    <tr>\n",
       "      <th>Filtering [1, 2, 3, 4], r2&gt;0.9, Linear_SVR</th>\n",
       "      <td>0.101 +/- 0.019</td>\n",
       "      <td>25.0 +/- 6.9</td>\n",
       "      <td>691 , 177</td>\n",
       "    </tr>\n",
       "  </tbody>\n",
       "</table>\n",
       "</div>"
      ],
      "text/plain": [
       "                                                  mae_coef_1       mre_coef_1  \\\n",
       "Filtering [1, 2, 3], r2>None, Poly_KR         0.569 +/- 0.86    51.2 +/- 44.5   \n",
       "Filtering [1, 2, 3], r2>None, RBF_SVR         0.462 +/- 0.84     25.2 +/- 8.9   \n",
       "Filtering [1, 2, 3], r2>None, Linear_SVR     1.231 +/- 1.601  256.3 +/- 373.0   \n",
       "Filtering [1, 2, 3], r2>0, Poly_KR            0.569 +/- 0.86    51.2 +/- 44.5   \n",
       "Filtering [1, 2, 3], r2>0, RBF_SVR            0.462 +/- 0.84     25.2 +/- 8.9   \n",
       "Filtering [1, 2, 3], r2>0, Linear_SVR        1.231 +/- 1.601  256.3 +/- 373.0   \n",
       "Filtering [1, 2, 3], r2>0.9, Poly_KR         0.134 +/- 0.081    28.4 +/- 13.6   \n",
       "Filtering [1, 2, 3], r2>0.9, RBF_SVR         0.081 +/- 0.019     20.3 +/- 4.3   \n",
       "Filtering [1, 2, 3], r2>0.9, Linear_SVR       0.092 +/- 0.02     24.5 +/- 7.9   \n",
       "Filtering [1, 2, 3, 4], r2>None, Poly_KR     0.532 +/- 0.837    50.5 +/- 50.2   \n",
       "Filtering [1, 2, 3, 4], r2>None, RBF_SVR       0.443 +/- 0.8     23.9 +/- 9.4   \n",
       "Filtering [1, 2, 3, 4], r2>None, Linear_SVR  1.234 +/- 1.684  273.7 +/- 398.4   \n",
       "Filtering [1, 2, 3, 4], r2>0, Poly_KR        0.532 +/- 0.837    50.5 +/- 50.2   \n",
       "Filtering [1, 2, 3, 4], r2>0, RBF_SVR          0.443 +/- 0.8     23.9 +/- 9.4   \n",
       "Filtering [1, 2, 3, 4], r2>0, Linear_SVR     1.234 +/- 1.684  273.7 +/- 398.4   \n",
       "Filtering [1, 2, 3, 4], r2>0.9, Poly_KR      0.157 +/- 0.088    31.0 +/- 13.6   \n",
       "Filtering [1, 2, 3, 4], r2>0.9, RBF_SVR       0.095 +/- 0.02     22.0 +/- 4.7   \n",
       "Filtering [1, 2, 3, 4], r2>0.9, Linear_SVR   0.101 +/- 0.019     25.0 +/- 6.9   \n",
       "\n",
       "                                            train_test_shape  \n",
       "Filtering [1, 2, 3], r2>None, Poly_KR              781 , 202  \n",
       "Filtering [1, 2, 3], r2>None, RBF_SVR              781 , 202  \n",
       "Filtering [1, 2, 3], r2>None, Linear_SVR           781 , 202  \n",
       "Filtering [1, 2, 3], r2>0, Poly_KR                 781 , 202  \n",
       "Filtering [1, 2, 3], r2>0, RBF_SVR                 781 , 202  \n",
       "Filtering [1, 2, 3], r2>0, Linear_SVR              781 , 202  \n",
       "Filtering [1, 2, 3], r2>0.9, Poly_KR               723 , 185  \n",
       "Filtering [1, 2, 3], r2>0.9, RBF_SVR               723 , 185  \n",
       "Filtering [1, 2, 3], r2>0.9, Linear_SVR            723 , 185  \n",
       "Filtering [1, 2, 3, 4], r2>None, Poly_KR           703 , 180  \n",
       "Filtering [1, 2, 3, 4], r2>None, RBF_SVR           703 , 180  \n",
       "Filtering [1, 2, 3, 4], r2>None, Linear_SVR        703 , 180  \n",
       "Filtering [1, 2, 3, 4], r2>0, Poly_KR              703 , 180  \n",
       "Filtering [1, 2, 3, 4], r2>0, RBF_SVR              703 , 180  \n",
       "Filtering [1, 2, 3, 4], r2>0, Linear_SVR           703 , 180  \n",
       "Filtering [1, 2, 3, 4], r2>0.9, Poly_KR            691 , 177  \n",
       "Filtering [1, 2, 3, 4], r2>0.9, RBF_SVR            691 , 177  \n",
       "Filtering [1, 2, 3, 4], r2>0.9, Linear_SVR         691 , 177  "
      ]
     },
     "metadata": {},
     "output_type": "display_data"
    },
    {
     "name": "stderr",
     "output_type": "stream",
     "text": [
      "100%|██████████| 2776/2776 [00:07<00:00, 348.05it/s]\n"
     ]
    },
    {
     "name": "stdout",
     "output_type": "stream",
     "text": [
      "logistic4 Filtering [1, 2, 3], r2>None, Poly_KR\n",
      "\n",
      "MAE: 0.3 +/- 0.28\n",
      "MRE: 30.9 +/- 29.1\n",
      "\n",
      "(783, 1370) (202, 1370)\n"
     ]
    },
    {
     "name": "stderr",
     "output_type": "stream",
     "text": [
      "100%|██████████| 2776/2776 [00:10<00:00, 274.09it/s]\n"
     ]
    },
    {
     "name": "stdout",
     "output_type": "stream",
     "text": [
      "logistic4 Filtering [1, 2, 3], r2>0, Poly_KR\n",
      "\n",
      "MAE: 0.3 +/- 0.28\n",
      "MRE: 30.9 +/- 29.1\n",
      "\n",
      "(783, 1370) (202, 1370)\n"
     ]
    },
    {
     "name": "stderr",
     "output_type": "stream",
     "text": [
      "100%|██████████| 2776/2776 [00:12<00:00, 220.59it/s]\n"
     ]
    },
    {
     "name": "stdout",
     "output_type": "stream",
     "text": [
      "logistic4 Filtering [1, 2, 3], r2>0.9, Poly_KR\n",
      "\n",
      "MAE: 0.234 +/- 0.196\n",
      "MRE: 24.1 +/- 20.1\n",
      "\n",
      "(736, 1370) (189, 1370)\n"
     ]
    },
    {
     "name": "stderr",
     "output_type": "stream",
     "text": [
      "100%|██████████| 2600/2600 [00:08<00:00, 319.27it/s]\n"
     ]
    },
    {
     "name": "stdout",
     "output_type": "stream",
     "text": [
      "logistic4 Filtering [1, 2, 3, 4], r2>None, Poly_KR\n",
      "\n",
      "MAE: 0.241 +/- 0.196\n",
      "MRE: 24.8 +/- 20.2\n",
      "\n",
      "(705, 1370) (180, 1370)\n"
     ]
    },
    {
     "name": "stderr",
     "output_type": "stream",
     "text": [
      "100%|██████████| 2600/2600 [00:06<00:00, 404.89it/s]\n"
     ]
    },
    {
     "name": "stdout",
     "output_type": "stream",
     "text": [
      "logistic4 Filtering [1, 2, 3, 4], r2>0, Poly_KR\n",
      "\n",
      "MAE: 0.241 +/- 0.196\n",
      "MRE: 24.8 +/- 20.2\n",
      "\n",
      "(705, 1370) (180, 1370)\n"
     ]
    },
    {
     "name": "stderr",
     "output_type": "stream",
     "text": [
      "100%|██████████| 2600/2600 [00:06<00:00, 397.54it/s]\n"
     ]
    },
    {
     "name": "stdout",
     "output_type": "stream",
     "text": [
      "logistic4 Filtering [1, 2, 3, 4], r2>0.9, Poly_KR\n",
      "\n",
      "MAE: 0.241 +/- 0.196\n",
      "MRE: 24.8 +/- 20.2\n",
      "\n",
      "(704, 1370) (180, 1370)\n"
     ]
    },
    {
     "name": "stderr",
     "output_type": "stream",
     "text": [
      "100%|██████████| 2776/2776 [00:06<00:00, 399.01it/s]\n"
     ]
    },
    {
     "name": "stdout",
     "output_type": "stream",
     "text": [
      "logistic4 Filtering [1, 2, 3], r2>None, RBF_SVR\n",
      "\n",
      "MAE: 0.016 +/- 0.003\n",
      "MRE: 1.6 +/- 0.3\n",
      "\n",
      "(783, 1370) (202, 1370)\n"
     ]
    },
    {
     "name": "stderr",
     "output_type": "stream",
     "text": [
      "100%|██████████| 2776/2776 [00:07<00:00, 355.94it/s]\n"
     ]
    },
    {
     "name": "stdout",
     "output_type": "stream",
     "text": [
      "logistic4 Filtering [1, 2, 3], r2>0, RBF_SVR\n",
      "\n",
      "MAE: 0.016 +/- 0.003\n",
      "MRE: 1.6 +/- 0.3\n",
      "\n",
      "(783, 1370) (202, 1370)\n"
     ]
    },
    {
     "name": "stderr",
     "output_type": "stream",
     "text": [
      "100%|██████████| 2776/2776 [00:07<00:00, 370.82it/s]\n"
     ]
    },
    {
     "name": "stdout",
     "output_type": "stream",
     "text": [
      "logistic4 Filtering [1, 2, 3], r2>0.9, RBF_SVR\n",
      "\n",
      "MAE: 0.017 +/- 0.004\n",
      "MRE: 1.7 +/- 0.4\n",
      "\n",
      "(736, 1370) (189, 1370)\n"
     ]
    },
    {
     "name": "stderr",
     "output_type": "stream",
     "text": [
      "100%|██████████| 2600/2600 [00:06<00:00, 382.66it/s]\n"
     ]
    },
    {
     "name": "stdout",
     "output_type": "stream",
     "text": [
      "logistic4 Filtering [1, 2, 3, 4], r2>None, RBF_SVR\n",
      "\n",
      "MAE: 0.014 +/- 0.003\n",
      "MRE: 1.5 +/- 0.3\n",
      "\n",
      "(705, 1370) (180, 1370)\n"
     ]
    },
    {
     "name": "stderr",
     "output_type": "stream",
     "text": [
      "100%|██████████| 2600/2600 [00:06<00:00, 396.53it/s]\n"
     ]
    },
    {
     "name": "stdout",
     "output_type": "stream",
     "text": [
      "logistic4 Filtering [1, 2, 3, 4], r2>0, RBF_SVR\n",
      "\n",
      "MAE: 0.014 +/- 0.003\n",
      "MRE: 1.5 +/- 0.3\n",
      "\n",
      "(705, 1370) (180, 1370)\n"
     ]
    },
    {
     "name": "stderr",
     "output_type": "stream",
     "text": [
      "100%|██████████| 2600/2600 [00:06<00:00, 398.21it/s]\n"
     ]
    },
    {
     "name": "stdout",
     "output_type": "stream",
     "text": [
      "logistic4 Filtering [1, 2, 3, 4], r2>0.9, RBF_SVR\n",
      "\n",
      "MAE: 0.014 +/- 0.002\n",
      "MRE: 1.5 +/- 0.3\n",
      "\n",
      "(704, 1370) (180, 1370)\n"
     ]
    },
    {
     "name": "stderr",
     "output_type": "stream",
     "text": [
      "100%|██████████| 2776/2776 [00:06<00:00, 396.95it/s]\n"
     ]
    },
    {
     "name": "stdout",
     "output_type": "stream",
     "text": [
      "logistic4 Filtering [1, 2, 3], r2>None, Linear_SVR\n",
      "\n",
      "MAE: 0.022 +/- 0.01\n",
      "MRE: 2.2 +/- 1.0\n",
      "\n",
      "(783, 1370) (202, 1370)\n"
     ]
    },
    {
     "name": "stderr",
     "output_type": "stream",
     "text": [
      "100%|██████████| 2776/2776 [00:08<00:00, 339.39it/s]\n"
     ]
    },
    {
     "name": "stdout",
     "output_type": "stream",
     "text": [
      "logistic4 Filtering [1, 2, 3], r2>0, Linear_SVR\n",
      "\n",
      "MAE: 0.022 +/- 0.01\n",
      "MRE: 2.2 +/- 1.0\n",
      "\n",
      "(783, 1370) (202, 1370)\n"
     ]
    },
    {
     "name": "stderr",
     "output_type": "stream",
     "text": [
      "100%|██████████| 2776/2776 [00:07<00:00, 381.57it/s]\n"
     ]
    },
    {
     "name": "stdout",
     "output_type": "stream",
     "text": [
      "logistic4 Filtering [1, 2, 3], r2>0.9, Linear_SVR\n",
      "\n",
      "MAE: 0.023 +/- 0.007\n",
      "MRE: 2.3 +/- 0.8\n",
      "\n",
      "(736, 1370) (189, 1370)\n"
     ]
    },
    {
     "name": "stderr",
     "output_type": "stream",
     "text": [
      "100%|██████████| 2600/2600 [00:08<00:00, 310.02it/s]\n"
     ]
    },
    {
     "name": "stdout",
     "output_type": "stream",
     "text": [
      "logistic4 Filtering [1, 2, 3, 4], r2>None, Linear_SVR\n",
      "\n",
      "MAE: 0.019 +/- 0.006\n",
      "MRE: 1.9 +/- 0.6\n",
      "\n",
      "(705, 1370) (180, 1370)\n"
     ]
    },
    {
     "name": "stderr",
     "output_type": "stream",
     "text": [
      "100%|██████████| 2600/2600 [00:07<00:00, 366.02it/s]\n"
     ]
    },
    {
     "name": "stdout",
     "output_type": "stream",
     "text": [
      "logistic4 Filtering [1, 2, 3, 4], r2>0, Linear_SVR\n",
      "\n",
      "MAE: 0.019 +/- 0.006\n",
      "MRE: 1.9 +/- 0.6\n",
      "\n",
      "(705, 1370) (180, 1370)\n"
     ]
    },
    {
     "name": "stderr",
     "output_type": "stream",
     "text": [
      "100%|██████████| 2600/2600 [00:07<00:00, 327.83it/s]\n"
     ]
    },
    {
     "name": "stdout",
     "output_type": "stream",
     "text": [
      "logistic4 Filtering [1, 2, 3, 4], r2>0.9, Linear_SVR\n",
      "\n",
      "MAE: 0.018 +/- 0.006\n",
      "MRE: 1.9 +/- 0.6\n",
      "\n",
      "(704, 1370) (180, 1370)\n",
      "\n",
      " logistic4\n"
     ]
    },
    {
     "data": {
      "text/html": [
       "<div>\n",
       "<style scoped>\n",
       "    .dataframe tbody tr th:only-of-type {\n",
       "        vertical-align: middle;\n",
       "    }\n",
       "\n",
       "    .dataframe tbody tr th {\n",
       "        vertical-align: top;\n",
       "    }\n",
       "\n",
       "    .dataframe thead th {\n",
       "        text-align: right;\n",
       "    }\n",
       "</style>\n",
       "<table border=\"1\" class=\"dataframe\">\n",
       "  <thead>\n",
       "    <tr style=\"text-align: right;\">\n",
       "      <th></th>\n",
       "      <th>mae_coef_1</th>\n",
       "      <th>mre_coef_1</th>\n",
       "      <th>train_test_shape</th>\n",
       "    </tr>\n",
       "  </thead>\n",
       "  <tbody>\n",
       "    <tr>\n",
       "      <th>Filtering [1, 2, 3], r2&gt;None, Poly_KR</th>\n",
       "      <td>0.3 +/- 0.28</td>\n",
       "      <td>30.9 +/- 29.1</td>\n",
       "      <td>783 , 202</td>\n",
       "    </tr>\n",
       "    <tr>\n",
       "      <th>Filtering [1, 2, 3], r2&gt;None, RBF_SVR</th>\n",
       "      <td>0.016 +/- 0.003</td>\n",
       "      <td>1.6 +/- 0.3</td>\n",
       "      <td>783 , 202</td>\n",
       "    </tr>\n",
       "    <tr>\n",
       "      <th>Filtering [1, 2, 3], r2&gt;None, Linear_SVR</th>\n",
       "      <td>0.022 +/- 0.01</td>\n",
       "      <td>2.2 +/- 1.0</td>\n",
       "      <td>783 , 202</td>\n",
       "    </tr>\n",
       "    <tr>\n",
       "      <th>Filtering [1, 2, 3], r2&gt;0, Poly_KR</th>\n",
       "      <td>0.3 +/- 0.28</td>\n",
       "      <td>30.9 +/- 29.1</td>\n",
       "      <td>783 , 202</td>\n",
       "    </tr>\n",
       "    <tr>\n",
       "      <th>Filtering [1, 2, 3], r2&gt;0, RBF_SVR</th>\n",
       "      <td>0.016 +/- 0.003</td>\n",
       "      <td>1.6 +/- 0.3</td>\n",
       "      <td>783 , 202</td>\n",
       "    </tr>\n",
       "    <tr>\n",
       "      <th>Filtering [1, 2, 3], r2&gt;0, Linear_SVR</th>\n",
       "      <td>0.022 +/- 0.01</td>\n",
       "      <td>2.2 +/- 1.0</td>\n",
       "      <td>783 , 202</td>\n",
       "    </tr>\n",
       "    <tr>\n",
       "      <th>Filtering [1, 2, 3], r2&gt;0.9, Poly_KR</th>\n",
       "      <td>0.234 +/- 0.196</td>\n",
       "      <td>24.1 +/- 20.1</td>\n",
       "      <td>736 , 189</td>\n",
       "    </tr>\n",
       "    <tr>\n",
       "      <th>Filtering [1, 2, 3], r2&gt;0.9, RBF_SVR</th>\n",
       "      <td>0.017 +/- 0.004</td>\n",
       "      <td>1.7 +/- 0.4</td>\n",
       "      <td>736 , 189</td>\n",
       "    </tr>\n",
       "    <tr>\n",
       "      <th>Filtering [1, 2, 3], r2&gt;0.9, Linear_SVR</th>\n",
       "      <td>0.023 +/- 0.007</td>\n",
       "      <td>2.3 +/- 0.8</td>\n",
       "      <td>736 , 189</td>\n",
       "    </tr>\n",
       "    <tr>\n",
       "      <th>Filtering [1, 2, 3, 4], r2&gt;None, Poly_KR</th>\n",
       "      <td>0.241 +/- 0.196</td>\n",
       "      <td>24.8 +/- 20.2</td>\n",
       "      <td>705 , 180</td>\n",
       "    </tr>\n",
       "    <tr>\n",
       "      <th>Filtering [1, 2, 3, 4], r2&gt;None, RBF_SVR</th>\n",
       "      <td>0.014 +/- 0.003</td>\n",
       "      <td>1.5 +/- 0.3</td>\n",
       "      <td>705 , 180</td>\n",
       "    </tr>\n",
       "    <tr>\n",
       "      <th>Filtering [1, 2, 3, 4], r2&gt;None, Linear_SVR</th>\n",
       "      <td>0.019 +/- 0.006</td>\n",
       "      <td>1.9 +/- 0.6</td>\n",
       "      <td>705 , 180</td>\n",
       "    </tr>\n",
       "    <tr>\n",
       "      <th>Filtering [1, 2, 3, 4], r2&gt;0, Poly_KR</th>\n",
       "      <td>0.241 +/- 0.196</td>\n",
       "      <td>24.8 +/- 20.2</td>\n",
       "      <td>705 , 180</td>\n",
       "    </tr>\n",
       "    <tr>\n",
       "      <th>Filtering [1, 2, 3, 4], r2&gt;0, RBF_SVR</th>\n",
       "      <td>0.014 +/- 0.003</td>\n",
       "      <td>1.5 +/- 0.3</td>\n",
       "      <td>705 , 180</td>\n",
       "    </tr>\n",
       "    <tr>\n",
       "      <th>Filtering [1, 2, 3, 4], r2&gt;0, Linear_SVR</th>\n",
       "      <td>0.019 +/- 0.006</td>\n",
       "      <td>1.9 +/- 0.6</td>\n",
       "      <td>705 , 180</td>\n",
       "    </tr>\n",
       "    <tr>\n",
       "      <th>Filtering [1, 2, 3, 4], r2&gt;0.9, Poly_KR</th>\n",
       "      <td>0.241 +/- 0.196</td>\n",
       "      <td>24.8 +/- 20.2</td>\n",
       "      <td>704 , 180</td>\n",
       "    </tr>\n",
       "    <tr>\n",
       "      <th>Filtering [1, 2, 3, 4], r2&gt;0.9, RBF_SVR</th>\n",
       "      <td>0.014 +/- 0.002</td>\n",
       "      <td>1.5 +/- 0.3</td>\n",
       "      <td>704 , 180</td>\n",
       "    </tr>\n",
       "    <tr>\n",
       "      <th>Filtering [1, 2, 3, 4], r2&gt;0.9, Linear_SVR</th>\n",
       "      <td>0.018 +/- 0.006</td>\n",
       "      <td>1.9 +/- 0.6</td>\n",
       "      <td>704 , 180</td>\n",
       "    </tr>\n",
       "  </tbody>\n",
       "</table>\n",
       "</div>"
      ],
      "text/plain": [
       "                                                  mae_coef_1     mre_coef_1  \\\n",
       "Filtering [1, 2, 3], r2>None, Poly_KR           0.3 +/- 0.28  30.9 +/- 29.1   \n",
       "Filtering [1, 2, 3], r2>None, RBF_SVR        0.016 +/- 0.003    1.6 +/- 0.3   \n",
       "Filtering [1, 2, 3], r2>None, Linear_SVR      0.022 +/- 0.01    2.2 +/- 1.0   \n",
       "Filtering [1, 2, 3], r2>0, Poly_KR              0.3 +/- 0.28  30.9 +/- 29.1   \n",
       "Filtering [1, 2, 3], r2>0, RBF_SVR           0.016 +/- 0.003    1.6 +/- 0.3   \n",
       "Filtering [1, 2, 3], r2>0, Linear_SVR         0.022 +/- 0.01    2.2 +/- 1.0   \n",
       "Filtering [1, 2, 3], r2>0.9, Poly_KR         0.234 +/- 0.196  24.1 +/- 20.1   \n",
       "Filtering [1, 2, 3], r2>0.9, RBF_SVR         0.017 +/- 0.004    1.7 +/- 0.4   \n",
       "Filtering [1, 2, 3], r2>0.9, Linear_SVR      0.023 +/- 0.007    2.3 +/- 0.8   \n",
       "Filtering [1, 2, 3, 4], r2>None, Poly_KR     0.241 +/- 0.196  24.8 +/- 20.2   \n",
       "Filtering [1, 2, 3, 4], r2>None, RBF_SVR     0.014 +/- 0.003    1.5 +/- 0.3   \n",
       "Filtering [1, 2, 3, 4], r2>None, Linear_SVR  0.019 +/- 0.006    1.9 +/- 0.6   \n",
       "Filtering [1, 2, 3, 4], r2>0, Poly_KR        0.241 +/- 0.196  24.8 +/- 20.2   \n",
       "Filtering [1, 2, 3, 4], r2>0, RBF_SVR        0.014 +/- 0.003    1.5 +/- 0.3   \n",
       "Filtering [1, 2, 3, 4], r2>0, Linear_SVR     0.019 +/- 0.006    1.9 +/- 0.6   \n",
       "Filtering [1, 2, 3, 4], r2>0.9, Poly_KR      0.241 +/- 0.196  24.8 +/- 20.2   \n",
       "Filtering [1, 2, 3, 4], r2>0.9, RBF_SVR      0.014 +/- 0.002    1.5 +/- 0.3   \n",
       "Filtering [1, 2, 3, 4], r2>0.9, Linear_SVR   0.018 +/- 0.006    1.9 +/- 0.6   \n",
       "\n",
       "                                            train_test_shape  \n",
       "Filtering [1, 2, 3], r2>None, Poly_KR              783 , 202  \n",
       "Filtering [1, 2, 3], r2>None, RBF_SVR              783 , 202  \n",
       "Filtering [1, 2, 3], r2>None, Linear_SVR           783 , 202  \n",
       "Filtering [1, 2, 3], r2>0, Poly_KR                 783 , 202  \n",
       "Filtering [1, 2, 3], r2>0, RBF_SVR                 783 , 202  \n",
       "Filtering [1, 2, 3], r2>0, Linear_SVR              783 , 202  \n",
       "Filtering [1, 2, 3], r2>0.9, Poly_KR               736 , 189  \n",
       "Filtering [1, 2, 3], r2>0.9, RBF_SVR               736 , 189  \n",
       "Filtering [1, 2, 3], r2>0.9, Linear_SVR            736 , 189  \n",
       "Filtering [1, 2, 3, 4], r2>None, Poly_KR           705 , 180  \n",
       "Filtering [1, 2, 3, 4], r2>None, RBF_SVR           705 , 180  \n",
       "Filtering [1, 2, 3, 4], r2>None, Linear_SVR        705 , 180  \n",
       "Filtering [1, 2, 3, 4], r2>0, Poly_KR              705 , 180  \n",
       "Filtering [1, 2, 3, 4], r2>0, RBF_SVR              705 , 180  \n",
       "Filtering [1, 2, 3, 4], r2>0, Linear_SVR           705 , 180  \n",
       "Filtering [1, 2, 3, 4], r2>0.9, Poly_KR            704 , 180  \n",
       "Filtering [1, 2, 3, 4], r2>0.9, RBF_SVR            704 , 180  \n",
       "Filtering [1, 2, 3, 4], r2>0.9, Linear_SVR         704 , 180  "
      ]
     },
     "metadata": {},
     "output_type": "display_data"
    },
    {
     "name": "stderr",
     "output_type": "stream",
     "text": [
      "100%|██████████| 2776/2776 [00:07<00:00, 353.19it/s]\n"
     ]
    },
    {
     "name": "stdout",
     "output_type": "stream",
     "text": [
      "logLogistR Filtering [1, 2, 3], r2>None, Poly_KR\n",
      "\n",
      "MAE: 0.132 +/- 0.055\n",
      "MRE: -37.5 +/- 23.6\n",
      "\n",
      "(783, 1369) (202, 1369)\n"
     ]
    },
    {
     "name": "stderr",
     "output_type": "stream",
     "text": [
      "100%|██████████| 2776/2776 [00:08<00:00, 341.41it/s]\n"
     ]
    },
    {
     "name": "stdout",
     "output_type": "stream",
     "text": [
      "logLogistR Filtering [1, 2, 3], r2>0, Poly_KR\n",
      "\n",
      "MAE: 0.132 +/- 0.055\n",
      "MRE: -37.5 +/- 23.6\n",
      "\n",
      "(783, 1369) (202, 1369)\n"
     ]
    },
    {
     "name": "stderr",
     "output_type": "stream",
     "text": [
      "100%|██████████| 2776/2776 [00:07<00:00, 353.81it/s]\n"
     ]
    },
    {
     "name": "stdout",
     "output_type": "stream",
     "text": [
      "logLogistR Filtering [1, 2, 3], r2>0.9, Poly_KR\n",
      "\n",
      "MAE: 0.124 +/- 0.046\n",
      "MRE: -31.6 +/- 12.9\n",
      "\n",
      "(736, 1369) (188, 1369)\n"
     ]
    },
    {
     "name": "stderr",
     "output_type": "stream",
     "text": [
      "100%|██████████| 2600/2600 [00:07<00:00, 352.55it/s]\n"
     ]
    },
    {
     "name": "stdout",
     "output_type": "stream",
     "text": [
      "logLogistR Filtering [1, 2, 3, 4], r2>None, Poly_KR\n",
      "\n",
      "MAE: 0.122 +/- 0.03\n",
      "MRE: -32.7 +/- 10.8\n",
      "\n",
      "(705, 1369) (180, 1369)\n"
     ]
    },
    {
     "name": "stderr",
     "output_type": "stream",
     "text": [
      "100%|██████████| 2600/2600 [00:07<00:00, 333.54it/s]\n"
     ]
    },
    {
     "name": "stdout",
     "output_type": "stream",
     "text": [
      "logLogistR Filtering [1, 2, 3, 4], r2>0, Poly_KR\n",
      "\n",
      "MAE: 0.122 +/- 0.03\n",
      "MRE: -32.7 +/- 10.8\n",
      "\n",
      "(705, 1369) (180, 1369)\n"
     ]
    },
    {
     "name": "stderr",
     "output_type": "stream",
     "text": [
      "100%|██████████| 2600/2600 [00:08<00:00, 292.42it/s]\n"
     ]
    },
    {
     "name": "stdout",
     "output_type": "stream",
     "text": [
      "logLogistR Filtering [1, 2, 3, 4], r2>0.9, Poly_KR\n",
      "\n",
      "MAE: 0.12 +/- 0.029\n",
      "MRE: -33.6 +/- 10.4\n",
      "\n",
      "(704, 1369) (180, 1369)\n"
     ]
    },
    {
     "name": "stderr",
     "output_type": "stream",
     "text": [
      "100%|██████████| 2776/2776 [00:07<00:00, 348.94it/s]\n"
     ]
    },
    {
     "name": "stdout",
     "output_type": "stream",
     "text": [
      "logLogistR Filtering [1, 2, 3], r2>None, RBF_SVR\n",
      "\n",
      "MAE: 0.086 +/- 0.018\n",
      "MRE: -26.1 +/- 8.1\n",
      "\n",
      "(783, 1369) (202, 1369)\n"
     ]
    },
    {
     "name": "stderr",
     "output_type": "stream",
     "text": [
      "100%|██████████| 2776/2776 [00:07<00:00, 363.14it/s]\n"
     ]
    },
    {
     "name": "stdout",
     "output_type": "stream",
     "text": [
      "logLogistR Filtering [1, 2, 3], r2>0, RBF_SVR\n",
      "\n",
      "MAE: 0.086 +/- 0.018\n",
      "MRE: -26.1 +/- 8.1\n",
      "\n",
      "(783, 1369) (202, 1369)\n"
     ]
    },
    {
     "name": "stderr",
     "output_type": "stream",
     "text": [
      "100%|██████████| 2776/2776 [00:08<00:00, 344.98it/s]\n"
     ]
    },
    {
     "name": "stdout",
     "output_type": "stream",
     "text": [
      "logLogistR Filtering [1, 2, 3], r2>0.9, RBF_SVR\n",
      "\n",
      "MAE: 0.089 +/- 0.026\n",
      "MRE: -25.9 +/- 8.6\n",
      "\n",
      "(736, 1369) (188, 1369)\n"
     ]
    },
    {
     "name": "stderr",
     "output_type": "stream",
     "text": [
      "100%|██████████| 2600/2600 [00:08<00:00, 294.84it/s]\n"
     ]
    },
    {
     "name": "stdout",
     "output_type": "stream",
     "text": [
      "logLogistR Filtering [1, 2, 3, 4], r2>None, RBF_SVR\n",
      "\n",
      "MAE: 0.089 +/- 0.026\n",
      "MRE: -28.6 +/- 11.6\n",
      "\n",
      "(705, 1369) (180, 1369)\n"
     ]
    },
    {
     "name": "stderr",
     "output_type": "stream",
     "text": [
      "100%|██████████| 2600/2600 [00:07<00:00, 353.20it/s]\n"
     ]
    },
    {
     "name": "stdout",
     "output_type": "stream",
     "text": [
      "logLogistR Filtering [1, 2, 3, 4], r2>0, RBF_SVR\n",
      "\n",
      "MAE: 0.089 +/- 0.026\n",
      "MRE: -28.6 +/- 11.6\n",
      "\n",
      "(705, 1369) (180, 1369)\n"
     ]
    },
    {
     "name": "stderr",
     "output_type": "stream",
     "text": [
      "100%|██████████| 2600/2600 [00:07<00:00, 343.55it/s]\n"
     ]
    },
    {
     "name": "stdout",
     "output_type": "stream",
     "text": [
      "logLogistR Filtering [1, 2, 3, 4], r2>0.9, RBF_SVR\n",
      "\n",
      "MAE: 0.091 +/- 0.027\n",
      "MRE: -30.8 +/- 12.1\n",
      "\n",
      "(704, 1369) (180, 1369)\n"
     ]
    },
    {
     "name": "stderr",
     "output_type": "stream",
     "text": [
      "100%|██████████| 2776/2776 [00:08<00:00, 332.22it/s]\n"
     ]
    },
    {
     "name": "stdout",
     "output_type": "stream",
     "text": [
      "logLogistR Filtering [1, 2, 3], r2>None, Linear_SVR\n",
      "\n",
      "MAE: 0.097 +/- 0.027\n",
      "MRE: -33.0 +/- 16.2\n",
      "\n",
      "(783, 1369) (202, 1369)\n"
     ]
    },
    {
     "name": "stderr",
     "output_type": "stream",
     "text": [
      "100%|██████████| 2776/2776 [00:07<00:00, 359.84it/s]\n"
     ]
    },
    {
     "name": "stdout",
     "output_type": "stream",
     "text": [
      "logLogistR Filtering [1, 2, 3], r2>0, Linear_SVR\n",
      "\n",
      "MAE: 0.097 +/- 0.027\n",
      "MRE: -33.0 +/- 16.2\n",
      "\n",
      "(783, 1369) (202, 1369)\n"
     ]
    },
    {
     "name": "stderr",
     "output_type": "stream",
     "text": [
      "100%|██████████| 2776/2776 [00:08<00:00, 339.45it/s]\n"
     ]
    },
    {
     "name": "stdout",
     "output_type": "stream",
     "text": [
      "logLogistR Filtering [1, 2, 3], r2>0.9, Linear_SVR\n",
      "\n",
      "MAE: 0.092 +/- 0.025\n",
      "MRE: -28.9 +/- 10.6\n",
      "\n",
      "(736, 1369) (188, 1369)\n"
     ]
    },
    {
     "name": "stderr",
     "output_type": "stream",
     "text": [
      "100%|██████████| 2600/2600 [00:08<00:00, 311.44it/s]\n"
     ]
    },
    {
     "name": "stdout",
     "output_type": "stream",
     "text": [
      "logLogistR Filtering [1, 2, 3, 4], r2>None, Linear_SVR\n",
      "\n",
      "MAE: 0.092 +/- 0.025\n",
      "MRE: -33.2 +/- 16.3\n",
      "\n",
      "(705, 1369) (180, 1369)\n"
     ]
    },
    {
     "name": "stderr",
     "output_type": "stream",
     "text": [
      "100%|██████████| 2600/2600 [00:07<00:00, 362.34it/s]\n"
     ]
    },
    {
     "name": "stdout",
     "output_type": "stream",
     "text": [
      "logLogistR Filtering [1, 2, 3, 4], r2>0, Linear_SVR\n",
      "\n",
      "MAE: 0.092 +/- 0.025\n",
      "MRE: -33.2 +/- 16.3\n",
      "\n",
      "(705, 1369) (180, 1369)\n"
     ]
    },
    {
     "name": "stderr",
     "output_type": "stream",
     "text": [
      "100%|██████████| 2600/2600 [00:08<00:00, 311.81it/s]\n"
     ]
    },
    {
     "name": "stdout",
     "output_type": "stream",
     "text": [
      "logLogistR Filtering [1, 2, 3, 4], r2>0.9, Linear_SVR\n",
      "\n",
      "MAE: 0.096 +/- 0.03\n",
      "MRE: -36.0 +/- 16.7\n",
      "\n",
      "(704, 1369) (180, 1369)\n",
      "\n",
      " logLogistR\n"
     ]
    },
    {
     "data": {
      "text/html": [
       "<div>\n",
       "<style scoped>\n",
       "    .dataframe tbody tr th:only-of-type {\n",
       "        vertical-align: middle;\n",
       "    }\n",
       "\n",
       "    .dataframe tbody tr th {\n",
       "        vertical-align: top;\n",
       "    }\n",
       "\n",
       "    .dataframe thead th {\n",
       "        text-align: right;\n",
       "    }\n",
       "</style>\n",
       "<table border=\"1\" class=\"dataframe\">\n",
       "  <thead>\n",
       "    <tr style=\"text-align: right;\">\n",
       "      <th></th>\n",
       "      <th>mae_coef_1</th>\n",
       "      <th>mre_coef_1</th>\n",
       "      <th>train_test_shape</th>\n",
       "    </tr>\n",
       "  </thead>\n",
       "  <tbody>\n",
       "    <tr>\n",
       "      <th>Filtering [1, 2, 3], r2&gt;None, Poly_KR</th>\n",
       "      <td>0.132 +/- 0.055</td>\n",
       "      <td>-37.5 +/- 23.6</td>\n",
       "      <td>783 , 202</td>\n",
       "    </tr>\n",
       "    <tr>\n",
       "      <th>Filtering [1, 2, 3], r2&gt;None, RBF_SVR</th>\n",
       "      <td>0.086 +/- 0.018</td>\n",
       "      <td>-26.1 +/- 8.1</td>\n",
       "      <td>783 , 202</td>\n",
       "    </tr>\n",
       "    <tr>\n",
       "      <th>Filtering [1, 2, 3], r2&gt;None, Linear_SVR</th>\n",
       "      <td>0.097 +/- 0.027</td>\n",
       "      <td>-33.0 +/- 16.2</td>\n",
       "      <td>783 , 202</td>\n",
       "    </tr>\n",
       "    <tr>\n",
       "      <th>Filtering [1, 2, 3], r2&gt;0, Poly_KR</th>\n",
       "      <td>0.132 +/- 0.055</td>\n",
       "      <td>-37.5 +/- 23.6</td>\n",
       "      <td>783 , 202</td>\n",
       "    </tr>\n",
       "    <tr>\n",
       "      <th>Filtering [1, 2, 3], r2&gt;0, RBF_SVR</th>\n",
       "      <td>0.086 +/- 0.018</td>\n",
       "      <td>-26.1 +/- 8.1</td>\n",
       "      <td>783 , 202</td>\n",
       "    </tr>\n",
       "    <tr>\n",
       "      <th>Filtering [1, 2, 3], r2&gt;0, Linear_SVR</th>\n",
       "      <td>0.097 +/- 0.027</td>\n",
       "      <td>-33.0 +/- 16.2</td>\n",
       "      <td>783 , 202</td>\n",
       "    </tr>\n",
       "    <tr>\n",
       "      <th>Filtering [1, 2, 3], r2&gt;0.9, Poly_KR</th>\n",
       "      <td>0.124 +/- 0.046</td>\n",
       "      <td>-31.6 +/- 12.9</td>\n",
       "      <td>736 , 188</td>\n",
       "    </tr>\n",
       "    <tr>\n",
       "      <th>Filtering [1, 2, 3], r2&gt;0.9, RBF_SVR</th>\n",
       "      <td>0.089 +/- 0.026</td>\n",
       "      <td>-25.9 +/- 8.6</td>\n",
       "      <td>736 , 188</td>\n",
       "    </tr>\n",
       "    <tr>\n",
       "      <th>Filtering [1, 2, 3], r2&gt;0.9, Linear_SVR</th>\n",
       "      <td>0.092 +/- 0.025</td>\n",
       "      <td>-28.9 +/- 10.6</td>\n",
       "      <td>736 , 188</td>\n",
       "    </tr>\n",
       "    <tr>\n",
       "      <th>Filtering [1, 2, 3, 4], r2&gt;None, Poly_KR</th>\n",
       "      <td>0.122 +/- 0.03</td>\n",
       "      <td>-32.7 +/- 10.8</td>\n",
       "      <td>705 , 180</td>\n",
       "    </tr>\n",
       "    <tr>\n",
       "      <th>Filtering [1, 2, 3, 4], r2&gt;None, RBF_SVR</th>\n",
       "      <td>0.089 +/- 0.026</td>\n",
       "      <td>-28.6 +/- 11.6</td>\n",
       "      <td>705 , 180</td>\n",
       "    </tr>\n",
       "    <tr>\n",
       "      <th>Filtering [1, 2, 3, 4], r2&gt;None, Linear_SVR</th>\n",
       "      <td>0.092 +/- 0.025</td>\n",
       "      <td>-33.2 +/- 16.3</td>\n",
       "      <td>705 , 180</td>\n",
       "    </tr>\n",
       "    <tr>\n",
       "      <th>Filtering [1, 2, 3, 4], r2&gt;0, Poly_KR</th>\n",
       "      <td>0.122 +/- 0.03</td>\n",
       "      <td>-32.7 +/- 10.8</td>\n",
       "      <td>705 , 180</td>\n",
       "    </tr>\n",
       "    <tr>\n",
       "      <th>Filtering [1, 2, 3, 4], r2&gt;0, RBF_SVR</th>\n",
       "      <td>0.089 +/- 0.026</td>\n",
       "      <td>-28.6 +/- 11.6</td>\n",
       "      <td>705 , 180</td>\n",
       "    </tr>\n",
       "    <tr>\n",
       "      <th>Filtering [1, 2, 3, 4], r2&gt;0, Linear_SVR</th>\n",
       "      <td>0.092 +/- 0.025</td>\n",
       "      <td>-33.2 +/- 16.3</td>\n",
       "      <td>705 , 180</td>\n",
       "    </tr>\n",
       "    <tr>\n",
       "      <th>Filtering [1, 2, 3, 4], r2&gt;0.9, Poly_KR</th>\n",
       "      <td>0.12 +/- 0.029</td>\n",
       "      <td>-33.6 +/- 10.4</td>\n",
       "      <td>704 , 180</td>\n",
       "    </tr>\n",
       "    <tr>\n",
       "      <th>Filtering [1, 2, 3, 4], r2&gt;0.9, RBF_SVR</th>\n",
       "      <td>0.091 +/- 0.027</td>\n",
       "      <td>-30.8 +/- 12.1</td>\n",
       "      <td>704 , 180</td>\n",
       "    </tr>\n",
       "    <tr>\n",
       "      <th>Filtering [1, 2, 3, 4], r2&gt;0.9, Linear_SVR</th>\n",
       "      <td>0.096 +/- 0.03</td>\n",
       "      <td>-36.0 +/- 16.7</td>\n",
       "      <td>704 , 180</td>\n",
       "    </tr>\n",
       "  </tbody>\n",
       "</table>\n",
       "</div>"
      ],
      "text/plain": [
       "                                                  mae_coef_1      mre_coef_1  \\\n",
       "Filtering [1, 2, 3], r2>None, Poly_KR        0.132 +/- 0.055  -37.5 +/- 23.6   \n",
       "Filtering [1, 2, 3], r2>None, RBF_SVR        0.086 +/- 0.018   -26.1 +/- 8.1   \n",
       "Filtering [1, 2, 3], r2>None, Linear_SVR     0.097 +/- 0.027  -33.0 +/- 16.2   \n",
       "Filtering [1, 2, 3], r2>0, Poly_KR           0.132 +/- 0.055  -37.5 +/- 23.6   \n",
       "Filtering [1, 2, 3], r2>0, RBF_SVR           0.086 +/- 0.018   -26.1 +/- 8.1   \n",
       "Filtering [1, 2, 3], r2>0, Linear_SVR        0.097 +/- 0.027  -33.0 +/- 16.2   \n",
       "Filtering [1, 2, 3], r2>0.9, Poly_KR         0.124 +/- 0.046  -31.6 +/- 12.9   \n",
       "Filtering [1, 2, 3], r2>0.9, RBF_SVR         0.089 +/- 0.026   -25.9 +/- 8.6   \n",
       "Filtering [1, 2, 3], r2>0.9, Linear_SVR      0.092 +/- 0.025  -28.9 +/- 10.6   \n",
       "Filtering [1, 2, 3, 4], r2>None, Poly_KR      0.122 +/- 0.03  -32.7 +/- 10.8   \n",
       "Filtering [1, 2, 3, 4], r2>None, RBF_SVR     0.089 +/- 0.026  -28.6 +/- 11.6   \n",
       "Filtering [1, 2, 3, 4], r2>None, Linear_SVR  0.092 +/- 0.025  -33.2 +/- 16.3   \n",
       "Filtering [1, 2, 3, 4], r2>0, Poly_KR         0.122 +/- 0.03  -32.7 +/- 10.8   \n",
       "Filtering [1, 2, 3, 4], r2>0, RBF_SVR        0.089 +/- 0.026  -28.6 +/- 11.6   \n",
       "Filtering [1, 2, 3, 4], r2>0, Linear_SVR     0.092 +/- 0.025  -33.2 +/- 16.3   \n",
       "Filtering [1, 2, 3, 4], r2>0.9, Poly_KR       0.12 +/- 0.029  -33.6 +/- 10.4   \n",
       "Filtering [1, 2, 3, 4], r2>0.9, RBF_SVR      0.091 +/- 0.027  -30.8 +/- 12.1   \n",
       "Filtering [1, 2, 3, 4], r2>0.9, Linear_SVR    0.096 +/- 0.03  -36.0 +/- 16.7   \n",
       "\n",
       "                                            train_test_shape  \n",
       "Filtering [1, 2, 3], r2>None, Poly_KR              783 , 202  \n",
       "Filtering [1, 2, 3], r2>None, RBF_SVR              783 , 202  \n",
       "Filtering [1, 2, 3], r2>None, Linear_SVR           783 , 202  \n",
       "Filtering [1, 2, 3], r2>0, Poly_KR                 783 , 202  \n",
       "Filtering [1, 2, 3], r2>0, RBF_SVR                 783 , 202  \n",
       "Filtering [1, 2, 3], r2>0, Linear_SVR              783 , 202  \n",
       "Filtering [1, 2, 3], r2>0.9, Poly_KR               736 , 188  \n",
       "Filtering [1, 2, 3], r2>0.9, RBF_SVR               736 , 188  \n",
       "Filtering [1, 2, 3], r2>0.9, Linear_SVR            736 , 188  \n",
       "Filtering [1, 2, 3, 4], r2>None, Poly_KR           705 , 180  \n",
       "Filtering [1, 2, 3, 4], r2>None, RBF_SVR           705 , 180  \n",
       "Filtering [1, 2, 3, 4], r2>None, Linear_SVR        705 , 180  \n",
       "Filtering [1, 2, 3, 4], r2>0, Poly_KR              705 , 180  \n",
       "Filtering [1, 2, 3, 4], r2>0, RBF_SVR              705 , 180  \n",
       "Filtering [1, 2, 3, 4], r2>0, Linear_SVR           705 , 180  \n",
       "Filtering [1, 2, 3, 4], r2>0.9, Poly_KR            704 , 180  \n",
       "Filtering [1, 2, 3, 4], r2>0.9, RBF_SVR            704 , 180  \n",
       "Filtering [1, 2, 3, 4], r2>0.9, Linear_SVR         704 , 180  "
      ]
     },
     "metadata": {},
     "output_type": "display_data"
    },
    {
     "data": {
      "image/png": "[encoded data removed]",
      "text/plain": [
       "<Figure size 288x216 with 1 Axes>"
      ]
     },
     "metadata": {
      "needs_background": "light"
     },
     "output_type": "display_data"
    },
    {
     "data": {
      "image/png": "[encoded data removed]",
      "text/plain": [
       "<Figure size 288x216 with 1 Axes>"
      ]
     },
     "metadata": {
      "needs_background": "light"
     },
     "output_type": "display_data"
    },
    {
     "data": {
      "image/png": "[encoded data removed]",
      "text/plain": [
       "<Figure size 288x216 with 1 Axes>"
      ]
     },
     "metadata": {
      "needs_background": "light"
     },
     "output_type": "display_data"
    }
   ],
   "source": [
    "fitting_functions = [\"sigmoid_4_param\", \"logistic4\", \"logLogistR\"]\n",
    "filtering_scenarios = [[1,2,3],[1,2,3,4]]\n",
    "r2_restrictions = [None, 0, 0.9]\n",
    "\n",
    "coef=1\n",
    "results_1 = CompareTrainingScenariosModels(coef, models_dict, X_columns, _FOLDER, _FOLDER_2, \n",
    "                                           fitting_functions, filtering_scenarios, r2_restrictions,\n",
    "                                           print_progress_info = False)"
   ]
  },
  {
   "cell_type": "code",
   "execution_count": 6,
   "metadata": {},
   "outputs": [
    {
     "name": "stderr",
     "output_type": "stream",
     "text": [
      "100%|██████████| 2776/2776 [00:07<00:00, 394.46it/s]\n"
     ]
    },
    {
     "name": "stdout",
     "output_type": "stream",
     "text": [
      "sigmoid_4_param Filtering [1, 2, 3], r2>None, Poly_KR\n",
      "\n",
      "MAE: 0.781 +/- 0.947\n",
      "MRE: 36.1 +/- 28.7\n",
      "\n",
      "(781, 1370) (202, 1370)\n"
     ]
    },
    {
     "name": "stderr",
     "output_type": "stream",
     "text": [
      "100%|██████████| 2776/2776 [00:07<00:00, 373.47it/s]\n"
     ]
    },
    {
     "name": "stdout",
     "output_type": "stream",
     "text": [
      "sigmoid_4_param Filtering [1, 2, 3], r2>0, Poly_KR\n",
      "\n",
      "MAE: 0.781 +/- 0.947\n",
      "MRE: 36.1 +/- 28.7\n",
      "\n",
      "(781, 1370) (202, 1370)\n"
     ]
    },
    {
     "name": "stderr",
     "output_type": "stream",
     "text": [
      "100%|██████████| 2776/2776 [00:08<00:00, 325.84it/s]\n"
     ]
    },
    {
     "name": "stdout",
     "output_type": "stream",
     "text": [
      "sigmoid_4_param Filtering [1, 2, 3], r2>0.9, Poly_KR\n",
      "\n",
      "MAE: 0.287 +/- 0.187\n",
      "MRE: 25.9 +/- 18.0\n",
      "\n",
      "(723, 1370) (185, 1370)\n"
     ]
    },
    {
     "name": "stderr",
     "output_type": "stream",
     "text": [
      "100%|██████████| 2600/2600 [00:06<00:00, 411.26it/s]\n"
     ]
    },
    {
     "name": "stdout",
     "output_type": "stream",
     "text": [
      "sigmoid_4_param Filtering [1, 2, 3, 4], r2>None, Poly_KR\n",
      "\n",
      "MAE: 0.696 +/- 0.819\n",
      "MRE: 31.7 +/- 22.5\n",
      "\n",
      "(703, 1370) (180, 1370)\n"
     ]
    },
    {
     "name": "stderr",
     "output_type": "stream",
     "text": [
      "100%|██████████| 2600/2600 [00:06<00:00, 407.25it/s]\n"
     ]
    },
    {
     "name": "stdout",
     "output_type": "stream",
     "text": [
      "sigmoid_4_param Filtering [1, 2, 3, 4], r2>0, Poly_KR\n",
      "\n",
      "MAE: 0.696 +/- 0.819\n",
      "MRE: 31.7 +/- 22.5\n",
      "\n",
      "(703, 1370) (180, 1370)\n"
     ]
    },
    {
     "name": "stderr",
     "output_type": "stream",
     "text": [
      "100%|██████████| 2600/2600 [00:06<00:00, 407.59it/s]\n"
     ]
    },
    {
     "name": "stdout",
     "output_type": "stream",
     "text": [
      "sigmoid_4_param Filtering [1, 2, 3, 4], r2>0.9, Poly_KR\n",
      "\n",
      "MAE: 0.295 +/- 0.191\n",
      "MRE: 26.7 +/- 18.6\n",
      "\n",
      "(691, 1370) (177, 1370)\n"
     ]
    },
    {
     "name": "stderr",
     "output_type": "stream",
     "text": [
      "100%|██████████| 2776/2776 [00:06<00:00, 407.53it/s]\n"
     ]
    },
    {
     "name": "stdout",
     "output_type": "stream",
     "text": [
      "sigmoid_4_param Filtering [1, 2, 3], r2>None, RBF_SVR\n",
      "\n",
      "MAE: 0.47 +/- 0.946\n",
      "MRE: 8.7 +/- 20.6\n",
      "\n",
      "(781, 1370) (202, 1370)\n"
     ]
    },
    {
     "name": "stderr",
     "output_type": "stream",
     "text": [
      "100%|██████████| 2776/2776 [00:06<00:00, 404.23it/s]\n"
     ]
    },
    {
     "name": "stdout",
     "output_type": "stream",
     "text": [
      "sigmoid_4_param Filtering [1, 2, 3], r2>0, RBF_SVR\n",
      "\n",
      "MAE: 0.47 +/- 0.946\n",
      "MRE: 8.7 +/- 20.6\n",
      "\n",
      "(781, 1370) (202, 1370)\n"
     ]
    },
    {
     "name": "stderr",
     "output_type": "stream",
     "text": [
      "100%|██████████| 2776/2776 [00:06<00:00, 404.21it/s]\n"
     ]
    },
    {
     "name": "stdout",
     "output_type": "stream",
     "text": [
      "sigmoid_4_param Filtering [1, 2, 3], r2>0.9, RBF_SVR\n",
      "\n",
      "MAE: 0.097 +/- 0.045\n",
      "MRE: 8.4 +/- 3.3\n",
      "\n",
      "(723, 1370) (185, 1370)\n"
     ]
    },
    {
     "name": "stderr",
     "output_type": "stream",
     "text": [
      "100%|██████████| 2600/2600 [00:06<00:00, 409.90it/s]\n"
     ]
    },
    {
     "name": "stdout",
     "output_type": "stream",
     "text": [
      "sigmoid_4_param Filtering [1, 2, 3, 4], r2>None, RBF_SVR\n",
      "\n",
      "MAE: 0.438 +/- 0.774\n",
      "MRE: 3.6 +/- 11.8\n",
      "\n",
      "(703, 1370) (180, 1370)\n"
     ]
    },
    {
     "name": "stderr",
     "output_type": "stream",
     "text": [
      "100%|██████████| 2600/2600 [00:06<00:00, 409.94it/s]\n"
     ]
    },
    {
     "name": "stdout",
     "output_type": "stream",
     "text": [
      "sigmoid_4_param Filtering [1, 2, 3, 4], r2>0, RBF_SVR\n",
      "\n",
      "MAE: 0.438 +/- 0.774\n",
      "MRE: 3.6 +/- 11.8\n",
      "\n",
      "(703, 1370) (180, 1370)\n"
     ]
    },
    {
     "name": "stderr",
     "output_type": "stream",
     "text": [
      "100%|██████████| 2600/2600 [00:06<00:00, 409.15it/s]\n"
     ]
    },
    {
     "name": "stdout",
     "output_type": "stream",
     "text": [
      "sigmoid_4_param Filtering [1, 2, 3, 4], r2>0.9, RBF_SVR\n",
      "\n",
      "MAE: 0.097 +/- 0.048\n",
      "MRE: 8.3 +/- 3.6\n",
      "\n",
      "(691, 1370) (177, 1370)\n"
     ]
    },
    {
     "name": "stderr",
     "output_type": "stream",
     "text": [
      "100%|██████████| 2776/2776 [00:06<00:00, 403.94it/s]\n"
     ]
    },
    {
     "name": "stdout",
     "output_type": "stream",
     "text": [
      "sigmoid_4_param Filtering [1, 2, 3], r2>None, Linear_SVR\n",
      "\n",
      "MAE: 1.261 +/- 1.716\n",
      "MRE: 97.6 +/- 134.3\n",
      "\n",
      "(781, 1370) (202, 1370)\n"
     ]
    },
    {
     "name": "stderr",
     "output_type": "stream",
     "text": [
      "100%|██████████| 2776/2776 [00:06<00:00, 410.33it/s]\n"
     ]
    },
    {
     "name": "stdout",
     "output_type": "stream",
     "text": [
      "sigmoid_4_param Filtering [1, 2, 3], r2>0, Linear_SVR\n",
      "\n",
      "MAE: 1.261 +/- 1.716\n",
      "MRE: 97.6 +/- 134.3\n",
      "\n",
      "(781, 1370) (202, 1370)\n"
     ]
    },
    {
     "name": "stderr",
     "output_type": "stream",
     "text": [
      "100%|██████████| 2776/2776 [00:06<00:00, 398.16it/s]\n"
     ]
    },
    {
     "name": "stdout",
     "output_type": "stream",
     "text": [
      "sigmoid_4_param Filtering [1, 2, 3], r2>0.9, Linear_SVR\n",
      "\n",
      "MAE: 0.139 +/- 0.058\n",
      "MRE: 13.0 +/- 5.7\n",
      "\n",
      "(723, 1370) (185, 1370)\n"
     ]
    },
    {
     "name": "stderr",
     "output_type": "stream",
     "text": [
      "100%|██████████| 2600/2600 [00:07<00:00, 357.93it/s]\n"
     ]
    },
    {
     "name": "stdout",
     "output_type": "stream",
     "text": [
      "sigmoid_4_param Filtering [1, 2, 3, 4], r2>None, Linear_SVR\n",
      "\n",
      "MAE: 1.283 +/- 1.747\n",
      "MRE: 99.4 +/- 152.1\n",
      "\n",
      "(703, 1370) (180, 1370)\n"
     ]
    },
    {
     "name": "stderr",
     "output_type": "stream",
     "text": [
      "100%|██████████| 2600/2600 [00:06<00:00, 410.75it/s]\n"
     ]
    },
    {
     "name": "stdout",
     "output_type": "stream",
     "text": [
      "sigmoid_4_param Filtering [1, 2, 3, 4], r2>0, Linear_SVR\n",
      "\n",
      "MAE: 1.283 +/- 1.747\n",
      "MRE: 99.4 +/- 152.1\n",
      "\n",
      "(703, 1370) (180, 1370)\n"
     ]
    },
    {
     "name": "stderr",
     "output_type": "stream",
     "text": [
      "100%|██████████| 2600/2600 [00:06<00:00, 415.89it/s]\n"
     ]
    },
    {
     "name": "stdout",
     "output_type": "stream",
     "text": [
      "sigmoid_4_param Filtering [1, 2, 3, 4], r2>0.9, Linear_SVR\n",
      "\n",
      "MAE: 0.128 +/- 0.065\n",
      "MRE: 11.6 +/- 5.8\n",
      "\n",
      "(691, 1370) (177, 1370)\n",
      "\n",
      " sigmoid_4_param\n"
     ]
    },
    {
     "data": {
      "text/html": [
       "<div>\n",
       "<style scoped>\n",
       "    .dataframe tbody tr th:only-of-type {\n",
       "        vertical-align: middle;\n",
       "    }\n",
       "\n",
       "    .dataframe tbody tr th {\n",
       "        vertical-align: top;\n",
       "    }\n",
       "\n",
       "    .dataframe thead th {\n",
       "        text-align: right;\n",
       "    }\n",
       "</style>\n",
       "<table border=\"1\" class=\"dataframe\">\n",
       "  <thead>\n",
       "    <tr style=\"text-align: right;\">\n",
       "      <th></th>\n",
       "      <th>mae_coef_2</th>\n",
       "      <th>mre_coef_2</th>\n",
       "      <th>train_test_shape</th>\n",
       "    </tr>\n",
       "  </thead>\n",
       "  <tbody>\n",
       "    <tr>\n",
       "      <th>Filtering [1, 2, 3], r2&gt;None, Poly_KR</th>\n",
       "      <td>0.781 +/- 0.947</td>\n",
       "      <td>36.1 +/- 28.7</td>\n",
       "      <td>781 , 202</td>\n",
       "    </tr>\n",
       "    <tr>\n",
       "      <th>Filtering [1, 2, 3], r2&gt;None, RBF_SVR</th>\n",
       "      <td>0.47 +/- 0.946</td>\n",
       "      <td>8.7 +/- 20.6</td>\n",
       "      <td>781 , 202</td>\n",
       "    </tr>\n",
       "    <tr>\n",
       "      <th>Filtering [1, 2, 3], r2&gt;None, Linear_SVR</th>\n",
       "      <td>1.261 +/- 1.716</td>\n",
       "      <td>97.6 +/- 134.3</td>\n",
       "      <td>781 , 202</td>\n",
       "    </tr>\n",
       "    <tr>\n",
       "      <th>Filtering [1, 2, 3], r2&gt;0, Poly_KR</th>\n",
       "      <td>0.781 +/- 0.947</td>\n",
       "      <td>36.1 +/- 28.7</td>\n",
       "      <td>781 , 202</td>\n",
       "    </tr>\n",
       "    <tr>\n",
       "      <th>Filtering [1, 2, 3], r2&gt;0, RBF_SVR</th>\n",
       "      <td>0.47 +/- 0.946</td>\n",
       "      <td>8.7 +/- 20.6</td>\n",
       "      <td>781 , 202</td>\n",
       "    </tr>\n",
       "    <tr>\n",
       "      <th>Filtering [1, 2, 3], r2&gt;0, Linear_SVR</th>\n",
       "      <td>1.261 +/- 1.716</td>\n",
       "      <td>97.6 +/- 134.3</td>\n",
       "      <td>781 , 202</td>\n",
       "    </tr>\n",
       "    <tr>\n",
       "      <th>Filtering [1, 2, 3], r2&gt;0.9, Poly_KR</th>\n",
       "      <td>0.287 +/- 0.187</td>\n",
       "      <td>25.9 +/- 18.0</td>\n",
       "      <td>723 , 185</td>\n",
       "    </tr>\n",
       "    <tr>\n",
       "      <th>Filtering [1, 2, 3], r2&gt;0.9, RBF_SVR</th>\n",
       "      <td>0.097 +/- 0.045</td>\n",
       "      <td>8.4 +/- 3.3</td>\n",
       "      <td>723 , 185</td>\n",
       "    </tr>\n",
       "    <tr>\n",
       "      <th>Filtering [1, 2, 3], r2&gt;0.9, Linear_SVR</th>\n",
       "      <td>0.139 +/- 0.058</td>\n",
       "      <td>13.0 +/- 5.7</td>\n",
       "      <td>723 , 185</td>\n",
       "    </tr>\n",
       "    <tr>\n",
       "      <th>Filtering [1, 2, 3, 4], r2&gt;None, Poly_KR</th>\n",
       "      <td>0.696 +/- 0.819</td>\n",
       "      <td>31.7 +/- 22.5</td>\n",
       "      <td>703 , 180</td>\n",
       "    </tr>\n",
       "    <tr>\n",
       "      <th>Filtering [1, 2, 3, 4], r2&gt;None, RBF_SVR</th>\n",
       "      <td>0.438 +/- 0.774</td>\n",
       "      <td>3.6 +/- 11.8</td>\n",
       "      <td>703 , 180</td>\n",
       "    </tr>\n",
       "    <tr>\n",
       "      <th>Filtering [1, 2, 3, 4], r2&gt;None, Linear_SVR</th>\n",
       "      <td>1.283 +/- 1.747</td>\n",
       "      <td>99.4 +/- 152.1</td>\n",
       "      <td>703 , 180</td>\n",
       "    </tr>\n",
       "    <tr>\n",
       "      <th>Filtering [1, 2, 3, 4], r2&gt;0, Poly_KR</th>\n",
       "      <td>0.696 +/- 0.819</td>\n",
       "      <td>31.7 +/- 22.5</td>\n",
       "      <td>703 , 180</td>\n",
       "    </tr>\n",
       "    <tr>\n",
       "      <th>Filtering [1, 2, 3, 4], r2&gt;0, RBF_SVR</th>\n",
       "      <td>0.438 +/- 0.774</td>\n",
       "      <td>3.6 +/- 11.8</td>\n",
       "      <td>703 , 180</td>\n",
       "    </tr>\n",
       "    <tr>\n",
       "      <th>Filtering [1, 2, 3, 4], r2&gt;0, Linear_SVR</th>\n",
       "      <td>1.283 +/- 1.747</td>\n",
       "      <td>99.4 +/- 152.1</td>\n",
       "      <td>703 , 180</td>\n",
       "    </tr>\n",
       "    <tr>\n",
       "      <th>Filtering [1, 2, 3, 4], r2&gt;0.9, Poly_KR</th>\n",
       "      <td>0.295 +/- 0.191</td>\n",
       "      <td>26.7 +/- 18.6</td>\n",
       "      <td>691 , 177</td>\n",
       "    </tr>\n",
       "    <tr>\n",
       "      <th>Filtering [1, 2, 3, 4], r2&gt;0.9, RBF_SVR</th>\n",
       "      <td>0.097 +/- 0.048</td>\n",
       "      <td>8.3 +/- 3.6</td>\n",
       "      <td>691 , 177</td>\n",
       "    </tr>\n",
       "    <tr>\n",
       "      <th>Filtering [1, 2, 3, 4], r2&gt;0.9, Linear_SVR</th>\n",
       "      <td>0.128 +/- 0.065</td>\n",
       "      <td>11.6 +/- 5.8</td>\n",
       "      <td>691 , 177</td>\n",
       "    </tr>\n",
       "  </tbody>\n",
       "</table>\n",
       "</div>"
      ],
      "text/plain": [
       "                                                  mae_coef_2      mre_coef_2  \\\n",
       "Filtering [1, 2, 3], r2>None, Poly_KR        0.781 +/- 0.947   36.1 +/- 28.7   \n",
       "Filtering [1, 2, 3], r2>None, RBF_SVR         0.47 +/- 0.946    8.7 +/- 20.6   \n",
       "Filtering [1, 2, 3], r2>None, Linear_SVR     1.261 +/- 1.716  97.6 +/- 134.3   \n",
       "Filtering [1, 2, 3], r2>0, Poly_KR           0.781 +/- 0.947   36.1 +/- 28.7   \n",
       "Filtering [1, 2, 3], r2>0, RBF_SVR            0.47 +/- 0.946    8.7 +/- 20.6   \n",
       "Filtering [1, 2, 3], r2>0, Linear_SVR        1.261 +/- 1.716  97.6 +/- 134.3   \n",
       "Filtering [1, 2, 3], r2>0.9, Poly_KR         0.287 +/- 0.187   25.9 +/- 18.0   \n",
       "Filtering [1, 2, 3], r2>0.9, RBF_SVR         0.097 +/- 0.045     8.4 +/- 3.3   \n",
       "Filtering [1, 2, 3], r2>0.9, Linear_SVR      0.139 +/- 0.058    13.0 +/- 5.7   \n",
       "Filtering [1, 2, 3, 4], r2>None, Poly_KR     0.696 +/- 0.819   31.7 +/- 22.5   \n",
       "Filtering [1, 2, 3, 4], r2>None, RBF_SVR     0.438 +/- 0.774    3.6 +/- 11.8   \n",
       "Filtering [1, 2, 3, 4], r2>None, Linear_SVR  1.283 +/- 1.747  99.4 +/- 152.1   \n",
       "Filtering [1, 2, 3, 4], r2>0, Poly_KR        0.696 +/- 0.819   31.7 +/- 22.5   \n",
       "Filtering [1, 2, 3, 4], r2>0, RBF_SVR        0.438 +/- 0.774    3.6 +/- 11.8   \n",
       "Filtering [1, 2, 3, 4], r2>0, Linear_SVR     1.283 +/- 1.747  99.4 +/- 152.1   \n",
       "Filtering [1, 2, 3, 4], r2>0.9, Poly_KR      0.295 +/- 0.191   26.7 +/- 18.6   \n",
       "Filtering [1, 2, 3, 4], r2>0.9, RBF_SVR      0.097 +/- 0.048     8.3 +/- 3.6   \n",
       "Filtering [1, 2, 3, 4], r2>0.9, Linear_SVR   0.128 +/- 0.065    11.6 +/- 5.8   \n",
       "\n",
       "                                            train_test_shape  \n",
       "Filtering [1, 2, 3], r2>None, Poly_KR              781 , 202  \n",
       "Filtering [1, 2, 3], r2>None, RBF_SVR              781 , 202  \n",
       "Filtering [1, 2, 3], r2>None, Linear_SVR           781 , 202  \n",
       "Filtering [1, 2, 3], r2>0, Poly_KR                 781 , 202  \n",
       "Filtering [1, 2, 3], r2>0, RBF_SVR                 781 , 202  \n",
       "Filtering [1, 2, 3], r2>0, Linear_SVR              781 , 202  \n",
       "Filtering [1, 2, 3], r2>0.9, Poly_KR               723 , 185  \n",
       "Filtering [1, 2, 3], r2>0.9, RBF_SVR               723 , 185  \n",
       "Filtering [1, 2, 3], r2>0.9, Linear_SVR            723 , 185  \n",
       "Filtering [1, 2, 3, 4], r2>None, Poly_KR           703 , 180  \n",
       "Filtering [1, 2, 3, 4], r2>None, RBF_SVR           703 , 180  \n",
       "Filtering [1, 2, 3, 4], r2>None, Linear_SVR        703 , 180  \n",
       "Filtering [1, 2, 3, 4], r2>0, Poly_KR              703 , 180  \n",
       "Filtering [1, 2, 3, 4], r2>0, RBF_SVR              703 , 180  \n",
       "Filtering [1, 2, 3, 4], r2>0, Linear_SVR           703 , 180  \n",
       "Filtering [1, 2, 3, 4], r2>0.9, Poly_KR            691 , 177  \n",
       "Filtering [1, 2, 3, 4], r2>0.9, RBF_SVR            691 , 177  \n",
       "Filtering [1, 2, 3, 4], r2>0.9, Linear_SVR         691 , 177  "
      ]
     },
     "metadata": {},
     "output_type": "display_data"
    },
    {
     "name": "stderr",
     "output_type": "stream",
     "text": [
      "100%|██████████| 2776/2776 [00:07<00:00, 394.65it/s]\n"
     ]
    },
    {
     "name": "stdout",
     "output_type": "stream",
     "text": [
      "logistic4 Filtering [1, 2, 3], r2>None, Poly_KR\n",
      "\n",
      "MAE: 6.99 +/- 4.835\n",
      "MRE: 64.2 +/- 24.2\n",
      "\n",
      "(783, 1370) (202, 1370)\n"
     ]
    },
    {
     "name": "stderr",
     "output_type": "stream",
     "text": [
      "100%|██████████| 2776/2776 [00:06<00:00, 403.47it/s]\n"
     ]
    },
    {
     "name": "stdout",
     "output_type": "stream",
     "text": [
      "logistic4 Filtering [1, 2, 3], r2>0, Poly_KR\n",
      "\n",
      "MAE: 6.99 +/- 4.835\n",
      "MRE: 64.2 +/- 24.2\n",
      "\n",
      "(783, 1370) (202, 1370)\n"
     ]
    },
    {
     "name": "stderr",
     "output_type": "stream",
     "text": [
      "100%|██████████| 2776/2776 [00:06<00:00, 401.33it/s]\n"
     ]
    },
    {
     "name": "stdout",
     "output_type": "stream",
     "text": [
      "logistic4 Filtering [1, 2, 3], r2>0.9, Poly_KR\n",
      "\n",
      "MAE: 5.499 +/- 3.664\n",
      "MRE: 59.4 +/- 20.3\n",
      "\n",
      "(736, 1370) (189, 1370)\n"
     ]
    },
    {
     "name": "stderr",
     "output_type": "stream",
     "text": [
      "100%|██████████| 2600/2600 [00:06<00:00, 405.18it/s]\n"
     ]
    },
    {
     "name": "stdout",
     "output_type": "stream",
     "text": [
      "logistic4 Filtering [1, 2, 3, 4], r2>None, Poly_KR\n",
      "\n",
      "MAE: 5.52 +/- 2.527\n",
      "MRE: 50.9 +/- 17.5\n",
      "\n",
      "(705, 1370) (180, 1370)\n"
     ]
    },
    {
     "name": "stderr",
     "output_type": "stream",
     "text": [
      "100%|██████████| 2600/2600 [00:06<00:00, 402.82it/s]\n"
     ]
    },
    {
     "name": "stdout",
     "output_type": "stream",
     "text": [
      "logistic4 Filtering [1, 2, 3, 4], r2>0, Poly_KR\n",
      "\n",
      "MAE: 5.52 +/- 2.527\n",
      "MRE: 50.9 +/- 17.5\n",
      "\n",
      "(705, 1370) (180, 1370)\n"
     ]
    },
    {
     "name": "stderr",
     "output_type": "stream",
     "text": [
      "100%|██████████| 2600/2600 [00:06<00:00, 399.37it/s]\n"
     ]
    },
    {
     "name": "stdout",
     "output_type": "stream",
     "text": [
      "logistic4 Filtering [1, 2, 3, 4], r2>0.9, Poly_KR\n",
      "\n",
      "MAE: 5.52 +/- 2.561\n",
      "MRE: 50.7 +/- 17.6\n",
      "\n",
      "(704, 1370) (180, 1370)\n"
     ]
    },
    {
     "name": "stderr",
     "output_type": "stream",
     "text": [
      "100%|██████████| 2776/2776 [00:06<00:00, 402.82it/s]\n"
     ]
    },
    {
     "name": "stdout",
     "output_type": "stream",
     "text": [
      "logistic4 Filtering [1, 2, 3], r2>None, RBF_SVR\n",
      "\n",
      "MAE: 5.978 +/- 3.864\n",
      "MRE: 52.9 +/- 17.2\n",
      "\n",
      "(783, 1370) (202, 1370)\n"
     ]
    },
    {
     "name": "stderr",
     "output_type": "stream",
     "text": [
      "100%|██████████| 2776/2776 [00:06<00:00, 398.34it/s]\n"
     ]
    },
    {
     "name": "stdout",
     "output_type": "stream",
     "text": [
      "logistic4 Filtering [1, 2, 3], r2>0, RBF_SVR\n",
      "\n",
      "MAE: 5.978 +/- 3.864\n",
      "MRE: 52.9 +/- 17.2\n",
      "\n",
      "(783, 1370) (202, 1370)\n"
     ]
    },
    {
     "name": "stderr",
     "output_type": "stream",
     "text": [
      "100%|██████████| 2776/2776 [00:06<00:00, 401.14it/s]\n"
     ]
    },
    {
     "name": "stdout",
     "output_type": "stream",
     "text": [
      "logistic4 Filtering [1, 2, 3], r2>0.9, RBF_SVR\n",
      "\n",
      "MAE: 4.943 +/- 3.428\n",
      "MRE: 49.4 +/- 12.3\n",
      "\n",
      "(736, 1370) (189, 1370)\n"
     ]
    },
    {
     "name": "stderr",
     "output_type": "stream",
     "text": [
      "100%|██████████| 2600/2600 [00:06<00:00, 405.63it/s]\n"
     ]
    },
    {
     "name": "stdout",
     "output_type": "stream",
     "text": [
      "logistic4 Filtering [1, 2, 3, 4], r2>None, RBF_SVR\n",
      "\n",
      "MAE: 4.767 +/- 2.402\n",
      "MRE: 41.7 +/- 7.5\n",
      "\n",
      "(705, 1370) (180, 1370)\n"
     ]
    },
    {
     "name": "stderr",
     "output_type": "stream",
     "text": [
      "100%|██████████| 2600/2600 [00:06<00:00, 405.74it/s]\n"
     ]
    },
    {
     "name": "stdout",
     "output_type": "stream",
     "text": [
      "logistic4 Filtering [1, 2, 3, 4], r2>0, RBF_SVR\n",
      "\n",
      "MAE: 4.767 +/- 2.402\n",
      "MRE: 41.7 +/- 7.5\n",
      "\n",
      "(705, 1370) (180, 1370)\n"
     ]
    },
    {
     "name": "stderr",
     "output_type": "stream",
     "text": [
      "100%|██████████| 2600/2600 [00:06<00:00, 404.17it/s]\n"
     ]
    },
    {
     "name": "stdout",
     "output_type": "stream",
     "text": [
      "logistic4 Filtering [1, 2, 3, 4], r2>0.9, RBF_SVR\n",
      "\n",
      "MAE: 4.728 +/- 2.385\n",
      "MRE: 41.1 +/- 6.9\n",
      "\n",
      "(704, 1370) (180, 1370)\n"
     ]
    },
    {
     "name": "stderr",
     "output_type": "stream",
     "text": [
      "100%|██████████| 2776/2776 [00:06<00:00, 400.28it/s]\n"
     ]
    },
    {
     "name": "stdout",
     "output_type": "stream",
     "text": [
      "logistic4 Filtering [1, 2, 3], r2>None, Linear_SVR\n",
      "\n",
      "MAE: 5.889 +/- 3.83\n",
      "MRE: 57.0 +/- 21.0\n",
      "\n",
      "(783, 1370) (202, 1370)\n"
     ]
    },
    {
     "name": "stderr",
     "output_type": "stream",
     "text": [
      "100%|██████████| 2776/2776 [00:06<00:00, 397.83it/s]\n"
     ]
    },
    {
     "name": "stdout",
     "output_type": "stream",
     "text": [
      "logistic4 Filtering [1, 2, 3], r2>0, Linear_SVR\n",
      "\n",
      "MAE: 5.889 +/- 3.83\n",
      "MRE: 57.0 +/- 21.0\n",
      "\n",
      "(783, 1370) (202, 1370)\n"
     ]
    },
    {
     "name": "stderr",
     "output_type": "stream",
     "text": [
      "100%|██████████| 2776/2776 [00:06<00:00, 397.76it/s]\n"
     ]
    },
    {
     "name": "stdout",
     "output_type": "stream",
     "text": [
      "logistic4 Filtering [1, 2, 3], r2>0.9, Linear_SVR\n",
      "\n",
      "MAE: 4.891 +/- 3.344\n",
      "MRE: 54.7 +/- 20.7\n",
      "\n",
      "(736, 1370) (189, 1370)\n"
     ]
    },
    {
     "name": "stderr",
     "output_type": "stream",
     "text": [
      "100%|██████████| 2600/2600 [00:06<00:00, 408.36it/s]\n"
     ]
    },
    {
     "name": "stdout",
     "output_type": "stream",
     "text": [
      "logistic4 Filtering [1, 2, 3, 4], r2>None, Linear_SVR\n",
      "\n",
      "MAE: 4.925 +/- 2.212\n",
      "MRE: 47.8 +/- 14.7\n",
      "\n",
      "(705, 1370) (180, 1370)\n"
     ]
    },
    {
     "name": "stderr",
     "output_type": "stream",
     "text": [
      "100%|██████████| 2600/2600 [00:08<00:00, 299.35it/s]\n"
     ]
    },
    {
     "name": "stdout",
     "output_type": "stream",
     "text": [
      "logistic4 Filtering [1, 2, 3, 4], r2>0, Linear_SVR\n",
      "\n",
      "MAE: 4.925 +/- 2.212\n",
      "MRE: 47.8 +/- 14.7\n",
      "\n",
      "(705, 1370) (180, 1370)\n"
     ]
    },
    {
     "name": "stderr",
     "output_type": "stream",
     "text": [
      "100%|██████████| 2600/2600 [00:09<00:00, 267.85it/s]\n"
     ]
    },
    {
     "name": "stdout",
     "output_type": "stream",
     "text": [
      "logistic4 Filtering [1, 2, 3, 4], r2>0.9, Linear_SVR\n",
      "\n",
      "MAE: 4.877 +/- 2.184\n",
      "MRE: 47.2 +/- 14.4\n",
      "\n",
      "(704, 1370) (180, 1370)\n",
      "\n",
      " logistic4\n"
     ]
    },
    {
     "data": {
      "text/html": [
       "<div>\n",
       "<style scoped>\n",
       "    .dataframe tbody tr th:only-of-type {\n",
       "        vertical-align: middle;\n",
       "    }\n",
       "\n",
       "    .dataframe tbody tr th {\n",
       "        vertical-align: top;\n",
       "    }\n",
       "\n",
       "    .dataframe thead th {\n",
       "        text-align: right;\n",
       "    }\n",
       "</style>\n",
       "<table border=\"1\" class=\"dataframe\">\n",
       "  <thead>\n",
       "    <tr style=\"text-align: right;\">\n",
       "      <th></th>\n",
       "      <th>mae_coef_2</th>\n",
       "      <th>mre_coef_2</th>\n",
       "      <th>train_test_shape</th>\n",
       "    </tr>\n",
       "  </thead>\n",
       "  <tbody>\n",
       "    <tr>\n",
       "      <th>Filtering [1, 2, 3], r2&gt;None, Poly_KR</th>\n",
       "      <td>6.99 +/- 4.835</td>\n",
       "      <td>64.2 +/- 24.2</td>\n",
       "      <td>783 , 202</td>\n",
       "    </tr>\n",
       "    <tr>\n",
       "      <th>Filtering [1, 2, 3], r2&gt;None, RBF_SVR</th>\n",
       "      <td>5.978 +/- 3.864</td>\n",
       "      <td>52.9 +/- 17.2</td>\n",
       "      <td>783 , 202</td>\n",
       "    </tr>\n",
       "    <tr>\n",
       "      <th>Filtering [1, 2, 3], r2&gt;None, Linear_SVR</th>\n",
       "      <td>5.889 +/- 3.83</td>\n",
       "      <td>57.0 +/- 21.0</td>\n",
       "      <td>783 , 202</td>\n",
       "    </tr>\n",
       "    <tr>\n",
       "      <th>Filtering [1, 2, 3], r2&gt;0, Poly_KR</th>\n",
       "      <td>6.99 +/- 4.835</td>\n",
       "      <td>64.2 +/- 24.2</td>\n",
       "      <td>783 , 202</td>\n",
       "    </tr>\n",
       "    <tr>\n",
       "      <th>Filtering [1, 2, 3], r2&gt;0, RBF_SVR</th>\n",
       "      <td>5.978 +/- 3.864</td>\n",
       "      <td>52.9 +/- 17.2</td>\n",
       "      <td>783 , 202</td>\n",
       "    </tr>\n",
       "    <tr>\n",
       "      <th>Filtering [1, 2, 3], r2&gt;0, Linear_SVR</th>\n",
       "      <td>5.889 +/- 3.83</td>\n",
       "      <td>57.0 +/- 21.0</td>\n",
       "      <td>783 , 202</td>\n",
       "    </tr>\n",
       "    <tr>\n",
       "      <th>Filtering [1, 2, 3], r2&gt;0.9, Poly_KR</th>\n",
       "      <td>5.499 +/- 3.664</td>\n",
       "      <td>59.4 +/- 20.3</td>\n",
       "      <td>736 , 189</td>\n",
       "    </tr>\n",
       "    <tr>\n",
       "      <th>Filtering [1, 2, 3], r2&gt;0.9, RBF_SVR</th>\n",
       "      <td>4.943 +/- 3.428</td>\n",
       "      <td>49.4 +/- 12.3</td>\n",
       "      <td>736 , 189</td>\n",
       "    </tr>\n",
       "    <tr>\n",
       "      <th>Filtering [1, 2, 3], r2&gt;0.9, Linear_SVR</th>\n",
       "      <td>4.891 +/- 3.344</td>\n",
       "      <td>54.7 +/- 20.7</td>\n",
       "      <td>736 , 189</td>\n",
       "    </tr>\n",
       "    <tr>\n",
       "      <th>Filtering [1, 2, 3, 4], r2&gt;None, Poly_KR</th>\n",
       "      <td>5.52 +/- 2.527</td>\n",
       "      <td>50.9 +/- 17.5</td>\n",
       "      <td>705 , 180</td>\n",
       "    </tr>\n",
       "    <tr>\n",
       "      <th>Filtering [1, 2, 3, 4], r2&gt;None, RBF_SVR</th>\n",
       "      <td>4.767 +/- 2.402</td>\n",
       "      <td>41.7 +/- 7.5</td>\n",
       "      <td>705 , 180</td>\n",
       "    </tr>\n",
       "    <tr>\n",
       "      <th>Filtering [1, 2, 3, 4], r2&gt;None, Linear_SVR</th>\n",
       "      <td>4.925 +/- 2.212</td>\n",
       "      <td>47.8 +/- 14.7</td>\n",
       "      <td>705 , 180</td>\n",
       "    </tr>\n",
       "    <tr>\n",
       "      <th>Filtering [1, 2, 3, 4], r2&gt;0, Poly_KR</th>\n",
       "      <td>5.52 +/- 2.527</td>\n",
       "      <td>50.9 +/- 17.5</td>\n",
       "      <td>705 , 180</td>\n",
       "    </tr>\n",
       "    <tr>\n",
       "      <th>Filtering [1, 2, 3, 4], r2&gt;0, RBF_SVR</th>\n",
       "      <td>4.767 +/- 2.402</td>\n",
       "      <td>41.7 +/- 7.5</td>\n",
       "      <td>705 , 180</td>\n",
       "    </tr>\n",
       "    <tr>\n",
       "      <th>Filtering [1, 2, 3, 4], r2&gt;0, Linear_SVR</th>\n",
       "      <td>4.925 +/- 2.212</td>\n",
       "      <td>47.8 +/- 14.7</td>\n",
       "      <td>705 , 180</td>\n",
       "    </tr>\n",
       "    <tr>\n",
       "      <th>Filtering [1, 2, 3, 4], r2&gt;0.9, Poly_KR</th>\n",
       "      <td>5.52 +/- 2.561</td>\n",
       "      <td>50.7 +/- 17.6</td>\n",
       "      <td>704 , 180</td>\n",
       "    </tr>\n",
       "    <tr>\n",
       "      <th>Filtering [1, 2, 3, 4], r2&gt;0.9, RBF_SVR</th>\n",
       "      <td>4.728 +/- 2.385</td>\n",
       "      <td>41.1 +/- 6.9</td>\n",
       "      <td>704 , 180</td>\n",
       "    </tr>\n",
       "    <tr>\n",
       "      <th>Filtering [1, 2, 3, 4], r2&gt;0.9, Linear_SVR</th>\n",
       "      <td>4.877 +/- 2.184</td>\n",
       "      <td>47.2 +/- 14.4</td>\n",
       "      <td>704 , 180</td>\n",
       "    </tr>\n",
       "  </tbody>\n",
       "</table>\n",
       "</div>"
      ],
      "text/plain": [
       "                                                  mae_coef_2     mre_coef_2  \\\n",
       "Filtering [1, 2, 3], r2>None, Poly_KR         6.99 +/- 4.835  64.2 +/- 24.2   \n",
       "Filtering [1, 2, 3], r2>None, RBF_SVR        5.978 +/- 3.864  52.9 +/- 17.2   \n",
       "Filtering [1, 2, 3], r2>None, Linear_SVR      5.889 +/- 3.83  57.0 +/- 21.0   \n",
       "Filtering [1, 2, 3], r2>0, Poly_KR            6.99 +/- 4.835  64.2 +/- 24.2   \n",
       "Filtering [1, 2, 3], r2>0, RBF_SVR           5.978 +/- 3.864  52.9 +/- 17.2   \n",
       "Filtering [1, 2, 3], r2>0, Linear_SVR         5.889 +/- 3.83  57.0 +/- 21.0   \n",
       "Filtering [1, 2, 3], r2>0.9, Poly_KR         5.499 +/- 3.664  59.4 +/- 20.3   \n",
       "Filtering [1, 2, 3], r2>0.9, RBF_SVR         4.943 +/- 3.428  49.4 +/- 12.3   \n",
       "Filtering [1, 2, 3], r2>0.9, Linear_SVR      4.891 +/- 3.344  54.7 +/- 20.7   \n",
       "Filtering [1, 2, 3, 4], r2>None, Poly_KR      5.52 +/- 2.527  50.9 +/- 17.5   \n",
       "Filtering [1, 2, 3, 4], r2>None, RBF_SVR     4.767 +/- 2.402   41.7 +/- 7.5   \n",
       "Filtering [1, 2, 3, 4], r2>None, Linear_SVR  4.925 +/- 2.212  47.8 +/- 14.7   \n",
       "Filtering [1, 2, 3, 4], r2>0, Poly_KR         5.52 +/- 2.527  50.9 +/- 17.5   \n",
       "Filtering [1, 2, 3, 4], r2>0, RBF_SVR        4.767 +/- 2.402   41.7 +/- 7.5   \n",
       "Filtering [1, 2, 3, 4], r2>0, Linear_SVR     4.925 +/- 2.212  47.8 +/- 14.7   \n",
       "Filtering [1, 2, 3, 4], r2>0.9, Poly_KR       5.52 +/- 2.561  50.7 +/- 17.6   \n",
       "Filtering [1, 2, 3, 4], r2>0.9, RBF_SVR      4.728 +/- 2.385   41.1 +/- 6.9   \n",
       "Filtering [1, 2, 3, 4], r2>0.9, Linear_SVR   4.877 +/- 2.184  47.2 +/- 14.4   \n",
       "\n",
       "                                            train_test_shape  \n",
       "Filtering [1, 2, 3], r2>None, Poly_KR              783 , 202  \n",
       "Filtering [1, 2, 3], r2>None, RBF_SVR              783 , 202  \n",
       "Filtering [1, 2, 3], r2>None, Linear_SVR           783 , 202  \n",
       "Filtering [1, 2, 3], r2>0, Poly_KR                 783 , 202  \n",
       "Filtering [1, 2, 3], r2>0, RBF_SVR                 783 , 202  \n",
       "Filtering [1, 2, 3], r2>0, Linear_SVR              783 , 202  \n",
       "Filtering [1, 2, 3], r2>0.9, Poly_KR               736 , 189  \n",
       "Filtering [1, 2, 3], r2>0.9, RBF_SVR               736 , 189  \n",
       "Filtering [1, 2, 3], r2>0.9, Linear_SVR            736 , 189  \n",
       "Filtering [1, 2, 3, 4], r2>None, Poly_KR           705 , 180  \n",
       "Filtering [1, 2, 3, 4], r2>None, RBF_SVR           705 , 180  \n",
       "Filtering [1, 2, 3, 4], r2>None, Linear_SVR        705 , 180  \n",
       "Filtering [1, 2, 3, 4], r2>0, Poly_KR              705 , 180  \n",
       "Filtering [1, 2, 3, 4], r2>0, RBF_SVR              705 , 180  \n",
       "Filtering [1, 2, 3, 4], r2>0, Linear_SVR           705 , 180  \n",
       "Filtering [1, 2, 3, 4], r2>0.9, Poly_KR            704 , 180  \n",
       "Filtering [1, 2, 3, 4], r2>0.9, RBF_SVR            704 , 180  \n",
       "Filtering [1, 2, 3, 4], r2>0.9, Linear_SVR         704 , 180  "
      ]
     },
     "metadata": {},
     "output_type": "display_data"
    },
    {
     "name": "stderr",
     "output_type": "stream",
     "text": [
      "100%|██████████| 2776/2776 [00:14<00:00, 198.27it/s]\n"
     ]
    },
    {
     "name": "stdout",
     "output_type": "stream",
     "text": [
      "logLogistR Filtering [1, 2, 3], r2>None, Poly_KR\n",
      "\n",
      "MAE: 2.982 +/- 1.513\n",
      "MRE: -48.8 +/- 19.9\n",
      "\n",
      "(783, 1369) (202, 1369)\n"
     ]
    },
    {
     "name": "stderr",
     "output_type": "stream",
     "text": [
      "100%|██████████| 2776/2776 [00:11<00:00, 243.23it/s]\n"
     ]
    },
    {
     "name": "stdout",
     "output_type": "stream",
     "text": [
      "logLogistR Filtering [1, 2, 3], r2>0, Poly_KR\n",
      "\n",
      "MAE: 2.982 +/- 1.513\n",
      "MRE: -48.8 +/- 19.9\n",
      "\n",
      "(783, 1369) (202, 1369)\n"
     ]
    },
    {
     "name": "stderr",
     "output_type": "stream",
     "text": [
      "100%|██████████| 2776/2776 [00:07<00:00, 361.25it/s]\n"
     ]
    },
    {
     "name": "stdout",
     "output_type": "stream",
     "text": [
      "logLogistR Filtering [1, 2, 3], r2>0.9, Poly_KR\n",
      "\n",
      "MAE: 2.715 +/- 1.184\n",
      "MRE: -41.8 +/- 11.0\n",
      "\n",
      "(736, 1369) (188, 1369)\n"
     ]
    },
    {
     "name": "stderr",
     "output_type": "stream",
     "text": [
      "100%|██████████| 2600/2600 [00:07<00:00, 369.50it/s]\n"
     ]
    },
    {
     "name": "stdout",
     "output_type": "stream",
     "text": [
      "logLogistR Filtering [1, 2, 3, 4], r2>None, Poly_KR\n",
      "\n",
      "MAE: 2.456 +/- 0.779\n",
      "MRE: -38.4 +/- 9.1\n",
      "\n",
      "(705, 1369) (180, 1369)\n"
     ]
    },
    {
     "name": "stderr",
     "output_type": "stream",
     "text": [
      "100%|██████████| 2600/2600 [00:07<00:00, 363.78it/s]\n"
     ]
    },
    {
     "name": "stdout",
     "output_type": "stream",
     "text": [
      "logLogistR Filtering [1, 2, 3, 4], r2>0, Poly_KR\n",
      "\n",
      "MAE: 2.456 +/- 0.779\n",
      "MRE: -38.4 +/- 9.1\n",
      "\n",
      "(705, 1369) (180, 1369)\n"
     ]
    },
    {
     "name": "stderr",
     "output_type": "stream",
     "text": [
      "100%|██████████| 2600/2600 [00:07<00:00, 362.72it/s]\n"
     ]
    },
    {
     "name": "stdout",
     "output_type": "stream",
     "text": [
      "logLogistR Filtering [1, 2, 3, 4], r2>0.9, Poly_KR\n",
      "\n",
      "MAE: 2.497 +/- 0.839\n",
      "MRE: -41.0 +/- 11.6\n",
      "\n",
      "(704, 1369) (180, 1369)\n"
     ]
    },
    {
     "name": "stderr",
     "output_type": "stream",
     "text": [
      "100%|██████████| 2776/2776 [00:07<00:00, 363.22it/s]\n"
     ]
    },
    {
     "name": "stdout",
     "output_type": "stream",
     "text": [
      "logLogistR Filtering [1, 2, 3], r2>None, RBF_SVR\n",
      "\n",
      "MAE: 2.44 +/- 1.26\n",
      "MRE: -40.6 +/- 18.4\n",
      "\n",
      "(783, 1369) (202, 1369)\n"
     ]
    },
    {
     "name": "stderr",
     "output_type": "stream",
     "text": [
      "100%|██████████| 2776/2776 [00:07<00:00, 348.88it/s]\n"
     ]
    },
    {
     "name": "stdout",
     "output_type": "stream",
     "text": [
      "logLogistR Filtering [1, 2, 3], r2>0, RBF_SVR\n",
      "\n",
      "MAE: 2.44 +/- 1.26\n",
      "MRE: -40.6 +/- 18.4\n",
      "\n",
      "(783, 1369) (202, 1369)\n"
     ]
    },
    {
     "name": "stderr",
     "output_type": "stream",
     "text": [
      "100%|██████████| 2776/2776 [00:07<00:00, 364.02it/s]\n"
     ]
    },
    {
     "name": "stdout",
     "output_type": "stream",
     "text": [
      "logLogistR Filtering [1, 2, 3], r2>0.9, RBF_SVR\n",
      "\n",
      "MAE: 2.367 +/- 1.228\n",
      "MRE: -36.7 +/- 12.9\n",
      "\n",
      "(736, 1369) (188, 1369)\n"
     ]
    },
    {
     "name": "stderr",
     "output_type": "stream",
     "text": [
      "100%|██████████| 2600/2600 [00:07<00:00, 368.74it/s]\n"
     ]
    },
    {
     "name": "stdout",
     "output_type": "stream",
     "text": [
      "logLogistR Filtering [1, 2, 3, 4], r2>None, RBF_SVR\n",
      "\n",
      "MAE: 1.968 +/- 0.906\n",
      "MRE: -30.0 +/- 7.8\n",
      "\n",
      "(705, 1369) (180, 1369)\n"
     ]
    },
    {
     "name": "stderr",
     "output_type": "stream",
     "text": [
      "100%|██████████| 2600/2600 [00:07<00:00, 352.90it/s]\n"
     ]
    },
    {
     "name": "stdout",
     "output_type": "stream",
     "text": [
      "logLogistR Filtering [1, 2, 3, 4], r2>0, RBF_SVR\n",
      "\n",
      "MAE: 1.968 +/- 0.906\n",
      "MRE: -30.0 +/- 7.8\n",
      "\n",
      "(705, 1369) (180, 1369)\n"
     ]
    },
    {
     "name": "stderr",
     "output_type": "stream",
     "text": [
      "100%|██████████| 2600/2600 [00:07<00:00, 365.46it/s]\n"
     ]
    },
    {
     "name": "stdout",
     "output_type": "stream",
     "text": [
      "logLogistR Filtering [1, 2, 3, 4], r2>0.9, RBF_SVR\n",
      "\n",
      "MAE: 2.014 +/- 0.989\n",
      "MRE: -32.0 +/- 10.6\n",
      "\n",
      "(704, 1369) (180, 1369)\n"
     ]
    },
    {
     "name": "stderr",
     "output_type": "stream",
     "text": [
      "100%|██████████| 2776/2776 [00:07<00:00, 367.72it/s]\n"
     ]
    },
    {
     "name": "stdout",
     "output_type": "stream",
     "text": [
      "logLogistR Filtering [1, 2, 3], r2>None, Linear_SVR\n",
      "\n",
      "MAE: 2.376 +/- 1.227\n",
      "MRE: -44.2 +/- 20.8\n",
      "\n",
      "(783, 1369) (202, 1369)\n"
     ]
    },
    {
     "name": "stderr",
     "output_type": "stream",
     "text": [
      "100%|██████████| 2776/2776 [00:07<00:00, 362.93it/s]\n"
     ]
    },
    {
     "name": "stdout",
     "output_type": "stream",
     "text": [
      "logLogistR Filtering [1, 2, 3], r2>0, Linear_SVR\n",
      "\n",
      "MAE: 2.376 +/- 1.227\n",
      "MRE: -44.2 +/- 20.8\n",
      "\n",
      "(783, 1369) (202, 1369)\n"
     ]
    },
    {
     "name": "stderr",
     "output_type": "stream",
     "text": [
      "100%|██████████| 2776/2776 [00:07<00:00, 363.96it/s]\n"
     ]
    },
    {
     "name": "stdout",
     "output_type": "stream",
     "text": [
      "logLogistR Filtering [1, 2, 3], r2>0.9, Linear_SVR\n",
      "\n",
      "MAE: 2.447 +/- 1.336\n",
      "MRE: -43.4 +/- 17.7\n",
      "\n",
      "(736, 1369) (188, 1369)\n"
     ]
    },
    {
     "name": "stderr",
     "output_type": "stream",
     "text": [
      "100%|██████████| 2600/2600 [00:07<00:00, 368.03it/s]\n"
     ]
    },
    {
     "name": "stdout",
     "output_type": "stream",
     "text": [
      "logLogistR Filtering [1, 2, 3, 4], r2>None, Linear_SVR\n",
      "\n",
      "MAE: 2.147 +/- 1.018\n",
      "MRE: -37.8 +/- 15.7\n",
      "\n",
      "(705, 1369) (180, 1369)\n"
     ]
    },
    {
     "name": "stderr",
     "output_type": "stream",
     "text": [
      "100%|██████████| 2600/2600 [00:07<00:00, 352.07it/s]\n"
     ]
    },
    {
     "name": "stdout",
     "output_type": "stream",
     "text": [
      "logLogistR Filtering [1, 2, 3, 4], r2>0, Linear_SVR\n",
      "\n",
      "MAE: 2.147 +/- 1.018\n",
      "MRE: -37.8 +/- 15.7\n",
      "\n",
      "(705, 1369) (180, 1369)\n"
     ]
    },
    {
     "name": "stderr",
     "output_type": "stream",
     "text": [
      "100%|██████████| 2600/2600 [00:08<00:00, 323.20it/s]\n"
     ]
    },
    {
     "name": "stdout",
     "output_type": "stream",
     "text": [
      "logLogistR Filtering [1, 2, 3, 4], r2>0.9, Linear_SVR\n",
      "\n",
      "MAE: 2.108 +/- 1.009\n",
      "MRE: -39.8 +/- 19.7\n",
      "\n",
      "(704, 1369) (180, 1369)\n",
      "\n",
      " logLogistR\n"
     ]
    },
    {
     "data": {
      "text/html": [
       "<div>\n",
       "<style scoped>\n",
       "    .dataframe tbody tr th:only-of-type {\n",
       "        vertical-align: middle;\n",
       "    }\n",
       "\n",
       "    .dataframe tbody tr th {\n",
       "        vertical-align: top;\n",
       "    }\n",
       "\n",
       "    .dataframe thead th {\n",
       "        text-align: right;\n",
       "    }\n",
       "</style>\n",
       "<table border=\"1\" class=\"dataframe\">\n",
       "  <thead>\n",
       "    <tr style=\"text-align: right;\">\n",
       "      <th></th>\n",
       "      <th>mae_coef_2</th>\n",
       "      <th>mre_coef_2</th>\n",
       "      <th>train_test_shape</th>\n",
       "    </tr>\n",
       "  </thead>\n",
       "  <tbody>\n",
       "    <tr>\n",
       "      <th>Filtering [1, 2, 3], r2&gt;None, Poly_KR</th>\n",
       "      <td>2.982 +/- 1.513</td>\n",
       "      <td>-48.8 +/- 19.9</td>\n",
       "      <td>783 , 202</td>\n",
       "    </tr>\n",
       "    <tr>\n",
       "      <th>Filtering [1, 2, 3], r2&gt;None, RBF_SVR</th>\n",
       "      <td>2.44 +/- 1.26</td>\n",
       "      <td>-40.6 +/- 18.4</td>\n",
       "      <td>783 , 202</td>\n",
       "    </tr>\n",
       "    <tr>\n",
       "      <th>Filtering [1, 2, 3], r2&gt;None, Linear_SVR</th>\n",
       "      <td>2.376 +/- 1.227</td>\n",
       "      <td>-44.2 +/- 20.8</td>\n",
       "      <td>783 , 202</td>\n",
       "    </tr>\n",
       "    <tr>\n",
       "      <th>Filtering [1, 2, 3], r2&gt;0, Poly_KR</th>\n",
       "      <td>2.982 +/- 1.513</td>\n",
       "      <td>-48.8 +/- 19.9</td>\n",
       "      <td>783 , 202</td>\n",
       "    </tr>\n",
       "    <tr>\n",
       "      <th>Filtering [1, 2, 3], r2&gt;0, RBF_SVR</th>\n",
       "      <td>2.44 +/- 1.26</td>\n",
       "      <td>-40.6 +/- 18.4</td>\n",
       "      <td>783 , 202</td>\n",
       "    </tr>\n",
       "    <tr>\n",
       "      <th>Filtering [1, 2, 3], r2&gt;0, Linear_SVR</th>\n",
       "      <td>2.376 +/- 1.227</td>\n",
       "      <td>-44.2 +/- 20.8</td>\n",
       "      <td>783 , 202</td>\n",
       "    </tr>\n",
       "    <tr>\n",
       "      <th>Filtering [1, 2, 3], r2&gt;0.9, Poly_KR</th>\n",
       "      <td>2.715 +/- 1.184</td>\n",
       "      <td>-41.8 +/- 11.0</td>\n",
       "      <td>736 , 188</td>\n",
       "    </tr>\n",
       "    <tr>\n",
       "      <th>Filtering [1, 2, 3], r2&gt;0.9, RBF_SVR</th>\n",
       "      <td>2.367 +/- 1.228</td>\n",
       "      <td>-36.7 +/- 12.9</td>\n",
       "      <td>736 , 188</td>\n",
       "    </tr>\n",
       "    <tr>\n",
       "      <th>Filtering [1, 2, 3], r2&gt;0.9, Linear_SVR</th>\n",
       "      <td>2.447 +/- 1.336</td>\n",
       "      <td>-43.4 +/- 17.7</td>\n",
       "      <td>736 , 188</td>\n",
       "    </tr>\n",
       "    <tr>\n",
       "      <th>Filtering [1, 2, 3, 4], r2&gt;None, Poly_KR</th>\n",
       "      <td>2.456 +/- 0.779</td>\n",
       "      <td>-38.4 +/- 9.1</td>\n",
       "      <td>705 , 180</td>\n",
       "    </tr>\n",
       "    <tr>\n",
       "      <th>Filtering [1, 2, 3, 4], r2&gt;None, RBF_SVR</th>\n",
       "      <td>1.968 +/- 0.906</td>\n",
       "      <td>-30.0 +/- 7.8</td>\n",
       "      <td>705 , 180</td>\n",
       "    </tr>\n",
       "    <tr>\n",
       "      <th>Filtering [1, 2, 3, 4], r2&gt;None, Linear_SVR</th>\n",
       "      <td>2.147 +/- 1.018</td>\n",
       "      <td>-37.8 +/- 15.7</td>\n",
       "      <td>705 , 180</td>\n",
       "    </tr>\n",
       "    <tr>\n",
       "      <th>Filtering [1, 2, 3, 4], r2&gt;0, Poly_KR</th>\n",
       "      <td>2.456 +/- 0.779</td>\n",
       "      <td>-38.4 +/- 9.1</td>\n",
       "      <td>705 , 180</td>\n",
       "    </tr>\n",
       "    <tr>\n",
       "      <th>Filtering [1, 2, 3, 4], r2&gt;0, RBF_SVR</th>\n",
       "      <td>1.968 +/- 0.906</td>\n",
       "      <td>-30.0 +/- 7.8</td>\n",
       "      <td>705 , 180</td>\n",
       "    </tr>\n",
       "    <tr>\n",
       "      <th>Filtering [1, 2, 3, 4], r2&gt;0, Linear_SVR</th>\n",
       "      <td>2.147 +/- 1.018</td>\n",
       "      <td>-37.8 +/- 15.7</td>\n",
       "      <td>705 , 180</td>\n",
       "    </tr>\n",
       "    <tr>\n",
       "      <th>Filtering [1, 2, 3, 4], r2&gt;0.9, Poly_KR</th>\n",
       "      <td>2.497 +/- 0.839</td>\n",
       "      <td>-41.0 +/- 11.6</td>\n",
       "      <td>704 , 180</td>\n",
       "    </tr>\n",
       "    <tr>\n",
       "      <th>Filtering [1, 2, 3, 4], r2&gt;0.9, RBF_SVR</th>\n",
       "      <td>2.014 +/- 0.989</td>\n",
       "      <td>-32.0 +/- 10.6</td>\n",
       "      <td>704 , 180</td>\n",
       "    </tr>\n",
       "    <tr>\n",
       "      <th>Filtering [1, 2, 3, 4], r2&gt;0.9, Linear_SVR</th>\n",
       "      <td>2.108 +/- 1.009</td>\n",
       "      <td>-39.8 +/- 19.7</td>\n",
       "      <td>704 , 180</td>\n",
       "    </tr>\n",
       "  </tbody>\n",
       "</table>\n",
       "</div>"
      ],
      "text/plain": [
       "                                                  mae_coef_2      mre_coef_2  \\\n",
       "Filtering [1, 2, 3], r2>None, Poly_KR        2.982 +/- 1.513  -48.8 +/- 19.9   \n",
       "Filtering [1, 2, 3], r2>None, RBF_SVR          2.44 +/- 1.26  -40.6 +/- 18.4   \n",
       "Filtering [1, 2, 3], r2>None, Linear_SVR     2.376 +/- 1.227  -44.2 +/- 20.8   \n",
       "Filtering [1, 2, 3], r2>0, Poly_KR           2.982 +/- 1.513  -48.8 +/- 19.9   \n",
       "Filtering [1, 2, 3], r2>0, RBF_SVR             2.44 +/- 1.26  -40.6 +/- 18.4   \n",
       "Filtering [1, 2, 3], r2>0, Linear_SVR        2.376 +/- 1.227  -44.2 +/- 20.8   \n",
       "Filtering [1, 2, 3], r2>0.9, Poly_KR         2.715 +/- 1.184  -41.8 +/- 11.0   \n",
       "Filtering [1, 2, 3], r2>0.9, RBF_SVR         2.367 +/- 1.228  -36.7 +/- 12.9   \n",
       "Filtering [1, 2, 3], r2>0.9, Linear_SVR      2.447 +/- 1.336  -43.4 +/- 17.7   \n",
       "Filtering [1, 2, 3, 4], r2>None, Poly_KR     2.456 +/- 0.779   -38.4 +/- 9.1   \n",
       "Filtering [1, 2, 3, 4], r2>None, RBF_SVR     1.968 +/- 0.906   -30.0 +/- 7.8   \n",
       "Filtering [1, 2, 3, 4], r2>None, Linear_SVR  2.147 +/- 1.018  -37.8 +/- 15.7   \n",
       "Filtering [1, 2, 3, 4], r2>0, Poly_KR        2.456 +/- 0.779   -38.4 +/- 9.1   \n",
       "Filtering [1, 2, 3, 4], r2>0, RBF_SVR        1.968 +/- 0.906   -30.0 +/- 7.8   \n",
       "Filtering [1, 2, 3, 4], r2>0, Linear_SVR     2.147 +/- 1.018  -37.8 +/- 15.7   \n",
       "Filtering [1, 2, 3, 4], r2>0.9, Poly_KR      2.497 +/- 0.839  -41.0 +/- 11.6   \n",
       "Filtering [1, 2, 3, 4], r2>0.9, RBF_SVR      2.014 +/- 0.989  -32.0 +/- 10.6   \n",
       "Filtering [1, 2, 3, 4], r2>0.9, Linear_SVR   2.108 +/- 1.009  -39.8 +/- 19.7   \n",
       "\n",
       "                                            train_test_shape  \n",
       "Filtering [1, 2, 3], r2>None, Poly_KR              783 , 202  \n",
       "Filtering [1, 2, 3], r2>None, RBF_SVR              783 , 202  \n",
       "Filtering [1, 2, 3], r2>None, Linear_SVR           783 , 202  \n",
       "Filtering [1, 2, 3], r2>0, Poly_KR                 783 , 202  \n",
       "Filtering [1, 2, 3], r2>0, RBF_SVR                 783 , 202  \n",
       "Filtering [1, 2, 3], r2>0, Linear_SVR              783 , 202  \n",
       "Filtering [1, 2, 3], r2>0.9, Poly_KR               736 , 188  \n",
       "Filtering [1, 2, 3], r2>0.9, RBF_SVR               736 , 188  \n",
       "Filtering [1, 2, 3], r2>0.9, Linear_SVR            736 , 188  \n",
       "Filtering [1, 2, 3, 4], r2>None, Poly_KR           705 , 180  \n",
       "Filtering [1, 2, 3, 4], r2>None, RBF_SVR           705 , 180  \n",
       "Filtering [1, 2, 3, 4], r2>None, Linear_SVR        705 , 180  \n",
       "Filtering [1, 2, 3, 4], r2>0, Poly_KR              705 , 180  \n",
       "Filtering [1, 2, 3, 4], r2>0, RBF_SVR              705 , 180  \n",
       "Filtering [1, 2, 3, 4], r2>0, Linear_SVR           705 , 180  \n",
       "Filtering [1, 2, 3, 4], r2>0.9, Poly_KR            704 , 180  \n",
       "Filtering [1, 2, 3, 4], r2>0.9, RBF_SVR            704 , 180  \n",
       "Filtering [1, 2, 3, 4], r2>0.9, Linear_SVR         704 , 180  "
      ]
     },
     "metadata": {},
     "output_type": "display_data"
    },
    {
     "data": {
      "image/png": "[encoded data removed]",
      "text/plain": [
       "<Figure size 288x216 with 1 Axes>"
      ]
     },
     "metadata": {
      "needs_background": "light"
     },
     "output_type": "display_data"
    },
    {
     "data": {
      "image/png": "[encoded data removed]",
      "text/plain": [
       "<Figure size 288x216 with 1 Axes>"
      ]
     },
     "metadata": {
      "needs_background": "light"
     },
     "output_type": "display_data"
    },
    {
     "data": {
      "image/png": "[encoded data removed]",
      "text/plain": [
       "<Figure size 288x216 with 1 Axes>"
      ]
     },
     "metadata": {
      "needs_background": "light"
     },
     "output_type": "display_data"
    }
   ],
   "source": [
    "coef=2\n",
    "results_2 = CompareTrainingScenariosModels(coef, models_dict, X_columns, _FOLDER, _FOLDER_2, \n",
    "                                           fitting_functions, filtering_scenarios, r2_restrictions,\n",
    "                                           print_progress_info = False)"
   ]
  },
  {
   "cell_type": "code",
   "execution_count": 7,
   "metadata": {},
   "outputs": [
    {
     "name": "stderr",
     "output_type": "stream",
     "text": [
      "100%|██████████| 2776/2776 [00:06<00:00, 400.60it/s]\n"
     ]
    },
    {
     "name": "stdout",
     "output_type": "stream",
     "text": [
      "sigmoid_4_param Filtering [1, 2, 3], r2>None, Poly_KR\n",
      "\n",
      "MAE: 10.946 +/- 7.807\n",
      "MRE: -52.0 +/- 21.0\n",
      "\n",
      "(781, 1370) (202, 1370)\n"
     ]
    },
    {
     "name": "stderr",
     "output_type": "stream",
     "text": [
      "100%|██████████| 2776/2776 [00:06<00:00, 402.37it/s]\n"
     ]
    },
    {
     "name": "stdout",
     "output_type": "stream",
     "text": [
      "sigmoid_4_param Filtering [1, 2, 3], r2>0, Poly_KR\n",
      "\n",
      "MAE: 10.946 +/- 7.807\n",
      "MRE: -52.0 +/- 21.0\n",
      "\n",
      "(781, 1370) (202, 1370)\n"
     ]
    },
    {
     "name": "stderr",
     "output_type": "stream",
     "text": [
      "100%|██████████| 2776/2776 [00:06<00:00, 406.55it/s]\n"
     ]
    },
    {
     "name": "stdout",
     "output_type": "stream",
     "text": [
      "sigmoid_4_param Filtering [1, 2, 3], r2>0.9, Poly_KR\n",
      "\n",
      "MAE: 10.263 +/- 5.784\n",
      "MRE: -47.1 +/- 8.3\n",
      "\n",
      "(723, 1370) (185, 1370)\n"
     ]
    },
    {
     "name": "stderr",
     "output_type": "stream",
     "text": [
      "100%|██████████| 2600/2600 [00:06<00:00, 412.93it/s]\n"
     ]
    },
    {
     "name": "stdout",
     "output_type": "stream",
     "text": [
      "sigmoid_4_param Filtering [1, 2, 3, 4], r2>None, Poly_KR\n",
      "\n",
      "MAE: 7.336 +/- 3.599\n",
      "MRE: -43.1 +/- 11.6\n",
      "\n",
      "(703, 1370) (180, 1370)\n"
     ]
    },
    {
     "name": "stderr",
     "output_type": "stream",
     "text": [
      "100%|██████████| 2600/2600 [00:06<00:00, 413.23it/s]\n"
     ]
    },
    {
     "name": "stdout",
     "output_type": "stream",
     "text": [
      "sigmoid_4_param Filtering [1, 2, 3, 4], r2>0, Poly_KR\n",
      "\n",
      "MAE: 7.336 +/- 3.599\n",
      "MRE: -43.1 +/- 11.6\n",
      "\n",
      "(703, 1370) (180, 1370)\n"
     ]
    },
    {
     "name": "stderr",
     "output_type": "stream",
     "text": [
      "100%|██████████| 2600/2600 [00:06<00:00, 409.68it/s]\n"
     ]
    },
    {
     "name": "stdout",
     "output_type": "stream",
     "text": [
      "sigmoid_4_param Filtering [1, 2, 3, 4], r2>0.9, Poly_KR\n",
      "\n",
      "MAE: 7.669 +/- 3.795\n",
      "MRE: -45.8 +/- 14.3\n",
      "\n",
      "(691, 1370) (177, 1370)\n"
     ]
    },
    {
     "name": "stderr",
     "output_type": "stream",
     "text": [
      "100%|██████████| 2776/2776 [00:07<00:00, 395.54it/s]\n"
     ]
    },
    {
     "name": "stdout",
     "output_type": "stream",
     "text": [
      "sigmoid_4_param Filtering [1, 2, 3], r2>None, RBF_SVR\n",
      "\n",
      "MAE: 8.883 +/- 5.821\n",
      "MRE: -42.3 +/- 12.4\n",
      "\n",
      "(781, 1370) (202, 1370)\n"
     ]
    },
    {
     "name": "stderr",
     "output_type": "stream",
     "text": [
      "100%|██████████| 2776/2776 [00:06<00:00, 403.22it/s]\n"
     ]
    },
    {
     "name": "stdout",
     "output_type": "stream",
     "text": [
      "sigmoid_4_param Filtering [1, 2, 3], r2>0, RBF_SVR\n",
      "\n",
      "MAE: 8.883 +/- 5.821\n",
      "MRE: -42.3 +/- 12.4\n",
      "\n",
      "(781, 1370) (202, 1370)\n"
     ]
    },
    {
     "name": "stderr",
     "output_type": "stream",
     "text": [
      "100%|██████████| 2776/2776 [00:08<00:00, 319.80it/s]\n"
     ]
    },
    {
     "name": "stdout",
     "output_type": "stream",
     "text": [
      "sigmoid_4_param Filtering [1, 2, 3], r2>0.9, RBF_SVR\n",
      "\n",
      "MAE: 9.118 +/- 5.363\n",
      "MRE: -41.4 +/- 8.3\n",
      "\n",
      "(723, 1370) (185, 1370)\n"
     ]
    },
    {
     "name": "stderr",
     "output_type": "stream",
     "text": [
      "100%|██████████| 2600/2600 [00:06<00:00, 374.04it/s]\n"
     ]
    },
    {
     "name": "stdout",
     "output_type": "stream",
     "text": [
      "sigmoid_4_param Filtering [1, 2, 3, 4], r2>None, RBF_SVR\n",
      "\n",
      "MAE: 5.697 +/- 2.765\n",
      "MRE: -34.8 +/- 8.6\n",
      "\n",
      "(703, 1370) (180, 1370)\n"
     ]
    },
    {
     "name": "stderr",
     "output_type": "stream",
     "text": [
      "100%|██████████| 2600/2600 [00:07<00:00, 328.10it/s]\n"
     ]
    },
    {
     "name": "stdout",
     "output_type": "stream",
     "text": [
      "sigmoid_4_param Filtering [1, 2, 3, 4], r2>0, RBF_SVR\n",
      "\n",
      "MAE: 5.697 +/- 2.765\n",
      "MRE: -34.8 +/- 8.6\n",
      "\n",
      "(703, 1370) (180, 1370)\n"
     ]
    },
    {
     "name": "stderr",
     "output_type": "stream",
     "text": [
      "100%|██████████| 2600/2600 [00:08<00:00, 322.26it/s]\n"
     ]
    },
    {
     "name": "stdout",
     "output_type": "stream",
     "text": [
      "sigmoid_4_param Filtering [1, 2, 3, 4], r2>0.9, RBF_SVR\n",
      "\n",
      "MAE: 5.989 +/- 2.816\n",
      "MRE: -37.1 +/- 11.5\n",
      "\n",
      "(691, 1370) (177, 1370)\n"
     ]
    },
    {
     "name": "stderr",
     "output_type": "stream",
     "text": [
      "100%|██████████| 2776/2776 [00:08<00:00, 330.67it/s]\n"
     ]
    },
    {
     "name": "stdout",
     "output_type": "stream",
     "text": [
      "sigmoid_4_param Filtering [1, 2, 3], r2>None, Linear_SVR\n",
      "\n",
      "MAE: 8.698 +/- 5.683\n",
      "MRE: -42.3 +/- 13.0\n",
      "\n",
      "(781, 1370) (202, 1370)\n"
     ]
    },
    {
     "name": "stderr",
     "output_type": "stream",
     "text": [
      "100%|██████████| 2776/2776 [00:09<00:00, 294.51it/s]\n"
     ]
    },
    {
     "name": "stdout",
     "output_type": "stream",
     "text": [
      "sigmoid_4_param Filtering [1, 2, 3], r2>0, Linear_SVR\n",
      "\n",
      "MAE: 8.698 +/- 5.683\n",
      "MRE: -42.3 +/- 13.0\n",
      "\n",
      "(781, 1370) (202, 1370)\n"
     ]
    },
    {
     "name": "stderr",
     "output_type": "stream",
     "text": [
      "100%|██████████| 2776/2776 [00:08<00:00, 332.24it/s]\n"
     ]
    },
    {
     "name": "stdout",
     "output_type": "stream",
     "text": [
      "sigmoid_4_param Filtering [1, 2, 3], r2>0.9, Linear_SVR\n",
      "\n",
      "MAE: 8.824 +/- 5.191\n",
      "MRE: -41.2 +/- 8.7\n",
      "\n",
      "(723, 1370) (185, 1370)\n"
     ]
    },
    {
     "name": "stderr",
     "output_type": "stream",
     "text": [
      "100%|██████████| 2600/2600 [00:06<00:00, 383.65it/s]\n"
     ]
    },
    {
     "name": "stdout",
     "output_type": "stream",
     "text": [
      "sigmoid_4_param Filtering [1, 2, 3, 4], r2>None, Linear_SVR\n",
      "\n",
      "MAE: 5.68 +/- 2.56\n",
      "MRE: -36.1 +/- 9.9\n",
      "\n",
      "(703, 1370) (180, 1370)\n"
     ]
    },
    {
     "name": "stderr",
     "output_type": "stream",
     "text": [
      "100%|██████████| 2600/2600 [00:08<00:00, 309.70it/s]\n"
     ]
    },
    {
     "name": "stdout",
     "output_type": "stream",
     "text": [
      "sigmoid_4_param Filtering [1, 2, 3, 4], r2>0, Linear_SVR\n",
      "\n",
      "MAE: 5.68 +/- 2.56\n",
      "MRE: -36.1 +/- 9.9\n",
      "\n",
      "(703, 1370) (180, 1370)\n"
     ]
    },
    {
     "name": "stderr",
     "output_type": "stream",
     "text": [
      "100%|██████████| 2600/2600 [00:08<00:00, 310.49it/s]\n"
     ]
    },
    {
     "name": "stdout",
     "output_type": "stream",
     "text": [
      "sigmoid_4_param Filtering [1, 2, 3, 4], r2>0.9, Linear_SVR\n",
      "\n",
      "MAE: 5.837 +/- 2.584\n",
      "MRE: -37.5 +/- 13.5\n",
      "\n",
      "(691, 1370) (177, 1370)\n",
      "\n",
      " sigmoid_4_param\n"
     ]
    },
    {
     "data": {
      "text/html": [
       "<div>\n",
       "<style scoped>\n",
       "    .dataframe tbody tr th:only-of-type {\n",
       "        vertical-align: middle;\n",
       "    }\n",
       "\n",
       "    .dataframe tbody tr th {\n",
       "        vertical-align: top;\n",
       "    }\n",
       "\n",
       "    .dataframe thead th {\n",
       "        text-align: right;\n",
       "    }\n",
       "</style>\n",
       "<table border=\"1\" class=\"dataframe\">\n",
       "  <thead>\n",
       "    <tr style=\"text-align: right;\">\n",
       "      <th></th>\n",
       "      <th>mae_coef_3</th>\n",
       "      <th>mre_coef_3</th>\n",
       "      <th>train_test_shape</th>\n",
       "    </tr>\n",
       "  </thead>\n",
       "  <tbody>\n",
       "    <tr>\n",
       "      <th>Filtering [1, 2, 3], r2&gt;None, Poly_KR</th>\n",
       "      <td>10.946 +/- 7.807</td>\n",
       "      <td>-52.0 +/- 21.0</td>\n",
       "      <td>781 , 202</td>\n",
       "    </tr>\n",
       "    <tr>\n",
       "      <th>Filtering [1, 2, 3], r2&gt;None, RBF_SVR</th>\n",
       "      <td>8.883 +/- 5.821</td>\n",
       "      <td>-42.3 +/- 12.4</td>\n",
       "      <td>781 , 202</td>\n",
       "    </tr>\n",
       "    <tr>\n",
       "      <th>Filtering [1, 2, 3], r2&gt;None, Linear_SVR</th>\n",
       "      <td>8.698 +/- 5.683</td>\n",
       "      <td>-42.3 +/- 13.0</td>\n",
       "      <td>781 , 202</td>\n",
       "    </tr>\n",
       "    <tr>\n",
       "      <th>Filtering [1, 2, 3], r2&gt;0, Poly_KR</th>\n",
       "      <td>10.946 +/- 7.807</td>\n",
       "      <td>-52.0 +/- 21.0</td>\n",
       "      <td>781 , 202</td>\n",
       "    </tr>\n",
       "    <tr>\n",
       "      <th>Filtering [1, 2, 3], r2&gt;0, RBF_SVR</th>\n",
       "      <td>8.883 +/- 5.821</td>\n",
       "      <td>-42.3 +/- 12.4</td>\n",
       "      <td>781 , 202</td>\n",
       "    </tr>\n",
       "    <tr>\n",
       "      <th>Filtering [1, 2, 3], r2&gt;0, Linear_SVR</th>\n",
       "      <td>8.698 +/- 5.683</td>\n",
       "      <td>-42.3 +/- 13.0</td>\n",
       "      <td>781 , 202</td>\n",
       "    </tr>\n",
       "    <tr>\n",
       "      <th>Filtering [1, 2, 3], r2&gt;0.9, Poly_KR</th>\n",
       "      <td>10.263 +/- 5.784</td>\n",
       "      <td>-47.1 +/- 8.3</td>\n",
       "      <td>723 , 185</td>\n",
       "    </tr>\n",
       "    <tr>\n",
       "      <th>Filtering [1, 2, 3], r2&gt;0.9, RBF_SVR</th>\n",
       "      <td>9.118 +/- 5.363</td>\n",
       "      <td>-41.4 +/- 8.3</td>\n",
       "      <td>723 , 185</td>\n",
       "    </tr>\n",
       "    <tr>\n",
       "      <th>Filtering [1, 2, 3], r2&gt;0.9, Linear_SVR</th>\n",
       "      <td>8.824 +/- 5.191</td>\n",
       "      <td>-41.2 +/- 8.7</td>\n",
       "      <td>723 , 185</td>\n",
       "    </tr>\n",
       "    <tr>\n",
       "      <th>Filtering [1, 2, 3, 4], r2&gt;None, Poly_KR</th>\n",
       "      <td>7.336 +/- 3.599</td>\n",
       "      <td>-43.1 +/- 11.6</td>\n",
       "      <td>703 , 180</td>\n",
       "    </tr>\n",
       "    <tr>\n",
       "      <th>Filtering [1, 2, 3, 4], r2&gt;None, RBF_SVR</th>\n",
       "      <td>5.697 +/- 2.765</td>\n",
       "      <td>-34.8 +/- 8.6</td>\n",
       "      <td>703 , 180</td>\n",
       "    </tr>\n",
       "    <tr>\n",
       "      <th>Filtering [1, 2, 3, 4], r2&gt;None, Linear_SVR</th>\n",
       "      <td>5.68 +/- 2.56</td>\n",
       "      <td>-36.1 +/- 9.9</td>\n",
       "      <td>703 , 180</td>\n",
       "    </tr>\n",
       "    <tr>\n",
       "      <th>Filtering [1, 2, 3, 4], r2&gt;0, Poly_KR</th>\n",
       "      <td>7.336 +/- 3.599</td>\n",
       "      <td>-43.1 +/- 11.6</td>\n",
       "      <td>703 , 180</td>\n",
       "    </tr>\n",
       "    <tr>\n",
       "      <th>Filtering [1, 2, 3, 4], r2&gt;0, RBF_SVR</th>\n",
       "      <td>5.697 +/- 2.765</td>\n",
       "      <td>-34.8 +/- 8.6</td>\n",
       "      <td>703 , 180</td>\n",
       "    </tr>\n",
       "    <tr>\n",
       "      <th>Filtering [1, 2, 3, 4], r2&gt;0, Linear_SVR</th>\n",
       "      <td>5.68 +/- 2.56</td>\n",
       "      <td>-36.1 +/- 9.9</td>\n",
       "      <td>703 , 180</td>\n",
       "    </tr>\n",
       "    <tr>\n",
       "      <th>Filtering [1, 2, 3, 4], r2&gt;0.9, Poly_KR</th>\n",
       "      <td>7.669 +/- 3.795</td>\n",
       "      <td>-45.8 +/- 14.3</td>\n",
       "      <td>691 , 177</td>\n",
       "    </tr>\n",
       "    <tr>\n",
       "      <th>Filtering [1, 2, 3, 4], r2&gt;0.9, RBF_SVR</th>\n",
       "      <td>5.989 +/- 2.816</td>\n",
       "      <td>-37.1 +/- 11.5</td>\n",
       "      <td>691 , 177</td>\n",
       "    </tr>\n",
       "    <tr>\n",
       "      <th>Filtering [1, 2, 3, 4], r2&gt;0.9, Linear_SVR</th>\n",
       "      <td>5.837 +/- 2.584</td>\n",
       "      <td>-37.5 +/- 13.5</td>\n",
       "      <td>691 , 177</td>\n",
       "    </tr>\n",
       "  </tbody>\n",
       "</table>\n",
       "</div>"
      ],
      "text/plain": [
       "                                                   mae_coef_3      mre_coef_3  \\\n",
       "Filtering [1, 2, 3], r2>None, Poly_KR        10.946 +/- 7.807  -52.0 +/- 21.0   \n",
       "Filtering [1, 2, 3], r2>None, RBF_SVR         8.883 +/- 5.821  -42.3 +/- 12.4   \n",
       "Filtering [1, 2, 3], r2>None, Linear_SVR      8.698 +/- 5.683  -42.3 +/- 13.0   \n",
       "Filtering [1, 2, 3], r2>0, Poly_KR           10.946 +/- 7.807  -52.0 +/- 21.0   \n",
       "Filtering [1, 2, 3], r2>0, RBF_SVR            8.883 +/- 5.821  -42.3 +/- 12.4   \n",
       "Filtering [1, 2, 3], r2>0, Linear_SVR         8.698 +/- 5.683  -42.3 +/- 13.0   \n",
       "Filtering [1, 2, 3], r2>0.9, Poly_KR         10.263 +/- 5.784   -47.1 +/- 8.3   \n",
       "Filtering [1, 2, 3], r2>0.9, RBF_SVR          9.118 +/- 5.363   -41.4 +/- 8.3   \n",
       "Filtering [1, 2, 3], r2>0.9, Linear_SVR       8.824 +/- 5.191   -41.2 +/- 8.7   \n",
       "Filtering [1, 2, 3, 4], r2>None, Poly_KR      7.336 +/- 3.599  -43.1 +/- 11.6   \n",
       "Filtering [1, 2, 3, 4], r2>None, RBF_SVR      5.697 +/- 2.765   -34.8 +/- 8.6   \n",
       "Filtering [1, 2, 3, 4], r2>None, Linear_SVR     5.68 +/- 2.56   -36.1 +/- 9.9   \n",
       "Filtering [1, 2, 3, 4], r2>0, Poly_KR         7.336 +/- 3.599  -43.1 +/- 11.6   \n",
       "Filtering [1, 2, 3, 4], r2>0, RBF_SVR         5.697 +/- 2.765   -34.8 +/- 8.6   \n",
       "Filtering [1, 2, 3, 4], r2>0, Linear_SVR        5.68 +/- 2.56   -36.1 +/- 9.9   \n",
       "Filtering [1, 2, 3, 4], r2>0.9, Poly_KR       7.669 +/- 3.795  -45.8 +/- 14.3   \n",
       "Filtering [1, 2, 3, 4], r2>0.9, RBF_SVR       5.989 +/- 2.816  -37.1 +/- 11.5   \n",
       "Filtering [1, 2, 3, 4], r2>0.9, Linear_SVR    5.837 +/- 2.584  -37.5 +/- 13.5   \n",
       "\n",
       "                                            train_test_shape  \n",
       "Filtering [1, 2, 3], r2>None, Poly_KR              781 , 202  \n",
       "Filtering [1, 2, 3], r2>None, RBF_SVR              781 , 202  \n",
       "Filtering [1, 2, 3], r2>None, Linear_SVR           781 , 202  \n",
       "Filtering [1, 2, 3], r2>0, Poly_KR                 781 , 202  \n",
       "Filtering [1, 2, 3], r2>0, RBF_SVR                 781 , 202  \n",
       "Filtering [1, 2, 3], r2>0, Linear_SVR              781 , 202  \n",
       "Filtering [1, 2, 3], r2>0.9, Poly_KR               723 , 185  \n",
       "Filtering [1, 2, 3], r2>0.9, RBF_SVR               723 , 185  \n",
       "Filtering [1, 2, 3], r2>0.9, Linear_SVR            723 , 185  \n",
       "Filtering [1, 2, 3, 4], r2>None, Poly_KR           703 , 180  \n",
       "Filtering [1, 2, 3, 4], r2>None, RBF_SVR           703 , 180  \n",
       "Filtering [1, 2, 3, 4], r2>None, Linear_SVR        703 , 180  \n",
       "Filtering [1, 2, 3, 4], r2>0, Poly_KR              703 , 180  \n",
       "Filtering [1, 2, 3, 4], r2>0, RBF_SVR              703 , 180  \n",
       "Filtering [1, 2, 3, 4], r2>0, Linear_SVR           703 , 180  \n",
       "Filtering [1, 2, 3, 4], r2>0.9, Poly_KR            691 , 177  \n",
       "Filtering [1, 2, 3, 4], r2>0.9, RBF_SVR            691 , 177  \n",
       "Filtering [1, 2, 3, 4], r2>0.9, Linear_SVR         691 , 177  "
      ]
     },
     "metadata": {},
     "output_type": "display_data"
    },
    {
     "name": "stderr",
     "output_type": "stream",
     "text": [
      "100%|██████████| 2776/2776 [00:07<00:00, 350.49it/s]\n"
     ]
    },
    {
     "name": "stdout",
     "output_type": "stream",
     "text": [
      "logistic4 Filtering [1, 2, 3], r2>None, Poly_KR\n",
      "\n",
      "MAE: 0.223 +/- 0.212\n",
      "MRE: 37.8 +/- 23.1\n",
      "\n",
      "(783, 1370) (202, 1370)\n"
     ]
    },
    {
     "name": "stderr",
     "output_type": "stream",
     "text": [
      "100%|██████████| 2776/2776 [00:08<00:00, 341.06it/s]\n"
     ]
    },
    {
     "name": "stdout",
     "output_type": "stream",
     "text": [
      "logistic4 Filtering [1, 2, 3], r2>0, Poly_KR\n",
      "\n",
      "MAE: 0.223 +/- 0.212\n",
      "MRE: 37.8 +/- 23.1\n",
      "\n",
      "(783, 1370) (202, 1370)\n"
     ]
    },
    {
     "name": "stderr",
     "output_type": "stream",
     "text": [
      "100%|██████████| 2776/2776 [00:08<00:00, 321.34it/s]\n"
     ]
    },
    {
     "name": "stdout",
     "output_type": "stream",
     "text": [
      "logistic4 Filtering [1, 2, 3], r2>0.9, Poly_KR\n",
      "\n",
      "MAE: 0.148 +/- 0.086\n",
      "MRE: 31.8 +/- 14.1\n",
      "\n",
      "(736, 1370) (189, 1370)\n"
     ]
    },
    {
     "name": "stderr",
     "output_type": "stream",
     "text": [
      "100%|██████████| 2600/2600 [00:07<00:00, 334.81it/s]\n"
     ]
    },
    {
     "name": "stdout",
     "output_type": "stream",
     "text": [
      "logistic4 Filtering [1, 2, 3, 4], r2>None, Poly_KR\n",
      "\n",
      "MAE: 0.157 +/- 0.103\n",
      "MRE: 31.8 +/- 15.2\n",
      "\n",
      "(705, 1370) (180, 1370)\n"
     ]
    },
    {
     "name": "stderr",
     "output_type": "stream",
     "text": [
      "100%|██████████| 2600/2600 [00:08<00:00, 292.53it/s]\n"
     ]
    },
    {
     "name": "stdout",
     "output_type": "stream",
     "text": [
      "logistic4 Filtering [1, 2, 3, 4], r2>0, Poly_KR\n",
      "\n",
      "MAE: 0.157 +/- 0.103\n",
      "MRE: 31.8 +/- 15.2\n",
      "\n",
      "(705, 1370) (180, 1370)\n"
     ]
    },
    {
     "name": "stderr",
     "output_type": "stream",
     "text": [
      "100%|██████████| 2600/2600 [00:07<00:00, 346.88it/s]\n"
     ]
    },
    {
     "name": "stdout",
     "output_type": "stream",
     "text": [
      "logistic4 Filtering [1, 2, 3, 4], r2>0.9, Poly_KR\n",
      "\n",
      "MAE: 0.162 +/- 0.105\n",
      "MRE: 32.7 +/- 15.4\n",
      "\n",
      "(704, 1370) (180, 1370)\n"
     ]
    },
    {
     "name": "stderr",
     "output_type": "stream",
     "text": [
      "100%|██████████| 2776/2776 [00:07<00:00, 369.32it/s]\n"
     ]
    },
    {
     "name": "stdout",
     "output_type": "stream",
     "text": [
      "logistic4 Filtering [1, 2, 3], r2>None, RBF_SVR\n",
      "\n",
      "MAE: 0.128 +/- 0.081\n",
      "MRE: 24.1 +/- 5.7\n",
      "\n",
      "(783, 1370) (202, 1370)\n"
     ]
    },
    {
     "name": "stderr",
     "output_type": "stream",
     "text": [
      "100%|██████████| 2776/2776 [00:08<00:00, 324.05it/s]\n"
     ]
    },
    {
     "name": "stdout",
     "output_type": "stream",
     "text": [
      "logistic4 Filtering [1, 2, 3], r2>0, RBF_SVR\n",
      "\n",
      "MAE: 0.128 +/- 0.081\n",
      "MRE: 24.1 +/- 5.7\n",
      "\n",
      "(783, 1370) (202, 1370)\n"
     ]
    },
    {
     "name": "stderr",
     "output_type": "stream",
     "text": [
      "100%|██████████| 2776/2776 [00:07<00:00, 355.97it/s]\n"
     ]
    },
    {
     "name": "stdout",
     "output_type": "stream",
     "text": [
      "logistic4 Filtering [1, 2, 3], r2>0.9, RBF_SVR\n",
      "\n",
      "MAE: 0.093 +/- 0.025\n",
      "MRE: 24.3 +/- 9.8\n",
      "\n",
      "(736, 1370) (189, 1370)\n"
     ]
    },
    {
     "name": "stderr",
     "output_type": "stream",
     "text": [
      "100%|██████████| 2600/2600 [00:07<00:00, 342.79it/s]\n"
     ]
    },
    {
     "name": "stdout",
     "output_type": "stream",
     "text": [
      "logistic4 Filtering [1, 2, 3, 4], r2>None, RBF_SVR\n",
      "\n",
      "MAE: 0.099 +/- 0.038\n",
      "MRE: 23.7 +/- 8.2\n",
      "\n",
      "(705, 1370) (180, 1370)\n"
     ]
    },
    {
     "name": "stderr",
     "output_type": "stream",
     "text": [
      "100%|██████████| 2600/2600 [00:08<00:00, 321.55it/s]\n"
     ]
    },
    {
     "name": "stdout",
     "output_type": "stream",
     "text": [
      "logistic4 Filtering [1, 2, 3, 4], r2>0, RBF_SVR\n",
      "\n",
      "MAE: 0.099 +/- 0.038\n",
      "MRE: 23.7 +/- 8.2\n",
      "\n",
      "(705, 1370) (180, 1370)\n"
     ]
    },
    {
     "name": "stderr",
     "output_type": "stream",
     "text": [
      "100%|██████████| 2600/2600 [00:07<00:00, 366.91it/s]\n"
     ]
    },
    {
     "name": "stdout",
     "output_type": "stream",
     "text": [
      "logistic4 Filtering [1, 2, 3, 4], r2>0.9, RBF_SVR\n",
      "\n",
      "MAE: 0.1 +/- 0.038\n",
      "MRE: 23.6 +/- 8.1\n",
      "\n",
      "(704, 1370) (180, 1370)\n"
     ]
    },
    {
     "name": "stderr",
     "output_type": "stream",
     "text": [
      "100%|██████████| 2776/2776 [00:08<00:00, 341.55it/s]\n"
     ]
    },
    {
     "name": "stdout",
     "output_type": "stream",
     "text": [
      "logistic4 Filtering [1, 2, 3], r2>None, Linear_SVR\n",
      "\n",
      "MAE: 0.328 +/- 0.423\n",
      "MRE: 67.6 +/- 87.8\n",
      "\n",
      "(783, 1370) (202, 1370)\n"
     ]
    },
    {
     "name": "stderr",
     "output_type": "stream",
     "text": [
      "100%|██████████| 2776/2776 [00:08<00:00, 321.54it/s]\n"
     ]
    },
    {
     "name": "stdout",
     "output_type": "stream",
     "text": [
      "logistic4 Filtering [1, 2, 3], r2>0, Linear_SVR\n",
      "\n",
      "MAE: 0.328 +/- 0.423\n",
      "MRE: 67.6 +/- 87.8\n",
      "\n",
      "(783, 1370) (202, 1370)\n"
     ]
    },
    {
     "name": "stderr",
     "output_type": "stream",
     "text": [
      "100%|██████████| 2776/2776 [00:08<00:00, 319.81it/s]\n"
     ]
    },
    {
     "name": "stdout",
     "output_type": "stream",
     "text": [
      "logistic4 Filtering [1, 2, 3], r2>0.9, Linear_SVR\n",
      "\n",
      "MAE: 0.173 +/- 0.227\n",
      "MRE: 44.2 +/- 51.2\n",
      "\n",
      "(736, 1370) (189, 1370)\n"
     ]
    },
    {
     "name": "stderr",
     "output_type": "stream",
     "text": [
      "100%|██████████| 2600/2600 [00:07<00:00, 335.40it/s]\n"
     ]
    },
    {
     "name": "stdout",
     "output_type": "stream",
     "text": [
      "logistic4 Filtering [1, 2, 3, 4], r2>None, Linear_SVR\n",
      "\n",
      "MAE: 0.367 +/- 0.582\n",
      "MRE: 88.1 +/- 136.0\n",
      "\n",
      "(705, 1370) (180, 1370)\n"
     ]
    },
    {
     "name": "stderr",
     "output_type": "stream",
     "text": [
      "100%|██████████| 2600/2600 [00:07<00:00, 360.41it/s]\n"
     ]
    },
    {
     "name": "stdout",
     "output_type": "stream",
     "text": [
      "logistic4 Filtering [1, 2, 3, 4], r2>0, Linear_SVR\n",
      "\n",
      "MAE: 0.367 +/- 0.582\n",
      "MRE: 88.1 +/- 136.0\n",
      "\n",
      "(705, 1370) (180, 1370)\n"
     ]
    },
    {
     "name": "stderr",
     "output_type": "stream",
     "text": [
      "100%|██████████| 2600/2600 [00:07<00:00, 339.12it/s]\n"
     ]
    },
    {
     "name": "stdout",
     "output_type": "stream",
     "text": [
      "logistic4 Filtering [1, 2, 3, 4], r2>0.9, Linear_SVR\n",
      "\n",
      "MAE: 0.179 +/- 0.201\n",
      "MRE: 43.3 +/- 42.0\n",
      "\n",
      "(704, 1370) (180, 1370)\n",
      "\n",
      " logistic4\n"
     ]
    },
    {
     "data": {
      "text/html": [
       "<div>\n",
       "<style scoped>\n",
       "    .dataframe tbody tr th:only-of-type {\n",
       "        vertical-align: middle;\n",
       "    }\n",
       "\n",
       "    .dataframe tbody tr th {\n",
       "        vertical-align: top;\n",
       "    }\n",
       "\n",
       "    .dataframe thead th {\n",
       "        text-align: right;\n",
       "    }\n",
       "</style>\n",
       "<table border=\"1\" class=\"dataframe\">\n",
       "  <thead>\n",
       "    <tr style=\"text-align: right;\">\n",
       "      <th></th>\n",
       "      <th>mae_coef_3</th>\n",
       "      <th>mre_coef_3</th>\n",
       "      <th>train_test_shape</th>\n",
       "    </tr>\n",
       "  </thead>\n",
       "  <tbody>\n",
       "    <tr>\n",
       "      <th>Filtering [1, 2, 3], r2&gt;None, Poly_KR</th>\n",
       "      <td>0.223 +/- 0.212</td>\n",
       "      <td>37.8 +/- 23.1</td>\n",
       "      <td>783 , 202</td>\n",
       "    </tr>\n",
       "    <tr>\n",
       "      <th>Filtering [1, 2, 3], r2&gt;None, RBF_SVR</th>\n",
       "      <td>0.128 +/- 0.081</td>\n",
       "      <td>24.1 +/- 5.7</td>\n",
       "      <td>783 , 202</td>\n",
       "    </tr>\n",
       "    <tr>\n",
       "      <th>Filtering [1, 2, 3], r2&gt;None, Linear_SVR</th>\n",
       "      <td>0.328 +/- 0.423</td>\n",
       "      <td>67.6 +/- 87.8</td>\n",
       "      <td>783 , 202</td>\n",
       "    </tr>\n",
       "    <tr>\n",
       "      <th>Filtering [1, 2, 3], r2&gt;0, Poly_KR</th>\n",
       "      <td>0.223 +/- 0.212</td>\n",
       "      <td>37.8 +/- 23.1</td>\n",
       "      <td>783 , 202</td>\n",
       "    </tr>\n",
       "    <tr>\n",
       "      <th>Filtering [1, 2, 3], r2&gt;0, RBF_SVR</th>\n",
       "      <td>0.128 +/- 0.081</td>\n",
       "      <td>24.1 +/- 5.7</td>\n",
       "      <td>783 , 202</td>\n",
       "    </tr>\n",
       "    <tr>\n",
       "      <th>Filtering [1, 2, 3], r2&gt;0, Linear_SVR</th>\n",
       "      <td>0.328 +/- 0.423</td>\n",
       "      <td>67.6 +/- 87.8</td>\n",
       "      <td>783 , 202</td>\n",
       "    </tr>\n",
       "    <tr>\n",
       "      <th>Filtering [1, 2, 3], r2&gt;0.9, Poly_KR</th>\n",
       "      <td>0.148 +/- 0.086</td>\n",
       "      <td>31.8 +/- 14.1</td>\n",
       "      <td>736 , 189</td>\n",
       "    </tr>\n",
       "    <tr>\n",
       "      <th>Filtering [1, 2, 3], r2&gt;0.9, RBF_SVR</th>\n",
       "      <td>0.093 +/- 0.025</td>\n",
       "      <td>24.3 +/- 9.8</td>\n",
       "      <td>736 , 189</td>\n",
       "    </tr>\n",
       "    <tr>\n",
       "      <th>Filtering [1, 2, 3], r2&gt;0.9, Linear_SVR</th>\n",
       "      <td>0.173 +/- 0.227</td>\n",
       "      <td>44.2 +/- 51.2</td>\n",
       "      <td>736 , 189</td>\n",
       "    </tr>\n",
       "    <tr>\n",
       "      <th>Filtering [1, 2, 3, 4], r2&gt;None, Poly_KR</th>\n",
       "      <td>0.157 +/- 0.103</td>\n",
       "      <td>31.8 +/- 15.2</td>\n",
       "      <td>705 , 180</td>\n",
       "    </tr>\n",
       "    <tr>\n",
       "      <th>Filtering [1, 2, 3, 4], r2&gt;None, RBF_SVR</th>\n",
       "      <td>0.099 +/- 0.038</td>\n",
       "      <td>23.7 +/- 8.2</td>\n",
       "      <td>705 , 180</td>\n",
       "    </tr>\n",
       "    <tr>\n",
       "      <th>Filtering [1, 2, 3, 4], r2&gt;None, Linear_SVR</th>\n",
       "      <td>0.367 +/- 0.582</td>\n",
       "      <td>88.1 +/- 136.0</td>\n",
       "      <td>705 , 180</td>\n",
       "    </tr>\n",
       "    <tr>\n",
       "      <th>Filtering [1, 2, 3, 4], r2&gt;0, Poly_KR</th>\n",
       "      <td>0.157 +/- 0.103</td>\n",
       "      <td>31.8 +/- 15.2</td>\n",
       "      <td>705 , 180</td>\n",
       "    </tr>\n",
       "    <tr>\n",
       "      <th>Filtering [1, 2, 3, 4], r2&gt;0, RBF_SVR</th>\n",
       "      <td>0.099 +/- 0.038</td>\n",
       "      <td>23.7 +/- 8.2</td>\n",
       "      <td>705 , 180</td>\n",
       "    </tr>\n",
       "    <tr>\n",
       "      <th>Filtering [1, 2, 3, 4], r2&gt;0, Linear_SVR</th>\n",
       "      <td>0.367 +/- 0.582</td>\n",
       "      <td>88.1 +/- 136.0</td>\n",
       "      <td>705 , 180</td>\n",
       "    </tr>\n",
       "    <tr>\n",
       "      <th>Filtering [1, 2, 3, 4], r2&gt;0.9, Poly_KR</th>\n",
       "      <td>0.162 +/- 0.105</td>\n",
       "      <td>32.7 +/- 15.4</td>\n",
       "      <td>704 , 180</td>\n",
       "    </tr>\n",
       "    <tr>\n",
       "      <th>Filtering [1, 2, 3, 4], r2&gt;0.9, RBF_SVR</th>\n",
       "      <td>0.1 +/- 0.038</td>\n",
       "      <td>23.6 +/- 8.1</td>\n",
       "      <td>704 , 180</td>\n",
       "    </tr>\n",
       "    <tr>\n",
       "      <th>Filtering [1, 2, 3, 4], r2&gt;0.9, Linear_SVR</th>\n",
       "      <td>0.179 +/- 0.201</td>\n",
       "      <td>43.3 +/- 42.0</td>\n",
       "      <td>704 , 180</td>\n",
       "    </tr>\n",
       "  </tbody>\n",
       "</table>\n",
       "</div>"
      ],
      "text/plain": [
       "                                                  mae_coef_3      mre_coef_3  \\\n",
       "Filtering [1, 2, 3], r2>None, Poly_KR        0.223 +/- 0.212   37.8 +/- 23.1   \n",
       "Filtering [1, 2, 3], r2>None, RBF_SVR        0.128 +/- 0.081    24.1 +/- 5.7   \n",
       "Filtering [1, 2, 3], r2>None, Linear_SVR     0.328 +/- 0.423   67.6 +/- 87.8   \n",
       "Filtering [1, 2, 3], r2>0, Poly_KR           0.223 +/- 0.212   37.8 +/- 23.1   \n",
       "Filtering [1, 2, 3], r2>0, RBF_SVR           0.128 +/- 0.081    24.1 +/- 5.7   \n",
       "Filtering [1, 2, 3], r2>0, Linear_SVR        0.328 +/- 0.423   67.6 +/- 87.8   \n",
       "Filtering [1, 2, 3], r2>0.9, Poly_KR         0.148 +/- 0.086   31.8 +/- 14.1   \n",
       "Filtering [1, 2, 3], r2>0.9, RBF_SVR         0.093 +/- 0.025    24.3 +/- 9.8   \n",
       "Filtering [1, 2, 3], r2>0.9, Linear_SVR      0.173 +/- 0.227   44.2 +/- 51.2   \n",
       "Filtering [1, 2, 3, 4], r2>None, Poly_KR     0.157 +/- 0.103   31.8 +/- 15.2   \n",
       "Filtering [1, 2, 3, 4], r2>None, RBF_SVR     0.099 +/- 0.038    23.7 +/- 8.2   \n",
       "Filtering [1, 2, 3, 4], r2>None, Linear_SVR  0.367 +/- 0.582  88.1 +/- 136.0   \n",
       "Filtering [1, 2, 3, 4], r2>0, Poly_KR        0.157 +/- 0.103   31.8 +/- 15.2   \n",
       "Filtering [1, 2, 3, 4], r2>0, RBF_SVR        0.099 +/- 0.038    23.7 +/- 8.2   \n",
       "Filtering [1, 2, 3, 4], r2>0, Linear_SVR     0.367 +/- 0.582  88.1 +/- 136.0   \n",
       "Filtering [1, 2, 3, 4], r2>0.9, Poly_KR      0.162 +/- 0.105   32.7 +/- 15.4   \n",
       "Filtering [1, 2, 3, 4], r2>0.9, RBF_SVR        0.1 +/- 0.038    23.6 +/- 8.1   \n",
       "Filtering [1, 2, 3, 4], r2>0.9, Linear_SVR   0.179 +/- 0.201   43.3 +/- 42.0   \n",
       "\n",
       "                                            train_test_shape  \n",
       "Filtering [1, 2, 3], r2>None, Poly_KR              783 , 202  \n",
       "Filtering [1, 2, 3], r2>None, RBF_SVR              783 , 202  \n",
       "Filtering [1, 2, 3], r2>None, Linear_SVR           783 , 202  \n",
       "Filtering [1, 2, 3], r2>0, Poly_KR                 783 , 202  \n",
       "Filtering [1, 2, 3], r2>0, RBF_SVR                 783 , 202  \n",
       "Filtering [1, 2, 3], r2>0, Linear_SVR              783 , 202  \n",
       "Filtering [1, 2, 3], r2>0.9, Poly_KR               736 , 189  \n",
       "Filtering [1, 2, 3], r2>0.9, RBF_SVR               736 , 189  \n",
       "Filtering [1, 2, 3], r2>0.9, Linear_SVR            736 , 189  \n",
       "Filtering [1, 2, 3, 4], r2>None, Poly_KR           705 , 180  \n",
       "Filtering [1, 2, 3, 4], r2>None, RBF_SVR           705 , 180  \n",
       "Filtering [1, 2, 3, 4], r2>None, Linear_SVR        705 , 180  \n",
       "Filtering [1, 2, 3, 4], r2>0, Poly_KR              705 , 180  \n",
       "Filtering [1, 2, 3, 4], r2>0, RBF_SVR              705 , 180  \n",
       "Filtering [1, 2, 3, 4], r2>0, Linear_SVR           705 , 180  \n",
       "Filtering [1, 2, 3, 4], r2>0.9, Poly_KR            704 , 180  \n",
       "Filtering [1, 2, 3, 4], r2>0.9, RBF_SVR            704 , 180  \n",
       "Filtering [1, 2, 3, 4], r2>0.9, Linear_SVR         704 , 180  "
      ]
     },
     "metadata": {},
     "output_type": "display_data"
    },
    {
     "name": "stderr",
     "output_type": "stream",
     "text": [
      "100%|██████████| 2776/2776 [00:09<00:00, 296.40it/s]\n"
     ]
    },
    {
     "name": "stdout",
     "output_type": "stream",
     "text": [
      "logLogistR Filtering [1, 2, 3], r2>None, Poly_KR\n",
      "\n",
      "MAE: 0.066 +/- 0.027\n",
      "MRE: 87.0 +/- 556.6\n",
      "\n",
      "(783, 1369) (202, 1369)\n"
     ]
    },
    {
     "name": "stderr",
     "output_type": "stream",
     "text": [
      "100%|██████████| 2776/2776 [00:08<00:00, 321.92it/s]\n"
     ]
    },
    {
     "name": "stdout",
     "output_type": "stream",
     "text": [
      "logLogistR Filtering [1, 2, 3], r2>0, Poly_KR\n",
      "\n",
      "MAE: 0.066 +/- 0.027\n",
      "MRE: 87.0 +/- 556.6\n",
      "\n",
      "(783, 1369) (202, 1369)\n"
     ]
    },
    {
     "name": "stderr",
     "output_type": "stream",
     "text": [
      "100%|██████████| 2776/2776 [00:08<00:00, 323.45it/s]\n"
     ]
    },
    {
     "name": "stdout",
     "output_type": "stream",
     "text": [
      "logLogistR Filtering [1, 2, 3], r2>0.9, Poly_KR\n",
      "\n",
      "MAE: 0.06 +/- 0.027\n",
      "MRE: -16.5 +/- 695.1\n",
      "\n",
      "(736, 1369) (188, 1369)\n"
     ]
    },
    {
     "name": "stderr",
     "output_type": "stream",
     "text": [
      "100%|██████████| 2600/2600 [00:08<00:00, 298.47it/s]\n"
     ]
    },
    {
     "name": "stdout",
     "output_type": "stream",
     "text": [
      "logLogistR Filtering [1, 2, 3, 4], r2>None, Poly_KR\n",
      "\n",
      "MAE: 0.066 +/- 0.032\n",
      "MRE: -283.9 +/- 971.5\n",
      "\n",
      "(705, 1369) (180, 1369)\n"
     ]
    },
    {
     "name": "stderr",
     "output_type": "stream",
     "text": [
      "100%|██████████| 2600/2600 [00:07<00:00, 328.90it/s]\n"
     ]
    },
    {
     "name": "stdout",
     "output_type": "stream",
     "text": [
      "logLogistR Filtering [1, 2, 3, 4], r2>0, Poly_KR\n",
      "\n",
      "MAE: 0.066 +/- 0.032\n",
      "MRE: -283.9 +/- 971.5\n",
      "\n",
      "(705, 1369) (180, 1369)\n"
     ]
    },
    {
     "name": "stderr",
     "output_type": "stream",
     "text": [
      "100%|██████████| 2600/2600 [00:10<00:00, 249.87it/s]\n"
     ]
    },
    {
     "name": "stdout",
     "output_type": "stream",
     "text": [
      "logLogistR Filtering [1, 2, 3, 4], r2>0.9, Poly_KR\n",
      "\n",
      "MAE: 0.068 +/- 0.033\n",
      "MRE: -304.6 +/- 987.9\n",
      "\n",
      "(704, 1369) (180, 1369)\n"
     ]
    },
    {
     "name": "stderr",
     "output_type": "stream",
     "text": [
      "100%|██████████| 2776/2776 [00:10<00:00, 256.78it/s]\n"
     ]
    },
    {
     "name": "stdout",
     "output_type": "stream",
     "text": [
      "logLogistR Filtering [1, 2, 3], r2>None, RBF_SVR\n",
      "\n",
      "MAE: 0.067 +/- 0.026\n",
      "MRE: 176.5 +/- 630.3\n",
      "\n",
      "(783, 1369) (202, 1369)\n"
     ]
    },
    {
     "name": "stderr",
     "output_type": "stream",
     "text": [
      "100%|██████████| 2776/2776 [00:09<00:00, 294.70it/s]\n"
     ]
    },
    {
     "name": "stdout",
     "output_type": "stream",
     "text": [
      "logLogistR Filtering [1, 2, 3], r2>0, RBF_SVR\n",
      "\n",
      "MAE: 0.067 +/- 0.026\n",
      "MRE: 176.5 +/- 630.3\n",
      "\n",
      "(783, 1369) (202, 1369)\n"
     ]
    },
    {
     "name": "stderr",
     "output_type": "stream",
     "text": [
      "100%|██████████| 2776/2776 [00:08<00:00, 319.31it/s]\n"
     ]
    },
    {
     "name": "stdout",
     "output_type": "stream",
     "text": [
      "logLogistR Filtering [1, 2, 3], r2>0.9, RBF_SVR\n",
      "\n",
      "MAE: 0.06 +/- 0.028\n",
      "MRE: -21.7 +/- 615.7\n",
      "\n",
      "(736, 1369) (188, 1369)\n"
     ]
    },
    {
     "name": "stderr",
     "output_type": "stream",
     "text": [
      "100%|██████████| 2600/2600 [00:07<00:00, 355.75it/s]\n"
     ]
    },
    {
     "name": "stdout",
     "output_type": "stream",
     "text": [
      "logLogistR Filtering [1, 2, 3, 4], r2>None, RBF_SVR\n",
      "\n",
      "MAE: 0.065 +/- 0.033\n",
      "MRE: -256.8 +/- 933.2\n",
      "\n",
      "(705, 1369) (180, 1369)\n"
     ]
    },
    {
     "name": "stderr",
     "output_type": "stream",
     "text": [
      "100%|██████████| 2600/2600 [00:07<00:00, 355.23it/s]\n"
     ]
    },
    {
     "name": "stdout",
     "output_type": "stream",
     "text": [
      "logLogistR Filtering [1, 2, 3, 4], r2>0, RBF_SVR\n",
      "\n",
      "MAE: 0.065 +/- 0.033\n",
      "MRE: -256.8 +/- 933.2\n",
      "\n",
      "(705, 1369) (180, 1369)\n"
     ]
    },
    {
     "name": "stderr",
     "output_type": "stream",
     "text": [
      "100%|██████████| 2600/2600 [00:07<00:00, 358.55it/s]\n"
     ]
    },
    {
     "name": "stdout",
     "output_type": "stream",
     "text": [
      "logLogistR Filtering [1, 2, 3, 4], r2>0.9, RBF_SVR\n",
      "\n",
      "MAE: 0.068 +/- 0.033\n",
      "MRE: -275.5 +/- 944.6\n",
      "\n",
      "(704, 1369) (180, 1369)\n"
     ]
    },
    {
     "name": "stderr",
     "output_type": "stream",
     "text": [
      "100%|██████████| 2776/2776 [00:07<00:00, 357.12it/s]\n"
     ]
    },
    {
     "name": "stdout",
     "output_type": "stream",
     "text": [
      "logLogistR Filtering [1, 2, 3], r2>None, Linear_SVR\n",
      "\n",
      "MAE: 0.092 +/- 0.026\n",
      "MRE: 62.6 +/- 1557.1\n",
      "\n",
      "(783, 1369) (202, 1369)\n"
     ]
    },
    {
     "name": "stderr",
     "output_type": "stream",
     "text": [
      "100%|██████████| 2776/2776 [00:08<00:00, 339.67it/s]\n"
     ]
    },
    {
     "name": "stdout",
     "output_type": "stream",
     "text": [
      "logLogistR Filtering [1, 2, 3], r2>0, Linear_SVR\n",
      "\n",
      "MAE: 0.092 +/- 0.026\n",
      "MRE: 62.6 +/- 1557.1\n",
      "\n",
      "(783, 1369) (202, 1369)\n"
     ]
    },
    {
     "name": "stderr",
     "output_type": "stream",
     "text": [
      "100%|██████████| 2776/2776 [00:10<00:00, 275.99it/s]\n"
     ]
    },
    {
     "name": "stdout",
     "output_type": "stream",
     "text": [
      "logLogistR Filtering [1, 2, 3], r2>0.9, Linear_SVR\n",
      "\n",
      "MAE: 0.091 +/- 0.024\n",
      "MRE: -405.3 +/- 1476.1\n",
      "\n",
      "(736, 1369) (188, 1369)\n"
     ]
    },
    {
     "name": "stderr",
     "output_type": "stream",
     "text": [
      "100%|██████████| 2600/2600 [00:09<00:00, 279.31it/s]\n"
     ]
    },
    {
     "name": "stdout",
     "output_type": "stream",
     "text": [
      "logLogistR Filtering [1, 2, 3, 4], r2>None, Linear_SVR\n",
      "\n",
      "MAE: 0.11 +/- 0.026\n",
      "MRE: -233.8 +/- 1216.6\n",
      "\n",
      "(705, 1369) (180, 1369)\n"
     ]
    },
    {
     "name": "stderr",
     "output_type": "stream",
     "text": [
      "100%|██████████| 2600/2600 [00:07<00:00, 356.80it/s]\n"
     ]
    },
    {
     "name": "stdout",
     "output_type": "stream",
     "text": [
      "logLogistR Filtering [1, 2, 3, 4], r2>0, Linear_SVR\n",
      "\n",
      "MAE: 0.11 +/- 0.026\n",
      "MRE: -233.8 +/- 1216.6\n",
      "\n",
      "(705, 1369) (180, 1369)\n"
     ]
    },
    {
     "name": "stderr",
     "output_type": "stream",
     "text": [
      "100%|██████████| 2600/2600 [00:07<00:00, 357.60it/s]\n"
     ]
    },
    {
     "name": "stdout",
     "output_type": "stream",
     "text": [
      "logLogistR Filtering [1, 2, 3, 4], r2>0.9, Linear_SVR\n",
      "\n",
      "MAE: 0.109 +/- 0.031\n",
      "MRE: -311.3 +/- 1296.6\n",
      "\n",
      "(704, 1369) (180, 1369)\n",
      "\n",
      " logLogistR\n"
     ]
    },
    {
     "data": {
      "text/html": [
       "<div>\n",
       "<style scoped>\n",
       "    .dataframe tbody tr th:only-of-type {\n",
       "        vertical-align: middle;\n",
       "    }\n",
       "\n",
       "    .dataframe tbody tr th {\n",
       "        vertical-align: top;\n",
       "    }\n",
       "\n",
       "    .dataframe thead th {\n",
       "        text-align: right;\n",
       "    }\n",
       "</style>\n",
       "<table border=\"1\" class=\"dataframe\">\n",
       "  <thead>\n",
       "    <tr style=\"text-align: right;\">\n",
       "      <th></th>\n",
       "      <th>mae_coef_3</th>\n",
       "      <th>mre_coef_3</th>\n",
       "      <th>train_test_shape</th>\n",
       "    </tr>\n",
       "  </thead>\n",
       "  <tbody>\n",
       "    <tr>\n",
       "      <th>Filtering [1, 2, 3], r2&gt;None, Poly_KR</th>\n",
       "      <td>0.066 +/- 0.027</td>\n",
       "      <td>87.0 +/- 556.6</td>\n",
       "      <td>783 , 202</td>\n",
       "    </tr>\n",
       "    <tr>\n",
       "      <th>Filtering [1, 2, 3], r2&gt;None, RBF_SVR</th>\n",
       "      <td>0.067 +/- 0.026</td>\n",
       "      <td>176.5 +/- 630.3</td>\n",
       "      <td>783 , 202</td>\n",
       "    </tr>\n",
       "    <tr>\n",
       "      <th>Filtering [1, 2, 3], r2&gt;None, Linear_SVR</th>\n",
       "      <td>0.092 +/- 0.026</td>\n",
       "      <td>62.6 +/- 1557.1</td>\n",
       "      <td>783 , 202</td>\n",
       "    </tr>\n",
       "    <tr>\n",
       "      <th>Filtering [1, 2, 3], r2&gt;0, Poly_KR</th>\n",
       "      <td>0.066 +/- 0.027</td>\n",
       "      <td>87.0 +/- 556.6</td>\n",
       "      <td>783 , 202</td>\n",
       "    </tr>\n",
       "    <tr>\n",
       "      <th>Filtering [1, 2, 3], r2&gt;0, RBF_SVR</th>\n",
       "      <td>0.067 +/- 0.026</td>\n",
       "      <td>176.5 +/- 630.3</td>\n",
       "      <td>783 , 202</td>\n",
       "    </tr>\n",
       "    <tr>\n",
       "      <th>Filtering [1, 2, 3], r2&gt;0, Linear_SVR</th>\n",
       "      <td>0.092 +/- 0.026</td>\n",
       "      <td>62.6 +/- 1557.1</td>\n",
       "      <td>783 , 202</td>\n",
       "    </tr>\n",
       "    <tr>\n",
       "      <th>Filtering [1, 2, 3], r2&gt;0.9, Poly_KR</th>\n",
       "      <td>0.06 +/- 0.027</td>\n",
       "      <td>-16.5 +/- 695.1</td>\n",
       "      <td>736 , 188</td>\n",
       "    </tr>\n",
       "    <tr>\n",
       "      <th>Filtering [1, 2, 3], r2&gt;0.9, RBF_SVR</th>\n",
       "      <td>0.06 +/- 0.028</td>\n",
       "      <td>-21.7 +/- 615.7</td>\n",
       "      <td>736 , 188</td>\n",
       "    </tr>\n",
       "    <tr>\n",
       "      <th>Filtering [1, 2, 3], r2&gt;0.9, Linear_SVR</th>\n",
       "      <td>0.091 +/- 0.024</td>\n",
       "      <td>-405.3 +/- 1476.1</td>\n",
       "      <td>736 , 188</td>\n",
       "    </tr>\n",
       "    <tr>\n",
       "      <th>Filtering [1, 2, 3, 4], r2&gt;None, Poly_KR</th>\n",
       "      <td>0.066 +/- 0.032</td>\n",
       "      <td>-283.9 +/- 971.5</td>\n",
       "      <td>705 , 180</td>\n",
       "    </tr>\n",
       "    <tr>\n",
       "      <th>Filtering [1, 2, 3, 4], r2&gt;None, RBF_SVR</th>\n",
       "      <td>0.065 +/- 0.033</td>\n",
       "      <td>-256.8 +/- 933.2</td>\n",
       "      <td>705 , 180</td>\n",
       "    </tr>\n",
       "    <tr>\n",
       "      <th>Filtering [1, 2, 3, 4], r2&gt;None, Linear_SVR</th>\n",
       "      <td>0.11 +/- 0.026</td>\n",
       "      <td>-233.8 +/- 1216.6</td>\n",
       "      <td>705 , 180</td>\n",
       "    </tr>\n",
       "    <tr>\n",
       "      <th>Filtering [1, 2, 3, 4], r2&gt;0, Poly_KR</th>\n",
       "      <td>0.066 +/- 0.032</td>\n",
       "      <td>-283.9 +/- 971.5</td>\n",
       "      <td>705 , 180</td>\n",
       "    </tr>\n",
       "    <tr>\n",
       "      <th>Filtering [1, 2, 3, 4], r2&gt;0, RBF_SVR</th>\n",
       "      <td>0.065 +/- 0.033</td>\n",
       "      <td>-256.8 +/- 933.2</td>\n",
       "      <td>705 , 180</td>\n",
       "    </tr>\n",
       "    <tr>\n",
       "      <th>Filtering [1, 2, 3, 4], r2&gt;0, Linear_SVR</th>\n",
       "      <td>0.11 +/- 0.026</td>\n",
       "      <td>-233.8 +/- 1216.6</td>\n",
       "      <td>705 , 180</td>\n",
       "    </tr>\n",
       "    <tr>\n",
       "      <th>Filtering [1, 2, 3, 4], r2&gt;0.9, Poly_KR</th>\n",
       "      <td>0.068 +/- 0.033</td>\n",
       "      <td>-304.6 +/- 987.9</td>\n",
       "      <td>704 , 180</td>\n",
       "    </tr>\n",
       "    <tr>\n",
       "      <th>Filtering [1, 2, 3, 4], r2&gt;0.9, RBF_SVR</th>\n",
       "      <td>0.068 +/- 0.033</td>\n",
       "      <td>-275.5 +/- 944.6</td>\n",
       "      <td>704 , 180</td>\n",
       "    </tr>\n",
       "    <tr>\n",
       "      <th>Filtering [1, 2, 3, 4], r2&gt;0.9, Linear_SVR</th>\n",
       "      <td>0.109 +/- 0.031</td>\n",
       "      <td>-311.3 +/- 1296.6</td>\n",
       "      <td>704 , 180</td>\n",
       "    </tr>\n",
       "  </tbody>\n",
       "</table>\n",
       "</div>"
      ],
      "text/plain": [
       "                                                  mae_coef_3  \\\n",
       "Filtering [1, 2, 3], r2>None, Poly_KR        0.066 +/- 0.027   \n",
       "Filtering [1, 2, 3], r2>None, RBF_SVR        0.067 +/- 0.026   \n",
       "Filtering [1, 2, 3], r2>None, Linear_SVR     0.092 +/- 0.026   \n",
       "Filtering [1, 2, 3], r2>0, Poly_KR           0.066 +/- 0.027   \n",
       "Filtering [1, 2, 3], r2>0, RBF_SVR           0.067 +/- 0.026   \n",
       "Filtering [1, 2, 3], r2>0, Linear_SVR        0.092 +/- 0.026   \n",
       "Filtering [1, 2, 3], r2>0.9, Poly_KR          0.06 +/- 0.027   \n",
       "Filtering [1, 2, 3], r2>0.9, RBF_SVR          0.06 +/- 0.028   \n",
       "Filtering [1, 2, 3], r2>0.9, Linear_SVR      0.091 +/- 0.024   \n",
       "Filtering [1, 2, 3, 4], r2>None, Poly_KR     0.066 +/- 0.032   \n",
       "Filtering [1, 2, 3, 4], r2>None, RBF_SVR     0.065 +/- 0.033   \n",
       "Filtering [1, 2, 3, 4], r2>None, Linear_SVR   0.11 +/- 0.026   \n",
       "Filtering [1, 2, 3, 4], r2>0, Poly_KR        0.066 +/- 0.032   \n",
       "Filtering [1, 2, 3, 4], r2>0, RBF_SVR        0.065 +/- 0.033   \n",
       "Filtering [1, 2, 3, 4], r2>0, Linear_SVR      0.11 +/- 0.026   \n",
       "Filtering [1, 2, 3, 4], r2>0.9, Poly_KR      0.068 +/- 0.033   \n",
       "Filtering [1, 2, 3, 4], r2>0.9, RBF_SVR      0.068 +/- 0.033   \n",
       "Filtering [1, 2, 3, 4], r2>0.9, Linear_SVR   0.109 +/- 0.031   \n",
       "\n",
       "                                                    mre_coef_3  \\\n",
       "Filtering [1, 2, 3], r2>None, Poly_KR           87.0 +/- 556.6   \n",
       "Filtering [1, 2, 3], r2>None, RBF_SVR          176.5 +/- 630.3   \n",
       "Filtering [1, 2, 3], r2>None, Linear_SVR       62.6 +/- 1557.1   \n",
       "Filtering [1, 2, 3], r2>0, Poly_KR              87.0 +/- 556.6   \n",
       "Filtering [1, 2, 3], r2>0, RBF_SVR             176.5 +/- 630.3   \n",
       "Filtering [1, 2, 3], r2>0, Linear_SVR          62.6 +/- 1557.1   \n",
       "Filtering [1, 2, 3], r2>0.9, Poly_KR           -16.5 +/- 695.1   \n",
       "Filtering [1, 2, 3], r2>0.9, RBF_SVR           -21.7 +/- 615.7   \n",
       "Filtering [1, 2, 3], r2>0.9, Linear_SVR      -405.3 +/- 1476.1   \n",
       "Filtering [1, 2, 3, 4], r2>None, Poly_KR      -283.9 +/- 971.5   \n",
       "Filtering [1, 2, 3, 4], r2>None, RBF_SVR      -256.8 +/- 933.2   \n",
       "Filtering [1, 2, 3, 4], r2>None, Linear_SVR  -233.8 +/- 1216.6   \n",
       "Filtering [1, 2, 3, 4], r2>0, Poly_KR         -283.9 +/- 971.5   \n",
       "Filtering [1, 2, 3, 4], r2>0, RBF_SVR         -256.8 +/- 933.2   \n",
       "Filtering [1, 2, 3, 4], r2>0, Linear_SVR     -233.8 +/- 1216.6   \n",
       "Filtering [1, 2, 3, 4], r2>0.9, Poly_KR       -304.6 +/- 987.9   \n",
       "Filtering [1, 2, 3, 4], r2>0.9, RBF_SVR       -275.5 +/- 944.6   \n",
       "Filtering [1, 2, 3, 4], r2>0.9, Linear_SVR   -311.3 +/- 1296.6   \n",
       "\n",
       "                                            train_test_shape  \n",
       "Filtering [1, 2, 3], r2>None, Poly_KR              783 , 202  \n",
       "Filtering [1, 2, 3], r2>None, RBF_SVR              783 , 202  \n",
       "Filtering [1, 2, 3], r2>None, Linear_SVR           783 , 202  \n",
       "Filtering [1, 2, 3], r2>0, Poly_KR                 783 , 202  \n",
       "Filtering [1, 2, 3], r2>0, RBF_SVR                 783 , 202  \n",
       "Filtering [1, 2, 3], r2>0, Linear_SVR              783 , 202  \n",
       "Filtering [1, 2, 3], r2>0.9, Poly_KR               736 , 188  \n",
       "Filtering [1, 2, 3], r2>0.9, RBF_SVR               736 , 188  \n",
       "Filtering [1, 2, 3], r2>0.9, Linear_SVR            736 , 188  \n",
       "Filtering [1, 2, 3, 4], r2>None, Poly_KR           705 , 180  \n",
       "Filtering [1, 2, 3, 4], r2>None, RBF_SVR           705 , 180  \n",
       "Filtering [1, 2, 3, 4], r2>None, Linear_SVR        705 , 180  \n",
       "Filtering [1, 2, 3, 4], r2>0, Poly_KR              705 , 180  \n",
       "Filtering [1, 2, 3, 4], r2>0, RBF_SVR              705 , 180  \n",
       "Filtering [1, 2, 3, 4], r2>0, Linear_SVR           705 , 180  \n",
       "Filtering [1, 2, 3, 4], r2>0.9, Poly_KR            704 , 180  \n",
       "Filtering [1, 2, 3, 4], r2>0.9, RBF_SVR            704 , 180  \n",
       "Filtering [1, 2, 3, 4], r2>0.9, Linear_SVR         704 , 180  "
      ]
     },
     "metadata": {},
     "output_type": "display_data"
    },
    {
     "data": {
      "image/png": "[encoded data removed]",
      "text/plain": [
       "<Figure size 288x216 with 1 Axes>"
      ]
     },
     "metadata": {
      "needs_background": "light"
     },
     "output_type": "display_data"
    },
    {
     "data": {
      "image/png": "[encoded data removed]",
      "text/plain": [
       "<Figure size 288x216 with 1 Axes>"
      ]
     },
     "metadata": {
      "needs_background": "light"
     },
     "output_type": "display_data"
    },
    {
     "data": {
      "image/png": "[encoded data removed]",
      "text/plain": [
       "<Figure size 288x216 with 1 Axes>"
      ]
     },
     "metadata": {
      "needs_background": "light"
     },
     "output_type": "display_data"
    }
   ],
   "source": [
    "coef=3\n",
    "results_3 = CompareTrainingScenariosModels(coef, models_dict, X_columns, _FOLDER, _FOLDER_2, \n",
    "                                           fitting_functions, filtering_scenarios, r2_restrictions,\n",
    "                                           print_progress_info = False)"
   ]
  },
  {
   "cell_type": "code",
   "execution_count": 8,
   "metadata": {},
   "outputs": [
    {
     "name": "stderr",
     "output_type": "stream",
     "text": [
      "100%|██████████| 2776/2776 [00:07<00:00, 382.42it/s]\n"
     ]
    },
    {
     "name": "stdout",
     "output_type": "stream",
     "text": [
      "sigmoid_4_param Filtering [1, 2, 3], r2>None, Poly_KR\n",
      "\n",
      "MAE: 0.12 +/- 0.136\n",
      "MRE: 112.3 +/- 156.2\n",
      "\n",
      "(781, 1370) (202, 1370)\n"
     ]
    },
    {
     "name": "stderr",
     "output_type": "stream",
     "text": [
      "100%|██████████| 2776/2776 [00:07<00:00, 392.95it/s]\n"
     ]
    },
    {
     "name": "stdout",
     "output_type": "stream",
     "text": [
      "sigmoid_4_param Filtering [1, 2, 3], r2>0, Poly_KR\n",
      "\n",
      "MAE: 0.12 +/- 0.136\n",
      "MRE: 112.3 +/- 156.2\n",
      "\n",
      "(781, 1370) (202, 1370)\n"
     ]
    },
    {
     "name": "stderr",
     "output_type": "stream",
     "text": [
      "100%|██████████| 2776/2776 [00:07<00:00, 395.17it/s]\n"
     ]
    },
    {
     "name": "stdout",
     "output_type": "stream",
     "text": [
      "sigmoid_4_param Filtering [1, 2, 3], r2>0.9, Poly_KR\n",
      "\n",
      "MAE: 0.064 +/- 0.028\n",
      "MRE: 2.5 +/- 156.9\n",
      "\n",
      "(723, 1370) (185, 1370)\n"
     ]
    },
    {
     "name": "stderr",
     "output_type": "stream",
     "text": [
      "100%|██████████| 2600/2600 [00:06<00:00, 395.43it/s]\n"
     ]
    },
    {
     "name": "stdout",
     "output_type": "stream",
     "text": [
      "sigmoid_4_param Filtering [1, 2, 3, 4], r2>None, Poly_KR\n",
      "\n",
      "MAE: 0.076 +/- 0.041\n",
      "MRE: -27.4 +/- 910.0\n",
      "\n",
      "(703, 1370) (180, 1370)\n"
     ]
    },
    {
     "name": "stderr",
     "output_type": "stream",
     "text": [
      "100%|██████████| 2600/2600 [00:06<00:00, 388.54it/s]\n"
     ]
    },
    {
     "name": "stdout",
     "output_type": "stream",
     "text": [
      "sigmoid_4_param Filtering [1, 2, 3, 4], r2>0, Poly_KR\n",
      "\n",
      "MAE: 0.076 +/- 0.041\n",
      "MRE: -27.4 +/- 910.0\n",
      "\n",
      "(703, 1370) (180, 1370)\n"
     ]
    },
    {
     "name": "stderr",
     "output_type": "stream",
     "text": [
      "100%|██████████| 2600/2600 [00:06<00:00, 397.73it/s]\n"
     ]
    },
    {
     "name": "stdout",
     "output_type": "stream",
     "text": [
      "sigmoid_4_param Filtering [1, 2, 3, 4], r2>0.9, Poly_KR\n",
      "\n",
      "MAE: 0.069 +/- 0.035\n",
      "MRE: -75.0 +/- 907.6\n",
      "\n",
      "(691, 1370) (177, 1370)\n"
     ]
    },
    {
     "name": "stderr",
     "output_type": "stream",
     "text": [
      "100%|██████████| 2776/2776 [00:07<00:00, 376.14it/s]\n"
     ]
    },
    {
     "name": "stdout",
     "output_type": "stream",
     "text": [
      "sigmoid_4_param Filtering [1, 2, 3], r2>None, RBF_SVR\n",
      "\n",
      "MAE: 0.121 +/- 0.139\n",
      "MRE: 129.0 +/- 160.8\n",
      "\n",
      "(781, 1370) (202, 1370)\n"
     ]
    },
    {
     "name": "stderr",
     "output_type": "stream",
     "text": [
      "100%|██████████| 2776/2776 [00:07<00:00, 391.53it/s]\n"
     ]
    },
    {
     "name": "stdout",
     "output_type": "stream",
     "text": [
      "sigmoid_4_param Filtering [1, 2, 3], r2>0, RBF_SVR\n",
      "\n",
      "MAE: 0.121 +/- 0.139\n",
      "MRE: 129.0 +/- 160.8\n",
      "\n",
      "(781, 1370) (202, 1370)\n"
     ]
    },
    {
     "name": "stderr",
     "output_type": "stream",
     "text": [
      "100%|██████████| 2776/2776 [00:07<00:00, 394.55it/s]\n"
     ]
    },
    {
     "name": "stdout",
     "output_type": "stream",
     "text": [
      "sigmoid_4_param Filtering [1, 2, 3], r2>0.9, RBF_SVR\n",
      "\n",
      "MAE: 0.064 +/- 0.03\n",
      "MRE: 29.9 +/- 151.6\n",
      "\n",
      "(723, 1370) (185, 1370)\n"
     ]
    },
    {
     "name": "stderr",
     "output_type": "stream",
     "text": [
      "100%|██████████| 2600/2600 [00:07<00:00, 341.62it/s]\n"
     ]
    },
    {
     "name": "stdout",
     "output_type": "stream",
     "text": [
      "sigmoid_4_param Filtering [1, 2, 3, 4], r2>None, RBF_SVR\n",
      "\n",
      "MAE: 0.076 +/- 0.041\n",
      "MRE: 54.1 +/- 736.2\n",
      "\n",
      "(703, 1370) (180, 1370)\n"
     ]
    },
    {
     "name": "stderr",
     "output_type": "stream",
     "text": [
      "100%|██████████| 2600/2600 [00:06<00:00, 398.30it/s]\n"
     ]
    },
    {
     "name": "stdout",
     "output_type": "stream",
     "text": [
      "sigmoid_4_param Filtering [1, 2, 3, 4], r2>0, RBF_SVR\n",
      "\n",
      "MAE: 0.076 +/- 0.041\n",
      "MRE: 54.1 +/- 736.2\n",
      "\n",
      "(703, 1370) (180, 1370)\n"
     ]
    },
    {
     "name": "stderr",
     "output_type": "stream",
     "text": [
      "100%|██████████| 2600/2600 [00:06<00:00, 399.64it/s]\n"
     ]
    },
    {
     "name": "stdout",
     "output_type": "stream",
     "text": [
      "sigmoid_4_param Filtering [1, 2, 3, 4], r2>0.9, RBF_SVR\n",
      "\n",
      "MAE: 0.069 +/- 0.036\n",
      "MRE: -40.1 +/- 838.8\n",
      "\n",
      "(691, 1370) (177, 1370)\n"
     ]
    },
    {
     "name": "stderr",
     "output_type": "stream",
     "text": [
      "100%|██████████| 2776/2776 [00:07<00:00, 385.71it/s]\n"
     ]
    },
    {
     "name": "stdout",
     "output_type": "stream",
     "text": [
      "sigmoid_4_param Filtering [1, 2, 3], r2>None, Linear_SVR\n",
      "\n",
      "MAE: 0.233 +/- 0.307\n",
      "MRE: 390.8 +/- 396.2\n",
      "\n",
      "(781, 1370) (202, 1370)\n"
     ]
    },
    {
     "name": "stderr",
     "output_type": "stream",
     "text": [
      "100%|██████████| 2776/2776 [00:07<00:00, 394.14it/s]\n"
     ]
    },
    {
     "name": "stdout",
     "output_type": "stream",
     "text": [
      "sigmoid_4_param Filtering [1, 2, 3], r2>0, Linear_SVR\n",
      "\n",
      "MAE: 0.233 +/- 0.307\n",
      "MRE: 390.8 +/- 396.2\n",
      "\n",
      "(781, 1370) (202, 1370)\n"
     ]
    },
    {
     "name": "stderr",
     "output_type": "stream",
     "text": [
      "100%|██████████| 2776/2776 [00:07<00:00, 366.19it/s]\n"
     ]
    },
    {
     "name": "stdout",
     "output_type": "stream",
     "text": [
      "sigmoid_4_param Filtering [1, 2, 3], r2>0.9, Linear_SVR\n",
      "\n",
      "MAE: 0.081 +/- 0.028\n",
      "MRE: 95.4 +/- 308.4\n",
      "\n",
      "(723, 1370) (185, 1370)\n"
     ]
    },
    {
     "name": "stderr",
     "output_type": "stream",
     "text": [
      "100%|██████████| 2600/2600 [00:06<00:00, 393.87it/s]\n"
     ]
    },
    {
     "name": "stdout",
     "output_type": "stream",
     "text": [
      "sigmoid_4_param Filtering [1, 2, 3, 4], r2>None, Linear_SVR\n",
      "\n",
      "MAE: 0.1 +/- 0.03\n",
      "MRE: 569.6 +/- 1878.1\n",
      "\n",
      "(703, 1370) (180, 1370)\n"
     ]
    },
    {
     "name": "stderr",
     "output_type": "stream",
     "text": [
      "100%|██████████| 2600/2600 [00:06<00:00, 378.79it/s]\n"
     ]
    },
    {
     "name": "stdout",
     "output_type": "stream",
     "text": [
      "sigmoid_4_param Filtering [1, 2, 3, 4], r2>0, Linear_SVR\n",
      "\n",
      "MAE: 0.1 +/- 0.03\n",
      "MRE: 569.6 +/- 1878.1\n",
      "\n",
      "(703, 1370) (180, 1370)\n"
     ]
    },
    {
     "name": "stderr",
     "output_type": "stream",
     "text": [
      "100%|██████████| 2600/2600 [00:06<00:00, 399.40it/s]\n"
     ]
    },
    {
     "name": "stdout",
     "output_type": "stream",
     "text": [
      "sigmoid_4_param Filtering [1, 2, 3, 4], r2>0.9, Linear_SVR\n",
      "\n",
      "MAE: 0.085 +/- 0.032\n",
      "MRE: 476.2 +/- 1852.0\n",
      "\n",
      "(691, 1370) (177, 1370)\n",
      "\n",
      " sigmoid_4_param\n"
     ]
    },
    {
     "data": {
      "text/html": [
       "<div>\n",
       "<style scoped>\n",
       "    .dataframe tbody tr th:only-of-type {\n",
       "        vertical-align: middle;\n",
       "    }\n",
       "\n",
       "    .dataframe tbody tr th {\n",
       "        vertical-align: top;\n",
       "    }\n",
       "\n",
       "    .dataframe thead th {\n",
       "        text-align: right;\n",
       "    }\n",
       "</style>\n",
       "<table border=\"1\" class=\"dataframe\">\n",
       "  <thead>\n",
       "    <tr style=\"text-align: right;\">\n",
       "      <th></th>\n",
       "      <th>mae_coef_4</th>\n",
       "      <th>mre_coef_4</th>\n",
       "      <th>train_test_shape</th>\n",
       "    </tr>\n",
       "  </thead>\n",
       "  <tbody>\n",
       "    <tr>\n",
       "      <th>Filtering [1, 2, 3], r2&gt;None, Poly_KR</th>\n",
       "      <td>0.12 +/- 0.136</td>\n",
       "      <td>112.3 +/- 156.2</td>\n",
       "      <td>781 , 202</td>\n",
       "    </tr>\n",
       "    <tr>\n",
       "      <th>Filtering [1, 2, 3], r2&gt;None, RBF_SVR</th>\n",
       "      <td>0.121 +/- 0.139</td>\n",
       "      <td>129.0 +/- 160.8</td>\n",
       "      <td>781 , 202</td>\n",
       "    </tr>\n",
       "    <tr>\n",
       "      <th>Filtering [1, 2, 3], r2&gt;None, Linear_SVR</th>\n",
       "      <td>0.233 +/- 0.307</td>\n",
       "      <td>390.8 +/- 396.2</td>\n",
       "      <td>781 , 202</td>\n",
       "    </tr>\n",
       "    <tr>\n",
       "      <th>Filtering [1, 2, 3], r2&gt;0, Poly_KR</th>\n",
       "      <td>0.12 +/- 0.136</td>\n",
       "      <td>112.3 +/- 156.2</td>\n",
       "      <td>781 , 202</td>\n",
       "    </tr>\n",
       "    <tr>\n",
       "      <th>Filtering [1, 2, 3], r2&gt;0, RBF_SVR</th>\n",
       "      <td>0.121 +/- 0.139</td>\n",
       "      <td>129.0 +/- 160.8</td>\n",
       "      <td>781 , 202</td>\n",
       "    </tr>\n",
       "    <tr>\n",
       "      <th>Filtering [1, 2, 3], r2&gt;0, Linear_SVR</th>\n",
       "      <td>0.233 +/- 0.307</td>\n",
       "      <td>390.8 +/- 396.2</td>\n",
       "      <td>781 , 202</td>\n",
       "    </tr>\n",
       "    <tr>\n",
       "      <th>Filtering [1, 2, 3], r2&gt;0.9, Poly_KR</th>\n",
       "      <td>0.064 +/- 0.028</td>\n",
       "      <td>2.5 +/- 156.9</td>\n",
       "      <td>723 , 185</td>\n",
       "    </tr>\n",
       "    <tr>\n",
       "      <th>Filtering [1, 2, 3], r2&gt;0.9, RBF_SVR</th>\n",
       "      <td>0.064 +/- 0.03</td>\n",
       "      <td>29.9 +/- 151.6</td>\n",
       "      <td>723 , 185</td>\n",
       "    </tr>\n",
       "    <tr>\n",
       "      <th>Filtering [1, 2, 3], r2&gt;0.9, Linear_SVR</th>\n",
       "      <td>0.081 +/- 0.028</td>\n",
       "      <td>95.4 +/- 308.4</td>\n",
       "      <td>723 , 185</td>\n",
       "    </tr>\n",
       "    <tr>\n",
       "      <th>Filtering [1, 2, 3, 4], r2&gt;None, Poly_KR</th>\n",
       "      <td>0.076 +/- 0.041</td>\n",
       "      <td>-27.4 +/- 910.0</td>\n",
       "      <td>703 , 180</td>\n",
       "    </tr>\n",
       "    <tr>\n",
       "      <th>Filtering [1, 2, 3, 4], r2&gt;None, RBF_SVR</th>\n",
       "      <td>0.076 +/- 0.041</td>\n",
       "      <td>54.1 +/- 736.2</td>\n",
       "      <td>703 , 180</td>\n",
       "    </tr>\n",
       "    <tr>\n",
       "      <th>Filtering [1, 2, 3, 4], r2&gt;None, Linear_SVR</th>\n",
       "      <td>0.1 +/- 0.03</td>\n",
       "      <td>569.6 +/- 1878.1</td>\n",
       "      <td>703 , 180</td>\n",
       "    </tr>\n",
       "    <tr>\n",
       "      <th>Filtering [1, 2, 3, 4], r2&gt;0, Poly_KR</th>\n",
       "      <td>0.076 +/- 0.041</td>\n",
       "      <td>-27.4 +/- 910.0</td>\n",
       "      <td>703 , 180</td>\n",
       "    </tr>\n",
       "    <tr>\n",
       "      <th>Filtering [1, 2, 3, 4], r2&gt;0, RBF_SVR</th>\n",
       "      <td>0.076 +/- 0.041</td>\n",
       "      <td>54.1 +/- 736.2</td>\n",
       "      <td>703 , 180</td>\n",
       "    </tr>\n",
       "    <tr>\n",
       "      <th>Filtering [1, 2, 3, 4], r2&gt;0, Linear_SVR</th>\n",
       "      <td>0.1 +/- 0.03</td>\n",
       "      <td>569.6 +/- 1878.1</td>\n",
       "      <td>703 , 180</td>\n",
       "    </tr>\n",
       "    <tr>\n",
       "      <th>Filtering [1, 2, 3, 4], r2&gt;0.9, Poly_KR</th>\n",
       "      <td>0.069 +/- 0.035</td>\n",
       "      <td>-75.0 +/- 907.6</td>\n",
       "      <td>691 , 177</td>\n",
       "    </tr>\n",
       "    <tr>\n",
       "      <th>Filtering [1, 2, 3, 4], r2&gt;0.9, RBF_SVR</th>\n",
       "      <td>0.069 +/- 0.036</td>\n",
       "      <td>-40.1 +/- 838.8</td>\n",
       "      <td>691 , 177</td>\n",
       "    </tr>\n",
       "    <tr>\n",
       "      <th>Filtering [1, 2, 3, 4], r2&gt;0.9, Linear_SVR</th>\n",
       "      <td>0.085 +/- 0.032</td>\n",
       "      <td>476.2 +/- 1852.0</td>\n",
       "      <td>691 , 177</td>\n",
       "    </tr>\n",
       "  </tbody>\n",
       "</table>\n",
       "</div>"
      ],
      "text/plain": [
       "                                                  mae_coef_4  \\\n",
       "Filtering [1, 2, 3], r2>None, Poly_KR         0.12 +/- 0.136   \n",
       "Filtering [1, 2, 3], r2>None, RBF_SVR        0.121 +/- 0.139   \n",
       "Filtering [1, 2, 3], r2>None, Linear_SVR     0.233 +/- 0.307   \n",
       "Filtering [1, 2, 3], r2>0, Poly_KR            0.12 +/- 0.136   \n",
       "Filtering [1, 2, 3], r2>0, RBF_SVR           0.121 +/- 0.139   \n",
       "Filtering [1, 2, 3], r2>0, Linear_SVR        0.233 +/- 0.307   \n",
       "Filtering [1, 2, 3], r2>0.9, Poly_KR         0.064 +/- 0.028   \n",
       "Filtering [1, 2, 3], r2>0.9, RBF_SVR          0.064 +/- 0.03   \n",
       "Filtering [1, 2, 3], r2>0.9, Linear_SVR      0.081 +/- 0.028   \n",
       "Filtering [1, 2, 3, 4], r2>None, Poly_KR     0.076 +/- 0.041   \n",
       "Filtering [1, 2, 3, 4], r2>None, RBF_SVR     0.076 +/- 0.041   \n",
       "Filtering [1, 2, 3, 4], r2>None, Linear_SVR     0.1 +/- 0.03   \n",
       "Filtering [1, 2, 3, 4], r2>0, Poly_KR        0.076 +/- 0.041   \n",
       "Filtering [1, 2, 3, 4], r2>0, RBF_SVR        0.076 +/- 0.041   \n",
       "Filtering [1, 2, 3, 4], r2>0, Linear_SVR        0.1 +/- 0.03   \n",
       "Filtering [1, 2, 3, 4], r2>0.9, Poly_KR      0.069 +/- 0.035   \n",
       "Filtering [1, 2, 3, 4], r2>0.9, RBF_SVR      0.069 +/- 0.036   \n",
       "Filtering [1, 2, 3, 4], r2>0.9, Linear_SVR   0.085 +/- 0.032   \n",
       "\n",
       "                                                   mre_coef_4 train_test_shape  \n",
       "Filtering [1, 2, 3], r2>None, Poly_KR         112.3 +/- 156.2        781 , 202  \n",
       "Filtering [1, 2, 3], r2>None, RBF_SVR         129.0 +/- 160.8        781 , 202  \n",
       "Filtering [1, 2, 3], r2>None, Linear_SVR      390.8 +/- 396.2        781 , 202  \n",
       "Filtering [1, 2, 3], r2>0, Poly_KR            112.3 +/- 156.2        781 , 202  \n",
       "Filtering [1, 2, 3], r2>0, RBF_SVR            129.0 +/- 160.8        781 , 202  \n",
       "Filtering [1, 2, 3], r2>0, Linear_SVR         390.8 +/- 396.2        781 , 202  \n",
       "Filtering [1, 2, 3], r2>0.9, Poly_KR            2.5 +/- 156.9        723 , 185  \n",
       "Filtering [1, 2, 3], r2>0.9, RBF_SVR           29.9 +/- 151.6        723 , 185  \n",
       "Filtering [1, 2, 3], r2>0.9, Linear_SVR        95.4 +/- 308.4        723 , 185  \n",
       "Filtering [1, 2, 3, 4], r2>None, Poly_KR      -27.4 +/- 910.0        703 , 180  \n",
       "Filtering [1, 2, 3, 4], r2>None, RBF_SVR       54.1 +/- 736.2        703 , 180  \n",
       "Filtering [1, 2, 3, 4], r2>None, Linear_SVR  569.6 +/- 1878.1        703 , 180  \n",
       "Filtering [1, 2, 3, 4], r2>0, Poly_KR         -27.4 +/- 910.0        703 , 180  \n",
       "Filtering [1, 2, 3, 4], r2>0, RBF_SVR          54.1 +/- 736.2        703 , 180  \n",
       "Filtering [1, 2, 3, 4], r2>0, Linear_SVR     569.6 +/- 1878.1        703 , 180  \n",
       "Filtering [1, 2, 3, 4], r2>0.9, Poly_KR       -75.0 +/- 907.6        691 , 177  \n",
       "Filtering [1, 2, 3, 4], r2>0.9, RBF_SVR       -40.1 +/- 838.8        691 , 177  \n",
       "Filtering [1, 2, 3, 4], r2>0.9, Linear_SVR   476.2 +/- 1852.0        691 , 177  "
      ]
     },
     "metadata": {},
     "output_type": "display_data"
    },
    {
     "name": "stderr",
     "output_type": "stream",
     "text": [
      "100%|██████████| 2776/2776 [00:07<00:00, 389.65it/s]\n"
     ]
    },
    {
     "name": "stdout",
     "output_type": "stream",
     "text": [
      "logistic4 Filtering [1, 2, 3], r2>None, Poly_KR\n",
      "\n",
      "MAE: 0.232 +/- 0.301\n",
      "MRE: 54.9 +/- 338.2\n",
      "\n",
      "(783, 1370) (202, 1370)\n"
     ]
    },
    {
     "name": "stderr",
     "output_type": "stream",
     "text": [
      "100%|██████████| 2776/2776 [00:07<00:00, 392.25it/s]\n"
     ]
    },
    {
     "name": "stdout",
     "output_type": "stream",
     "text": [
      "logistic4 Filtering [1, 2, 3], r2>0, Poly_KR\n",
      "\n",
      "MAE: 0.232 +/- 0.301\n",
      "MRE: 54.9 +/- 338.2\n",
      "\n",
      "(783, 1370) (202, 1370)\n"
     ]
    },
    {
     "name": "stderr",
     "output_type": "stream",
     "text": [
      "100%|██████████| 2776/2776 [00:07<00:00, 373.13it/s]\n"
     ]
    },
    {
     "name": "stdout",
     "output_type": "stream",
     "text": [
      "logistic4 Filtering [1, 2, 3], r2>0.9, Poly_KR\n",
      "\n",
      "MAE: 0.088 +/- 0.031\n",
      "MRE: 59.4 +/- 270.1\n",
      "\n",
      "(736, 1370) (189, 1370)\n"
     ]
    },
    {
     "name": "stderr",
     "output_type": "stream",
     "text": [
      "100%|██████████| 2600/2600 [00:09<00:00, 262.80it/s]\n"
     ]
    },
    {
     "name": "stdout",
     "output_type": "stream",
     "text": [
      "logistic4 Filtering [1, 2, 3, 4], r2>None, Poly_KR\n",
      "\n",
      "MAE: 0.096 +/- 0.047\n",
      "MRE: 7807.7 +/- 23517.3\n",
      "\n",
      "(705, 1370) (180, 1370)\n"
     ]
    },
    {
     "name": "stderr",
     "output_type": "stream",
     "text": [
      "100%|██████████| 2600/2600 [00:06<00:00, 393.67it/s]\n"
     ]
    },
    {
     "name": "stdout",
     "output_type": "stream",
     "text": [
      "logistic4 Filtering [1, 2, 3, 4], r2>0, Poly_KR\n",
      "\n",
      "MAE: 0.096 +/- 0.047\n",
      "MRE: 7807.7 +/- 23517.3\n",
      "\n",
      "(705, 1370) (180, 1370)\n"
     ]
    },
    {
     "name": "stderr",
     "output_type": "stream",
     "text": [
      "100%|██████████| 2600/2600 [00:06<00:00, 385.37it/s]\n"
     ]
    },
    {
     "name": "stdout",
     "output_type": "stream",
     "text": [
      "logistic4 Filtering [1, 2, 3, 4], r2>0.9, Poly_KR\n",
      "\n",
      "MAE: 0.092 +/- 0.052\n",
      "MRE: 7760.6 +/- 23532.4\n",
      "\n",
      "(704, 1370) (180, 1370)\n"
     ]
    },
    {
     "name": "stderr",
     "output_type": "stream",
     "text": [
      "100%|██████████| 2776/2776 [00:07<00:00, 390.72it/s]\n"
     ]
    },
    {
     "name": "stdout",
     "output_type": "stream",
     "text": [
      "logistic4 Filtering [1, 2, 3], r2>None, RBF_SVR\n",
      "\n",
      "MAE: 0.218 +/- 0.31\n",
      "MRE: 129.9 +/- 239.7\n",
      "\n",
      "(783, 1370) (202, 1370)\n"
     ]
    },
    {
     "name": "stderr",
     "output_type": "stream",
     "text": [
      "100%|██████████| 2776/2776 [00:07<00:00, 390.48it/s]\n"
     ]
    },
    {
     "name": "stdout",
     "output_type": "stream",
     "text": [
      "logistic4 Filtering [1, 2, 3], r2>0, RBF_SVR\n",
      "\n",
      "MAE: 0.218 +/- 0.31\n",
      "MRE: 129.9 +/- 239.7\n",
      "\n",
      "(783, 1370) (202, 1370)\n"
     ]
    },
    {
     "name": "stderr",
     "output_type": "stream",
     "text": [
      "100%|██████████| 2776/2776 [00:07<00:00, 389.12it/s]\n"
     ]
    },
    {
     "name": "stdout",
     "output_type": "stream",
     "text": [
      "logistic4 Filtering [1, 2, 3], r2>0.9, RBF_SVR\n",
      "\n",
      "MAE: 0.077 +/- 0.029\n",
      "MRE: 105.2 +/- 240.4\n",
      "\n",
      "(736, 1370) (189, 1370)\n"
     ]
    },
    {
     "name": "stderr",
     "output_type": "stream",
     "text": [
      "100%|██████████| 2600/2600 [00:06<00:00, 375.05it/s]\n"
     ]
    },
    {
     "name": "stdout",
     "output_type": "stream",
     "text": [
      "logistic4 Filtering [1, 2, 3, 4], r2>None, RBF_SVR\n",
      "\n",
      "MAE: 0.086 +/- 0.049\n",
      "MRE: 9154.4 +/- 27483.3\n",
      "\n",
      "(705, 1370) (180, 1370)\n"
     ]
    },
    {
     "name": "stderr",
     "output_type": "stream",
     "text": [
      "100%|██████████| 2600/2600 [00:06<00:00, 399.10it/s]\n"
     ]
    },
    {
     "name": "stdout",
     "output_type": "stream",
     "text": [
      "logistic4 Filtering [1, 2, 3, 4], r2>0, RBF_SVR\n",
      "\n",
      "MAE: 0.086 +/- 0.049\n",
      "MRE: 9154.4 +/- 27483.3\n",
      "\n",
      "(705, 1370) (180, 1370)\n"
     ]
    },
    {
     "name": "stderr",
     "output_type": "stream",
     "text": [
      "100%|██████████| 2600/2600 [00:06<00:00, 395.92it/s]\n"
     ]
    },
    {
     "name": "stdout",
     "output_type": "stream",
     "text": [
      "logistic4 Filtering [1, 2, 3, 4], r2>0.9, RBF_SVR\n",
      "\n",
      "MAE: 0.087 +/- 0.049\n",
      "MRE: 9156.0 +/- 27482.8\n",
      "\n",
      "(704, 1370) (180, 1370)\n"
     ]
    },
    {
     "name": "stderr",
     "output_type": "stream",
     "text": [
      "100%|██████████| 2776/2776 [00:07<00:00, 376.32it/s]\n"
     ]
    },
    {
     "name": "stdout",
     "output_type": "stream",
     "text": [
      "logistic4 Filtering [1, 2, 3], r2>None, Linear_SVR\n",
      "\n",
      "MAE: 0.458 +/- 0.555\n",
      "MRE: -1219.5 +/- 4891.3\n",
      "\n",
      "(783, 1370) (202, 1370)\n"
     ]
    },
    {
     "name": "stderr",
     "output_type": "stream",
     "text": [
      "100%|██████████| 2776/2776 [00:07<00:00, 382.53it/s]\n"
     ]
    },
    {
     "name": "stdout",
     "output_type": "stream",
     "text": [
      "logistic4 Filtering [1, 2, 3], r2>0, Linear_SVR\n",
      "\n",
      "MAE: 0.458 +/- 0.555\n",
      "MRE: -1219.5 +/- 4891.3\n",
      "\n",
      "(783, 1370) (202, 1370)\n"
     ]
    },
    {
     "name": "stderr",
     "output_type": "stream",
     "text": [
      "100%|██████████| 2776/2776 [00:07<00:00, 388.66it/s]\n"
     ]
    },
    {
     "name": "stdout",
     "output_type": "stream",
     "text": [
      "logistic4 Filtering [1, 2, 3], r2>0.9, Linear_SVR\n",
      "\n",
      "MAE: 0.159 +/- 0.193\n",
      "MRE: 41.9 +/- 888.7\n",
      "\n",
      "(736, 1370) (189, 1370)\n"
     ]
    },
    {
     "name": "stderr",
     "output_type": "stream",
     "text": [
      "100%|██████████| 2600/2600 [00:06<00:00, 394.85it/s]\n"
     ]
    },
    {
     "name": "stdout",
     "output_type": "stream",
     "text": [
      "logistic4 Filtering [1, 2, 3, 4], r2>None, Linear_SVR\n",
      "\n",
      "MAE: 0.604 +/- 1.167\n",
      "MRE: 12827.2 +/- 38588.7\n",
      "\n",
      "(705, 1370) (180, 1370)\n"
     ]
    },
    {
     "name": "stderr",
     "output_type": "stream",
     "text": [
      "100%|██████████| 2600/2600 [00:06<00:00, 394.39it/s]\n"
     ]
    },
    {
     "name": "stdout",
     "output_type": "stream",
     "text": [
      "logistic4 Filtering [1, 2, 3, 4], r2>0, Linear_SVR\n",
      "\n",
      "MAE: 0.604 +/- 1.167\n",
      "MRE: 12827.2 +/- 38588.7\n",
      "\n",
      "(705, 1370) (180, 1370)\n"
     ]
    },
    {
     "name": "stderr",
     "output_type": "stream",
     "text": [
      "100%|██████████| 2600/2600 [00:06<00:00, 379.32it/s]\n"
     ]
    },
    {
     "name": "stdout",
     "output_type": "stream",
     "text": [
      "logistic4 Filtering [1, 2, 3, 4], r2>0.9, Linear_SVR\n",
      "\n",
      "MAE: 0.202 +/- 0.231\n",
      "MRE: 10243.0 +/- 38474.3\n",
      "\n",
      "(704, 1370) (180, 1370)\n",
      "\n",
      " logistic4\n"
     ]
    },
    {
     "data": {
      "text/html": [
       "<div>\n",
       "<style scoped>\n",
       "    .dataframe tbody tr th:only-of-type {\n",
       "        vertical-align: middle;\n",
       "    }\n",
       "\n",
       "    .dataframe tbody tr th {\n",
       "        vertical-align: top;\n",
       "    }\n",
       "\n",
       "    .dataframe thead th {\n",
       "        text-align: right;\n",
       "    }\n",
       "</style>\n",
       "<table border=\"1\" class=\"dataframe\">\n",
       "  <thead>\n",
       "    <tr style=\"text-align: right;\">\n",
       "      <th></th>\n",
       "      <th>mae_coef_4</th>\n",
       "      <th>mre_coef_4</th>\n",
       "      <th>train_test_shape</th>\n",
       "    </tr>\n",
       "  </thead>\n",
       "  <tbody>\n",
       "    <tr>\n",
       "      <th>Filtering [1, 2, 3], r2&gt;None, Poly_KR</th>\n",
       "      <td>0.232 +/- 0.301</td>\n",
       "      <td>54.9 +/- 338.2</td>\n",
       "      <td>783 , 202</td>\n",
       "    </tr>\n",
       "    <tr>\n",
       "      <th>Filtering [1, 2, 3], r2&gt;None, RBF_SVR</th>\n",
       "      <td>0.218 +/- 0.31</td>\n",
       "      <td>129.9 +/- 239.7</td>\n",
       "      <td>783 , 202</td>\n",
       "    </tr>\n",
       "    <tr>\n",
       "      <th>Filtering [1, 2, 3], r2&gt;None, Linear_SVR</th>\n",
       "      <td>0.458 +/- 0.555</td>\n",
       "      <td>-1219.5 +/- 4891.3</td>\n",
       "      <td>783 , 202</td>\n",
       "    </tr>\n",
       "    <tr>\n",
       "      <th>Filtering [1, 2, 3], r2&gt;0, Poly_KR</th>\n",
       "      <td>0.232 +/- 0.301</td>\n",
       "      <td>54.9 +/- 338.2</td>\n",
       "      <td>783 , 202</td>\n",
       "    </tr>\n",
       "    <tr>\n",
       "      <th>Filtering [1, 2, 3], r2&gt;0, RBF_SVR</th>\n",
       "      <td>0.218 +/- 0.31</td>\n",
       "      <td>129.9 +/- 239.7</td>\n",
       "      <td>783 , 202</td>\n",
       "    </tr>\n",
       "    <tr>\n",
       "      <th>Filtering [1, 2, 3], r2&gt;0, Linear_SVR</th>\n",
       "      <td>0.458 +/- 0.555</td>\n",
       "      <td>-1219.5 +/- 4891.3</td>\n",
       "      <td>783 , 202</td>\n",
       "    </tr>\n",
       "    <tr>\n",
       "      <th>Filtering [1, 2, 3], r2&gt;0.9, Poly_KR</th>\n",
       "      <td>0.088 +/- 0.031</td>\n",
       "      <td>59.4 +/- 270.1</td>\n",
       "      <td>736 , 189</td>\n",
       "    </tr>\n",
       "    <tr>\n",
       "      <th>Filtering [1, 2, 3], r2&gt;0.9, RBF_SVR</th>\n",
       "      <td>0.077 +/- 0.029</td>\n",
       "      <td>105.2 +/- 240.4</td>\n",
       "      <td>736 , 189</td>\n",
       "    </tr>\n",
       "    <tr>\n",
       "      <th>Filtering [1, 2, 3], r2&gt;0.9, Linear_SVR</th>\n",
       "      <td>0.159 +/- 0.193</td>\n",
       "      <td>41.9 +/- 888.7</td>\n",
       "      <td>736 , 189</td>\n",
       "    </tr>\n",
       "    <tr>\n",
       "      <th>Filtering [1, 2, 3, 4], r2&gt;None, Poly_KR</th>\n",
       "      <td>0.096 +/- 0.047</td>\n",
       "      <td>7807.7 +/- 23517.3</td>\n",
       "      <td>705 , 180</td>\n",
       "    </tr>\n",
       "    <tr>\n",
       "      <th>Filtering [1, 2, 3, 4], r2&gt;None, RBF_SVR</th>\n",
       "      <td>0.086 +/- 0.049</td>\n",
       "      <td>9154.4 +/- 27483.3</td>\n",
       "      <td>705 , 180</td>\n",
       "    </tr>\n",
       "    <tr>\n",
       "      <th>Filtering [1, 2, 3, 4], r2&gt;None, Linear_SVR</th>\n",
       "      <td>0.604 +/- 1.167</td>\n",
       "      <td>12827.2 +/- 38588.7</td>\n",
       "      <td>705 , 180</td>\n",
       "    </tr>\n",
       "    <tr>\n",
       "      <th>Filtering [1, 2, 3, 4], r2&gt;0, Poly_KR</th>\n",
       "      <td>0.096 +/- 0.047</td>\n",
       "      <td>7807.7 +/- 23517.3</td>\n",
       "      <td>705 , 180</td>\n",
       "    </tr>\n",
       "    <tr>\n",
       "      <th>Filtering [1, 2, 3, 4], r2&gt;0, RBF_SVR</th>\n",
       "      <td>0.086 +/- 0.049</td>\n",
       "      <td>9154.4 +/- 27483.3</td>\n",
       "      <td>705 , 180</td>\n",
       "    </tr>\n",
       "    <tr>\n",
       "      <th>Filtering [1, 2, 3, 4], r2&gt;0, Linear_SVR</th>\n",
       "      <td>0.604 +/- 1.167</td>\n",
       "      <td>12827.2 +/- 38588.7</td>\n",
       "      <td>705 , 180</td>\n",
       "    </tr>\n",
       "    <tr>\n",
       "      <th>Filtering [1, 2, 3, 4], r2&gt;0.9, Poly_KR</th>\n",
       "      <td>0.092 +/- 0.052</td>\n",
       "      <td>7760.6 +/- 23532.4</td>\n",
       "      <td>704 , 180</td>\n",
       "    </tr>\n",
       "    <tr>\n",
       "      <th>Filtering [1, 2, 3, 4], r2&gt;0.9, RBF_SVR</th>\n",
       "      <td>0.087 +/- 0.049</td>\n",
       "      <td>9156.0 +/- 27482.8</td>\n",
       "      <td>704 , 180</td>\n",
       "    </tr>\n",
       "    <tr>\n",
       "      <th>Filtering [1, 2, 3, 4], r2&gt;0.9, Linear_SVR</th>\n",
       "      <td>0.202 +/- 0.231</td>\n",
       "      <td>10243.0 +/- 38474.3</td>\n",
       "      <td>704 , 180</td>\n",
       "    </tr>\n",
       "  </tbody>\n",
       "</table>\n",
       "</div>"
      ],
      "text/plain": [
       "                                                  mae_coef_4  \\\n",
       "Filtering [1, 2, 3], r2>None, Poly_KR        0.232 +/- 0.301   \n",
       "Filtering [1, 2, 3], r2>None, RBF_SVR         0.218 +/- 0.31   \n",
       "Filtering [1, 2, 3], r2>None, Linear_SVR     0.458 +/- 0.555   \n",
       "Filtering [1, 2, 3], r2>0, Poly_KR           0.232 +/- 0.301   \n",
       "Filtering [1, 2, 3], r2>0, RBF_SVR            0.218 +/- 0.31   \n",
       "Filtering [1, 2, 3], r2>0, Linear_SVR        0.458 +/- 0.555   \n",
       "Filtering [1, 2, 3], r2>0.9, Poly_KR         0.088 +/- 0.031   \n",
       "Filtering [1, 2, 3], r2>0.9, RBF_SVR         0.077 +/- 0.029   \n",
       "Filtering [1, 2, 3], r2>0.9, Linear_SVR      0.159 +/- 0.193   \n",
       "Filtering [1, 2, 3, 4], r2>None, Poly_KR     0.096 +/- 0.047   \n",
       "Filtering [1, 2, 3, 4], r2>None, RBF_SVR     0.086 +/- 0.049   \n",
       "Filtering [1, 2, 3, 4], r2>None, Linear_SVR  0.604 +/- 1.167   \n",
       "Filtering [1, 2, 3, 4], r2>0, Poly_KR        0.096 +/- 0.047   \n",
       "Filtering [1, 2, 3, 4], r2>0, RBF_SVR        0.086 +/- 0.049   \n",
       "Filtering [1, 2, 3, 4], r2>0, Linear_SVR     0.604 +/- 1.167   \n",
       "Filtering [1, 2, 3, 4], r2>0.9, Poly_KR      0.092 +/- 0.052   \n",
       "Filtering [1, 2, 3, 4], r2>0.9, RBF_SVR      0.087 +/- 0.049   \n",
       "Filtering [1, 2, 3, 4], r2>0.9, Linear_SVR   0.202 +/- 0.231   \n",
       "\n",
       "                                                      mre_coef_4  \\\n",
       "Filtering [1, 2, 3], r2>None, Poly_KR             54.9 +/- 338.2   \n",
       "Filtering [1, 2, 3], r2>None, RBF_SVR            129.9 +/- 239.7   \n",
       "Filtering [1, 2, 3], r2>None, Linear_SVR      -1219.5 +/- 4891.3   \n",
       "Filtering [1, 2, 3], r2>0, Poly_KR                54.9 +/- 338.2   \n",
       "Filtering [1, 2, 3], r2>0, RBF_SVR               129.9 +/- 239.7   \n",
       "Filtering [1, 2, 3], r2>0, Linear_SVR         -1219.5 +/- 4891.3   \n",
       "Filtering [1, 2, 3], r2>0.9, Poly_KR              59.4 +/- 270.1   \n",
       "Filtering [1, 2, 3], r2>0.9, RBF_SVR             105.2 +/- 240.4   \n",
       "Filtering [1, 2, 3], r2>0.9, Linear_SVR           41.9 +/- 888.7   \n",
       "Filtering [1, 2, 3, 4], r2>None, Poly_KR      7807.7 +/- 23517.3   \n",
       "Filtering [1, 2, 3, 4], r2>None, RBF_SVR      9154.4 +/- 27483.3   \n",
       "Filtering [1, 2, 3, 4], r2>None, Linear_SVR  12827.2 +/- 38588.7   \n",
       "Filtering [1, 2, 3, 4], r2>0, Poly_KR         7807.7 +/- 23517.3   \n",
       "Filtering [1, 2, 3, 4], r2>0, RBF_SVR         9154.4 +/- 27483.3   \n",
       "Filtering [1, 2, 3, 4], r2>0, Linear_SVR     12827.2 +/- 38588.7   \n",
       "Filtering [1, 2, 3, 4], r2>0.9, Poly_KR       7760.6 +/- 23532.4   \n",
       "Filtering [1, 2, 3, 4], r2>0.9, RBF_SVR       9156.0 +/- 27482.8   \n",
       "Filtering [1, 2, 3, 4], r2>0.9, Linear_SVR   10243.0 +/- 38474.3   \n",
       "\n",
       "                                            train_test_shape  \n",
       "Filtering [1, 2, 3], r2>None, Poly_KR              783 , 202  \n",
       "Filtering [1, 2, 3], r2>None, RBF_SVR              783 , 202  \n",
       "Filtering [1, 2, 3], r2>None, Linear_SVR           783 , 202  \n",
       "Filtering [1, 2, 3], r2>0, Poly_KR                 783 , 202  \n",
       "Filtering [1, 2, 3], r2>0, RBF_SVR                 783 , 202  \n",
       "Filtering [1, 2, 3], r2>0, Linear_SVR              783 , 202  \n",
       "Filtering [1, 2, 3], r2>0.9, Poly_KR               736 , 189  \n",
       "Filtering [1, 2, 3], r2>0.9, RBF_SVR               736 , 189  \n",
       "Filtering [1, 2, 3], r2>0.9, Linear_SVR            736 , 189  \n",
       "Filtering [1, 2, 3, 4], r2>None, Poly_KR           705 , 180  \n",
       "Filtering [1, 2, 3, 4], r2>None, RBF_SVR           705 , 180  \n",
       "Filtering [1, 2, 3, 4], r2>None, Linear_SVR        705 , 180  \n",
       "Filtering [1, 2, 3, 4], r2>0, Poly_KR              705 , 180  \n",
       "Filtering [1, 2, 3, 4], r2>0, RBF_SVR              705 , 180  \n",
       "Filtering [1, 2, 3, 4], r2>0, Linear_SVR           705 , 180  \n",
       "Filtering [1, 2, 3, 4], r2>0.9, Poly_KR            704 , 180  \n",
       "Filtering [1, 2, 3, 4], r2>0.9, RBF_SVR            704 , 180  \n",
       "Filtering [1, 2, 3, 4], r2>0.9, Linear_SVR         704 , 180  "
      ]
     },
     "metadata": {},
     "output_type": "display_data"
    },
    {
     "data": {
      "image/png": "[encoded data removed]",
      "text/plain": [
       "<Figure size 288x216 with 1 Axes>"
      ]
     },
     "metadata": {
      "needs_background": "light"
     },
     "output_type": "display_data"
    },
    {
     "data": {
      "image/png": "[encoded data removed]",
      "text/plain": [
       "<Figure size 288x216 with 1 Axes>"
      ]
     },
     "metadata": {
      "needs_background": "light"
     },
     "output_type": "display_data"
    }
   ],
   "source": [
    "coef=4\n",
    "fitting_functions = [\"sigmoid_4_param\", \"logistic4\"]\n",
    "results_4 = CompareTrainingScenariosModels(coef, models_dict, X_columns, _FOLDER, _FOLDER_2, \n",
    "                                           fitting_functions, filtering_scenarios, r2_restrictions,\n",
    "                                           print_progress_info = False)"
   ]
  },
  {
   "cell_type": "code",
   "execution_count": 9,
   "metadata": {},
   "outputs": [
    {
     "data": {
      "text/html": [
       "<div>\n",
       "<style scoped>\n",
       "    .dataframe tbody tr th:only-of-type {\n",
       "        vertical-align: middle;\n",
       "    }\n",
       "\n",
       "    .dataframe tbody tr th {\n",
       "        vertical-align: top;\n",
       "    }\n",
       "\n",
       "    .dataframe thead th {\n",
       "        text-align: right;\n",
       "    }\n",
       "</style>\n",
       "<table border=\"1\" class=\"dataframe\">\n",
       "  <thead>\n",
       "    <tr style=\"text-align: right;\">\n",
       "      <th></th>\n",
       "      <th>mae_coef_1</th>\n",
       "      <th>mre_coef_1</th>\n",
       "      <th>train_test_shape</th>\n",
       "      <th>mae_coef_2</th>\n",
       "      <th>mre_coef_2</th>\n",
       "      <th>train_test_shape</th>\n",
       "      <th>mae_coef_3</th>\n",
       "      <th>mre_coef_3</th>\n",
       "      <th>train_test_shape</th>\n",
       "      <th>mae_coef_4</th>\n",
       "      <th>mre_coef_4</th>\n",
       "      <th>train_test_shape</th>\n",
       "    </tr>\n",
       "  </thead>\n",
       "  <tbody>\n",
       "    <tr>\n",
       "      <th>Filtering [1, 2, 3], r2&gt;None, Poly_KR</th>\n",
       "      <td>0.569 +/- 0.86</td>\n",
       "      <td>51.2 +/- 44.5</td>\n",
       "      <td>781 , 202</td>\n",
       "      <td>0.781 +/- 0.947</td>\n",
       "      <td>36.1 +/- 28.7</td>\n",
       "      <td>781 , 202</td>\n",
       "      <td>10.946 +/- 7.807</td>\n",
       "      <td>-52.0 +/- 21.0</td>\n",
       "      <td>781 , 202</td>\n",
       "      <td>0.12 +/- 0.136</td>\n",
       "      <td>112.3 +/- 156.2</td>\n",
       "      <td>781 , 202</td>\n",
       "    </tr>\n",
       "    <tr>\n",
       "      <th>Filtering [1, 2, 3], r2&gt;None, RBF_SVR</th>\n",
       "      <td>0.462 +/- 0.84</td>\n",
       "      <td>25.2 +/- 8.9</td>\n",
       "      <td>781 , 202</td>\n",
       "      <td>0.47 +/- 0.946</td>\n",
       "      <td>8.7 +/- 20.6</td>\n",
       "      <td>781 , 202</td>\n",
       "      <td>8.883 +/- 5.821</td>\n",
       "      <td>-42.3 +/- 12.4</td>\n",
       "      <td>781 , 202</td>\n",
       "      <td>0.121 +/- 0.139</td>\n",
       "      <td>129.0 +/- 160.8</td>\n",
       "      <td>781 , 202</td>\n",
       "    </tr>\n",
       "    <tr>\n",
       "      <th>Filtering [1, 2, 3], r2&gt;None, Linear_SVR</th>\n",
       "      <td>1.231 +/- 1.601</td>\n",
       "      <td>256.3 +/- 373.0</td>\n",
       "      <td>781 , 202</td>\n",
       "      <td>1.261 +/- 1.716</td>\n",
       "      <td>97.6 +/- 134.3</td>\n",
       "      <td>781 , 202</td>\n",
       "      <td>8.698 +/- 5.683</td>\n",
       "      <td>-42.3 +/- 13.0</td>\n",
       "      <td>781 , 202</td>\n",
       "      <td>0.233 +/- 0.307</td>\n",
       "      <td>390.8 +/- 396.2</td>\n",
       "      <td>781 , 202</td>\n",
       "    </tr>\n",
       "    <tr>\n",
       "      <th>Filtering [1, 2, 3], r2&gt;0, Poly_KR</th>\n",
       "      <td>0.569 +/- 0.86</td>\n",
       "      <td>51.2 +/- 44.5</td>\n",
       "      <td>781 , 202</td>\n",
       "      <td>0.781 +/- 0.947</td>\n",
       "      <td>36.1 +/- 28.7</td>\n",
       "      <td>781 , 202</td>\n",
       "      <td>10.946 +/- 7.807</td>\n",
       "      <td>-52.0 +/- 21.0</td>\n",
       "      <td>781 , 202</td>\n",
       "      <td>0.12 +/- 0.136</td>\n",
       "      <td>112.3 +/- 156.2</td>\n",
       "      <td>781 , 202</td>\n",
       "    </tr>\n",
       "    <tr>\n",
       "      <th>Filtering [1, 2, 3], r2&gt;0, RBF_SVR</th>\n",
       "      <td>0.462 +/- 0.84</td>\n",
       "      <td>25.2 +/- 8.9</td>\n",
       "      <td>781 , 202</td>\n",
       "      <td>0.47 +/- 0.946</td>\n",
       "      <td>8.7 +/- 20.6</td>\n",
       "      <td>781 , 202</td>\n",
       "      <td>8.883 +/- 5.821</td>\n",
       "      <td>-42.3 +/- 12.4</td>\n",
       "      <td>781 , 202</td>\n",
       "      <td>0.121 +/- 0.139</td>\n",
       "      <td>129.0 +/- 160.8</td>\n",
       "      <td>781 , 202</td>\n",
       "    </tr>\n",
       "    <tr>\n",
       "      <th>Filtering [1, 2, 3], r2&gt;0, Linear_SVR</th>\n",
       "      <td>1.231 +/- 1.601</td>\n",
       "      <td>256.3 +/- 373.0</td>\n",
       "      <td>781 , 202</td>\n",
       "      <td>1.261 +/- 1.716</td>\n",
       "      <td>97.6 +/- 134.3</td>\n",
       "      <td>781 , 202</td>\n",
       "      <td>8.698 +/- 5.683</td>\n",
       "      <td>-42.3 +/- 13.0</td>\n",
       "      <td>781 , 202</td>\n",
       "      <td>0.233 +/- 0.307</td>\n",
       "      <td>390.8 +/- 396.2</td>\n",
       "      <td>781 , 202</td>\n",
       "    </tr>\n",
       "    <tr>\n",
       "      <th>Filtering [1, 2, 3], r2&gt;0.9, Poly_KR</th>\n",
       "      <td>0.134 +/- 0.081</td>\n",
       "      <td>28.4 +/- 13.6</td>\n",
       "      <td>723 , 185</td>\n",
       "      <td>0.287 +/- 0.187</td>\n",
       "      <td>25.9 +/- 18.0</td>\n",
       "      <td>723 , 185</td>\n",
       "      <td>10.263 +/- 5.784</td>\n",
       "      <td>-47.1 +/- 8.3</td>\n",
       "      <td>723 , 185</td>\n",
       "      <td>0.064 +/- 0.028</td>\n",
       "      <td>2.5 +/- 156.9</td>\n",
       "      <td>723 , 185</td>\n",
       "    </tr>\n",
       "    <tr>\n",
       "      <th>Filtering [1, 2, 3], r2&gt;0.9, RBF_SVR</th>\n",
       "      <td>0.081 +/- 0.019</td>\n",
       "      <td>20.3 +/- 4.3</td>\n",
       "      <td>723 , 185</td>\n",
       "      <td>0.097 +/- 0.045</td>\n",
       "      <td>8.4 +/- 3.3</td>\n",
       "      <td>723 , 185</td>\n",
       "      <td>9.118 +/- 5.363</td>\n",
       "      <td>-41.4 +/- 8.3</td>\n",
       "      <td>723 , 185</td>\n",
       "      <td>0.064 +/- 0.03</td>\n",
       "      <td>29.9 +/- 151.6</td>\n",
       "      <td>723 , 185</td>\n",
       "    </tr>\n",
       "    <tr>\n",
       "      <th>Filtering [1, 2, 3], r2&gt;0.9, Linear_SVR</th>\n",
       "      <td>0.092 +/- 0.02</td>\n",
       "      <td>24.5 +/- 7.9</td>\n",
       "      <td>723 , 185</td>\n",
       "      <td>0.139 +/- 0.058</td>\n",
       "      <td>13.0 +/- 5.7</td>\n",
       "      <td>723 , 185</td>\n",
       "      <td>8.824 +/- 5.191</td>\n",
       "      <td>-41.2 +/- 8.7</td>\n",
       "      <td>723 , 185</td>\n",
       "      <td>0.081 +/- 0.028</td>\n",
       "      <td>95.4 +/- 308.4</td>\n",
       "      <td>723 , 185</td>\n",
       "    </tr>\n",
       "    <tr>\n",
       "      <th>Filtering [1, 2, 3, 4], r2&gt;None, Poly_KR</th>\n",
       "      <td>0.532 +/- 0.837</td>\n",
       "      <td>50.5 +/- 50.2</td>\n",
       "      <td>703 , 180</td>\n",
       "      <td>0.696 +/- 0.819</td>\n",
       "      <td>31.7 +/- 22.5</td>\n",
       "      <td>703 , 180</td>\n",
       "      <td>7.336 +/- 3.599</td>\n",
       "      <td>-43.1 +/- 11.6</td>\n",
       "      <td>703 , 180</td>\n",
       "      <td>0.076 +/- 0.041</td>\n",
       "      <td>-27.4 +/- 910.0</td>\n",
       "      <td>703 , 180</td>\n",
       "    </tr>\n",
       "    <tr>\n",
       "      <th>Filtering [1, 2, 3, 4], r2&gt;None, RBF_SVR</th>\n",
       "      <td>0.443 +/- 0.8</td>\n",
       "      <td>23.9 +/- 9.4</td>\n",
       "      <td>703 , 180</td>\n",
       "      <td>0.438 +/- 0.774</td>\n",
       "      <td>3.6 +/- 11.8</td>\n",
       "      <td>703 , 180</td>\n",
       "      <td>5.697 +/- 2.765</td>\n",
       "      <td>-34.8 +/- 8.6</td>\n",
       "      <td>703 , 180</td>\n",
       "      <td>0.076 +/- 0.041</td>\n",
       "      <td>54.1 +/- 736.2</td>\n",
       "      <td>703 , 180</td>\n",
       "    </tr>\n",
       "    <tr>\n",
       "      <th>Filtering [1, 2, 3, 4], r2&gt;None, Linear_SVR</th>\n",
       "      <td>1.234 +/- 1.684</td>\n",
       "      <td>273.7 +/- 398.4</td>\n",
       "      <td>703 , 180</td>\n",
       "      <td>1.283 +/- 1.747</td>\n",
       "      <td>99.4 +/- 152.1</td>\n",
       "      <td>703 , 180</td>\n",
       "      <td>5.68 +/- 2.56</td>\n",
       "      <td>-36.1 +/- 9.9</td>\n",
       "      <td>703 , 180</td>\n",
       "      <td>0.1 +/- 0.03</td>\n",
       "      <td>569.6 +/- 1878.1</td>\n",
       "      <td>703 , 180</td>\n",
       "    </tr>\n",
       "    <tr>\n",
       "      <th>Filtering [1, 2, 3, 4], r2&gt;0, Poly_KR</th>\n",
       "      <td>0.532 +/- 0.837</td>\n",
       "      <td>50.5 +/- 50.2</td>\n",
       "      <td>703 , 180</td>\n",
       "      <td>0.696 +/- 0.819</td>\n",
       "      <td>31.7 +/- 22.5</td>\n",
       "      <td>703 , 180</td>\n",
       "      <td>7.336 +/- 3.599</td>\n",
       "      <td>-43.1 +/- 11.6</td>\n",
       "      <td>703 , 180</td>\n",
       "      <td>0.076 +/- 0.041</td>\n",
       "      <td>-27.4 +/- 910.0</td>\n",
       "      <td>703 , 180</td>\n",
       "    </tr>\n",
       "    <tr>\n",
       "      <th>Filtering [1, 2, 3, 4], r2&gt;0, RBF_SVR</th>\n",
       "      <td>0.443 +/- 0.8</td>\n",
       "      <td>23.9 +/- 9.4</td>\n",
       "      <td>703 , 180</td>\n",
       "      <td>0.438 +/- 0.774</td>\n",
       "      <td>3.6 +/- 11.8</td>\n",
       "      <td>703 , 180</td>\n",
       "      <td>5.697 +/- 2.765</td>\n",
       "      <td>-34.8 +/- 8.6</td>\n",
       "      <td>703 , 180</td>\n",
       "      <td>0.076 +/- 0.041</td>\n",
       "      <td>54.1 +/- 736.2</td>\n",
       "      <td>703 , 180</td>\n",
       "    </tr>\n",
       "    <tr>\n",
       "      <th>Filtering [1, 2, 3, 4], r2&gt;0, Linear_SVR</th>\n",
       "      <td>1.234 +/- 1.684</td>\n",
       "      <td>273.7 +/- 398.4</td>\n",
       "      <td>703 , 180</td>\n",
       "      <td>1.283 +/- 1.747</td>\n",
       "      <td>99.4 +/- 152.1</td>\n",
       "      <td>703 , 180</td>\n",
       "      <td>5.68 +/- 2.56</td>\n",
       "      <td>-36.1 +/- 9.9</td>\n",
       "      <td>703 , 180</td>\n",
       "      <td>0.1 +/- 0.03</td>\n",
       "      <td>569.6 +/- 1878.1</td>\n",
       "      <td>703 , 180</td>\n",
       "    </tr>\n",
       "    <tr>\n",
       "      <th>Filtering [1, 2, 3, 4], r2&gt;0.9, Poly_KR</th>\n",
       "      <td>0.157 +/- 0.088</td>\n",
       "      <td>31.0 +/- 13.6</td>\n",
       "      <td>691 , 177</td>\n",
       "      <td>0.295 +/- 0.191</td>\n",
       "      <td>26.7 +/- 18.6</td>\n",
       "      <td>691 , 177</td>\n",
       "      <td>7.669 +/- 3.795</td>\n",
       "      <td>-45.8 +/- 14.3</td>\n",
       "      <td>691 , 177</td>\n",
       "      <td>0.069 +/- 0.035</td>\n",
       "      <td>-75.0 +/- 907.6</td>\n",
       "      <td>691 , 177</td>\n",
       "    </tr>\n",
       "    <tr>\n",
       "      <th>Filtering [1, 2, 3, 4], r2&gt;0.9, RBF_SVR</th>\n",
       "      <td>0.095 +/- 0.02</td>\n",
       "      <td>22.0 +/- 4.7</td>\n",
       "      <td>691 , 177</td>\n",
       "      <td>0.097 +/- 0.048</td>\n",
       "      <td>8.3 +/- 3.6</td>\n",
       "      <td>691 , 177</td>\n",
       "      <td>5.989 +/- 2.816</td>\n",
       "      <td>-37.1 +/- 11.5</td>\n",
       "      <td>691 , 177</td>\n",
       "      <td>0.069 +/- 0.036</td>\n",
       "      <td>-40.1 +/- 838.8</td>\n",
       "      <td>691 , 177</td>\n",
       "    </tr>\n",
       "    <tr>\n",
       "      <th>Filtering [1, 2, 3, 4], r2&gt;0.9, Linear_SVR</th>\n",
       "      <td>0.101 +/- 0.019</td>\n",
       "      <td>25.0 +/- 6.9</td>\n",
       "      <td>691 , 177</td>\n",
       "      <td>0.128 +/- 0.065</td>\n",
       "      <td>11.6 +/- 5.8</td>\n",
       "      <td>691 , 177</td>\n",
       "      <td>5.837 +/- 2.584</td>\n",
       "      <td>-37.5 +/- 13.5</td>\n",
       "      <td>691 , 177</td>\n",
       "      <td>0.085 +/- 0.032</td>\n",
       "      <td>476.2 +/- 1852.0</td>\n",
       "      <td>691 , 177</td>\n",
       "    </tr>\n",
       "  </tbody>\n",
       "</table>\n",
       "</div>"
      ],
      "text/plain": [
       "                                                  mae_coef_1       mre_coef_1  \\\n",
       "Filtering [1, 2, 3], r2>None, Poly_KR         0.569 +/- 0.86    51.2 +/- 44.5   \n",
       "Filtering [1, 2, 3], r2>None, RBF_SVR         0.462 +/- 0.84     25.2 +/- 8.9   \n",
       "Filtering [1, 2, 3], r2>None, Linear_SVR     1.231 +/- 1.601  256.3 +/- 373.0   \n",
       "Filtering [1, 2, 3], r2>0, Poly_KR            0.569 +/- 0.86    51.2 +/- 44.5   \n",
       "Filtering [1, 2, 3], r2>0, RBF_SVR            0.462 +/- 0.84     25.2 +/- 8.9   \n",
       "Filtering [1, 2, 3], r2>0, Linear_SVR        1.231 +/- 1.601  256.3 +/- 373.0   \n",
       "Filtering [1, 2, 3], r2>0.9, Poly_KR         0.134 +/- 0.081    28.4 +/- 13.6   \n",
       "Filtering [1, 2, 3], r2>0.9, RBF_SVR         0.081 +/- 0.019     20.3 +/- 4.3   \n",
       "Filtering [1, 2, 3], r2>0.9, Linear_SVR       0.092 +/- 0.02     24.5 +/- 7.9   \n",
       "Filtering [1, 2, 3, 4], r2>None, Poly_KR     0.532 +/- 0.837    50.5 +/- 50.2   \n",
       "Filtering [1, 2, 3, 4], r2>None, RBF_SVR       0.443 +/- 0.8     23.9 +/- 9.4   \n",
       "Filtering [1, 2, 3, 4], r2>None, Linear_SVR  1.234 +/- 1.684  273.7 +/- 398.4   \n",
       "Filtering [1, 2, 3, 4], r2>0, Poly_KR        0.532 +/- 0.837    50.5 +/- 50.2   \n",
       "Filtering [1, 2, 3, 4], r2>0, RBF_SVR          0.443 +/- 0.8     23.9 +/- 9.4   \n",
       "Filtering [1, 2, 3, 4], r2>0, Linear_SVR     1.234 +/- 1.684  273.7 +/- 398.4   \n",
       "Filtering [1, 2, 3, 4], r2>0.9, Poly_KR      0.157 +/- 0.088    31.0 +/- 13.6   \n",
       "Filtering [1, 2, 3, 4], r2>0.9, RBF_SVR       0.095 +/- 0.02     22.0 +/- 4.7   \n",
       "Filtering [1, 2, 3, 4], r2>0.9, Linear_SVR   0.101 +/- 0.019     25.0 +/- 6.9   \n",
       "\n",
       "                                            train_test_shape       mae_coef_2  \\\n",
       "Filtering [1, 2, 3], r2>None, Poly_KR              781 , 202  0.781 +/- 0.947   \n",
       "Filtering [1, 2, 3], r2>None, RBF_SVR              781 , 202   0.47 +/- 0.946   \n",
       "Filtering [1, 2, 3], r2>None, Linear_SVR           781 , 202  1.261 +/- 1.716   \n",
       "Filtering [1, 2, 3], r2>0, Poly_KR                 781 , 202  0.781 +/- 0.947   \n",
       "Filtering [1, 2, 3], r2>0, RBF_SVR                 781 , 202   0.47 +/- 0.946   \n",
       "Filtering [1, 2, 3], r2>0, Linear_SVR              781 , 202  1.261 +/- 1.716   \n",
       "Filtering [1, 2, 3], r2>0.9, Poly_KR               723 , 185  0.287 +/- 0.187   \n",
       "Filtering [1, 2, 3], r2>0.9, RBF_SVR               723 , 185  0.097 +/- 0.045   \n",
       "Filtering [1, 2, 3], r2>0.9, Linear_SVR            723 , 185  0.139 +/- 0.058   \n",
       "Filtering [1, 2, 3, 4], r2>None, Poly_KR           703 , 180  0.696 +/- 0.819   \n",
       "Filtering [1, 2, 3, 4], r2>None, RBF_SVR           703 , 180  0.438 +/- 0.774   \n",
       "Filtering [1, 2, 3, 4], r2>None, Linear_SVR        703 , 180  1.283 +/- 1.747   \n",
       "Filtering [1, 2, 3, 4], r2>0, Poly_KR              703 , 180  0.696 +/- 0.819   \n",
       "Filtering [1, 2, 3, 4], r2>0, RBF_SVR              703 , 180  0.438 +/- 0.774   \n",
       "Filtering [1, 2, 3, 4], r2>0, Linear_SVR           703 , 180  1.283 +/- 1.747   \n",
       "Filtering [1, 2, 3, 4], r2>0.9, Poly_KR            691 , 177  0.295 +/- 0.191   \n",
       "Filtering [1, 2, 3, 4], r2>0.9, RBF_SVR            691 , 177  0.097 +/- 0.048   \n",
       "Filtering [1, 2, 3, 4], r2>0.9, Linear_SVR         691 , 177  0.128 +/- 0.065   \n",
       "\n",
       "                                                 mre_coef_2 train_test_shape  \\\n",
       "Filtering [1, 2, 3], r2>None, Poly_KR         36.1 +/- 28.7        781 , 202   \n",
       "Filtering [1, 2, 3], r2>None, RBF_SVR          8.7 +/- 20.6        781 , 202   \n",
       "Filtering [1, 2, 3], r2>None, Linear_SVR     97.6 +/- 134.3        781 , 202   \n",
       "Filtering [1, 2, 3], r2>0, Poly_KR            36.1 +/- 28.7        781 , 202   \n",
       "Filtering [1, 2, 3], r2>0, RBF_SVR             8.7 +/- 20.6        781 , 202   \n",
       "Filtering [1, 2, 3], r2>0, Linear_SVR        97.6 +/- 134.3        781 , 202   \n",
       "Filtering [1, 2, 3], r2>0.9, Poly_KR          25.9 +/- 18.0        723 , 185   \n",
       "Filtering [1, 2, 3], r2>0.9, RBF_SVR            8.4 +/- 3.3        723 , 185   \n",
       "Filtering [1, 2, 3], r2>0.9, Linear_SVR        13.0 +/- 5.7        723 , 185   \n",
       "Filtering [1, 2, 3, 4], r2>None, Poly_KR      31.7 +/- 22.5        703 , 180   \n",
       "Filtering [1, 2, 3, 4], r2>None, RBF_SVR       3.6 +/- 11.8        703 , 180   \n",
       "Filtering [1, 2, 3, 4], r2>None, Linear_SVR  99.4 +/- 152.1        703 , 180   \n",
       "Filtering [1, 2, 3, 4], r2>0, Poly_KR         31.7 +/- 22.5        703 , 180   \n",
       "Filtering [1, 2, 3, 4], r2>0, RBF_SVR          3.6 +/- 11.8        703 , 180   \n",
       "Filtering [1, 2, 3, 4], r2>0, Linear_SVR     99.4 +/- 152.1        703 , 180   \n",
       "Filtering [1, 2, 3, 4], r2>0.9, Poly_KR       26.7 +/- 18.6        691 , 177   \n",
       "Filtering [1, 2, 3, 4], r2>0.9, RBF_SVR         8.3 +/- 3.6        691 , 177   \n",
       "Filtering [1, 2, 3, 4], r2>0.9, Linear_SVR     11.6 +/- 5.8        691 , 177   \n",
       "\n",
       "                                                   mae_coef_3      mre_coef_3  \\\n",
       "Filtering [1, 2, 3], r2>None, Poly_KR        10.946 +/- 7.807  -52.0 +/- 21.0   \n",
       "Filtering [1, 2, 3], r2>None, RBF_SVR         8.883 +/- 5.821  -42.3 +/- 12.4   \n",
       "Filtering [1, 2, 3], r2>None, Linear_SVR      8.698 +/- 5.683  -42.3 +/- 13.0   \n",
       "Filtering [1, 2, 3], r2>0, Poly_KR           10.946 +/- 7.807  -52.0 +/- 21.0   \n",
       "Filtering [1, 2, 3], r2>0, RBF_SVR            8.883 +/- 5.821  -42.3 +/- 12.4   \n",
       "Filtering [1, 2, 3], r2>0, Linear_SVR         8.698 +/- 5.683  -42.3 +/- 13.0   \n",
       "Filtering [1, 2, 3], r2>0.9, Poly_KR         10.263 +/- 5.784   -47.1 +/- 8.3   \n",
       "Filtering [1, 2, 3], r2>0.9, RBF_SVR          9.118 +/- 5.363   -41.4 +/- 8.3   \n",
       "Filtering [1, 2, 3], r2>0.9, Linear_SVR       8.824 +/- 5.191   -41.2 +/- 8.7   \n",
       "Filtering [1, 2, 3, 4], r2>None, Poly_KR      7.336 +/- 3.599  -43.1 +/- 11.6   \n",
       "Filtering [1, 2, 3, 4], r2>None, RBF_SVR      5.697 +/- 2.765   -34.8 +/- 8.6   \n",
       "Filtering [1, 2, 3, 4], r2>None, Linear_SVR     5.68 +/- 2.56   -36.1 +/- 9.9   \n",
       "Filtering [1, 2, 3, 4], r2>0, Poly_KR         7.336 +/- 3.599  -43.1 +/- 11.6   \n",
       "Filtering [1, 2, 3, 4], r2>0, RBF_SVR         5.697 +/- 2.765   -34.8 +/- 8.6   \n",
       "Filtering [1, 2, 3, 4], r2>0, Linear_SVR        5.68 +/- 2.56   -36.1 +/- 9.9   \n",
       "Filtering [1, 2, 3, 4], r2>0.9, Poly_KR       7.669 +/- 3.795  -45.8 +/- 14.3   \n",
       "Filtering [1, 2, 3, 4], r2>0.9, RBF_SVR       5.989 +/- 2.816  -37.1 +/- 11.5   \n",
       "Filtering [1, 2, 3, 4], r2>0.9, Linear_SVR    5.837 +/- 2.584  -37.5 +/- 13.5   \n",
       "\n",
       "                                            train_test_shape       mae_coef_4  \\\n",
       "Filtering [1, 2, 3], r2>None, Poly_KR              781 , 202   0.12 +/- 0.136   \n",
       "Filtering [1, 2, 3], r2>None, RBF_SVR              781 , 202  0.121 +/- 0.139   \n",
       "Filtering [1, 2, 3], r2>None, Linear_SVR           781 , 202  0.233 +/- 0.307   \n",
       "Filtering [1, 2, 3], r2>0, Poly_KR                 781 , 202   0.12 +/- 0.136   \n",
       "Filtering [1, 2, 3], r2>0, RBF_SVR                 781 , 202  0.121 +/- 0.139   \n",
       "Filtering [1, 2, 3], r2>0, Linear_SVR              781 , 202  0.233 +/- 0.307   \n",
       "Filtering [1, 2, 3], r2>0.9, Poly_KR               723 , 185  0.064 +/- 0.028   \n",
       "Filtering [1, 2, 3], r2>0.9, RBF_SVR               723 , 185   0.064 +/- 0.03   \n",
       "Filtering [1, 2, 3], r2>0.9, Linear_SVR            723 , 185  0.081 +/- 0.028   \n",
       "Filtering [1, 2, 3, 4], r2>None, Poly_KR           703 , 180  0.076 +/- 0.041   \n",
       "Filtering [1, 2, 3, 4], r2>None, RBF_SVR           703 , 180  0.076 +/- 0.041   \n",
       "Filtering [1, 2, 3, 4], r2>None, Linear_SVR        703 , 180     0.1 +/- 0.03   \n",
       "Filtering [1, 2, 3, 4], r2>0, Poly_KR              703 , 180  0.076 +/- 0.041   \n",
       "Filtering [1, 2, 3, 4], r2>0, RBF_SVR              703 , 180  0.076 +/- 0.041   \n",
       "Filtering [1, 2, 3, 4], r2>0, Linear_SVR           703 , 180     0.1 +/- 0.03   \n",
       "Filtering [1, 2, 3, 4], r2>0.9, Poly_KR            691 , 177  0.069 +/- 0.035   \n",
       "Filtering [1, 2, 3, 4], r2>0.9, RBF_SVR            691 , 177  0.069 +/- 0.036   \n",
       "Filtering [1, 2, 3, 4], r2>0.9, Linear_SVR         691 , 177  0.085 +/- 0.032   \n",
       "\n",
       "                                                   mre_coef_4 train_test_shape  \n",
       "Filtering [1, 2, 3], r2>None, Poly_KR         112.3 +/- 156.2        781 , 202  \n",
       "Filtering [1, 2, 3], r2>None, RBF_SVR         129.0 +/- 160.8        781 , 202  \n",
       "Filtering [1, 2, 3], r2>None, Linear_SVR      390.8 +/- 396.2        781 , 202  \n",
       "Filtering [1, 2, 3], r2>0, Poly_KR            112.3 +/- 156.2        781 , 202  \n",
       "Filtering [1, 2, 3], r2>0, RBF_SVR            129.0 +/- 160.8        781 , 202  \n",
       "Filtering [1, 2, 3], r2>0, Linear_SVR         390.8 +/- 396.2        781 , 202  \n",
       "Filtering [1, 2, 3], r2>0.9, Poly_KR            2.5 +/- 156.9        723 , 185  \n",
       "Filtering [1, 2, 3], r2>0.9, RBF_SVR           29.9 +/- 151.6        723 , 185  \n",
       "Filtering [1, 2, 3], r2>0.9, Linear_SVR        95.4 +/- 308.4        723 , 185  \n",
       "Filtering [1, 2, 3, 4], r2>None, Poly_KR      -27.4 +/- 910.0        703 , 180  \n",
       "Filtering [1, 2, 3, 4], r2>None, RBF_SVR       54.1 +/- 736.2        703 , 180  \n",
       "Filtering [1, 2, 3, 4], r2>None, Linear_SVR  569.6 +/- 1878.1        703 , 180  \n",
       "Filtering [1, 2, 3, 4], r2>0, Poly_KR         -27.4 +/- 910.0        703 , 180  \n",
       "Filtering [1, 2, 3, 4], r2>0, RBF_SVR          54.1 +/- 736.2        703 , 180  \n",
       "Filtering [1, 2, 3, 4], r2>0, Linear_SVR     569.6 +/- 1878.1        703 , 180  \n",
       "Filtering [1, 2, 3, 4], r2>0.9, Poly_KR       -75.0 +/- 907.6        691 , 177  \n",
       "Filtering [1, 2, 3, 4], r2>0.9, RBF_SVR       -40.1 +/- 838.8        691 , 177  \n",
       "Filtering [1, 2, 3, 4], r2>0.9, Linear_SVR   476.2 +/- 1852.0        691 , 177  "
      ]
     },
     "execution_count": 9,
     "metadata": {},
     "output_type": "execute_result"
    }
   ],
   "source": [
    "fitting_function = \"sigmoid_4_param\"\n",
    "df1_results = results_1[fitting_function]\n",
    "df1_results = pd.concat([results_1[fitting_function],results_2[fitting_function],\n",
    "                        results_3[fitting_function], results_4[fitting_function]],axis=1)\n",
    "df1_results"
   ]
  },
  {
   "cell_type": "code",
   "execution_count": 10,
   "metadata": {},
   "outputs": [
    {
     "data": {
      "text/html": [
       "<div>\n",
       "<style scoped>\n",
       "    .dataframe tbody tr th:only-of-type {\n",
       "        vertical-align: middle;\n",
       "    }\n",
       "\n",
       "    .dataframe tbody tr th {\n",
       "        vertical-align: top;\n",
       "    }\n",
       "\n",
       "    .dataframe thead th {\n",
       "        text-align: right;\n",
       "    }\n",
       "</style>\n",
       "<table border=\"1\" class=\"dataframe\">\n",
       "  <thead>\n",
       "    <tr style=\"text-align: right;\">\n",
       "      <th></th>\n",
       "      <th>mae_coef_1</th>\n",
       "      <th>mre_coef_1</th>\n",
       "      <th>train_test_shape</th>\n",
       "      <th>mae_coef_2</th>\n",
       "      <th>mre_coef_2</th>\n",
       "      <th>train_test_shape</th>\n",
       "      <th>mae_coef_3</th>\n",
       "      <th>mre_coef_3</th>\n",
       "      <th>train_test_shape</th>\n",
       "      <th>mae_coef_4</th>\n",
       "      <th>mre_coef_4</th>\n",
       "      <th>train_test_shape</th>\n",
       "    </tr>\n",
       "  </thead>\n",
       "  <tbody>\n",
       "    <tr>\n",
       "      <th>Filtering [1, 2, 3], r2&gt;None, Poly_KR</th>\n",
       "      <td>0.3 +/- 0.28</td>\n",
       "      <td>30.9 +/- 29.1</td>\n",
       "      <td>783 , 202</td>\n",
       "      <td>6.99 +/- 4.835</td>\n",
       "      <td>64.2 +/- 24.2</td>\n",
       "      <td>783 , 202</td>\n",
       "      <td>0.223 +/- 0.212</td>\n",
       "      <td>37.8 +/- 23.1</td>\n",
       "      <td>783 , 202</td>\n",
       "      <td>0.232 +/- 0.301</td>\n",
       "      <td>54.9 +/- 338.2</td>\n",
       "      <td>783 , 202</td>\n",
       "    </tr>\n",
       "    <tr>\n",
       "      <th>Filtering [1, 2, 3], r2&gt;None, RBF_SVR</th>\n",
       "      <td>0.016 +/- 0.003</td>\n",
       "      <td>1.6 +/- 0.3</td>\n",
       "      <td>783 , 202</td>\n",
       "      <td>5.978 +/- 3.864</td>\n",
       "      <td>52.9 +/- 17.2</td>\n",
       "      <td>783 , 202</td>\n",
       "      <td>0.128 +/- 0.081</td>\n",
       "      <td>24.1 +/- 5.7</td>\n",
       "      <td>783 , 202</td>\n",
       "      <td>0.218 +/- 0.31</td>\n",
       "      <td>129.9 +/- 239.7</td>\n",
       "      <td>783 , 202</td>\n",
       "    </tr>\n",
       "    <tr>\n",
       "      <th>Filtering [1, 2, 3], r2&gt;None, Linear_SVR</th>\n",
       "      <td>0.022 +/- 0.01</td>\n",
       "      <td>2.2 +/- 1.0</td>\n",
       "      <td>783 , 202</td>\n",
       "      <td>5.889 +/- 3.83</td>\n",
       "      <td>57.0 +/- 21.0</td>\n",
       "      <td>783 , 202</td>\n",
       "      <td>0.328 +/- 0.423</td>\n",
       "      <td>67.6 +/- 87.8</td>\n",
       "      <td>783 , 202</td>\n",
       "      <td>0.458 +/- 0.555</td>\n",
       "      <td>-1219.5 +/- 4891.3</td>\n",
       "      <td>783 , 202</td>\n",
       "    </tr>\n",
       "    <tr>\n",
       "      <th>Filtering [1, 2, 3], r2&gt;0, Poly_KR</th>\n",
       "      <td>0.3 +/- 0.28</td>\n",
       "      <td>30.9 +/- 29.1</td>\n",
       "      <td>783 , 202</td>\n",
       "      <td>6.99 +/- 4.835</td>\n",
       "      <td>64.2 +/- 24.2</td>\n",
       "      <td>783 , 202</td>\n",
       "      <td>0.223 +/- 0.212</td>\n",
       "      <td>37.8 +/- 23.1</td>\n",
       "      <td>783 , 202</td>\n",
       "      <td>0.232 +/- 0.301</td>\n",
       "      <td>54.9 +/- 338.2</td>\n",
       "      <td>783 , 202</td>\n",
       "    </tr>\n",
       "    <tr>\n",
       "      <th>Filtering [1, 2, 3], r2&gt;0, RBF_SVR</th>\n",
       "      <td>0.016 +/- 0.003</td>\n",
       "      <td>1.6 +/- 0.3</td>\n",
       "      <td>783 , 202</td>\n",
       "      <td>5.978 +/- 3.864</td>\n",
       "      <td>52.9 +/- 17.2</td>\n",
       "      <td>783 , 202</td>\n",
       "      <td>0.128 +/- 0.081</td>\n",
       "      <td>24.1 +/- 5.7</td>\n",
       "      <td>783 , 202</td>\n",
       "      <td>0.218 +/- 0.31</td>\n",
       "      <td>129.9 +/- 239.7</td>\n",
       "      <td>783 , 202</td>\n",
       "    </tr>\n",
       "    <tr>\n",
       "      <th>Filtering [1, 2, 3], r2&gt;0, Linear_SVR</th>\n",
       "      <td>0.022 +/- 0.01</td>\n",
       "      <td>2.2 +/- 1.0</td>\n",
       "      <td>783 , 202</td>\n",
       "      <td>5.889 +/- 3.83</td>\n",
       "      <td>57.0 +/- 21.0</td>\n",
       "      <td>783 , 202</td>\n",
       "      <td>0.328 +/- 0.423</td>\n",
       "      <td>67.6 +/- 87.8</td>\n",
       "      <td>783 , 202</td>\n",
       "      <td>0.458 +/- 0.555</td>\n",
       "      <td>-1219.5 +/- 4891.3</td>\n",
       "      <td>783 , 202</td>\n",
       "    </tr>\n",
       "    <tr>\n",
       "      <th>Filtering [1, 2, 3], r2&gt;0.9, Poly_KR</th>\n",
       "      <td>0.234 +/- 0.196</td>\n",
       "      <td>24.1 +/- 20.1</td>\n",
       "      <td>736 , 189</td>\n",
       "      <td>5.499 +/- 3.664</td>\n",
       "      <td>59.4 +/- 20.3</td>\n",
       "      <td>736 , 189</td>\n",
       "      <td>0.148 +/- 0.086</td>\n",
       "      <td>31.8 +/- 14.1</td>\n",
       "      <td>736 , 189</td>\n",
       "      <td>0.088 +/- 0.031</td>\n",
       "      <td>59.4 +/- 270.1</td>\n",
       "      <td>736 , 189</td>\n",
       "    </tr>\n",
       "    <tr>\n",
       "      <th>Filtering [1, 2, 3], r2&gt;0.9, RBF_SVR</th>\n",
       "      <td>0.017 +/- 0.004</td>\n",
       "      <td>1.7 +/- 0.4</td>\n",
       "      <td>736 , 189</td>\n",
       "      <td>4.943 +/- 3.428</td>\n",
       "      <td>49.4 +/- 12.3</td>\n",
       "      <td>736 , 189</td>\n",
       "      <td>0.093 +/- 0.025</td>\n",
       "      <td>24.3 +/- 9.8</td>\n",
       "      <td>736 , 189</td>\n",
       "      <td>0.077 +/- 0.029</td>\n",
       "      <td>105.2 +/- 240.4</td>\n",
       "      <td>736 , 189</td>\n",
       "    </tr>\n",
       "    <tr>\n",
       "      <th>Filtering [1, 2, 3], r2&gt;0.9, Linear_SVR</th>\n",
       "      <td>0.023 +/- 0.007</td>\n",
       "      <td>2.3 +/- 0.8</td>\n",
       "      <td>736 , 189</td>\n",
       "      <td>4.891 +/- 3.344</td>\n",
       "      <td>54.7 +/- 20.7</td>\n",
       "      <td>736 , 189</td>\n",
       "      <td>0.173 +/- 0.227</td>\n",
       "      <td>44.2 +/- 51.2</td>\n",
       "      <td>736 , 189</td>\n",
       "      <td>0.159 +/- 0.193</td>\n",
       "      <td>41.9 +/- 888.7</td>\n",
       "      <td>736 , 189</td>\n",
       "    </tr>\n",
       "    <tr>\n",
       "      <th>Filtering [1, 2, 3, 4], r2&gt;None, Poly_KR</th>\n",
       "      <td>0.241 +/- 0.196</td>\n",
       "      <td>24.8 +/- 20.2</td>\n",
       "      <td>705 , 180</td>\n",
       "      <td>5.52 +/- 2.527</td>\n",
       "      <td>50.9 +/- 17.5</td>\n",
       "      <td>705 , 180</td>\n",
       "      <td>0.157 +/- 0.103</td>\n",
       "      <td>31.8 +/- 15.2</td>\n",
       "      <td>705 , 180</td>\n",
       "      <td>0.096 +/- 0.047</td>\n",
       "      <td>7807.7 +/- 23517.3</td>\n",
       "      <td>705 , 180</td>\n",
       "    </tr>\n",
       "    <tr>\n",
       "      <th>Filtering [1, 2, 3, 4], r2&gt;None, RBF_SVR</th>\n",
       "      <td>0.014 +/- 0.003</td>\n",
       "      <td>1.5 +/- 0.3</td>\n",
       "      <td>705 , 180</td>\n",
       "      <td>4.767 +/- 2.402</td>\n",
       "      <td>41.7 +/- 7.5</td>\n",
       "      <td>705 , 180</td>\n",
       "      <td>0.099 +/- 0.038</td>\n",
       "      <td>23.7 +/- 8.2</td>\n",
       "      <td>705 , 180</td>\n",
       "      <td>0.086 +/- 0.049</td>\n",
       "      <td>9154.4 +/- 27483.3</td>\n",
       "      <td>705 , 180</td>\n",
       "    </tr>\n",
       "    <tr>\n",
       "      <th>Filtering [1, 2, 3, 4], r2&gt;None, Linear_SVR</th>\n",
       "      <td>0.019 +/- 0.006</td>\n",
       "      <td>1.9 +/- 0.6</td>\n",
       "      <td>705 , 180</td>\n",
       "      <td>4.925 +/- 2.212</td>\n",
       "      <td>47.8 +/- 14.7</td>\n",
       "      <td>705 , 180</td>\n",
       "      <td>0.367 +/- 0.582</td>\n",
       "      <td>88.1 +/- 136.0</td>\n",
       "      <td>705 , 180</td>\n",
       "      <td>0.604 +/- 1.167</td>\n",
       "      <td>12827.2 +/- 38588.7</td>\n",
       "      <td>705 , 180</td>\n",
       "    </tr>\n",
       "    <tr>\n",
       "      <th>Filtering [1, 2, 3, 4], r2&gt;0, Poly_KR</th>\n",
       "      <td>0.241 +/- 0.196</td>\n",
       "      <td>24.8 +/- 20.2</td>\n",
       "      <td>705 , 180</td>\n",
       "      <td>5.52 +/- 2.527</td>\n",
       "      <td>50.9 +/- 17.5</td>\n",
       "      <td>705 , 180</td>\n",
       "      <td>0.157 +/- 0.103</td>\n",
       "      <td>31.8 +/- 15.2</td>\n",
       "      <td>705 , 180</td>\n",
       "      <td>0.096 +/- 0.047</td>\n",
       "      <td>7807.7 +/- 23517.3</td>\n",
       "      <td>705 , 180</td>\n",
       "    </tr>\n",
       "    <tr>\n",
       "      <th>Filtering [1, 2, 3, 4], r2&gt;0, RBF_SVR</th>\n",
       "      <td>0.014 +/- 0.003</td>\n",
       "      <td>1.5 +/- 0.3</td>\n",
       "      <td>705 , 180</td>\n",
       "      <td>4.767 +/- 2.402</td>\n",
       "      <td>41.7 +/- 7.5</td>\n",
       "      <td>705 , 180</td>\n",
       "      <td>0.099 +/- 0.038</td>\n",
       "      <td>23.7 +/- 8.2</td>\n",
       "      <td>705 , 180</td>\n",
       "      <td>0.086 +/- 0.049</td>\n",
       "      <td>9154.4 +/- 27483.3</td>\n",
       "      <td>705 , 180</td>\n",
       "    </tr>\n",
       "    <tr>\n",
       "      <th>Filtering [1, 2, 3, 4], r2&gt;0, Linear_SVR</th>\n",
       "      <td>0.019 +/- 0.006</td>\n",
       "      <td>1.9 +/- 0.6</td>\n",
       "      <td>705 , 180</td>\n",
       "      <td>4.925 +/- 2.212</td>\n",
       "      <td>47.8 +/- 14.7</td>\n",
       "      <td>705 , 180</td>\n",
       "      <td>0.367 +/- 0.582</td>\n",
       "      <td>88.1 +/- 136.0</td>\n",
       "      <td>705 , 180</td>\n",
       "      <td>0.604 +/- 1.167</td>\n",
       "      <td>12827.2 +/- 38588.7</td>\n",
       "      <td>705 , 180</td>\n",
       "    </tr>\n",
       "    <tr>\n",
       "      <th>Filtering [1, 2, 3, 4], r2&gt;0.9, Poly_KR</th>\n",
       "      <td>0.241 +/- 0.196</td>\n",
       "      <td>24.8 +/- 20.2</td>\n",
       "      <td>704 , 180</td>\n",
       "      <td>5.52 +/- 2.561</td>\n",
       "      <td>50.7 +/- 17.6</td>\n",
       "      <td>704 , 180</td>\n",
       "      <td>0.162 +/- 0.105</td>\n",
       "      <td>32.7 +/- 15.4</td>\n",
       "      <td>704 , 180</td>\n",
       "      <td>0.092 +/- 0.052</td>\n",
       "      <td>7760.6 +/- 23532.4</td>\n",
       "      <td>704 , 180</td>\n",
       "    </tr>\n",
       "    <tr>\n",
       "      <th>Filtering [1, 2, 3, 4], r2&gt;0.9, RBF_SVR</th>\n",
       "      <td>0.014 +/- 0.002</td>\n",
       "      <td>1.5 +/- 0.3</td>\n",
       "      <td>704 , 180</td>\n",
       "      <td>4.728 +/- 2.385</td>\n",
       "      <td>41.1 +/- 6.9</td>\n",
       "      <td>704 , 180</td>\n",
       "      <td>0.1 +/- 0.038</td>\n",
       "      <td>23.6 +/- 8.1</td>\n",
       "      <td>704 , 180</td>\n",
       "      <td>0.087 +/- 0.049</td>\n",
       "      <td>9156.0 +/- 27482.8</td>\n",
       "      <td>704 , 180</td>\n",
       "    </tr>\n",
       "    <tr>\n",
       "      <th>Filtering [1, 2, 3, 4], r2&gt;0.9, Linear_SVR</th>\n",
       "      <td>0.018 +/- 0.006</td>\n",
       "      <td>1.9 +/- 0.6</td>\n",
       "      <td>704 , 180</td>\n",
       "      <td>4.877 +/- 2.184</td>\n",
       "      <td>47.2 +/- 14.4</td>\n",
       "      <td>704 , 180</td>\n",
       "      <td>0.179 +/- 0.201</td>\n",
       "      <td>43.3 +/- 42.0</td>\n",
       "      <td>704 , 180</td>\n",
       "      <td>0.202 +/- 0.231</td>\n",
       "      <td>10243.0 +/- 38474.3</td>\n",
       "      <td>704 , 180</td>\n",
       "    </tr>\n",
       "  </tbody>\n",
       "</table>\n",
       "</div>"
      ],
      "text/plain": [
       "                                                  mae_coef_1     mre_coef_1  \\\n",
       "Filtering [1, 2, 3], r2>None, Poly_KR           0.3 +/- 0.28  30.9 +/- 29.1   \n",
       "Filtering [1, 2, 3], r2>None, RBF_SVR        0.016 +/- 0.003    1.6 +/- 0.3   \n",
       "Filtering [1, 2, 3], r2>None, Linear_SVR      0.022 +/- 0.01    2.2 +/- 1.0   \n",
       "Filtering [1, 2, 3], r2>0, Poly_KR              0.3 +/- 0.28  30.9 +/- 29.1   \n",
       "Filtering [1, 2, 3], r2>0, RBF_SVR           0.016 +/- 0.003    1.6 +/- 0.3   \n",
       "Filtering [1, 2, 3], r2>0, Linear_SVR         0.022 +/- 0.01    2.2 +/- 1.0   \n",
       "Filtering [1, 2, 3], r2>0.9, Poly_KR         0.234 +/- 0.196  24.1 +/- 20.1   \n",
       "Filtering [1, 2, 3], r2>0.9, RBF_SVR         0.017 +/- 0.004    1.7 +/- 0.4   \n",
       "Filtering [1, 2, 3], r2>0.9, Linear_SVR      0.023 +/- 0.007    2.3 +/- 0.8   \n",
       "Filtering [1, 2, 3, 4], r2>None, Poly_KR     0.241 +/- 0.196  24.8 +/- 20.2   \n",
       "Filtering [1, 2, 3, 4], r2>None, RBF_SVR     0.014 +/- 0.003    1.5 +/- 0.3   \n",
       "Filtering [1, 2, 3, 4], r2>None, Linear_SVR  0.019 +/- 0.006    1.9 +/- 0.6   \n",
       "Filtering [1, 2, 3, 4], r2>0, Poly_KR        0.241 +/- 0.196  24.8 +/- 20.2   \n",
       "Filtering [1, 2, 3, 4], r2>0, RBF_SVR        0.014 +/- 0.003    1.5 +/- 0.3   \n",
       "Filtering [1, 2, 3, 4], r2>0, Linear_SVR     0.019 +/- 0.006    1.9 +/- 0.6   \n",
       "Filtering [1, 2, 3, 4], r2>0.9, Poly_KR      0.241 +/- 0.196  24.8 +/- 20.2   \n",
       "Filtering [1, 2, 3, 4], r2>0.9, RBF_SVR      0.014 +/- 0.002    1.5 +/- 0.3   \n",
       "Filtering [1, 2, 3, 4], r2>0.9, Linear_SVR   0.018 +/- 0.006    1.9 +/- 0.6   \n",
       "\n",
       "                                            train_test_shape       mae_coef_2  \\\n",
       "Filtering [1, 2, 3], r2>None, Poly_KR              783 , 202   6.99 +/- 4.835   \n",
       "Filtering [1, 2, 3], r2>None, RBF_SVR              783 , 202  5.978 +/- 3.864   \n",
       "Filtering [1, 2, 3], r2>None, Linear_SVR           783 , 202   5.889 +/- 3.83   \n",
       "Filtering [1, 2, 3], r2>0, Poly_KR                 783 , 202   6.99 +/- 4.835   \n",
       "Filtering [1, 2, 3], r2>0, RBF_SVR                 783 , 202  5.978 +/- 3.864   \n",
       "Filtering [1, 2, 3], r2>0, Linear_SVR              783 , 202   5.889 +/- 3.83   \n",
       "Filtering [1, 2, 3], r2>0.9, Poly_KR               736 , 189  5.499 +/- 3.664   \n",
       "Filtering [1, 2, 3], r2>0.9, RBF_SVR               736 , 189  4.943 +/- 3.428   \n",
       "Filtering [1, 2, 3], r2>0.9, Linear_SVR            736 , 189  4.891 +/- 3.344   \n",
       "Filtering [1, 2, 3, 4], r2>None, Poly_KR           705 , 180   5.52 +/- 2.527   \n",
       "Filtering [1, 2, 3, 4], r2>None, RBF_SVR           705 , 180  4.767 +/- 2.402   \n",
       "Filtering [1, 2, 3, 4], r2>None, Linear_SVR        705 , 180  4.925 +/- 2.212   \n",
       "Filtering [1, 2, 3, 4], r2>0, Poly_KR              705 , 180   5.52 +/- 2.527   \n",
       "Filtering [1, 2, 3, 4], r2>0, RBF_SVR              705 , 180  4.767 +/- 2.402   \n",
       "Filtering [1, 2, 3, 4], r2>0, Linear_SVR           705 , 180  4.925 +/- 2.212   \n",
       "Filtering [1, 2, 3, 4], r2>0.9, Poly_KR            704 , 180   5.52 +/- 2.561   \n",
       "Filtering [1, 2, 3, 4], r2>0.9, RBF_SVR            704 , 180  4.728 +/- 2.385   \n",
       "Filtering [1, 2, 3, 4], r2>0.9, Linear_SVR         704 , 180  4.877 +/- 2.184   \n",
       "\n",
       "                                                mre_coef_2 train_test_shape  \\\n",
       "Filtering [1, 2, 3], r2>None, Poly_KR        64.2 +/- 24.2        783 , 202   \n",
       "Filtering [1, 2, 3], r2>None, RBF_SVR        52.9 +/- 17.2        783 , 202   \n",
       "Filtering [1, 2, 3], r2>None, Linear_SVR     57.0 +/- 21.0        783 , 202   \n",
       "Filtering [1, 2, 3], r2>0, Poly_KR           64.2 +/- 24.2        783 , 202   \n",
       "Filtering [1, 2, 3], r2>0, RBF_SVR           52.9 +/- 17.2        783 , 202   \n",
       "Filtering [1, 2, 3], r2>0, Linear_SVR        57.0 +/- 21.0        783 , 202   \n",
       "Filtering [1, 2, 3], r2>0.9, Poly_KR         59.4 +/- 20.3        736 , 189   \n",
       "Filtering [1, 2, 3], r2>0.9, RBF_SVR         49.4 +/- 12.3        736 , 189   \n",
       "Filtering [1, 2, 3], r2>0.9, Linear_SVR      54.7 +/- 20.7        736 , 189   \n",
       "Filtering [1, 2, 3, 4], r2>None, Poly_KR     50.9 +/- 17.5        705 , 180   \n",
       "Filtering [1, 2, 3, 4], r2>None, RBF_SVR      41.7 +/- 7.5        705 , 180   \n",
       "Filtering [1, 2, 3, 4], r2>None, Linear_SVR  47.8 +/- 14.7        705 , 180   \n",
       "Filtering [1, 2, 3, 4], r2>0, Poly_KR        50.9 +/- 17.5        705 , 180   \n",
       "Filtering [1, 2, 3, 4], r2>0, RBF_SVR         41.7 +/- 7.5        705 , 180   \n",
       "Filtering [1, 2, 3, 4], r2>0, Linear_SVR     47.8 +/- 14.7        705 , 180   \n",
       "Filtering [1, 2, 3, 4], r2>0.9, Poly_KR      50.7 +/- 17.6        704 , 180   \n",
       "Filtering [1, 2, 3, 4], r2>0.9, RBF_SVR       41.1 +/- 6.9        704 , 180   \n",
       "Filtering [1, 2, 3, 4], r2>0.9, Linear_SVR   47.2 +/- 14.4        704 , 180   \n",
       "\n",
       "                                                  mae_coef_3      mre_coef_3  \\\n",
       "Filtering [1, 2, 3], r2>None, Poly_KR        0.223 +/- 0.212   37.8 +/- 23.1   \n",
       "Filtering [1, 2, 3], r2>None, RBF_SVR        0.128 +/- 0.081    24.1 +/- 5.7   \n",
       "Filtering [1, 2, 3], r2>None, Linear_SVR     0.328 +/- 0.423   67.6 +/- 87.8   \n",
       "Filtering [1, 2, 3], r2>0, Poly_KR           0.223 +/- 0.212   37.8 +/- 23.1   \n",
       "Filtering [1, 2, 3], r2>0, RBF_SVR           0.128 +/- 0.081    24.1 +/- 5.7   \n",
       "Filtering [1, 2, 3], r2>0, Linear_SVR        0.328 +/- 0.423   67.6 +/- 87.8   \n",
       "Filtering [1, 2, 3], r2>0.9, Poly_KR         0.148 +/- 0.086   31.8 +/- 14.1   \n",
       "Filtering [1, 2, 3], r2>0.9, RBF_SVR         0.093 +/- 0.025    24.3 +/- 9.8   \n",
       "Filtering [1, 2, 3], r2>0.9, Linear_SVR      0.173 +/- 0.227   44.2 +/- 51.2   \n",
       "Filtering [1, 2, 3, 4], r2>None, Poly_KR     0.157 +/- 0.103   31.8 +/- 15.2   \n",
       "Filtering [1, 2, 3, 4], r2>None, RBF_SVR     0.099 +/- 0.038    23.7 +/- 8.2   \n",
       "Filtering [1, 2, 3, 4], r2>None, Linear_SVR  0.367 +/- 0.582  88.1 +/- 136.0   \n",
       "Filtering [1, 2, 3, 4], r2>0, Poly_KR        0.157 +/- 0.103   31.8 +/- 15.2   \n",
       "Filtering [1, 2, 3, 4], r2>0, RBF_SVR        0.099 +/- 0.038    23.7 +/- 8.2   \n",
       "Filtering [1, 2, 3, 4], r2>0, Linear_SVR     0.367 +/- 0.582  88.1 +/- 136.0   \n",
       "Filtering [1, 2, 3, 4], r2>0.9, Poly_KR      0.162 +/- 0.105   32.7 +/- 15.4   \n",
       "Filtering [1, 2, 3, 4], r2>0.9, RBF_SVR        0.1 +/- 0.038    23.6 +/- 8.1   \n",
       "Filtering [1, 2, 3, 4], r2>0.9, Linear_SVR   0.179 +/- 0.201   43.3 +/- 42.0   \n",
       "\n",
       "                                            train_test_shape       mae_coef_4  \\\n",
       "Filtering [1, 2, 3], r2>None, Poly_KR              783 , 202  0.232 +/- 0.301   \n",
       "Filtering [1, 2, 3], r2>None, RBF_SVR              783 , 202   0.218 +/- 0.31   \n",
       "Filtering [1, 2, 3], r2>None, Linear_SVR           783 , 202  0.458 +/- 0.555   \n",
       "Filtering [1, 2, 3], r2>0, Poly_KR                 783 , 202  0.232 +/- 0.301   \n",
       "Filtering [1, 2, 3], r2>0, RBF_SVR                 783 , 202   0.218 +/- 0.31   \n",
       "Filtering [1, 2, 3], r2>0, Linear_SVR              783 , 202  0.458 +/- 0.555   \n",
       "Filtering [1, 2, 3], r2>0.9, Poly_KR               736 , 189  0.088 +/- 0.031   \n",
       "Filtering [1, 2, 3], r2>0.9, RBF_SVR               736 , 189  0.077 +/- 0.029   \n",
       "Filtering [1, 2, 3], r2>0.9, Linear_SVR            736 , 189  0.159 +/- 0.193   \n",
       "Filtering [1, 2, 3, 4], r2>None, Poly_KR           705 , 180  0.096 +/- 0.047   \n",
       "Filtering [1, 2, 3, 4], r2>None, RBF_SVR           705 , 180  0.086 +/- 0.049   \n",
       "Filtering [1, 2, 3, 4], r2>None, Linear_SVR        705 , 180  0.604 +/- 1.167   \n",
       "Filtering [1, 2, 3, 4], r2>0, Poly_KR              705 , 180  0.096 +/- 0.047   \n",
       "Filtering [1, 2, 3, 4], r2>0, RBF_SVR              705 , 180  0.086 +/- 0.049   \n",
       "Filtering [1, 2, 3, 4], r2>0, Linear_SVR           705 , 180  0.604 +/- 1.167   \n",
       "Filtering [1, 2, 3, 4], r2>0.9, Poly_KR            704 , 180  0.092 +/- 0.052   \n",
       "Filtering [1, 2, 3, 4], r2>0.9, RBF_SVR            704 , 180  0.087 +/- 0.049   \n",
       "Filtering [1, 2, 3, 4], r2>0.9, Linear_SVR         704 , 180  0.202 +/- 0.231   \n",
       "\n",
       "                                                      mre_coef_4  \\\n",
       "Filtering [1, 2, 3], r2>None, Poly_KR             54.9 +/- 338.2   \n",
       "Filtering [1, 2, 3], r2>None, RBF_SVR            129.9 +/- 239.7   \n",
       "Filtering [1, 2, 3], r2>None, Linear_SVR      -1219.5 +/- 4891.3   \n",
       "Filtering [1, 2, 3], r2>0, Poly_KR                54.9 +/- 338.2   \n",
       "Filtering [1, 2, 3], r2>0, RBF_SVR               129.9 +/- 239.7   \n",
       "Filtering [1, 2, 3], r2>0, Linear_SVR         -1219.5 +/- 4891.3   \n",
       "Filtering [1, 2, 3], r2>0.9, Poly_KR              59.4 +/- 270.1   \n",
       "Filtering [1, 2, 3], r2>0.9, RBF_SVR             105.2 +/- 240.4   \n",
       "Filtering [1, 2, 3], r2>0.9, Linear_SVR           41.9 +/- 888.7   \n",
       "Filtering [1, 2, 3, 4], r2>None, Poly_KR      7807.7 +/- 23517.3   \n",
       "Filtering [1, 2, 3, 4], r2>None, RBF_SVR      9154.4 +/- 27483.3   \n",
       "Filtering [1, 2, 3, 4], r2>None, Linear_SVR  12827.2 +/- 38588.7   \n",
       "Filtering [1, 2, 3, 4], r2>0, Poly_KR         7807.7 +/- 23517.3   \n",
       "Filtering [1, 2, 3, 4], r2>0, RBF_SVR         9154.4 +/- 27483.3   \n",
       "Filtering [1, 2, 3, 4], r2>0, Linear_SVR     12827.2 +/- 38588.7   \n",
       "Filtering [1, 2, 3, 4], r2>0.9, Poly_KR       7760.6 +/- 23532.4   \n",
       "Filtering [1, 2, 3, 4], r2>0.9, RBF_SVR       9156.0 +/- 27482.8   \n",
       "Filtering [1, 2, 3, 4], r2>0.9, Linear_SVR   10243.0 +/- 38474.3   \n",
       "\n",
       "                                            train_test_shape  \n",
       "Filtering [1, 2, 3], r2>None, Poly_KR              783 , 202  \n",
       "Filtering [1, 2, 3], r2>None, RBF_SVR              783 , 202  \n",
       "Filtering [1, 2, 3], r2>None, Linear_SVR           783 , 202  \n",
       "Filtering [1, 2, 3], r2>0, Poly_KR                 783 , 202  \n",
       "Filtering [1, 2, 3], r2>0, RBF_SVR                 783 , 202  \n",
       "Filtering [1, 2, 3], r2>0, Linear_SVR              783 , 202  \n",
       "Filtering [1, 2, 3], r2>0.9, Poly_KR               736 , 189  \n",
       "Filtering [1, 2, 3], r2>0.9, RBF_SVR               736 , 189  \n",
       "Filtering [1, 2, 3], r2>0.9, Linear_SVR            736 , 189  \n",
       "Filtering [1, 2, 3, 4], r2>None, Poly_KR           705 , 180  \n",
       "Filtering [1, 2, 3, 4], r2>None, RBF_SVR           705 , 180  \n",
       "Filtering [1, 2, 3, 4], r2>None, Linear_SVR        705 , 180  \n",
       "Filtering [1, 2, 3, 4], r2>0, Poly_KR              705 , 180  \n",
       "Filtering [1, 2, 3, 4], r2>0, RBF_SVR              705 , 180  \n",
       "Filtering [1, 2, 3, 4], r2>0, Linear_SVR           705 , 180  \n",
       "Filtering [1, 2, 3, 4], r2>0.9, Poly_KR            704 , 180  \n",
       "Filtering [1, 2, 3, 4], r2>0.9, RBF_SVR            704 , 180  \n",
       "Filtering [1, 2, 3, 4], r2>0.9, Linear_SVR         704 , 180  "
      ]
     },
     "execution_count": 10,
     "metadata": {},
     "output_type": "execute_result"
    }
   ],
   "source": [
    "fitting_function = \"logistic4\"\n",
    "df2_results = results_1[fitting_function]\n",
    "df2_results = pd.concat([results_1[fitting_function],results_2[fitting_function],\n",
    "                        results_3[fitting_function], results_4[fitting_function]],axis=1)\n",
    "df2_results"
   ]
  },
  {
   "cell_type": "code",
   "execution_count": 11,
   "metadata": {},
   "outputs": [
    {
     "data": {
      "text/html": [
       "<div>\n",
       "<style scoped>\n",
       "    .dataframe tbody tr th:only-of-type {\n",
       "        vertical-align: middle;\n",
       "    }\n",
       "\n",
       "    .dataframe tbody tr th {\n",
       "        vertical-align: top;\n",
       "    }\n",
       "\n",
       "    .dataframe thead th {\n",
       "        text-align: right;\n",
       "    }\n",
       "</style>\n",
       "<table border=\"1\" class=\"dataframe\">\n",
       "  <thead>\n",
       "    <tr style=\"text-align: right;\">\n",
       "      <th></th>\n",
       "      <th>mae_coef_1</th>\n",
       "      <th>mre_coef_1</th>\n",
       "      <th>train_test_shape</th>\n",
       "      <th>mae_coef_2</th>\n",
       "      <th>mre_coef_2</th>\n",
       "      <th>train_test_shape</th>\n",
       "      <th>mae_coef_3</th>\n",
       "      <th>mre_coef_3</th>\n",
       "      <th>train_test_shape</th>\n",
       "    </tr>\n",
       "  </thead>\n",
       "  <tbody>\n",
       "    <tr>\n",
       "      <th>Filtering [1, 2, 3], r2&gt;None, Poly_KR</th>\n",
       "      <td>0.132 +/- 0.055</td>\n",
       "      <td>-37.5 +/- 23.6</td>\n",
       "      <td>783 , 202</td>\n",
       "      <td>2.982 +/- 1.513</td>\n",
       "      <td>-48.8 +/- 19.9</td>\n",
       "      <td>783 , 202</td>\n",
       "      <td>0.066 +/- 0.027</td>\n",
       "      <td>87.0 +/- 556.6</td>\n",
       "      <td>783 , 202</td>\n",
       "    </tr>\n",
       "    <tr>\n",
       "      <th>Filtering [1, 2, 3], r2&gt;None, RBF_SVR</th>\n",
       "      <td>0.086 +/- 0.018</td>\n",
       "      <td>-26.1 +/- 8.1</td>\n",
       "      <td>783 , 202</td>\n",
       "      <td>2.44 +/- 1.26</td>\n",
       "      <td>-40.6 +/- 18.4</td>\n",
       "      <td>783 , 202</td>\n",
       "      <td>0.067 +/- 0.026</td>\n",
       "      <td>176.5 +/- 630.3</td>\n",
       "      <td>783 , 202</td>\n",
       "    </tr>\n",
       "    <tr>\n",
       "      <th>Filtering [1, 2, 3], r2&gt;None, Linear_SVR</th>\n",
       "      <td>0.097 +/- 0.027</td>\n",
       "      <td>-33.0 +/- 16.2</td>\n",
       "      <td>783 , 202</td>\n",
       "      <td>2.376 +/- 1.227</td>\n",
       "      <td>-44.2 +/- 20.8</td>\n",
       "      <td>783 , 202</td>\n",
       "      <td>0.092 +/- 0.026</td>\n",
       "      <td>62.6 +/- 1557.1</td>\n",
       "      <td>783 , 202</td>\n",
       "    </tr>\n",
       "    <tr>\n",
       "      <th>Filtering [1, 2, 3], r2&gt;0, Poly_KR</th>\n",
       "      <td>0.132 +/- 0.055</td>\n",
       "      <td>-37.5 +/- 23.6</td>\n",
       "      <td>783 , 202</td>\n",
       "      <td>2.982 +/- 1.513</td>\n",
       "      <td>-48.8 +/- 19.9</td>\n",
       "      <td>783 , 202</td>\n",
       "      <td>0.066 +/- 0.027</td>\n",
       "      <td>87.0 +/- 556.6</td>\n",
       "      <td>783 , 202</td>\n",
       "    </tr>\n",
       "    <tr>\n",
       "      <th>Filtering [1, 2, 3], r2&gt;0, RBF_SVR</th>\n",
       "      <td>0.086 +/- 0.018</td>\n",
       "      <td>-26.1 +/- 8.1</td>\n",
       "      <td>783 , 202</td>\n",
       "      <td>2.44 +/- 1.26</td>\n",
       "      <td>-40.6 +/- 18.4</td>\n",
       "      <td>783 , 202</td>\n",
       "      <td>0.067 +/- 0.026</td>\n",
       "      <td>176.5 +/- 630.3</td>\n",
       "      <td>783 , 202</td>\n",
       "    </tr>\n",
       "    <tr>\n",
       "      <th>Filtering [1, 2, 3], r2&gt;0, Linear_SVR</th>\n",
       "      <td>0.097 +/- 0.027</td>\n",
       "      <td>-33.0 +/- 16.2</td>\n",
       "      <td>783 , 202</td>\n",
       "      <td>2.376 +/- 1.227</td>\n",
       "      <td>-44.2 +/- 20.8</td>\n",
       "      <td>783 , 202</td>\n",
       "      <td>0.092 +/- 0.026</td>\n",
       "      <td>62.6 +/- 1557.1</td>\n",
       "      <td>783 , 202</td>\n",
       "    </tr>\n",
       "    <tr>\n",
       "      <th>Filtering [1, 2, 3], r2&gt;0.9, Poly_KR</th>\n",
       "      <td>0.124 +/- 0.046</td>\n",
       "      <td>-31.6 +/- 12.9</td>\n",
       "      <td>736 , 188</td>\n",
       "      <td>2.715 +/- 1.184</td>\n",
       "      <td>-41.8 +/- 11.0</td>\n",
       "      <td>736 , 188</td>\n",
       "      <td>0.06 +/- 0.027</td>\n",
       "      <td>-16.5 +/- 695.1</td>\n",
       "      <td>736 , 188</td>\n",
       "    </tr>\n",
       "    <tr>\n",
       "      <th>Filtering [1, 2, 3], r2&gt;0.9, RBF_SVR</th>\n",
       "      <td>0.089 +/- 0.026</td>\n",
       "      <td>-25.9 +/- 8.6</td>\n",
       "      <td>736 , 188</td>\n",
       "      <td>2.367 +/- 1.228</td>\n",
       "      <td>-36.7 +/- 12.9</td>\n",
       "      <td>736 , 188</td>\n",
       "      <td>0.06 +/- 0.028</td>\n",
       "      <td>-21.7 +/- 615.7</td>\n",
       "      <td>736 , 188</td>\n",
       "    </tr>\n",
       "    <tr>\n",
       "      <th>Filtering [1, 2, 3], r2&gt;0.9, Linear_SVR</th>\n",
       "      <td>0.092 +/- 0.025</td>\n",
       "      <td>-28.9 +/- 10.6</td>\n",
       "      <td>736 , 188</td>\n",
       "      <td>2.447 +/- 1.336</td>\n",
       "      <td>-43.4 +/- 17.7</td>\n",
       "      <td>736 , 188</td>\n",
       "      <td>0.091 +/- 0.024</td>\n",
       "      <td>-405.3 +/- 1476.1</td>\n",
       "      <td>736 , 188</td>\n",
       "    </tr>\n",
       "    <tr>\n",
       "      <th>Filtering [1, 2, 3, 4], r2&gt;None, Poly_KR</th>\n",
       "      <td>0.122 +/- 0.03</td>\n",
       "      <td>-32.7 +/- 10.8</td>\n",
       "      <td>705 , 180</td>\n",
       "      <td>2.456 +/- 0.779</td>\n",
       "      <td>-38.4 +/- 9.1</td>\n",
       "      <td>705 , 180</td>\n",
       "      <td>0.066 +/- 0.032</td>\n",
       "      <td>-283.9 +/- 971.5</td>\n",
       "      <td>705 , 180</td>\n",
       "    </tr>\n",
       "    <tr>\n",
       "      <th>Filtering [1, 2, 3, 4], r2&gt;None, RBF_SVR</th>\n",
       "      <td>0.089 +/- 0.026</td>\n",
       "      <td>-28.6 +/- 11.6</td>\n",
       "      <td>705 , 180</td>\n",
       "      <td>1.968 +/- 0.906</td>\n",
       "      <td>-30.0 +/- 7.8</td>\n",
       "      <td>705 , 180</td>\n",
       "      <td>0.065 +/- 0.033</td>\n",
       "      <td>-256.8 +/- 933.2</td>\n",
       "      <td>705 , 180</td>\n",
       "    </tr>\n",
       "    <tr>\n",
       "      <th>Filtering [1, 2, 3, 4], r2&gt;None, Linear_SVR</th>\n",
       "      <td>0.092 +/- 0.025</td>\n",
       "      <td>-33.2 +/- 16.3</td>\n",
       "      <td>705 , 180</td>\n",
       "      <td>2.147 +/- 1.018</td>\n",
       "      <td>-37.8 +/- 15.7</td>\n",
       "      <td>705 , 180</td>\n",
       "      <td>0.11 +/- 0.026</td>\n",
       "      <td>-233.8 +/- 1216.6</td>\n",
       "      <td>705 , 180</td>\n",
       "    </tr>\n",
       "    <tr>\n",
       "      <th>Filtering [1, 2, 3, 4], r2&gt;0, Poly_KR</th>\n",
       "      <td>0.122 +/- 0.03</td>\n",
       "      <td>-32.7 +/- 10.8</td>\n",
       "      <td>705 , 180</td>\n",
       "      <td>2.456 +/- 0.779</td>\n",
       "      <td>-38.4 +/- 9.1</td>\n",
       "      <td>705 , 180</td>\n",
       "      <td>0.066 +/- 0.032</td>\n",
       "      <td>-283.9 +/- 971.5</td>\n",
       "      <td>705 , 180</td>\n",
       "    </tr>\n",
       "    <tr>\n",
       "      <th>Filtering [1, 2, 3, 4], r2&gt;0, RBF_SVR</th>\n",
       "      <td>0.089 +/- 0.026</td>\n",
       "      <td>-28.6 +/- 11.6</td>\n",
       "      <td>705 , 180</td>\n",
       "      <td>1.968 +/- 0.906</td>\n",
       "      <td>-30.0 +/- 7.8</td>\n",
       "      <td>705 , 180</td>\n",
       "      <td>0.065 +/- 0.033</td>\n",
       "      <td>-256.8 +/- 933.2</td>\n",
       "      <td>705 , 180</td>\n",
       "    </tr>\n",
       "    <tr>\n",
       "      <th>Filtering [1, 2, 3, 4], r2&gt;0, Linear_SVR</th>\n",
       "      <td>0.092 +/- 0.025</td>\n",
       "      <td>-33.2 +/- 16.3</td>\n",
       "      <td>705 , 180</td>\n",
       "      <td>2.147 +/- 1.018</td>\n",
       "      <td>-37.8 +/- 15.7</td>\n",
       "      <td>705 , 180</td>\n",
       "      <td>0.11 +/- 0.026</td>\n",
       "      <td>-233.8 +/- 1216.6</td>\n",
       "      <td>705 , 180</td>\n",
       "    </tr>\n",
       "    <tr>\n",
       "      <th>Filtering [1, 2, 3, 4], r2&gt;0.9, Poly_KR</th>\n",
       "      <td>0.12 +/- 0.029</td>\n",
       "      <td>-33.6 +/- 10.4</td>\n",
       "      <td>704 , 180</td>\n",
       "      <td>2.497 +/- 0.839</td>\n",
       "      <td>-41.0 +/- 11.6</td>\n",
       "      <td>704 , 180</td>\n",
       "      <td>0.068 +/- 0.033</td>\n",
       "      <td>-304.6 +/- 987.9</td>\n",
       "      <td>704 , 180</td>\n",
       "    </tr>\n",
       "    <tr>\n",
       "      <th>Filtering [1, 2, 3, 4], r2&gt;0.9, RBF_SVR</th>\n",
       "      <td>0.091 +/- 0.027</td>\n",
       "      <td>-30.8 +/- 12.1</td>\n",
       "      <td>704 , 180</td>\n",
       "      <td>2.014 +/- 0.989</td>\n",
       "      <td>-32.0 +/- 10.6</td>\n",
       "      <td>704 , 180</td>\n",
       "      <td>0.068 +/- 0.033</td>\n",
       "      <td>-275.5 +/- 944.6</td>\n",
       "      <td>704 , 180</td>\n",
       "    </tr>\n",
       "    <tr>\n",
       "      <th>Filtering [1, 2, 3, 4], r2&gt;0.9, Linear_SVR</th>\n",
       "      <td>0.096 +/- 0.03</td>\n",
       "      <td>-36.0 +/- 16.7</td>\n",
       "      <td>704 , 180</td>\n",
       "      <td>2.108 +/- 1.009</td>\n",
       "      <td>-39.8 +/- 19.7</td>\n",
       "      <td>704 , 180</td>\n",
       "      <td>0.109 +/- 0.031</td>\n",
       "      <td>-311.3 +/- 1296.6</td>\n",
       "      <td>704 , 180</td>\n",
       "    </tr>\n",
       "  </tbody>\n",
       "</table>\n",
       "</div>"
      ],
      "text/plain": [
       "                                                  mae_coef_1      mre_coef_1  \\\n",
       "Filtering [1, 2, 3], r2>None, Poly_KR        0.132 +/- 0.055  -37.5 +/- 23.6   \n",
       "Filtering [1, 2, 3], r2>None, RBF_SVR        0.086 +/- 0.018   -26.1 +/- 8.1   \n",
       "Filtering [1, 2, 3], r2>None, Linear_SVR     0.097 +/- 0.027  -33.0 +/- 16.2   \n",
       "Filtering [1, 2, 3], r2>0, Poly_KR           0.132 +/- 0.055  -37.5 +/- 23.6   \n",
       "Filtering [1, 2, 3], r2>0, RBF_SVR           0.086 +/- 0.018   -26.1 +/- 8.1   \n",
       "Filtering [1, 2, 3], r2>0, Linear_SVR        0.097 +/- 0.027  -33.0 +/- 16.2   \n",
       "Filtering [1, 2, 3], r2>0.9, Poly_KR         0.124 +/- 0.046  -31.6 +/- 12.9   \n",
       "Filtering [1, 2, 3], r2>0.9, RBF_SVR         0.089 +/- 0.026   -25.9 +/- 8.6   \n",
       "Filtering [1, 2, 3], r2>0.9, Linear_SVR      0.092 +/- 0.025  -28.9 +/- 10.6   \n",
       "Filtering [1, 2, 3, 4], r2>None, Poly_KR      0.122 +/- 0.03  -32.7 +/- 10.8   \n",
       "Filtering [1, 2, 3, 4], r2>None, RBF_SVR     0.089 +/- 0.026  -28.6 +/- 11.6   \n",
       "Filtering [1, 2, 3, 4], r2>None, Linear_SVR  0.092 +/- 0.025  -33.2 +/- 16.3   \n",
       "Filtering [1, 2, 3, 4], r2>0, Poly_KR         0.122 +/- 0.03  -32.7 +/- 10.8   \n",
       "Filtering [1, 2, 3, 4], r2>0, RBF_SVR        0.089 +/- 0.026  -28.6 +/- 11.6   \n",
       "Filtering [1, 2, 3, 4], r2>0, Linear_SVR     0.092 +/- 0.025  -33.2 +/- 16.3   \n",
       "Filtering [1, 2, 3, 4], r2>0.9, Poly_KR       0.12 +/- 0.029  -33.6 +/- 10.4   \n",
       "Filtering [1, 2, 3, 4], r2>0.9, RBF_SVR      0.091 +/- 0.027  -30.8 +/- 12.1   \n",
       "Filtering [1, 2, 3, 4], r2>0.9, Linear_SVR    0.096 +/- 0.03  -36.0 +/- 16.7   \n",
       "\n",
       "                                            train_test_shape       mae_coef_2  \\\n",
       "Filtering [1, 2, 3], r2>None, Poly_KR              783 , 202  2.982 +/- 1.513   \n",
       "Filtering [1, 2, 3], r2>None, RBF_SVR              783 , 202    2.44 +/- 1.26   \n",
       "Filtering [1, 2, 3], r2>None, Linear_SVR           783 , 202  2.376 +/- 1.227   \n",
       "Filtering [1, 2, 3], r2>0, Poly_KR                 783 , 202  2.982 +/- 1.513   \n",
       "Filtering [1, 2, 3], r2>0, RBF_SVR                 783 , 202    2.44 +/- 1.26   \n",
       "Filtering [1, 2, 3], r2>0, Linear_SVR              783 , 202  2.376 +/- 1.227   \n",
       "Filtering [1, 2, 3], r2>0.9, Poly_KR               736 , 188  2.715 +/- 1.184   \n",
       "Filtering [1, 2, 3], r2>0.9, RBF_SVR               736 , 188  2.367 +/- 1.228   \n",
       "Filtering [1, 2, 3], r2>0.9, Linear_SVR            736 , 188  2.447 +/- 1.336   \n",
       "Filtering [1, 2, 3, 4], r2>None, Poly_KR           705 , 180  2.456 +/- 0.779   \n",
       "Filtering [1, 2, 3, 4], r2>None, RBF_SVR           705 , 180  1.968 +/- 0.906   \n",
       "Filtering [1, 2, 3, 4], r2>None, Linear_SVR        705 , 180  2.147 +/- 1.018   \n",
       "Filtering [1, 2, 3, 4], r2>0, Poly_KR              705 , 180  2.456 +/- 0.779   \n",
       "Filtering [1, 2, 3, 4], r2>0, RBF_SVR              705 , 180  1.968 +/- 0.906   \n",
       "Filtering [1, 2, 3, 4], r2>0, Linear_SVR           705 , 180  2.147 +/- 1.018   \n",
       "Filtering [1, 2, 3, 4], r2>0.9, Poly_KR            704 , 180  2.497 +/- 0.839   \n",
       "Filtering [1, 2, 3, 4], r2>0.9, RBF_SVR            704 , 180  2.014 +/- 0.989   \n",
       "Filtering [1, 2, 3, 4], r2>0.9, Linear_SVR         704 , 180  2.108 +/- 1.009   \n",
       "\n",
       "                                                 mre_coef_2 train_test_shape  \\\n",
       "Filtering [1, 2, 3], r2>None, Poly_KR        -48.8 +/- 19.9        783 , 202   \n",
       "Filtering [1, 2, 3], r2>None, RBF_SVR        -40.6 +/- 18.4        783 , 202   \n",
       "Filtering [1, 2, 3], r2>None, Linear_SVR     -44.2 +/- 20.8        783 , 202   \n",
       "Filtering [1, 2, 3], r2>0, Poly_KR           -48.8 +/- 19.9        783 , 202   \n",
       "Filtering [1, 2, 3], r2>0, RBF_SVR           -40.6 +/- 18.4        783 , 202   \n",
       "Filtering [1, 2, 3], r2>0, Linear_SVR        -44.2 +/- 20.8        783 , 202   \n",
       "Filtering [1, 2, 3], r2>0.9, Poly_KR         -41.8 +/- 11.0        736 , 188   \n",
       "Filtering [1, 2, 3], r2>0.9, RBF_SVR         -36.7 +/- 12.9        736 , 188   \n",
       "Filtering [1, 2, 3], r2>0.9, Linear_SVR      -43.4 +/- 17.7        736 , 188   \n",
       "Filtering [1, 2, 3, 4], r2>None, Poly_KR      -38.4 +/- 9.1        705 , 180   \n",
       "Filtering [1, 2, 3, 4], r2>None, RBF_SVR      -30.0 +/- 7.8        705 , 180   \n",
       "Filtering [1, 2, 3, 4], r2>None, Linear_SVR  -37.8 +/- 15.7        705 , 180   \n",
       "Filtering [1, 2, 3, 4], r2>0, Poly_KR         -38.4 +/- 9.1        705 , 180   \n",
       "Filtering [1, 2, 3, 4], r2>0, RBF_SVR         -30.0 +/- 7.8        705 , 180   \n",
       "Filtering [1, 2, 3, 4], r2>0, Linear_SVR     -37.8 +/- 15.7        705 , 180   \n",
       "Filtering [1, 2, 3, 4], r2>0.9, Poly_KR      -41.0 +/- 11.6        704 , 180   \n",
       "Filtering [1, 2, 3, 4], r2>0.9, RBF_SVR      -32.0 +/- 10.6        704 , 180   \n",
       "Filtering [1, 2, 3, 4], r2>0.9, Linear_SVR   -39.8 +/- 19.7        704 , 180   \n",
       "\n",
       "                                                  mae_coef_3  \\\n",
       "Filtering [1, 2, 3], r2>None, Poly_KR        0.066 +/- 0.027   \n",
       "Filtering [1, 2, 3], r2>None, RBF_SVR        0.067 +/- 0.026   \n",
       "Filtering [1, 2, 3], r2>None, Linear_SVR     0.092 +/- 0.026   \n",
       "Filtering [1, 2, 3], r2>0, Poly_KR           0.066 +/- 0.027   \n",
       "Filtering [1, 2, 3], r2>0, RBF_SVR           0.067 +/- 0.026   \n",
       "Filtering [1, 2, 3], r2>0, Linear_SVR        0.092 +/- 0.026   \n",
       "Filtering [1, 2, 3], r2>0.9, Poly_KR          0.06 +/- 0.027   \n",
       "Filtering [1, 2, 3], r2>0.9, RBF_SVR          0.06 +/- 0.028   \n",
       "Filtering [1, 2, 3], r2>0.9, Linear_SVR      0.091 +/- 0.024   \n",
       "Filtering [1, 2, 3, 4], r2>None, Poly_KR     0.066 +/- 0.032   \n",
       "Filtering [1, 2, 3, 4], r2>None, RBF_SVR     0.065 +/- 0.033   \n",
       "Filtering [1, 2, 3, 4], r2>None, Linear_SVR   0.11 +/- 0.026   \n",
       "Filtering [1, 2, 3, 4], r2>0, Poly_KR        0.066 +/- 0.032   \n",
       "Filtering [1, 2, 3, 4], r2>0, RBF_SVR        0.065 +/- 0.033   \n",
       "Filtering [1, 2, 3, 4], r2>0, Linear_SVR      0.11 +/- 0.026   \n",
       "Filtering [1, 2, 3, 4], r2>0.9, Poly_KR      0.068 +/- 0.033   \n",
       "Filtering [1, 2, 3, 4], r2>0.9, RBF_SVR      0.068 +/- 0.033   \n",
       "Filtering [1, 2, 3, 4], r2>0.9, Linear_SVR   0.109 +/- 0.031   \n",
       "\n",
       "                                                    mre_coef_3  \\\n",
       "Filtering [1, 2, 3], r2>None, Poly_KR           87.0 +/- 556.6   \n",
       "Filtering [1, 2, 3], r2>None, RBF_SVR          176.5 +/- 630.3   \n",
       "Filtering [1, 2, 3], r2>None, Linear_SVR       62.6 +/- 1557.1   \n",
       "Filtering [1, 2, 3], r2>0, Poly_KR              87.0 +/- 556.6   \n",
       "Filtering [1, 2, 3], r2>0, RBF_SVR             176.5 +/- 630.3   \n",
       "Filtering [1, 2, 3], r2>0, Linear_SVR          62.6 +/- 1557.1   \n",
       "Filtering [1, 2, 3], r2>0.9, Poly_KR           -16.5 +/- 695.1   \n",
       "Filtering [1, 2, 3], r2>0.9, RBF_SVR           -21.7 +/- 615.7   \n",
       "Filtering [1, 2, 3], r2>0.9, Linear_SVR      -405.3 +/- 1476.1   \n",
       "Filtering [1, 2, 3, 4], r2>None, Poly_KR      -283.9 +/- 971.5   \n",
       "Filtering [1, 2, 3, 4], r2>None, RBF_SVR      -256.8 +/- 933.2   \n",
       "Filtering [1, 2, 3, 4], r2>None, Linear_SVR  -233.8 +/- 1216.6   \n",
       "Filtering [1, 2, 3, 4], r2>0, Poly_KR         -283.9 +/- 971.5   \n",
       "Filtering [1, 2, 3, 4], r2>0, RBF_SVR         -256.8 +/- 933.2   \n",
       "Filtering [1, 2, 3, 4], r2>0, Linear_SVR     -233.8 +/- 1216.6   \n",
       "Filtering [1, 2, 3, 4], r2>0.9, Poly_KR       -304.6 +/- 987.9   \n",
       "Filtering [1, 2, 3, 4], r2>0.9, RBF_SVR       -275.5 +/- 944.6   \n",
       "Filtering [1, 2, 3, 4], r2>0.9, Linear_SVR   -311.3 +/- 1296.6   \n",
       "\n",
       "                                            train_test_shape  \n",
       "Filtering [1, 2, 3], r2>None, Poly_KR              783 , 202  \n",
       "Filtering [1, 2, 3], r2>None, RBF_SVR              783 , 202  \n",
       "Filtering [1, 2, 3], r2>None, Linear_SVR           783 , 202  \n",
       "Filtering [1, 2, 3], r2>0, Poly_KR                 783 , 202  \n",
       "Filtering [1, 2, 3], r2>0, RBF_SVR                 783 , 202  \n",
       "Filtering [1, 2, 3], r2>0, Linear_SVR              783 , 202  \n",
       "Filtering [1, 2, 3], r2>0.9, Poly_KR               736 , 188  \n",
       "Filtering [1, 2, 3], r2>0.9, RBF_SVR               736 , 188  \n",
       "Filtering [1, 2, 3], r2>0.9, Linear_SVR            736 , 188  \n",
       "Filtering [1, 2, 3, 4], r2>None, Poly_KR           705 , 180  \n",
       "Filtering [1, 2, 3, 4], r2>None, RBF_SVR           705 , 180  \n",
       "Filtering [1, 2, 3, 4], r2>None, Linear_SVR        705 , 180  \n",
       "Filtering [1, 2, 3, 4], r2>0, Poly_KR              705 , 180  \n",
       "Filtering [1, 2, 3, 4], r2>0, RBF_SVR              705 , 180  \n",
       "Filtering [1, 2, 3, 4], r2>0, Linear_SVR           705 , 180  \n",
       "Filtering [1, 2, 3, 4], r2>0.9, Poly_KR            704 , 180  \n",
       "Filtering [1, 2, 3, 4], r2>0.9, RBF_SVR            704 , 180  \n",
       "Filtering [1, 2, 3, 4], r2>0.9, Linear_SVR         704 , 180  "
      ]
     },
     "execution_count": 11,
     "metadata": {},
     "output_type": "execute_result"
    }
   ],
   "source": [
    "fitting_function = \"logLogistR\"\n",
    "df3_results = results_1[fitting_function]\n",
    "df3_results = pd.concat([results_1[fitting_function],results_2[fitting_function],\n",
    "                        results_3[fitting_function]],axis=1)\n",
    "df3_results"
   ]
  },
  {
   "cell_type": "markdown",
   "metadata": {},
   "source": [
    "## Reconstruction with Algorithm 1 "
   ]
  },
  {
   "cell_type": "code",
   "execution_count": 12,
   "metadata": {},
   "outputs": [
    {
     "name": "stdout",
     "output_type": "stream",
     "text": [
      "Filtering [1,2,3,4], no restriction r2, sigmoid_4_param / previous parameters\n"
     ]
    },
    {
     "name": "stderr",
     "output_type": "stream",
     "text": [
      "100%|██████████| 2600/2600 [00:06<00:00, 414.30it/s]\n"
     ]
    },
    {
     "name": "stdout",
     "output_type": "stream",
     "text": [
      "Coefficient 1\n",
      "\n",
      "MAE: 0.456 +/- 0.811\n",
      "MRE: 25.0 +/- 10.1\n",
      "\n",
      "(703, 1370) (180, 1370)\n",
      "Coefficient 2\n",
      "\n",
      "MAE: 0.438 +/- 0.774\n",
      "MRE: 3.6 +/- 11.8\n",
      "\n",
      "(703, 1370) (180, 1371)\n",
      "Coefficient 3\n",
      "\n",
      "MAE: 5.68 +/- 2.56\n",
      "MRE: -36.1 +/- 9.9\n",
      "\n",
      "(703, 1370) (180, 1372)\n",
      "Coefficient 4\n",
      "\n",
      "MAE: 0.095 +/- 0.058\n",
      "MRE: 69.6 +/- 28.6\n",
      "\n",
      "(703, 1370) (180, 1373)\n"
     ]
    }
   ],
   "source": [
    "ml_scenario = \"Filtering [1,2,3,4], no restriction r2, sigmoid_4_param / previous parameters\"\n",
    "print(ml_scenario)\n",
    "\n",
    "df= DataPreprocessing(folder_with_original_data= _FOLDER, folder_with_results =_FOLDER_2, \n",
    "                      filtering_scenario = [1,2,3,4],\n",
    "                      first_points_lower_limit = 0.8, last_points_upper_limit = 0.4,\n",
    "                      middle_points_limit =-0.1,\n",
    "                     fitting_function = \"sigmoid_4_param\", \n",
    "                      keep_r2_column = True,\n",
    "                     print_progress_info = False)\n",
    "\n",
    "drug_ids_limit, train_df_limit, test_df_limit = TrainTestSplit(df, min_number_drug_profiles =50, train_ratio= 0.8, \n",
    "                                                               r2_restriction = 0, print_progress_info = False)\n",
    "\n",
    "print(\"Coefficient 1\")\n",
    "coef=1\n",
    "hyperparameters = pd.read_csv(_FOLDER_2+\"hyperparameters_coef\"+str(coef)+\"_alg1.csv\").set_index(\"DRUG_ID\")\n",
    "kernel = \"polynomial\"\n",
    "\n",
    "mae, mre, y_pred1, train_shape, test_shape = TrainTest_KR_Alg1(train_df_limit, test_df_limit, target = \"param_1\", \n",
    "                      drug_ids_list =drug_ids_limit, X_columns = X_columns, \n",
    "                      kernel = kernel, hyperparameters= hyperparameters, print_drug_name = False)\n",
    "\n",
    "                      \n",
    "test_df_limit[\"pred_param_1\"] = y_pred1\n",
    "\n",
    "print(\"Coefficient 2\")\n",
    "coef=2\n",
    "hyperparameters = pd.read_csv(_FOLDER_2+\"hyperparameters_coef\"+str(coef)+\"_alg1.csv\").set_index(\"DRUG_ID\")\n",
    "\n",
    "kernel = \"rbf\"\n",
    "\n",
    "mae, mre, y_pred2, train_shape, test_shape = TrainTest_SVR_Alg1(train_df_limit, test_df_limit, target = \"param_2\", \n",
    "                      drug_ids_list =drug_ids_limit, X_columns = X_columns, \n",
    "                      kernel = kernel, hyperparameters= hyperparameters, print_drug_name = False)\n",
    "                   \n",
    "test_df_limit[\"pred_param_2\"] = y_pred2\n",
    "\n",
    "print(\"Coefficient 3\")\n",
    "coef=3\n",
    "hyperparameters = pd.read_csv(_FOLDER_2+\"hyperparameters_coef\"+str(coef)+\"_alg1.csv\").set_index(\"DRUG_ID\")\n",
    "\n",
    "kernel = \"linear\"\n",
    "\n",
    "mae, mre, y_pred3, train_shape, test_shape = TrainTest_SVR_Alg1(train_df_limit, test_df_limit, target = \"param_3\", \n",
    "                      drug_ids_list =drug_ids_limit, X_columns = X_columns, \n",
    "                      kernel = kernel, hyperparameters= hyperparameters, print_drug_name = False)\n",
    "                   \n",
    "test_df_limit[\"pred_param_3\"] = y_pred3\n",
    "\n",
    "print(\"Coefficient 4\")\n",
    "coef=4\n",
    "hyperparameters = pd.read_csv(_FOLDER_2+\"hyperparameters_coef\"+str(coef)+\"_alg1.csv\").set_index(\"DRUG_ID\")\n",
    "kernel = \"polynomial\"\n",
    "\n",
    "mae, mre, y_pred4, train_shape, test_shape = TrainTest_KR_Alg1(train_df_limit, test_df_limit, target = \"param_4\", \n",
    "                      drug_ids_list =drug_ids_limit, X_columns = X_columns, \n",
    "                      kernel = kernel, hyperparameters= hyperparameters, print_drug_name = False)\n",
    "                      \n",
    "test_df_limit[\"pred_param_4\"] = y_pred4\n",
    "\n",
    "conc_columns= [\"fd_num_\"+str(i) for i in range(10)]\n",
    "response_norm = ['norm_cells_'+str(i) for i in range(10)]\n",
    "\n",
    "r2_fitting = r2_score_fitting(df=test_df_limit, x_columns= conc_columns,fitting_function = \"sigmoid_4_param\",\n",
    "                            y_columns=response_norm, param_columns = [\"pred_param_\"+str(i)for i in range(1,5)])\n",
    "mae_reconstruct = mae_score_reconstruct(df=test_df_limit, x_columns= conc_columns, fitting_function = \"sigmoid_4_param\",\n",
    "                                        y_columns=response_norm, param_columns = [\"pred_param_\"+str(i)for i in range(1,5)])\n",
    "        "
   ]
  },
  {
   "cell_type": "code",
   "execution_count": 13,
   "metadata": {},
   "outputs": [
    {
     "name": "stdout",
     "output_type": "stream",
     "text": [
      "Filtering [1,2,3], no restriction r2, sigmoid_4_param / previous parameters\n"
     ]
    },
    {
     "name": "stderr",
     "output_type": "stream",
     "text": [
      "100%|██████████| 2776/2776 [00:08<00:00, 323.00it/s]\n"
     ]
    },
    {
     "name": "stdout",
     "output_type": "stream",
     "text": [
      "Coefficient 1\n",
      "\n",
      "MAE: 0.47 +/- 0.847\n",
      "MRE: 25.3 +/- 8.8\n",
      "\n",
      "(781, 1370) (202, 1370)\n",
      "Coefficient 2\n",
      "\n",
      "MAE: 0.47 +/- 0.946\n",
      "MRE: 8.7 +/- 20.6\n",
      "\n",
      "(781, 1370) (202, 1371)\n",
      "Coefficient 3\n",
      "\n",
      "MAE: 8.698 +/- 5.683\n",
      "MRE: -42.3 +/- 13.0\n",
      "\n",
      "(781, 1370) (202, 1372)\n",
      "Coefficient 4\n",
      "\n",
      "MAE: 0.148 +/- 0.138\n",
      "MRE: 89.5 +/- 74.7\n",
      "\n",
      "(781, 1370) (202, 1373)\n"
     ]
    }
   ],
   "source": [
    "ml_scenario2 = \"Filtering [1,2,3], no restriction r2, sigmoid_4_param / previous parameters\"\n",
    "print(ml_scenario2)\n",
    "\n",
    "df= DataPreprocessing(folder_with_original_data= _FOLDER, folder_with_results =_FOLDER_2, \n",
    "                      filtering_scenario = [1,2,3],\n",
    "                      first_points_lower_limit = 0.8, last_points_upper_limit = 0.4,\n",
    "                      middle_points_limit =-0.1,\n",
    "                     fitting_function = \"sigmoid_4_param\", \n",
    "                      keep_r2_column = True,\n",
    "                     print_progress_info = False)\n",
    "\n",
    "drug_ids_limit, train_df_limit, test_df_limit = TrainTestSplit(df, min_number_drug_profiles =50, train_ratio= 0.8, \n",
    "                                                               r2_restriction = 0, print_progress_info = False)\n",
    "\n",
    "print(\"Coefficient 1\")\n",
    "coef=1\n",
    "hyperparameters = pd.read_csv(_FOLDER_2+\"hyperparameters_coef\"+str(coef)+\"_alg1.csv\").set_index(\"DRUG_ID\")\n",
    "kernel = \"polynomial\"\n",
    "\n",
    "mae, mre, y_pred1, train_shape, test_shape = TrainTest_KR_Alg1(train_df_limit, test_df_limit, target = \"param_1\", \n",
    "                      drug_ids_list =drug_ids_limit, X_columns = X_columns, \n",
    "                      kernel = kernel, hyperparameters= hyperparameters, print_drug_name = False)\n",
    "\n",
    "                      \n",
    "test_df_limit[\"pred_param_1\"] = y_pred1\n",
    "\n",
    "print(\"Coefficient 2\")\n",
    "coef=2\n",
    "hyperparameters = pd.read_csv(_FOLDER_2+\"hyperparameters_coef\"+str(coef)+\"_alg1.csv\").set_index(\"DRUG_ID\")\n",
    "\n",
    "kernel = \"rbf\"\n",
    "\n",
    "mae, mre, y_pred2, train_shape, test_shape = TrainTest_SVR_Alg1(train_df_limit, test_df_limit, target = \"param_2\", \n",
    "                      drug_ids_list =drug_ids_limit, X_columns = X_columns, \n",
    "                      kernel = kernel, hyperparameters= hyperparameters, print_drug_name = False)\n",
    "                   \n",
    "test_df_limit[\"pred_param_2\"] = y_pred2\n",
    "\n",
    "print(\"Coefficient 3\")\n",
    "coef=3\n",
    "hyperparameters = pd.read_csv(_FOLDER_2+\"hyperparameters_coef\"+str(coef)+\"_alg1.csv\").set_index(\"DRUG_ID\")\n",
    "\n",
    "kernel = \"linear\"\n",
    "\n",
    "mae, mre, y_pred3, train_shape, test_shape = TrainTest_SVR_Alg1(train_df_limit, test_df_limit, target = \"param_3\", \n",
    "                      drug_ids_list =drug_ids_limit, X_columns = X_columns, \n",
    "                      kernel = kernel, hyperparameters= hyperparameters, print_drug_name = False)\n",
    "                   \n",
    "test_df_limit[\"pred_param_3\"] = y_pred3\n",
    "\n",
    "print(\"Coefficient 4\")\n",
    "coef=4\n",
    "hyperparameters = pd.read_csv(_FOLDER_2+\"hyperparameters_coef\"+str(coef)+\"_alg1.csv\").set_index(\"DRUG_ID\")\n",
    "kernel = \"polynomial\"\n",
    "\n",
    "mae, mre, y_pred4, train_shape, test_shape = TrainTest_KR_Alg1(train_df_limit, test_df_limit, target = \"param_4\", \n",
    "                      drug_ids_list =drug_ids_limit, X_columns = X_columns, \n",
    "                      kernel = kernel, hyperparameters= hyperparameters, print_drug_name = False)\n",
    "                      \n",
    "test_df_limit[\"pred_param_4\"] = y_pred4\n",
    "\n",
    "conc_columns= [\"fd_num_\"+str(i) for i in range(10)]\n",
    "response_norm = ['norm_cells_'+str(i) for i in range(10)]\n",
    "\n",
    "r2_fitting2 = r2_score_fitting(df=test_df_limit, x_columns= conc_columns,fitting_function = \"sigmoid_4_param\",\n",
    "                            y_columns=response_norm, param_columns = [\"pred_param_\"+str(i)for i in range(1,5)])\n",
    "mae_reconstruct2 = mae_score_reconstruct(df=test_df_limit, x_columns= conc_columns, fitting_function = \"sigmoid_4_param\",\n",
    "                                        y_columns=response_norm, param_columns = [\"pred_param_\"+str(i)for i in range(1,5)])"
   ]
  },
  {
   "cell_type": "code",
   "execution_count": 14,
   "metadata": {},
   "outputs": [
    {
     "name": "stdout",
     "output_type": "stream",
     "text": [
      "-------------------------------------------------------------------\n",
      "Filtering [1,2,3,4], no restriction r2, sigmoid_4_param / previous parameters\n",
      "-------------------------------------------------------------------\n",
      "R2 of fitting of reconstructed curves: 0.597 +/- 0.655\n",
      "MAE of reconstructed curvess: 0.142 +/- 0.092\n",
      "\n",
      "-------------------------------------------------------------------\n",
      "Filtering [1,2,3], no restriction r2, sigmoid_4_param / previous parameters\n",
      "-------------------------------------------------------------------\n",
      "R2 of fitting of reconstructed curves: 0.650 +/- 0.422\n",
      "MAE of reconstructed curvess: 0.138 +/- 0.077\n"
     ]
    }
   ],
   "source": [
    "print(\"-------------------------------------------------------------------\")\n",
    "print(ml_scenario)\n",
    "print(\"-------------------------------------------------------------------\")\n",
    "print(\"R2 of fitting of reconstructed curves: %0.3f +/- %0.3f\" % (r2_fitting.mean(), r2_fitting.std()))\n",
    "print(\"MAE of reconstructed curvess: %0.3f +/- %0.3f\" % (mae_reconstruct.mean(), mae_reconstruct.std()))                                                 \n",
    "print(\"\\n-------------------------------------------------------------------\")\n",
    "print(ml_scenario2)\n",
    "print(\"-------------------------------------------------------------------\")\n",
    "print(\"R2 of fitting of reconstructed curves: %0.3f +/- %0.3f\" % (r2_fitting2.mean(), r2_fitting2.std()))\n",
    "print(\"MAE of reconstructed curvess: %0.3f +/- %0.3f\" % (mae_reconstruct2.mean(), mae_reconstruct2.std()))                                                            "
   ]
  },
  {
   "cell_type": "markdown",
   "metadata": {},
   "source": [
    "### Conclusion: 4 stage filtration is less efficient than 3 stage filtration!!!!"
   ]
  },
  {
   "cell_type": "code",
   "execution_count": null,
   "metadata": {},
   "outputs": [],
   "source": []
  },
  {
   "cell_type": "code",
   "execution_count": null,
   "metadata": {},
   "outputs": [],
   "source": []
  },
  {
   "cell_type": "code",
   "execution_count": null,
   "metadata": {},
   "outputs": [],
   "source": []
  },
  {
   "cell_type": "code",
   "execution_count": 15,
   "metadata": {},
   "outputs": [],
   "source": [
    "#### Draft Results"
   ]
  },
  {
   "cell_type": "code",
   "execution_count": 16,
   "metadata": {},
   "outputs": [
    {
     "ename": "SyntaxError",
     "evalue": "invalid syntax (<ipython-input-16-9890519a2b52>, line 8)",
     "output_type": "error",
     "traceback": [
      "\u001b[0;36m  File \u001b[0;32m\"<ipython-input-16-9890519a2b52>\"\u001b[0;36m, line \u001b[0;32m8\u001b[0m\n\u001b[0;31m    for model in [\"Poly_KR\",\"RBF_SVR\", \"Linear_SVR\",\"Poly_KR\"]\u001b[0m\n\u001b[0m                                                              ^\u001b[0m\n\u001b[0;31mSyntaxError\u001b[0m\u001b[0;31m:\u001b[0m invalid syntax\n"
     ]
    }
   ],
   "source": [
    "# Coefficient 1\n",
    "coef =1 \n",
    "hyperparameters = pd.read_csv(_FOLDER_2+\"hyperparameters_coef\"+str(coef)+\"_alg1.csv\").set_index(\"DRUG_ID\")\n",
    "\n",
    "tested_scenarios = {}\n",
    "\n",
    "for fitting_function in [\"sigmoid_4_param\", \"logistic4\", \"logLogistR\"]:\n",
    "    for model in [\"Poly_KR\",\"RBF_SVR\", \"Linear_SVR\",\"Poly_KR\"]\n",
    "        for filtering in [[1,2,3],[1,2,3,4]]:\n",
    "            for r in [None, 0, 0.9]:\n",
    "                scenario_name = \"Filtering \" + str(filtering)+\", r2>\"+ str(r)+ \", \"  +fitting_function+model\n",
    "                tested_scenarios[scenario_name]={}\n",
    "                tested_scenarios[scenario_name][\"filtering\"] = filtering\n",
    "                tested_scenarios[scenario_name][\"fitting_function\"] = fitting_function\n",
    "                tested_scenarios[scenario_name][\"r2_restriction\"] = r\n",
    "\n",
    "dict_results = {}\n",
    "scenario_short = [[filtering] + [\"r2>\"+ str(r)] for filtering in [[1,2,3],[1,2,3,4]] for r in [None, 0, 0.9]]\n",
    "for fitting_function in [\"sigmoid_4_param\", \"logistic4\", \"logLogistR\"]:\n",
    "    df_results = pd.DataFrame(columns = [x+str(i) for i in range(1,5) for x in [\"mae_coef_\", \"mre_coef_\"]]\n",
    "                              +[\"train_test_shape\"], \n",
    "                              index= np.array(scenario_short))\n",
    "    dict_results[fitting_function]=df_results\n",
    "\n",
    "         \n",
    "print(\"Polynomial KR\")\n",
    "df_results = CompareTrainingScenarios(target_coef =1, tested_scenarios = tested_scenarios, kernel=\"polynomial\", \n",
    "                                      hyperparameters = hyperparameters,  X_columns = X_columns,\n",
    "                                     folder_with_original_data =_FOLDER, folder_with_results=_FOLDER_2,\n",
    "                                     model_type= \"KR_alg1\", print_progress_info = False)\n",
    "\n",
    "# Models as for Coefficient 2 \n",
    "print(\"RBF SVR\")\n",
    "coef= 2\n",
    "hyperparameters = pd.read_csv(_FOLDER_2+\"hyperparameters_coef\"+str(coef)+\"_alg1.csv\").set_index(\"DRUG_ID\")\n",
    "\n",
    "df_results2 = CompareTrainingScenarios(target_coef =1, tested_scenarios = tested_scenarios, kernel=\"rbf\", \n",
    "                                      hyperparameters = hyperparameters,  X_columns = X_columns,\n",
    "                                     folder_with_original_data =_FOLDER, folder_with_results=_FOLDER_2,\n",
    "                                     model_type= \"SVR_alg1\", print_progress_info = False)\n",
    "\n",
    "\n",
    "# Models as for Coefficient 3 \n",
    "print(\"Linear KR\")\n",
    "coef =3 \n",
    "hyperparameters = pd.read_csv(_FOLDER_2+\"hyperparameters_coef\"+str(coef)+\"_alg1.csv\").set_index(\"DRUG_ID\")\n",
    "            \n",
    "df_results3 = CompareTrainingScenarios(target_coef =1, tested_scenarios = tested_scenarios, kernel=\"linear\", \n",
    "                                      hyperparameters = hyperparameters,  X_columns = X_columns,\n",
    "                                     folder_with_original_data =_FOLDER, folder_with_results=_FOLDER_2,\n",
    "                                     model_type= \"SVR_alg1\", print_progress_info = False)\n",
    "\n",
    "# Models as for Coefficient 4 \n",
    "coef =4 \n",
    "hyperparameters = pd.read_csv(_FOLDER_2+\"hyperparameters_coef\"+str(coef)+\"_alg1.csv\").set_index(\"DRUG_ID\")\n",
    "\n",
    "df_results4 = CompareTrainingScenarios(target_coef =1, tested_scenarios = tested_scenarios, kernel=\"rbf\", \n",
    "                                      hyperparameters = hyperparameters,  X_columns = X_columns,\n",
    "                                     folder_with_original_data =_FOLDER, folder_with_results=_FOLDER_2,\n",
    "                                     model_type= \"KR_alg1\", print_progress_info = False)\n",
    "\n",
    "print(\"Results for Coefficient in Algoritm_1 (drug-by-drug) for polynomial KR\")\n",
    "display(df_results)\n",
    "\n",
    "print(\"Results for Coefficient 1 in Algoritm_1 (drug-by-drug) in RBF SVR\")\n",
    "display(df_results2)\n",
    "\n",
    "print(\"Results for Coefficient 1 in Algoritm_1 (drug-by-drug) in Linear SVR\")\n",
    "display(df_results3)\n",
    "\n",
    "print(\"Results for Coefficient 1 in Algoritm_1 (drug-by-drug) in RBF KR\")\n",
    "display(df_results4)"
   ]
  },
  {
   "cell_type": "markdown",
   "metadata": {},
   "source": [
    "### Coefficient 1\n",
    "#### The best variant - Filtering [1, 2, 3, 4], r2>None, logistic4 is RBF SVR (as for coef2):\n",
    "mae = 0.014 +/- 0.003  <br>\n",
    "mre = 1.5 +/- 0.3 <br>\n",
    "train_test = 705 , 180\n",
    "\n",
    "#### Previous best results with sigmoid_4_param: Filtering [1, 2, 3], r2>0.9, sigmoid_4_param\t\n",
    "mae = 0.127 +/- 0.058\t\n",
    "mre = 29.6 +/- 17.6\t\n",
    "train_test = 722 , 184"
   ]
  },
  {
   "cell_type": "code",
   "execution_count": null,
   "metadata": {},
   "outputs": [],
   "source": [
    "# Coefficient 2\n",
    "coef =1 \n",
    "hyperparameters = pd.read_csv(_FOLDER_2+\"hyperparameters_coef\"+str(coef)+\"_alg1.csv\").set_index(\"DRUG_ID\")\n",
    "\n",
    "tested_scenarios = {}\n",
    "for fitting_function in [\"sigmoid_4_param\", \"logistic4\", \"logLogistR\"]:\n",
    "    for filtering in [[1,2,3],[1,2,3,4]]:\n",
    "        for r in [None, 0, 0.9]:\n",
    "            scenario_name = \"Filtering \" + str(filtering)+\", r2>\"+ str(r)+ \", \"  +fitting_function\n",
    "            tested_scenarios[scenario_name]={}\n",
    "            tested_scenarios[scenario_name][\"filtering\"] = filtering\n",
    "            tested_scenarios[scenario_name][\"fitting_function\"] = fitting_function\n",
    "            tested_scenarios[scenario_name][\"r2_restriction\"] = r\n",
    "\n",
    "print(\"Polynomial KR\")\n",
    "# Models as for Coefficient 1\n",
    "df2_results = CompareTrainingScenarios(target_coef =2, tested_scenarios = tested_scenarios, kernel=\"polynomial\", \n",
    "                                      hyperparameters = hyperparameters,  X_columns = X_columns,\n",
    "                                     folder_with_original_data =_FOLDER, folder_with_results=_FOLDER_2,\n",
    "                                     model_type= \"KR_alg1\", print_progress_info = False)\n",
    "\n",
    "# Models as for Coefficient 2 \n",
    "print(\"RBF SVR\")\n",
    "coef= 2\n",
    "hyperparameters = pd.read_csv(_FOLDER_2+\"hyperparameters_coef\"+str(coef)+\"_alg1.csv\").set_index(\"DRUG_ID\")\n",
    "\n",
    "df2_results2 = CompareTrainingScenarios(target_coef =2, tested_scenarios = tested_scenarios, kernel=\"rbf\", \n",
    "                                      hyperparameters = hyperparameters,  X_columns = X_columns,\n",
    "                                     folder_with_original_data =_FOLDER, folder_with_results=_FOLDER_2,\n",
    "                                     model_type= \"SVR_alg1\", print_progress_info = False)\n",
    "\n",
    "\n",
    "# Models as for Coefficient 3 \n",
    "print(\"Linear KR\")\n",
    "coef =3 \n",
    "hyperparameters = pd.read_csv(_FOLDER_2+\"hyperparameters_coef\"+str(coef)+\"_alg1.csv\").set_index(\"DRUG_ID\")\n",
    "            \n",
    "df2_results3 = CompareTrainingScenarios(target_coef =2, tested_scenarios = tested_scenarios, kernel=\"linear\", \n",
    "                                      hyperparameters = hyperparameters,  X_columns = X_columns,\n",
    "                                     folder_with_original_data =_FOLDER, folder_with_results=_FOLDER_2,\n",
    "                                     model_type= \"SVR_alg1\", print_progress_info = False)\n",
    "\n",
    "# Models as for Coefficient 4 \n",
    "coef =4 \n",
    "hyperparameters = pd.read_csv(_FOLDER_2+\"hyperparameters_coef\"+str(coef)+\"_alg1.csv\").set_index(\"DRUG_ID\")\n",
    "\n",
    "df2_results4 = CompareTrainingScenarios(target_coef =2, tested_scenarios = tested_scenarios, kernel=\"rbf\", \n",
    "                                      hyperparameters = hyperparameters,  X_columns = X_columns,\n",
    "                                     folder_with_original_data =_FOLDER, folder_with_results=_FOLDER_2,\n",
    "                                     model_type= \"KR_alg1\", print_progress_info = False)\n",
    "\n",
    "print(\"Results for Coefficient 2 in Algoritm_1 (drug-by-drug) for polynomial KR\")\n",
    "display(df2_results)\n",
    "\n",
    "print(\"Results for Coefficient 2 in Algoritm_1 (drug-by-drug) in RBF SVR\")\n",
    "display(df2_results2)\n",
    "\n",
    "print(\"Results for Coefficient 2 in Algoritm_1 (drug-by-drug) in Linear SVR\")\n",
    "display(df2_results3)\n",
    "\n",
    "print(\"Results for Coefficient 2in Algoritm_1 (drug-by-drug) in RBF KR\")\n",
    "display(df2_results4)"
   ]
  },
  {
   "cell_type": "code",
   "execution_count": null,
   "metadata": {},
   "outputs": [],
   "source": [
    "print(\"Results for Coefficient 2 in Algoritm_1 (drug-by-drug) for polynomial KR\")\n",
    "display(df2_results)\n",
    "\n",
    "print(\"Results for Coefficient 2  in Algoritm_1 (drug-by-drug) in RBF SVR\")\n",
    "display(df2_results2)\n",
    "\n",
    "print(\"Results for Coefficient 2 in Algoritm_1 (drug-by-drug) in Linear SVR\")\n",
    "display(df2_results3)\n",
    "\n",
    "print(\"Results for Coefficient 2 in Algoritm_1 (drug-by-drug) in RBF KR\")\n",
    "display(df2_results4)"
   ]
  },
  {
   "cell_type": "markdown",
   "metadata": {},
   "source": [
    "### Coefficient 2\n",
    "#### The best RBF SVR - Filtering [1, 2, 3, 4], r2>0, logistic4\t\n",
    "\n",
    "mae = 0.099 +/- 0.038 <br>\n",
    "mre = 23.7 +/- 8.2 <br>\n",
    "train_test = 705 , 180 <br>"
   ]
  },
  {
   "cell_type": "code",
   "execution_count": null,
   "metadata": {},
   "outputs": [],
   "source": [
    "# Coefficient 3\n",
    "coef =1 \n",
    "hyperparameters = pd.read_csv(_FOLDER_2+\"hyperparameters_coef\"+str(coef)+\"_alg1.csv\").set_index(\"DRUG_ID\")\n",
    "\n",
    "print(\"Polynomial KR\")\n",
    "# Models as for Coefficient 1\n",
    "df3_results = CompareTrainingScenarios(target_coef =3, tested_scenarios = tested_scenarios, kernel=\"polynomial\", \n",
    "                                      hyperparameters = hyperparameters,  X_columns = X_columns,\n",
    "                                     folder_with_original_data =_FOLDER, folder_with_results=_FOLDER_2,\n",
    "                                     model_type= \"KR_alg1\", print_progress_info = False)\n",
    "\n",
    "# Models as for Coefficient 2 \n",
    "print(\"RBF SVR\")\n",
    "coef= 2\n",
    "hyperparameters = pd.read_csv(_FOLDER_2+\"hyperparameters_coef\"+str(coef)+\"_alg1.csv\").set_index(\"DRUG_ID\")\n",
    "\n",
    "df3_results2 = CompareTrainingScenarios(target_coef =3, tested_scenarios = tested_scenarios, kernel=\"rbf\", \n",
    "                                      hyperparameters = hyperparameters,  X_columns = X_columns,\n",
    "                                     folder_with_original_data =_FOLDER, folder_with_results=_FOLDER_2,\n",
    "                                     model_type= \"SVR_alg1\", print_progress_info = False)\n",
    "\n",
    "\n",
    "# Models as for Coefficient 3 \n",
    "print(\"Linear KR\")\n",
    "coef =3 \n",
    "hyperparameters = pd.read_csv(_FOLDER_2+\"hyperparameters_coef\"+str(coef)+\"_alg1.csv\").set_index(\"DRUG_ID\")\n",
    "            \n",
    "df3_results3 = CompareTrainingScenarios(target_coef =3, tested_scenarios = tested_scenarios, kernel=\"linear\", \n",
    "                                      hyperparameters = hyperparameters,  X_columns = X_columns,\n",
    "                                     folder_with_original_data =_FOLDER, folder_with_results=_FOLDER_2,\n",
    "                                     model_type= \"SVR_alg1\", print_progress_info = False)\n",
    "\n",
    "# Models as for Coefficient 4 \n",
    "coef =4 \n",
    "hyperparameters = pd.read_csv(_FOLDER_2+\"hyperparameters_coef\"+str(coef)+\"_alg1.csv\").set_index(\"DRUG_ID\")\n",
    "\n",
    "df3_results4 = CompareTrainingScenarios(target_coef =3, tested_scenarios = tested_scenarios, kernel=\"rbf\", \n",
    "                                      hyperparameters = hyperparameters,  X_columns = X_columns,\n",
    "                                     folder_with_original_data =_FOLDER, folder_with_results=_FOLDER_2,\n",
    "                                     model_type= \"KR_alg1\", print_progress_info = False)\n",
    "\n",
    "print(\"Results for Coefficient 3in Algoritm_1 (drug-by-drug) for polynomial KR\")\n",
    "display(df3_results)\n",
    "\n",
    "print(\"Results for Coefficient 3 in Algoritm_1 (drug-by-drug) in RBF SVR\")\n",
    "display(df3_results2)\n",
    "\n",
    "print(\"Results for Coefficient 3 in Algoritm_1 (drug-by-drug) in Linear SVR\")\n",
    "display(df3_results3)\n",
    "\n",
    "print(\"Results for Coefficient 3 in Algoritm_1 (drug-by-drug) in RBF KR\")\n",
    "display(df3_results4)"
   ]
  },
  {
   "cell_type": "code",
   "execution_count": null,
   "metadata": {},
   "outputs": [],
   "source": [
    "print(\"Results for Coefficient 3 in Algoritm_1 (drug-by-drug) for polynomial KR\")\n",
    "display(df3_results)\n",
    "\n",
    "print(\"Results for Coefficient 3 in Algoritm_1 (drug-by-drug) in RBF SVR\")\n",
    "display(df3_results2)\n",
    "\n",
    "print(\"Results for Coefficient 3 in Algoritm_1 (drug-by-drug) in Linear SVR\")\n",
    "display(df3_results3)\n",
    "\n",
    "print(\"Results for Coefficient 3 in Algoritm_1 (drug-by-drug) in RBF KR\")\n",
    "display(df3_results4)"
   ]
  },
  {
   "cell_type": "code",
   "execution_count": null,
   "metadata": {},
   "outputs": [],
   "source": [
    "# Coefficient 4 - not relevant for logLogistR. There are ony 3 parameters there.\n",
    "coef =1 \n",
    "hyperparameters = pd.read_csv(_FOLDER_2+\"hyperparameters_coef\"+str(coef)+\"_alg1.csv\").set_index(\"DRUG_ID\")\n",
    "\n",
    "tested_scenarios = {}\n",
    "for fitting_function in [\"sigmoid_4_param\", \"logistic4\"]:\n",
    "    for filtering in [[1,2,3],[1,2,3,4]]:\n",
    "        for r in [None, 0, 0.9]:\n",
    "            scenario_name = \"Filtering \" + str(filtering)+\", r2>\"+ str(r)+ \", \"  +fitting_function\n",
    "            tested_scenarios[scenario_name]={}\n",
    "            tested_scenarios[scenario_name][\"filtering\"] = filtering\n",
    "            tested_scenarios[scenario_name][\"fitting_function\"] = fitting_function\n",
    "            tested_scenarios[scenario_name][\"r2_restriction\"] = r\n",
    "\n",
    "print(\"Polynomial KR\")\n",
    "# Models as for Coefficient 1\n",
    "df4_results = CompareTrainingScenarios(target_coef =4, tested_scenarios = tested_scenarios, kernel=\"polynomial\", \n",
    "                                      hyperparameters = hyperparameters,  X_columns = X_columns,\n",
    "                                     folder_with_original_data =_FOLDER, folder_with_results=_FOLDER_2,\n",
    "                                     model_type= \"KR_alg1\", print_progress_info = False)\n",
    "\n",
    "# Models as for Coefficient 2 \n",
    "print(\"RBF SVR\")\n",
    "coef= 2\n",
    "hyperparameters = pd.read_csv(_FOLDER_2+\"hyperparameters_coef\"+str(coef)+\"_alg1.csv\").set_index(\"DRUG_ID\")\n",
    "\n",
    "df4_results2 = CompareTrainingScenarios(target_coef =4, tested_scenarios = tested_scenarios, kernel=\"rbf\", \n",
    "                                      hyperparameters = hyperparameters,  X_columns = X_columns,\n",
    "                                     folder_with_original_data =_FOLDER, folder_with_results=_FOLDER_2,\n",
    "                                     model_type= \"SVR_alg1\", print_progress_info = False)\n",
    "\n",
    "\n",
    "# Models as for Coefficient 3 \n",
    "print(\"Linear KR\")\n",
    "coef =3 \n",
    "hyperparameters = pd.read_csv(_FOLDER_2+\"hyperparameters_coef\"+str(coef)+\"_alg1.csv\").set_index(\"DRUG_ID\")\n",
    "            \n",
    "df4_results3 = CompareTrainingScenarios(target_coef =4, tested_scenarios = tested_scenarios, kernel=\"linear\", \n",
    "                                      hyperparameters = hyperparameters,  X_columns = X_columns,\n",
    "                                     folder_with_original_data =_FOLDER, folder_with_results=_FOLDER_2,\n",
    "                                     model_type= \"SVR_alg1\", print_progress_info = False)\n",
    "\n",
    "# Models as for Coefficient 4 \n",
    "coef =4 \n",
    "hyperparameters = pd.read_csv(_FOLDER_2+\"hyperparameters_coef\"+str(coef)+\"_alg1.csv\").set_index(\"DRUG_ID\")\n",
    "\n",
    "df4_results4 = CompareTrainingScenarios(target_coef =4, tested_scenarios = tested_scenarios, kernel=\"rbf\", \n",
    "                                      hyperparameters = hyperparameters,  X_columns = X_columns,\n",
    "                                     folder_with_original_data =_FOLDER, folder_with_results=_FOLDER_2,\n",
    "                                     model_type= \"KR_alg1\", print_progress_info = False)\n",
    "\n",
    "print(\"Results for Coefficient in Algoritm_1 (drug-by-drug) for polynomial KR\")\n",
    "display(df4_results)\n",
    "\n",
    "print(\"Results for Coefficient 1 in Algoritm_1 (drug-by-drug) in RBF SVR\")\n",
    "display(df4_results2)\n",
    "\n",
    "print(\"Results for Coefficient 1 in Algoritm_1 (drug-by-drug) in Linear SVR\")\n",
    "display(df4_results3)\n",
    "\n",
    "print(\"Results for Coefficient %d in Algoritm_1 (drug-by-drug):\" % coef)\n",
    "display(df4_results4)"
   ]
  },
  {
   "cell_type": "code",
   "execution_count": null,
   "metadata": {},
   "outputs": [],
   "source": []
  },
  {
   "cell_type": "markdown",
   "metadata": {},
   "source": [
    "## Reconstruction with Algorithm 1 "
   ]
  },
  {
   "cell_type": "code",
   "execution_count": null,
   "metadata": {},
   "outputs": [],
   "source": [
    "ml_scenario = \"Filtering [1,2,3,4], no restriction r2, sigmoid_4_param / previous parameters\"\n",
    "\n",
    "\n",
    "df= DataPreprocessing(folder_with_original_data= _FOLDER, folder_with_results =_FOLDER_2, \n",
    "                      filtering_scenario = [1,2,3,4],\n",
    "                      first_points_lower_limit = 0.8, last_points_upper_limit = 0.4,\n",
    "                      middle_points_limit =-0.1,\n",
    "                     fitting_function = \"sigmoid_4_param\", \n",
    "                      keep_r2_column = True,\n",
    "                     print_progress_info = False)\n",
    "\n",
    "drug_ids_limit, train_df_limit, test_df_limit = TrainTestSplit(df, min_number_drug_profiles =50, train_ratio= 0.8, \n",
    "                                                               r2_restriction = 0, print_progress_info = False)\n",
    "\n",
    "print(\"Coefficient 1\")\n",
    "coef=1\n",
    "hyperparameters = pd.read_csv(_FOLDER_2+\"hyperparameters_coef\"+str(coef)+\"_alg1.csv\").set_index(\"DRUG_ID\")\n",
    "kernel = \"polynomial\"\n",
    "\n",
    "mae, mre, y_pred1, train_shape, test_shape = TrainTest_KR_Alg1(train_df_limit, test_df_limit, target = \"param_1\", \n",
    "                      drug_ids_list =drug_ids_limit, X_columns = X_columns, \n",
    "                      kernel = kernel, hyperparameters= hyperparameters, print_drug_name = False)\n",
    "\n",
    "                      \n",
    "test_df_limit[\"pred_param_1\"] = y_pred1\n",
    "\n",
    "print(\"Coefficient 2\")\n",
    "coef=2\n",
    "hyperparameters = pd.read_csv(_FOLDER_2+\"hyperparameters_coef\"+str(coef)+\"_alg1.csv\").set_index(\"DRUG_ID\")\n",
    "\n",
    "kernel = \"rbf\"\n",
    "\n",
    "mae, mre, y_pred2, train_shape, test_shape = TrainTest_SVR_Alg1(train_df_limit, test_df_limit, target = \"param_2\", \n",
    "                      drug_ids_list =drug_ids_limit, X_columns = X_columns, \n",
    "                      kernel = kernel, hyperparameters= hyperparameters, print_drug_name = False)\n",
    "                   \n",
    "test_df_limit[\"pred_param_2\"] = y_pred2\n",
    "\n",
    "print(\"Coefficient 3\")\n",
    "coef=3\n",
    "hyperparameters = pd.read_csv(_FOLDER_2+\"hyperparameters_coef\"+str(coef)+\"_alg1.csv\").set_index(\"DRUG_ID\")\n",
    "\n",
    "kernel = \"linear\"\n",
    "\n",
    "mae, mre, y_pred3, train_shape, test_shape = TrainTest_SVR_Alg1(train_df_limit, test_df_limit, target = \"param_3\", \n",
    "                      drug_ids_list =drug_ids_limit, X_columns = X_columns, \n",
    "                      kernel = kernel, hyperparameters= hyperparameters, print_drug_name = False)\n",
    "                   \n",
    "test_df_limit[\"pred_param_3\"] = y_pred3\n",
    "\n",
    "print(\"Coefficient 4\")\n",
    "coef=4\n",
    "hyperparameters = pd.read_csv(_FOLDER_2+\"hyperparameters_coef\"+str(coef)+\"_alg1.csv\").set_index(\"DRUG_ID\")\n",
    "kernel = \"polynomial\"\n",
    "\n",
    "mae, mre, y_pred4, train_shape, test_shape = TrainTest_KR_Alg1(train_df_limit, test_df_limit, target = \"param_4\", \n",
    "                      drug_ids_list =drug_ids_limit, X_columns = X_columns, \n",
    "                      kernel = kernel, hyperparameters= hyperparameters, print_drug_name = False)\n",
    "                      \n",
    "test_df_limit[\"pred_param_4\"] = y_pred4\n",
    "\n",
    "conc_columns= [\"fd_num_\"+str(i) for i in range(10)]\n",
    "response_norm = ['norm_cells_'+str(i) for i in range(10)]\n",
    "r2_fitting = r2_score_fitting(df=test_df_limit, x_columns= conc_columns,\n",
    "                                        y_columns=response_norm, param_columns = [\"pred_param_\"+str(i)for i in range(1,5)])\n",
    "mae_reconstruct = mae_score_reconstruct(df=test_df_limit, x_columns= conc_columns,\n",
    "                                        y_columns=response_norm, param_columns = [\"pred_param_\"+str(i)for i in range(1,5)])"
   ]
  },
  {
   "cell_type": "code",
   "execution_count": null,
   "metadata": {},
   "outputs": [],
   "source": []
  }
 ],
 "metadata": {
  "kernelspec": {
   "display_name": "Python 3",
   "language": "python",
   "name": "python3"
  },
  "language_info": {
   "codemirror_mode": {
    "name": "ipython",
    "version": 3
   },
   "file_extension": ".py",
   "mimetype": "text/x-python",
   "name": "python",
   "nbconvert_exporter": "python",
   "pygments_lexer": "ipython3",
   "version": "3.6.10"
  }
 },
 "nbformat": 4,
 "nbformat_minor": 2
}
