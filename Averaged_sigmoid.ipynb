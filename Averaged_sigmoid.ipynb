{
 "cells": [
  {
   "cell_type": "code",
   "execution_count": 45,
   "metadata": {
    "collapsed": true
   },
   "outputs": [],
   "source": [
    "import numpy as np\n",
    "import pandas as pd\n",
    "from scipy.stats import norm\n",
    "import os\n",
    "import matplotlib.pyplot as plt\n",
    "%matplotlib inline\n",
    "\n",
    "from sklearn.svm import SVR\n",
    "import statsmodels.api as sm\n",
    "from sklearn.metrics import r2_score, mean_squared_error, mean_absolute_error\n",
    "from sklearn.preprocessing import MinMaxScaler"
   ]
  },
  {
   "cell_type": "code",
   "execution_count": 40,
   "metadata": {},
   "outputs": [
    {
     "data": {
      "text/plain": [
       "['filtered_drug_profiles_123.csv',\n",
       " 'filtered_drug_profiles_12.csv',\n",
       " 'filtered_drug_profiles_13.csv',\n",
       " 'filtered_drug_profiles_23.csv',\n",
       " '.ipynb_checkpoints',\n",
       " 'kernel_learning_1_2.csv',\n",
       " 'merged_drug_profiles_sigmoid4_123.csv',\n",
       " 'drug_features_pubchem_id.csv',\n",
       " 'drug_features_with_pubchem_properties.csv',\n",
       " 'merged_fitted_sigmoid4_123_with_drugs_description.csv',\n",
       " 'merged_fitted_sigmoid4_123_with_drugs_properties.csv',\n",
       " 'merged_fitted_sigmoid4_123_with_drugs_description_split_target.csv',\n",
       " 'merged_fitted_sigmoid4_123_with_drugs_properties_split_target.csv',\n",
       " 'kernel_learning_1.csv',\n",
       " 'kernel_learning_2.csv',\n",
       " 'kernel_learning_3.csv',\n",
       " 'test02_merged_fitted_sigmoid4_123_with_drugs_properties.csv',\n",
       " 'test02_merged_fitted_sigmoid4_123_with_drugs_description.csv',\n",
       " 'train08_merged_fitted_sigmoid4_123_with_drugs_description.csv',\n",
       " 'train08_merged_fitted_sigmoid4_123_with_drugs_properties.csv',\n",
       " 'kernel_learning_2_2.csv',\n",
       " 'kernel_learning_3_2.csv',\n",
       " 'kernel_learning_4.csv',\n",
       " 'Lasso_1.csv',\n",
       " 'Lasso_2.csv',\n",
       " 'Lasso_3.csv',\n",
       " 'Lasso_4.csv',\n",
       " 'Ridge_1.csv',\n",
       " 'Ridge_2.csv',\n",
       " 'Ridge_3.csv',\n",
       " 'Ridge_4.csv',\n",
       " 'statistics_of_sigmoid_coefficients.csv',\n",
       " 'paramters_distribution.png',\n",
       " 'drug_cells_kernels_best_parameters.csv',\n",
       " 'drug_cells_description_kernels_best_parameters.csv',\n",
       " 'drug_cells_PubChem_kernels_best_parameters.csv',\n",
       " 'drug_cells_PubChem_scaled_kernels_best_parameters.csv',\n",
       " 'kernel_ridge_model_parameters_drug_and_cells.csv',\n",
       " 'kernel_ridge_model_parameters_drug_cells_description.csv',\n",
       " 'kernel_ridge_model_parameters_drug_cells_PubChem.csv',\n",
       " 'kernel_ridge_model_parameters_drug_cells_PubChem_Scaling.csv',\n",
       " 'svr_learning_1.csv',\n",
       " 'svr_learning_2.csv',\n",
       " 'svr_learning_3.csv',\n",
       " 'svr_learning_4.csv',\n",
       " 'svr_model_parameters_drug_and_cells.csv',\n",
       " 'svr_model_parameters_drug_cells_description.csv',\n",
       " 'svr_model_parameters_drug_cells_PubChem.csv',\n",
       " 'svr_model_parameters_drug_cells_PubChem_Scaling.csv']"
      ]
     },
     "execution_count": 40,
     "metadata": {},
     "output_type": "execute_result"
    }
   ],
   "source": [
    "os.listdir(\"results\")"
   ]
  },
  {
   "cell_type": "code",
   "execution_count": 8,
   "metadata": {
    "collapsed": true
   },
   "outputs": [],
   "source": [
    "train_123 = pd.read_csv(\"results/train08_merged_fitted_sigmoid4_123_with_drugs_properties.csv\").drop(['Unnamed: 0', 'Unnamed: 0.1'], axis=1)"
   ]
  },
  {
   "cell_type": "code",
   "execution_count": 9,
   "metadata": {},
   "outputs": [
    {
     "data": {
      "text/plain": [
       "Index(['3bonds', 'Mitosis', 'WNT signaling', 'bond_stereo_count', 'complexity',\n",
       "       'P', 'H', 'Cl', 'rotatable_bond_count', 'undefined_atom_stereo_count',\n",
       "       'B', 'defined_atom_stereo_count', 'molecular_formula', 'second_target',\n",
       "       'Other, kinases', 'Metabolism', 'JNK and p38 signaling', 'Drug_Name',\n",
       "       'Cytoskeleton', 'MAX_CONC'],\n",
       "      dtype='object')"
      ]
     },
     "execution_count": 9,
     "metadata": {},
     "output_type": "execute_result"
    }
   ],
   "source": [
    "train_123.columns[-20:]"
   ]
  },
  {
   "cell_type": "markdown",
   "metadata": {},
   "source": [
    "### Average sigmoid"
   ]
  },
  {
   "cell_type": "raw",
   "metadata": {},
   "source": [
    "Main idea: get the DataFrame:\n",
    "        'DRUG_ID', 'COSMIC_ID', 'Drug_Name', x1 = conc_1, y1 = response_norm_1\n",
    "        'DRUG_ID', 'COSMIC_ID', 'Drug_Name', x2, y2\n",
    "        ....\n",
    "        'DRUG_ID', 'COSMIC_ID', 'Drug_Name', x10, y10\n",
    "Train non-linear regression (of sigmoid type) to obtain a unified/\"average\" functional dependence between x and y\n",
    "\n",
    "So, the first step is to split and concat the new dataset"
   ]
  },
  {
   "cell_type": "code",
   "execution_count": 10,
   "metadata": {
    "collapsed": true
   },
   "outputs": [],
   "source": [
    "norm_response  = [\"norm_cells_\"+str(i) for i in range(10)]\n",
    "conc_columns  = [\"fd_num_\"+str(i) for i in range(10)]\n",
    "\n",
    "col_not_to_use = [\"Unnamed: 0\", \"Unnamed: 0.1\", 'DRUG_ID', 'COSMIC_ID', 'Drug_Name', \n",
    "                  \"Synonyms\", \"Target\", \"deriv_found\", \"PubChem_ID\",\"elements\", \"inchi_key\",\n",
    "                  \"canonical_smiles\", \"inchi_string\", \"molecular_formula\",\n",
    "                  \"third_target\", \"first_target\", \"second_target\", \"Target_Pathway\"]\n",
    "\n",
    "columns_to_use = ['DRUG_ID', 'COSMIC_ID', 'Drug_Name'] + list(set(train_123.columns)\n",
    "                                                              -set(norm_response)-set(conc_columns)\n",
    "                                                              -set(col_not_to_use))\n",
    "train = np.zeros([1, len(columns_to_use)+2])\n",
    "for i in range(10):\n",
    "    train = np.vstack((train, train_123[columns_to_use + [\"fd_num_\"+str(i), \"norm_cells_\"+str(i)]].values))"
   ]
  },
  {
   "cell_type": "code",
   "execution_count": 11,
   "metadata": {},
   "outputs": [
    {
     "data": {
      "text/plain": [
       "((18171, 1132), (1817, 1154))"
      ]
     },
     "execution_count": 11,
     "metadata": {},
     "output_type": "execute_result"
    }
   ],
   "source": [
    "train.shape, train_123.shape"
   ]
  },
  {
   "cell_type": "code",
   "execution_count": 27,
   "metadata": {},
   "outputs": [],
   "source": [
    "train_df_full = pd.DataFrame(data= train[1:,:], columns = columns_to_use + [\"x_conc\", \"y_response\"])\n",
    "train_df_full[\"x_conc\"]= train_df_full[\"x_conc\"].astype(\"float32\")\n",
    "train_df_full[\"y_response\"]= train_df_full[\"y_response\"].astype(\"float32\")"
   ]
  },
  {
   "cell_type": "code",
   "execution_count": 28,
   "metadata": {},
   "outputs": [
    {
     "data": {
      "image/png": "[encoded data removed]",
      "text/plain": [
       "<Figure size 432x288 with 1 Axes>"
      ]
     },
     "metadata": {},
     "output_type": "display_data"
    }
   ],
   "source": [
    "train_df_full[\"y_response\"].hist();"
   ]
  },
  {
   "cell_type": "code",
   "execution_count": 35,
   "metadata": {},
   "outputs": [
    {
     "data": {
      "image/png": "[encoded data removed]",
      "text/plain": [
       "<Figure size 432x288 with 1 Axes>"
      ]
     },
     "metadata": {},
     "output_type": "display_data"
    }
   ],
   "source": [
    "train_df_full[train_df_full[\"x_conc\"]==0.22222222][\"y_response\"].hist();"
   ]
  },
  {
   "cell_type": "code",
   "execution_count": 38,
   "metadata": {},
   "outputs": [
    {
     "data": {
      "image/png": "[encoded data removed]",
      "text/plain": [
       "<Figure size 432x288 with 1 Axes>"
      ]
     },
     "metadata": {},
     "output_type": "display_data"
    }
   ],
   "source": [
    "plt.plot(train_df_full[\"x_conc\"], train_df_full[\"y_response\"]);"
   ]
  },
  {
   "cell_type": "markdown",
   "metadata": {},
   "source": [
    "### Support Vector Regression "
   ]
  },
  {
   "cell_type": "code",
   "execution_count": 46,
   "metadata": {},
   "outputs": [],
   "source": [
    "columns_for_normalisation = ['molecular_weight','rotatable_bond_count', 'h_bond_acceptor_count',\n",
    " 'undefined_atom_stereo_count', 'bond_stereo_count', 'defined_atom_stereo_count',\n",
    " 'complexity', 'atom_stereo_count','covalent_unit_count','2bonds',\n",
    " 'surface_area', 'xlogp', 'heavy_atom_count', \"x_conc\"]\n",
    "\n",
    "scaler = MinMaxScaler()\n",
    "scaler.fit(train_df_full[columns_for_normalisation])\n",
    "train_df_full[columns_for_normalisation] = scaler.transform(train_df_full[columns_for_normalisation])\n",
    "\n",
    "X_columns = train_df_full.columns[3:-1]\n",
    "X = train_df_full[X_columns].values\n",
    "y = train_df_full[\"y_response\"].values  \n",
    "\n",
    "sm.families()\n",
    "\n",
    "bayesian regression\n",
    "Non linear regression https://towardsdatascience.com/generalized-linear-models-9cbf848bb8ab\n",
    "decision trees for sparse data\n",
    "support vector\n",
    "kernel ridge\n",
    "https://online.stat.psu.edu/stat504/node/216/"
   ]
  }
 ],
 "metadata": {
  "anaconda-cloud": {},
  "kernelspec": {
   "display_name": "Python [conda env:jupyter-spark]",
   "language": "python",
   "name": "conda-env-jupyter-spark-py"
  },
  "language_info": {
   "codemirror_mode": {
    "name": "ipython",
    "version": 3
   },
   "file_extension": ".py",
   "mimetype": "text/x-python",
   "name": "python",
   "nbconvert_exporter": "python",
   "pygments_lexer": "ipython3",
   "version": "3.6.5"
  }
 },
 "nbformat": 4,
 "nbformat_minor": 4
}
