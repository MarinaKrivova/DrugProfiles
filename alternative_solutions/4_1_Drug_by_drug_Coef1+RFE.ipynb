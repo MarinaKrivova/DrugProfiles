{
 "cells": [
  {
   "cell_type": "markdown",
   "metadata": {},
   "source": [
    "### Drug-by-drug training of best models with tuned hyperparameters"
   ]
  },
  {
   "cell_type": "markdown",
   "metadata": {},
   "source": [
    "  1. perform new drug-by-drug-training and testing for the best model and calculated:\n",
    "        - mae +/- std mae\n",
    "        - mre +/- std mre\n",
    "  2. analysis of errors\n",
    "  3. feature selection with RFE\n",
    "  !!!! is possible only for linear kernels\n",
    "  - count features selected as important for all drugs \n",
    "  4. train and test models on the original and reduced data\n",
    "        "
   ]
  },
  {
   "cell_type": "code",
   "execution_count": 1,
   "metadata": {},
   "outputs": [],
   "source": [
    "import pandas as pd\n",
    "import numpy as np\n",
    "import os\n",
    "\n",
    "import seaborn as sns\n",
    "import matplotlib.pyplot as plt\n",
    "%matplotlib inline\n",
    "import gc\n",
    "import time\n",
    "\n",
    "import warnings\n",
    "warnings.filterwarnings(\"ignore\")\n",
    "\n",
    "from sklearn.kernel_ridge import KernelRidge\n",
    "from sklearn.preprocessing import MinMaxScaler\n",
    "\n",
    "np.random.seed(123)\n",
    "\n",
    "_FOLDER = \"results/\"\n",
    "_FOLDER_2 = \"GridSearch_results/\"\n",
    "_FOLDER_3 = \"figures/\"\n",
    "csfont = {'fontname':'Times New Roman'}"
   ]
  },
  {
   "cell_type": "code",
   "execution_count": 2,
   "metadata": {},
   "outputs": [],
   "source": [
    "def TrainPredict_KR(train, test, target, drug_ids_list, X_columns, kernel, hyperparameters, \n",
    "                    degree = 3, print_drug_name = True):\n",
    "    y_pred = []\n",
    "    for drug_id in drug_ids_list:\n",
    "        if print_drug_name:\n",
    "            drug_name = train.loc[drug_id, \"Drug_Name\"].values[0]\n",
    "            print(drug_id, drug_name)\n",
    "        train_drug = train.loc[drug_id,:]\n",
    "        test_drug = test.loc[drug_id,:]\n",
    "        y_train_drug = train_drug[target].values\n",
    "        y_test_drug =  test_drug[target].values\n",
    "        scaler = MinMaxScaler().fit(train_drug[X_columns])\n",
    "        Xtrain_drug = scaler.transform(train_drug[X_columns])\n",
    "        \n",
    "        model = KernelRidge(kernel = kernel, \n",
    "                        alpha = hyperparameters.loc[drug_id, \"best_alpha3\"], \n",
    "                        gamma = hyperparameters.loc[drug_id, \"best_gamma3\"],\n",
    "                        coef0= hyperparameters.loc[drug_id, \"best_coef03\"], \n",
    "                        degree = hyperparameters.loc[drug_id, \"best_degree3\"])\n",
    "        model.fit(Xtrain_drug, y_train_drug)\n",
    "        Xtest_drug = scaler.transform(test_drug[X_columns])\n",
    "        \n",
    "        y_pred.extend(model.predict(Xtest_drug))\n",
    "    return y_pred\n",
    "\n",
    "def TrainTest_KR(train, test, target, drug_ids_list, X_columns, kernel, hyperparameters, \n",
    "                    degree = 3, print_drug_name = True):\n",
    "    \n",
    "    y_pred = TrainPredict_KR(train_df_50, test_df_50, \n",
    "                                       target = target, drug_ids_list =drug_ids_list, \n",
    "                                       X_columns = X_columns, kernel = kernel, \n",
    "                                       hyperparameters= hyperparameters, print_drug_name = print_drug_name)\n",
    "\n",
    "    abs_errors = abs(test_df_50[target] - y_pred)    \n",
    "    rel_errors = abs(test_df_50[target] - y_pred)*100/test_df_50[target] \n",
    "\n",
    "    print(\"\\nMAE:\", round(abs_errors.mean(), 3), \"+/-\", round(abs_errors.std(), 3))\n",
    "    print(\"MRE:\", round(rel_errors.mean(), 1), \"+/-\", round(rel_errors.std(), 1))\n",
    "    print(\"\")\n",
    "    print(train_df_50.shape, test_df_50.shape)\n",
    "    return y_pred"
   ]
  },
  {
   "cell_type": "markdown",
   "metadata": {},
   "source": [
    "### Coefficient 1 : PolynomialKernelRidge"
   ]
  },
  {
   "cell_type": "code",
   "execution_count": 3,
   "metadata": {},
   "outputs": [
    {
     "data": {
      "text/html": [
       "<div>\n",
       "<style scoped>\n",
       "    .dataframe tbody tr th:only-of-type {\n",
       "        vertical-align: middle;\n",
       "    }\n",
       "\n",
       "    .dataframe tbody tr th {\n",
       "        vertical-align: top;\n",
       "    }\n",
       "\n",
       "    .dataframe thead th {\n",
       "        text-align: right;\n",
       "    }\n",
       "</style>\n",
       "<table border=\"1\" class=\"dataframe\">\n",
       "  <thead>\n",
       "    <tr style=\"text-align: right;\">\n",
       "      <th></th>\n",
       "      <th>best_alpha3</th>\n",
       "      <th>best_gamma3</th>\n",
       "      <th>best_coef03</th>\n",
       "      <th>best_degree3</th>\n",
       "    </tr>\n",
       "    <tr>\n",
       "      <th>DRUG_ID</th>\n",
       "      <th></th>\n",
       "      <th></th>\n",
       "      <th></th>\n",
       "      <th></th>\n",
       "    </tr>\n",
       "  </thead>\n",
       "  <tbody>\n",
       "    <tr>\n",
       "      <th>170</th>\n",
       "      <td>100.0</td>\n",
       "      <td>0.10000</td>\n",
       "      <td>5.0</td>\n",
       "      <td>1.0</td>\n",
       "    </tr>\n",
       "    <tr>\n",
       "      <th>173</th>\n",
       "      <td>100.0</td>\n",
       "      <td>0.01000</td>\n",
       "      <td>5.0</td>\n",
       "      <td>3.0</td>\n",
       "    </tr>\n",
       "    <tr>\n",
       "      <th>180</th>\n",
       "      <td>100.0</td>\n",
       "      <td>0.00001</td>\n",
       "      <td>0.5</td>\n",
       "      <td>1.0</td>\n",
       "    </tr>\n",
       "    <tr>\n",
       "      <th>200</th>\n",
       "      <td>100.0</td>\n",
       "      <td>0.00001</td>\n",
       "      <td>5.0</td>\n",
       "      <td>1.0</td>\n",
       "    </tr>\n",
       "    <tr>\n",
       "      <th>219</th>\n",
       "      <td>10.0</td>\n",
       "      <td>0.00001</td>\n",
       "      <td>0.5</td>\n",
       "      <td>2.0</td>\n",
       "    </tr>\n",
       "    <tr>\n",
       "      <th>272</th>\n",
       "      <td>500.0</td>\n",
       "      <td>0.00010</td>\n",
       "      <td>5.0</td>\n",
       "      <td>2.0</td>\n",
       "    </tr>\n",
       "    <tr>\n",
       "      <th>273</th>\n",
       "      <td>0.5</td>\n",
       "      <td>0.01000</td>\n",
       "      <td>1.0</td>\n",
       "      <td>1.0</td>\n",
       "    </tr>\n",
       "    <tr>\n",
       "      <th>274</th>\n",
       "      <td>1.0</td>\n",
       "      <td>0.00001</td>\n",
       "      <td>0.5</td>\n",
       "      <td>5.0</td>\n",
       "    </tr>\n",
       "    <tr>\n",
       "      <th>276</th>\n",
       "      <td>1.0</td>\n",
       "      <td>0.00001</td>\n",
       "      <td>5.0</td>\n",
       "      <td>5.0</td>\n",
       "    </tr>\n",
       "    <tr>\n",
       "      <th>328</th>\n",
       "      <td>5.0</td>\n",
       "      <td>0.00010</td>\n",
       "      <td>0.5</td>\n",
       "      <td>3.0</td>\n",
       "    </tr>\n",
       "    <tr>\n",
       "      <th>346</th>\n",
       "      <td>1.0</td>\n",
       "      <td>0.01000</td>\n",
       "      <td>0.5</td>\n",
       "      <td>1.0</td>\n",
       "    </tr>\n",
       "  </tbody>\n",
       "</table>\n",
       "</div>"
      ],
      "text/plain": [
       "         best_alpha3  best_gamma3  best_coef03  best_degree3\n",
       "DRUG_ID                                                     \n",
       "170            100.0      0.10000          5.0           1.0\n",
       "173            100.0      0.01000          5.0           3.0\n",
       "180            100.0      0.00001          0.5           1.0\n",
       "200            100.0      0.00001          5.0           1.0\n",
       "219             10.0      0.00001          0.5           2.0\n",
       "272            500.0      0.00010          5.0           2.0\n",
       "273              0.5      0.01000          1.0           1.0\n",
       "274              1.0      0.00001          0.5           5.0\n",
       "276              1.0      0.00001          5.0           5.0\n",
       "328              5.0      0.00010          0.5           3.0\n",
       "346              1.0      0.01000          0.5           1.0"
      ]
     },
     "execution_count": 3,
     "metadata": {},
     "output_type": "execute_result"
    }
   ],
   "source": [
    "hyperparameters = pd.read_csv(_FOLDER +\"best_model_coef_1.csv\").drop([\"Unnamed: 0\"], axis=1)\n",
    "hyperparameters.set_index(\"DRUG_ID\", inplace = True)\n",
    "hyperparameters"
   ]
  },
  {
   "cell_type": "markdown",
   "metadata": {},
   "source": [
    "### Reading default parameters"
   ]
  },
  {
   "cell_type": "code",
   "execution_count": 4,
   "metadata": {},
   "outputs": [],
   "source": [
    "with open(_FOLDER+\"X_features_cancer_cell_lines.txt\", 'r') as f:\n",
    "    X_cancer_cell_lines = [line.rstrip('\\n') for line in f]\n",
    "# *****************************************\n",
    "\n",
    "with open(_FOLDER+\"X_PubChem_properties.txt\", 'r') as f:\n",
    "    X_PubChem_properties = [line.rstrip('\\n') for line in f]\n",
    "# *****************************************\n",
    "\n",
    "with open(_FOLDER+\"X_features_Targets.txt\", 'r') as f:\n",
    "    X_targets = [line.rstrip('\\n') for line in f]\n",
    "# *****************************************\n",
    "\n",
    "with open(_FOLDER+\"X_features_Target_Pathway.txt\", 'r') as f:\n",
    "    X_target_pathway = [line.rstrip('\\n') for line in f]\n",
    "# *****************************************\n",
    "\n",
    "all_columns = X_cancer_cell_lines + X_PubChem_properties + X_targets + X_target_pathway +[\"MAX_CONC\"]\n",
    "\n",
    "X_feat_dict = {\"Dataset_1\": X_cancer_cell_lines ,\n",
    "               \"Dataset_2\": [\"MAX_CONC\"] + X_targets + X_target_pathway + X_cancer_cell_lines ,\n",
    "               \"Dataset_3\": [\"MAX_CONC\"] + X_PubChem_properties +  X_cancer_cell_lines,\n",
    "               \"Dataset_4\": [\"MAX_CONC\"] + X_PubChem_properties +  X_targets + X_target_pathway + X_cancer_cell_lines}"
   ]
  },
  {
   "cell_type": "markdown",
   "metadata": {},
   "source": [
    "## Original training"
   ]
  },
  {
   "cell_type": "code",
   "execution_count": 5,
   "metadata": {},
   "outputs": [
    {
     "name": "stdout",
     "output_type": "stream",
     "text": [
      "170 Shikonin\n",
      "173 FH535\n",
      "180 Thapsigargin\n",
      "200 Dacinostat\n",
      "219 AT-7519\n",
      "272 AR-42\n",
      "273 CUDC-101\n",
      "274 Belinostat\n",
      "276 CAY10603\n",
      "328 SNX-2112\n",
      "346 THZ-2-102-1\n",
      "\n",
      "MAE: 0.208 +/- 1.228\n",
      "MRE: 20.9 +/- 19.0\n",
      "\n",
      "(781, 1379) (202, 1379)\n"
     ]
    }
   ],
   "source": [
    "with open(_FOLDER + \"drug_ids_50.txt\", 'r') as f:\n",
    "    drug_ids_50 = [np.int32(line.rstrip('\\n')) for line in f]\n",
    "\n",
    "train_df = pd.read_csv(_FOLDER+\"train08_merged_fitted_sigmoid4_123_with_drugs_properties_min10.csv\").drop([\"Unnamed: 0\",\"Unnamed: 0.1\"], axis=1)\n",
    "test_df = pd.read_csv(_FOLDER+\"test02_merged_fitted_sigmoid4_123_with_drugs_properties_min10.csv\").drop([\"Unnamed: 0\",\"Unnamed: 0.1\"], axis=1)               \n",
    "\n",
    "train_df_50 = train_df.set_index(\"DRUG_ID\").loc[drug_ids_50, :].copy()\n",
    "test_df_50 = test_df.set_index(\"DRUG_ID\").loc[drug_ids_50, :].copy()\n",
    "\n",
    "kernel = \"polynomial\"\n",
    "X_columns = X_feat_dict[\"Dataset_4\"]\n",
    "\n",
    "y_pred = TrainTest_KR(train_df_50, test_df_50, target = \"param_1\", \n",
    "                      drug_ids_list =drug_ids_50, X_columns = X_columns, \n",
    "                      kernel = kernel, hyperparameters= hyperparameters, print_drug_name = True)\n",
    "test_df_50[\"y_pred\"] = y_pred\n",
    "test_df_50[\"abs_error\"]= abs(test_df_50[\"param_1\"] - y_pred)"
   ]
  },
  {
   "cell_type": "code",
   "execution_count": 6,
   "metadata": {},
   "outputs": [
    {
     "data": {
      "text/plain": [
       "array(['Shikonin', 'FH535', 'Thapsigargin', 'Dacinostat', 'AT-7519',\n",
       "       'AR-42', 'CUDC-101', 'Belinostat', 'CAY10603', 'SNX-2112',\n",
       "       'THZ-2-102-1'], dtype=object)"
      ]
     },
     "execution_count": 6,
     "metadata": {},
     "output_type": "execute_result"
    }
   ],
   "source": [
    "train_df_50[\"Drug_Name\"].unique()"
   ]
  },
  {
   "cell_type": "markdown",
   "metadata": {},
   "source": [
    "### Analysis of MAE on drug-by-drug basis"
   ]
  },
  {
   "cell_type": "code",
   "execution_count": 7,
   "metadata": {},
   "outputs": [
    {
     "data": {
      "image/png": "[encoded data removed]",
      "text/plain": [
       "<Figure size 288x288 with 1 Axes>"
      ]
     },
     "metadata": {
      "needs_background": "light"
     },
     "output_type": "display_data"
    }
   ],
   "source": [
    "plt.figure(figsize=(4, 4))\n",
    "sns.boxplot(x = \"DRUG_ID\", y = \"abs_error\", data = test_df_50.reset_index())\n",
    "\n",
    "plt.xticks(rotation = 45, fontsize=12)\n",
    "plt.xticks(fontsize=12)\n",
    "plt.yticks(fontsize=12)\n",
    "plt.ylabel(\"Squared error\", fontsize=12);"
   ]
  },
  {
   "cell_type": "code",
   "execution_count": 8,
   "metadata": {},
   "outputs": [
    {
     "data": {
      "image/png": "[encoded data removed]",
      "text/plain": [
       "<Figure size 288x216 with 1 Axes>"
      ]
     },
     "metadata": {
      "needs_background": "light"
     },
     "output_type": "display_data"
    }
   ],
   "source": [
    "csfont = {'fontname':'Times New Roman'}\n",
    "plt.figure(figsize=(4, 3))\n",
    "sns.boxplot(x = \"Drug_Name\", y = \"abs_error\", data = test_df_50.reset_index())\n",
    "\n",
    "plt.xticks(rotation = 90, fontsize=12, **csfont)\n",
    "plt.yticks(fontsize=12, **csfont)\n",
    "plt.ylabel(\"Absolute Error\", fontsize=12, **csfont)\n",
    "plt.savefig(_FOLDER_3 + \"coef_1.png\", bbox_inches='tight');"
   ]
  },
  {
   "cell_type": "code",
   "execution_count": 9,
   "metadata": {},
   "outputs": [
    {
     "data": {
      "text/html": [
       "<div>\n",
       "<style scoped>\n",
       "    .dataframe tbody tr th:only-of-type {\n",
       "        vertical-align: middle;\n",
       "    }\n",
       "\n",
       "    .dataframe tbody tr th {\n",
       "        vertical-align: top;\n",
       "    }\n",
       "\n",
       "    .dataframe thead th {\n",
       "        text-align: right;\n",
       "    }\n",
       "</style>\n",
       "<table border=\"1\" class=\"dataframe\">\n",
       "  <thead>\n",
       "    <tr style=\"text-align: right;\">\n",
       "      <th></th>\n",
       "      <th>COSMIC_ID</th>\n",
       "      <th>param_1</th>\n",
       "      <th>y_pred</th>\n",
       "    </tr>\n",
       "    <tr>\n",
       "      <th>DRUG_ID</th>\n",
       "      <th></th>\n",
       "      <th></th>\n",
       "      <th></th>\n",
       "    </tr>\n",
       "  </thead>\n",
       "  <tbody>\n",
       "    <tr>\n",
       "      <th>180</th>\n",
       "      <td>907064</td>\n",
       "      <td>9.576391</td>\n",
       "      <td>0.348604</td>\n",
       "    </tr>\n",
       "    <tr>\n",
       "      <th>180</th>\n",
       "      <td>905936</td>\n",
       "      <td>15.312320</td>\n",
       "      <td>0.348623</td>\n",
       "    </tr>\n",
       "  </tbody>\n",
       "</table>\n",
       "</div>"
      ],
      "text/plain": [
       "         COSMIC_ID    param_1    y_pred\n",
       "DRUG_ID                                \n",
       "180         907064   9.576391  0.348604\n",
       "180         905936  15.312320  0.348623"
      ]
     },
     "execution_count": 9,
     "metadata": {},
     "output_type": "execute_result"
    }
   ],
   "source": [
    "test_df_50[test_df_50[\"abs_error\"]>8][[\"COSMIC_ID\", \"param_1\", \"y_pred\"]]"
   ]
  },
  {
   "cell_type": "code",
   "execution_count": 10,
   "metadata": {},
   "outputs": [
    {
     "data": {
      "text/html": [
       "<div>\n",
       "<style scoped>\n",
       "    .dataframe tbody tr th:only-of-type {\n",
       "        vertical-align: middle;\n",
       "    }\n",
       "\n",
       "    .dataframe tbody tr th {\n",
       "        vertical-align: top;\n",
       "    }\n",
       "\n",
       "    .dataframe thead th {\n",
       "        text-align: right;\n",
       "    }\n",
       "</style>\n",
       "<table border=\"1\" class=\"dataframe\">\n",
       "  <thead>\n",
       "    <tr style=\"text-align: right;\">\n",
       "      <th></th>\n",
       "      <th>COSMIC_ID</th>\n",
       "      <th>param_1</th>\n",
       "      <th>y_pred</th>\n",
       "    </tr>\n",
       "    <tr>\n",
       "      <th>DRUG_ID</th>\n",
       "      <th></th>\n",
       "      <th></th>\n",
       "      <th></th>\n",
       "    </tr>\n",
       "  </thead>\n",
       "  <tbody>\n",
       "    <tr>\n",
       "      <th>173</th>\n",
       "      <td>687777</td>\n",
       "      <td>1.29139</td>\n",
       "      <td>0.623563</td>\n",
       "    </tr>\n",
       "  </tbody>\n",
       "</table>\n",
       "</div>"
      ],
      "text/plain": [
       "         COSMIC_ID  param_1    y_pred\n",
       "DRUG_ID                              \n",
       "173         687777  1.29139  0.623563"
      ]
     },
     "execution_count": 10,
     "metadata": {},
     "output_type": "execute_result"
    }
   ],
   "source": [
    "test_df_50[test_df_50[\"COSMIC_ID\"]==687777][[\"COSMIC_ID\", \"param_1\", \"y_pred\"]]"
   ]
  },
  {
   "cell_type": "markdown",
   "metadata": {},
   "source": [
    "### Restriction on coefficient value"
   ]
  },
  {
   "cell_type": "code",
   "execution_count": 11,
   "metadata": {},
   "outputs": [
    {
     "name": "stdout",
     "output_type": "stream",
     "text": [
      "Restriction on coefficient value\n"
     ]
    },
    {
     "data": {
      "image/png": "[encoded data removed]",
      "text/plain": [
       "<Figure size 288x216 with 1 Axes>"
      ]
     },
     "metadata": {
      "needs_background": "light"
     },
     "output_type": "display_data"
    }
   ],
   "source": [
    "print(\"Restriction on coefficient value\")\n",
    "plt.figure(figsize=(4, 3))\n",
    "sns.boxplot(x = \"Drug_Name\", y = \"abs_error\", data = test_df_50[test_df_50[\"param_1\"]<=1].reset_index())\n",
    "\n",
    "plt.xticks(rotation = 90, fontsize=12, **csfont)\n",
    "plt.yticks(fontsize=12, **csfont)\n",
    "plt.ylabel(\"Absolute Error\", fontsize=12, **csfont)\n",
    "plt.savefig(_FOLDER_3+\"coef_1_2.png\", bbox_inches='tight');"
   ]
  },
  {
   "cell_type": "markdown",
   "metadata": {},
   "source": [
    "### Restriction by R2"
   ]
  },
  {
   "cell_type": "code",
   "execution_count": 12,
   "metadata": {},
   "outputs": [
    {
     "name": "stdout",
     "output_type": "stream",
     "text": [
      "Restriction by R2\n"
     ]
    },
    {
     "data": {
      "image/png": "[encoded data removed]",
      "text/plain": [
       "<Figure size 288x216 with 1 Axes>"
      ]
     },
     "metadata": {
      "needs_background": "light"
     },
     "output_type": "display_data"
    }
   ],
   "source": [
    "from sklearn.metrics import r2_score\n",
    "\n",
    "def sigmoid_4_param(x, x0, L, k, d):\n",
    "    \"\"\" Comparing with Dennis Wang's sigmoid:\n",
    "    x0 -  p - position, correlation with IC50 or EC50\n",
    "        bounds [0, 1]\n",
    "    L = 1 in Dennis Wang's sigmoid, protect from devision by zero if x is too small \n",
    "        L<1 inverted sigmoid, l=100 - lower upper and lower boundso sigmpoid on y axis (y= [0.1, 0.11])\n",
    "        bounds [0.8, 10]\n",
    "    k = -1/s (s -shape parameter)  default = -10 k=0 straight line, k<0 sigmoid around k=-10\n",
    "        bounds [1, -100]\n",
    "    d - determines the vertical position of the sigmoid - shift on y axis - better fitting then Dennis Wang's sigmoid\n",
    "         bounds [0, 0.9]\n",
    "    parameters_bound ((0, 0.8, -100, 0), (1, 10, 1, 0.9))\n",
    "    \"\"\"\n",
    "    return ( 1/ (L + np.exp(-k*(x-x0))) + d)\n",
    "\n",
    "def r2_score_sigmoid_4_param(df, x_columns, y_columns, param_columns = []):\n",
    "    r2_scores=np.zeros(len(df.index))\n",
    "    for i in range(len(df.index)):\n",
    "        x = df.loc[df.index[i], x_columns].values.astype(np.float32)\n",
    "        y = df.loc[df.index[i], y_columns].values.astype(np.float32)\n",
    "        fit_param = df.loc[df.index[i], param_columns].values.astype(np.float32)\n",
    "#         print(fit_param)\n",
    "        y_fit = sigmoid_4_param(x, *fit_param)\n",
    "        r2_scores[i] = r2_score(y, y_fit)\n",
    "    return r2_scores\n",
    "\n",
    "test_df_50[\"r2_scores\"] = r2_score_sigmoid_4_param(test_df_50.reset_index(), \n",
    "                                                   x_columns = [\"fd_num_\"+str(i) for i in range(10)],\n",
    "                                                  y_columns = [\"norm_cells_\" + str(i) for i in range(10)],\n",
    "                                                  param_columns = [\"param_\" + str(i) for i in range(1,5)])\n",
    "\n",
    "print(\"Restriction by R2\")\n",
    "plt.figure(figsize=(4, 3))\n",
    "sns.boxplot(x = \"Drug_Name\", y = \"abs_error\", data = test_df_50[test_df_50[\"r2_scores\"]>0.9].reset_index())\n",
    "\n",
    "plt.xticks(rotation = 90, fontsize=12, **csfont)\n",
    "plt.yticks(fontsize=12,**csfont)\n",
    "plt.ylabel(\"Absolute Error\", fontsize=12,**csfont)\n",
    "plt.savefig(_FOLDER_3+ \"coef_1_3.png\", bbox_inches='tight');\n"
   ]
  },
  {
   "cell_type": "markdown",
   "metadata": {},
   "source": [
    "## Retraining the model on the new data: Restriction for Coefficient"
   ]
  },
  {
   "cell_type": "markdown",
   "metadata": {},
   "source": [
    "### Restriction in place for the ready data"
   ]
  },
  {
   "cell_type": "code",
   "execution_count": 13,
   "metadata": {},
   "outputs": [
    {
     "name": "stdout",
     "output_type": "stream",
     "text": [
      "170 Shikonin\n",
      "173 FH535\n",
      "180 Thapsigargin\n",
      "200 Dacinostat\n",
      "219 AT-7519\n",
      "272 AR-42\n",
      "273 CUDC-101\n",
      "274 Belinostat\n",
      "276 CAY10603\n",
      "328 SNX-2112\n",
      "346 THZ-2-102-1\n",
      "\n",
      "MAE: 0.129 +/- 0.097\n",
      "MRE: 28.0 +/- 20.1\n",
      "\n",
      "(765, 1379) (199, 1379)\n"
     ]
    }
   ],
   "source": [
    "del train_df_50\n",
    "del test_df_50\n",
    "\n",
    "with open(_FOLDER + \"drug_ids_50.txt\", 'r') as f:\n",
    "    drug_ids_50 = [np.int32(line.rstrip('\\n')) for line in f]\n",
    "\n",
    "train_df = pd.read_csv(_FOLDER+\"train08_merged_fitted_sigmoid4_123_with_drugs_properties_min10.csv\").drop([\"Unnamed: 0\",\"Unnamed: 0.1\"], axis=1)\n",
    "test_df = pd.read_csv(_FOLDER+\"test02_merged_fitted_sigmoid4_123_with_drugs_properties_min10.csv\").drop([\"Unnamed: 0\",\"Unnamed: 0.1\"], axis=1)               \n",
    "\n",
    "train_df_50 = train_df.set_index(\"DRUG_ID\").loc[drug_ids_50, :].copy()\n",
    "test_df_50 = test_df.set_index(\"DRUG_ID\").loc[drug_ids_50, :].copy()\n",
    "\n",
    "train_df_50 = train_df_50[train_df_50[\"param_1\"]<1].copy()\n",
    "test_df_50 = test_df_50[test_df_50[\"param_1\"]<1].copy()\n",
    "\n",
    "y_pred = TrainTest_KR(train_df_50, test_df_50, target = \"param_1\", drug_ids_list =drug_ids_50, \n",
    "             X_columns = X_columns, kernel = kernel, hyperparameters= hyperparameters, print_drug_name = True)"
   ]
  },
  {
   "cell_type": "markdown",
   "metadata": {},
   "source": [
    "### New data set with the restriction for coefficients"
   ]
  },
  {
   "cell_type": "code",
   "execution_count": 14,
   "metadata": {},
   "outputs": [
    {
     "name": "stdout",
     "output_type": "stream",
     "text": [
      "170 Shikonin\n",
      "180 Thapsigargin\n",
      "200 Dacinostat\n",
      "219 AT-7519\n",
      "272 AR-42\n",
      "273 CUDC-101\n",
      "274 Belinostat\n",
      "276 CAY10603\n",
      "328 SNX-2112\n",
      "346 THZ-2-102-1\n",
      "\n",
      "MAE: 0.135 +/- 0.094\n",
      "MRE: 30.8 +/- 20.6\n",
      "\n",
      "(588, 1380) (152, 1380)\n"
     ]
    }
   ],
   "source": [
    "del train_df_50\n",
    "del test_df_50\n",
    "\n",
    "with open(_FOLDER + \"drug_ids_50_restr_coef.txt\", 'r') as f:\n",
    "    drug_ids_50 = [np.int32(line.rstrip('\\n')) for line in f]\n",
    "\n",
    "train_df = pd.read_csv(_FOLDER+\"train08_min10_restr_coef.csv\").drop([\"Unnamed: 0\",\"Unnamed: 0.1\"], axis=1)\n",
    "test_df = pd.read_csv(_FOLDER+\"test02_min10_restr_coef.csv\").drop([\"Unnamed: 0\",\"Unnamed: 0.1\"], axis=1)               \n",
    "\n",
    "train_df_50 = train_df.set_index(\"DRUG_ID\").loc[drug_ids_50, :].copy()\n",
    "test_df_50 = test_df.set_index(\"DRUG_ID\").loc[drug_ids_50, :].copy()\n",
    "\n",
    "y_pred = TrainTest_KR(train_df_50, test_df_50, target = \"param_1\", drug_ids_list =drug_ids_50, \n",
    "             X_columns = X_columns, kernel = kernel, hyperparameters= hyperparameters, print_drug_name = True)"
   ]
  },
  {
   "cell_type": "markdown",
   "metadata": {},
   "source": [
    "## Retraining the model on the new data: Restriction for R2"
   ]
  },
  {
   "cell_type": "code",
   "execution_count": 15,
   "metadata": {},
   "outputs": [
    {
     "name": "stdout",
     "output_type": "stream",
     "text": [
      "170 Shikonin\n",
      "180 Thapsigargin\n",
      "200 Dacinostat\n",
      "219 AT-7519\n",
      "272 AR-42\n",
      "273 CUDC-101\n",
      "274 Belinostat\n",
      "276 CAY10603\n",
      "328 SNX-2112\n",
      "346 THZ-2-102-1\n",
      "\n",
      "MAE: 0.134 +/- 0.095\n",
      "MRE: 28.8 +/- 19.7\n",
      "\n",
      "(723, 1380) (185, 1380)\n",
      "Restriction by R2\n"
     ]
    },
    {
     "data": {
      "image/png": "[encoded data removed]",
      "text/plain": [
       "<Figure size 288x216 with 1 Axes>"
      ]
     },
     "metadata": {
      "needs_background": "light"
     },
     "output_type": "display_data"
    }
   ],
   "source": [
    "del train_df_50\n",
    "del test_df_50\n",
    "\n",
    "with open(\"results/drug_ids_50_restr.txt\", 'r') as f:\n",
    "    drug_ids_50 = [np.int32(line.rstrip('\\n')) for line in f]\n",
    "    \n",
    "\n",
    "train_df = pd.read_csv(\"results/train08_min10_restr.csv\").drop([\"Unnamed: 0\",\"Unnamed: 0.1\"], axis=1)\n",
    "test_df = pd.read_csv(\"results/test02_min10_restr.csv\").drop([\"Unnamed: 0\",\"Unnamed: 0.1\"], axis=1)               \n",
    "\n",
    "train_df_50 = train_df.set_index(\"DRUG_ID\").loc[drug_ids_50, :].copy()\n",
    "test_df_50 = test_df.set_index(\"DRUG_ID\").loc[drug_ids_50, :].copy()\n",
    "\n",
    "y_pred = TrainTest_KR(train_df_50, test_df_50, target = \"param_1\", \n",
    "                      drug_ids_list =drug_ids_50, X_columns = X_columns, \n",
    "                      kernel = kernel, hyperparameters= hyperparameters, print_drug_name = True)\n",
    "\n",
    "test_df_50[\"abs_error\"]= abs(test_df_50[\"param_1\"] - y_pred)\n",
    "\n",
    "print(\"Restriction by R2\")\n",
    "plt.figure(figsize=(4, 3))\n",
    "sns.boxplot(x = \"Drug_Name\", y = \"abs_error\", data = test_df_50.reset_index())\n",
    "\n",
    "plt.xticks(rotation = 90, fontsize=12,**csfont)\n",
    "plt.yticks(fontsize=12,**csfont)\n",
    "plt.ylabel(\"Absolute Error\", fontsize=12,**csfont)\n",
    "plt.savefig(_FOLDER_3+\"coef_1_4.png\", bbox_inches='tight');"
   ]
  },
  {
   "cell_type": "markdown",
   "metadata": {},
   "source": [
    "## Feature importance"
   ]
  },
  {
   "cell_type": "markdown",
   "metadata": {},
   "source": [
    "RFE feature selection is possible only for the linear kernel!!!\n",
    "<br>Therefore we need to read the data with the best hyperparameters for linear model\n",
    "The best variant seems to be SVR Linear"
   ]
  },
  {
   "cell_type": "code",
   "execution_count": 16,
   "metadata": {},
   "outputs": [
    {
     "data": {
      "text/html": [
       "<div>\n",
       "<style scoped>\n",
       "    .dataframe tbody tr th:only-of-type {\n",
       "        vertical-align: middle;\n",
       "    }\n",
       "\n",
       "    .dataframe tbody tr th {\n",
       "        vertical-align: top;\n",
       "    }\n",
       "\n",
       "    .dataframe thead th {\n",
       "        text-align: right;\n",
       "    }\n",
       "</style>\n",
       "<table border=\"1\" class=\"dataframe\">\n",
       "  <thead>\n",
       "    <tr style=\"text-align: right;\">\n",
       "      <th></th>\n",
       "      <th>best_C3</th>\n",
       "      <th>best_epsilon3</th>\n",
       "    </tr>\n",
       "    <tr>\n",
       "      <th>DRUG_ID</th>\n",
       "      <th></th>\n",
       "      <th></th>\n",
       "    </tr>\n",
       "  </thead>\n",
       "  <tbody>\n",
       "    <tr>\n",
       "      <th>170</th>\n",
       "      <td>0.01</td>\n",
       "      <td>0.100</td>\n",
       "    </tr>\n",
       "    <tr>\n",
       "      <th>173</th>\n",
       "      <td>0.01</td>\n",
       "      <td>0.001</td>\n",
       "    </tr>\n",
       "    <tr>\n",
       "      <th>180</th>\n",
       "      <td>0.01</td>\n",
       "      <td>0.001</td>\n",
       "    </tr>\n",
       "    <tr>\n",
       "      <th>200</th>\n",
       "      <td>0.01</td>\n",
       "      <td>0.001</td>\n",
       "    </tr>\n",
       "    <tr>\n",
       "      <th>219</th>\n",
       "      <td>0.01</td>\n",
       "      <td>0.100</td>\n",
       "    </tr>\n",
       "    <tr>\n",
       "      <th>272</th>\n",
       "      <td>0.01</td>\n",
       "      <td>0.100</td>\n",
       "    </tr>\n",
       "    <tr>\n",
       "      <th>273</th>\n",
       "      <td>0.01</td>\n",
       "      <td>0.010</td>\n",
       "    </tr>\n",
       "    <tr>\n",
       "      <th>274</th>\n",
       "      <td>0.01</td>\n",
       "      <td>0.100</td>\n",
       "    </tr>\n",
       "    <tr>\n",
       "      <th>276</th>\n",
       "      <td>0.01</td>\n",
       "      <td>0.001</td>\n",
       "    </tr>\n",
       "    <tr>\n",
       "      <th>328</th>\n",
       "      <td>0.01</td>\n",
       "      <td>0.010</td>\n",
       "    </tr>\n",
       "    <tr>\n",
       "      <th>346</th>\n",
       "      <td>0.01</td>\n",
       "      <td>5.000</td>\n",
       "    </tr>\n",
       "  </tbody>\n",
       "</table>\n",
       "</div>"
      ],
      "text/plain": [
       "         best_C3  best_epsilon3\n",
       "DRUG_ID                        \n",
       "170         0.01          0.100\n",
       "173         0.01          0.001\n",
       "180         0.01          0.001\n",
       "200         0.01          0.001\n",
       "219         0.01          0.100\n",
       "272         0.01          0.100\n",
       "273         0.01          0.010\n",
       "274         0.01          0.100\n",
       "276         0.01          0.001\n",
       "328         0.01          0.010\n",
       "346         0.01          5.000"
      ]
     },
     "execution_count": 16,
     "metadata": {},
     "output_type": "execute_result"
    }
   ],
   "source": [
    "from sklearn.feature_selection import RFE\n",
    "from sklearn.svm import SVR\n",
    "\n",
    "df = pd.read_csv(_FOLDER_2+ \"Linear_SVR_coef1.csv\").rename(columns={\"Unnamed: 0\": \"DRUG_ID\"})\n",
    "hyperparameters_rfe = pd.read_csv(_FOLDER_2+ \"Linear_SVR_coef1.csv\").rename(columns={\"Unnamed: 0\": \"DRUG_ID\"})[['DRUG_ID', 'best_C3', 'best_epsilon3']].set_index(\"DRUG_ID\")\n",
    "# best.to_csv(_FOLDER+\"best_model_coef_\" +str(i)+ \".csv\")\n",
    "hyperparameters_rfe"
   ]
  },
  {
   "cell_type": "markdown",
   "metadata": {},
   "source": [
    "## RFE on the original data"
   ]
  },
  {
   "cell_type": "code",
   "execution_count": 17,
   "metadata": {
    "scrolled": true
   },
   "outputs": [
    {
     "data": {
      "text/html": [
       "<div>\n",
       "<style scoped>\n",
       "    .dataframe tbody tr th:only-of-type {\n",
       "        vertical-align: middle;\n",
       "    }\n",
       "\n",
       "    .dataframe tbody tr th {\n",
       "        vertical-align: top;\n",
       "    }\n",
       "\n",
       "    .dataframe thead th {\n",
       "        text-align: right;\n",
       "    }\n",
       "</style>\n",
       "<table border=\"1\" class=\"dataframe\">\n",
       "  <thead>\n",
       "    <tr style=\"text-align: right;\">\n",
       "      <th></th>\n",
       "      <th>zero</th>\n",
       "      <th>max</th>\n",
       "      <th>more_0_01</th>\n",
       "    </tr>\n",
       "  </thead>\n",
       "  <tbody>\n",
       "    <tr>\n",
       "      <th>170</th>\n",
       "      <td>703</td>\n",
       "      <td>0.023</td>\n",
       "      <td>41</td>\n",
       "    </tr>\n",
       "    <tr>\n",
       "      <th>173</th>\n",
       "      <td>766</td>\n",
       "      <td>0.025</td>\n",
       "      <td>44</td>\n",
       "    </tr>\n",
       "    <tr>\n",
       "      <th>180</th>\n",
       "      <td>716</td>\n",
       "      <td>0.029</td>\n",
       "      <td>85</td>\n",
       "    </tr>\n",
       "    <tr>\n",
       "      <th>200</th>\n",
       "      <td>660</td>\n",
       "      <td>0.028</td>\n",
       "      <td>53</td>\n",
       "    </tr>\n",
       "    <tr>\n",
       "      <th>219</th>\n",
       "      <td>986</td>\n",
       "      <td>0.015</td>\n",
       "      <td>17</td>\n",
       "    </tr>\n",
       "    <tr>\n",
       "      <th>272</th>\n",
       "      <td>858</td>\n",
       "      <td>0.017</td>\n",
       "      <td>20</td>\n",
       "    </tr>\n",
       "    <tr>\n",
       "      <th>273</th>\n",
       "      <td>616</td>\n",
       "      <td>0.025</td>\n",
       "      <td>67</td>\n",
       "    </tr>\n",
       "    <tr>\n",
       "      <th>274</th>\n",
       "      <td>885</td>\n",
       "      <td>0.015</td>\n",
       "      <td>9</td>\n",
       "    </tr>\n",
       "    <tr>\n",
       "      <th>276</th>\n",
       "      <td>627</td>\n",
       "      <td>0.031</td>\n",
       "      <td>95</td>\n",
       "    </tr>\n",
       "    <tr>\n",
       "      <th>328</th>\n",
       "      <td>562</td>\n",
       "      <td>0.022</td>\n",
       "      <td>50</td>\n",
       "    </tr>\n",
       "    <tr>\n",
       "      <th>346</th>\n",
       "      <td>1352</td>\n",
       "      <td>0.000</td>\n",
       "      <td>0</td>\n",
       "    </tr>\n",
       "  </tbody>\n",
       "</table>\n",
       "</div>"
      ],
      "text/plain": [
       "     zero    max  more_0_01\n",
       "170   703  0.023         41\n",
       "173   766  0.025         44\n",
       "180   716  0.029         85\n",
       "200   660  0.028         53\n",
       "219   986  0.015         17\n",
       "272   858  0.017         20\n",
       "273   616  0.025         67\n",
       "274   885  0.015          9\n",
       "276   627  0.031         95\n",
       "328   562  0.022         50\n",
       "346  1352  0.000          0"
      ]
     },
     "metadata": {},
     "output_type": "display_data"
    },
    {
     "data": {
      "text/html": [
       "<div>\n",
       "<style scoped>\n",
       "    .dataframe tbody tr th:only-of-type {\n",
       "        vertical-align: middle;\n",
       "    }\n",
       "\n",
       "    .dataframe tbody tr th {\n",
       "        vertical-align: top;\n",
       "    }\n",
       "\n",
       "    .dataframe thead th {\n",
       "        text-align: right;\n",
       "    }\n",
       "</style>\n",
       "<table border=\"1\" class=\"dataframe\">\n",
       "  <thead>\n",
       "    <tr style=\"text-align: right;\">\n",
       "      <th></th>\n",
       "      <th>0</th>\n",
       "      <th>1</th>\n",
       "      <th>2</th>\n",
       "    </tr>\n",
       "  </thead>\n",
       "  <tbody>\n",
       "    <tr>\n",
       "      <th>0</th>\n",
       "      <td>793.0</td>\n",
       "      <td>0.031</td>\n",
       "      <td>43.0</td>\n",
       "    </tr>\n",
       "  </tbody>\n",
       "</table>\n",
       "</div>"
      ],
      "text/plain": [
       "       0      1     2\n",
       "0  793.0  0.031  43.0"
      ]
     },
     "metadata": {},
     "output_type": "display_data"
    }
   ],
   "source": [
    "del train_df_50\n",
    "del test_df_50\n",
    "\n",
    "with open(_FOLDER + \"drug_ids_50.txt\", 'r') as f:\n",
    "    drug_ids_50 = [np.int32(line.rstrip('\\n')) for line in f]\n",
    "\n",
    "\n",
    "all_columns = X_cancer_cell_lines + X_PubChem_properties + X_targets + X_target_pathway +[\"MAX_CONC\"]\n",
    "\n",
    "train_df = pd.read_csv(_FOLDER+\"train08_merged_fitted_sigmoid4_123_with_drugs_properties_min10.csv\").drop([\"Unnamed: 0\",\"Unnamed: 0.1\"], axis=1)\n",
    "test_df = pd.read_csv(_FOLDER+\"test02_merged_fitted_sigmoid4_123_with_drugs_properties_min10.csv\").drop([\"Unnamed: 0\",\"Unnamed: 0.1\"], axis=1)               \n",
    "\n",
    "train_df_50 = train_df.set_index(\"DRUG_ID\").loc[drug_ids_50, :].copy()\n",
    "test_df_50 = test_df.set_index(\"DRUG_ID\").loc[drug_ids_50, :].copy()\n",
    "\n",
    "df_features = pd.DataFrame(index=drug_ids_50)\n",
    "most_important = {}\n",
    "\n",
    "for drug_id in drug_ids_50:\n",
    "    drug_name = train_df_50.loc[drug_id, \"Drug_Name\"].values[0]\n",
    "    \n",
    "    train_drug = train_df_50.loc[drug_id,:]\n",
    "    test_drug = test_df_50.loc[drug_id,:]\n",
    "    y_train_drug = train_drug[\"param_1\"].values\n",
    "    y_test_drug =  test_drug[\"param_1\"].values\n",
    "    \n",
    "    X_columns = X_feat_dict[\"Dataset_4\"]\n",
    "    scaler = MinMaxScaler().fit(train_drug[X_columns])\n",
    "    Xtrain_drug = scaler.transform(train_drug[X_columns])\n",
    "        \n",
    "    estimator = SVR(kernel = \"linear\", \n",
    "                    C = hyperparameters_rfe.loc[drug_id, 'best_C3'],\n",
    "                    epsilon = hyperparameters_rfe.loc[drug_id,'best_epsilon3'])\n",
    "    # feature selector\n",
    "    selector = RFE(estimator, n_features_to_select=50, step=10)\n",
    "    selector = selector.fit(Xtrain_drug, y_train_drug)\n",
    "    most_important[drug_id] = np.array(X_columns)[selector.support_]\n",
    "    \n",
    "    #models parameters\n",
    "    estimator.fit(Xtrain_drug, y_train_drug)\n",
    "    df_features.loc[drug_id, \"zero\"] = len(estimator.coef_[estimator.coef_==0])\n",
    "    df_features.loc[drug_id, \"max\"] = round(abs(estimator.coef_[0]).max(),3)\n",
    "    df_features.loc[drug_id, \"more_0_01\"] =sum(abs(estimator.coef_[0])>0.01)\n",
    "    \n",
    "df_features[\"zero\"] = df_features[\"zero\"].astype('int32')\n",
    "df_features[\"more_0_01\"] = df_features[\"more_0_01\"].astype('int32')\n",
    "display(df_features)\n",
    "\n",
    "display(pd.DataFrame(data= [int(df_features[\"zero\"].mean()), df_features[\"max\"].max(), int(df_features[\"more_0_01\"].mean())]).T)"
   ]
  },
  {
   "cell_type": "code",
   "execution_count": 18,
   "metadata": {
    "scrolled": true
   },
   "outputs": [
    {
     "name": "stdout",
     "output_type": "stream",
     "text": [
      "from CCL: 322\n",
      "from PubChem_properties 0\n",
      "from targets: 31\n",
      "from target pathway: 0\n"
     ]
    }
   ],
   "source": [
    "all_features = []\n",
    "for key in most_important.keys():\n",
    "    all_features.extend(most_important[key])\n",
    "most_important_features = set(all_features)\n",
    "len(all_features), len(most_important_features)\n",
    "\n",
    "df_features = pd.DataFrame(index = list(most_important_features), columns = drug_ids_50)\n",
    "for drug_id in drug_ids_50:\n",
    "    df_features[drug_id] = 0\n",
    "    df_features.loc[most_important[drug_id], drug_id]=1\n",
    "\n",
    "df_features[\"sum\"]= df_features[drug_ids_50].sum(axis=1)\n",
    "df_features.sort_values(\"sum\", ascending = False)\n",
    "\n",
    "from_CCLE = set(most_important_features)& set(X_cancer_cell_lines)\n",
    "print(\"from CCL:\", len(set(most_important_features)& set(X_cancer_cell_lines)))\n",
    "print(\"from PubChem_properties\",len( set(most_important_features)& set(X_PubChem_properties)))\n",
    "print(\"from targets:\", len(set(most_important_features)& set(X_targets)))\n",
    "print(\"from target pathway:\", len(set(most_important_features)& set(X_target_pathway)))"
   ]
  },
  {
   "cell_type": "markdown",
   "metadata": {},
   "source": [
    "## RFE on the reduced by R2 data"
   ]
  },
  {
   "cell_type": "code",
   "execution_count": 19,
   "metadata": {},
   "outputs": [
    {
     "data": {
      "text/html": [
       "<div>\n",
       "<style scoped>\n",
       "    .dataframe tbody tr th:only-of-type {\n",
       "        vertical-align: middle;\n",
       "    }\n",
       "\n",
       "    .dataframe tbody tr th {\n",
       "        vertical-align: top;\n",
       "    }\n",
       "\n",
       "    .dataframe thead th {\n",
       "        text-align: right;\n",
       "    }\n",
       "</style>\n",
       "<table border=\"1\" class=\"dataframe\">\n",
       "  <thead>\n",
       "    <tr style=\"text-align: right;\">\n",
       "      <th></th>\n",
       "      <th>zero</th>\n",
       "      <th>max</th>\n",
       "      <th>more_0_01</th>\n",
       "    </tr>\n",
       "  </thead>\n",
       "  <tbody>\n",
       "    <tr>\n",
       "      <th>170</th>\n",
       "      <td>709</td>\n",
       "      <td>0.022</td>\n",
       "      <td>17</td>\n",
       "    </tr>\n",
       "    <tr>\n",
       "      <th>180</th>\n",
       "      <td>742</td>\n",
       "      <td>0.034</td>\n",
       "      <td>44</td>\n",
       "    </tr>\n",
       "    <tr>\n",
       "      <th>200</th>\n",
       "      <td>663</td>\n",
       "      <td>0.025</td>\n",
       "      <td>60</td>\n",
       "    </tr>\n",
       "    <tr>\n",
       "      <th>219</th>\n",
       "      <td>987</td>\n",
       "      <td>0.021</td>\n",
       "      <td>6</td>\n",
       "    </tr>\n",
       "    <tr>\n",
       "      <th>272</th>\n",
       "      <td>827</td>\n",
       "      <td>0.009</td>\n",
       "      <td>0</td>\n",
       "    </tr>\n",
       "    <tr>\n",
       "      <th>273</th>\n",
       "      <td>637</td>\n",
       "      <td>0.027</td>\n",
       "      <td>54</td>\n",
       "    </tr>\n",
       "    <tr>\n",
       "      <th>274</th>\n",
       "      <td>931</td>\n",
       "      <td>0.014</td>\n",
       "      <td>8</td>\n",
       "    </tr>\n",
       "    <tr>\n",
       "      <th>276</th>\n",
       "      <td>626</td>\n",
       "      <td>0.032</td>\n",
       "      <td>102</td>\n",
       "    </tr>\n",
       "    <tr>\n",
       "      <th>328</th>\n",
       "      <td>561</td>\n",
       "      <td>0.021</td>\n",
       "      <td>45</td>\n",
       "    </tr>\n",
       "    <tr>\n",
       "      <th>346</th>\n",
       "      <td>1352</td>\n",
       "      <td>0.000</td>\n",
       "      <td>0</td>\n",
       "    </tr>\n",
       "  </tbody>\n",
       "</table>\n",
       "</div>"
      ],
      "text/plain": [
       "     zero    max  more_0_01\n",
       "170   709  0.022         17\n",
       "180   742  0.034         44\n",
       "200   663  0.025         60\n",
       "219   987  0.021          6\n",
       "272   827  0.009          0\n",
       "273   637  0.027         54\n",
       "274   931  0.014          8\n",
       "276   626  0.032        102\n",
       "328   561  0.021         45\n",
       "346  1352  0.000          0"
      ]
     },
     "metadata": {},
     "output_type": "display_data"
    },
    {
     "data": {
      "text/html": [
       "<div>\n",
       "<style scoped>\n",
       "    .dataframe tbody tr th:only-of-type {\n",
       "        vertical-align: middle;\n",
       "    }\n",
       "\n",
       "    .dataframe tbody tr th {\n",
       "        vertical-align: top;\n",
       "    }\n",
       "\n",
       "    .dataframe thead th {\n",
       "        text-align: right;\n",
       "    }\n",
       "</style>\n",
       "<table border=\"1\" class=\"dataframe\">\n",
       "  <thead>\n",
       "    <tr style=\"text-align: right;\">\n",
       "      <th></th>\n",
       "      <th>0</th>\n",
       "      <th>1</th>\n",
       "      <th>2</th>\n",
       "    </tr>\n",
       "  </thead>\n",
       "  <tbody>\n",
       "    <tr>\n",
       "      <th>0</th>\n",
       "      <td>803.0</td>\n",
       "      <td>0.034</td>\n",
       "      <td>33.0</td>\n",
       "    </tr>\n",
       "  </tbody>\n",
       "</table>\n",
       "</div>"
      ],
      "text/plain": [
       "       0      1     2\n",
       "0  803.0  0.034  33.0"
      ]
     },
     "metadata": {},
     "output_type": "display_data"
    }
   ],
   "source": [
    "del train_df_50\n",
    "del test_df_50\n",
    "\n",
    "with open(\"results/drug_ids_50_restr.txt\", 'r') as f:\n",
    "    drug_ids_50 = [np.int32(line.rstrip('\\n')) for line in f]\n",
    "\n",
    "# reduced by R2 filtration criteria    \n",
    "train_df = pd.read_csv(\"results/train08_min10_restr.csv\").drop([\"Unnamed: 0\",\"Unnamed: 0.1\"], axis=1)\n",
    "test_df = pd.read_csv(\"results/test02_min10_restr.csv\").drop([\"Unnamed: 0\",\"Unnamed: 0.1\"], axis=1)               \n",
    "\n",
    "train_df_50 = train_df.set_index(\"DRUG_ID\").loc[drug_ids_50, :].copy()\n",
    "test_df_50 = test_df.set_index(\"DRUG_ID\").loc[drug_ids_50, :].copy()\n",
    "\n",
    "df_features_2 = pd.DataFrame(index=drug_ids_50)\n",
    "most_important_2 = {}\n",
    "for drug_id in drug_ids_50:\n",
    "    drug_name = train_df_50.loc[drug_id, \"Drug_Name\"].values[0]\n",
    "    \n",
    "    train_drug = train_df_50.loc[drug_id,:]\n",
    "    test_drug = test_df_50.loc[drug_id,:]\n",
    "    y_train_drug = train_drug[\"param_1\"].values\n",
    "    y_test_drug =  test_drug[\"param_1\"].values\n",
    "    \n",
    "#     print(drug_id, drug_name, len(X_columns))\n",
    "    scaler = MinMaxScaler().fit(train_drug[X_columns])\n",
    "    Xtrain_drug = scaler.transform(train_drug[X_columns])\n",
    "        \n",
    "    estimator = SVR(kernel = \"linear\", \n",
    "                    C = hyperparameters_rfe.loc[drug_id, 'best_C3'],\n",
    "                    epsilon = hyperparameters_rfe.loc[drug_id,'best_epsilon3'])\n",
    "    estimator.fit(Xtrain_drug, y_train_drug)\n",
    "    df_features_2.loc[drug_id, \"zero\"] = len(estimator.coef_[estimator.coef_==0])\n",
    "    df_features_2.loc[drug_id, \"max\"] = round(abs(estimator.coef_[0]).max(),3)\n",
    "    df_features_2.loc[drug_id, \"more_0_01\"] =sum(abs(estimator.coef_[0])>0.01)\n",
    "\n",
    "df_features_2[\"zero\"] = df_features_2[\"zero\"].astype('int32')\n",
    "df_features_2[\"more_0_01\"] = df_features_2[\"more_0_01\"].astype('int32')\n",
    "display(df_features_2)\n",
    "\n",
    "display(pd.DataFrame(data= [int(df_features_2[\"zero\"].mean()), df_features_2[\"max\"].max(), int(df_features_2[\"more_0_01\"].mean())]).T)"
   ]
  },
  {
   "cell_type": "markdown",
   "metadata": {},
   "source": [
    "## Train on the reduced data: Restriction for R2 and top50 features subset "
   ]
  },
  {
   "cell_type": "code",
   "execution_count": 20,
   "metadata": {},
   "outputs": [],
   "source": [
    "def TrainPredict_KR_subset(train, test, target, drug_ids_list, subset_feat_dict, kernel, hyperparameters, \n",
    "                    degree = 3, print_drug_name = True):\n",
    "    y_pred = []\n",
    "    for drug_id in drug_ids_list:\n",
    "        if print_drug_name:\n",
    "            drug_name = train.loc[drug_id, \"Drug_Name\"].values[0]\n",
    "            print(drug_id, drug_name)\n",
    "        train_drug = train.loc[drug_id,:]\n",
    "        test_drug = test.loc[drug_id,:]\n",
    "        y_train_drug = train_drug[target].values\n",
    "        y_test_drug =  test_drug[target].values\n",
    "        X_columns = subset_feat_dict[drug_id]\n",
    "        scaler = MinMaxScaler().fit(train_drug[X_columns])\n",
    "        Xtrain_drug = scaler.transform(train_drug[X_columns])\n",
    "        \n",
    "        model = KernelRidge(kernel = kernel, \n",
    "                        alpha = hyperparameters.loc[drug_id, \"best_alpha3\"], \n",
    "                        gamma = hyperparameters.loc[drug_id, \"best_gamma3\"],\n",
    "                        coef0= hyperparameters.loc[drug_id, \"best_coef03\"], \n",
    "                        degree = hyperparameters.loc[drug_id, \"best_degree3\"])\n",
    "        model.fit(Xtrain_drug, y_train_drug)\n",
    "        Xtest_drug = scaler.transform(test_drug[X_columns])\n",
    "        \n",
    "        y_pred.extend(model.predict(Xtest_drug))\n",
    "    return y_pred\n",
    "\n",
    "def TrainTest_KR_subset(train, test, target, drug_ids_list, subset_feat_dict, kernel, hyperparameters, \n",
    "                    degree = 3, print_drug_name = True):\n",
    "    \n",
    "    y_pred = TrainPredict_KR_subset(train_df_50, test_df_50, \n",
    "                                       target = target, drug_ids_list =drug_ids_50, \n",
    "                                       subset_feat_dict = subset_feat_dict, kernel = kernel, \n",
    "                                       hyperparameters= hyperparameters, print_drug_name = print_drug_name)\n",
    "\n",
    "    abs_errors = abs(test_df_50[target] - y_pred)    \n",
    "    rel_errors = abs(test_df_50[target] - y_pred)*100/test_df_50[target] \n",
    "\n",
    "    print(\"\\nMAE:\", round(abs_errors.mean(), 3), \"+/-\", round(abs_errors.std(), 3))\n",
    "    print(\"MRE:\", round(rel_errors.mean(), 1), \"+/-\", round(rel_errors.std(), 1))\n",
    "    print(\"\")\n",
    "    print(train_df_50.shape, test_df_50.shape)\n",
    "    return y_pred"
   ]
  },
  {
   "cell_type": "code",
   "execution_count": 21,
   "metadata": {},
   "outputs": [
    {
     "name": "stdout",
     "output_type": "stream",
     "text": [
      "170 Shikonin\n",
      "180 Thapsigargin\n",
      "200 Dacinostat\n",
      "219 AT-7519\n",
      "272 AR-42\n",
      "273 CUDC-101\n",
      "274 Belinostat\n",
      "276 CAY10603\n",
      "328 SNX-2112\n",
      "346 THZ-2-102-1\n",
      "\n",
      "MAE: 0.13 +/- 0.094\n",
      "MRE: 28.1 +/- 19.6\n",
      "\n",
      "(723, 1380) (185, 1380)\n"
     ]
    }
   ],
   "source": [
    "del train_df_50\n",
    "del test_df_50\n",
    "\n",
    "with open(\"results/drug_ids_50_restr.txt\", 'r') as f:\n",
    "    drug_ids_50 = [np.int32(line.rstrip('\\n')) for line in f]\n",
    "\n",
    "# reduced by R2 filtration criteria    \n",
    "train_df = pd.read_csv(\"results/train08_min10_restr.csv\").drop([\"Unnamed: 0\",\"Unnamed: 0.1\"], axis=1)\n",
    "test_df = pd.read_csv(\"results/test02_min10_restr.csv\").drop([\"Unnamed: 0\",\"Unnamed: 0.1\"], axis=1)               \n",
    "\n",
    "train_df_50 = train_df.set_index(\"DRUG_ID\").loc[drug_ids_50, :].copy()\n",
    "test_df_50 = test_df.set_index(\"DRUG_ID\").loc[drug_ids_50, :].copy()\n",
    "\n",
    "y_pred = TrainTest_KR_subset(train_df_50, test_df_50, target = \"param_1\", drug_ids_list =drug_ids_50, \n",
    "             subset_feat_dict = most_important, kernel = kernel, hyperparameters= hyperparameters, print_drug_name = True)"
   ]
  },
  {
   "cell_type": "markdown",
   "metadata": {},
   "source": [
    "## Training on the original data and feature subset"
   ]
  },
  {
   "cell_type": "code",
   "execution_count": 22,
   "metadata": {},
   "outputs": [
    {
     "name": "stdout",
     "output_type": "stream",
     "text": [
      "170 Shikonin\n",
      "173 FH535\n",
      "180 Thapsigargin\n",
      "200 Dacinostat\n",
      "219 AT-7519\n",
      "272 AR-42\n",
      "273 CUDC-101\n",
      "274 Belinostat\n",
      "276 CAY10603\n",
      "328 SNX-2112\n",
      "346 THZ-2-102-1\n",
      "\n",
      "MAE: 0.207 +/- 1.228\n",
      "MRE: 20.7 +/- 18.7\n",
      "\n",
      "(781, 1379) (202, 1379)\n"
     ]
    }
   ],
   "source": [
    "del train_df_50\n",
    "del test_df_50\n",
    "\n",
    "with open(_FOLDER + \"drug_ids_50.txt\", 'r') as f:\n",
    "    drug_ids_50 = [np.int32(line.rstrip('\\n')) for line in f]\n",
    "\n",
    "train_df = pd.read_csv(_FOLDER+\"train08_merged_fitted_sigmoid4_123_with_drugs_properties_min10.csv\").drop([\"Unnamed: 0\",\"Unnamed: 0.1\"], axis=1)\n",
    "test_df = pd.read_csv(_FOLDER+\"test02_merged_fitted_sigmoid4_123_with_drugs_properties_min10.csv\").drop([\"Unnamed: 0\",\"Unnamed: 0.1\"], axis=1)               \n",
    "\n",
    "train_df_50 = train_df.set_index(\"DRUG_ID\").loc[drug_ids_50, :].copy()\n",
    "test_df_50 = test_df.set_index(\"DRUG_ID\").loc[drug_ids_50, :].copy()\n",
    "\n",
    "y_pred = TrainTest_KR_subset(train_df_50, test_df_50, target = \"param_1\", drug_ids_list =drug_ids_50, \n",
    "             subset_feat_dict = most_important, kernel = kernel, hyperparameters= hyperparameters, print_drug_name = True)"
   ]
  },
  {
   "cell_type": "code",
   "execution_count": null,
   "metadata": {},
   "outputs": [],
   "source": []
  }
 ],
 "metadata": {
  "kernelspec": {
   "display_name": "myspark",
   "language": "python",
   "name": "myspark"
  },
  "language_info": {
   "codemirror_mode": {
    "name": "ipython",
    "version": 3
   },
   "file_extension": ".py",
   "mimetype": "text/x-python",
   "name": "python",
   "nbconvert_exporter": "python",
   "pygments_lexer": "ipython3",
   "version": "3.6.10"
  }
 },
 "nbformat": 4,
 "nbformat_minor": 4
}
