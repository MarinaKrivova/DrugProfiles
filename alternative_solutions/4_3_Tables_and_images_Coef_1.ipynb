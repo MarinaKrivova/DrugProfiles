{
 "cells": [
  {
   "cell_type": "markdown",
   "metadata": {},
   "source": [
    "### Generalised functions for final report"
   ]
  },
  {
   "cell_type": "markdown",
   "metadata": {},
   "source": [
    "use 2-3 functions in one place so that further obtain all the results at one place\n",
    "        "
   ]
  },
  {
   "cell_type": "code",
   "execution_count": 1,
   "metadata": {},
   "outputs": [],
   "source": [
    "import pandas as pd\n",
    "import numpy as np\n",
    "import os\n",
    "\n",
    "import seaborn as sns\n",
    "import matplotlib.pyplot as plt\n",
    "%matplotlib inline\n",
    "import gc\n",
    "import pandas as pd\n",
    "import numpy as np\n",
    "import time\n",
    "import warnings\n",
    "warnings.filterwarnings(\"ignore\")\n",
    "\n",
    "from sklearn.kernel_ridge import KernelRidge\n",
    "from sklearn.svm import SVR\n",
    "\n",
    "import gc\n",
    "from sklearn.preprocessing import MinMaxScaler\n",
    "import os\n",
    "np.random.seed(123)\n",
    "\n",
    "_FOLDER = \"../drug_results/\""
   ]
  },
  {
   "cell_type": "code",
   "execution_count": 2,
   "metadata": {},
   "outputs": [],
   "source": [
    "def read_hyperparameters(coefficient, folder_name= _FOLDER):\n",
    "    hyperparameters = pd.read_csv(folder_name+\"best_model_coef_\"+str(coefficient)+\".csv\").drop([\"Unnamed: 0\"], axis=1)\n",
    "    hyperparameters.set_index(\"DRUG_ID\", inplace = True)\n",
    "    return hyperparameters\n",
    "\n",
    "def read_possible_features(folder_name = _FOLDER):\n",
    "    \n",
    "    #columns to normalise:\n",
    "    with open(folder_name+\"columns_to_normalise.txt\", 'r') as f:\n",
    "        columns_to_normalise = [line.rstrip('\\n') for line in f]\n",
    "    # *****************************************\n",
    "\n",
    "    with open(folder_name+\"X_features_cancer_cell_lines.txt\", 'r') as f:\n",
    "        X_cancer_cell_lines = [line.rstrip('\\n') for line in f]\n",
    "    # *****************************************\n",
    "\n",
    "    with open(folder_name+\"X_PubChem_properties.txt\", 'r') as f:\n",
    "        X_PubChem_properties = [line.rstrip('\\n') for line in f]\n",
    "    # *****************************************\n",
    "\n",
    "    with open(folder_name+\"X_features_Targets.txt\", 'r') as f:\n",
    "        X_targets = [line.rstrip('\\n') for line in f]\n",
    "    # *****************************************\n",
    "\n",
    "    with open(folder_name+\"X_features_Target_Pathway.txt\", 'r') as f:\n",
    "        X_target_pathway = [line.rstrip('\\n') for line in f]\n",
    "        \n",
    "    return X_cancer_cell_lines, X_PubChem_properties, X_targets, X_target_pathway\n",
    "\n",
    "def X_feature_dataset(data_set, folder_name= _FOLDER):\n",
    "    \n",
    "    X_cancer_cell_lines, X_PubChem_properties, X_targets, X_target_pathway = read_possible_features(folder_name)\n",
    "    X_feat_dict = {\"Dataset 1\": X_cancer_cell_lines ,\n",
    "               \"Dataset 2\": [\"MAX_CONC\"] + X_targets + X_target_pathway + X_cancer_cell_lines ,\n",
    "               \"Dataset 3\": [\"MAX_CONC\"] + X_PubChem_properties +  X_cancer_cell_lines,\n",
    "               \"Dataset 4\": [\"MAX_CONC\"] + X_PubChem_properties +  X_targets + X_target_pathway + X_cancer_cell_lines}\n",
    "\n",
    "    return X_feat_dict[data_set]\n",
    "\n",
    "\n",
    "def set_kernel_model_drug_id(model, hyperparameters_df, drug_id):\n",
    "    \n",
    "    kernel_type = model.split(\"_\")[0].lower()\n",
    "    model_type = model.split(\"_\")[1]\n",
    "    \n",
    "    if model_type == \"KR\":\n",
    "        if (kernel_type == \"polynomial\") | (kernel_type == \"poly\"):\n",
    "            model = KernelRidge(kernel = \"polynomial\", \n",
    "                        alpha = hyperparameters_df.loc[drug_id, \"best_alpha3\"], \n",
    "                        gamma = hyperparameters_df.loc[drug_id, \"best_gamma3\"],\n",
    "                        coef0= hyperparameters_df.loc[drug_id, \"best_coef03\"], \n",
    "                        degree = hyperparameters_df.loc[drug_id, \"best_degree3\"])\n",
    "        elif kernel_type == \"rbf\":\n",
    "            model = KernelRidge(kernel = \"rbf\", \n",
    "                        alpha = hyperparameters_df.loc[drug_id, \"best_alpha3\"], \n",
    "                        gamma = hyperparameters_df.loc[drug_id, \"best_gamma3\"],\n",
    "                        coef0= hyperparameters_df.loc[drug_id, \"best_coef03\"])\n",
    "        elif kernel_type == \"sigmoid\":\n",
    "            model = KernelRidge(kernel = \"sigmoid\", \n",
    "                        alpha = hyperparameters_df.loc[drug_id, \"best_alpha3\"], \n",
    "                        gamma = hyperparameters_df.loc[drug_id, \"best_gamma3\"],\n",
    "                        coef0= hyperparameters_df.loc[drug_id, \"best_coef03\"])\n",
    "        elif kernel_type == \"linear\":\n",
    "            model = KernelRidge(kernel = \"linear\", \n",
    "                        alpha = hyperparameters_df.loc[drug_id, \"best_alpha3\"])\n",
    "        else:\n",
    "            print(\"ERROR in model name\")\n",
    "        \n",
    "    elif model_type == \"SVR\":\n",
    "        if (kernel_type == \"polynomial\") | (kernel_type == \"poly\"):\n",
    "            model = SVR(kernel = \"poly\", \n",
    "                        C=hyperparameters_df.loc[drug_id,\"best_C3\"], \n",
    "                        epsilon = hyperparameters_df.loc[drug_id,\"best_epsilon3\"],\n",
    "                        coef0= hyperparameters_df.loc[drug_id,\"best_coef03\"], \n",
    "                        degree = hyperparameters_df.loc[drug_id,\"best_degree3\"])\n",
    "        elif kernel_type == \"rbf\":\n",
    "            model = SVR(kernel = \"rbf\", \n",
    "                        C=hyperparameters_df.loc[drug_id,\"best_C3\"], \n",
    "                        epsilon = hyperparameters_df.loc[drug_id,\"best_epsilon3\"],\n",
    "                        coef0= hyperparameters_df.loc[drug_id,\"best_coef03\"])\n",
    "            \n",
    "        elif kernel_type == \"sigmoid\":\n",
    "            model = SVR(kernel = \"sigmoid\", \n",
    "                        C=hyperparameters_df.loc[drug_id,\"best_C3\"], \n",
    "                        epsilon = hyperparameters_df.loc[drug_id,\"best_epsilon3\"],\n",
    "                        coef0= hyperparameters_df.loc[drug_id,\"best_coef03\"])\n",
    "        \n",
    "        elif kernel_type == \"linear\":\n",
    "            model = SVR(kernel = \"linear\", \n",
    "                        C=hyperparameters_df.loc[drug_id,\"best_C3\"], \n",
    "                        epsilon = hyperparameters_df.loc[drug_id,\"best_epsilon3\"])\n",
    "    else:\n",
    "        print(\"ERROR in model name\")\n",
    "    \n",
    "    return model\n",
    "\n",
    "def train_test_model(model_name, coefficient, data_set, X_columns, drug_list, train_df, test_df, folder_name, print_drug_names=True):\n",
    "    hyperparameters_df = read_hyperparameters(coefficient, folder_name)\n",
    "    results = pd.DataFrame()\n",
    "    results[\"y\"] = test_df[\"param_\"+str(coefficient)]\n",
    "    results[\"pred_y\"] = 0\n",
    "    \n",
    "    for drug_id in drug_ids_50:\n",
    "        if print_drug_names:\n",
    "            drug_name = train_df.loc[drug_id, \"Drug_Name\"].values[0]\n",
    "            print(drug_id, drug_name)\n",
    "        train_drug = train_df.loc[drug_id,:]\n",
    "        test_drug = test_df.loc[drug_id,:]\n",
    "        y_train_drug = train_drug[\"param_\"+str(coefficient)].values\n",
    "        y_test_drug =  test_drug[\"param_\"+str(coefficient)].values\n",
    "        \n",
    "        scaler = MinMaxScaler().fit(train_drug[X_columns])\n",
    "        Xtrain_drug = scaler.transform(train_drug[X_columns])\n",
    "        \n",
    "        model = set_kernel_model_drug_id(model_name, hyperparameters_df, drug_id)\n",
    "        \n",
    "        model.fit(Xtrain_drug, y_train_drug)\n",
    "        Xtest_drug = scaler.transform(test_drug[X_columns])\n",
    "        \n",
    "        y_pred = model.predict(Xtest_drug)\n",
    "        results.loc[drug_id, \"pred_y\"]= y_pred\n",
    "        test_df.loc[drug_id, \"pred_y\"]= y_pred\n",
    "   \n",
    "    results[\"abs_error\"] = abs(results[\"y\"] - results[\"pred_y\"])\n",
    "    results[\"squared_error\"] = (results[\"y\"] - results[\"pred_y\"])**2\n",
    "    results[\"rel_error\"] = abs(results[\"y\"] - results[\"pred_y\"])*100/results[\"y\"] \n",
    "    abs_errors = abs(results[\"y\"] - results[\"pred_y\"])\n",
    "    \n",
    "    print(\"\\nResults for coefficient %d and model %s\" % (coefficient, model_name))\n",
    "    print(\"\\nMAE:\", round(abs_errors.mean(), 3), \"+/-\", round(abs_errors.std(), 3))\n",
    "    print(\"MRE:\", round(results[\"rel_error\"].mean(), 1), \"+/-\", round(results[\"rel_error\"].std(), 1))\n",
    "    print(\"\")\n",
    "    return abs_errors"
   ]
  },
  {
   "cell_type": "code",
   "execution_count": null,
   "metadata": {},
   "outputs": [],
   "source": []
  },
  {
   "cell_type": "markdown",
   "metadata": {},
   "source": [
    "## Original Data"
   ]
  },
  {
   "cell_type": "code",
   "execution_count": 3,
   "metadata": {},
   "outputs": [
    {
     "name": "stdout",
     "output_type": "stream",
     "text": [
      "(781, 1379) (202, 1379)\n",
      "\n",
      "Results for coefficient 1 and model Poly_KR\n",
      "\n",
      "MAE: 0.208 +/- 1.228\n",
      "MRE: 20.9 +/- 19.0\n",
      "\n"
     ]
    }
   ],
   "source": [
    "with open(_FOLDER + \"drug_ids_50.txt\", 'r') as f:\n",
    "    drug_ids_50 = [np.int32(line.rstrip('\\n')) for line in f]\n",
    "    \n",
    "train_df = pd.read_csv(_FOLDER+\"train08_merged_fitted_sigmoid4_123_with_drugs_properties_min10.csv\").drop([\"Unnamed: 0\",\"Unnamed: 0.1\"], axis=1)\n",
    "test_df = pd.read_csv(_FOLDER+\"test02_merged_fitted_sigmoid4_123_with_drugs_properties_min10.csv\").drop([\"Unnamed: 0\",\"Unnamed: 0.1\"], axis=1)               \n",
    "\n",
    "train_df_50 = train_df.set_index(\"DRUG_ID\").loc[drug_ids_50, :].copy()\n",
    "test_df_50 = test_df.set_index(\"DRUG_ID\").loc[drug_ids_50, :].copy()\n",
    "\n",
    "X_features = X_feature_dataset(\"Dataset 4\")\n",
    "\n",
    "print(train_df_50.shape, test_df_50.shape)\n",
    "\n",
    "errors = train_test_model(model_name = \"Poly_KR\", \n",
    "                 coefficient = 1, \n",
    "                data_set = \"Dataset 4\",\n",
    "                X_columns = X_features,\n",
    "                 drug_list = drug_ids_50, \n",
    "                 train_df = train_df_50, \n",
    "                 test_df = test_df_50,\n",
    "                 folder_name = _FOLDER,\n",
    "                 print_drug_names=False)"
   ]
  },
  {
   "cell_type": "markdown",
   "metadata": {},
   "source": [
    "## Reduced data by Coefficient"
   ]
  },
  {
   "cell_type": "code",
   "execution_count": 4,
   "metadata": {},
   "outputs": [
    {
     "name": "stdout",
     "output_type": "stream",
     "text": [
      "(765, 1379) (199, 1379)\n",
      "\n",
      "Results for coefficient 1 and model Poly_KR\n",
      "\n",
      "MAE: 0.129 +/- 0.097\n",
      "MRE: 28.0 +/- 20.1\n",
      "\n"
     ]
    }
   ],
   "source": [
    "with open(_FOLDER + \"drug_ids_50.txt\", 'r') as f:\n",
    "    drug_ids_50 = [np.int32(line.rstrip('\\n')) for line in f]\n",
    "    \n",
    "train_df = pd.read_csv(_FOLDER+\"train08_merged_fitted_sigmoid4_123_with_drugs_properties_min10.csv\").drop([\"Unnamed: 0\",\"Unnamed: 0.1\"], axis=1)\n",
    "test_df = pd.read_csv(_FOLDER+\"test02_merged_fitted_sigmoid4_123_with_drugs_properties_min10.csv\").drop([\"Unnamed: 0\",\"Unnamed: 0.1\"], axis=1)               \n",
    "\n",
    "train_df_50 = train_df.set_index(\"DRUG_ID\").loc[drug_ids_50, :].copy()\n",
    "test_df_50 = test_df.set_index(\"DRUG_ID\").loc[drug_ids_50, :].copy()\n",
    "\n",
    "train_df_50 = train_df_50[train_df_50[\"param_1\"] <1].copy()\n",
    "test_df_50 = test_df_50[test_df_50[\"param_1\"] <1].copy()\n",
    "\n",
    "X_features = X_feature_dataset(\"Dataset 4\")\n",
    "\n",
    "print(train_df_50.shape, test_df_50.shape)\n",
    "\n",
    "errors2 = train_test_model(model_name = \"Poly_KR\", \n",
    "                 coefficient = 1, \n",
    "                data_set = \"Dataset 4\",\n",
    "                X_columns = X_features,\n",
    "                 drug_list = drug_ids_50, \n",
    "                 train_df = train_df_50, \n",
    "                 test_df = test_df_50,\n",
    "                 folder_name = _FOLDER,\n",
    "                 print_drug_names=False)"
   ]
  },
  {
   "cell_type": "markdown",
   "metadata": {},
   "source": [
    "## Reduced data by R2"
   ]
  },
  {
   "cell_type": "code",
   "execution_count": 5,
   "metadata": {},
   "outputs": [
    {
     "name": "stdout",
     "output_type": "stream",
     "text": [
      "(723, 1380) (185, 1380)\n",
      "\n",
      "Results for coefficient 1 and model Poly_KR\n",
      "\n",
      "MAE: 0.122 +/- 0.084\n",
      "MRE: 27.8 +/- 19.2\n",
      "\n"
     ]
    }
   ],
   "source": [
    "with open(\"results/drug_ids_50_restr.txt\", 'r') as f:\n",
    "    drug_ids_50 = [np.int32(line.rstrip('\\n')) for line in f]\n",
    "    \n",
    "\n",
    "train_df = pd.read_csv(\"results/train08_min10_restr.csv\").drop([\"Unnamed: 0\",\"Unnamed: 0.1\"], axis=1)\n",
    "test_df = pd.read_csv(\"results/test02_min10_restr.csv\").drop([\"Unnamed: 0\",\"Unnamed: 0.1\"], axis=1)               \n",
    "\n",
    "train_df_50 = train_df.set_index(\"DRUG_ID\").loc[drug_ids_50, :].copy()\n",
    "test_df_50 = test_df.set_index(\"DRUG_ID\").loc[drug_ids_50, :].copy()\n",
    "\n",
    "X_features = X_feature_dataset(\"Dataset 4\")\n",
    "\n",
    "print(train_df_50.shape, test_df_50.shape)\n",
    "\n",
    "errors3 = train_test_model(model_name = \"Poly_KR\", \n",
    "                 coefficient = 1, \n",
    "                data_set = \"Dataset 4\",\n",
    "                X_columns = X_features,\n",
    "                 drug_list = drug_ids_50, \n",
    "                 train_df = train_df_50, \n",
    "                 test_df = test_df_50,\n",
    "                 folder_name = _FOLDER,\n",
    "                 print_drug_names=False)"
   ]
  },
  {
   "cell_type": "markdown",
   "metadata": {},
   "source": [
    "## Reduced by RFE on original data"
   ]
  },
  {
   "cell_type": "code",
   "execution_count": 32,
   "metadata": {},
   "outputs": [
    {
     "data": {
      "text/html": [
       "<div>\n",
       "<style scoped>\n",
       "    .dataframe tbody tr th:only-of-type {\n",
       "        vertical-align: middle;\n",
       "    }\n",
       "\n",
       "    .dataframe tbody tr th {\n",
       "        vertical-align: top;\n",
       "    }\n",
       "\n",
       "    .dataframe thead th {\n",
       "        text-align: right;\n",
       "    }\n",
       "</style>\n",
       "<table border=\"1\" class=\"dataframe\">\n",
       "  <thead>\n",
       "    <tr style=\"text-align: right;\">\n",
       "      <th></th>\n",
       "      <th>zero</th>\n",
       "      <th>max</th>\n",
       "      <th>more_0_01</th>\n",
       "    </tr>\n",
       "  </thead>\n",
       "  <tbody>\n",
       "    <tr>\n",
       "      <th>170</th>\n",
       "      <td>703</td>\n",
       "      <td>0.023</td>\n",
       "      <td>41</td>\n",
       "    </tr>\n",
       "    <tr>\n",
       "      <th>173</th>\n",
       "      <td>766</td>\n",
       "      <td>0.025</td>\n",
       "      <td>44</td>\n",
       "    </tr>\n",
       "    <tr>\n",
       "      <th>180</th>\n",
       "      <td>716</td>\n",
       "      <td>0.029</td>\n",
       "      <td>85</td>\n",
       "    </tr>\n",
       "    <tr>\n",
       "      <th>200</th>\n",
       "      <td>660</td>\n",
       "      <td>0.028</td>\n",
       "      <td>53</td>\n",
       "    </tr>\n",
       "    <tr>\n",
       "      <th>219</th>\n",
       "      <td>986</td>\n",
       "      <td>0.015</td>\n",
       "      <td>17</td>\n",
       "    </tr>\n",
       "    <tr>\n",
       "      <th>272</th>\n",
       "      <td>858</td>\n",
       "      <td>0.017</td>\n",
       "      <td>20</td>\n",
       "    </tr>\n",
       "    <tr>\n",
       "      <th>273</th>\n",
       "      <td>616</td>\n",
       "      <td>0.025</td>\n",
       "      <td>67</td>\n",
       "    </tr>\n",
       "    <tr>\n",
       "      <th>274</th>\n",
       "      <td>885</td>\n",
       "      <td>0.015</td>\n",
       "      <td>9</td>\n",
       "    </tr>\n",
       "    <tr>\n",
       "      <th>276</th>\n",
       "      <td>627</td>\n",
       "      <td>0.031</td>\n",
       "      <td>95</td>\n",
       "    </tr>\n",
       "    <tr>\n",
       "      <th>328</th>\n",
       "      <td>562</td>\n",
       "      <td>0.022</td>\n",
       "      <td>50</td>\n",
       "    </tr>\n",
       "    <tr>\n",
       "      <th>346</th>\n",
       "      <td>1352</td>\n",
       "      <td>0.000</td>\n",
       "      <td>0</td>\n",
       "    </tr>\n",
       "  </tbody>\n",
       "</table>\n",
       "</div>"
      ],
      "text/plain": [
       "     zero    max  more_0_01\n",
       "170   703  0.023         41\n",
       "173   766  0.025         44\n",
       "180   716  0.029         85\n",
       "200   660  0.028         53\n",
       "219   986  0.015         17\n",
       "272   858  0.017         20\n",
       "273   616  0.025         67\n",
       "274   885  0.015          9\n",
       "276   627  0.031         95\n",
       "328   562  0.022         50\n",
       "346  1352  0.000          0"
      ]
     },
     "execution_count": 32,
     "metadata": {},
     "output_type": "execute_result"
    }
   ],
   "source": [
    "from sklearn.feature_selection import RFE\n",
    "with open(_FOLDER + \"drug_ids_50.txt\", 'r') as f:\n",
    "    drug_ids_50 = [np.int32(line.rstrip('\\n')) for line in f]\n",
    "\n",
    "hyperparameters_rfe = pd.read_csv(_FOLDER+ \"Linear_SVR_coef1.csv\").rename(columns={\"Unnamed: 0\": \"DRUG_ID\"})[['DRUG_ID', 'best_C3', 'best_epsilon3']].set_index(\"DRUG_ID\")\n",
    "\n",
    "train_df = pd.read_csv(_FOLDER+\"train08_merged_fitted_sigmoid4_123_with_drugs_properties_min10.csv\").drop([\"Unnamed: 0\",\"Unnamed: 0.1\"], axis=1)\n",
    "test_df = pd.read_csv(_FOLDER+\"test02_merged_fitted_sigmoid4_123_with_drugs_properties_min10.csv\").drop([\"Unnamed: 0\",\"Unnamed: 0.1\"], axis=1)               \n",
    "\n",
    "train_df_50 = train_df.set_index(\"DRUG_ID\").loc[drug_ids_50, :].copy()\n",
    "test_df_50 = test_df.set_index(\"DRUG_ID\").loc[drug_ids_50, :].copy()\n",
    "\n",
    "df_features = pd.DataFrame(index=drug_ids_50)\n",
    "most_important = {}\n",
    "\n",
    "for drug_id in drug_ids_50:\n",
    "    drug_name = train_df_50.loc[drug_id, \"Drug_Name\"].values[0]\n",
    "    \n",
    "    train_drug = train_df_50.loc[drug_id,:]\n",
    "    test_drug = test_df_50.loc[drug_id,:]\n",
    "    y_train_drug = train_drug[\"param_1\"].values\n",
    "    y_test_drug =  test_drug[\"param_1\"].values\n",
    "    \n",
    "    X_columns = X_feature_dataset(\"Dataset 4\")\n",
    "    scaler = MinMaxScaler().fit(train_drug[X_columns])\n",
    "    Xtrain_drug = scaler.transform(train_drug[X_columns])\n",
    "        \n",
    "    estimator = SVR(kernel = \"linear\", \n",
    "                    C = hyperparameters_rfe.loc[drug_id, 'best_C3'],\n",
    "                    epsilon = hyperparameters_rfe.loc[drug_id,'best_epsilon3'])\n",
    "    # feature selector\n",
    "    selector = RFE(estimator, n_features_to_select=50, step=10)\n",
    "    selector = selector.fit(Xtrain_drug, y_train_drug)\n",
    "    most_important[drug_id] = np.array(X_columns)[selector.support_]\n",
    "    \n",
    "    #models parameters\n",
    "    estimator.fit(Xtrain_drug, y_train_drug)\n",
    "    df_features.loc[drug_id, \"zero\"] = len(estimator.coef_[estimator.coef_==0])\n",
    "    df_features.loc[drug_id, \"max\"] = round(abs(estimator.coef_[0]).max(),3)\n",
    "    df_features.loc[drug_id, \"more_0_01\"] =sum(abs(estimator.coef_[0])>0.01)\n",
    "    \n",
    "df_features[\"zero\"] = df_features[\"zero\"].astype('int32')\n",
    "df_features[\"more_0_01\"] = df_features[\"more_0_01\"].astype('int32')\n",
    "df_features"
   ]
  },
  {
   "cell_type": "code",
   "execution_count": null,
   "metadata": {},
   "outputs": [],
   "source": [
    "errors4 = train_test_model(model_name = \"Poly_KR\", \n",
    "                 coefficient = 1, \n",
    "                data_set = \"Dataset 4\",\n",
    "                X_columns = X_features,\n",
    "                 drug_list = drug_ids_50, \n",
    "                 train_df = train_df_50, \n",
    "                 test_df = test_df_50,\n",
    "                 folder_name = _FOLDER,\n",
    "                 print_drug_names=False)"
   ]
  },
  {
   "cell_type": "code",
   "execution_count": 26,
   "metadata": {},
   "outputs": [
    {
     "data": {
      "image/png": "[encoded data removed]",
      "text/plain": [
       "<Figure size 288x288 with 1 Axes>"
      ]
     },
     "metadata": {
      "needs_background": "light"
     },
     "output_type": "display_data"
    }
   ],
   "source": [
    "plt.figure(figsize=(4, 4))\n",
    "plt.boxplot([errors, errors2, errors3], showbox=True)\n",
    "\n",
    "plt.xticks(fontsize=12)\n",
    "plt.xticks(fontsize=12)\n",
    "plt.yticks(fontsize=12)\n",
    "plt.ylabel(\"Absolute error\", fontsize=12);\n",
    "# plt.savefig(\"coef_1_4.png\", bbox_inches='tight');"
   ]
  },
  {
   "cell_type": "code",
   "execution_count": null,
   "metadata": {},
   "outputs": [],
   "source": []
  },
  {
   "cell_type": "code",
   "execution_count": null,
   "metadata": {},
   "outputs": [],
   "source": []
  },
  {
   "cell_type": "code",
   "execution_count": null,
   "metadata": {},
   "outputs": [],
   "source": []
  },
  {
   "cell_type": "code",
   "execution_count": null,
   "metadata": {},
   "outputs": [],
   "source": []
  },
  {
   "cell_type": "code",
   "execution_count": null,
   "metadata": {},
   "outputs": [],
   "source": []
  },
  {
   "cell_type": "code",
   "execution_count": 6,
   "metadata": {},
   "outputs": [
    {
     "name": "stdout",
     "output_type": "stream",
     "text": [
      "\n",
      "Results for coefficient 2 and model RBF_SVR\n",
      "\n",
      "MAE: 0.231 +/- 1.585\n",
      "MRE: 7.1 +/- 16.8\n",
      "\n"
     ]
    }
   ],
   "source": [
    "errors2 = train_test_model(model_name = \"RBF_SVR\", \n",
    "                 coefficient = 2, \n",
    "                 data_set = \"Dataset 4\",\n",
    "                X_columns = X_features,\n",
    "                 drug_list = drug_ids_50, \n",
    "                 train_df = train_df_50, \n",
    "                 test_df = test_df_50,\n",
    "                 folder_name = _FOLDER,\n",
    "                 print_drug_names = False)"
   ]
  },
  {
   "cell_type": "code",
   "execution_count": 9,
   "metadata": {},
   "outputs": [
    {
     "name": "stdout",
     "output_type": "stream",
     "text": [
      "\n",
      "Results for coefficient 3 and model Linear_SVR\n",
      "\n",
      "MAE: 8.529 +/- 21.913\n",
      "MRE: -40.5 +/- 55.3\n",
      "\n"
     ]
    }
   ],
   "source": [
    "errors3 = train_test_model(model_name = \"Linear_SVR\", \n",
    "                 coefficient = 3, \n",
    "                 data_set = \"Dataset 4\",\n",
    "                X_columns = X_features, \n",
    "                drug_list = drug_ids_50, \n",
    "                 train_df = train_df_50, \n",
    "                 test_df = test_df_50,\n",
    "                 folder_name = _FOLDER,\n",
    "                 print_drug_names = False)"
   ]
  },
  {
   "cell_type": "code",
   "execution_count": 10,
   "metadata": {},
   "outputs": [
    {
     "name": "stdout",
     "output_type": "stream",
     "text": [
      "\n",
      "Results for coefficient 4 and model RBF_KR\n",
      "\n",
      "MAE: 0.069 +/- 0.087\n",
      "MRE: -154.0 +/- 3177.3\n",
      "\n"
     ]
    }
   ],
   "source": [
    "errors4 = train_test_model(model_name = \"RBF_KR\", \n",
    "                 coefficient = 4, \n",
    "                 data_set = \"Dataset 4\",\n",
    "                X_columns = X_features, \n",
    "                drug_list = drug_ids_50, \n",
    "                 train_df = train_df_50, \n",
    "                 test_df = test_df_50,\n",
    "                 folder_name = _FOLDER,\n",
    "                 print_drug_names = False)"
   ]
  },
  {
   "cell_type": "markdown",
   "metadata": {},
   "source": [
    "### Analysis of MAE on drug-by-drug basis"
   ]
  },
  {
   "cell_type": "code",
   "execution_count": 4,
   "metadata": {},
   "outputs": [
    {
     "data": {
      "image/png": "[encoded data removed]",
      "text/plain": [
       "<Figure size 288x288 with 1 Axes>"
      ]
     },
     "metadata": {
      "needs_background": "light"
     },
     "output_type": "display_data"
    }
   ],
   "source": [
    "plt.figure(figsize=(4, 4))\n",
    "sns.boxplot(x = \"DRUG_ID\", y = \"abs_error\", data = results.reset_index())\n",
    "\n",
    "plt.xticks(rotation = 45, fontsize=12)\n",
    "plt.xticks(fontsize=12)\n",
    "plt.yticks(fontsize=12)\n",
    "plt.ylabel(\"Squared error\", fontsize=12);"
   ]
  },
  {
   "cell_type": "code",
   "execution_count": 5,
   "metadata": {},
   "outputs": [
    {
     "data": {
      "image/png": "[encoded data removed]",
      "text/plain": [
       "<Figure size 288x288 with 1 Axes>"
      ]
     },
     "metadata": {
      "needs_background": "light"
     },
     "output_type": "display_data"
    }
   ],
   "source": [
    "plt.figure(figsize=(4, 4))\n",
    "sns.boxplot(x = \"DRUG_ID\", y = \"abs_error\", data = results.reset_index())\n",
    "\n",
    "plt.xticks(rotation = 45, fontsize=12)\n",
    "plt.xticks(fontsize=12)\n",
    "plt.yticks(fontsize=12)\n",
    "plt.ylabel(\"Absolute error\", fontsize=12)\n",
    "plt.savefig(\"coef_1.png\", bbox_inches='tight');"
   ]
  },
  {
   "cell_type": "code",
   "execution_count": 6,
   "metadata": {},
   "outputs": [
    {
     "data": {
      "text/html": [
       "<div>\n",
       "<style scoped>\n",
       "    .dataframe tbody tr th:only-of-type {\n",
       "        vertical-align: middle;\n",
       "    }\n",
       "\n",
       "    .dataframe tbody tr th {\n",
       "        vertical-align: top;\n",
       "    }\n",
       "\n",
       "    .dataframe thead th {\n",
       "        text-align: right;\n",
       "    }\n",
       "</style>\n",
       "<table border=\"1\" class=\"dataframe\">\n",
       "  <thead>\n",
       "    <tr style=\"text-align: right;\">\n",
       "      <th></th>\n",
       "      <th>COSMIC_ID</th>\n",
       "      <th>param_1</th>\n",
       "      <th>pred_y</th>\n",
       "    </tr>\n",
       "    <tr>\n",
       "      <th>DRUG_ID</th>\n",
       "      <th></th>\n",
       "      <th></th>\n",
       "      <th></th>\n",
       "    </tr>\n",
       "  </thead>\n",
       "  <tbody>\n",
       "    <tr>\n",
       "      <th>180</th>\n",
       "      <td>907064</td>\n",
       "      <td>9.576391</td>\n",
       "      <td>0.348604</td>\n",
       "    </tr>\n",
       "    <tr>\n",
       "      <th>180</th>\n",
       "      <td>905936</td>\n",
       "      <td>15.312320</td>\n",
       "      <td>0.348623</td>\n",
       "    </tr>\n",
       "  </tbody>\n",
       "</table>\n",
       "</div>"
      ],
      "text/plain": [
       "         COSMIC_ID    param_1    pred_y\n",
       "DRUG_ID                                \n",
       "180         907064   9.576391  0.348604\n",
       "180         905936  15.312320  0.348623"
      ]
     },
     "execution_count": 6,
     "metadata": {},
     "output_type": "execute_result"
    }
   ],
   "source": [
    "test_df_50[test_df_50[\"abs_error\"]>8][[\"COSMIC_ID\", \"param_1\", \"pred_y\"]]"
   ]
  },
  {
   "cell_type": "code",
   "execution_count": 7,
   "metadata": {},
   "outputs": [
    {
     "data": {
      "text/html": [
       "<div>\n",
       "<style scoped>\n",
       "    .dataframe tbody tr th:only-of-type {\n",
       "        vertical-align: middle;\n",
       "    }\n",
       "\n",
       "    .dataframe tbody tr th {\n",
       "        vertical-align: top;\n",
       "    }\n",
       "\n",
       "    .dataframe thead th {\n",
       "        text-align: right;\n",
       "    }\n",
       "</style>\n",
       "<table border=\"1\" class=\"dataframe\">\n",
       "  <thead>\n",
       "    <tr style=\"text-align: right;\">\n",
       "      <th></th>\n",
       "      <th>COSMIC_ID</th>\n",
       "      <th>param_1</th>\n",
       "      <th>pred_y</th>\n",
       "    </tr>\n",
       "    <tr>\n",
       "      <th>DRUG_ID</th>\n",
       "      <th></th>\n",
       "      <th></th>\n",
       "      <th></th>\n",
       "    </tr>\n",
       "  </thead>\n",
       "  <tbody>\n",
       "    <tr>\n",
       "      <th>173</th>\n",
       "      <td>687777</td>\n",
       "      <td>1.29139</td>\n",
       "      <td>0.623563</td>\n",
       "    </tr>\n",
       "  </tbody>\n",
       "</table>\n",
       "</div>"
      ],
      "text/plain": [
       "         COSMIC_ID  param_1    pred_y\n",
       "DRUG_ID                              \n",
       "173         687777  1.29139  0.623563"
      ]
     },
     "execution_count": 7,
     "metadata": {},
     "output_type": "execute_result"
    }
   ],
   "source": [
    "test_df_50[test_df_50[\"COSMIC_ID\"]==687777][[\"COSMIC_ID\", \"param_1\", \"pred_y\"]]"
   ]
  },
  {
   "cell_type": "code",
   "execution_count": null,
   "metadata": {},
   "outputs": [],
   "source": [
    "del train_df_50\n",
    "del test_df_50"
   ]
  },
  {
   "cell_type": "markdown",
   "metadata": {},
   "source": [
    "### Restriction on coefficient value"
   ]
  },
  {
   "cell_type": "code",
   "execution_count": 8,
   "metadata": {},
   "outputs": [
    {
     "name": "stdout",
     "output_type": "stream",
     "text": [
      "Restriction on coefficient value\n"
     ]
    },
    {
     "data": {
      "image/png": "[encoded data removed]",
      "text/plain": [
       "<Figure size 288x288 with 1 Axes>"
      ]
     },
     "metadata": {
      "needs_background": "light"
     },
     "output_type": "display_data"
    }
   ],
   "source": [
    "print(\"Restriction on coefficient value\")\n",
    "plt.figure(figsize=(4, 4))\n",
    "sns.boxplot(x = \"DRUG_ID\", y = \"abs_error\", data = results[results[\"y\"]<=1].reset_index())\n",
    "\n",
    "plt.xticks(rotation = 45, fontsize=12)\n",
    "plt.xticks(fontsize=12)\n",
    "plt.yticks(fontsize=12)\n",
    "plt.ylabel(\"Absolute error\", fontsize=12)\n",
    "plt.savefig(\"coef_1_2.png\", bbox_inches='tight');"
   ]
  },
  {
   "cell_type": "markdown",
   "metadata": {},
   "source": [
    "### Restriction by R2"
   ]
  },
  {
   "cell_type": "code",
   "execution_count": 9,
   "metadata": {},
   "outputs": [],
   "source": [
    "from sklearn.metrics import r2_score\n",
    "\n",
    "def sigmoid_4_param(x, x0, L, k, d):\n",
    "    \"\"\" Comparing with Dennis Wang's sigmoid:\n",
    "    x0 -  p - position, correlation with IC50 or EC50\n",
    "        bounds [0, 1]\n",
    "    L = 1 in Dennis Wang's sigmoid, protect from devision by zero if x is too small \n",
    "        L<1 inverted sigmoid, l=100 - lower upper and lower boundso sigmpoid on y axis (y= [0.1, 0.11])\n",
    "        bounds [0.8, 10]\n",
    "    k = -1/s (s -shape parameter)  default = -10 k=0 straight line, k<0 sigmoid around k=-10\n",
    "        bounds [1, -100]\n",
    "    d - determines the vertical position of the sigmoid - shift on y axis - better fitting then Dennis Wang's sigmoid\n",
    "         bounds [0, 0.9]\n",
    "    parameters_bound ((0, 0.8, -100, 0), (1, 10, 1, 0.9))\n",
    "    \"\"\"\n",
    "    return ( 1/ (L + np.exp(-k*(x-x0))) + d)\n",
    "\n",
    "def r2_score_sigmoid_4_param(df, x_columns, y_columns, param_columns = []):\n",
    "    r2_scores=np.zeros(len(df.index))\n",
    "    for i in range(len(df.index)):\n",
    "        x = df.loc[df.index[i], x_columns].values.astype(np.float32)\n",
    "        y = df.loc[df.index[i], y_columns].values.astype(np.float32)\n",
    "        fit_param = df.loc[df.index[i], param_columns].values.astype(np.float32)\n",
    "#         print(fit_param)\n",
    "        y_fit = sigmoid_4_param(x, *fit_param)\n",
    "        r2_scores[i] = r2_score(y, y_fit)\n",
    "    return r2_scores\n",
    "\n",
    "test_df_50[\"r2_scores\"] = r2_score_sigmoid_4_param(test_df_50.reset_index(), \n",
    "                                                   x_columns = [\"fd_num_\"+str(i) for i in range(10)],\n",
    "                                                  y_columns = [\"norm_cells_\" + str(i) for i in range(10)],\n",
    "                                                  param_columns = [\"param_\" + str(i) for i in range(1,5)])\n",
    "\n",
    "print(\"Restriction by R2\")\n",
    "plt.figure(figsize=(4, 4))\n",
    "sns.boxplot(x = \"DRUG_ID\", y = \"abs_error\", data = test_df_50[test_df_50[\"r2_scores\"]>0.9].reset_index())\n",
    "\n",
    "plt.xticks(rotation = 45, fontsize=12)\n",
    "plt.xticks(fontsize=12)\n",
    "plt.yticks(fontsize=12)\n",
    "plt.ylabel(\"Absolute error\", fontsize=12)\n",
    "plt.savefig(\"coef_1_3.png\", bbox_inches='tight');\n",
    "\n",
    "del train_df_50\n",
    "del test_df_50"
   ]
  },
  {
   "cell_type": "markdown",
   "metadata": {},
   "source": [
    "## Retraining the model on the new data: Restriction for Coefficient"
   ]
  },
  {
   "cell_type": "code",
   "execution_count": 12,
   "metadata": {},
   "outputs": [
    {
     "name": "stdout",
     "output_type": "stream",
     "text": [
      "170 Shikonin\n",
      "173 FH535\n",
      "180 Thapsigargin\n",
      "200 Dacinostat\n",
      "219 AT-7519\n",
      "272 AR-42\n",
      "273 CUDC-101\n",
      "274 Belinostat\n",
      "276 CAY10603\n",
      "328 SNX-2112\n",
      "346 THZ-2-102-1\n",
      "\n",
      "MRE: 28.0 +/- 20.1\n",
      "\n",
      "MAE: 0.129 +/- 0.097\n",
      "\n",
      "(765, 1379) (199, 1379)\n"
     ]
    }
   ],
   "source": [
    "with open(_FOLDER + \"drug_ids_50.txt\", 'r') as f:\n",
    "    drug_ids_50 = [np.int32(line.rstrip('\\n')) for line in f]\n",
    "\n",
    "train_df = pd.read_csv(_FOLDER+\"train08_merged_fitted_sigmoid4_123_with_drugs_properties_min10.csv\").drop([\"Unnamed: 0\",\"Unnamed: 0.1\"], axis=1)\n",
    "test_df = pd.read_csv(_FOLDER+\"test02_merged_fitted_sigmoid4_123_with_drugs_properties_min10.csv\").drop([\"Unnamed: 0\",\"Unnamed: 0.1\"], axis=1)               \n",
    "\n",
    "train_df_50 = train_df.set_index(\"DRUG_ID\").loc[drug_ids_50, :].copy()\n",
    "test_df_50 = test_df.set_index(\"DRUG_ID\").loc[drug_ids_50, :].copy()\n",
    "\n",
    "train_df_50 = train_df_50[train_df_50[\"param_1\"]<1].copy()\n",
    "test_df_50 = test_df_50[test_df_50[\"param_1\"]<1].copy()\n",
    "\n",
    "results = pd.DataFrame()\n",
    "results[\"y\"] = test_df_50[\"param_1\"]\n",
    "results[\"pred_y\"] = 0\n",
    "\n",
    "for drug_id in drug_ids_50:\n",
    "    drug_name = train_df_50.loc[drug_id, \"Drug_Name\"].values[0]\n",
    "    print(drug_id, drug_name)\n",
    "    train_drug = train_df_50.loc[drug_id,:]\n",
    "    test_drug = test_df_50.loc[drug_id,:]\n",
    "    y_train_drug = train_drug[\"param_1\"].values\n",
    "    y_test_drug =  test_drug[\"param_1\"].values\n",
    "    \n",
    "    X_columns = X_feat_dict[data_set]\n",
    "    scaler = MinMaxScaler().fit(train_drug[X_columns])\n",
    "    Xtrain_drug = scaler.transform(train_drug[X_columns])\n",
    "        \n",
    "    model = KernelRidge(kernel = kernel, \n",
    "                        alpha = hyperparameters.loc[drug_id, \"best_alpha3\"], \n",
    "                        gamma = hyperparameters.loc[drug_id, \"best_gamma3\"],\n",
    "                        coef0= hyperparameters.loc[drug_id, \"best_coef03\"], \n",
    "                        degree = hyperparameters.loc[drug_id, \"best_degree3\"])\n",
    "        \n",
    "    model.fit(Xtrain_drug, y_train_drug)\n",
    "    Xtest_drug = scaler.transform(test_drug[X_columns])\n",
    "        \n",
    "    y_pred = model.predict(Xtest_drug)\n",
    "    results.loc[drug_id, \"pred_y\"]= y_pred\n",
    "\n",
    "results[\"abs_error\"] = abs(results[\"y\"] - results[\"pred_y\"])\n",
    "results[\"rel_error\"] = abs(results[\"y\"] - results[\"pred_y\"])*100/results[\"y\"] \n",
    "abs_errors_2 = abs(results[\"y\"] - results[\"pred_y\"])\n",
    "\n",
    "print(\"\\nMRE:\", round(results[\"rel_error\"].mean(), 1), \"+/-\", round(results[\"rel_error\"].std(), 1))\n",
    "print(\"\\nMAE:\", round(results[\"abs_error\"].mean(), 3), \"+/-\", round(results[\"abs_error\"].std(), 3))\n",
    "print(\"\")\n",
    "print(train_df_50.shape, test_df_50.shape)\n",
    "\n",
    "del train_df_50\n",
    "del test_df_50"
   ]
  },
  {
   "cell_type": "markdown",
   "metadata": {},
   "source": [
    "## Retraining the model on the new data: Restriction for R2"
   ]
  },
  {
   "cell_type": "code",
   "execution_count": 15,
   "metadata": {},
   "outputs": [
    {
     "name": "stdout",
     "output_type": "stream",
     "text": [
      "170 Shikonin\n",
      "180 Thapsigargin\n",
      "200 Dacinostat\n",
      "219 AT-7519\n",
      "272 AR-42\n",
      "273 CUDC-101\n",
      "274 Belinostat\n",
      "276 CAY10603\n",
      "328 SNX-2112\n",
      "346 THZ-2-102-1\n",
      "\n",
      "MRE: 27.8 +/- 19.2\n",
      "\n",
      "MAE: 0.122 +/- 0.084\n",
      "\n",
      "(723, 1380) (185, 1380)\n"
     ]
    }
   ],
   "source": [
    "with open(\"results/drug_ids_50_restr.txt\", 'r') as f:\n",
    "    drug_ids_50 = [np.int32(line.rstrip('\\n')) for line in f]\n",
    "    \n",
    "\n",
    "train_df = pd.read_csv(\"results/train08_min10_restr.csv\").drop([\"Unnamed: 0\",\"Unnamed: 0.1\"], axis=1)\n",
    "test_df = pd.read_csv(\"results/test02_min10_restr.csv\").drop([\"Unnamed: 0\",\"Unnamed: 0.1\"], axis=1)               \n",
    "\n",
    "train_df_50 = train_df.set_index(\"DRUG_ID\").loc[drug_ids_50, :].copy()\n",
    "test_df_50 = test_df.set_index(\"DRUG_ID\").loc[drug_ids_50, :].copy()\n",
    "\n",
    "results = pd.DataFrame()\n",
    "results[\"y\"] = test_df_50[\"param_1\"]\n",
    "results[\"pred_y\"] = 0\n",
    "\n",
    "for drug_id in drug_ids_50:\n",
    "    drug_name = train_df_50.loc[drug_id, \"Drug_Name\"].values[0]\n",
    "    print(drug_id, drug_name)\n",
    "    train_drug = train_df_50.loc[drug_id,:]\n",
    "    test_drug = test_df_50.loc[drug_id,:]\n",
    "    y_train_drug = train_drug[\"param_1\"].values\n",
    "    y_test_drug =  test_drug[\"param_1\"].values\n",
    "    \n",
    "    X_columns = X_feat_dict[data_set]\n",
    "    scaler = MinMaxScaler().fit(train_drug[X_columns])\n",
    "    Xtrain_drug = scaler.transform(train_drug[X_columns])\n",
    "        \n",
    "    model = KernelRidge(kernel = kernel, \n",
    "                        alpha = hyperparameters.loc[drug_id, \"best_alpha3\"], \n",
    "                        gamma = hyperparameters.loc[drug_id, \"best_gamma3\"],\n",
    "                        coef0= hyperparameters.loc[drug_id, \"best_coef03\"], \n",
    "                        degree = hyperparameters.loc[drug_id, \"best_degree3\"])\n",
    "        \n",
    "    model.fit(Xtrain_drug, y_train_drug)\n",
    "    Xtest_drug = scaler.transform(test_drug[X_columns])\n",
    "        \n",
    "    y_pred = model.predict(Xtest_drug)\n",
    "    results.loc[drug_id, \"pred_y\"]= y_pred\n",
    "\n",
    "results[\"abs_error\"] = abs(results[\"y\"] - results[\"pred_y\"])\n",
    "results[\"rel_error\"] = abs(results[\"y\"] - results[\"pred_y\"])*100/results[\"y\"]\n",
    "abs_errors_3 = abs(results[\"y\"] - results[\"pred_y\"])\n",
    "\n",
    "print(\"\\nMRE:\", round(results[\"rel_error\"].mean(), 1), \"+/-\", round(results[\"rel_error\"].std(), 1))\n",
    "print(\"\\nMAE:\", round(results[\"abs_error\"].mean(), 3), \"+/-\", round(results[\"abs_error\"].std(), 3))\n",
    "print(\"\")\n",
    "print(train_df_50.shape, test_df_50.shape)\n",
    "del train_df_50\n",
    "del test_df_50"
   ]
  },
  {
   "cell_type": "code",
   "execution_count": 17,
   "metadata": {},
   "outputs": [
    {
     "name": "stdout",
     "output_type": "stream",
     "text": [
      "Restriction by R2\n"
     ]
    },
    {
     "data": {
      "image/png": "[encoded data removed]",
      "text/plain": [
       "<Figure size 288x288 with 1 Axes>"
      ]
     },
     "metadata": {
      "needs_background": "light"
     },
     "output_type": "display_data"
    }
   ],
   "source": [
    "print(\"Restriction by R2\")\n",
    "plt.figure(figsize=(4, 4))\n",
    "sns.boxplot(x = \"DRUG_ID\", y = \"abs_error\", data = results.reset_index())\n",
    "\n",
    "plt.xticks(rotation = 45, fontsize=12)\n",
    "plt.xticks(fontsize=12)\n",
    "plt.yticks(fontsize=12)\n",
    "plt.ylabel(\"Absolute error\", fontsize=12)\n",
    "plt.savefig(\"coef_1_4.png\", bbox_inches='tight');"
   ]
  },
  {
   "cell_type": "markdown",
   "metadata": {},
   "source": [
    "### Feature importance"
   ]
  },
  {
   "cell_type": "markdown",
   "metadata": {},
   "source": [
    "RFE feature selection is possible only for the linear kernel!!!\n",
    "<br>Therefore we need to read the data with the best hyperparameters for linear model\n",
    "The best variant seems to be SVR Linear"
   ]
  },
  {
   "cell_type": "code",
   "execution_count": null,
   "metadata": {},
   "outputs": [],
   "source": [
    "from sklearn.feature_selection import RFE\n",
    "from sklearn.svm import SVR\n",
    "\n",
    "df = pd.read_csv(_FOLDER+ \"Linear_SVR_coef1.csv\").rename(columns={\"Unnamed: 0\": \"DRUG_ID\"})\n",
    "\n",
    "hyperparameters_rfe = df[['DRUG_ID', 'best_C3', 'best_epsilon3']].set_index(\"DRUG_ID\")\n",
    "# best.to_csv(_FOLDER+\"best_model_coef_\" +str(i)+ \".csv\")\n",
    "hyperparameters_rfe"
   ]
  },
  {
   "cell_type": "code",
   "execution_count": null,
   "metadata": {},
   "outputs": [],
   "source": [
    "# testing of the approach\n",
    "\n",
    "drug_id =170\n",
    "    \n",
    "train_drug = train_df_50.loc[drug_id,:]\n",
    "test_drug = test_df_50.loc[drug_id,:]\n",
    "y_train_drug = train_drug[\"param_1\"].values\n",
    "y_test_drug =  test_drug[\"param_1\"].values\n",
    "    \n",
    "X_columns = X_feat_dict[data_set]\n",
    "scaler = MinMaxScaler().fit(train_drug[X_columns])\n",
    "Xtrain_drug = scaler.transform(train_drug[X_columns])\n",
    "estimator = SVR(kernel = \"linear\", \n",
    "                    C = hyperparameters_rfe.loc[drug_id, 'best_C3'],\n",
    "                    epsilon = hyperparameters_rfe.loc[drug_id,'best_epsilon3'])\n",
    "estimator.fit(Xtrain_drug, y_train_drug)\n",
    "sum(abs(estimator.coef_[0])>0.01)"
   ]
  },
  {
   "cell_type": "markdown",
   "metadata": {},
   "source": [
    "## RFE on original data"
   ]
  },
  {
   "cell_type": "code",
   "execution_count": null,
   "metadata": {},
   "outputs": [],
   "source": [
    "with open(_FOLDER + \"drug_ids_50.txt\", 'r') as f:\n",
    "    drug_ids_50 = [np.int32(line.rstrip('\\n')) for line in f]\n",
    "\n",
    "\n",
    "all_columns = X_cancer_cell_lines + X_PubChem_properties + X_targets + X_target_pathway +[\"MAX_CONC\"]\n",
    "\n",
    "train_df = pd.read_csv(_FOLDER+\"train08_merged_fitted_sigmoid4_123_with_drugs_properties_min10.csv\").drop([\"Unnamed: 0\",\"Unnamed: 0.1\"], axis=1)\n",
    "test_df = pd.read_csv(_FOLDER+\"test02_merged_fitted_sigmoid4_123_with_drugs_properties_min10.csv\").drop([\"Unnamed: 0\",\"Unnamed: 0.1\"], axis=1)               \n",
    "\n",
    "train_df_50 = train_df.set_index(\"DRUG_ID\").loc[drug_ids_50, :].copy()\n",
    "test_df_50 = test_df.set_index(\"DRUG_ID\").loc[drug_ids_50, :].copy()\n",
    "\n",
    "df_features = pd.DataFrame(index=drug_ids_50)\n",
    "most_important = {}\n",
    "\n",
    "for drug_id in drug_ids_50:\n",
    "    drug_name = train_df_50.loc[drug_id, \"Drug_Name\"].values[0]\n",
    "    \n",
    "    train_drug = train_df_50.loc[drug_id,:]\n",
    "    test_drug = test_df_50.loc[drug_id,:]\n",
    "    y_train_drug = train_drug[\"param_1\"].values\n",
    "    y_test_drug =  test_drug[\"param_1\"].values\n",
    "    \n",
    "    X_columns = X_feat_dict[data_set]\n",
    "    scaler = MinMaxScaler().fit(train_drug[X_columns])\n",
    "    Xtrain_drug = scaler.transform(train_drug[X_columns])\n",
    "        \n",
    "    estimator = SVR(kernel = \"linear\", \n",
    "                    C = hyperparameters_rfe.loc[drug_id, 'best_C3'],\n",
    "                    epsilon = hyperparameters_rfe.loc[drug_id,'best_epsilon3'])\n",
    "    estimator.fit(Xtrain_drug, y_train_drug)\n",
    "    \n",
    "    most_important[drug_id] = np.array(X_columns)[selector.support_]\n",
    "    df_features.loc[drug_id, \"zero\"] = len(estimator.coef_[estimator.coef_==0])\n",
    "    df_features.loc[drug_id, \"max\"] = round(abs(estimator.coef_[0]).max(),3)\n",
    "    df_features.loc[drug_id, \"more_0_01\"] =sum(abs(estimator.coef_[0])>0.01)\n",
    "    \n",
    "df_features[\"zero\"] = df_features[\"zero\"].astype('int32')\n",
    "df_features[\"more_0_01\"] = df_features[\"more_0_01\"].astype('int32')\n",
    "df_features"
   ]
  },
  {
   "cell_type": "code",
   "execution_count": null,
   "metadata": {
    "scrolled": true
   },
   "outputs": [],
   "source": [
    "pd.DataFrame(data= [int(df_features[\"zero\"].mean()), df_features[\"max\"].max(), int(df_features[\"more_0_01\"].mean())]).T"
   ]
  },
  {
   "cell_type": "code",
   "execution_count": null,
   "metadata": {
    "scrolled": true
   },
   "outputs": [],
   "source": [
    "all_features = []\n",
    "for key in most_important.keys():\n",
    "    all_features.extend(most_important[key])\n",
    "most_important_features = set(all_features)\n",
    "len(all_features), len(most_important_features)\n",
    "\n",
    "df_features = pd.DataFrame(index = list(most_important_features), columns = drug_ids_50)\n",
    "for drug_id in drug_ids_50:\n",
    "    df_features[drug_id] = 0\n",
    "    df_features.loc[most_important[drug_id], drug_id]=1\n",
    "\n",
    "df_features[\"sum\"]= df_features[drug_ids_50].sum(axis=1)\n",
    "df_features.sort_values(\"sum\", ascending = False)\n",
    "\n",
    "from_CCLE = set(most_important_features)& set(X_cancer_cell_lines)\n",
    "print(\"from CCL:\", len(set(most_important_features)& set(X_cancer_cell_lines)))\n",
    "print(\"from PubChem_properties\",len( set(most_important_features)& set(X_PubChem_properties)))\n",
    "print(\"from targets:\", len(set(most_important_features)& set(X_targets)))\n",
    "print(\"from target pathway:\", len(set(most_important_features)& set(X_target_pathway)))"
   ]
  },
  {
   "cell_type": "markdown",
   "metadata": {},
   "source": [
    "## RFE on reduced by R2 data"
   ]
  },
  {
   "cell_type": "code",
   "execution_count": null,
   "metadata": {},
   "outputs": [],
   "source": [
    "with open(\"results/drug_ids_50_restr.txt\", 'r') as f:\n",
    "    drug_ids_50 = [np.int32(line.rstrip('\\n')) for line in f]\n",
    "\n",
    "# reduced by R2 filtration criteria    \n",
    "train_df = pd.read_csv(\"results/train08_min10_restr.csv\").drop([\"Unnamed: 0\",\"Unnamed: 0.1\"], axis=1)\n",
    "test_df = pd.read_csv(\"results/test02_min10_restr.csv\").drop([\"Unnamed: 0\",\"Unnamed: 0.1\"], axis=1)               \n",
    "\n",
    "train_df_50 = train_df.set_index(\"DRUG_ID\").loc[drug_ids_50, :].copy()\n",
    "test_df_50 = test_df.set_index(\"DRUG_ID\").loc[drug_ids_50, :].copy()\n",
    "\n",
    "df_features_2 = pd.DataFrame(index=drug_ids_50)\n",
    "most_important_2 = {}\n",
    "for drug_id in drug_ids_50:\n",
    "    drug_name = train_df_50.loc[drug_id, \"Drug_Name\"].values[0]\n",
    "    \n",
    "    train_drug = train_df_50.loc[drug_id,:]\n",
    "    test_drug = test_df_50.loc[drug_id,:]\n",
    "    y_train_drug = train_drug[\"param_1\"].values\n",
    "    y_test_drug =  test_drug[\"param_1\"].values\n",
    "    \n",
    "    X_columns = X_feat_dict[data_set]\n",
    "#     print(drug_id, drug_name, len(X_columns))\n",
    "    scaler = MinMaxScaler().fit(train_drug[X_columns])\n",
    "    Xtrain_drug = scaler.transform(train_drug[X_columns])\n",
    "        \n",
    "    estimator = SVR(kernel = \"linear\", \n",
    "                    C = hyperparameters_rfe.loc[drug_id, 'best_C3'],\n",
    "                    epsilon = hyperparameters_rfe.loc[drug_id,'best_epsilon3'])\n",
    "    estimator.fit(Xtrain_drug, y_train_drug)\n",
    "    df_features_2.loc[drug_id, \"zero\"] = len(estimator.coef_[estimator.coef_==0])\n",
    "    df_features_2.loc[drug_id, \"max\"] = round(abs(estimator.coef_[0]).max(),3)\n",
    "    df_features_2.loc[drug_id, \"more_0_01\"] =sum(abs(estimator.coef_[0])>0.01)\n",
    "\n",
    "del train_df_50\n",
    "del test_df_50\n",
    "\n",
    "df_features_2[\"zero\"] = df_features_2[\"zero\"].astype('int32')\n",
    "df_features_2[\"more_0_01\"] = df_features_2[\"more_0_01\"].astype('int32')\n",
    "df_features_2"
   ]
  },
  {
   "cell_type": "code",
   "execution_count": null,
   "metadata": {},
   "outputs": [],
   "source": [
    "pd.DataFrame(data= [int(df_features_2[\"zero\"].mean()), df_features_2[\"max\"].max(), int(df_features_2[\"more_0_01\"].mean())]).T"
   ]
  },
  {
   "cell_type": "markdown",
   "metadata": {},
   "source": [
    "## Train on reduced data: Restriction for R2 and top50 features subset "
   ]
  },
  {
   "cell_type": "code",
   "execution_count": null,
   "metadata": {},
   "outputs": [],
   "source": [
    "with open(\"results/drug_ids_50_restr.txt\", 'r') as f:\n",
    "    drug_ids_50 = [np.int32(line.rstrip('\\n')) for line in f]\n",
    "\n",
    "# reduced by R2 filtration criteria    \n",
    "train_df = pd.read_csv(\"results/train08_min10_restr.csv\").drop([\"Unnamed: 0\",\"Unnamed: 0.1\"], axis=1)\n",
    "test_df = pd.read_csv(\"results/test02_min10_restr.csv\").drop([\"Unnamed: 0\",\"Unnamed: 0.1\"], axis=1)               \n",
    "\n",
    "train_df_50 = train_df.set_index(\"DRUG_ID\").loc[drug_ids_50, :].copy()\n",
    "test_df_50 = test_df.set_index(\"DRUG_ID\").loc[drug_ids_50, :].copy()\n",
    "\n",
    "\n",
    "results = pd.DataFrame()\n",
    "results[\"y\"] = test_df_50[\"param_1\"]\n",
    "results[\"pred_y\"] = 0\n",
    "\n",
    "for drug_id in drug_ids_50:\n",
    "    drug_name = train_df_50.loc[drug_id, \"Drug_Name\"].values[0]\n",
    "    print(drug_id, drug_name)\n",
    "    train_drug = train_df_50.loc[drug_id,:]\n",
    "    test_drug = test_df_50.loc[drug_id,:]\n",
    "    y_train_drug = train_drug[\"param_1\"].values\n",
    "    y_test_drug =  test_drug[\"param_1\"].values\n",
    "    \n",
    "    #features subset\n",
    "    X_columns = most_important[drug_id]\n",
    "    scaler = MinMaxScaler().fit(train_drug[X_columns])\n",
    "    Xtrain_drug = scaler.transform(train_drug[X_columns])\n",
    "        \n",
    "    model = KernelRidge(kernel = kernel, \n",
    "                        alpha = hyperparameters.loc[drug_id, \"best_alpha3\"], \n",
    "                        gamma = hyperparameters.loc[drug_id, \"best_gamma3\"],\n",
    "                        coef0= hyperparameters.loc[drug_id, \"best_coef03\"], \n",
    "                        degree = hyperparameters.loc[drug_id, \"best_degree3\"])\n",
    "        \n",
    "    model.fit(Xtrain_drug, y_train_drug)\n",
    "    Xtest_drug = scaler.transform(test_drug[X_columns])\n",
    "        \n",
    "    y_pred = model.predict(Xtest_drug)\n",
    "    results.loc[drug_id, \"pred_y\"]= y_pred\n",
    "\n",
    "results[\"abs_error\"] = abs(results[\"y\"] - results[\"pred_y\"])\n",
    "results[\"rel_error\"] = abs(results[\"y\"] - results[\"pred_y\"])*100/results[\"y\"]\n",
    "abs_errors_4 = abs(results[\"y\"] - results[\"pred_y\"])\n",
    "\n",
    "print(\"\\nMRE:\", round(results[\"rel_error\"].mean(), 1), \"+/-\", round(results[\"rel_error\"].std(), 1))\n",
    "print(\"\\nMAE:\", round(results[\"abs_error\"].mean(), 3), \"+/-\", round(results[\"abs_error\"].std(), 3))\n",
    "print(\"\")\n",
    "print(train_df_50.shape, test_df_50.shape)\n",
    "del train_df_50\n",
    "del test_df_50"
   ]
  },
  {
   "cell_type": "markdown",
   "metadata": {},
   "source": [
    "## Training on original data and feature subset"
   ]
  },
  {
   "cell_type": "code",
   "execution_count": null,
   "metadata": {},
   "outputs": [],
   "source": [
    "with open(_FOLDER + \"drug_ids_50.txt\", 'r') as f:\n",
    "    drug_ids_50 = [np.int32(line.rstrip('\\n')) for line in f]\n",
    "\n",
    "\n",
    "all_columns = X_cancer_cell_lines + X_PubChem_properties + X_targets + X_target_pathway +[\"MAX_CONC\"]\n",
    "\n",
    "train_df = pd.read_csv(_FOLDER+\"train08_merged_fitted_sigmoid4_123_with_drugs_properties_min10.csv\").drop([\"Unnamed: 0\",\"Unnamed: 0.1\"], axis=1)\n",
    "test_df = pd.read_csv(_FOLDER+\"test02_merged_fitted_sigmoid4_123_with_drugs_properties_min10.csv\").drop([\"Unnamed: 0\",\"Unnamed: 0.1\"], axis=1)               \n",
    "\n",
    "train_df_50 = train_df.set_index(\"DRUG_ID\").loc[drug_ids_50, :].copy()\n",
    "test_df_50 = test_df.set_index(\"DRUG_ID\").loc[drug_ids_50, :].copy()\n",
    "\n",
    "\n",
    "results = pd.DataFrame()\n",
    "results[\"y\"] = test_df_50[\"param_1\"]\n",
    "results[\"pred_y\"] = 0\n",
    "\n",
    "for drug_id in drug_ids_50:\n",
    "    drug_name = train_df_50.loc[drug_id, \"Drug_Name\"].values[0]\n",
    "    print(drug_id, drug_name)\n",
    "    train_drug = train_df_50.loc[drug_id,:]\n",
    "    test_drug = test_df_50.loc[drug_id,:]\n",
    "    y_train_drug = train_drug[\"param_1\"].values\n",
    "    y_test_drug =  test_drug[\"param_1\"].values\n",
    "    \n",
    "    #features subset\n",
    "    X_columns = most_important[drug_id]\n",
    "    \n",
    "    scaler = MinMaxScaler().fit(train_drug[X_columns])\n",
    "    Xtrain_drug = scaler.transform(train_drug[X_columns])\n",
    "        \n",
    "    model = KernelRidge(kernel = kernel, \n",
    "                        alpha = hyperparameters.loc[drug_id, \"best_alpha3\"], \n",
    "                        gamma = hyperparameters.loc[drug_id, \"best_gamma3\"],\n",
    "                        coef0= hyperparameters.loc[drug_id, \"best_coef03\"], \n",
    "                        degree = hyperparameters.loc[drug_id, \"best_degree3\"])\n",
    "        \n",
    "    model.fit(Xtrain_drug, y_train_drug)\n",
    "    Xtest_drug = scaler.transform(test_drug[X_columns])\n",
    "        \n",
    "    y_pred = model.predict(Xtest_drug)\n",
    "    results.loc[drug_id, \"pred_y\"]= y_pred\n",
    "\n",
    "results[\"abs_error\"] = abs(results[\"y\"] - results[\"pred_y\"])\n",
    "results[\"rel_error\"] = abs(results[\"y\"] - results[\"pred_y\"])*100/results[\"y\"] \n",
    "\n",
    "print(\"MAE:\", round(results[\"abs_error\"].mean(), 3), \"+/-\", round(results[\"abs_error\"].std(), 3))\n",
    "print(\"MRE:\", round(results[\"rel_error\"].mean(), 1), \"+/-\", round(results[\"rel_error\"].std(), 1))"
   ]
  },
  {
   "cell_type": "markdown",
   "metadata": {},
   "source": [
    "### Training on the subset of top50 features and reduced data"
   ]
  },
  {
   "cell_type": "code",
   "execution_count": null,
   "metadata": {},
   "outputs": [],
   "source": [
    "with open(_FOLDER + \"drug_ids_50.txt\", 'r') as f:\n",
    "    drug_ids_50 = [np.int32(line.rstrip('\\n')) for line in f]\n",
    "\n",
    "train_df = pd.read_csv(_FOLDER+\"train08_merged_fitted_sigmoid4_123_with_drugs_properties_min10.csv\").drop([\"Unnamed: 0\",\"Unnamed: 0.1\"], axis=1)\n",
    "test_df = pd.read_csv(_FOLDER+\"test02_merged_fitted_sigmoid4_123_with_drugs_properties_min10.csv\").drop([\"Unnamed: 0\",\"Unnamed: 0.1\"], axis=1)               \n",
    "\n",
    "train_df_50 = train_df.set_index(\"DRUG_ID\").loc[drug_ids_50, :].copy()\n",
    "test_df_50 = test_df.set_index(\"DRUG_ID\").loc[drug_ids_50, :].copy()\n",
    "\n",
    "\n",
    "results = pd.DataFrame()\n",
    "results[\"y\"] = test_df_50[\"param_1\"]\n",
    "results[\"pred_y\"] = 0\n",
    "\n",
    "for drug_id in drug_ids_50:\n",
    "    drug_name = train_df_50.loc[drug_id, \"Drug_Name\"].values[0]\n",
    "    print(drug_id, drug_name)\n",
    "    train_drug = train_df_50.loc[drug_id,:]\n",
    "    test_drug = test_df_50.loc[drug_id,:]\n",
    "    y_train_drug = train_drug[\"param_1\"].values\n",
    "    y_test_drug =  test_drug[\"param_1\"].values\n",
    "    \n",
    "    X_columns = most_important[drug_id]\n",
    "    scaler = MinMaxScaler().fit(train_drug[X_columns])\n",
    "    Xtrain_drug = scaler.transform(train_drug[X_columns])\n",
    "        \n",
    "    model = KernelRidge(kernel = kernel, \n",
    "                        alpha = hyperparameters.loc[drug_id, \"best_alpha3\"], \n",
    "                        gamma = hyperparameters.loc[drug_id, \"best_gamma3\"],\n",
    "                        coef0= hyperparameters.loc[drug_id, \"best_coef03\"], \n",
    "                        degree = hyperparameters.loc[drug_id, \"best_degree3\"])\n",
    "        \n",
    "    model.fit(Xtrain_drug, y_train_drug)\n",
    "    Xtest_drug = scaler.transform(test_drug[X_columns])\n",
    "        \n",
    "    y_pred = model.predict(Xtest_drug)\n",
    "    results.loc[drug_id, \"pred_y\"]= y_pred\n",
    "\n",
    "results[\"abs_error\"] = abs(results[\"y\"] - results[\"pred_y\"])\n",
    "results[\"rel_error\"] = abs(results[\"y\"] - results[\"pred_y\"])*100/results[\"y\"] \n",
    "\n",
    "print(\"MAE:\", round(results[\"abs_error\"].mean(), 3), \"+/-\", round(results[\"abs_error\"].std(), 3))\n",
    "print(\"MRE:\", round(results[\"rel_error\"].mean(), 1), \"+/-\", round(results[\"rel_error\"].std(), 1))"
   ]
  }
 ],
 "metadata": {
  "kernelspec": {
   "display_name": "myspark",
   "language": "python",
   "name": "myspark"
  },
  "language_info": {
   "codemirror_mode": {
    "name": "ipython",
    "version": 3
   },
   "file_extension": ".py",
   "mimetype": "text/x-python",
   "name": "python",
   "nbconvert_exporter": "python",
   "pygments_lexer": "ipython3",
   "version": "3.6.10"
  }
 },
 "nbformat": 4,
 "nbformat_minor": 4
}
