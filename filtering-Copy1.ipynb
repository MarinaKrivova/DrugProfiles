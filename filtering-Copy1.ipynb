{
 "cells": [
  {
   "cell_type": "code",
   "execution_count": 1,
   "metadata": {},
   "outputs": [],
   "source": [
    "import pandas as pd\n",
    "import numpy as np\n",
    "from scipy import stats\n",
    "from scipy.stats import norm\n",
    "import seaborn as sns\n",
    "import matplotlib.pyplot as plt\n",
    "%matplotlib inline\n",
    "from sklearn.metrics import r2_score, auc\n",
    "_FOLDER = \"./data/\""
   ]
  },
  {
   "cell_type": "code",
   "execution_count": 2,
   "metadata": {},
   "outputs": [],
   "source": [
    "import os\n",
    "import gc\n",
    "import warnings\n",
    "warnings.filterwarnings(\"ignore\")\n",
    "from scipy.optimize import curve_fit\n",
    "from scipy.optimize import leastsq\n",
    "import scipy.optimize as opt\n",
    "from tqdm import tqdm"
   ]
  },
  {
   "cell_type": "code",
   "execution_count": 3,
   "metadata": {},
   "outputs": [
    {
     "name": "stdout",
     "output_type": "stream",
     "text": [
      "['Drug_Features2.csv', 'Cell_Lines_Details.csv', 'Drug_Features.csv', 'Cell_Line_Features_PANCAN_simple_MOBEM.xlsx', 'Cell_Line_Features_PANCAN_simple_MOBEM.tsv', 'normalised_dose_response_data.csv']\n"
     ]
    }
   ],
   "source": [
    "import os\n",
    "print(os.listdir(\"data\"))"
   ]
  },
  {
   "cell_type": "raw",
   "metadata": {},
   "source": [
    "Cell_Line_Features_PANCAN_simple_MOBEM.xlsx and Cell_Line_Features_PANCAN_simple_MOBEM.tsv are the same!!!"
   ]
  },
  {
   "cell_type": "markdown",
   "metadata": {},
   "source": [
    "### normalised_dose_response_data.csv"
   ]
  },
  {
   "cell_type": "code",
   "execution_count": 4,
   "metadata": {},
   "outputs": [
    {
     "data": {
      "text/plain": [
       "(225384, 44)"
      ]
     },
     "execution_count": 4,
     "metadata": {},
     "output_type": "execute_result"
    }
   ],
   "source": [
    "drug_curves = pd.read_csv(_FOLDER+\"normalised_dose_response_data.csv\")\n",
    "drug_curves.shape"
   ]
  },
  {
   "cell_type": "code",
   "execution_count": 5,
   "metadata": {},
   "outputs": [
    {
     "data": {
      "text/html": [
       "<div>\n",
       "<style scoped>\n",
       "    .dataframe tbody tr th:only-of-type {\n",
       "        vertical-align: middle;\n",
       "    }\n",
       "\n",
       "    .dataframe tbody tr th {\n",
       "        vertical-align: top;\n",
       "    }\n",
       "\n",
       "    .dataframe thead th {\n",
       "        text-align: right;\n",
       "    }\n",
       "</style>\n",
       "<table border=\"1\" class=\"dataframe\">\n",
       "  <thead>\n",
       "    <tr style=\"text-align: right;\">\n",
       "      <th></th>\n",
       "      <th>Unnamed: 0</th>\n",
       "      <th>CELL_LINE_NAME</th>\n",
       "      <th>COSMIC_ID</th>\n",
       "      <th>DRUG_ID</th>\n",
       "      <th>DRUGID_COSMICID</th>\n",
       "      <th>FOLD_DILUTION</th>\n",
       "      <th>MAX_CONC</th>\n",
       "      <th>fd_num_0</th>\n",
       "      <th>fd_num_1</th>\n",
       "      <th>fd_num_2</th>\n",
       "      <th>...</th>\n",
       "      <th>per_slope_change_7</th>\n",
       "      <th>slope_0</th>\n",
       "      <th>slope_1</th>\n",
       "      <th>slope_2</th>\n",
       "      <th>slope_3</th>\n",
       "      <th>slope_4</th>\n",
       "      <th>slope_5</th>\n",
       "      <th>slope_6</th>\n",
       "      <th>slope_7</th>\n",
       "      <th>slope_8</th>\n",
       "    </tr>\n",
       "  </thead>\n",
       "  <tbody>\n",
       "    <tr>\n",
       "      <th>0</th>\n",
       "      <td>0</td>\n",
       "      <td>HDQ-P1</td>\n",
       "      <td>1290922</td>\n",
       "      <td>332</td>\n",
       "      <td>332_1290922</td>\n",
       "      <td>2</td>\n",
       "      <td>10.240</td>\n",
       "      <td>0</td>\n",
       "      <td>0.111111</td>\n",
       "      <td>0.222222</td>\n",
       "      <td>...</td>\n",
       "      <td>-2.14694</td>\n",
       "      <td>0.354085</td>\n",
       "      <td>-0.371905</td>\n",
       "      <td>0.069255</td>\n",
       "      <td>0.450075</td>\n",
       "      <td>-0.049503</td>\n",
       "      <td>-0.131784</td>\n",
       "      <td>0.246947</td>\n",
       "      <td>-1.239447</td>\n",
       "      <td>1.421566</td>\n",
       "    </tr>\n",
       "    <tr>\n",
       "      <th>1</th>\n",
       "      <td>1</td>\n",
       "      <td>HDQ-P1</td>\n",
       "      <td>1290922</td>\n",
       "      <td>257</td>\n",
       "      <td>257_1290922</td>\n",
       "      <td>2</td>\n",
       "      <td>10.240</td>\n",
       "      <td>0</td>\n",
       "      <td>0.111111</td>\n",
       "      <td>0.222222</td>\n",
       "      <td>...</td>\n",
       "      <td>-30.3283</td>\n",
       "      <td>-0.275239</td>\n",
       "      <td>0.163481</td>\n",
       "      <td>0.586129</td>\n",
       "      <td>0.180903</td>\n",
       "      <td>-0.221430</td>\n",
       "      <td>-0.349017</td>\n",
       "      <td>0.157822</td>\n",
       "      <td>0.087103</td>\n",
       "      <td>-2.554585</td>\n",
       "    </tr>\n",
       "    <tr>\n",
       "      <th>2</th>\n",
       "      <td>2</td>\n",
       "      <td>HDQ-P1</td>\n",
       "      <td>1290922</td>\n",
       "      <td>245</td>\n",
       "      <td>245_1290922</td>\n",
       "      <td>2</td>\n",
       "      <td>40.000</td>\n",
       "      <td>0</td>\n",
       "      <td>0.111111</td>\n",
       "      <td>0.222222</td>\n",
       "      <td>...</td>\n",
       "      <td>-0.618543</td>\n",
       "      <td>-0.394857</td>\n",
       "      <td>-0.615137</td>\n",
       "      <td>0.485215</td>\n",
       "      <td>-0.923687</td>\n",
       "      <td>0.466260</td>\n",
       "      <td>2.837371</td>\n",
       "      <td>-5.409070</td>\n",
       "      <td>-3.468825</td>\n",
       "      <td>-1.323207</td>\n",
       "    </tr>\n",
       "    <tr>\n",
       "      <th>3</th>\n",
       "      <td>3</td>\n",
       "      <td>HDQ-P1</td>\n",
       "      <td>1290922</td>\n",
       "      <td>155</td>\n",
       "      <td>155_1290922</td>\n",
       "      <td>2</td>\n",
       "      <td>0.512</td>\n",
       "      <td>0</td>\n",
       "      <td>0.111111</td>\n",
       "      <td>0.222222</td>\n",
       "      <td>...</td>\n",
       "      <td>1.14591</td>\n",
       "      <td>0.791510</td>\n",
       "      <td>-0.964611</td>\n",
       "      <td>1.238764</td>\n",
       "      <td>1.046952</td>\n",
       "      <td>-0.652559</td>\n",
       "      <td>-1.921061</td>\n",
       "      <td>-0.541266</td>\n",
       "      <td>-0.480877</td>\n",
       "      <td>-1.031916</td>\n",
       "    </tr>\n",
       "    <tr>\n",
       "      <th>4</th>\n",
       "      <td>4</td>\n",
       "      <td>HDQ-P1</td>\n",
       "      <td>1290922</td>\n",
       "      <td>192</td>\n",
       "      <td>192_1290922</td>\n",
       "      <td>2</td>\n",
       "      <td>16.000</td>\n",
       "      <td>0</td>\n",
       "      <td>0.111111</td>\n",
       "      <td>0.222222</td>\n",
       "      <td>...</td>\n",
       "      <td>1.53355</td>\n",
       "      <td>0.317413</td>\n",
       "      <td>0.044115</td>\n",
       "      <td>-0.604783</td>\n",
       "      <td>0.510820</td>\n",
       "      <td>-0.431190</td>\n",
       "      <td>0.575779</td>\n",
       "      <td>2.380415</td>\n",
       "      <td>-0.793585</td>\n",
       "      <td>-2.010587</td>\n",
       "    </tr>\n",
       "  </tbody>\n",
       "</table>\n",
       "<p>5 rows × 44 columns</p>\n",
       "</div>"
      ],
      "text/plain": [
       "   Unnamed: 0 CELL_LINE_NAME  COSMIC_ID  DRUG_ID DRUGID_COSMICID  \\\n",
       "0           0         HDQ-P1    1290922      332     332_1290922   \n",
       "1           1         HDQ-P1    1290922      257     257_1290922   \n",
       "2           2         HDQ-P1    1290922      245     245_1290922   \n",
       "3           3         HDQ-P1    1290922      155     155_1290922   \n",
       "4           4         HDQ-P1    1290922      192     192_1290922   \n",
       "\n",
       "   FOLD_DILUTION  MAX_CONC  fd_num_0  fd_num_1  fd_num_2  ...  \\\n",
       "0              2    10.240         0  0.111111  0.222222  ...   \n",
       "1              2    10.240         0  0.111111  0.222222  ...   \n",
       "2              2    40.000         0  0.111111  0.222222  ...   \n",
       "3              2     0.512         0  0.111111  0.222222  ...   \n",
       "4              2    16.000         0  0.111111  0.222222  ...   \n",
       "\n",
       "   per_slope_change_7   slope_0   slope_1   slope_2   slope_3   slope_4  \\\n",
       "0            -2.14694  0.354085 -0.371905  0.069255  0.450075 -0.049503   \n",
       "1            -30.3283 -0.275239  0.163481  0.586129  0.180903 -0.221430   \n",
       "2           -0.618543 -0.394857 -0.615137  0.485215 -0.923687  0.466260   \n",
       "3             1.14591  0.791510 -0.964611  1.238764  1.046952 -0.652559   \n",
       "4             1.53355  0.317413  0.044115 -0.604783  0.510820 -0.431190   \n",
       "\n",
       "    slope_5   slope_6   slope_7   slope_8  \n",
       "0 -0.131784  0.246947 -1.239447  1.421566  \n",
       "1 -0.349017  0.157822  0.087103 -2.554585  \n",
       "2  2.837371 -5.409070 -3.468825 -1.323207  \n",
       "3 -1.921061 -0.541266 -0.480877 -1.031916  \n",
       "4  0.575779  2.380415 -0.793585 -2.010587  \n",
       "\n",
       "[5 rows x 44 columns]"
      ]
     },
     "execution_count": 5,
     "metadata": {},
     "output_type": "execute_result"
    }
   ],
   "source": [
    "drug_curves.head()"
   ]
  },
  {
   "cell_type": "code",
   "execution_count": 6,
   "metadata": {},
   "outputs": [],
   "source": [
    "conc_columns= [\"fd_num_\"+str(i) for i in range(10)]\n",
    "response_norm = ['norm_cells_'+str(i) for i in range(10)]"
   ]
  },
  {
   "cell_type": "code",
   "execution_count": 8,
   "metadata": {},
   "outputs": [],
   "source": [
    "def show_response_curves(df, plots_in_row, plots_in_column, x_columns, y_columns, start_index=0, indexes=[],\n",
    "                         fitting_function =None, fitting_parameters =None):\n",
    "    \n",
    "    fig = plt.figure(figsize=(14, 11))\n",
    "    fig.subplots_adjust(hspace=0.4, wspace=0.4)\n",
    "    n_plots= plots_in_row*plots_in_column\n",
    "    \n",
    "    if len(indexes) ==0:\n",
    "        indexes =df.index[start_index : start_index+n_plots]\n",
    "        \n",
    "    try:\n",
    "        for i, ind in list(enumerate(indexes)):\n",
    "            x = df.loc[ind, x_columns]\n",
    "            y = df.loc[ind, y_columns]\n",
    "            auc_score = auc(x, y)\n",
    "                \n",
    "            ax = fig.add_subplot(plots_in_row, plots_in_column, i+1)\n",
    "            ax.scatter(x,y)\n",
    "            ax.set_title(str(ind)+\"_\"+str(df.loc[ind, \"DRUG_ID\"])+\"_\"+df.loc[ind, \"CELL_LINE_NAME\"]+\" AUC: \"+ str(round(auc_score, 4)))\n",
    "            ax.set_xlabel(\"Scaled dosage\")\n",
    "            ax.set_ylabel(\"Normalised response\")\n",
    "            if fitting_function:\n",
    "                ax2 = ax.twinx()\n",
    "                x2 = np.linspace(0, 1, 10)\n",
    "                fit_param =df.loc[ind, fitting_parameters]\n",
    "                y2 = fitting_function(x2, *fit_param)\n",
    "                ax2.plot(x2, y2, label= \"R^2= %0.4f\"% r2_score(y, y2))\n",
    "                ax2.legend()\n",
    "    except:\n",
    "        print(\"ERROR: Number of indexes does not correspond to number of graphs to plot\")"
   ]
  },
  {
   "cell_type": "code",
   "execution_count": 9,
   "metadata": {},
   "outputs": [
    {
     "data": {
      "image/png": "[encoded data removed]",
      "text/plain": [
       "<Figure size 1008x792 with 9 Axes>"
      ]
     },
     "metadata": {
      "needs_background": "light"
     },
     "output_type": "display_data"
    }
   ],
   "source": [
    "show_response_curves(drug_curves, plots_in_row=3, plots_in_column=3, x_columns=conc_columns, \n",
    "                     y_columns= response_norm, start_index=0, indexes=drug_curves.index[10:19])"
   ]
  },
  {
   "cell_type": "markdown",
   "metadata": {},
   "source": [
    "### Filtering"
   ]
  },
  {
   "cell_type": "code",
   "execution_count": 10,
   "metadata": {},
   "outputs": [],
   "source": [
    "def filtering_before_fitting(df, first_columns_to_compare = [1, 2], last_columns_to_compare = [-1, -2],\n",
    "             tolerance=0.05, first_points_lower_limit = 0.8, last_points_upper_limit = 0.4):\n",
    "    \"\"\"\n",
    "    tolerance =0.05 values to ensure the points form a plateu\n",
    "    first_columns_to_compare = [1, 2]  - first columns two columns\n",
    "    last_columns_to_compare = [-1, -2] - last two columns\n",
    "    first_points_lower_limit = 0.8, \n",
    "    last_points_upper_limit = 0.4\n",
    "    \"\"\"\n",
    "    df = df.copy()\n",
    "    print(\"Original dataset:\", df.shape)\n",
    "    \n",
    "    # 1. Ensure that all the response are less than 1\n",
    "\n",
    "    index_row_more_than_1 = []\n",
    "    for col in response_norm:\n",
    "        if sum(df[col]>1)>0:\n",
    "            index_row_more_than_1.extend(df[df[col]>1].index)\n",
    "        \n",
    "    index_row_less_than_1 = set(df.index) - set(index_row_more_than_1)\n",
    "    df = df.loc[index_row_less_than_1, :].copy()\n",
    "    \n",
    "    print(\"\\n 1st stage: Ensure that all the response are less than 1\")\n",
    "    print(\"1st stage filtration: Filtered dataset:\", df.shape)\n",
    "    \n",
    "    # 2. Ensure that first and last points form a plateu\n",
    "    # the minimal number of points are specified in the function arguments\n",
    "    # by default, two points for both lpateus are considered\n",
    "\n",
    "    df[\"dif_first\"]=abs(df[response_norm[first_columns_to_compare[0]-1]]\\\n",
    "                                     - df[response_norm[first_columns_to_compare[1]-1]])\n",
    "    df[\"dif_last\"]=abs(df[response_norm[last_columns_to_compare[0]]] \\\n",
    "                                        - df[response_norm[last_columns_to_compare[1]]])\n",
    "\n",
    "    df = df[(df[\"dif_first\"]<= tolerance)\n",
    "                           &(df[\"dif_last\"]<= tolerance)]\n",
    "    print(\"\\n2d stage: Ensure that first and last points form a plateu\")\n",
    "    print(\"2d stage filtration: Filtered dataset:\", df.shape)\n",
    "    \n",
    "    # 3. Specify location of the plateus - first_points_lower_limit and last_points_upper_limit\n",
    "    df = df[(df[response_norm[1]]>first_points_lower_limit) \n",
    "                         & (df[response_norm[-1]]<last_points_upper_limit)]\n",
    "    print(\"\\n3d stage: first_points_lower_limit and last_points_upper_limit\")\n",
    "    print(\"3d stage filtration: Filtered dataset:\", df.shape)\n",
    "    \n",
    "    return df"
   ]
  },
  {
   "cell_type": "code",
   "execution_count": 11,
   "metadata": {},
   "outputs": [],
   "source": [
    "def fsigmoid(x, a, b):\n",
    "    return 1.0 / (1.0 + np.exp(-a*(x-b)))\n",
    "\n",
    "def sigmoid_Vis(x, p, s):\n",
    "    \"\"\" x - dosage [0, 1],\n",
    "    p - position,\n",
    "    s - shape parameter,\n",
    "    \"\"\"\n",
    "    return 1.0 / (1.0 + np.exp((x-p)/s))\n",
    "\n",
    "def sigmoid_4_param(x, x0, L, k, b):\n",
    "    y = 1/ (L + np.exp(-k*(x-x0)))+b\n",
    "    return y\n",
    "\n",
    "def sigmoid_3_param(x, x0, k, b):\n",
    "    y = 1/ (1 + np.exp(-k*(x-x0)))+b\n",
    "    return y\n",
    "\n",
    "\n",
    "def logistic4(x, A, B, C, D):\n",
    "    \"\"\" https://people.duke.edu/~ccc14/pcfb/analysis.html\n",
    "    4PL logistic equation.\"\"\"\n",
    "    return ((A-D)/(1.0+((x/C)**B))) + D\n",
    "\n",
    "def ll4(x, b, c, d, e):\n",
    "    ''' https://gist.github.com/yannabraham/5f210fed773785d8b638\n",
    "    This function is basically a copy of the LL.4 function from the R drc package with\n",
    "     - b: hill slope\n",
    "     - c: min response\n",
    "     - d: max response\n",
    "     - e: EC50'''\n",
    "    return(c+(d-c)/(1+np.exp(b*(np.log(x)-np.log(e)))))\n",
    "\n",
    "def ll4_R(x, b, c, d, e):\n",
    "    \"\"\" LL.4 function from R\n",
    "    https://www.rdocumentation.org/packages/drc/versions/2.5-12/topics/LL.4\n",
    "    \"\"\"\n",
    "    return c + (d-c)/(1+np.exp(b*np.log(x)- e))\n",
    "\n",
    "\n",
    "def logLogistR(x, E_inf, EC50, HS):\n",
    "    \"\"\"Python analog for PharmacoGx/R/LogLogisticRegression.R\n",
    "    https://github.com/bhklab/PharmacoGx/blob/master/R/LogLogisticRegression.R\n",
    "    E = E_inf + (1 - E_inf)/(1 + (x/EC50)^HS)\n",
    "    \"\"\"\n",
    "    return (E_inf+ (1-E_inf)/(1+(np.log10(x)/EC50)**HS))\n",
    "\n",
    "\n",
    "\n",
    "def fit_curve_fit(fitting_function, x, y, parameters_guess=[], to_plot = False):\n",
    "    parameters, p_covariance = curve_fit(fitting_function, x, y, parameters_guess)\n",
    "    y_fit = fitting_function(x2, *parameters)\n",
    "    r2 = r2_score(y, y_fit)\n",
    "\n",
    "    if to_plot:\n",
    "        print(\"Fitting parameters:\", *parameters)\n",
    "        plt.scatter(x, y)\n",
    "        x2 = np.linspace(0, 1, 10)\n",
    "        y2 = fitting_function(x2, *parameters)\n",
    "        plt.plot(x2, y2, \"blue\", label = \"R^2= %0.5f\"%r2)   \n",
    "        plt.title('Least-squares fit')\n",
    "        plt.legend();\n",
    "    return r2, parameters\n",
    "        \n",
    "def residuals(p, x, y, function_to_fit):\n",
    "    \"\"\"Deviations of data from fitted curve\"\"\"\n",
    "    err = y-function_to_fit(x, *p)\n",
    "    return err\n",
    "\n",
    "def fit_lsq(function_to_fit, x, y, parameters_guess =[], to_plot = False):\n",
    "    param_lsq = leastsq(residuals, parameters_guess, args=(x, y, function_to_fit))\n",
    "    y_fit = function_to_fit(x, *param_lsq[0])\n",
    "    r2 = r2_score(y, y_fit)\n",
    "    if to_plot:\n",
    "        print(\"Fitting parameters:\", *param_lsq[0])\n",
    "        plt.scatter(x, y)\n",
    "        x2 = np.linspace(0, 1, 10)\n",
    "        y2 = fitting_function(x2, *parameters)\n",
    "        plt.plot(x2, y2, \"blue\", label = \"R^2= %0.5f\"%r2)   \n",
    "        plt.title('Least-squares fit')\n",
    "        plt.legend();\n",
    "    return r2\n",
    "\n",
    "def filtering_by_fitting_column(df, indexes, fitting_function, parameters_guess=[], default_param_number=0):\n",
    "    \"\"\"\n",
    "    intial parameter guess [max(y), np.median(x), 1, min(y)]\n",
    "    potentially they can be different for each data row, but as soon as we have scaled and filtered data\n",
    "    we can use by default [1.0, 0.4, 1.0, .0] \n",
    "    \"\"\"\n",
    "    r2_scores = np.zeros(len(indexes))\n",
    "    X = df.loc[indexes, conc_columns].values.astype(np.float32)\n",
    "    Y = df.loc[indexes, response_norm].values.astype(np.float32)\n",
    "    fitting_parameters = [None]*len(indexes)\n",
    "    \n",
    "    if default_param_number==4:\n",
    "        parameters_guess = [1.0, 0.4, 1.0, .0] \n",
    "    elif default_param_number ==3:\n",
    "        parameters_guess = [1.0, 0.4, .0] \n",
    "    else:\n",
    "        pass\n",
    "    \n",
    "    for i in tqdm(range(len(indexes))):\n",
    "        x = X[i, :]\n",
    "        y = Y[i, :]\n",
    "    \n",
    "        try:\n",
    "            r2_scores[i], fitting_parameters[i] = fit_curve_fit(fitting_function, x, y, parameters_guess = parameters_guess)\n",
    "            \n",
    "        except:\n",
    "            r2_scores[i] = 0\n",
    "    return r2_scores, fitting_parameters"
   ]
  },
  {
   "cell_type": "code",
   "execution_count": 24,
   "metadata": {},
   "outputs": [
    {
     "name": "stdout",
     "output_type": "stream",
     "text": [
      "Original dataset: (225384, 44)\n",
      "\n",
      " 1st stage: Ensure that all the response are less than 1\n",
      "1st stage filtration: Filtered dataset: (63325, 44)\n",
      "\n",
      "2d stage: Ensure that first and last points form a plateu\n",
      "2d stage filtration: Filtered dataset: (6321, 46)\n",
      "\n",
      "3d stage: first_points_lower_limit and last_points_upper_limit\n",
      "3d stage filtration: Filtered dataset: (2776, 46)\n",
      "CPU times: user 831 ms, sys: 166 ms, total: 996 ms\n",
      "Wall time: 1.01 s\n"
     ]
    }
   ],
   "source": [
    "%%time\n",
    "df = filtering_before_fitting(drug_curves)"
   ]
  },
  {
   "cell_type": "code",
   "execution_count": 25,
   "metadata": {},
   "outputs": [
    {
     "data": {
      "text/plain": [
       "(2776, 46)"
      ]
     },
     "execution_count": 25,
     "metadata": {},
     "output_type": "execute_result"
    }
   ],
   "source": [
    "df.shape"
   ]
  },
  {
   "cell_type": "code",
   "execution_count": 26,
   "metadata": {},
   "outputs": [
    {
     "name": "stderr",
     "output_type": "stream",
     "text": [
      "100%|██████████| 2776/2776 [00:07<00:00, 393.25it/s]"
     ]
    },
    {
     "name": "stdout",
     "output_type": "stream",
     "text": [
      "(2776, 48)\n",
      "CPU times: user 6.91 s, sys: 241 ms, total: 7.15 s\n",
      "Wall time: 7.07 s\n"
     ]
    },
    {
     "name": "stderr",
     "output_type": "stream",
     "text": [
      "\n"
     ]
    }
   ],
   "source": [
    "%%time\n",
    "r2, fit_param = filtering_by_fitting_column(df, df.index, fitting_function = sigmoid_4_param, default_param_number=4)\n",
    "df[\"fitting_r2_s4\"] = r2\n",
    "df[\"fitting_param_s4\"] = fit_param\n",
    "# df= df[df[\"fitting_r2_s4\"]!=0]\n",
    "print(df.shape)"
   ]
  },
  {
   "cell_type": "code",
   "execution_count": 27,
   "metadata": {},
   "outputs": [
    {
     "data": {
      "text/html": [
       "<div>\n",
       "<style scoped>\n",
       "    .dataframe tbody tr th:only-of-type {\n",
       "        vertical-align: middle;\n",
       "    }\n",
       "\n",
       "    .dataframe tbody tr th {\n",
       "        vertical-align: top;\n",
       "    }\n",
       "\n",
       "    .dataframe thead th {\n",
       "        text-align: right;\n",
       "    }\n",
       "</style>\n",
       "<table border=\"1\" class=\"dataframe\">\n",
       "  <thead>\n",
       "    <tr style=\"text-align: right;\">\n",
       "      <th></th>\n",
       "      <th>fitting_r2_s4</th>\n",
       "      <th>fitting_param_s4</th>\n",
       "    </tr>\n",
       "  </thead>\n",
       "  <tbody>\n",
       "    <tr>\n",
       "      <th>131120</th>\n",
       "      <td>0.0</td>\n",
       "      <td>None</td>\n",
       "    </tr>\n",
       "    <tr>\n",
       "      <th>60</th>\n",
       "      <td>0.0</td>\n",
       "      <td>None</td>\n",
       "    </tr>\n",
       "    <tr>\n",
       "      <th>85</th>\n",
       "      <td>0.0</td>\n",
       "      <td>None</td>\n",
       "    </tr>\n",
       "    <tr>\n",
       "      <th>131171</th>\n",
       "      <td>0.0</td>\n",
       "      <td>None</td>\n",
       "    </tr>\n",
       "    <tr>\n",
       "      <th>112</th>\n",
       "      <td>0.0</td>\n",
       "      <td>None</td>\n",
       "    </tr>\n",
       "    <tr>\n",
       "      <th>...</th>\n",
       "      <td>...</td>\n",
       "      <td>...</td>\n",
       "    </tr>\n",
       "    <tr>\n",
       "      <th>130643</th>\n",
       "      <td>0.0</td>\n",
       "      <td>None</td>\n",
       "    </tr>\n",
       "    <tr>\n",
       "      <th>130792</th>\n",
       "      <td>0.0</td>\n",
       "      <td>None</td>\n",
       "    </tr>\n",
       "    <tr>\n",
       "      <th>130905</th>\n",
       "      <td>0.0</td>\n",
       "      <td>None</td>\n",
       "    </tr>\n",
       "    <tr>\n",
       "      <th>130920</th>\n",
       "      <td>0.0</td>\n",
       "      <td>None</td>\n",
       "    </tr>\n",
       "    <tr>\n",
       "      <th>130989</th>\n",
       "      <td>0.0</td>\n",
       "      <td>None</td>\n",
       "    </tr>\n",
       "  </tbody>\n",
       "</table>\n",
       "<p>2776 rows × 2 columns</p>\n",
       "</div>"
      ],
      "text/plain": [
       "        fitting_r2_s4 fitting_param_s4\n",
       "131120            0.0             None\n",
       "60                0.0             None\n",
       "85                0.0             None\n",
       "131171            0.0             None\n",
       "112               0.0             None\n",
       "...               ...              ...\n",
       "130643            0.0             None\n",
       "130792            0.0             None\n",
       "130905            0.0             None\n",
       "130920            0.0             None\n",
       "130989            0.0             None\n",
       "\n",
       "[2776 rows x 2 columns]"
      ]
     },
     "execution_count": 27,
     "metadata": {},
     "output_type": "execute_result"
    }
   ],
   "source": [
    "df[[\"fitting_r2_s4\", \"fitting_param_s4\"]]"
   ]
  },
  {
   "cell_type": "code",
   "execution_count": 20,
   "metadata": {},
   "outputs": [
    {
     "name": "stderr",
     "output_type": "stream",
     "text": [
      "0it [00:00, ?it/s]"
     ]
    },
    {
     "name": "stdout",
     "output_type": "stream",
     "text": [
      "(0, 56)\n",
      "CPU times: user 8.89 ms, sys: 3.23 ms, total: 12.1 ms\n",
      "Wall time: 10.3 ms\n"
     ]
    },
    {
     "name": "stderr",
     "output_type": "stream",
     "text": [
      "\n"
     ]
    }
   ],
   "source": [
    "%%time\n",
    "r2, fit_param = filtering_by_fitting_column(df, df.index, fitting_function = sigmoid_3_param, default_param_number=3)\n",
    "df[\"fitting_r2_s3\"] = r2\n",
    "df[\"fitting_param_s3\"] = fit_param\n",
    "df= df[df[\"fitting_r2_s3\"]!=0]\n",
    "print(df.shape)"
   ]
  },
  {
   "cell_type": "code",
   "execution_count": 15,
   "metadata": {},
   "outputs": [
    {
     "name": "stderr",
     "output_type": "stream",
     "text": [
      "0it [00:00, ?it/s]"
     ]
    },
    {
     "name": "stdout",
     "output_type": "stream",
     "text": [
      "(0, 52)\n"
     ]
    },
    {
     "name": "stderr",
     "output_type": "stream",
     "text": [
      "\n"
     ]
    }
   ],
   "source": [
    "r2, fit_param = filtering_by_fitting_column(df, df.index, fitting_function = sigmoid_Vis, parameters_guess = [1, 5])\n",
    "df[\"fitting_r2_svis\"] = r2\n",
    "df[\"fitting_param_svis\"] = fit_param\n",
    "df= df[df[\"fitting_r2_svis\"]!=0]\n",
    "print(df.shape)"
   ]
  },
  {
   "cell_type": "code",
   "execution_count": 16,
   "metadata": {},
   "outputs": [
    {
     "data": {
      "text/html": [
       "<div>\n",
       "<style scoped>\n",
       "    .dataframe tbody tr th:only-of-type {\n",
       "        vertical-align: middle;\n",
       "    }\n",
       "\n",
       "    .dataframe tbody tr th {\n",
       "        vertical-align: top;\n",
       "    }\n",
       "\n",
       "    .dataframe thead th {\n",
       "        text-align: right;\n",
       "    }\n",
       "</style>\n",
       "<table border=\"1\" class=\"dataframe\">\n",
       "  <thead>\n",
       "    <tr style=\"text-align: right;\">\n",
       "      <th></th>\n",
       "      <th>fitting_r2_svis</th>\n",
       "      <th>fitting_param_svis</th>\n",
       "    </tr>\n",
       "  </thead>\n",
       "  <tbody>\n",
       "  </tbody>\n",
       "</table>\n",
       "</div>"
      ],
      "text/plain": [
       "Empty DataFrame\n",
       "Columns: [fitting_r2_svis, fitting_param_svis]\n",
       "Index: []"
      ]
     },
     "execution_count": 16,
     "metadata": {},
     "output_type": "execute_result"
    }
   ],
   "source": [
    "df[[\"fitting_r2_svis\", \"fitting_param_svis\"]].head()"
   ]
  },
  {
   "cell_type": "code",
   "execution_count": 17,
   "metadata": {},
   "outputs": [
    {
     "name": "stderr",
     "output_type": "stream",
     "text": [
      "0it [00:00, ?it/s]\n"
     ]
    },
    {
     "name": "stdout",
     "output_type": "stream",
     "text": [
      "(0, 54)\n"
     ]
    }
   ],
   "source": [
    "r2, fit_param = filtering_by_fitting_column(df, df.index, fitting_function = fsigmoid, parameters_guess = [1, 0.1])\n",
    "df[\"fitting_r2_fs\"] = r2\n",
    "df[\"fitting_param_fs\"] = fit_param\n",
    "df= df[df[\"fitting_r2_fs\"]!=0]\n",
    "print(df.shape)"
   ]
  },
  {
   "cell_type": "code",
   "execution_count": 18,
   "metadata": {},
   "outputs": [
    {
     "name": "stderr",
     "output_type": "stream",
     "text": [
      "0it [00:00, ?it/s]"
     ]
    },
    {
     "name": "stdout",
     "output_type": "stream",
     "text": [
      "(0, 56)\n"
     ]
    },
    {
     "name": "stderr",
     "output_type": "stream",
     "text": [
      "\n"
     ]
    }
   ],
   "source": [
    "r2, fit_param = filtering_by_fitting_column(df, df.index, fitting_function = ll4_R, default_param_number=4)\n",
    "df[\"fitting_r2_ll4\"] = r2\n",
    "df[\"fitting_param_ll4\"] = fit_param\n",
    "df= df[df[\"fitting_r2_ll4\"]!=0]\n",
    "print(df.shape)"
   ]
  },
  {
   "cell_type": "code",
   "execution_count": 19,
   "metadata": {},
   "outputs": [
    {
     "ename": "ValueError",
     "evalue": "low >= high",
     "output_type": "error",
     "traceback": [
      "\u001b[0;31m---------------------------------------------------------------------------\u001b[0m",
      "\u001b[0;31mValueError\u001b[0m                                Traceback (most recent call last)",
      "\u001b[0;32m<ipython-input-19-cb442b37bf30>\u001b[0m in \u001b[0;36m<module>\u001b[0;34m\u001b[0m\n\u001b[1;32m      1\u001b[0m \u001b[0mmax_int\u001b[0m \u001b[0;34m=\u001b[0m \u001b[0mlen\u001b[0m\u001b[0;34m(\u001b[0m\u001b[0mdf\u001b[0m\u001b[0;34m.\u001b[0m\u001b[0mindex\u001b[0m\u001b[0;34m)\u001b[0m\u001b[0;34m\u001b[0m\u001b[0;34m\u001b[0m\u001b[0m\n\u001b[0;32m----> 2\u001b[0;31m \u001b[0mrand_int\u001b[0m \u001b[0;34m=\u001b[0m \u001b[0mnp\u001b[0m\u001b[0;34m.\u001b[0m\u001b[0mrandom\u001b[0m\u001b[0;34m.\u001b[0m\u001b[0mrandint\u001b[0m\u001b[0;34m(\u001b[0m\u001b[0;36m0\u001b[0m\u001b[0;34m,\u001b[0m \u001b[0mmax_int\u001b[0m\u001b[0;34m,\u001b[0m \u001b[0;36m9\u001b[0m\u001b[0;34m)\u001b[0m\u001b[0;34m\u001b[0m\u001b[0;34m\u001b[0m\u001b[0m\n\u001b[0m\u001b[1;32m      3\u001b[0m \u001b[0mindexes_df\u001b[0m\u001b[0;34m=\u001b[0m\u001b[0mdf\u001b[0m\u001b[0;34m.\u001b[0m\u001b[0mindex\u001b[0m\u001b[0;34m[\u001b[0m\u001b[0mrand_int\u001b[0m\u001b[0;34m]\u001b[0m\u001b[0;34m\u001b[0m\u001b[0;34m\u001b[0m\u001b[0m\n\u001b[1;32m      4\u001b[0m \u001b[0;34m\u001b[0m\u001b[0m\n\u001b[1;32m      5\u001b[0m \u001b[0mprint\u001b[0m\u001b[0;34m(\u001b[0m\u001b[0;34m\"Fitting function: sigmoid_4_param\"\u001b[0m\u001b[0;34m)\u001b[0m\u001b[0;34m\u001b[0m\u001b[0;34m\u001b[0m\u001b[0m\n",
      "\u001b[0;32mmtrand.pyx\u001b[0m in \u001b[0;36mnumpy.random.mtrand.RandomState.randint\u001b[0;34m()\u001b[0m\n",
      "\u001b[0;32m_bounded_integers.pyx\u001b[0m in \u001b[0;36mnumpy.random._bounded_integers._rand_int64\u001b[0;34m()\u001b[0m\n",
      "\u001b[0;31mValueError\u001b[0m: low >= high"
     ]
    }
   ],
   "source": [
    "max_int = len(df.index)\n",
    "rand_int = np.random.randint(0, max_int, 9)\n",
    "indexes_df=df.index[rand_int]\n",
    "\n",
    "print(\"Fitting function: sigmoid_4_param\")\n",
    "show_response_curves(df, plots_in_row=3, plots_in_column=3, x_columns=conc_columns, y_columns = response_norm, \n",
    "                     start_index=59, indexes=indexes_df,\n",
    "                    fitting_function = sigmoid_4_param, fitting_parameters =\"fitting_param\")\n",
    "\n",
    "print(\"Fitting function: sigmoid_3_param\")\n",
    "show_response_curves(df, plots_in_row=3, plots_in_column=3, x_columns=conc_columns, y_columns = response_norm, \n",
    "                     start_index=59, indexes=indexes_df,\n",
    "                    fitting_function = sigmoid_3_param, fitting_parameters =\"fitting_param_s3\")\n",
    "\n",
    "print(\"Fitting function: fsigmoid\")\n",
    "show_response_curves(df, plots_in_row=3, plots_in_column=3, x_columns=conc_columns, y_columns = response_norm, \n",
    "                     start_index=59, indexes=indexes_df,\n",
    "                    fitting_function = fsigmoid, fitting_parameters =\"fitting_param_fs\")\n",
    "\n",
    "\n",
    "print(\"Fitting function: LL4\")\n",
    "show_response_curves(df, plots_in_row=3, plots_in_column=3, x_columns=conc_columns, y_columns = response_norm, \n",
    "                     start_index=59, indexes=indexes_df,\n",
    "                    fitting_function = ll4_R, fitting_parameters =\"fitting_param_ll4\")"
   ]
  },
  {
   "cell_type": "code",
   "execution_count": 112,
   "metadata": {},
   "outputs": [
    {
     "data": {
      "text/html": [
       "<div>\n",
       "<style scoped>\n",
       "    .dataframe tbody tr th:only-of-type {\n",
       "        vertical-align: middle;\n",
       "    }\n",
       "\n",
       "    .dataframe tbody tr th {\n",
       "        vertical-align: top;\n",
       "    }\n",
       "\n",
       "    .dataframe thead th {\n",
       "        text-align: right;\n",
       "    }\n",
       "</style>\n",
       "<table border=\"1\" class=\"dataframe\">\n",
       "  <thead>\n",
       "    <tr style=\"text-align: right;\">\n",
       "      <th></th>\n",
       "      <th>fitting_r2_s4</th>\n",
       "      <th>fitting_r2_svis</th>\n",
       "      <th>fitting_r2_fs</th>\n",
       "      <th>fitting_r2_s3</th>\n",
       "      <th>fitting_r2_ll4</th>\n",
       "      <th>better_fitting</th>\n",
       "    </tr>\n",
       "  </thead>\n",
       "  <tbody>\n",
       "    <tr>\n",
       "      <th>131120</th>\n",
       "      <td>0.996467</td>\n",
       "      <td>0.995452</td>\n",
       "      <td>0.995452</td>\n",
       "      <td>0.996302</td>\n",
       "      <td>0.993608</td>\n",
       "      <td>s4</td>\n",
       "    </tr>\n",
       "    <tr>\n",
       "      <th>85</th>\n",
       "      <td>0.997584</td>\n",
       "      <td>0.994659</td>\n",
       "      <td>0.994659</td>\n",
       "      <td>0.995039</td>\n",
       "      <td>0.997801</td>\n",
       "      <td>ll4</td>\n",
       "    </tr>\n",
       "    <tr>\n",
       "      <th>131171</th>\n",
       "      <td>0.997357</td>\n",
       "      <td>0.987070</td>\n",
       "      <td>0.987070</td>\n",
       "      <td>0.997270</td>\n",
       "      <td>0.997515</td>\n",
       "      <td>ll4</td>\n",
       "    </tr>\n",
       "    <tr>\n",
       "      <th>112</th>\n",
       "      <td>0.991678</td>\n",
       "      <td>0.969244</td>\n",
       "      <td>0.969244</td>\n",
       "      <td>0.979949</td>\n",
       "      <td>0.987341</td>\n",
       "      <td>s4</td>\n",
       "    </tr>\n",
       "    <tr>\n",
       "      <th>131208</th>\n",
       "      <td>0.997430</td>\n",
       "      <td>0.881946</td>\n",
       "      <td>0.881946</td>\n",
       "      <td>0.953390</td>\n",
       "      <td>0.997363</td>\n",
       "      <td>s4</td>\n",
       "    </tr>\n",
       "  </tbody>\n",
       "</table>\n",
       "</div>"
      ],
      "text/plain": [
       "        fitting_r2_s4  fitting_r2_svis  fitting_r2_fs  fitting_r2_s3  \\\n",
       "131120       0.996467         0.995452       0.995452       0.996302   \n",
       "85           0.997584         0.994659       0.994659       0.995039   \n",
       "131171       0.997357         0.987070       0.987070       0.997270   \n",
       "112          0.991678         0.969244       0.969244       0.979949   \n",
       "131208       0.997430         0.881946       0.881946       0.953390   \n",
       "\n",
       "        fitting_r2_ll4 better_fitting  \n",
       "131120        0.993608             s4  \n",
       "85            0.997801            ll4  \n",
       "131171        0.997515            ll4  \n",
       "112           0.987341             s4  \n",
       "131208        0.997363             s4  "
      ]
     },
     "execution_count": 112,
     "metadata": {},
     "output_type": "execute_result"
    }
   ],
   "source": [
    "r2_columns = ['fitting_r2_s4', 'fitting_r2_svis', 'fitting_r2_fs', 'fitting_r2_s3', 'fitting_r2_ll4']\n",
    "models = {0: \"s4\", 1: \"svis\", 2: \"fs\", 3:\"s3\", 4:\"ll4\"}\n",
    "\n",
    "df[\"better_fitting\"] = np.argmax(df[r2_columns].values, axis=1)\n",
    "r2_col_res = r2_columns +[\"better_fitting\"]\n",
    "df[\"better_fitting\"] = df[\"better_fitting\"].map(models)\n",
    "df[r2_col_res].head()"
   ]
  },
  {
   "cell_type": "code",
   "execution_count": 115,
   "metadata": {},
   "outputs": [
    {
     "data": {
      "text/html": [
       "<div>\n",
       "<style scoped>\n",
       "    .dataframe tbody tr th:only-of-type {\n",
       "        vertical-align: middle;\n",
       "    }\n",
       "\n",
       "    .dataframe tbody tr th {\n",
       "        vertical-align: top;\n",
       "    }\n",
       "\n",
       "    .dataframe thead th {\n",
       "        text-align: right;\n",
       "    }\n",
       "</style>\n",
       "<table border=\"1\" class=\"dataframe\">\n",
       "  <thead>\n",
       "    <tr style=\"text-align: right;\">\n",
       "      <th></th>\n",
       "      <th>fitting_r2_s4</th>\n",
       "      <th>fitting_r2_svis</th>\n",
       "      <th>fitting_r2_fs</th>\n",
       "      <th>fitting_r2_s3</th>\n",
       "      <th>fitting_r2_ll4</th>\n",
       "    </tr>\n",
       "  </thead>\n",
       "  <tbody>\n",
       "    <tr>\n",
       "      <th>count</th>\n",
       "      <td>2.162000e+03</td>\n",
       "      <td>2162.000000</td>\n",
       "      <td>2162.000000</td>\n",
       "      <td>2162.000000</td>\n",
       "      <td>2162.000000</td>\n",
       "    </tr>\n",
       "    <tr>\n",
       "      <th>mean</th>\n",
       "      <td>9.394125e-01</td>\n",
       "      <td>0.963200</td>\n",
       "      <td>0.963648</td>\n",
       "      <td>0.981854</td>\n",
       "      <td>0.988330</td>\n",
       "    </tr>\n",
       "    <tr>\n",
       "      <th>std</th>\n",
       "      <td>2.137947e-01</td>\n",
       "      <td>0.054174</td>\n",
       "      <td>0.053354</td>\n",
       "      <td>0.027236</td>\n",
       "      <td>0.022150</td>\n",
       "    </tr>\n",
       "    <tr>\n",
       "      <th>min</th>\n",
       "      <td>-5.217151e-08</td>\n",
       "      <td>0.450343</td>\n",
       "      <td>0.450343</td>\n",
       "      <td>0.653780</td>\n",
       "      <td>0.659983</td>\n",
       "    </tr>\n",
       "    <tr>\n",
       "      <th>25%</th>\n",
       "      <td>9.853141e-01</td>\n",
       "      <td>0.957400</td>\n",
       "      <td>0.957977</td>\n",
       "      <td>0.978652</td>\n",
       "      <td>0.987399</td>\n",
       "    </tr>\n",
       "    <tr>\n",
       "      <th>50%</th>\n",
       "      <td>9.942794e-01</td>\n",
       "      <td>0.984155</td>\n",
       "      <td>0.984215</td>\n",
       "      <td>0.990264</td>\n",
       "      <td>0.994034</td>\n",
       "    </tr>\n",
       "    <tr>\n",
       "      <th>75%</th>\n",
       "      <td>9.975892e-01</td>\n",
       "      <td>0.993465</td>\n",
       "      <td>0.993494</td>\n",
       "      <td>0.995859</td>\n",
       "      <td>0.997326</td>\n",
       "    </tr>\n",
       "    <tr>\n",
       "      <th>max</th>\n",
       "      <td>9.999814e-01</td>\n",
       "      <td>0.999899</td>\n",
       "      <td>0.999899</td>\n",
       "      <td>0.999926</td>\n",
       "      <td>0.999981</td>\n",
       "    </tr>\n",
       "  </tbody>\n",
       "</table>\n",
       "</div>"
      ],
      "text/plain": [
       "       fitting_r2_s4  fitting_r2_svis  fitting_r2_fs  fitting_r2_s3  \\\n",
       "count   2.162000e+03      2162.000000    2162.000000    2162.000000   \n",
       "mean    9.394125e-01         0.963200       0.963648       0.981854   \n",
       "std     2.137947e-01         0.054174       0.053354       0.027236   \n",
       "min    -5.217151e-08         0.450343       0.450343       0.653780   \n",
       "25%     9.853141e-01         0.957400       0.957977       0.978652   \n",
       "50%     9.942794e-01         0.984155       0.984215       0.990264   \n",
       "75%     9.975892e-01         0.993465       0.993494       0.995859   \n",
       "max     9.999814e-01         0.999899       0.999899       0.999926   \n",
       "\n",
       "       fitting_r2_ll4  \n",
       "count     2162.000000  \n",
       "mean         0.988330  \n",
       "std          0.022150  \n",
       "min          0.659983  \n",
       "25%          0.987399  \n",
       "50%          0.994034  \n",
       "75%          0.997326  \n",
       "max          0.999981  "
      ]
     },
     "execution_count": 115,
     "metadata": {},
     "output_type": "execute_result"
    }
   ],
   "source": [
    "df[r2_col_res].describe()"
   ]
  },
  {
   "cell_type": "code",
   "execution_count": 121,
   "metadata": {},
   "outputs": [],
   "source": [
    "ll4_min = df['fitting_r2_ll4'].min()\n",
    "df_bad = df[df['fitting_r2_ll4']<0.9]"
   ]
  },
  {
   "cell_type": "code",
   "execution_count": 124,
   "metadata": {},
   "outputs": [
    {
     "name": "stdout",
     "output_type": "stream",
     "text": [
      "Fitting function: sigmoid_Vis\n"
     ]
    },
    {
     "data": {
      "image/png": "[encoded data removed]",
      "text/plain": [
       "<Figure size 1008x792 with 18 Axes>"
      ]
     },
     "metadata": {
      "needs_background": "light"
     },
     "output_type": "display_data"
    }
   ],
   "source": [
    "max_int = len(df.index)\n",
    "rand_int = np.random.randint(0, max_int, 9)\n",
    "indexes_df=df.index[rand_int]\n",
    "\n",
    "print(\"Fitting function: sigmoid_Vis\")\n",
    "show_response_curves(df, plots_in_row=3, plots_in_column=3, x_columns=conc_columns, y_columns = response_norm, \n",
    "                     start_index=0, indexes=indexes_df,\n",
    "                    fitting_function = sigmoid_Vis, fitting_parameters =\"fitting_param_svis\")"
   ]
  },
  {
   "cell_type": "code",
   "execution_count": 113,
   "metadata": {},
   "outputs": [
    {
     "data": {
      "text/plain": [
       "s4     1392\n",
       "ll4     729\n",
       "s3       41\n",
       "Name: better_fitting, dtype: int64"
      ]
     },
     "execution_count": 113,
     "metadata": {},
     "output_type": "execute_result"
    }
   ],
   "source": [
    "df[\"better_fitting\"].value_counts()"
   ]
  },
  {
   "cell_type": "markdown",
   "metadata": {},
   "source": [
    "### Fitting curves"
   ]
  },
  {
   "cell_type": "code",
   "execution_count": 47,
   "metadata": {},
   "outputs": [
    {
     "data": {
      "text/plain": [
       "Int64Index([284], dtype='int64')"
      ]
     },
     "execution_count": 47,
     "metadata": {},
     "output_type": "execute_result"
    }
   ],
   "source": [
    "drug_id = 346\n",
    "cell_line = \"LU-65\"\n",
    "drug_curves[(drug_curves[\"DRUG_ID\"]==drug_id)&(drug_curves[\"CELL_LINE_NAME\"]== cell_line)].index"
   ]
  },
  {
   "cell_type": "code",
   "execution_count": 32,
   "metadata": {},
   "outputs": [
    {
     "data": {
      "image/png": "[encoded data removed]",
      "text/plain": [
       "<Figure size 432x288 with 1 Axes>"
      ]
     },
     "metadata": {
      "needs_background": "light"
     },
     "output_type": "display_data"
    }
   ],
   "source": [
    "#good example\n",
    "drug_id = 346\n",
    "cell_line = \"LU-65\"\n",
    "good = drug_curves[(drug_curves[\"DRUG_ID\"]==drug_id)&(drug_curves[\"CELL_LINE_NAME\"]== cell_line)]\n",
    "\n",
    "plt.scatter(good.loc[good.index[0], conc_columns].values.astype(np.float32), \n",
    "            good.loc[good.index[0], response_norm].values.astype(np.float32))\n",
    "plt.xlabel(\"Scaled dose\")\n",
    "plt.ylabel(\"Normalised response\")\n",
    "plt.title(\"Drug ID: %d, Cell Line: %s\" % (drug_id, cell_line));"
   ]
  },
  {
   "cell_type": "code",
   "execution_count": 33,
   "metadata": {},
   "outputs": [
    {
     "data": {
      "image/png": "[encoded data removed]",
      "text/plain": [
       "<Figure size 432x288 with 1 Axes>"
      ]
     },
     "metadata": {
      "needs_background": "light"
     },
     "output_type": "display_data"
    }
   ],
   "source": [
    "# good example\n",
    "drug_id = 346\n",
    "cell_line = \"LU-65\"\n",
    "good = drug_curves[(drug_curves[\"DRUG_ID\"]==drug_id)&(drug_curves[\"CELL_LINE_NAME\"]== cell_line)]\n",
    "x = good.loc[good.index[0], conc_columns].values.astype(np.float32),\n",
    "y = 1/good.loc[good.index[0], response_norm].values.astype(np.float32)\n",
    "plt.scatter(x, y)\n",
    "plt.xlabel(\"Scaled dose\")\n",
    "plt.ylabel(\"1/ Normalised response\")\n",
    "plt.title(\"Inversed!!! Drug ID: %d, Cell Line: %s\" % (drug_id, cell_line));"
   ]
  },
  {
   "cell_type": "code",
   "execution_count": 111,
   "metadata": {},
   "outputs": [],
   "source": [
    "def fsigmoid(x, a, b):\n",
    "    return 1.0 / (1.0 + np.exp(-a*(x-b)))\n",
    "\n",
    "def sigmoid_Vis(x, p, s):\n",
    "    \"\"\" x - dosage [0, 1],\n",
    "    p - position,\n",
    "    s - shape parameter,\n",
    "    \"\"\"\n",
    "    return 1.0 / (1.0 + np.exp(-(x-p)/s))\n",
    "\n",
    "def sigmoid_4_param(x, x0, L, k, b):\n",
    "    y = 1/ (L + np.exp(-k*(x-x0)))+b\n",
    "    return y\n",
    "\n",
    "def sigmoid_3_param(x, x0, k, b):\n",
    "    y = 1/ (1 + np.exp(-k*(x-x0)))+b\n",
    "    return y\n",
    "\n",
    "\n",
    "def logistic4(x, A, B, C, D):\n",
    "    \"\"\" https://people.duke.edu/~ccc14/pcfb/analysis.html\n",
    "    4PL logistic equation.\"\"\"\n",
    "    return ((A-D)/(1.0+((x/C)**B))) + D\n",
    "\n",
    "def ll4(x, b, c, d, e):\n",
    "    ''' https://gist.github.com/yannabraham/5f210fed773785d8b638\n",
    "    This function is basically a copy of the LL.4 function from the R drc package with\n",
    "     - b: hill slope\n",
    "     - c: min response\n",
    "     - d: max response\n",
    "     - e: EC50'''\n",
    "    return(c+(d-c)/(1+np.exp(b*(np.log(x)-np.log(e)))))\n",
    "\n",
    "def ll4_R(x, b, c, d, e):\n",
    "    \"\"\" LL.4 function from R\n",
    "    https://www.rdocumentation.org/packages/drc/versions/2.5-12/topics/LL.4\n",
    "    \"\"\"\n",
    "    return c + (d-c)/(1+np.exp(b*np.log(x)- e))\n",
    "\n",
    "\n",
    "def fit_curve_fit(fitting_function, x, y, parameters_guess=[], to_plot = False):\n",
    "    parameters, p_covariance = curve_fit(fitting_function, x, y, parameters_guess)\n",
    "    x2 = np.linspace(0, 1, 10)\n",
    "    y2 = fitting_function(x2, *parameters)\n",
    "    r2 = r2_score(y, y2)\n",
    "\n",
    "    if to_plot:\n",
    "        print(\"Fitting parameters:\", *parameters)\n",
    "        plt.scatter(x, y)\n",
    "        plt.plot(x, y2, \"blue\", label = \"R^2= %0.5f\"%r2)   \n",
    "        plt.title('Least-squares fit')\n",
    "        plt.legend();\n",
    "    return r2, parameters\n",
    "        \n",
    "def residuals(p, x, y, function_to_fit):\n",
    "    \"\"\"Deviations of data from fitted curve\"\"\"\n",
    "    err = y-function_to_fit(x, *p)\n",
    "    return err\n",
    "\n",
    "def fit_lsq(function_to_fit, x, y, parameters_guess =[], to_plot = False):\n",
    "    param_lsq = leastsq(residuals, parameters_guess, args=(x, y, function_to_fit))\n",
    "    y2 = function_to_fit(x, *param_lsq[0])\n",
    "    r2 = r2_score(y, y2)\n",
    "    if to_plot:\n",
    "        print(\"Fitting parameters:\", *param_lsq[0])\n",
    "        plt.scatter(x, y)\n",
    "        plt.plot(x, y2, \"blue\", label = \"R^2= %0.5f\"%r2)   \n",
    "        plt.title('Least-squares fit')\n",
    "        plt.legend();\n",
    "    return r2"
   ]
  },
  {
   "cell_type": "code",
   "execution_count": 35,
   "metadata": {},
   "outputs": [],
   "source": [
    "# Inverted response\n",
    "x = good.loc[good.index[0], conc_columns].values.astype(np.float32)\n",
    "y = 1/good.loc[good.index[0], response_norm].values.astype(np.float32)\n",
    "\n",
    "# fit_curve_fit(sigmoid_Vis, x, y, parameters_guess=[1, 5], to_plot = True)\n",
    "# fit_lsq(x, y, sigmoid_Vis, parameters_guess=[1, 5], to_plot = True)"
   ]
  },
  {
   "cell_type": "code",
   "execution_count": 36,
   "metadata": {},
   "outputs": [
    {
     "name": "stdout",
     "output_type": "stream",
     "text": [
      "Fitting parameters: -4082539.0283247484 19931124.939608537\n"
     ]
    },
    {
     "data": {
      "text/plain": [
       "-3.2823075590826534e-08"
      ]
     },
     "execution_count": 36,
     "metadata": {},
     "output_type": "execute_result"
    },
    {
     "data": {
      "image/png": "[encoded data removed]",
      "text/plain": [
       "<Figure size 432x288 with 1 Axes>"
      ]
     },
     "metadata": {
      "needs_background": "light"
     },
     "output_type": "display_data"
    }
   ],
   "source": [
    "# Normal response\n",
    "x = good.loc[good.index[0], conc_columns].values.astype(np.float32)\n",
    "y = good.loc[good.index[0], response_norm].values.astype(np.float32)\n",
    "\n",
    "#bounds are set as ([low_a,low_b],[high_a,high_b])\n",
    "fit_curve_fit(sigmoid_Vis, x, y, parameters_guess=[1, 0.5], to_plot = True)"
   ]
  },
  {
   "cell_type": "code",
   "execution_count": 37,
   "metadata": {},
   "outputs": [
    {
     "name": "stdout",
     "output_type": "stream",
     "text": [
      "Fitting parameters: 7.523205551887484 0.2970497766424104 0.9466672350493502 0.36792284396941893\n"
     ]
    },
    {
     "data": {
      "text/plain": [
       "0.9917192755127807"
      ]
     },
     "execution_count": 37,
     "metadata": {},
     "output_type": "execute_result"
    },
    {
     "data": {
      "image/png": "[encoded data removed]",
      "text/plain": [
       "<Figure size 432x288 with 1 Axes>"
      ]
     },
     "metadata": {
      "needs_background": "light"
     },
     "output_type": "display_data"
    }
   ],
   "source": [
    "p0 = [max(y), np.median(x),1,min(y)]\n",
    "fit_curve_fit(ll4, x, y, parameters_guess =p0, to_plot = True)"
   ]
  },
  {
   "cell_type": "code",
   "execution_count": 38,
   "metadata": {},
   "outputs": [
    {
     "name": "stdout",
     "output_type": "stream",
     "text": [
      "Fitting parameters: 0.3441752450702188 1.5128399848595575 -18.255477855267515 0.2997005952603317\n"
     ]
    },
    {
     "data": {
      "text/plain": [
       "0.9935016475653727"
      ]
     },
     "execution_count": 38,
     "metadata": {},
     "output_type": "execute_result"
    },
    {
     "data": {
      "image/png": "[encoded data removed]",
      "text/plain": [
       "<Figure size 432x288 with 1 Axes>"
      ]
     },
     "metadata": {
      "needs_background": "light"
     },
     "output_type": "display_data"
    }
   ],
   "source": [
    "p0 = [max(y), np.median(x),1,min(y)]\n",
    "fit_curve_fit(sigmoid_4_param, x, y, p0, to_plot = True)"
   ]
  },
  {
   "cell_type": "code",
   "execution_count": 39,
   "metadata": {},
   "outputs": [
    {
     "name": "stdout",
     "output_type": "stream",
     "text": [
      "Fitting parameters: 0.2782605164354585 -5.978300508020848 0.2331103208874468\n"
     ]
    },
    {
     "data": {
      "text/plain": [
       "0.9552315630039333"
      ]
     },
     "execution_count": 39,
     "metadata": {},
     "output_type": "execute_result"
    },
    {
     "data": {
      "image/png": "[encoded data removed]",
      "text/plain": [
       "<Figure size 432x288 with 1 Axes>"
      ]
     },
     "metadata": {
      "needs_background": "light"
     },
     "output_type": "display_data"
    }
   ],
   "source": [
    "p0 = [max(y), np.median(x),min(y)]\n",
    "fit_curve_fit(sigmoid_3_param, x, y, p0, to_plot = True)"
   ]
  },
  {
   "cell_type": "code",
   "execution_count": 40,
   "metadata": {},
   "outputs": [
    {
     "name": "stdout",
     "output_type": "stream",
     "text": [
      "Fitting parameters: 0.2970526941738411 -7.523259893217766 0.3679193144976095 0.9466692800576376\n"
     ]
    },
    {
     "data": {
      "text/plain": [
       "0.9917192801263175"
      ]
     },
     "execution_count": 40,
     "metadata": {},
     "output_type": "execute_result"
    },
    {
     "data": {
      "image/png": "[encoded data removed]",
      "text/plain": [
       "<Figure size 432x288 with 1 Axes>"
      ]
     },
     "metadata": {
      "needs_background": "light"
     },
     "output_type": "display_data"
    }
   ],
   "source": [
    "fit_lsq(logistic4, x, y, parameters_guess =[0, 1, 1, 1], to_plot = True)"
   ]
  },
  {
   "cell_type": "code",
   "execution_count": 41,
   "metadata": {},
   "outputs": [
    {
     "name": "stdout",
     "output_type": "stream",
     "text": [
      "Fitting parameters: 7.527285878644068 0.2970845477543197 0.9466496136230979 -7.526469821501663\n"
     ]
    },
    {
     "data": {
      "text/plain": [
       "0.9917192776183669"
      ]
     },
     "execution_count": 41,
     "metadata": {},
     "output_type": "execute_result"
    },
    {
     "data": {
      "image/png": "[encoded data removed]",
      "text/plain": [
       "<Figure size 432x288 with 1 Axes>"
      ]
     },
     "metadata": {
      "needs_background": "light"
     },
     "output_type": "display_data"
    }
   ],
   "source": [
    "fit_lsq(ll4_R, x, y, parameters_guess =[max(y), np.median(x),1,min(y)], to_plot = True)"
   ]
  },
  {
   "cell_type": "markdown",
   "metadata": {},
   "source": [
    "### Comparing models"
   ]
  },
  {
   "cell_type": "code",
   "execution_count": 126,
   "metadata": {},
   "outputs": [],
   "source": [
    "x = good.loc[good.index[0], conc_columns].values.astype(np.float32)\n",
    "y = good.loc[good.index[0], response_norm].values.astype(np.float32)\n"
   ]
  },
  {
   "cell_type": "code",
   "execution_count": 127,
   "metadata": {},
   "outputs": [
    {
     "name": "stdout",
     "output_type": "stream",
     "text": [
      "fsigmoid R2  0.8476\n",
      "sigmoid_Vis R2 -0.0000\n",
      "sigmoid_3_param R2  0.9552\n",
      "sigmoid_4_param R2  0.9935\n",
      "logistic4 R2  0.9917\n",
      "LL4 R2  0.9917\n"
     ]
    }
   ],
   "source": [
    "print(\"fsigmoid R2 % 0.4f\"% fit_curve_fit(fsigmoid, x, y,parameters_guess=[1, 0.5])[0])\n",
    "print(\"sigmoid_Vis R2 % 0.4f\"% fit_curve_fit(sigmoid_Vis, x, y,parameters_guess=[1, 0.5])[0])\n",
    "print(\"sigmoid_3_param R2 % 0.4f\"% fit_curve_fit(sigmoid_3_param, x, y,parameters_guess= [max(y), np.median(x), min(y)])[0])\n",
    "print(\"sigmoid_4_param R2 % 0.4f\"% fit_curve_fit(sigmoid_4_param, x, y, parameters_guess= [max(y), np.median(x), 1, min(y)])[0])\n",
    "# print(\"logistic4 R2 % 0.4f\"% fit_lsq(logistic4,x, y,parameters_guess =[0, 1, 1, 1]))\n",
    "print(\"logistic4 R2 % 0.4f\"% fit_curve_fit(logistic4, x, y, parameters_guess =[0, 1, 1, 1])[0])\n",
    "print(\"LL4 R2 % 0.4f\"% fit_curve_fit(ll4_R, x, y,  parameters_guess= [max(y), np.median(x), 1, min(y)])[0])"
   ]
  },
  {
   "cell_type": "code",
   "execution_count": 44,
   "metadata": {},
   "outputs": [],
   "source": [
    "from tqdm import tqdm"
   ]
  },
  {
   "cell_type": "code",
   "execution_count": 149,
   "metadata": {},
   "outputs": [],
   "source": [
    "def fit_curve_fit_column(df, indexes):\n",
    "    \n",
    "    r2_scores = np.zeros(len(indexes))\n",
    "    X = df.loc[indexes, conc_columns].values.astype(np.float32)\n",
    "    Y = df.loc[indexes, response_norm].values.astype(np.float32)\n",
    "    fitting_parameters = [None]*len(indexes)\n",
    "    \n",
    "    for i in tqdm(range(len(indexes))):\n",
    "        x = X[i, :]\n",
    "        y = Y[i, :]\n",
    "        try:\n",
    "            r2_scores[i], fitting_parameters[i] = fit_curve_fit(sigmoid_4_param, x, y, parameters_guess= [max(y), np.median(x), 1, min(y)])\n",
    "            \n",
    "        except:\n",
    "            #print(indexes[i])\n",
    "            r2_scores[i] = 0\n",
    "    return r2_scores, fitting_parameters"
   ]
  },
  {
   "cell_type": "code",
   "execution_count": 143,
   "metadata": {},
   "outputs": [],
   "source": [
    "df2 = df_filt.copy()#loc[df_filt.index[16085:16095], :].copy()"
   ]
  },
  {
   "cell_type": "code",
   "execution_count": 144,
   "metadata": {},
   "outputs": [
    {
     "data": {
      "text/plain": [
       "(52540, 53)"
      ]
     },
     "execution_count": 144,
     "metadata": {},
     "output_type": "execute_result"
    }
   ],
   "source": [
    "df2.shape"
   ]
  },
  {
   "cell_type": "code",
   "execution_count": null,
   "metadata": {},
   "outputs": [],
   "source": [
    "%%time\n",
    "#around 5 min\n",
    "r2, fit_param = fit_curve_fit_column(df2, df2.index)\n",
    "df2[\"fitting_r2\"] = r2\n",
    "df2[\"fitting_param\"] = fit_param"
   ]
  },
  {
   "cell_type": "code",
   "execution_count": 152,
   "metadata": {},
   "outputs": [],
   "source": [
    "df2.to_csv(\"fitted_drugs.csv\")"
   ]
  },
  {
   "cell_type": "code",
   "execution_count": 153,
   "metadata": {},
   "outputs": [
    {
     "data": {
      "text/html": [
       "<div>\n",
       "<style scoped>\n",
       "    .dataframe tbody tr th:only-of-type {\n",
       "        vertical-align: middle;\n",
       "    }\n",
       "\n",
       "    .dataframe tbody tr th {\n",
       "        vertical-align: top;\n",
       "    }\n",
       "\n",
       "    .dataframe thead th {\n",
       "        text-align: right;\n",
       "    }\n",
       "</style>\n",
       "<table border=\"1\" class=\"dataframe\">\n",
       "  <thead>\n",
       "    <tr style=\"text-align: right;\">\n",
       "      <th></th>\n",
       "      <th>CELL_LINE_NAME</th>\n",
       "      <th>DRUG_ID</th>\n",
       "      <th>fitting_r2</th>\n",
       "      <th>fitting_param</th>\n",
       "    </tr>\n",
       "  </thead>\n",
       "  <tbody>\n",
       "    <tr>\n",
       "      <th>13</th>\n",
       "      <td>HDQ-P1</td>\n",
       "      <td>344</td>\n",
       "      <td>0.966718</td>\n",
       "      <td>[0.8100850234454133, 0.9892494988253149, -26.2...</td>\n",
       "    </tr>\n",
       "    <tr>\n",
       "      <th>15</th>\n",
       "      <td>HDQ-P1</td>\n",
       "      <td>223</td>\n",
       "      <td>0.000000</td>\n",
       "      <td>None</td>\n",
       "    </tr>\n",
       "    <tr>\n",
       "      <th>22</th>\n",
       "      <td>HDQ-P1</td>\n",
       "      <td>272</td>\n",
       "      <td>0.000000</td>\n",
       "      <td>None</td>\n",
       "    </tr>\n",
       "    <tr>\n",
       "      <th>24</th>\n",
       "      <td>HDQ-P1</td>\n",
       "      <td>328</td>\n",
       "      <td>0.971011</td>\n",
       "      <td>[0.43349267675921827, 3.3889844600858483, -164...</td>\n",
       "    </tr>\n",
       "    <tr>\n",
       "      <th>28</th>\n",
       "      <td>HDQ-P1</td>\n",
       "      <td>136</td>\n",
       "      <td>0.975429</td>\n",
       "      <td>[0.6313296496301274, 0.9282910696470076, -5.82...</td>\n",
       "    </tr>\n",
       "  </tbody>\n",
       "</table>\n",
       "</div>"
      ],
      "text/plain": [
       "   CELL_LINE_NAME  DRUG_ID  fitting_r2  \\\n",
       "13         HDQ-P1      344    0.966718   \n",
       "15         HDQ-P1      223    0.000000   \n",
       "22         HDQ-P1      272    0.000000   \n",
       "24         HDQ-P1      328    0.971011   \n",
       "28         HDQ-P1      136    0.975429   \n",
       "\n",
       "                                        fitting_param  \n",
       "13  [0.8100850234454133, 0.9892494988253149, -26.2...  \n",
       "15                                               None  \n",
       "22                                               None  \n",
       "24  [0.43349267675921827, 3.3889844600858483, -164...  \n",
       "28  [0.6313296496301274, 0.9282910696470076, -5.82...  "
      ]
     },
     "execution_count": 153,
     "metadata": {},
     "output_type": "execute_result"
    }
   ],
   "source": [
    "df2[[\"CELL_LINE_NAME\", 'DRUG_ID', \"fitting_r2\", \"fitting_param\"]].head()"
   ]
  },
  {
   "cell_type": "code",
   "execution_count": 178,
   "metadata": {},
   "outputs": [
    {
     "data": {
      "text/plain": [
       "13133"
      ]
     },
     "execution_count": 178,
     "metadata": {},
     "output_type": "execute_result"
    }
   ],
   "source": [
    "df2[df2[\"fitting_r2\"]==0].shape[0]"
   ]
  },
  {
   "cell_type": "code",
   "execution_count": 179,
   "metadata": {},
   "outputs": [],
   "source": [
    "fitted = df2[df2[\"fitting_r2\"]!=0]"
   ]
  },
  {
   "cell_type": "code",
   "execution_count": 230,
   "metadata": {},
   "outputs": [],
   "source": [
    "df2[\"dif_first\"]=abs(df2[response_norm[0]] - df2[response_norm[1]])\n",
    "df2[\"dif_last\"]=abs(df2[response_norm[-2]] - df2[response_norm[-1]])"
   ]
  },
  {
   "cell_type": "code",
   "execution_count": 263,
   "metadata": {},
   "outputs": [
    {
     "data": {
      "text/plain": [
       "(1122, 57)"
      ]
     },
     "execution_count": 263,
     "metadata": {},
     "output_type": "execute_result"
    }
   ],
   "source": [
    "#r2>0.97 27711\n",
    "fitted2 = df2[(df2[\"fitting_r2\"]>0.98)&(df2[response_norm[-3]]<0.3)\n",
    "              &(df2[response_norm[1]]>0.9) &(df2[response_norm[2]]>0.9)\n",
    "              &(df2['dif_first']<0.02) & (df2['dif_last']<0.03)]\n",
    "fitted2.shape"
   ]
  },
  {
   "cell_type": "code",
   "execution_count": 264,
   "metadata": {},
   "outputs": [
    {
     "name": "stdout",
     "output_type": "stream",
     "text": [
      "[ 961  504  510  218  529  497  372   43 1001]\n"
     ]
    },
    {
     "data": {
      "image/png": "[encoded data removed]",
      "text/plain": [
       "<Figure size 1008x792 with 18 Axes>"
      ]
     },
     "metadata": {
      "needs_background": "light"
     },
     "output_type": "display_data"
    }
   ],
   "source": [
    "df = fitted2\n",
    "max_int = len(df.index)\n",
    "rand_int = np.random.randint(0, max_int, 9)\n",
    "print(rand_int)\n",
    "\n",
    "show_response_curves(df, plots_in_row=3, plots_in_column=3, x_columns=conc_columns, y_columns= response_norm, \n",
    "                     start_index=0, indexes=df.index[rand_int],\n",
    "                    fitting_function =sigmoid_4_param, fitting_parameters =\"fitting_param\")"
   ]
  },
  {
   "cell_type": "raw",
   "metadata": {},
   "source": [
    "87-CTV-1 - excellent\n",
    "308_NB1 - bad"
   ]
  },
  {
   "cell_type": "markdown",
   "metadata": {},
   "source": [
    "### Useful"
   ]
  },
  {
   "cell_type": "code",
   "execution_count": 131,
   "metadata": {},
   "outputs": [],
   "source": [
    "def logLogistR(x, E_inf, EC50, HS):\n",
    "    \"\"\"Python analog for PharmacoGx/R/LogLogisticRegression.R\n",
    "    https://github.com/bhklab/PharmacoGx/blob/master/R/LogLogisticRegression.R\n",
    "    E = E_inf + (1 - E_inf)/(1 + (x/EC50)^HS)\n",
    "    \"\"\"\n",
    "    return (E_inf+ (1-E_inf)/(1+(np.log10(x)/EC50)**HS))"
   ]
  },
  {
   "cell_type": "code",
   "execution_count": 132,
   "metadata": {},
   "outputs": [
    {
     "data": {
      "text/plain": [
       "(2162, 59)"
      ]
     },
     "execution_count": 132,
     "metadata": {},
     "output_type": "execute_result"
    }
   ],
   "source": [
    "df.shape"
   ]
  },
  {
   "cell_type": "code",
   "execution_count": 130,
   "metadata": {},
   "outputs": [
    {
     "ename": "KeyError",
     "evalue": "1031",
     "output_type": "error",
     "traceback": [
      "\u001b[0;31m---------------------------------------------------------------------------\u001b[0m",
      "\u001b[0;31mKeyError\u001b[0m                                  Traceback (most recent call last)",
      "\u001b[0;32m~/anaconda3/envs/myspark/lib/python3.6/site-packages/pandas/core/indexes/base.py\u001b[0m in \u001b[0;36mget_loc\u001b[0;34m(self, key, method, tolerance)\u001b[0m\n\u001b[1;32m   2645\u001b[0m             \u001b[0;32mtry\u001b[0m\u001b[0;34m:\u001b[0m\u001b[0;34m\u001b[0m\u001b[0;34m\u001b[0m\u001b[0m\n\u001b[0;32m-> 2646\u001b[0;31m                 \u001b[0;32mreturn\u001b[0m \u001b[0mself\u001b[0m\u001b[0;34m.\u001b[0m\u001b[0m_engine\u001b[0m\u001b[0;34m.\u001b[0m\u001b[0mget_loc\u001b[0m\u001b[0;34m(\u001b[0m\u001b[0mkey\u001b[0m\u001b[0;34m)\u001b[0m\u001b[0;34m\u001b[0m\u001b[0;34m\u001b[0m\u001b[0m\n\u001b[0m\u001b[1;32m   2647\u001b[0m             \u001b[0;32mexcept\u001b[0m \u001b[0mKeyError\u001b[0m\u001b[0;34m:\u001b[0m\u001b[0;34m\u001b[0m\u001b[0;34m\u001b[0m\u001b[0m\n",
      "\u001b[0;32mpandas/_libs/index.pyx\u001b[0m in \u001b[0;36mpandas._libs.index.IndexEngine.get_loc\u001b[0;34m()\u001b[0m\n",
      "\u001b[0;32mpandas/_libs/index.pyx\u001b[0m in \u001b[0;36mpandas._libs.index.IndexEngine.get_loc\u001b[0;34m()\u001b[0m\n",
      "\u001b[0;32mpandas/_libs/hashtable_class_helper.pxi\u001b[0m in \u001b[0;36mpandas._libs.hashtable.Int64HashTable.get_item\u001b[0;34m()\u001b[0m\n",
      "\u001b[0;32mpandas/_libs/hashtable_class_helper.pxi\u001b[0m in \u001b[0;36mpandas._libs.hashtable.Int64HashTable.get_item\u001b[0;34m()\u001b[0m\n",
      "\u001b[0;31mKeyError\u001b[0m: 1031",
      "\nDuring handling of the above exception, another exception occurred:\n",
      "\u001b[0;31mKeyError\u001b[0m                                  Traceback (most recent call last)",
      "\u001b[0;32m<ipython-input-130-e8b7825ef646>\u001b[0m in \u001b[0;36m<module>\u001b[0;34m\u001b[0m\n\u001b[1;32m      1\u001b[0m \u001b[0mn\u001b[0m\u001b[0;34m=\u001b[0m\u001b[0;36m1031\u001b[0m\u001b[0;34m\u001b[0m\u001b[0;34m\u001b[0m\u001b[0m\n\u001b[0;32m----> 2\u001b[0;31m \u001b[0mx\u001b[0m \u001b[0;34m=\u001b[0m \u001b[0mdf\u001b[0m\u001b[0;34m.\u001b[0m\u001b[0mloc\u001b[0m\u001b[0;34m[\u001b[0m\u001b[0mn\u001b[0m\u001b[0;34m,\u001b[0m \u001b[0mconc_columns\u001b[0m\u001b[0;34m]\u001b[0m\u001b[0;34m.\u001b[0m\u001b[0mvalues\u001b[0m\u001b[0;34m.\u001b[0m\u001b[0mastype\u001b[0m\u001b[0;34m(\u001b[0m\u001b[0mnp\u001b[0m\u001b[0;34m.\u001b[0m\u001b[0mfloat32\u001b[0m\u001b[0;34m)\u001b[0m\u001b[0;34m\u001b[0m\u001b[0;34m\u001b[0m\u001b[0m\n\u001b[0m\u001b[1;32m      3\u001b[0m \u001b[0my\u001b[0m \u001b[0;34m=\u001b[0m \u001b[0mdf\u001b[0m\u001b[0;34m.\u001b[0m\u001b[0mloc\u001b[0m\u001b[0;34m[\u001b[0m\u001b[0mn\u001b[0m\u001b[0;34m,\u001b[0m \u001b[0mresponse_norm\u001b[0m\u001b[0;34m]\u001b[0m\u001b[0;34m.\u001b[0m\u001b[0mvalues\u001b[0m\u001b[0;34m.\u001b[0m\u001b[0mastype\u001b[0m\u001b[0;34m(\u001b[0m\u001b[0mnp\u001b[0m\u001b[0;34m.\u001b[0m\u001b[0mfloat32\u001b[0m\u001b[0;34m)\u001b[0m\u001b[0;34m\u001b[0m\u001b[0;34m\u001b[0m\u001b[0m\n\u001b[1;32m      4\u001b[0m \u001b[0mplt\u001b[0m\u001b[0;34m.\u001b[0m\u001b[0mscatter\u001b[0m\u001b[0;34m(\u001b[0m\u001b[0mx\u001b[0m\u001b[0;34m,\u001b[0m \u001b[0my\u001b[0m\u001b[0;34m)\u001b[0m\u001b[0;34m;\u001b[0m\u001b[0;34m\u001b[0m\u001b[0;34m\u001b[0m\u001b[0m\n",
      "\u001b[0;32m~/anaconda3/envs/myspark/lib/python3.6/site-packages/pandas/core/indexing.py\u001b[0m in \u001b[0;36m__getitem__\u001b[0;34m(self, key)\u001b[0m\n\u001b[1;32m   1759\u001b[0m                 \u001b[0;32mexcept\u001b[0m \u001b[0;34m(\u001b[0m\u001b[0mKeyError\u001b[0m\u001b[0;34m,\u001b[0m \u001b[0mIndexError\u001b[0m\u001b[0;34m,\u001b[0m \u001b[0mAttributeError\u001b[0m\u001b[0;34m)\u001b[0m\u001b[0;34m:\u001b[0m\u001b[0;34m\u001b[0m\u001b[0;34m\u001b[0m\u001b[0m\n\u001b[1;32m   1760\u001b[0m                     \u001b[0;32mpass\u001b[0m\u001b[0;34m\u001b[0m\u001b[0;34m\u001b[0m\u001b[0m\n\u001b[0;32m-> 1761\u001b[0;31m             \u001b[0;32mreturn\u001b[0m \u001b[0mself\u001b[0m\u001b[0;34m.\u001b[0m\u001b[0m_getitem_tuple\u001b[0m\u001b[0;34m(\u001b[0m\u001b[0mkey\u001b[0m\u001b[0;34m)\u001b[0m\u001b[0;34m\u001b[0m\u001b[0;34m\u001b[0m\u001b[0m\n\u001b[0m\u001b[1;32m   1762\u001b[0m         \u001b[0;32melse\u001b[0m\u001b[0;34m:\u001b[0m\u001b[0;34m\u001b[0m\u001b[0;34m\u001b[0m\u001b[0m\n\u001b[1;32m   1763\u001b[0m             \u001b[0;31m# we by definition only have the 0th axis\u001b[0m\u001b[0;34m\u001b[0m\u001b[0;34m\u001b[0m\u001b[0;34m\u001b[0m\u001b[0m\n",
      "\u001b[0;32m~/anaconda3/envs/myspark/lib/python3.6/site-packages/pandas/core/indexing.py\u001b[0m in \u001b[0;36m_getitem_tuple\u001b[0;34m(self, tup)\u001b[0m\n\u001b[1;32m   1269\u001b[0m     \u001b[0;32mdef\u001b[0m \u001b[0m_getitem_tuple\u001b[0m\u001b[0;34m(\u001b[0m\u001b[0mself\u001b[0m\u001b[0;34m,\u001b[0m \u001b[0mtup\u001b[0m\u001b[0;34m:\u001b[0m \u001b[0mTuple\u001b[0m\u001b[0;34m)\u001b[0m\u001b[0;34m:\u001b[0m\u001b[0;34m\u001b[0m\u001b[0;34m\u001b[0m\u001b[0m\n\u001b[1;32m   1270\u001b[0m         \u001b[0;32mtry\u001b[0m\u001b[0;34m:\u001b[0m\u001b[0;34m\u001b[0m\u001b[0;34m\u001b[0m\u001b[0m\n\u001b[0;32m-> 1271\u001b[0;31m             \u001b[0;32mreturn\u001b[0m \u001b[0mself\u001b[0m\u001b[0;34m.\u001b[0m\u001b[0m_getitem_lowerdim\u001b[0m\u001b[0;34m(\u001b[0m\u001b[0mtup\u001b[0m\u001b[0;34m)\u001b[0m\u001b[0;34m\u001b[0m\u001b[0;34m\u001b[0m\u001b[0m\n\u001b[0m\u001b[1;32m   1272\u001b[0m         \u001b[0;32mexcept\u001b[0m \u001b[0mIndexingError\u001b[0m\u001b[0;34m:\u001b[0m\u001b[0;34m\u001b[0m\u001b[0;34m\u001b[0m\u001b[0m\n\u001b[1;32m   1273\u001b[0m             \u001b[0;32mpass\u001b[0m\u001b[0;34m\u001b[0m\u001b[0;34m\u001b[0m\u001b[0m\n",
      "\u001b[0;32m~/anaconda3/envs/myspark/lib/python3.6/site-packages/pandas/core/indexing.py\u001b[0m in \u001b[0;36m_getitem_lowerdim\u001b[0;34m(self, tup)\u001b[0m\n\u001b[1;32m   1386\u001b[0m         \u001b[0;32mfor\u001b[0m \u001b[0mi\u001b[0m\u001b[0;34m,\u001b[0m \u001b[0mkey\u001b[0m \u001b[0;32min\u001b[0m \u001b[0menumerate\u001b[0m\u001b[0;34m(\u001b[0m\u001b[0mtup\u001b[0m\u001b[0;34m)\u001b[0m\u001b[0;34m:\u001b[0m\u001b[0;34m\u001b[0m\u001b[0;34m\u001b[0m\u001b[0m\n\u001b[1;32m   1387\u001b[0m             \u001b[0;32mif\u001b[0m \u001b[0mis_label_like\u001b[0m\u001b[0;34m(\u001b[0m\u001b[0mkey\u001b[0m\u001b[0;34m)\u001b[0m \u001b[0;32mor\u001b[0m \u001b[0misinstance\u001b[0m\u001b[0;34m(\u001b[0m\u001b[0mkey\u001b[0m\u001b[0;34m,\u001b[0m \u001b[0mtuple\u001b[0m\u001b[0;34m)\u001b[0m\u001b[0;34m:\u001b[0m\u001b[0;34m\u001b[0m\u001b[0;34m\u001b[0m\u001b[0m\n\u001b[0;32m-> 1388\u001b[0;31m                 \u001b[0msection\u001b[0m \u001b[0;34m=\u001b[0m \u001b[0mself\u001b[0m\u001b[0;34m.\u001b[0m\u001b[0m_getitem_axis\u001b[0m\u001b[0;34m(\u001b[0m\u001b[0mkey\u001b[0m\u001b[0;34m,\u001b[0m \u001b[0maxis\u001b[0m\u001b[0;34m=\u001b[0m\u001b[0mi\u001b[0m\u001b[0;34m)\u001b[0m\u001b[0;34m\u001b[0m\u001b[0;34m\u001b[0m\u001b[0m\n\u001b[0m\u001b[1;32m   1389\u001b[0m \u001b[0;34m\u001b[0m\u001b[0m\n\u001b[1;32m   1390\u001b[0m                 \u001b[0;31m# we have yielded a scalar ?\u001b[0m\u001b[0;34m\u001b[0m\u001b[0;34m\u001b[0m\u001b[0;34m\u001b[0m\u001b[0m\n",
      "\u001b[0;32m~/anaconda3/envs/myspark/lib/python3.6/site-packages/pandas/core/indexing.py\u001b[0m in \u001b[0;36m_getitem_axis\u001b[0;34m(self, key, axis)\u001b[0m\n\u001b[1;32m   1962\u001b[0m         \u001b[0;31m# fall thru to straight lookup\u001b[0m\u001b[0;34m\u001b[0m\u001b[0;34m\u001b[0m\u001b[0;34m\u001b[0m\u001b[0m\n\u001b[1;32m   1963\u001b[0m         \u001b[0mself\u001b[0m\u001b[0;34m.\u001b[0m\u001b[0m_validate_key\u001b[0m\u001b[0;34m(\u001b[0m\u001b[0mkey\u001b[0m\u001b[0;34m,\u001b[0m \u001b[0maxis\u001b[0m\u001b[0;34m)\u001b[0m\u001b[0;34m\u001b[0m\u001b[0;34m\u001b[0m\u001b[0m\n\u001b[0;32m-> 1964\u001b[0;31m         \u001b[0;32mreturn\u001b[0m \u001b[0mself\u001b[0m\u001b[0;34m.\u001b[0m\u001b[0m_get_label\u001b[0m\u001b[0;34m(\u001b[0m\u001b[0mkey\u001b[0m\u001b[0;34m,\u001b[0m \u001b[0maxis\u001b[0m\u001b[0;34m=\u001b[0m\u001b[0maxis\u001b[0m\u001b[0;34m)\u001b[0m\u001b[0;34m\u001b[0m\u001b[0;34m\u001b[0m\u001b[0m\n\u001b[0m\u001b[1;32m   1965\u001b[0m \u001b[0;34m\u001b[0m\u001b[0m\n\u001b[1;32m   1966\u001b[0m \u001b[0;34m\u001b[0m\u001b[0m\n",
      "\u001b[0;32m~/anaconda3/envs/myspark/lib/python3.6/site-packages/pandas/core/indexing.py\u001b[0m in \u001b[0;36m_get_label\u001b[0;34m(self, label, axis)\u001b[0m\n\u001b[1;32m    622\u001b[0m             \u001b[0;32mraise\u001b[0m \u001b[0mIndexingError\u001b[0m\u001b[0;34m(\u001b[0m\u001b[0;34m\"no slices here, handle elsewhere\"\u001b[0m\u001b[0;34m)\u001b[0m\u001b[0;34m\u001b[0m\u001b[0;34m\u001b[0m\u001b[0m\n\u001b[1;32m    623\u001b[0m \u001b[0;34m\u001b[0m\u001b[0m\n\u001b[0;32m--> 624\u001b[0;31m         \u001b[0;32mreturn\u001b[0m \u001b[0mself\u001b[0m\u001b[0;34m.\u001b[0m\u001b[0mobj\u001b[0m\u001b[0;34m.\u001b[0m\u001b[0m_xs\u001b[0m\u001b[0;34m(\u001b[0m\u001b[0mlabel\u001b[0m\u001b[0;34m,\u001b[0m \u001b[0maxis\u001b[0m\u001b[0;34m=\u001b[0m\u001b[0maxis\u001b[0m\u001b[0;34m)\u001b[0m\u001b[0;34m\u001b[0m\u001b[0;34m\u001b[0m\u001b[0m\n\u001b[0m\u001b[1;32m    625\u001b[0m \u001b[0;34m\u001b[0m\u001b[0m\n\u001b[1;32m    626\u001b[0m     \u001b[0;32mdef\u001b[0m \u001b[0m_get_loc\u001b[0m\u001b[0;34m(\u001b[0m\u001b[0mself\u001b[0m\u001b[0;34m,\u001b[0m \u001b[0mkey\u001b[0m\u001b[0;34m:\u001b[0m \u001b[0mint\u001b[0m\u001b[0;34m,\u001b[0m \u001b[0maxis\u001b[0m\u001b[0;34m:\u001b[0m \u001b[0mint\u001b[0m\u001b[0;34m)\u001b[0m\u001b[0;34m:\u001b[0m\u001b[0;34m\u001b[0m\u001b[0;34m\u001b[0m\u001b[0m\n",
      "\u001b[0;32m~/anaconda3/envs/myspark/lib/python3.6/site-packages/pandas/core/generic.py\u001b[0m in \u001b[0;36mxs\u001b[0;34m(self, key, axis, level, drop_level)\u001b[0m\n\u001b[1;32m   3535\u001b[0m             \u001b[0mloc\u001b[0m\u001b[0;34m,\u001b[0m \u001b[0mnew_index\u001b[0m \u001b[0;34m=\u001b[0m \u001b[0mself\u001b[0m\u001b[0;34m.\u001b[0m\u001b[0mindex\u001b[0m\u001b[0;34m.\u001b[0m\u001b[0mget_loc_level\u001b[0m\u001b[0;34m(\u001b[0m\u001b[0mkey\u001b[0m\u001b[0;34m,\u001b[0m \u001b[0mdrop_level\u001b[0m\u001b[0;34m=\u001b[0m\u001b[0mdrop_level\u001b[0m\u001b[0;34m)\u001b[0m\u001b[0;34m\u001b[0m\u001b[0;34m\u001b[0m\u001b[0m\n\u001b[1;32m   3536\u001b[0m         \u001b[0;32melse\u001b[0m\u001b[0;34m:\u001b[0m\u001b[0;34m\u001b[0m\u001b[0;34m\u001b[0m\u001b[0m\n\u001b[0;32m-> 3537\u001b[0;31m             \u001b[0mloc\u001b[0m \u001b[0;34m=\u001b[0m \u001b[0mself\u001b[0m\u001b[0;34m.\u001b[0m\u001b[0mindex\u001b[0m\u001b[0;34m.\u001b[0m\u001b[0mget_loc\u001b[0m\u001b[0;34m(\u001b[0m\u001b[0mkey\u001b[0m\u001b[0;34m)\u001b[0m\u001b[0;34m\u001b[0m\u001b[0;34m\u001b[0m\u001b[0m\n\u001b[0m\u001b[1;32m   3538\u001b[0m \u001b[0;34m\u001b[0m\u001b[0m\n\u001b[1;32m   3539\u001b[0m             \u001b[0;32mif\u001b[0m \u001b[0misinstance\u001b[0m\u001b[0;34m(\u001b[0m\u001b[0mloc\u001b[0m\u001b[0;34m,\u001b[0m \u001b[0mnp\u001b[0m\u001b[0;34m.\u001b[0m\u001b[0mndarray\u001b[0m\u001b[0;34m)\u001b[0m\u001b[0;34m:\u001b[0m\u001b[0;34m\u001b[0m\u001b[0;34m\u001b[0m\u001b[0m\n",
      "\u001b[0;32m~/anaconda3/envs/myspark/lib/python3.6/site-packages/pandas/core/indexes/base.py\u001b[0m in \u001b[0;36mget_loc\u001b[0;34m(self, key, method, tolerance)\u001b[0m\n\u001b[1;32m   2646\u001b[0m                 \u001b[0;32mreturn\u001b[0m \u001b[0mself\u001b[0m\u001b[0;34m.\u001b[0m\u001b[0m_engine\u001b[0m\u001b[0;34m.\u001b[0m\u001b[0mget_loc\u001b[0m\u001b[0;34m(\u001b[0m\u001b[0mkey\u001b[0m\u001b[0;34m)\u001b[0m\u001b[0;34m\u001b[0m\u001b[0;34m\u001b[0m\u001b[0m\n\u001b[1;32m   2647\u001b[0m             \u001b[0;32mexcept\u001b[0m \u001b[0mKeyError\u001b[0m\u001b[0;34m:\u001b[0m\u001b[0;34m\u001b[0m\u001b[0;34m\u001b[0m\u001b[0m\n\u001b[0;32m-> 2648\u001b[0;31m                 \u001b[0;32mreturn\u001b[0m \u001b[0mself\u001b[0m\u001b[0;34m.\u001b[0m\u001b[0m_engine\u001b[0m\u001b[0;34m.\u001b[0m\u001b[0mget_loc\u001b[0m\u001b[0;34m(\u001b[0m\u001b[0mself\u001b[0m\u001b[0;34m.\u001b[0m\u001b[0m_maybe_cast_indexer\u001b[0m\u001b[0;34m(\u001b[0m\u001b[0mkey\u001b[0m\u001b[0;34m)\u001b[0m\u001b[0;34m)\u001b[0m\u001b[0;34m\u001b[0m\u001b[0;34m\u001b[0m\u001b[0m\n\u001b[0m\u001b[1;32m   2649\u001b[0m         \u001b[0mindexer\u001b[0m \u001b[0;34m=\u001b[0m \u001b[0mself\u001b[0m\u001b[0;34m.\u001b[0m\u001b[0mget_indexer\u001b[0m\u001b[0;34m(\u001b[0m\u001b[0;34m[\u001b[0m\u001b[0mkey\u001b[0m\u001b[0;34m]\u001b[0m\u001b[0;34m,\u001b[0m \u001b[0mmethod\u001b[0m\u001b[0;34m=\u001b[0m\u001b[0mmethod\u001b[0m\u001b[0;34m,\u001b[0m \u001b[0mtolerance\u001b[0m\u001b[0;34m=\u001b[0m\u001b[0mtolerance\u001b[0m\u001b[0;34m)\u001b[0m\u001b[0;34m\u001b[0m\u001b[0;34m\u001b[0m\u001b[0m\n\u001b[1;32m   2650\u001b[0m         \u001b[0;32mif\u001b[0m \u001b[0mindexer\u001b[0m\u001b[0;34m.\u001b[0m\u001b[0mndim\u001b[0m \u001b[0;34m>\u001b[0m \u001b[0;36m1\u001b[0m \u001b[0;32mor\u001b[0m \u001b[0mindexer\u001b[0m\u001b[0;34m.\u001b[0m\u001b[0msize\u001b[0m \u001b[0;34m>\u001b[0m \u001b[0;36m1\u001b[0m\u001b[0;34m:\u001b[0m\u001b[0;34m\u001b[0m\u001b[0;34m\u001b[0m\u001b[0m\n",
      "\u001b[0;32mpandas/_libs/index.pyx\u001b[0m in \u001b[0;36mpandas._libs.index.IndexEngine.get_loc\u001b[0;34m()\u001b[0m\n",
      "\u001b[0;32mpandas/_libs/index.pyx\u001b[0m in \u001b[0;36mpandas._libs.index.IndexEngine.get_loc\u001b[0;34m()\u001b[0m\n",
      "\u001b[0;32mpandas/_libs/hashtable_class_helper.pxi\u001b[0m in \u001b[0;36mpandas._libs.hashtable.Int64HashTable.get_item\u001b[0;34m()\u001b[0m\n",
      "\u001b[0;32mpandas/_libs/hashtable_class_helper.pxi\u001b[0m in \u001b[0;36mpandas._libs.hashtable.Int64HashTable.get_item\u001b[0;34m()\u001b[0m\n",
      "\u001b[0;31mKeyError\u001b[0m: 1031"
     ]
    }
   ],
   "source": [
    "n=1031\n",
    "x = df.loc[n, conc_columns].values.astype(np.float32)\n",
    "y = df.loc[n, response_norm].values.astype(np.float32)\n",
    "plt.scatter(x, y);"
   ]
  },
  {
   "cell_type": "code",
   "execution_count": null,
   "metadata": {},
   "outputs": [],
   "source": []
  },
  {
   "cell_type": "code",
   "execution_count": null,
   "metadata": {},
   "outputs": [],
   "source": []
  },
  {
   "cell_type": "code",
   "execution_count": null,
   "metadata": {},
   "outputs": [],
   "source": [
    "xdata = np.array([400, 600, 800, 1000, 1200, 1400, 1600])\n",
    "ydata = np.array([0, 0, 0.13, 0.35, 0.75, 0.89, 0.91])\n",
    "\n",
    "def fsigmoid(x, a, b):\n",
    "    return 1.0 / (1.0 + np.exp(-a*(x-b)))\n",
    "\n",
    "popt, pcov = curve_fit(fsigmoid, xdata, ydata, method='dogbox', bounds=([0., 600.],[0.01, 1200.]))\n",
    "plt.scatter(xdata, ydata)\n",
    "plt.plot(xdata, fsigmoid(xdata, *popt));"
   ]
  },
  {
   "cell_type": "code",
   "execution_count": null,
   "metadata": {},
   "outputs": [],
   "source": [
    "r2_scores= []\n",
    "guesses = np.linspace(-2,2,20)\n",
    "for i in guesses:\n",
    "    \n",
    "    p0 = [i, 0.1]\n",
    "\n",
    "    popt, pcov = curve_fit(fsigmoid, xdata_log, ydata, p0=p0, method='dogbox')\n",
    "    y_fitted = fsigmoid(xdata_log, *popt) \n",
    "    r2 = r2_score(ydata, y_fitted)\n",
    "    r2_scores.append(abs(r2))  \n",
    "    \n",
    "plt.scatter(guesses, r2_scores);\n",
    "#but this parameter i = p should correspond to IC50! It means that it should be somewhere close to 0.4 \n",
    "#as it comes from the visual analysis of the graph"
   ]
  },
  {
   "cell_type": "code",
   "execution_count": null,
   "metadata": {},
   "outputs": [],
   "source": [
    "r2_scores= []\n",
    "guesses = np.linspace(0,20,40)\n",
    "for i in guesses:\n",
    "    \n",
    "    p0 = [0.4, i]\n",
    "\n",
    "    popt, pcov = curve_fit(fsigmoid, xdata, ydata, p0=p0, method='dogbox')\n",
    "    y_fitted = fsigmoid(xdata, *popt) \n",
    "    r2 = r2_score(ydata, y_fitted)\n",
    "    r2_scores.append(abs(r2))  \n",
    "    \n",
    "plt.scatter(guesses, r2_scores);"
   ]
  },
  {
   "cell_type": "code",
   "execution_count": null,
   "metadata": {},
   "outputs": [],
   "source": [
    "plt.plot(guesses, r2_scores);\n"
   ]
  },
  {
   "cell_type": "code",
   "execution_count": null,
   "metadata": {},
   "outputs": [],
   "source": [
    "https://biopython.org/DIST/docs/api/Bio.phenotype.pm_fitting-pysrc.html"
   ]
  },
  {
   "cell_type": "code",
   "execution_count": null,
   "metadata": {},
   "outputs": [],
   "source": [
    "Filtering logics:\n",
    "    1. first values of y>1 => filter out\n",
    "    2. last values of y >0.9 => filter out"
   ]
  },
  {
   "cell_type": "code",
   "execution_count": null,
   "metadata": {},
   "outputs": [],
   "source": [
    "https://jbhender.github.io/Stats506/F18/GP/Group16.html"
   ]
  },
  {
   "cell_type": "code",
   "execution_count": null,
   "metadata": {},
   "outputs": [],
   "source": [
    "https://www.futuremedicine.com/doi/pdf/10.2217/pgs.16.15"
   ]
  },
  {
   "cell_type": "code",
   "execution_count": null,
   "metadata": {},
   "outputs": [],
   "source": [
    "drug_332_log[response_norm]=np.log(drug_332_log[response_norm])"
   ]
  },
  {
   "cell_type": "code",
   "execution_count": null,
   "metadata": {},
   "outputs": [],
   "source": [
    "drug_332_short = drug_332['CELL_LINE_NAME', 'COSMIC_ID', 'DRUG_ID',\n",
    "       'DRUGID_COSMICID', 'FOLD_DILUTION', 'MAX_CONC', 'fd_num_0', 'fd_num_1',\n",
    "       'fd_num_2', 'fd_num_3', 'fd_num_4', 'fd_num_5', 'fd_num_6', 'fd_num_7',\n",
    "       'fd_num_8', 'fd_num_9', 'norm_cells_0', 'norm_cells_1', 'norm_cells_2',\n",
    "       'norm_cells_3', 'norm_cells_4', 'norm_cells_5', 'norm_cells_6',\n",
    "       'norm_cells_7', 'norm_cells_8', 'norm_cells_9'].columns"
   ]
  },
  {
   "cell_type": "code",
   "execution_count": null,
   "metadata": {},
   "outputs": [],
   "source": [
    "conc = np.array(drug_curves[\"MAX_CONC\"].unique())\n",
    "conc.min(), conc.max()"
   ]
  },
  {
   "cell_type": "code",
   "execution_count": null,
   "metadata": {},
   "outputs": [],
   "source": [
    "drug_id=238\n",
    "conc = np.array(drug_curves[drug_curves[\"DRUG_ID\"]==drug_id][\"MAX_CONC\"].unique())"
   ]
  },
  {
   "cell_type": "code",
   "execution_count": null,
   "metadata": {},
   "outputs": [],
   "source": [
    "several_conc =[]\n",
    "for drug_id in drug_curves[\"DRUG_ID\"].unique():\n",
    "    conc = np.array(drug_curves[drug_curves[\"DRUG_ID\"]==drug_id][\"MAX_CONC\"].unique())\n",
    "    if len(conc)>1:\n",
    "        several_conc.append(drug_id)\n",
    "        print(\"Drug id: %d, Available concentrations: %d, min concetraion: %0.2f, max concetration: %0.2f\" % (drug_id, len(conc), conc.min(), conc.max()))"
   ]
  },
  {
   "cell_type": "code",
   "execution_count": null,
   "metadata": {},
   "outputs": [],
   "source": [
    "len(several_conc)"
   ]
  },
  {
   "cell_type": "code",
   "execution_count": null,
   "metadata": {},
   "outputs": [],
   "source": [
    "drug_curves[drug_curves[conc_columns[-1]].isnull()][conc_columns]"
   ]
  },
  {
   "cell_type": "raw",
   "metadata": {},
   "source": [
    "Question to discuss\n",
    "\n",
    "Current poblems\n",
    "\n",
    "1. Drug response curves\n",
    "    - What are actual dose-response curves? Which coordinates from drug_curves should I use?\n",
    "      Where is cell viability?\n",
    "    - if y = norm_cells_0 etc, why are the values >1?\n",
    "\n",
    "\n",
    "2. Curve fitting and summary characteristics\n",
    "    - paper, p.15 Sigmoid drug response model \n",
    "    log10 drug dosage scale (p.15),  log2dosage scale (p.17)?\n",
    "    - GP => paper, p.16 - last paragraph GPFlow software\n",
    "\n",
    "Further work:\n",
    "1. Are cancer lines examined only before drug treatment? substract data and to see the changes - predict max-min limits\n",
    "2. parsing www.drugbank.ca -> properties only for 152 drugs (from 265)"
   ]
  },
  {
   "cell_type": "code",
   "execution_count": null,
   "metadata": {},
   "outputs": [],
   "source": [
    "filter data drug vs different cells,\n",
    "script to see which data are good, AUC, noise/data"
   ]
  },
  {
   "cell_type": "code",
   "execution_count": null,
   "metadata": {},
   "outputs": [],
   "source": []
  }
 ],
 "metadata": {
  "kernelspec": {
   "display_name": "myspark",
   "language": "python",
   "name": "myspark"
  },
  "language_info": {
   "codemirror_mode": {
    "name": "ipython",
    "version": 3
   },
   "file_extension": ".py",
   "mimetype": "text/x-python",
   "name": "python",
   "nbconvert_exporter": "python",
   "pygments_lexer": "ipython3",
   "version": "3.6.10"
  }
 },
 "nbformat": 4,
 "nbformat_minor": 2
}
