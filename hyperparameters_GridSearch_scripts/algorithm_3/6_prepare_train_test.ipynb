{
 "cells": [
  {
   "cell_type": "code",
   "execution_count": 1,
   "metadata": {},
   "outputs": [],
   "source": [
    "import pandas as pd\n",
    "import numpy as np \n",
    "import os"
   ]
  },
  {
   "cell_type": "code",
   "execution_count": 2,
   "metadata": {},
   "outputs": [
    {
     "data": {
      "text/plain": [
       "['drug_ids_50_restr.txt',\n",
       " 'drug_cells_kernels_best_parameters.csv',\n",
       " 'X_features_1122_easy_read.txt',\n",
       " 'drug_cells_PubChem_scaled_kernels_best_parameters.csv',\n",
       " '.DS_Store',\n",
       " '2_train08_min10.csv',\n",
       " 'drugs_with_pubchem_id.txt',\n",
       " 'drugs67_more_10.txt',\n",
       " 'test02_min10_restr.csv',\n",
       " 'drug_features_with_pubchem_properties.csv',\n",
       " 'drug_ids_10.txt',\n",
       " 'large_train_sigmoid4.csv',\n",
       " 'drugs10_more_50.txt',\n",
       " 'drugs_with_no_pubchem_id.txt',\n",
       " 'statistics_of_sigmoid_coefficients.csv',\n",
       " 'test02_merged_fitted_sigmoid4_123_with_drugs_properties_min10.csv',\n",
       " 'large_test_sigmoid4.csv',\n",
       " 'target_target_pathway_df.csv',\n",
       " 'drug_ids_10_restr.txt',\n",
       " 'X_features_Targets.txt',\n",
       " 'X_PubChem_features.txt',\n",
       " '.ipynb_checkpoints',\n",
       " '2_test02_min10.csv',\n",
       " 'drug_ids_50.txt',\n",
       " 'ridge_coef4.csv',\n",
       " 'train08_min10_restr.csv',\n",
       " 'train08_merged_fitted_sigmoid4_123_with_drugs_properties_min10.csv',\n",
       " 'X_columns_1094.txt',\n",
       " 'drug_cells_description_kernels_best_parameters.csv',\n",
       " 'filtered_drug_profiles_123.csv',\n",
       " 'drug_ids_10_2.txt',\n",
       " 'ridge_coef1.csv',\n",
       " 'X_PubChem_properties.txt',\n",
       " 'X_features_Target_Pathway.txt',\n",
       " 'merged_fitted_sigmoid4_123_with_drugs_properties.csv',\n",
       " 'drug_cells_PubChem_kernels_best_parameters.csv',\n",
       " 'ridge_coef3.csv',\n",
       " 'ridge_coef2.csv',\n",
       " 'X_features_cancer_cell_lines.txt',\n",
       " 'columns_to_normalise.txt']"
      ]
     },
     "execution_count": 2,
     "metadata": {},
     "output_type": "execute_result"
    }
   ],
   "source": [
    "os.listdir(\"../results\")"
   ]
  },
  {
   "cell_type": "markdown",
   "metadata": {},
   "source": [
    "### Drugs with properties"
   ]
  },
  {
   "cell_type": "code",
   "execution_count": 3,
   "metadata": {},
   "outputs": [
    {
     "data": {
      "text/plain": [
       "(2585, 1381)"
      ]
     },
     "execution_count": 3,
     "metadata": {},
     "output_type": "execute_result"
    }
   ],
   "source": [
    "df = pd.read_csv(\"../results/merged_fitted_sigmoid4_123_with_drugs_properties.csv\")\n",
    "df.shape"
   ]
  },
  {
   "cell_type": "code",
   "execution_count": 4,
   "metadata": {},
   "outputs": [
    {
     "data": {
      "text/plain": [
       "(2523, 1381)"
      ]
     },
     "execution_count": 4,
     "metadata": {},
     "output_type": "execute_result"
    }
   ],
   "source": [
    "df = df[df[\"param_1\"]<1]\n",
    "df.shape"
   ]
  },
  {
   "cell_type": "code",
   "execution_count": 5,
   "metadata": {},
   "outputs": [
    {
     "data": {
      "text/plain": [
       "Index(['Unnamed: 0', 'DRUG_ID', 'COSMIC_ID', 'fd_num_0', 'fd_num_1',\n",
       "       'fd_num_2', 'fd_num_3', 'fd_num_4', 'fd_num_5', 'fd_num_6',\n",
       "       ...\n",
       "       'JNK and p38 signaling', 'Metabolism', 'Mitosis', 'Other',\n",
       "       'Other, kinases', 'PI3K/MTOR signaling',\n",
       "       'Protein stability and degradation', 'RTK signaling', 'WNT signaling',\n",
       "       'p53 pathway'],\n",
       "      dtype='object', length=1381)"
      ]
     },
     "execution_count": 5,
     "metadata": {},
     "output_type": "execute_result"
    }
   ],
   "source": [
    "df.columns"
   ]
  },
  {
   "cell_type": "markdown",
   "metadata": {},
   "source": [
    "### Split into train and test data with more than 10 record per drug"
   ]
  },
  {
   "cell_type": "code",
   "execution_count": 6,
   "metadata": {},
   "outputs": [
    {
     "name": "stdout",
     "output_type": "stream",
     "text": [
      "Number of drugs: 67\n"
     ]
    },
    {
     "data": {
      "text/plain": [
       "((1792, 1381), (479, 1381))"
      ]
     },
     "execution_count": 6,
     "metadata": {},
     "output_type": "execute_result"
    }
   ],
   "source": [
    "gr = df.groupby(\"DRUG_ID\").size()\n",
    "drugs = gr[gr>10].index\n",
    "print(\"Number of drugs:\", len(drugs))        \n",
    "\n",
    "# with open(\"../results/drugs10_more_50.txt\", 'w') as f:\n",
    "#     for s in drugs10_more_50:\n",
    "#         f.write(str(s) + '\\n')\n",
    "        \n",
    "# with open(\"../results/drugs67_more_10.txt\", 'w') as f:\n",
    "#     for s in drugs67_more_10:\n",
    "#         f.write(str(s) + '\\n')\n",
    "\n",
    "train_ratio = 0.8\n",
    "train = pd.DataFrame()\n",
    "test = pd.DataFrame()\n",
    "np.random.seed(123)\n",
    "indexes = np.random.permutation(df.index)\n",
    "\n",
    "for drug_id in drugs:\n",
    "    df_i = df[df[\"DRUG_ID\"]==drug_id]\n",
    "    indexes = np.random.permutation(df_i.index)\n",
    "    train_size = int(df_i.shape[0]*train_ratio)\n",
    "    indexes_train = indexes[:train_size]\n",
    "    indexes_test = indexes[train_size:]\n",
    "    train = pd.concat([train, df_i.loc[indexes_train, :]])\n",
    "    test = pd.concat([test, df_i.loc[indexes_test, :]])\n",
    "    \n",
    "# #### Split into train and test data with more than 10 record per drug \n",
    "train.shape, test.shape"
   ]
  },
  {
   "cell_type": "markdown",
   "metadata": {},
   "source": [
    "## R2 restriction"
   ]
  },
  {
   "cell_type": "code",
   "execution_count": 7,
   "metadata": {},
   "outputs": [],
   "source": [
    "from sklearn.metrics import r2_score\n",
    "\n",
    "def sigmoid_4_param(x, x0, L, k, d):\n",
    "    \"\"\" Comparing with Dennis Wang's sigmoid:\n",
    "    x0 -  p - position, correlation with IC50 or EC50\n",
    "        bounds [0, 1]\n",
    "    L = 1 in Dennis Wang's sigmoid, protect from devision by zero if x is too small \n",
    "        L<1 inverted sigmoid, l=100 - lower upper and lower boundso sigmpoid on y axis (y= [0.1, 0.11])\n",
    "        bounds [0.8, 10]\n",
    "    k = -1/s (s -shape parameter)  default = -10 k=0 straight line, k<0 sigmoid around k=-10\n",
    "        bounds [1, -100]\n",
    "    d - determines the vertical position of the sigmoid - shift on y axis - better fitting then Dennis Wang's sigmoid\n",
    "         bounds [0, 0.9]\n",
    "    parameters_bound ((0, 0.8, -100, 0), (1, 10, 1, 0.9))\n",
    "    \"\"\"\n",
    "    return ( 1/ (L + np.exp(-k*(x-x0))) + d)\n",
    "\n",
    "def r2_score_sigmoid_4_param(df, x_columns, y_columns, param_columns = []):\n",
    "    r2_scores=np.zeros(len(df.index))\n",
    "    for i in range(len(df.index)):\n",
    "        x = df.loc[df.index[i], x_columns].values.astype(np.float32)\n",
    "        y = df.loc[df.index[i], y_columns].values.astype(np.float32)\n",
    "        fit_param = df.loc[df.index[i], param_columns].values.astype(np.float32)\n",
    "#         print(fit_param)\n",
    "        y_fit = sigmoid_4_param(x, *fit_param)\n",
    "        r2_scores[i] = r2_score(y, y_fit)\n",
    "    return r2_scores\n",
    "\n",
    "df[\"r2_scores\"] = r2_score_sigmoid_4_param(df.reset_index(), \n",
    "                                                   x_columns = [\"fd_num_\"+str(i) for i in range(10)],\n",
    "                                                  y_columns = [\"norm_cells_\" + str(i) for i in range(10)],\n",
    "                                                  param_columns = [\"param_\" + str(i) for i in range(1,5)])"
   ]
  },
  {
   "cell_type": "code",
   "execution_count": 8,
   "metadata": {},
   "outputs": [
    {
     "name": "stderr",
     "output_type": "stream",
     "text": [
      "/Users/Marina/anaconda3/envs/myspark/lib/python3.6/site-packages/ipykernel_launcher.py:16: RuntimeWarning: overflow encountered in exp\n",
      "  app.launch_new_instance()\n",
      "/Users/Marina/anaconda3/envs/myspark/lib/python3.6/site-packages/ipykernel_launcher.py:16: RuntimeWarning: overflow encountered in exp\n",
      "  app.launch_new_instance()\n",
      "/Users/Marina/anaconda3/envs/myspark/lib/python3.6/site-packages/ipykernel_launcher.py:16: RuntimeWarning: overflow encountered in exp\n",
      "  app.launch_new_instance()\n"
     ]
    },
    {
     "name": "stdout",
     "output_type": "stream",
     "text": [
      "(2496, 1382)\n",
      "10\n"
     ]
    },
    {
     "data": {
      "text/plain": [
       "((723, 1382), (185, 1382))"
      ]
     },
     "execution_count": 8,
     "metadata": {},
     "output_type": "execute_result"
    }
   ],
   "source": [
    "df2= df[df[\"r2_scores\"]>0.9].copy()\n",
    "print(df2.shape)\n",
    "gr = df2.groupby(\"DRUG_ID\").size()\n",
    "drugs = gr[gr>10].index\n",
    "\n",
    "with open(\"../results/drug_ids_10_restr.txt\", 'w') as f:\n",
    "    for s in drugs:\n",
    "        f.write(str(s) + '\\n')\n",
    "\n",
    "gr = df2.groupby(\"DRUG_ID\").size()\n",
    "drugs = gr[gr>50].index\n",
    "\n",
    "with open(\"../results/drug_ids_50_restr.txt\", 'w') as f:\n",
    "    for s in drugs:\n",
    "        f.write(str(s) + '\\n')        \n",
    "        \n",
    "print(len(drugs))\n",
    "\n",
    "train_ratio = 0.8\n",
    "train = pd.DataFrame()\n",
    "test = pd.DataFrame()\n",
    "np.random.seed(123)\n",
    "indexes = np.random.permutation(df2.index)\n",
    "\n",
    "for drug_id in drugs:\n",
    "    df2_i = df2[df2[\"DRUG_ID\"]==drug_id]\n",
    "    indexes = np.random.permutation(df2_i.index)\n",
    "    train_size = int(df2_i.shape[0]*train_ratio)\n",
    "    indexes_train = indexes[:train_size]\n",
    "    indexes_test = indexes[train_size:]\n",
    "    train = pd.concat([train, df2_i.loc[indexes_train, :]])\n",
    "    test = pd.concat([test, df2_i.loc[indexes_test, :]])\n",
    "    \n",
    "# train.to_csv(\"../results/train08_min10_restr.csv\")\n",
    "# test.to_csv(\"../results/test02_min10_restr.csv\")    \n",
    "train.shape, test.shape"
   ]
  },
  {
   "cell_type": "markdown",
   "metadata": {},
   "source": [
    "## Restrictions for coefficients"
   ]
  },
  {
   "cell_type": "code",
   "execution_count": 15,
   "metadata": {},
   "outputs": [
    {
     "data": {
      "text/plain": [
       "((588, 1382), (152, 1382))"
      ]
     },
     "execution_count": 15,
     "metadata": {},
     "output_type": "execute_result"
    }
   ],
   "source": [
    "df3 =df[(df[\"param_1\"] <1) & (df[\"param_2\"] >-5) & (df[\"param_3\"] >-120) & (df[\"param_4\"] >0)].copy()\n",
    "\n",
    "\n",
    "gr = df3.groupby(\"DRUG_ID\").size()\n",
    "drugs = gr[gr>10].index\n",
    "\n",
    "with open(\"../results/drug_ids_10_restr.txt\", 'w') as f:\n",
    "    for s in drugs:\n",
    "        f.write(str(s) + '\\n')\n",
    "\n",
    "gr = df3.groupby(\"DRUG_ID\").size()\n",
    "drugs = gr[gr>50].index\n",
    "\n",
    "with open(\"../results/drug_ids_50_restr.txt\", 'w') as f:\n",
    "    for s in drugs:\n",
    "        f.write(str(s) + '\\n')        \n",
    "        \n",
    "len(drugs)\n",
    "\n",
    "train_ratio = 0.8\n",
    "train = pd.DataFrame()\n",
    "test = pd.DataFrame()\n",
    "np.random.seed(123)\n",
    "indexes = np.random.permutation(df3.index)\n",
    "\n",
    "for drug_id in drugs:\n",
    "    df3_i = df3[df3[\"DRUG_ID\"]==drug_id]\n",
    "    indexes = np.random.permutation(df3_i.index)\n",
    "    train_size = int(df3_i.shape[0]*train_ratio)\n",
    "    indexes_train = indexes[:train_size]\n",
    "    indexes_test = indexes[train_size:]\n",
    "    train = pd.concat([train, df3_i.loc[indexes_train, :]])\n",
    "    test = pd.concat([test, df3_i.loc[indexes_test, :]])\n",
    "    \n",
    "# train.to_csv(\"../results/train08_min10_restr.csv\")\n",
    "# test.to_csv(\"../results/test02_min10_restr.csv\")    \n",
    "train.shape, test.shape"
   ]
  },
  {
   "cell_type": "code",
   "execution_count": null,
   "metadata": {},
   "outputs": [],
   "source": [
    "train.shape[0], test.shape[0], train.shape[0]+test.shape[0], df.set_index(\"DRUG_ID\").loc[drugs,:].shape[0]"
   ]
  },
  {
   "cell_type": "code",
   "execution_count": null,
   "metadata": {},
   "outputs": [],
   "source": [
    "\"MAX_CONC\" in train.columns"
   ]
  },
  {
   "cell_type": "code",
   "execution_count": null,
   "metadata": {},
   "outputs": [],
   "source": [
    "gr = df.groupby(\"DRUG_ID\")[\"COSMIC_ID\"].count()\n",
    "drugs10_more_50 = gr[gr>50].index\n",
    "len(drugs10_more_50), drugs10_more_50"
   ]
  },
  {
   "cell_type": "raw",
   "metadata": {},
   "source": [
    "gr = df.groupby(\"DRUG_ID\")[\"COSMIC_ID\"].count()\n",
    "drugs67_more_10 = gr[gr>10].index\n",
    "len(drugs67_more_10)"
   ]
  },
  {
   "cell_type": "raw",
   "metadata": {},
   "source": [
    "with open(\"../results/drugs10_more_50.txt\", 'w') as f:\n",
    "    for s in drugs10_more_50:\n",
    "        f.write(str(s) + '\\n')\n",
    "        \n",
    "with open(\"../results/drugs67_more_10.txt\", 'w') as f:\n",
    "    for s in drugs67_more_10:\n",
    "        f.write(str(s) + '\\n')\n",
    "\n",
    "train = pd.read_csv(\"../results/2_train08_min10.csv\")\n",
    "test = pd.read_csv(\"../results/2_test02_min10.csv\") "
   ]
  },
  {
   "cell_type": "code",
   "execution_count": null,
   "metadata": {},
   "outputs": [],
   "source": [
    "test.shape"
   ]
  },
  {
   "cell_type": "code",
   "execution_count": null,
   "metadata": {},
   "outputs": [],
   "source": []
  }
 ],
 "metadata": {
  "kernelspec": {
   "display_name": "myspark",
   "language": "python",
   "name": "myspark"
  },
  "language_info": {
   "codemirror_mode": {
    "name": "ipython",
    "version": 3
   },
   "file_extension": ".py",
   "mimetype": "text/x-python",
   "name": "python",
   "nbconvert_exporter": "python",
   "pygments_lexer": "ipython3",
   "version": "3.6.10"
  }
 },
 "nbformat": 4,
 "nbformat_minor": 4
}
