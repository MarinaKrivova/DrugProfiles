{
 "cells": [
  {
   "cell_type": "code",
   "execution_count": 1,
   "metadata": {
    "collapsed": true
   },
   "outputs": [],
   "source": [
    "import pandas as pd\n",
    "import numpy as np\n",
    "import seaborn as sns\n",
    "import matplotlib.pyplot as plt\n",
    "_FOLDER = \"../data/\""
   ]
  },
  {
   "cell_type": "code",
   "execution_count": 2,
   "metadata": {
    "collapsed": true
   },
   "outputs": [],
   "source": [
    "def FilteringCurves(df, response_columns, filtering_scenario = [1,2,3], first_columns_to_compare = [1, 2], last_columns_to_compare = [-1, -2],\n",
    "             tolerance=0.05, first_points_lower_limit = 0.8, last_points_upper_limit = 0.4):\n",
    "    \"\"\"\n",
    "    filtering_scenario = [1,2,3]\n",
    "    1. Ensure that all the response are less than 1\n",
    "    \n",
    "    2. Ensure that first and last points form plateus\n",
    "    the minimal number of points are specified in the function arguments\n",
    "    by default, two points for both lpateus are considered\n",
    "    tolerance =0.05 values to ensure the points form a plateu\n",
    "    first_columns_to_compare = [1, 2]  - first two columns for plateu\n",
    "    last_columns_to_compare = [-1, -2] - last two columns for plateu\n",
    "    \n",
    "    3. Specify location of the plateus - first_points_lower_limit and last_points_upper_limit\n",
    "    \n",
    "    \"\"\"\n",
    "    df = df.copy()\n",
    "    print(\"Original dataset:\", df.shape)\n",
    "    \n",
    "    for i in filtering_scenario:\n",
    "        if i ==1:\n",
    "            #1st filtering\n",
    "            index_row_more_than_1 = []\n",
    "            for col in response_columns:\n",
    "                if sum(df[col]>1)>0:\n",
    "                    index_row_more_than_1.extend(df[df[col]>1].index)\n",
    "        \n",
    "            index_row_less_than_1 = set(df.index) - set(index_row_more_than_1)\n",
    "            df = df.loc[index_row_less_than_1, :].copy()\n",
    "            print(\"1st filtration (Ensure that all the response are less than 1): Filtered dataset:\", df.shape)\n",
    "        elif i== 2: \n",
    "            #2nd filtering\n",
    "            df[\"dif_first\"]=abs(df[response_columns[first_columns_to_compare[0]-1]]\\\n",
    "                                     - df[response_columns[first_columns_to_compare[1]-1]])\n",
    "            df[\"dif_last\"]=abs(df[response_columns[last_columns_to_compare[0]]] \\\n",
    "                                        - df[response_columns[last_columns_to_compare[1]]])\n",
    "\n",
    "            df = df[(df[\"dif_first\"]<= tolerance)\n",
    "                           &(df[\"dif_last\"]<= tolerance)]\n",
    "    \n",
    "            print(\"2d filtration (Ensure that first and last points form plateus): Filtered dataset:\", df.shape)\n",
    "        elif i== 3: \n",
    "                #3d filtering\n",
    "                df = df[(df[response_columns[1]]>first_points_lower_limit) \n",
    "                         & (df[response_columns[-1]]<last_points_upper_limit)]\n",
    "                print(\"3d stage filtration (Specified location of the plateus): Filtered dataset:\", df.shape)\n",
    "        else:\n",
    "            print(\"Unknown filtration scenario\")\n",
    "    \n",
    "    return df\n",
    "    \n",
    "def ShowResponseCurves(df, plots_in_row, plots_in_column, x_columns, y_columns, start_index=0, indexes=[]):\n",
    " \n",
    "                \n",
    "    fig = plt.figure(figsize=(14, 11))\n",
    "    fig.subplots_adjust(hspace=0.4, wspace=0.4)\n",
    "    n_plots= plots_in_row*plots_in_column\n",
    "    \n",
    "    if len(indexes) ==0:\n",
    "        indexes =df.index[start_index : start_index+n_plots]\n",
    "        \n",
    "    try:\n",
    "        for i, ind in list(enumerate(indexes)):\n",
    "            x = df.loc[ind, x_columns]\n",
    "            y = df.loc[ind, y_columns]\n",
    "                \n",
    "            ax = fig.add_subplot(plots_in_row, plots_in_column, i+1)\n",
    "            ax.scatter(x,y)\n",
    "            ax.set_title(str(ind)+\"_\"+str(df.loc[ind, \"DRUG_ID\"])+\"_\"+df.loc[ind, \"CELL_LINE_NAME\"])\n",
    "            ax.set_xlabel(\"Scaled dosage\")\n",
    "            ax.set_ylabel(\"Normalised response\")\n",
    "           \n",
    "    except:\n",
    "        print(\"ERROR: Number of indexes does not correspond to number of graphs to plot\")\n",
    "        "
   ]
  },
  {
   "cell_type": "markdown",
   "metadata": {},
   "source": [
    "### Original data"
   ]
  },
  {
   "cell_type": "code",
   "execution_count": 3,
   "metadata": {},
   "outputs": [
    {
     "name": "stderr",
     "output_type": "stream",
     "text": [
      "/home/acq18mk/.conda/envs/jupyter-spark/lib/python3.6/site-packages/IPython/core/interactiveshell.py:2698: DtypeWarning: Columns (28,30,31,33,34) have mixed types.Specify dtype option on import or set low_memory=False.\n",
      "  interactivity=interactivity, compiler=compiler, result=result)\n"
     ]
    },
    {
     "data": {
      "text/plain": [
       "(225384, 44)"
      ]
     },
     "execution_count": 3,
     "metadata": {},
     "output_type": "execute_result"
    }
   ],
   "source": [
    "drug_curves = pd.read_csv(_FOLDER+\"normalised_dose_response_data.csv\")\n",
    "conc_columns= [\"fd_num_\"+str(i) for i in range(10)]\n",
    "response_norm = ['norm_cells_'+str(i) for i in range(10)]\n",
    "\n",
    "drug_curves.shape"
   ]
  },
  {
   "cell_type": "code",
   "execution_count": 4,
   "metadata": {},
   "outputs": [],
   "source": [
    "ShowResponseCurves(drug_curves, plots_in_row=3, plots_in_column=3, \\\n",
    "                   x_columns=conc_columns, y_columns=response_norm, indexes=drug_curves.index[:9])"
   ]
  },
  {
   "cell_type": "markdown",
   "metadata": {},
   "source": [
    "### Filtered data"
   ]
  },
  {
   "cell_type": "markdown",
   "metadata": {},
   "source": [
    "**Filtering_curves**\n",
    "(df, response_columns, filtering_scenario = [1,2,3], first_columns_to_compare = [1, 2], last_columns_to_compare = [-1, -2], tolerance=0.05, first_points_lower_limit = 0.8, last_points_upper_limit = 0.4)\n",
    "\n",
    "filtering_scenario = [1,2,3]\n",
    "1. Ensure that all the response are less than 1\n",
    "\n",
    "2. Ensure that first and last points form a plateu\n",
    "the minimal number of points are specified in the function arguments\n",
    "by default, two points for both lpateus are considered\n",
    "tolerance =0.05 values to ensure the points form a plateu\n",
    "first_columns_to_compare = [1, 2]  - first two columns for plateu\n",
    "last_columns_to_compare = [-1, -2] - last two columns for plateu\n",
    "\n",
    "3. Specify location of the plateus - first_points_lower_limit and last_points_upper_limit"
   ]
  },
  {
   "cell_type": "code",
   "execution_count": 5,
   "metadata": {},
   "outputs": [
    {
     "name": "stdout",
     "output_type": "stream",
     "text": [
      "Original dataset: (225384, 44)\n",
      "1st filtration (Ensure that all the response are less than 1): Filtered dataset: (63325, 44)\n",
      "2d filtration (Ensure that first and last points form plateus): Filtered dataset: (6321, 46)\n",
      "3d stage filtration (Specified location of the plateus): Filtered dataset: (2776, 46)\n"
     ]
    }
   ],
   "source": [
    "df = FilteringCurves(drug_curves, filtering_scenario=[1, 2, 3], \\\n",
    "                        response_columns = response_norm, \\\n",
    "                        first_points_lower_limit = 0.8, last_points_upper_limit = 0.4)"
   ]
  },
  {
   "cell_type": "code",
   "execution_count": 6,
   "metadata": {},
   "outputs": [],
   "source": [
    "ShowResponseCurves(df, plots_in_row=3, plots_in_column=3, \\\n",
    "                   x_columns=conc_columns, y_columns=response_norm, indexes=df.index[:9])"
   ]
  },
  {
   "cell_type": "code",
   "execution_count": 7,
   "metadata": {},
   "outputs": [
    {
     "name": "stdout",
     "output_type": "stream",
     "text": [
      "\n",
      "1,2,3 filtration : less than 1, 2 plateus, limits for first and last points\n",
      "\n",
      "Original dataset: (225384, 44)\n",
      "1st filtration (Ensure that all the response are less than 1): Filtered dataset: (63325, 44)\n",
      "2d filtration (Ensure that first and last points form plateus): Filtered dataset: (6321, 46)\n",
      "3d stage filtration (Specified location of the plateus): Filtered dataset: (2776, 46)\n",
      "\n",
      "1,2 filtration : less than 1, 2 plateus, limits for first and last points\n",
      "\n",
      "Original dataset: (225384, 44)\n",
      "1st filtration (Ensure that all the response are less than 1): Filtered dataset: (63325, 44)\n",
      "2d filtration (Ensure that first and last points form plateus): Filtered dataset: (6321, 46)\n",
      "\n",
      "1, 3 filtration : less than 1, limits for first and last points\n",
      "\n",
      "Original dataset: (225384, 44)\n",
      "1st filtration (Ensure that all the response are less than 1): Filtered dataset: (63325, 44)\n",
      "3d stage filtration (Specified location of the plateus): Filtered dataset: (19037, 44)\n",
      "\n",
      "2,3 filtration : 2 plateus, limits for first and last points\n",
      "\n",
      "Original dataset: (225384, 44)\n",
      "2d filtration (Ensure that first and last points form plateus): Filtered dataset: (32974, 46)\n",
      "3d stage filtration (Specified location of the plateus): Filtered dataset: (7947, 46)\n"
     ]
    }
   ],
   "source": [
    "#save the data\n",
    "print(\"\\n1,2,3 filtration : less than 1, 2 plateus, limits for first and last points\\n\")\n",
    "df = FilteringCurves(drug_curves, filtering_scenario=[1, 2, 3], \\\n",
    "                        response_columns = response_norm, \\\n",
    "                        first_points_lower_limit = 0.8, last_points_upper_limit = 0.4)\n",
    "df.to_csv(\"../results/filtered_drug_profiles_123.csv\")\n",
    "\n",
    "print(\"\\n1,2 filtration : less than 1, 2 plateus, limits for first and last points\\n\")\n",
    "df = FilteringCurves(drug_curves, filtering_scenario=[1, 2], \\\n",
    "                        response_columns = response_norm, \\\n",
    "                        first_points_lower_limit = 0.8, last_points_upper_limit = 0.4)\n",
    "df.to_csv(\"../results/filtered_drug_profiles_12.csv\")\n",
    "\n",
    "print(\"\\n1, 3 filtration : less than 1, limits for first and last points\\n\")\n",
    "df = FilteringCurves(drug_curves, filtering_scenario=[1, 3], \\\n",
    "                        response_columns = response_norm, \\\n",
    "                        first_points_lower_limit = 0.8, last_points_upper_limit = 0.4)\n",
    "df.to_csv(\"../results/filtered_drug_profiles_13.csv\")\n",
    "\n",
    "print(\"\\n2,3 filtration : 2 plateus, limits for first and last points\\n\")\n",
    "df = FilteringCurves(drug_curves, filtering_scenario=[2, 3], \\\n",
    "                        response_columns = response_norm, \\\n",
    "                        first_points_lower_limit = 0.8, last_points_upper_limit = 0.4)\n",
    "df.to_csv(\"../results/filtered_drug_profiles_23.csv\")"
   ]
  },
  {
   "cell_type": "code",
   "execution_count": null,
   "metadata": {
    "collapsed": true
   },
   "outputs": [],
   "source": []
  }
 ],
 "metadata": {
  "anaconda-cloud": {},
  "kernelspec": {
   "display_name": "Python [conda env:jupyter-spark]",
   "language": "python",
   "name": "conda-env-jupyter-spark-py"
  },
  "language_info": {
   "codemirror_mode": {
    "name": "ipython",
    "version": 3
   },
   "file_extension": ".py",
   "mimetype": "text/x-python",
   "name": "python",
   "nbconvert_exporter": "python",
   "pygments_lexer": "ipython3",
   "version": "3.6.5"
  }
 },
 "nbformat": 4,
 "nbformat_minor": 2
}
