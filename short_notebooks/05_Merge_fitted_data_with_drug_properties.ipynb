{
 "cells": [
  {
   "cell_type": "code",
   "execution_count": 1,
   "metadata": {},
   "outputs": [],
   "source": [
    "import pandas as pd\n",
    "import numpy as np\n",
    "import warnings\n",
    "warnings.filterwarnings(\"ignore\")\n",
    "import os"
   ]
  },
  {
   "cell_type": "code",
   "execution_count": 2,
   "metadata": {},
   "outputs": [
    {
     "data": {
      "text/plain": [
       "['drug_cells_kernels_best_parameters.csv',\n",
       " 'X_features_1122_easy_read.txt',\n",
       " 'drug_cells_PubChem_scaled_kernels_best_parameters.csv',\n",
       " '.DS_Store',\n",
       " 'merged_drug_profiles_cells_sigmoid4_123.csv',\n",
       " 'drugs_with_pubchem_id.txt',\n",
       " 'drug_features_with_pubchem_properties.csv',\n",
       " 'drugs_with_no_pubchem_id.txt',\n",
       " 'statistics_of_sigmoid_coefficients.csv',\n",
       " 'target_target_pathway_df.csv',\n",
       " 'X_features_Targets.txt',\n",
       " 'X_PubChem_features.txt',\n",
       " '.ipynb_checkpoints',\n",
       " 'X_columns_1094.txt',\n",
       " 'drug_cells_description_kernels_best_parameters.csv',\n",
       " 'filtered_drug_profiles_123.csv',\n",
       " 'X_PubChem_properties.txt',\n",
       " 'X_features_Target_Pathway.txt',\n",
       " 'merged_fitted_sigmoid4_123_with_drugs_properties.csv',\n",
       " 'drug_cells_PubChem_kernels_best_parameters.csv',\n",
       " 'X_features_cancer_cell_lines.txt']"
      ]
     },
     "execution_count": 2,
     "metadata": {},
     "output_type": "execute_result"
    }
   ],
   "source": [
    "os.listdir(\"../results\")"
   ]
  },
  {
   "cell_type": "code",
   "execution_count": 3,
   "metadata": {},
   "outputs": [
    {
     "data": {
      "text/plain": [
       "(2612, 1100)"
      ]
     },
     "execution_count": 3,
     "metadata": {},
     "output_type": "execute_result"
    }
   ],
   "source": [
    "df_profiles = pd.read_csv(\"../results/merged_drug_profiles_cells_sigmoid4_123.csv\").drop(\"Unnamed: 0\", axis=1)\n",
    "df_profiles.shape"
   ]
  },
  {
   "cell_type": "code",
   "execution_count": 4,
   "metadata": {},
   "outputs": [
    {
     "data": {
      "text/plain": [
       "True"
      ]
     },
     "execution_count": 4,
     "metadata": {},
     "output_type": "execute_result"
    }
   ],
   "source": [
    "\"MAX_CONC\" in df_profiles.columns"
   ]
  },
  {
   "cell_type": "code",
   "execution_count": 5,
   "metadata": {},
   "outputs": [
    {
     "data": {
      "text/plain": [
       "(265, 34)"
      ]
     },
     "execution_count": 5,
     "metadata": {},
     "output_type": "execute_result"
    }
   ],
   "source": [
    "df_drugs_properties = pd.read_csv(\"../results/drug_features_with_pubchem_properties.csv\").drop([\"Unnamed: 0\"], axis=1)\n",
    "df_drugs_properties.shape"
   ]
  },
  {
   "cell_type": "code",
   "execution_count": 6,
   "metadata": {},
   "outputs": [
    {
     "data": {
      "text/plain": [
       "(265, 253)"
      ]
     },
     "execution_count": 6,
     "metadata": {},
     "output_type": "execute_result"
    }
   ],
   "source": [
    "df_targets = pd.read_csv(\"../results/target_target_pathway_df.csv\").drop([\"Unnamed: 0\"], axis=1)\n",
    "df_targets.shape"
   ]
  },
  {
   "cell_type": "code",
   "execution_count": 7,
   "metadata": {},
   "outputs": [
    {
     "data": {
      "text/html": [
       "<div>\n",
       "<style scoped>\n",
       "    .dataframe tbody tr th:only-of-type {\n",
       "        vertical-align: middle;\n",
       "    }\n",
       "\n",
       "    .dataframe tbody tr th {\n",
       "        vertical-align: top;\n",
       "    }\n",
       "\n",
       "    .dataframe thead th {\n",
       "        text-align: right;\n",
       "    }\n",
       "</style>\n",
       "<table border=\"1\" class=\"dataframe\">\n",
       "  <thead>\n",
       "    <tr style=\"text-align: right;\">\n",
       "      <th></th>\n",
       "      <th>DRUG_ID</th>\n",
       "      <th>LOK</th>\n",
       "      <th>PDK1 (PDPK1)</th>\n",
       "      <th>PDGFRB</th>\n",
       "      <th>AURKB</th>\n",
       "      <th>IRAK1</th>\n",
       "      <th>Amyloid beta40</th>\n",
       "      <th>PPARdelta</th>\n",
       "      <th>VEGFR2</th>\n",
       "      <th>ERBB2</th>\n",
       "      <th>...</th>\n",
       "      <th>JNK and p38 signaling</th>\n",
       "      <th>Metabolism</th>\n",
       "      <th>Mitosis</th>\n",
       "      <th>Other</th>\n",
       "      <th>Other, kinases</th>\n",
       "      <th>PI3K/MTOR signaling</th>\n",
       "      <th>Protein stability and degradation</th>\n",
       "      <th>RTK signaling</th>\n",
       "      <th>WNT signaling</th>\n",
       "      <th>p53 pathway</th>\n",
       "    </tr>\n",
       "  </thead>\n",
       "  <tbody>\n",
       "    <tr>\n",
       "      <th>0</th>\n",
       "      <td>1</td>\n",
       "      <td>0</td>\n",
       "      <td>0</td>\n",
       "      <td>0</td>\n",
       "      <td>0</td>\n",
       "      <td>0</td>\n",
       "      <td>0</td>\n",
       "      <td>0</td>\n",
       "      <td>0</td>\n",
       "      <td>0</td>\n",
       "      <td>...</td>\n",
       "      <td>0</td>\n",
       "      <td>0</td>\n",
       "      <td>0</td>\n",
       "      <td>0</td>\n",
       "      <td>0</td>\n",
       "      <td>0</td>\n",
       "      <td>0</td>\n",
       "      <td>0</td>\n",
       "      <td>0</td>\n",
       "      <td>0</td>\n",
       "    </tr>\n",
       "    <tr>\n",
       "      <th>1</th>\n",
       "      <td>3</td>\n",
       "      <td>0</td>\n",
       "      <td>0</td>\n",
       "      <td>0</td>\n",
       "      <td>0</td>\n",
       "      <td>0</td>\n",
       "      <td>0</td>\n",
       "      <td>0</td>\n",
       "      <td>0</td>\n",
       "      <td>0</td>\n",
       "      <td>...</td>\n",
       "      <td>0</td>\n",
       "      <td>0</td>\n",
       "      <td>0</td>\n",
       "      <td>0</td>\n",
       "      <td>0</td>\n",
       "      <td>1</td>\n",
       "      <td>0</td>\n",
       "      <td>0</td>\n",
       "      <td>0</td>\n",
       "      <td>0</td>\n",
       "    </tr>\n",
       "  </tbody>\n",
       "</table>\n",
       "<p>2 rows × 253 columns</p>\n",
       "</div>"
      ],
      "text/plain": [
       "   DRUG_ID  LOK  PDK1 (PDPK1)  PDGFRB  AURKB  IRAK1  Amyloid beta40  \\\n",
       "0        1    0             0       0      0      0               0   \n",
       "1        3    0             0       0      0      0               0   \n",
       "\n",
       "   PPARdelta  VEGFR2  ERBB2  ...  JNK and p38 signaling  Metabolism  Mitosis  \\\n",
       "0          0       0      0  ...                      0           0        0   \n",
       "1          0       0      0  ...                      0           0        0   \n",
       "\n",
       "   Other  Other, kinases  PI3K/MTOR signaling  \\\n",
       "0      0               0                    0   \n",
       "1      0               0                    1   \n",
       "\n",
       "   Protein stability and degradation  RTK signaling  WNT signaling  \\\n",
       "0                                  0              0              0   \n",
       "1                                  0              0              0   \n",
       "\n",
       "   p53 pathway  \n",
       "0            0  \n",
       "1            0  \n",
       "\n",
       "[2 rows x 253 columns]"
      ]
     },
     "execution_count": 7,
     "metadata": {},
     "output_type": "execute_result"
    }
   ],
   "source": [
    "df_targets.head(2)"
   ]
  },
  {
   "cell_type": "code",
   "execution_count": 8,
   "metadata": {},
   "outputs": [
    {
     "name": "stdout",
     "output_type": "stream",
     "text": [
      "26\n"
     ]
    },
    {
     "data": {
      "text/plain": [
       "(8,\n",
       " {'DRUG_ID',\n",
       "  'Drug_Name',\n",
       "  'PubChem_ID',\n",
       "  'Synonyms',\n",
       "  'canonical_smiles',\n",
       "  'inchi_key',\n",
       "  'inchi_string',\n",
       "  'molecular_formula'})"
      ]
     },
     "execution_count": 8,
     "metadata": {},
     "output_type": "execute_result"
    }
   ],
   "source": [
    "with open(\"../results/X_PubChem_properties.txt\", 'r') as f:\n",
    "    X_PubChem_properties = [line.rstrip('\\n') for line in f]\n",
    "print(len(X_PubChem_properties))\n",
    "difference = set(df_drugs_properties.columns) - set(X_PubChem_properties)\n",
    "len(difference), difference"
   ]
  },
  {
   "cell_type": "code",
   "execution_count": 9,
   "metadata": {},
   "outputs": [
    {
     "data": {
      "text/html": [
       "<div>\n",
       "<style scoped>\n",
       "    .dataframe tbody tr th:only-of-type {\n",
       "        vertical-align: middle;\n",
       "    }\n",
       "\n",
       "    .dataframe tbody tr th {\n",
       "        vertical-align: top;\n",
       "    }\n",
       "\n",
       "    .dataframe thead th {\n",
       "        text-align: right;\n",
       "    }\n",
       "</style>\n",
       "<table border=\"1\" class=\"dataframe\">\n",
       "  <thead>\n",
       "    <tr style=\"text-align: right;\">\n",
       "      <th></th>\n",
       "      <th>DRUG_ID</th>\n",
       "      <th>Drug_Name</th>\n",
       "      <th>Synonyms</th>\n",
       "      <th>PubChem_ID</th>\n",
       "      <th>molecular_formula</th>\n",
       "      <th>canonical_smiles</th>\n",
       "      <th>inchi_string</th>\n",
       "      <th>inchi_key</th>\n",
       "      <th>molecular_weight</th>\n",
       "      <th>2bonds</th>\n",
       "      <th>...</th>\n",
       "      <th>B</th>\n",
       "      <th>I</th>\n",
       "      <th>Br</th>\n",
       "      <th>Cl</th>\n",
       "      <th>O</th>\n",
       "      <th>N</th>\n",
       "      <th>F</th>\n",
       "      <th>P</th>\n",
       "      <th>S</th>\n",
       "      <th>Pt</th>\n",
       "    </tr>\n",
       "  </thead>\n",
       "  <tbody>\n",
       "    <tr>\n",
       "      <th>0</th>\n",
       "      <td>1</td>\n",
       "      <td>Erlotinib</td>\n",
       "      <td>Tarceva, RG-1415, CP-358774, OSI-774, Ro-50823...</td>\n",
       "      <td>176870</td>\n",
       "      <td>C22H23N3O4</td>\n",
       "      <td>COCCOC1=C(C=C2C(=C1)C(=NC=N2)NC3=CC=CC(=C3)C#C...</td>\n",
       "      <td>InChI=1S/C22H23N3O4/c1-4-16-6-5-7-17(12-16)25-...</td>\n",
       "      <td>AAKJLRGGTJKAMG-UHFFFAOYSA-N</td>\n",
       "      <td>393.4</td>\n",
       "      <td>8.0</td>\n",
       "      <td>...</td>\n",
       "      <td>0.0</td>\n",
       "      <td>0.0</td>\n",
       "      <td>1.0</td>\n",
       "      <td>1.0</td>\n",
       "      <td>0.0</td>\n",
       "      <td>0.0</td>\n",
       "      <td>0.0</td>\n",
       "      <td>0.0</td>\n",
       "      <td>0.0</td>\n",
       "      <td>0.0</td>\n",
       "    </tr>\n",
       "    <tr>\n",
       "      <th>1</th>\n",
       "      <td>3</td>\n",
       "      <td>Rapamycin</td>\n",
       "      <td>AY-22989, Sirolimus, WY-090217, Torisel, Rapamune</td>\n",
       "      <td>5284616</td>\n",
       "      <td>C51H79NO13</td>\n",
       "      <td>CC1CCC2CC(C(=CC=CC=CC(CC(C(=O)C(C(C(=CC(C(=O)C...</td>\n",
       "      <td>InChI=1S/C51H79NO13/c1-30-16-12-11-13-17-31(2)...</td>\n",
       "      <td>QFJCIRLUMZQUOT-HPLJOQBZSA-N</td>\n",
       "      <td>914.2</td>\n",
       "      <td>9.0</td>\n",
       "      <td>...</td>\n",
       "      <td>0.0</td>\n",
       "      <td>0.0</td>\n",
       "      <td>1.0</td>\n",
       "      <td>1.0</td>\n",
       "      <td>0.0</td>\n",
       "      <td>0.0</td>\n",
       "      <td>0.0</td>\n",
       "      <td>0.0</td>\n",
       "      <td>0.0</td>\n",
       "      <td>0.0</td>\n",
       "    </tr>\n",
       "  </tbody>\n",
       "</table>\n",
       "<p>2 rows × 34 columns</p>\n",
       "</div>"
      ],
      "text/plain": [
       "   DRUG_ID  Drug_Name                                           Synonyms  \\\n",
       "0        1  Erlotinib  Tarceva, RG-1415, CP-358774, OSI-774, Ro-50823...   \n",
       "1        3  Rapamycin  AY-22989, Sirolimus, WY-090217, Torisel, Rapamune   \n",
       "\n",
       "   PubChem_ID molecular_formula  \\\n",
       "0      176870        C22H23N3O4   \n",
       "1     5284616        C51H79NO13   \n",
       "\n",
       "                                    canonical_smiles  \\\n",
       "0  COCCOC1=C(C=C2C(=C1)C(=NC=N2)NC3=CC=CC(=C3)C#C...   \n",
       "1  CC1CCC2CC(C(=CC=CC=CC(CC(C(=O)C(C(C(=CC(C(=O)C...   \n",
       "\n",
       "                                        inchi_string  \\\n",
       "0  InChI=1S/C22H23N3O4/c1-4-16-6-5-7-17(12-16)25-...   \n",
       "1  InChI=1S/C51H79NO13/c1-30-16-12-11-13-17-31(2)...   \n",
       "\n",
       "                     inchi_key  molecular_weight  2bonds  ...    B    I   Br  \\\n",
       "0  AAKJLRGGTJKAMG-UHFFFAOYSA-N             393.4     8.0  ...  0.0  0.0  1.0   \n",
       "1  QFJCIRLUMZQUOT-HPLJOQBZSA-N             914.2     9.0  ...  0.0  0.0  1.0   \n",
       "\n",
       "    Cl    O    N    F    P    S   Pt  \n",
       "0  1.0  0.0  0.0  0.0  0.0  0.0  0.0  \n",
       "1  1.0  0.0  0.0  0.0  0.0  0.0  0.0  \n",
       "\n",
       "[2 rows x 34 columns]"
      ]
     },
     "execution_count": 9,
     "metadata": {},
     "output_type": "execute_result"
    }
   ],
   "source": [
    "df_drugs_properties.head(2)"
   ]
  },
  {
   "cell_type": "markdown",
   "metadata": {},
   "source": [
    "### Merge data"
   ]
  },
  {
   "cell_type": "code",
   "execution_count": 10,
   "metadata": {},
   "outputs": [
    {
     "data": {
      "text/plain": [
       "(2612, 1380)"
      ]
     },
     "execution_count": 10,
     "metadata": {},
     "output_type": "execute_result"
    }
   ],
   "source": [
    "column_not_to_use = [\"Synonyms\", \"deriv_found\", \"PubChem_ID\",\n",
    "                    \"inchi_key\", \"canonical_smiles\", \"inchi_string\"]\n",
    "columns_to_use = set(df_drugs_properties.columns) - set(column_not_to_use)\n",
    "\n",
    "\n",
    "merged_df = pd.merge(left = df_profiles, right = df_drugs_properties[columns_to_use], on = \"DRUG_ID\") \n",
    "merged_df = pd.merge(left = merged_df, right = df_targets, on = \"DRUG_ID\") \n",
    " \n",
    "merged_df.shape"
   ]
  },
  {
   "cell_type": "code",
   "execution_count": 11,
   "metadata": {},
   "outputs": [
    {
     "name": "stdout",
     "output_type": "stream",
     "text": [
      "Number of cancer cell lines features: 1073\n",
      "Number of PubChem drug properties: 26\n",
      "Number of possible targets: 229\n",
      "Number of possible target pathways: 23\n",
      "\n",
      " Maximum number of features: 1351\n"
     ]
    }
   ],
   "source": [
    "_FOLDER = \"../results/\"\n",
    "# potential features for ML:\n",
    "# - X_cancer_cell_lines - 1073\n",
    "# - X_PubChem_properties - 26\n",
    "# - X_targets - 229\n",
    "# - X_target_pathway\n",
    "\n",
    "with open(_FOLDER+\"X_features_cancer_cell_lines.txt\", 'r') as f:\n",
    "    X_cancer_cell_lines = [line.rstrip('\\n') for line in f]\n",
    "print(\"Number of cancer cell lines features:\", len(X_cancer_cell_lines))\n",
    "# *****************************************\n",
    "\n",
    "with open(_FOLDER+\"X_PubChem_properties.txt\", 'r') as f:\n",
    "    X_PubChem_properties = [line.rstrip('\\n') for line in f]\n",
    "print(\"Number of PubChem drug properties:\", len(X_PubChem_properties))\n",
    "# *****************************************\n",
    "\n",
    "with open(_FOLDER+\"X_features_Targets.txt\", 'r') as f:\n",
    "    X_targets = [line.rstrip('\\n') for line in f]\n",
    "print(\"Number of possible targets:\", len(X_targets))\n",
    "# *****************************************\n",
    "\n",
    "with open(_FOLDER+\"X_features_Target_Pathway.txt\", 'r') as f:\n",
    "    X_target_pathway = [line.rstrip('\\n') for line in f]\n",
    "print(\"Number of possible target pathways:\", len(X_target_pathway))\n",
    "# *****************************************\n",
    "\n",
    "print(\"\\n Maximum number of features:\",len(X_cancer_cell_lines)+ len(X_PubChem_properties)+len(X_targets) + len(X_target_pathway))"
   ]
  },
  {
   "cell_type": "code",
   "execution_count": 12,
   "metadata": {},
   "outputs": [
    {
     "data": {
      "text/plain": [
       "(29,\n",
       " {'COSMIC_ID',\n",
       "  'DRUG_ID',\n",
       "  'Drug_Name',\n",
       "  'MAX_CONC',\n",
       "  'fd_num_0',\n",
       "  'fd_num_1',\n",
       "  'fd_num_2',\n",
       "  'fd_num_3',\n",
       "  'fd_num_4',\n",
       "  'fd_num_5',\n",
       "  'fd_num_6',\n",
       "  'fd_num_7',\n",
       "  'fd_num_8',\n",
       "  'fd_num_9',\n",
       "  'molecular_formula',\n",
       "  'norm_cells_0',\n",
       "  'norm_cells_1',\n",
       "  'norm_cells_2',\n",
       "  'norm_cells_3',\n",
       "  'norm_cells_4',\n",
       "  'norm_cells_5',\n",
       "  'norm_cells_6',\n",
       "  'norm_cells_7',\n",
       "  'norm_cells_8',\n",
       "  'norm_cells_9',\n",
       "  'param_1',\n",
       "  'param_2',\n",
       "  'param_3',\n",
       "  'param_4'})"
      ]
     },
     "execution_count": 12,
     "metadata": {},
     "output_type": "execute_result"
    }
   ],
   "source": [
    "difference = set(merged_df.columns) - set(X_cancer_cell_lines + X_PubChem_properties + X_targets + X_target_pathway)\n",
    "len(difference), difference"
   ]
  },
  {
   "cell_type": "markdown",
   "metadata": {},
   "source": [
    "### Exclude drugs that don't have PubChem_id"
   ]
  },
  {
   "cell_type": "code",
   "execution_count": 13,
   "metadata": {},
   "outputs": [
    {
     "name": "stdout",
     "output_type": "stream",
     "text": [
      "All drugs: 265, With known PubChem_Id: 249\n"
     ]
    }
   ],
   "source": [
    "drugs_with_pubchem_id = df_drugs_properties[df_drugs_properties[\"PubChem_ID\"]!=0][\"DRUG_ID\"]\n",
    "print(\"All drugs: %d, With known PubChem_Id: %d\" % (df_drugs_properties.shape[0], len(drugs_with_pubchem_id)))"
   ]
  },
  {
   "cell_type": "code",
   "execution_count": 14,
   "metadata": {},
   "outputs": [],
   "source": [
    "drugs_with_pubchem_id = df_drugs_properties[df_drugs_properties[\"PubChem_ID\"]!=0][\"DRUG_ID\"].values\n",
    "drugs_with_no_pubchem_id = df_drugs_properties[df_drugs_properties[\"PubChem_ID\"]==0][\"DRUG_ID\"].values\n",
    "\n",
    "with open(\"../results/drugs_with_pubchem_id.txt\", 'w') as f:\n",
    "    for s in drugs_with_pubchem_id:\n",
    "        f.write(str(s) + '\\n')\n",
    "with open(\"../results/drugs_with_no_pubchem_id.txt\", 'w') as f:\n",
    "    for s in drugs_with_no_pubchem_id:\n",
    "        f.write(str(s) + '\\n')"
   ]
  },
  {
   "cell_type": "code",
   "execution_count": 15,
   "metadata": {},
   "outputs": [],
   "source": [
    "filtered_drugs_with_pubchem_id = set(drugs_with_pubchem_id) & set(merged_df[\"DRUG_ID\"].unique())"
   ]
  },
  {
   "cell_type": "code",
   "execution_count": 16,
   "metadata": {},
   "outputs": [
    {
     "data": {
      "text/plain": [
       "(2585, 1380)"
      ]
     },
     "execution_count": 16,
     "metadata": {},
     "output_type": "execute_result"
    }
   ],
   "source": [
    "merged_df = merged_df.set_index(\"DRUG_ID\").loc[filtered_drugs_with_pubchem_id, :].reset_index()\n",
    "merged_df.shape"
   ]
  },
  {
   "cell_type": "markdown",
   "metadata": {},
   "source": [
    "### Save the data"
   ]
  },
  {
   "cell_type": "code",
   "execution_count": 17,
   "metadata": {},
   "outputs": [],
   "source": [
    "merged_df.to_csv(\"../results/merged_fitted_sigmoid4_123_with_drugs_properties.csv\")"
   ]
  }
 ],
 "metadata": {
  "anaconda-cloud": {},
  "kernelspec": {
   "display_name": "myspark",
   "language": "python",
   "name": "myspark"
  },
  "language_info": {
   "codemirror_mode": {
    "name": "ipython",
    "version": 3
   },
   "file_extension": ".py",
   "mimetype": "text/x-python",
   "name": "python",
   "nbconvert_exporter": "python",
   "pygments_lexer": "ipython3",
   "version": "3.6.10"
  }
 },
 "nbformat": 4,
 "nbformat_minor": 2
}
