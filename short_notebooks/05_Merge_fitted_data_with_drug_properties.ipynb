{
 "cells": [
  {
   "cell_type": "code",
   "execution_count": 1,
   "metadata": {
    "collapsed": true
   },
   "outputs": [],
   "source": [
    "import pandas as pd\n",
    "import numpy as np\n",
    "import warnings\n",
    "warnings.filterwarnings(\"ignore\")\n",
    "import os"
   ]
  },
  {
   "cell_type": "code",
   "execution_count": 2,
   "metadata": {},
   "outputs": [
    {
     "data": {
      "text/plain": [
       "['filtered_drug_profiles_123.csv',\n",
       " 'filtered_drug_profiles_12.csv',\n",
       " 'filtered_drug_profiles_13.csv',\n",
       " 'filtered_drug_profiles_23.csv',\n",
       " '.ipynb_checkpoints',\n",
       " 'merged_drug_profiles_sigmoid4_123.csv',\n",
       " 'drug_features_pubchem_id.csv',\n",
       " 'drug_features_with_pubchem_properties.csv',\n",
       " 'merged_fitted_sigmoid4_123_with_drugs_description.csv',\n",
       " 'merged_fitted_sigmoid4_123_with_drugs_properties.csv']"
      ]
     },
     "execution_count": 2,
     "metadata": {},
     "output_type": "execute_result"
    }
   ],
   "source": [
    "os.listdir(\"../results\")"
   ]
  },
  {
   "cell_type": "code",
   "execution_count": 3,
   "metadata": {
    "collapsed": true
   },
   "outputs": [],
   "source": [
    "df_profiles = pd.read_csv(\"../results/merged_drug_profiles_sigmoid4_123.csv\").drop(\"Unnamed: 0\", axis=1)\n",
    "df_drugs_0 = pd.read_csv(\"../results/drug_features_pubchem_id.csv\").drop([\"Unnamed: 0\", \"deriv_found\"], axis=1)\n",
    "df_drugs_1 = pd.read_csv(\"../results/drug_features_with_pubchem_properties.csv\").drop(\"Unnamed: 0\", axis=1)"
   ]
  },
  {
   "cell_type": "code",
   "execution_count": 4,
   "metadata": {},
   "outputs": [
    {
     "data": {
      "text/html": [
       "<div>\n",
       "<style scoped>\n",
       "    .dataframe tbody tr th:only-of-type {\n",
       "        vertical-align: middle;\n",
       "    }\n",
       "\n",
       "    .dataframe tbody tr th {\n",
       "        vertical-align: top;\n",
       "    }\n",
       "\n",
       "    .dataframe thead th {\n",
       "        text-align: right;\n",
       "    }\n",
       "</style>\n",
       "<table border=\"1\" class=\"dataframe\">\n",
       "  <thead>\n",
       "    <tr style=\"text-align: right;\">\n",
       "      <th></th>\n",
       "      <th>COSMIC_ID</th>\n",
       "      <th>DRUG_ID</th>\n",
       "      <th>fd_num_0</th>\n",
       "      <th>fd_num_1</th>\n",
       "      <th>fd_num_2</th>\n",
       "      <th>fd_num_3</th>\n",
       "      <th>fd_num_4</th>\n",
       "      <th>fd_num_5</th>\n",
       "      <th>fd_num_6</th>\n",
       "      <th>fd_num_7</th>\n",
       "      <th>...</th>\n",
       "      <th>chr9:104248247-104249501(C9orf125)_HypMET</th>\n",
       "      <th>chr9:115875199-115875738(C9orf109, C9orf110)_HypMET</th>\n",
       "      <th>chr9:123555399-123555899(FBXW2)_HypMET</th>\n",
       "      <th>chr9:140310894-140312457(EXD3)_HypMET</th>\n",
       "      <th>chr9:21974578-21975306(CDKN2A)_HypMET</th>\n",
       "      <th>chr9:35756948-35757339(MSMP)_HypMET</th>\n",
       "      <th>chr9:35791584-35791924(NPR2)_HypMET</th>\n",
       "      <th>chr9:4984543-4985630(JAK2)_HypMET</th>\n",
       "      <th>chr9:86571047-86572027(C9orf64)_HypMET</th>\n",
       "      <th>chr9:98783216-98784364(NCRNA00092)_HypMET</th>\n",
       "    </tr>\n",
       "  </thead>\n",
       "  <tbody>\n",
       "    <tr>\n",
       "      <th>0</th>\n",
       "      <td>909704</td>\n",
       "      <td>308</td>\n",
       "      <td>0</td>\n",
       "      <td>0.111111</td>\n",
       "      <td>0.222222</td>\n",
       "      <td>0.333333</td>\n",
       "      <td>0.444444</td>\n",
       "      <td>0.555556</td>\n",
       "      <td>0.666667</td>\n",
       "      <td>0.777778</td>\n",
       "      <td>...</td>\n",
       "      <td>0</td>\n",
       "      <td>0</td>\n",
       "      <td>0</td>\n",
       "      <td>0</td>\n",
       "      <td>0</td>\n",
       "      <td>0</td>\n",
       "      <td>0</td>\n",
       "      <td>0</td>\n",
       "      <td>0</td>\n",
       "      <td>0</td>\n",
       "    </tr>\n",
       "    <tr>\n",
       "      <th>1</th>\n",
       "      <td>909704</td>\n",
       "      <td>133</td>\n",
       "      <td>0</td>\n",
       "      <td>0.111111</td>\n",
       "      <td>0.222222</td>\n",
       "      <td>0.333333</td>\n",
       "      <td>0.444444</td>\n",
       "      <td>0.555556</td>\n",
       "      <td>0.666667</td>\n",
       "      <td>0.777778</td>\n",
       "      <td>...</td>\n",
       "      <td>0</td>\n",
       "      <td>0</td>\n",
       "      <td>0</td>\n",
       "      <td>0</td>\n",
       "      <td>0</td>\n",
       "      <td>0</td>\n",
       "      <td>0</td>\n",
       "      <td>0</td>\n",
       "      <td>0</td>\n",
       "      <td>0</td>\n",
       "    </tr>\n",
       "  </tbody>\n",
       "</table>\n",
       "<p>2 rows × 1099 columns</p>\n",
       "</div>"
      ],
      "text/plain": [
       "   COSMIC_ID  DRUG_ID  fd_num_0  fd_num_1  fd_num_2  fd_num_3  fd_num_4  \\\n",
       "0     909704      308         0  0.111111  0.222222  0.333333  0.444444   \n",
       "1     909704      133         0  0.111111  0.222222  0.333333  0.444444   \n",
       "\n",
       "   fd_num_5  fd_num_6  fd_num_7  ...  \\\n",
       "0  0.555556  0.666667  0.777778  ...   \n",
       "1  0.555556  0.666667  0.777778  ...   \n",
       "\n",
       "   chr9:104248247-104249501(C9orf125)_HypMET  \\\n",
       "0                                          0   \n",
       "1                                          0   \n",
       "\n",
       "   chr9:115875199-115875738(C9orf109, C9orf110)_HypMET  \\\n",
       "0                                                  0     \n",
       "1                                                  0     \n",
       "\n",
       "   chr9:123555399-123555899(FBXW2)_HypMET  \\\n",
       "0                                       0   \n",
       "1                                       0   \n",
       "\n",
       "   chr9:140310894-140312457(EXD3)_HypMET  \\\n",
       "0                                      0   \n",
       "1                                      0   \n",
       "\n",
       "   chr9:21974578-21975306(CDKN2A)_HypMET  chr9:35756948-35757339(MSMP)_HypMET  \\\n",
       "0                                      0                                    0   \n",
       "1                                      0                                    0   \n",
       "\n",
       "   chr9:35791584-35791924(NPR2)_HypMET  chr9:4984543-4985630(JAK2)_HypMET  \\\n",
       "0                                    0                                  0   \n",
       "1                                    0                                  0   \n",
       "\n",
       "   chr9:86571047-86572027(C9orf64)_HypMET  \\\n",
       "0                                       0   \n",
       "1                                       0   \n",
       "\n",
       "   chr9:98783216-98784364(NCRNA00092)_HypMET  \n",
       "0                                          0  \n",
       "1                                          0  \n",
       "\n",
       "[2 rows x 1099 columns]"
      ]
     },
     "execution_count": 4,
     "metadata": {},
     "output_type": "execute_result"
    }
   ],
   "source": [
    "df_profiles.head(2)"
   ]
  },
  {
   "cell_type": "code",
   "execution_count": 5,
   "metadata": {},
   "outputs": [
    {
     "data": {
      "text/html": [
       "<div>\n",
       "<style scoped>\n",
       "    .dataframe tbody tr th:only-of-type {\n",
       "        vertical-align: middle;\n",
       "    }\n",
       "\n",
       "    .dataframe tbody tr th {\n",
       "        vertical-align: top;\n",
       "    }\n",
       "\n",
       "    .dataframe thead th {\n",
       "        text-align: right;\n",
       "    }\n",
       "</style>\n",
       "<table border=\"1\" class=\"dataframe\">\n",
       "  <thead>\n",
       "    <tr style=\"text-align: right;\">\n",
       "      <th></th>\n",
       "      <th>DRUG_ID</th>\n",
       "      <th>Drug_Name</th>\n",
       "      <th>Synonyms</th>\n",
       "      <th>Target</th>\n",
       "      <th>deriv_found</th>\n",
       "      <th>PubChem_ID</th>\n",
       "      <th>molecular_weight</th>\n",
       "      <th>elements</th>\n",
       "      <th>2bonds</th>\n",
       "      <th>3bonds</th>\n",
       "      <th>...</th>\n",
       "      <th>S</th>\n",
       "      <th>Cl</th>\n",
       "      <th>N</th>\n",
       "      <th>F</th>\n",
       "      <th>P</th>\n",
       "      <th>H</th>\n",
       "      <th>O</th>\n",
       "      <th>Pt</th>\n",
       "      <th>B</th>\n",
       "      <th>Br</th>\n",
       "    </tr>\n",
       "  </thead>\n",
       "  <tbody>\n",
       "    <tr>\n",
       "      <th>0</th>\n",
       "      <td>1</td>\n",
       "      <td>Erlotinib</td>\n",
       "      <td>Tarceva, RG-1415, CP-358774, OSI-774, Ro-50823...</td>\n",
       "      <td>EGFR</td>\n",
       "      <td>1.0</td>\n",
       "      <td>176870</td>\n",
       "      <td>393.4</td>\n",
       "      <td>'C', 'N', 'H', 'O'</td>\n",
       "      <td>8.0</td>\n",
       "      <td>1.0</td>\n",
       "      <td>...</td>\n",
       "      <td>0.0</td>\n",
       "      <td>0.0</td>\n",
       "      <td>1.0</td>\n",
       "      <td>0.0</td>\n",
       "      <td>0.0</td>\n",
       "      <td>1.0</td>\n",
       "      <td>1.0</td>\n",
       "      <td>0.0</td>\n",
       "      <td>0.0</td>\n",
       "      <td>0.0</td>\n",
       "    </tr>\n",
       "    <tr>\n",
       "      <th>1</th>\n",
       "      <td>3</td>\n",
       "      <td>Rapamycin</td>\n",
       "      <td>AY-22989, Sirolimus, WY-090217, Torisel, Rapamune</td>\n",
       "      <td>MTORC1</td>\n",
       "      <td>1.0</td>\n",
       "      <td>5284616</td>\n",
       "      <td>914.2</td>\n",
       "      <td>'C', 'N', 'H', 'O'</td>\n",
       "      <td>9.0</td>\n",
       "      <td>0.0</td>\n",
       "      <td>...</td>\n",
       "      <td>0.0</td>\n",
       "      <td>0.0</td>\n",
       "      <td>1.0</td>\n",
       "      <td>0.0</td>\n",
       "      <td>0.0</td>\n",
       "      <td>1.0</td>\n",
       "      <td>1.0</td>\n",
       "      <td>0.0</td>\n",
       "      <td>0.0</td>\n",
       "      <td>0.0</td>\n",
       "    </tr>\n",
       "  </tbody>\n",
       "</table>\n",
       "<p>2 rows × 63 columns</p>\n",
       "</div>"
      ],
      "text/plain": [
       "   DRUG_ID  Drug_Name                                           Synonyms  \\\n",
       "0        1  Erlotinib  Tarceva, RG-1415, CP-358774, OSI-774, Ro-50823...   \n",
       "1        3  Rapamycin  AY-22989, Sirolimus, WY-090217, Torisel, Rapamune   \n",
       "\n",
       "   Target  deriv_found  PubChem_ID  molecular_weight            elements  \\\n",
       "0    EGFR          1.0      176870             393.4  'C', 'N', 'H', 'O'   \n",
       "1  MTORC1          1.0     5284616             914.2  'C', 'N', 'H', 'O'   \n",
       "\n",
       "   2bonds  3bonds  ...    S   Cl    N    F    P    H    O   Pt    B   Br  \n",
       "0     8.0     1.0  ...  0.0  0.0  1.0  0.0  0.0  1.0  1.0  0.0  0.0  0.0  \n",
       "1     9.0     0.0  ...  0.0  0.0  1.0  0.0  0.0  1.0  1.0  0.0  0.0  0.0  \n",
       "\n",
       "[2 rows x 63 columns]"
      ]
     },
     "execution_count": 5,
     "metadata": {},
     "output_type": "execute_result"
    }
   ],
   "source": [
    "df_drugs_1.head(2)"
   ]
  },
  {
   "cell_type": "markdown",
   "metadata": {},
   "source": [
    "### Merge data"
   ]
  },
  {
   "cell_type": "code",
   "execution_count": 6,
   "metadata": {
    "collapsed": true
   },
   "outputs": [],
   "source": [
    "column_not_to_use = [\"Synonyms\", \"Target\", \"deriv_found\", \"PubChem_ID\",\n",
    "                     \"elements\", \"inchi_key\", \"canonical_smiles\", \"inchi_string\"]\n",
    "columns_to_use_0 = set(df_drugs_0.columns) - set(column_not_to_use)\n",
    "columns_to_use_1 = set(df_drugs_1.columns) - set(column_not_to_use)"
   ]
  },
  {
   "cell_type": "code",
   "execution_count": 7,
   "metadata": {},
   "outputs": [
    {
     "data": {
      "text/plain": [
       "((2579, 1101), (2579, 1153))"
      ]
     },
     "execution_count": 7,
     "metadata": {},
     "output_type": "execute_result"
    }
   ],
   "source": [
    "merged_0 = pd.merge(left = df_profiles, right = df_drugs_0[columns_to_use_0], on = \"DRUG_ID\") \n",
    "merged_1 = pd.merge(left = df_profiles, right = df_drugs_1[columns_to_use_1], on = \"DRUG_ID\") \n",
    "merged_0.shape, merged_1.shape"
   ]
  },
  {
   "cell_type": "markdown",
   "metadata": {},
   "source": [
    "### Exclude drugs that don't have PubChem_id"
   ]
  },
  {
   "cell_type": "code",
   "execution_count": 8,
   "metadata": {},
   "outputs": [
    {
     "name": "stdout",
     "output_type": "stream",
     "text": [
      "All drugs: 265, With known PubChem_Id: 249\n"
     ]
    }
   ],
   "source": [
    "print(\"All drugs: %d, With known PubChem_Id: %d\" % (df_drugs_0.shape[0], df_drugs_0[df_drugs_0[\"PubChem_ID\"]!=0].shape[0]))"
   ]
  },
  {
   "cell_type": "code",
   "execution_count": 9,
   "metadata": {
    "collapsed": true
   },
   "outputs": [],
   "source": [
    "drugs_with_pubchem_id = df_drugs_0[df_drugs_0[\"PubChem_ID\"]!=0][\"DRUG_ID\"].values\n",
    "drugs_with_no_pubchem_id = df_drugs_0[df_drugs_0[\"PubChem_ID\"]==0][\"DRUG_ID\"].values"
   ]
  },
  {
   "cell_type": "code",
   "execution_count": 10,
   "metadata": {},
   "outputs": [],
   "source": [
    "filtered_drugs_with_pubchem_id = set(drugs_with_pubchem_id) & set(merged_0[\"DRUG_ID\"].unique())"
   ]
  },
  {
   "cell_type": "code",
   "execution_count": 11,
   "metadata": {},
   "outputs": [
    {
     "data": {
      "text/plain": [
       "((2552, 1101), (2552, 1153))"
      ]
     },
     "execution_count": 11,
     "metadata": {},
     "output_type": "execute_result"
    }
   ],
   "source": [
    "merged_0 = merged_0.set_index(\"DRUG_ID\").loc[filtered_drugs_with_pubchem_id, :].reset_index()\n",
    "merged_1 = merged_1.set_index(\"DRUG_ID\").loc[filtered_drugs_with_pubchem_id, :].reset_index()\n",
    "merged_0.shape, merged_1.shape"
   ]
  },
  {
   "cell_type": "markdown",
   "metadata": {},
   "source": [
    "### Save the data"
   ]
  },
  {
   "cell_type": "code",
   "execution_count": 12,
   "metadata": {
    "collapsed": true
   },
   "outputs": [],
   "source": [
    "merged_0.to_csv(\"../results/merged_fitted_sigmoid4_123_with_drugs_description.csv\")\n",
    "merged_1.to_csv(\"../results/merged_fitted_sigmoid4_123_with_drugs_properties.csv\")"
   ]
  }
 ],
 "metadata": {
  "anaconda-cloud": {},
  "kernelspec": {
   "display_name": "Python [conda env:jupyter-spark]",
   "language": "python",
   "name": "conda-env-jupyter-spark-py"
  },
  "language_info": {
   "codemirror_mode": {
    "name": "ipython",
    "version": 3
   },
   "file_extension": ".py",
   "mimetype": "text/x-python",
   "name": "python",
   "nbconvert_exporter": "python",
   "pygments_lexer": "ipython3",
   "version": "3.6.5"
  }
 },
 "nbformat": 4,
 "nbformat_minor": 2
}
