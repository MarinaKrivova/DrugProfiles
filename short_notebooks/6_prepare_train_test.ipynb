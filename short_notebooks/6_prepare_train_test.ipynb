{
 "cells": [
  {
   "cell_type": "code",
   "execution_count": 1,
   "metadata": {},
   "outputs": [],
   "source": [
    "import pandas as pd\n",
    "import numpy as np \n",
    "import os"
   ]
  },
  {
   "cell_type": "code",
   "execution_count": 2,
   "metadata": {},
   "outputs": [
    {
     "data": {
      "text/plain": [
       "['drug_cells_kernels_best_parameters.csv',\n",
       " 'X_features_1122_easy_read.txt',\n",
       " 'test02_merged_fitted_sigmoid4_123_with_drugs_properties.csv',\n",
       " 'drug_cells_PubChem_scaled_kernels_best_parameters.csv',\n",
       " '.DS_Store',\n",
       " 'merged_drug_profiles_cells_sigmoid4_123.csv',\n",
       " 'drugs_with_pubchem_id.txt',\n",
       " 'drug_features_with_pubchem_properties.csv',\n",
       " 'drug_ids_10.txt',\n",
       " 'drugs_with_no_pubchem_id.txt',\n",
       " 'statistics_of_sigmoid_coefficients.csv',\n",
       " 'target_target_pathway_df.csv',\n",
       " 'X_features_Targets.txt',\n",
       " 'train08_merged_fitted_sigmoid4_123_with_drugs_properties.csv',\n",
       " 'X_PubChem_features.txt',\n",
       " '.ipynb_checkpoints',\n",
       " 'X_columns_1094.txt',\n",
       " 'drug_cells_description_kernels_best_parameters.csv',\n",
       " 'filtered_drug_profiles_123.csv',\n",
       " 'X_PubChem_properties.txt',\n",
       " 'X_features_Target_Pathway.txt',\n",
       " 'merged_fitted_sigmoid4_123_with_drugs_properties.csv',\n",
       " 'drug_cells_PubChem_kernels_best_parameters.csv',\n",
       " 'X_features_cancer_cell_lines.txt']"
      ]
     },
     "execution_count": 2,
     "metadata": {},
     "output_type": "execute_result"
    }
   ],
   "source": [
    "os.listdir(\"../results\")"
   ]
  },
  {
   "cell_type": "markdown",
   "metadata": {},
   "source": [
    "### Drugs with properties"
   ]
  },
  {
   "cell_type": "code",
   "execution_count": 3,
   "metadata": {},
   "outputs": [
    {
     "data": {
      "text/plain": [
       "(2585, 1381)"
      ]
     },
     "execution_count": 3,
     "metadata": {},
     "output_type": "execute_result"
    }
   ],
   "source": [
    "df = pd.read_csv(\"../results/merged_fitted_sigmoid4_123_with_drugs_properties.csv\")\n",
    "df.shape"
   ]
  },
  {
   "cell_type": "markdown",
   "metadata": {},
   "source": [
    "#### Split into train and test data with more than 10 record per drug"
   ]
  },
  {
   "cell_type": "code",
   "execution_count": 4,
   "metadata": {},
   "outputs": [
    {
     "data": {
      "text/plain": [
       "69"
      ]
     },
     "execution_count": 4,
     "metadata": {},
     "output_type": "execute_result"
    }
   ],
   "source": [
    "gr = df.groupby(\"DRUG_ID\").size()\n",
    "drugs = gr[gr>10].index\n",
    "\n",
    "with open(\"../results/drug_ids_10.txt\", 'w') as f:\n",
    "    for s in drugs:\n",
    "        f.write(str(s) + '\\n')\n",
    "\n",
    "len(drugs)"
   ]
  },
  {
   "cell_type": "code",
   "execution_count": 8,
   "metadata": {},
   "outputs": [
    {
     "data": {
      "text/plain": [
       "((1843, 1381), (496, 1381))"
      ]
     },
     "execution_count": 8,
     "metadata": {},
     "output_type": "execute_result"
    }
   ],
   "source": [
    "train_ratio = 0.8\n",
    "train = pd.DataFrame()\n",
    "test = pd.DataFrame()\n",
    "np.random.seed(123)\n",
    "indexes = np.random.permutation(df.index)\n",
    "\n",
    "for drug_id in drugs:\n",
    "    df_i = df[df[\"DRUG_ID\"]==drug_id]\n",
    "    indexes = np.random.permutation(df_i.index)\n",
    "    train_size = int(df_i.shape[0]*train_ratio)\n",
    "    indexes_train = indexes[:train_size]\n",
    "    indexes_test = indexes[train_size:]\n",
    "    train = pd.concat([train, df_i.loc[indexes_train, :]])\n",
    "    test = pd.concat([test, df_i.loc[indexes_test, :]])\n",
    "    \n",
    "train.to_csv(\"../results/train08_merged_fitted_sigmoid4_123_with_drugs_properties_min10.csv\")\n",
    "test.to_csv(\"../results/test02_merged_fitted_sigmoid4_123_with_drugs_properties_min10.csv\")    \n",
    "train.shape, test.shape"
   ]
  },
  {
   "cell_type": "code",
   "execution_count": 9,
   "metadata": {},
   "outputs": [
    {
     "data": {
      "text/plain": [
       "(1843, 496, 2339, 2339)"
      ]
     },
     "execution_count": 9,
     "metadata": {},
     "output_type": "execute_result"
    }
   ],
   "source": [
    "train.shape[0], test.shape[0], train.shape[0]+test.shape[0], df.set_index(\"DRUG_ID\").loc[drugs,:].shape[0]"
   ]
  },
  {
   "cell_type": "code",
   "execution_count": 10,
   "metadata": {},
   "outputs": [
    {
     "data": {
      "text/plain": [
       "True"
      ]
     },
     "execution_count": 10,
     "metadata": {},
     "output_type": "execute_result"
    }
   ],
   "source": [
    "\"MAX_CONC\" in train.columns"
   ]
  },
  {
   "cell_type": "code",
   "execution_count": null,
   "metadata": {},
   "outputs": [],
   "source": []
  }
 ],
 "metadata": {
  "kernelspec": {
   "display_name": "myspark",
   "language": "python",
   "name": "myspark"
  },
  "language_info": {
   "codemirror_mode": {
    "name": "ipython",
    "version": 3
   },
   "file_extension": ".py",
   "mimetype": "text/x-python",
   "name": "python",
   "nbconvert_exporter": "python",
   "pygments_lexer": "ipython3",
   "version": "3.6.10"
  }
 },
 "nbformat": 4,
 "nbformat_minor": 4
}
