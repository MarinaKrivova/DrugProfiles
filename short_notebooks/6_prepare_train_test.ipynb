{
 "cells": [
  {
   "cell_type": "code",
   "execution_count": 1,
   "metadata": {},
   "outputs": [],
   "source": [
    "import pandas as pd\n",
    "import numpy as np \n",
    "import os"
   ]
  },
  {
   "cell_type": "code",
   "execution_count": 2,
   "metadata": {},
   "outputs": [
    {
     "data": {
      "text/plain": [
       "['test02_merged_fitted_sigmoid4_123_with_drugs_properties.csv',\n",
       " 'test02_merged_fitted_sigmoid4_123_with_drugs_description.csv',\n",
       " 'drug_features_with_pubchem_properties.csv',\n",
       " 'merged_fitted_sigmoid4_123_with_drugs_description.csv',\n",
       " 'filtered_drug_profiles_13.csv',\n",
       " 'merged_fitted_sigmoid4_123_with_drugs_properties_split_target.csv',\n",
       " 'filtered_drug_profiles_12.csv',\n",
       " 'merged_fitted_sigmoid4_123_with_drugs_description_split_target.csv',\n",
       " 'drug_features_pubchem_id.csv',\n",
       " 'train08_merged_fitted_sigmoid4_123_with_drugs_description.csv',\n",
       " 'train08_merged_fitted_sigmoid4_123_with_drugs_properties.csv',\n",
       " 'filtered_drug_profiles_23.csv',\n",
       " 'merged_drug_profiles_sigmoid4_123.csv',\n",
       " '.ipynb_checkpoints',\n",
       " 'filtered_drug_profiles_123.csv',\n",
       " 'merged_fitted_sigmoid4_123_with_drugs_properties.csv']"
      ]
     },
     "execution_count": 2,
     "metadata": {},
     "output_type": "execute_result"
    }
   ],
   "source": [
    "os.listdir(\"../results\")"
   ]
  },
  {
   "cell_type": "markdown",
   "metadata": {},
   "source": [
    "### Drugs with properties"
   ]
  },
  {
   "cell_type": "code",
   "execution_count": 3,
   "metadata": {},
   "outputs": [],
   "source": [
    "df = pd.read_csv(\"../results/merged_fitted_sigmoid4_123_with_drugs_properties.csv\")"
   ]
  },
  {
   "cell_type": "markdown",
   "metadata": {},
   "source": [
    "#### Add \"MAX_CONC\" column"
   ]
  },
  {
   "cell_type": "code",
   "execution_count": 4,
   "metadata": {},
   "outputs": [
    {
     "data": {
      "text/plain": [
       "False"
      ]
     },
     "execution_count": 4,
     "metadata": {},
     "output_type": "execute_result"
    }
   ],
   "source": [
    "\"MAX_CONC\" in df.columns"
   ]
  },
  {
   "cell_type": "code",
   "execution_count": 5,
   "metadata": {},
   "outputs": [
    {
     "name": "stderr",
     "output_type": "stream",
     "text": [
      "/Users/Marina/anaconda3/envs/myspark/lib/python3.6/site-packages/IPython/core/interactiveshell.py:3072: DtypeWarning: Columns (28,30,31,33,34) have mixed types.Specify dtype option on import or set low_memory=False.\n",
      "  interactivity=interactivity, compiler=compiler, result=result)\n"
     ]
    },
    {
     "data": {
      "text/plain": [
       "Index(['Unnamed: 0', 'CELL_LINE_NAME', 'COSMIC_ID', 'DRUG_ID',\n",
       "       'DRUGID_COSMICID', 'FOLD_DILUTION', 'MAX_CONC', 'fd_num_0', 'fd_num_1',\n",
       "       'fd_num_2', 'fd_num_3', 'fd_num_4', 'fd_num_5', 'fd_num_6', 'fd_num_7',\n",
       "       'fd_num_8', 'fd_num_9', 'norm_cells_0', 'norm_cells_1', 'norm_cells_2',\n",
       "       'norm_cells_3', 'norm_cells_4', 'norm_cells_5', 'norm_cells_6',\n",
       "       'norm_cells_7', 'norm_cells_8', 'norm_cells_9', 'per_slope_change_0',\n",
       "       'per_slope_change_1', 'per_slope_change_2', 'per_slope_change_3',\n",
       "       'per_slope_change_4', 'per_slope_change_5', 'per_slope_change_6',\n",
       "       'per_slope_change_7', 'slope_0', 'slope_1', 'slope_2', 'slope_3',\n",
       "       'slope_4', 'slope_5', 'slope_6', 'slope_7', 'slope_8'],\n",
       "      dtype='object')"
      ]
     },
     "execution_count": 5,
     "metadata": {},
     "output_type": "execute_result"
    }
   ],
   "source": [
    "df_profiles = pd.read_csv(\"../data/normalised_dose_response_data.csv\")\n",
    "df_profiles.columns"
   ]
  },
  {
   "cell_type": "code",
   "execution_count": 6,
   "metadata": {},
   "outputs": [],
   "source": [
    "df = pd.merge(df, df_profiles[[\"DRUG_ID\", \"COSMIC_ID\", \"MAX_CONC\"]], on=[\"DRUG_ID\", \"COSMIC_ID\"])"
   ]
  },
  {
   "cell_type": "markdown",
   "metadata": {},
   "source": [
    "#### Split into train and test data with more than 10 record per drug"
   ]
  },
  {
   "cell_type": "code",
   "execution_count": 7,
   "metadata": {},
   "outputs": [
    {
     "data": {
      "text/plain": [
       "((1817, 1155), (486, 1155))"
      ]
     },
     "execution_count": 7,
     "metadata": {},
     "output_type": "execute_result"
    }
   ],
   "source": [
    "gr = df.groupby(\"DRUG_ID\").size()\n",
    "drugs = gr[gr>10].index\n",
    "len(drugs)\n",
    "\n",
    "train_ratio = 0.8\n",
    "train = pd.DataFrame()\n",
    "test = pd.DataFrame()\n",
    "np.random.seed(123)\n",
    "indexes = np.random.permutation(df.index)\n",
    "for drug_id in drugs:\n",
    "    df_i = df[df[\"DRUG_ID\"]==drug_id]\n",
    "    indexes = np.random.permutation(df_i.index)\n",
    "    train_size = int(df_i.shape[0]*train_ratio)\n",
    "    indexes_train = indexes[:train_size]\n",
    "    indexes_test = indexes[train_size:]\n",
    "    train = pd.concat([train, df_i.loc[indexes_train, :]])\n",
    "    test = pd.concat([test, df_i.loc[indexes_test, :]])\n",
    "    \n",
    "train.to_csv(\"../results/train08_merged_fitted_sigmoid4_123_with_drugs_properties.csv\")\n",
    "test.to_csv(\"../results/test02_merged_fitted_sigmoid4_123_with_drugs_properties.csv\")    \n",
    "train.shape, test.shape"
   ]
  },
  {
   "cell_type": "code",
   "execution_count": 8,
   "metadata": {},
   "outputs": [
    {
     "data": {
      "text/plain": [
       "(2303, 2303)"
      ]
     },
     "execution_count": 8,
     "metadata": {},
     "output_type": "execute_result"
    }
   ],
   "source": [
    "train.shape[0]+test.shape[0], df.set_index(\"DRUG_ID\").loc[drugs,:].shape[0]"
   ]
  },
  {
   "cell_type": "code",
   "execution_count": 9,
   "metadata": {},
   "outputs": [
    {
     "data": {
      "text/plain": [
       "True"
      ]
     },
     "execution_count": 9,
     "metadata": {},
     "output_type": "execute_result"
    }
   ],
   "source": [
    "\"MAX_CONC\" in train.columns"
   ]
  },
  {
   "cell_type": "markdown",
   "metadata": {},
   "source": [
    "### Just drug description and cell lines"
   ]
  },
  {
   "cell_type": "code",
   "execution_count": 10,
   "metadata": {},
   "outputs": [],
   "source": [
    "df = pd.read_csv(\"../results/merged_fitted_sigmoid4_123_with_drugs_description.csv\")\n",
    "\n",
    "gr = df.groupby(\"DRUG_ID\").size()\n",
    "drugs = gr[gr>10].index\n",
    "len(drugs)\n",
    "\n",
    "train_ratio = 0.8\n",
    "train = pd.DataFrame()\n",
    "test = pd.DataFrame()\n",
    "np.random.seed(123)\n",
    "indexes = np.random.permutation(df.index)\n",
    "for drug_id in drugs:\n",
    "    df_i = df[df[\"DRUG_ID\"]==drug_id]\n",
    "    indexes = np.random.permutation(df_i.index)\n",
    "    train_size = int(df_i.shape[0]*train_ratio)\n",
    "    indexes_train = indexes[:train_size]\n",
    "    indexes_test = indexes[train_size:]\n",
    "    train = pd.concat([train, df_i.loc[indexes_train, :]])\n",
    "    test = pd.concat([test, df_i.loc[indexes_test, :]])\n",
    "    \n",
    "train.to_csv(\"../results/train08_merged_fitted_sigmoid4_123_with_drugs_description.csv\")\n",
    "test.to_csv(\"../results/test02_merged_fitted_sigmoid4_123_with_drugs_description.csv\")"
   ]
  }
 ],
 "metadata": {
  "kernelspec": {
   "display_name": "myspark",
   "language": "python",
   "name": "myspark"
  },
  "language_info": {
   "codemirror_mode": {
    "name": "ipython",
    "version": 3
   },
   "file_extension": ".py",
   "mimetype": "text/x-python",
   "name": "python",
   "nbconvert_exporter": "python",
   "pygments_lexer": "ipython3",
   "version": "3.6.10"
  }
 },
 "nbformat": 4,
 "nbformat_minor": 4
}
